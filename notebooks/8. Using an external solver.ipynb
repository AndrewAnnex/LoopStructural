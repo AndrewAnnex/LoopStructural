{
 "cells": [
  {
   "cell_type": "markdown",
   "metadata": {},
   "source": [
    "# Using an external solver discrete implicit modelling\n",
    "The core to discrete implicit modelling is solving a series of linear equations in a least squares sense. \n",
    "The `DiscreteInterpolator` class handles the assembly of this system for the geological observations and the regularisation terms. \n",
    "The solution to the least squares problem can be found by finding the solution to the matrix equation:\n",
    "\\begin{equation}\n",
    "Ax = b\n",
    "\\end{equation}\n",
    "The matrix A is a $n x m$ matrix where $n$ is the number of equations (interpolation constraints + regularisation constraints) and $m$ is the number of nodes for the discrete support.  \n",
    "Most solvers require a square matrix. The equations above can be transformed into a square system where the transpose of A ($A^T$) is multiplied by the matrix system of equations becoming:\n",
    "\\begin{equation}\n",
    "A^TAx=A^Tb\n",
    "\\end{equation}\n",
    "\n",
    "LoopStructural implements different solvers for finding the solution to these equations - the default solver is the iterative conjugate gradeint method from scipy. Alternatives are the cholesky decomposition provided by suitesparse and scikit-sparse as well as the lower upper decomposition provided by scipy.\n",
    "\n",
    "This tutorial will demonstrate how an external solver can be used for solving the system of equations. \n",
    "\n",
    "The tutorial will use the dataset from [quickstart implicit surface modelling](1.&#32;Quickstart&#32;implicit&#32;surface&#32;modelling&#32;-&#32;Claudius&#32;data.ipynb)"
   ]
  },
  {
   "cell_type": "markdown",
   "metadata": {},
   "source": [
    "### Setting up the interpolator"
   ]
  },
  {
   "cell_type": "code",
   "execution_count": 3,
   "metadata": {
    "ExecuteTime": {
     "end_time": "2019-10-09T06:33:56.448474Z",
     "start_time": "2019-10-09T06:33:55.654992Z"
    },
    "scrolled": true
   },
   "outputs": [],
   "source": [
    "from LoopStructural.interpolators.piecewiselinear_interpolator import PiecewiseLinearInterpolator as PLI\n",
    "from LoopStructural.supports.tet_mesh import TetMesh\n",
    "from LoopStructural.modelling.features.geological_feature import GeologicalFeatureInterpolator\n",
    "from LoopStructural.visualisation.model_visualisation import LavaVuModelViewer\n",
    "\n",
    "import numpy as np\n",
    "import lavavu\n",
    "import matplotlib.pyplot as plt\n",
    "import pandas as pd\n",
    "import glob\n",
    "%matplotlib inline"
   ]
  },
  {
   "cell_type": "code",
   "execution_count": 4,
   "metadata": {
    "ExecuteTime": {
     "end_time": "2019-10-09T06:33:59.383421Z",
     "start_time": "2019-10-09T06:33:56.455089Z"
    }
   },
   "outputs": [],
   "source": [
    "dips = pd.read_csv('data/Dips.csv',delimiter=';')\n",
    "# import all of the csv into the same dataframe use glob to find all files matching pattern\n",
    "dfs = []\n",
    "for f in glob.glob('data/*Points.csv'):\n",
    "    dfs.append(pd.read_csv(f,delimiter=';'))\n",
    "points = pd.concat(dfs,axis=0,ignore_index=True)\n",
    "\n",
    "dfs = []\n",
    "for f in glob.glob('data/*Section.csv'):\n",
    "    dfs.append(pd.read_csv(f,delimiter=';'))\n",
    "sections = pd.concat(dfs,axis=0,ignore_index=True)\n",
    "boundary_points = np.zeros((2,3))\n",
    "boundary_points[0,0] = 548800\n",
    "boundary_points[0,1] = 7816600\n",
    "boundary_points[0,2] = -11010\n",
    "boundary_points[1,0] = 552500\n",
    "boundary_points[1,1] = 7822000\n",
    "boundary_points[1,2] = -8400\n",
    "\n",
    "# build the mesh\n",
    "mesh = TetMesh()\n",
    "mesh.setup_mesh(boundary_points, n_tetra=50000,)\n",
    "\n",
    "# link mesh to the interpolator \n",
    "interpolator = PLI(mesh)\n",
    "stratigraphy_builder = GeologicalFeatureInterpolator(\n",
    "    interpolator=interpolator,\n",
    "    name='stratigraphy')\n",
    "solver = 'cg'\n",
    "for i, r in points.iterrows():\n",
    "    stratigraphy_builder.add_point([r['X'],r['Y'],r['Z']],r['Strati'])#xy[0][0],xy[1][0],z],r['value'],itype=r['itype'])\n",
    "for i, r in sections.iterrows():\n",
    "    stratigraphy_builder.add_point([r['X'],r['Y'],r['Z']],r['Strati'])#xy[0][0],xy[1][0],z],r['value'],itype=r['itype'])\n",
    "for i, r in dips.iterrows():\n",
    "    stratigraphy_builder.add_planar_constraint([r['X'],r['Y'],r['Z']],[r['OrientX'],r['OrientY'],r['OrientZ']])\n"
   ]
  },
  {
   "cell_type": "markdown",
   "metadata": {},
   "source": [
    "### Define an external solver as a function\n",
    "An external solver can be passed to the feature builder by using the kwarg `solver=external` and `external=solve` where solve is a function of the form below. For example, below we use pyamg \n",
    "```Python\n",
    "def solve(A,B):\n",
    "    return c\n",
    "```"
   ]
  },
  {
   "cell_type": "code",
   "execution_count": 7,
   "metadata": {
    "ExecuteTime": {
     "end_time": "2019-10-09T06:34:14.736237Z",
     "start_time": "2019-10-09T06:34:14.730838Z"
    }
   },
   "outputs": [],
   "source": [
    "import pyamg\n",
    "def solve_pyamg(A,B):\n",
    "#     m1 = pyamg.solve(A)\n",
    "    m1 = pyamg.smoothed_aggregation_solver(A)\n",
    "    return m1.solve(B,maxiter=100,tol=1e-8,accel='cg')"
   ]
  },
  {
   "cell_type": "code",
   "execution_count": 8,
   "metadata": {
    "ExecuteTime": {
     "end_time": "2019-10-09T06:34:17.344989Z",
     "start_time": "2019-10-09T06:34:15.267588Z"
    }
   },
   "outputs": [
    {
     "name": "stderr",
     "output_type": "stream",
     "text": [
      "2019-10-09 17:34:16,428 LoopStructural.interpolators.discete_interpolator WARNING  Using external solver\n"
     ]
    }
   ],
   "source": [
    "stratigraphy = stratigraphy_builder.build(solver='external',external=solve_pyamg,cpw=1,cgw=0.1)"
   ]
  }
 ],
 "metadata": {
  "kernelspec": {
   "display_name": "LoopStructural",
   "language": "python",
   "name": "loopstructural"
  },
  "language_info": {
   "codemirror_mode": {
    "name": "ipython",
    "version": 3
   },
   "file_extension": ".py",
   "mimetype": "text/x-python",
   "name": "python",
   "nbconvert_exporter": "python",
   "pygments_lexer": "ipython3",
   "version": "3.6.8"
  },
  "varInspector": {
   "cols": {
    "lenName": 16,
    "lenType": 16,
    "lenVar": 40
   },
   "kernels_config": {
    "python": {
     "delete_cmd_postfix": "",
     "delete_cmd_prefix": "del ",
     "library": "var_list.py",
     "varRefreshCmd": "print(var_dic_list())"
    },
    "r": {
     "delete_cmd_postfix": ") ",
     "delete_cmd_prefix": "rm(",
     "library": "var_list.r",
     "varRefreshCmd": "cat(var_dic_list()) "
    }
   },
   "types_to_exclude": [
    "module",
    "function",
    "builtin_function_or_method",
    "instance",
    "_Feature"
   ],
   "window_display": false
  }
 },
 "nbformat": 4,
 "nbformat_minor": 4
}
