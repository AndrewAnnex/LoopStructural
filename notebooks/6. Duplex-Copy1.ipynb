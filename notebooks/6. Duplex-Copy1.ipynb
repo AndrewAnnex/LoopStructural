{
 "cells": [
  {
   "cell_type": "markdown",
   "metadata": {},
   "source": [
    "# Example 04 2.5 duplex"
   ]
  },
  {
   "cell_type": "code",
   "execution_count": 1,
   "metadata": {
    "ExecuteTime": {
     "end_time": "2019-11-10T06:10:05.362347Z",
     "start_time": "2019-11-10T06:10:04.163934Z"
    }
   },
   "outputs": [],
   "source": [
    "from LoopStructural import GeologicalModel\n",
    "from LoopStructural.visualisation.model_visualisation import LavaVuModelViewer\n",
    "import numpy as np\n",
    "import pandas as pd"
   ]
  },
  {
   "cell_type": "code",
   "execution_count": 2,
   "metadata": {
    "ExecuteTime": {
     "end_time": "2019-11-10T06:10:05.370646Z",
     "start_time": "2019-11-10T06:10:05.364162Z"
    },
    "code_folding": []
   },
   "outputs": [],
   "source": [
    "class RegionFeature:\n",
    "    def __init__(self, function):\n",
    "        self.function = function\n",
    "        self.name = 'region'\n",
    "    def evaluate_value(self, pos):\n",
    "        return self.function(pos).astype(float)\n",
    "    def mean(self):\n",
    "        return 0\n",
    "    def max(self):\n",
    "        return 1\n",
    "    def min(self):\n",
    "        return -1\n",
    "    def name(self):\n",
    "        return 'region'"
   ]
  },
  {
   "cell_type": "code",
   "execution_count": 3,
   "metadata": {
    "ExecuteTime": {
     "end_time": "2019-11-10T06:10:05.379411Z",
     "start_time": "2019-11-10T06:10:05.373062Z"
    }
   },
   "outputs": [],
   "source": [
    "boundary_points = np.zeros((2,3))\n",
    "boundary_points[0,0] = -40\n",
    "boundary_points[0,1] = -5\n",
    "boundary_points[0,2] = -10\n",
    "boundary_points[1,0] = 40\n",
    "boundary_points[1,1] = 5\n",
    "boundary_points[1,2] = 10"
   ]
  },
  {
   "cell_type": "code",
   "execution_count": 4,
   "metadata": {
    "ExecuteTime": {
     "end_time": "2019-11-10T06:10:05.408546Z",
     "start_time": "2019-11-10T06:10:05.381049Z"
    }
   },
   "outputs": [
    {
     "data": {
      "text/html": [
       "<div>\n",
       "<style scoped>\n",
       "    .dataframe tbody tr th:only-of-type {\n",
       "        vertical-align: middle;\n",
       "    }\n",
       "\n",
       "    .dataframe tbody tr th {\n",
       "        vertical-align: top;\n",
       "    }\n",
       "\n",
       "    .dataframe thead th {\n",
       "        text-align: right;\n",
       "    }\n",
       "</style>\n",
       "<table border=\"1\" class=\"dataframe\">\n",
       "  <thead>\n",
       "    <tr style=\"text-align: right;\">\n",
       "      <th></th>\n",
       "      <th>X</th>\n",
       "      <th>Y</th>\n",
       "      <th>Z</th>\n",
       "      <th>val</th>\n",
       "      <th>type</th>\n",
       "      <th>nx</th>\n",
       "      <th>ny</th>\n",
       "      <th>nz</th>\n",
       "      <th>coord</th>\n",
       "    </tr>\n",
       "  </thead>\n",
       "  <tbody>\n",
       "    <tr>\n",
       "      <td>0</td>\n",
       "      <td>6.10</td>\n",
       "      <td>0.1</td>\n",
       "      <td>1.1</td>\n",
       "      <td>0.0</td>\n",
       "      <td>s0</td>\n",
       "      <td>NaN</td>\n",
       "      <td>NaN</td>\n",
       "      <td>NaN</td>\n",
       "      <td>NaN</td>\n",
       "    </tr>\n",
       "    <tr>\n",
       "      <td>1</td>\n",
       "      <td>6.10</td>\n",
       "      <td>0.1</td>\n",
       "      <td>2.1</td>\n",
       "      <td>1.0</td>\n",
       "      <td>s0</td>\n",
       "      <td>NaN</td>\n",
       "      <td>NaN</td>\n",
       "      <td>NaN</td>\n",
       "      <td>NaN</td>\n",
       "    </tr>\n",
       "    <tr>\n",
       "      <td>0</td>\n",
       "      <td>1.00</td>\n",
       "      <td>1.0</td>\n",
       "      <td>1.0</td>\n",
       "      <td>NaN</td>\n",
       "      <td>s0</td>\n",
       "      <td>0.0</td>\n",
       "      <td>-0.0</td>\n",
       "      <td>1.0</td>\n",
       "      <td>NaN</td>\n",
       "    </tr>\n",
       "    <tr>\n",
       "      <td>0</td>\n",
       "      <td>-18.17</td>\n",
       "      <td>-5.0</td>\n",
       "      <td>-4.0</td>\n",
       "      <td>0.0</td>\n",
       "      <td>fault1</td>\n",
       "      <td>NaN</td>\n",
       "      <td>NaN</td>\n",
       "      <td>NaN</td>\n",
       "      <td>0.0</td>\n",
       "    </tr>\n",
       "    <tr>\n",
       "      <td>1</td>\n",
       "      <td>-15.17</td>\n",
       "      <td>-5.0</td>\n",
       "      <td>-4.0</td>\n",
       "      <td>0.0</td>\n",
       "      <td>fault1</td>\n",
       "      <td>NaN</td>\n",
       "      <td>NaN</td>\n",
       "      <td>NaN</td>\n",
       "      <td>0.0</td>\n",
       "    </tr>\n",
       "  </tbody>\n",
       "</table>\n",
       "</div>"
      ],
      "text/plain": [
       "       X    Y    Z  val    type   nx   ny   nz  coord\n",
       "0   6.10  0.1  1.1  0.0      s0  NaN  NaN  NaN    NaN\n",
       "1   6.10  0.1  2.1  1.0      s0  NaN  NaN  NaN    NaN\n",
       "0   1.00  1.0  1.0  NaN      s0  0.0 -0.0  1.0    NaN\n",
       "0 -18.17 -5.0 -4.0  0.0  fault1  NaN  NaN  NaN    0.0\n",
       "1 -15.17 -5.0 -4.0  0.0  fault1  NaN  NaN  NaN    0.0"
      ]
     },
     "execution_count": 4,
     "metadata": {},
     "output_type": "execute_result"
    }
   ],
   "source": [
    "data = pd.read_pickle('duplex.pkl')\n",
    "data = data.rename(columns = {\"V\":\"val\"})\n",
    "data.head()"
   ]
  },
  {
   "cell_type": "code",
   "execution_count": 5,
   "metadata": {
    "ExecuteTime": {
     "end_time": "2019-11-10T06:10:05.425658Z",
     "start_time": "2019-11-10T06:10:05.409995Z"
    }
   },
   "outputs": [
    {
     "data": {
      "text/html": [
       "<div>\n",
       "<style scoped>\n",
       "    .dataframe tbody tr th:only-of-type {\n",
       "        vertical-align: middle;\n",
       "    }\n",
       "\n",
       "    .dataframe tbody tr th {\n",
       "        vertical-align: top;\n",
       "    }\n",
       "\n",
       "    .dataframe thead th {\n",
       "        text-align: right;\n",
       "    }\n",
       "</style>\n",
       "<table border=\"1\" class=\"dataframe\">\n",
       "  <thead>\n",
       "    <tr style=\"text-align: right;\">\n",
       "      <th></th>\n",
       "      <th>X</th>\n",
       "      <th>Y</th>\n",
       "      <th>Z</th>\n",
       "      <th>val</th>\n",
       "      <th>type</th>\n",
       "      <th>nx</th>\n",
       "      <th>ny</th>\n",
       "      <th>nz</th>\n",
       "      <th>coord</th>\n",
       "    </tr>\n",
       "  </thead>\n",
       "  <tbody>\n",
       "    <tr>\n",
       "      <td>0</td>\n",
       "      <td>6.1</td>\n",
       "      <td>0.1</td>\n",
       "      <td>1.1</td>\n",
       "      <td>0.0</td>\n",
       "      <td>s0</td>\n",
       "      <td>NaN</td>\n",
       "      <td>NaN</td>\n",
       "      <td>NaN</td>\n",
       "      <td>NaN</td>\n",
       "    </tr>\n",
       "    <tr>\n",
       "      <td>1</td>\n",
       "      <td>6.1</td>\n",
       "      <td>0.1</td>\n",
       "      <td>2.1</td>\n",
       "      <td>1.0</td>\n",
       "      <td>s0</td>\n",
       "      <td>NaN</td>\n",
       "      <td>NaN</td>\n",
       "      <td>NaN</td>\n",
       "      <td>NaN</td>\n",
       "    </tr>\n",
       "    <tr>\n",
       "      <td>0</td>\n",
       "      <td>1.0</td>\n",
       "      <td>1.0</td>\n",
       "      <td>1.0</td>\n",
       "      <td>NaN</td>\n",
       "      <td>s0</td>\n",
       "      <td>0.0</td>\n",
       "      <td>-0.0</td>\n",
       "      <td>1.0</td>\n",
       "      <td>NaN</td>\n",
       "    </tr>\n",
       "  </tbody>\n",
       "</table>\n",
       "</div>"
      ],
      "text/plain": [
       "     X    Y    Z  val type   nx   ny   nz  coord\n",
       "0  6.1  0.1  1.1  0.0   s0  NaN  NaN  NaN    NaN\n",
       "1  6.1  0.1  2.1  1.0   s0  NaN  NaN  NaN    NaN\n",
       "0  1.0  1.0  1.0  NaN   s0  0.0 -0.0  1.0    NaN"
      ]
     },
     "execution_count": 5,
     "metadata": {},
     "output_type": "execute_result"
    }
   ],
   "source": [
    "data[data['type'] == 's0']"
   ]
  },
  {
   "cell_type": "code",
   "execution_count": 6,
   "metadata": {
    "ExecuteTime": {
     "end_time": "2019-11-10T06:10:05.435050Z",
     "start_time": "2019-11-10T06:10:05.427269Z"
    }
   },
   "outputs": [],
   "source": [
    "from scipy.sparse import diags \n",
    "def precon(A):\n",
    "    return diags(1 / A.diagonal(),0)\n",
    "interpolation_region = lambda pos : pos[:,0] > 0.05"
   ]
  },
  {
   "cell_type": "code",
   "execution_count": 7,
   "metadata": {
    "ExecuteTime": {
     "end_time": "2019-11-10T06:10:05.609111Z",
     "start_time": "2019-11-10T06:10:05.436539Z"
    },
    "scrolled": false
   },
   "outputs": [
    {
     "ename": "IndexError",
     "evalue": "boolean index did not match indexed array along dimension 0; dimension is 11088 but corresponding boolean dimension is 11704",
     "output_type": "error",
     "traceback": [
      "\u001b[0;31m---------------------------------------------------------------------------\u001b[0m",
      "\u001b[0;31mIndexError\u001b[0m                                Traceback (most recent call last)",
      "\u001b[0;32m<ipython-input-7-8d95ab25a62b>\u001b[0m in \u001b[0;36m<module>\u001b[0;34m\u001b[0m\n\u001b[1;32m     10\u001b[0m                                     \u001b[0mbuffer\u001b[0m\u001b[0;34m=\u001b[0m\u001b[0;36m0.15\u001b[0m\u001b[0;34m,\u001b[0m\u001b[0;34m\u001b[0m\u001b[0;34m\u001b[0m\u001b[0m\n\u001b[1;32m     11\u001b[0m \u001b[0;31m#                                                                         region=interpolation_region\u001b[0m\u001b[0;34m\u001b[0m\u001b[0;34m\u001b[0m\u001b[0;34m\u001b[0m\u001b[0m\n\u001b[0;32m---> 12\u001b[0;31m                                     \u001b[0msteps\u001b[0m\u001b[0;34m=\u001b[0m\u001b[0;36m10\u001b[0m\u001b[0;34m\u001b[0m\u001b[0;34m\u001b[0m\u001b[0m\n\u001b[0m\u001b[1;32m     13\u001b[0m                                    )\n",
      "\u001b[0;32m~/python_env/LoopStructural/lib/python3.6/site-packages/LoopStructural-0.0.0-py3.6-linux-x86_64.egg/LoopStructural/modelling/core/geological_model.py\u001b[0m in \u001b[0;36mcreate_and_add_fault\u001b[0;34m(self, fault_surface_data, displacement, **kwargs)\u001b[0m\n\u001b[1;32m    335\u001b[0m         \u001b[0;31m# create fault frame\u001b[0m\u001b[0;34m\u001b[0m\u001b[0;34m\u001b[0m\u001b[0;34m\u001b[0m\u001b[0m\n\u001b[1;32m    336\u001b[0m         \u001b[0minterpolator\u001b[0m \u001b[0;34m=\u001b[0m \u001b[0mself\u001b[0m\u001b[0;34m.\u001b[0m\u001b[0mget_interpolator\u001b[0m\u001b[0;34m(\u001b[0m\u001b[0;34m**\u001b[0m\u001b[0mkwargs\u001b[0m\u001b[0;34m)\u001b[0m\u001b[0;34m\u001b[0m\u001b[0;34m\u001b[0m\u001b[0m\n\u001b[0;32m--> 337\u001b[0;31m         \u001b[0mfault_frame_builder\u001b[0m \u001b[0;34m=\u001b[0m \u001b[0mStructuralFrameBuilder\u001b[0m\u001b[0;34m(\u001b[0m\u001b[0minterpolator\u001b[0m\u001b[0;34m,\u001b[0m\u001b[0mname\u001b[0m\u001b[0;34m=\u001b[0m\u001b[0mfault_surface_data\u001b[0m\u001b[0;34m,\u001b[0m\u001b[0;34m**\u001b[0m\u001b[0mkwargs\u001b[0m\u001b[0;34m)\u001b[0m\u001b[0;34m\u001b[0m\u001b[0;34m\u001b[0m\u001b[0m\n\u001b[0m\u001b[1;32m    338\u001b[0m         \u001b[0;31m# add data\u001b[0m\u001b[0;34m\u001b[0m\u001b[0;34m\u001b[0m\u001b[0;34m\u001b[0m\u001b[0m\n\u001b[1;32m    339\u001b[0m         \u001b[0mfault_frame_data\u001b[0m \u001b[0;34m=\u001b[0m \u001b[0mself\u001b[0m\u001b[0;34m.\u001b[0m\u001b[0mdata\u001b[0m\u001b[0;34m[\u001b[0m\u001b[0mself\u001b[0m\u001b[0;34m.\u001b[0m\u001b[0mdata\u001b[0m\u001b[0;34m[\u001b[0m\u001b[0;34m'type'\u001b[0m\u001b[0;34m]\u001b[0m \u001b[0;34m==\u001b[0m \u001b[0mfault_surface_data\u001b[0m\u001b[0;34m]\u001b[0m\u001b[0;34m\u001b[0m\u001b[0;34m\u001b[0m\u001b[0m\n",
      "\u001b[0;32m~/python_env/LoopStructural/lib/python3.6/site-packages/LoopStructural-0.0.0-py3.6-linux-x86_64.egg/LoopStructural/modelling/features/structural_frame.py\u001b[0m in \u001b[0;36m__init__\u001b[0;34m(self, interpolator, interpolators, **kwargs)\u001b[0m\n\u001b[1;32m    147\u001b[0m             \u001b[0;32mraise\u001b[0m \u001b[0mBaseException\u001b[0m\u001b[0;34m\u001b[0m\u001b[0;34m\u001b[0m\u001b[0m\n\u001b[1;32m    148\u001b[0m         \u001b[0;31m# self.builders\u001b[0m\u001b[0;34m\u001b[0m\u001b[0;34m\u001b[0m\u001b[0;34m\u001b[0m\u001b[0m\n\u001b[0;32m--> 149\u001b[0;31m         \u001b[0mself\u001b[0m\u001b[0;34m.\u001b[0m\u001b[0mbuilders\u001b[0m\u001b[0;34m.\u001b[0m\u001b[0mappend\u001b[0m\u001b[0;34m(\u001b[0m\u001b[0mGeologicalFeatureInterpolator\u001b[0m\u001b[0;34m(\u001b[0m\u001b[0minterpolators\u001b[0m\u001b[0;34m[\u001b[0m\u001b[0;36m0\u001b[0m\u001b[0;34m]\u001b[0m\u001b[0;34m,\u001b[0m \u001b[0mname\u001b[0m \u001b[0;34m=\u001b[0m \u001b[0mself\u001b[0m\u001b[0;34m.\u001b[0m\u001b[0mname\u001b[0m \u001b[0;34m+\u001b[0m \u001b[0;34m'_0'\u001b[0m\u001b[0;34m,\u001b[0m \u001b[0;34m**\u001b[0m\u001b[0mkwargs\u001b[0m\u001b[0;34m)\u001b[0m\u001b[0;34m)\u001b[0m\u001b[0;31m#,region=self.region))\u001b[0m\u001b[0;34m\u001b[0m\u001b[0;34m\u001b[0m\u001b[0m\n\u001b[0m\u001b[1;32m    150\u001b[0m         \u001b[0mself\u001b[0m\u001b[0;34m.\u001b[0m\u001b[0mbuilders\u001b[0m\u001b[0;34m.\u001b[0m\u001b[0mappend\u001b[0m\u001b[0;34m(\u001b[0m\u001b[0mGeologicalFeatureInterpolator\u001b[0m\u001b[0;34m(\u001b[0m\u001b[0minterpolators\u001b[0m\u001b[0;34m[\u001b[0m\u001b[0;36m1\u001b[0m\u001b[0;34m]\u001b[0m\u001b[0;34m,\u001b[0m \u001b[0mname\u001b[0m \u001b[0;34m=\u001b[0m \u001b[0mself\u001b[0m\u001b[0;34m.\u001b[0m\u001b[0mname\u001b[0m \u001b[0;34m+\u001b[0m \u001b[0;34m'_1'\u001b[0m\u001b[0;34m,\u001b[0m \u001b[0;34m**\u001b[0m\u001b[0mkwargs\u001b[0m\u001b[0;34m)\u001b[0m\u001b[0;34m)\u001b[0m\u001b[0;31m#,region=self.region))\u001b[0m\u001b[0;34m\u001b[0m\u001b[0;34m\u001b[0m\u001b[0m\n\u001b[1;32m    151\u001b[0m         \u001b[0mself\u001b[0m\u001b[0;34m.\u001b[0m\u001b[0mbuilders\u001b[0m\u001b[0;34m.\u001b[0m\u001b[0mappend\u001b[0m\u001b[0;34m(\u001b[0m\u001b[0mGeologicalFeatureInterpolator\u001b[0m\u001b[0;34m(\u001b[0m\u001b[0minterpolators\u001b[0m\u001b[0;34m[\u001b[0m\u001b[0;36m2\u001b[0m\u001b[0;34m]\u001b[0m\u001b[0;34m,\u001b[0m \u001b[0mname\u001b[0m \u001b[0;34m=\u001b[0m \u001b[0mself\u001b[0m\u001b[0;34m.\u001b[0m\u001b[0mname\u001b[0m \u001b[0;34m+\u001b[0m \u001b[0;34m'_2'\u001b[0m\u001b[0;34m,\u001b[0m \u001b[0;34m**\u001b[0m\u001b[0mkwargs\u001b[0m\u001b[0;34m)\u001b[0m\u001b[0;34m)\u001b[0m\u001b[0;31m#,region=self.region))\u001b[0m\u001b[0;34m\u001b[0m\u001b[0;34m\u001b[0m\u001b[0m\n",
      "\u001b[0;32m~/python_env/LoopStructural/lib/python3.6/site-packages/LoopStructural-0.0.0-py3.6-linux-x86_64.egg/LoopStructural/modelling/features/geological_feature.py\u001b[0m in \u001b[0;36m__init__\u001b[0;34m(self, interpolator, **kwargs)\u001b[0m\n\u001b[1;32m     36\u001b[0m         \u001b[0mself\u001b[0m\u001b[0;34m.\u001b[0m\u001b[0mfaults\u001b[0m \u001b[0;34m=\u001b[0m \u001b[0;34m[\u001b[0m\u001b[0;34m]\u001b[0m\u001b[0;34m\u001b[0m\u001b[0;34m\u001b[0m\u001b[0m\n\u001b[1;32m     37\u001b[0m         \u001b[0mself\u001b[0m\u001b[0;34m.\u001b[0m\u001b[0mdata_added\u001b[0m \u001b[0;34m=\u001b[0m \u001b[0;32mFalse\u001b[0m\u001b[0;34m\u001b[0m\u001b[0;34m\u001b[0m\u001b[0m\n\u001b[0;32m---> 38\u001b[0;31m         \u001b[0mself\u001b[0m\u001b[0;34m.\u001b[0m\u001b[0minterpolator\u001b[0m\u001b[0;34m.\u001b[0m\u001b[0mset_region\u001b[0m\u001b[0;34m(\u001b[0m\u001b[0mregion\u001b[0m\u001b[0;34m=\u001b[0m\u001b[0mself\u001b[0m\u001b[0;34m.\u001b[0m\u001b[0mregion\u001b[0m\u001b[0;34m)\u001b[0m\u001b[0;34m\u001b[0m\u001b[0;34m\u001b[0m\u001b[0m\n\u001b[0m\u001b[1;32m     39\u001b[0m \u001b[0;34m\u001b[0m\u001b[0m\n\u001b[1;32m     40\u001b[0m     \u001b[0;32mdef\u001b[0m \u001b[0mupdate\u001b[0m\u001b[0;34m(\u001b[0m\u001b[0mself\u001b[0m\u001b[0;34m)\u001b[0m\u001b[0;34m:\u001b[0m\u001b[0;34m\u001b[0m\u001b[0;34m\u001b[0m\u001b[0m\n",
      "\u001b[0;32m~/python_env/LoopStructural/lib/python3.6/site-packages/LoopStructural-0.0.0-py3.6-linux-x86_64.egg/LoopStructural/interpolators/discete_interpolator.py\u001b[0m in \u001b[0;36mset_region\u001b[0;34m(self, region)\u001b[0m\n\u001b[1;32m     66\u001b[0m         \u001b[0mself\u001b[0m\u001b[0;34m.\u001b[0m\u001b[0mregion\u001b[0m \u001b[0;34m=\u001b[0m \u001b[0mregion\u001b[0m\u001b[0;34m(\u001b[0m\u001b[0mself\u001b[0m\u001b[0;34m.\u001b[0m\u001b[0msupport\u001b[0m\u001b[0;34m.\u001b[0m\u001b[0mnodes\u001b[0m\u001b[0;34m)\u001b[0m\u001b[0;34m\u001b[0m\u001b[0;34m\u001b[0m\u001b[0m\n\u001b[1;32m     67\u001b[0m         \u001b[0mself\u001b[0m\u001b[0;34m.\u001b[0m\u001b[0mregion_map\u001b[0m \u001b[0;34m=\u001b[0m \u001b[0mnp\u001b[0m\u001b[0;34m.\u001b[0m\u001b[0mzeros\u001b[0m\u001b[0;34m(\u001b[0m\u001b[0mself\u001b[0m\u001b[0;34m.\u001b[0m\u001b[0msupport\u001b[0m\u001b[0;34m.\u001b[0m\u001b[0mn_nodes\u001b[0m\u001b[0;34m)\u001b[0m\u001b[0;34m.\u001b[0m\u001b[0mastype\u001b[0m\u001b[0;34m(\u001b[0m\u001b[0mint\u001b[0m\u001b[0;34m)\u001b[0m\u001b[0;34m\u001b[0m\u001b[0;34m\u001b[0m\u001b[0m\n\u001b[0;32m---> 68\u001b[0;31m         \u001b[0mself\u001b[0m\u001b[0;34m.\u001b[0m\u001b[0mregion_map\u001b[0m\u001b[0;34m[\u001b[0m\u001b[0mself\u001b[0m\u001b[0;34m.\u001b[0m\u001b[0mregion\u001b[0m\u001b[0;34m]\u001b[0m \u001b[0;34m=\u001b[0m \u001b[0mnp\u001b[0m\u001b[0;34m.\u001b[0m\u001b[0marray\u001b[0m\u001b[0;34m(\u001b[0m\u001b[0mrange\u001b[0m\u001b[0;34m(\u001b[0m\u001b[0;36m0\u001b[0m\u001b[0;34m,\u001b[0m\u001b[0mlen\u001b[0m\u001b[0;34m(\u001b[0m\u001b[0mself\u001b[0m\u001b[0;34m.\u001b[0m\u001b[0mregion_map\u001b[0m\u001b[0;34m[\u001b[0m\u001b[0mself\u001b[0m\u001b[0;34m.\u001b[0m\u001b[0mregion\u001b[0m\u001b[0;34m]\u001b[0m\u001b[0;34m)\u001b[0m\u001b[0;34m)\u001b[0m\u001b[0;34m)\u001b[0m\u001b[0;34m\u001b[0m\u001b[0;34m\u001b[0m\u001b[0m\n\u001b[0m\u001b[1;32m     69\u001b[0m         \u001b[0mself\u001b[0m\u001b[0;34m.\u001b[0m\u001b[0mnx\u001b[0m \u001b[0;34m=\u001b[0m \u001b[0mlen\u001b[0m\u001b[0;34m(\u001b[0m\u001b[0mself\u001b[0m\u001b[0;34m.\u001b[0m\u001b[0msupport\u001b[0m\u001b[0;34m.\u001b[0m\u001b[0mnodes\u001b[0m\u001b[0;34m[\u001b[0m\u001b[0mself\u001b[0m\u001b[0;34m.\u001b[0m\u001b[0mregion\u001b[0m\u001b[0;34m]\u001b[0m\u001b[0;34m)\u001b[0m\u001b[0;34m\u001b[0m\u001b[0;34m\u001b[0m\u001b[0m\n\u001b[1;32m     70\u001b[0m \u001b[0;34m\u001b[0m\u001b[0m\n",
      "\u001b[0;31mIndexError\u001b[0m: boolean index did not match indexed array along dimension 0; dimension is 11088 but corresponding boolean dimension is 11704"
     ]
    }
   ],
   "source": [
    "model = GeologicalModel(boundary_points[0,:],boundary_points[1,:])\n",
    "model.set_model_data(data)\n",
    "fault1 = model.create_and_add_fault('fault1',\n",
    "                                    -4,\n",
    "                                    nelements=5000,\n",
    "                                    solver='lu',\n",
    "                                    interpolatortype='FDI',\n",
    "                                   damp = True,\n",
    "                                    precon=precon,\n",
    "                                    buffer=0.15,\n",
    "#                                                                         region=interpolation_region\n",
    "                                    steps=10\n",
    "                                   )\n"
   ]
  },
  {
   "cell_type": "code",
   "execution_count": null,
   "metadata": {
    "ExecuteTime": {
     "end_time": "2019-11-10T06:10:05.611347Z",
     "start_time": "2019-11-10T06:10:04.176Z"
    }
   },
   "outputs": [],
   "source": [
    "# splayregion = lambda pos : ~np.logical_and(fault1['feature'][1].evaluate_value(pos)>-0.25,\n",
    "#                                            fault1['feature'][1].evaluate_value(pos)<1.5)\n",
    "# interpolation_region = lambda pos : np.logical_and(fault1['feature'][1].evaluate_value(pos)>-0.3,\n",
    "#                                            fault1['feature'][1].evaluate_value(pos)<1.55)\n",
    "splayregion = lambda pos : np.logical_or(pos[:,0] < 0.12,pos[:,0]>.7)\n",
    "#np.logical_and(fault1['feature'][1].evaluate_value(pos)>-0.3,\n",
    "                                           #fault1['feature'][1].evaluate_value(pos)<1.55)"
   ]
  },
  {
   "cell_type": "code",
   "execution_count": null,
   "metadata": {
    "ExecuteTime": {
     "end_time": "2019-11-10T06:10:05.612262Z",
     "start_time": "2019-11-10T06:10:04.178Z"
    },
    "code_folding": [],
    "scrolled": false
   },
   "outputs": [],
   "source": [
    "fault2 = model.create_and_add_fault('fault2',\n",
    "                                    -6,\n",
    "                                    nelements=5000,\n",
    "                                    splayregion=splayregion,\n",
    "                                    splay=fault1['feature'],\n",
    "                                   solver='lu',\n",
    "                                   precon=precon,\n",
    "                                   interpolatortype='FDI',\n",
    "                                   damp=True,\n",
    "                                    buffer=0.15,\n",
    "#                                     cpw=10,\n",
    "#                                     region=interpolation_region\n",
    "                                    steps=10,\n",
    "                                   )\n",
    "s0 = model.create_and_add_conformable_foliation('s0',\n",
    "                                                nelements=2500,\n",
    "                                                solver='lu',\n",
    "                                                interpolatortype='FDI',\n",
    "                                                precon=precon,\n",
    "#                                                 region=interpolation_region,\n",
    "                                                damp = True,\n",
    "                                                buffer=0.15\n",
    "                                               )\n",
    "# print(s0.get_interpolator().support.n_nodes)\n",
    "# s02 = model.create_and_add_conformable_foliation('s0',\n",
    "#                                                 nelements=2000,\n",
    "#                                                 solver='lu',\n",
    "#                                                 interpolatortype='FDI',\n",
    "#                                                 precon=precon,\n",
    "# #                                                 region=interpolation_region,\n",
    "#                                                        damp = True,\n",
    "#                                                 buffer=0.1\n",
    "#                                                )\n",
    "# print(s02.get_interpolator().support.n_nodes)\n"
   ]
  },
  {
   "cell_type": "code",
   "execution_count": null,
   "metadata": {
    "ExecuteTime": {
     "end_time": "2019-11-10T06:10:05.612923Z",
     "start_time": "2019-11-10T06:10:04.181Z"
    }
   },
   "outputs": [],
   "source": [
    "splay = RegionFeature(splayregion)\n",
    "interp = RegionFeature(interpolation_region)"
   ]
  },
  {
   "cell_type": "code",
   "execution_count": null,
   "metadata": {
    "ExecuteTime": {
     "end_time": "2019-11-10T06:10:05.613547Z",
     "start_time": "2019-11-10T06:10:04.186Z"
    },
    "scrolled": false
   },
   "outputs": [],
   "source": [
    "#%%snakeviz\n",
    "viewer = LavaVuModelViewer()\n",
    "viewer.add_isosurface(fault1['feature'],\n",
    "#                       slices=[-1,0,1],\n",
    "                      isovalue=0,\n",
    "                      voxet=model.voxet()\n",
    "                     )\n",
    "\n",
    "# viewer.add_isosurface(fault1['feature'][1],\n",
    "#                       nslices=5,\n",
    "#                       voxet=model.voxet())\n",
    "# viewer.add_isosurface(fault2['feature'][1],\n",
    "#                       nslices=5,\n",
    "#                       voxet=model.voxet())\n",
    "viewer.add_isosurface(fault2['feature'],\n",
    "#                                             slices=[-1,0,1],\n",
    "\n",
    "                      isovalue=0,\n",
    "                      voxet=model.voxet()\n",
    "                     )\n",
    "# # viewer.add_scalar_field(model.bounding_box,(38,55,30),\n",
    "# #                       'splay',\n",
    "# #                      paint_with=splay,\n",
    "# #                      cmap='prism')\n",
    "viewer.add_scalar_field(model.bounding_box,(38,55,30),\n",
    "                      'interp',\n",
    "                     paint_with=s0,\n",
    "                     cmap='prism')\n",
    "# # viewer.add_scalar_field(model.bounding_box,(38,55,30),\n",
    "# #                       'box3',\n",
    "# #                      paint_with=s0,\n",
    "# #                      cmap='prism')\n",
    "# # # # viewer.add_scalar_field(model.bounding_box,(38,55,30),\n",
    "# # # #                       'box2',\n",
    "# # # #                      paint_with=s0,\n",
    "# # # #                      cmap='prism')\n",
    "# # viewer.add_scalar_field(model.bounding_box,(38,55,30),\n",
    "# #                       'box3',\n",
    "# #                      paint_with=fault1['feature'],\n",
    "# #                      cmap='prism')\n",
    "# viewer.add_isosurface(s0,\n",
    "#                       isovalue=0,\n",
    "# #                       nslices=10,\n",
    "#                      voxet=model.voxet()\n",
    "#                      )\n",
    "# viewer.add_vector_field(fault2['feature'][1],grid.barycentre[::10,:])\n",
    "# viewer.add_vector_field(fault1['feature'][1],grid.barycentre[::10,:])\n",
    "\n",
    "# viewer.add_isosurface(s02,\n",
    "#                       name='test',\n",
    "#                       isovalue=0,\n",
    "# #                       nslices=10,\n",
    "#                      voxet=model.voxet()\n",
    "#                      )\n",
    "# viewer.add_section()\n",
    "# # viewer.add_isosurface(splay,voxet=model.voxet())\n",
    "# # viewer.add_data(fault2[0])\n",
    "viewer.add_data(fault1['feature'][0])\n",
    "viewer.add_data(fault2['feature'][0])\n",
    "# viewer.add_points(s0.get_interpolator().support.nodes,name='points')\n",
    "# viewer.add_points(s02.get_interpolator().support.nodes,name='points2')\n",
    "points = fault1['feature'].apply_to_points(grid.nodes)\n",
    "# points = fault2['feature'].apply_to_points(points)\n",
    "viewer.add_points(points,name='faulted')\n",
    "# viewer.add_data(s0)\n",
    "# points = fault2['feature'].apply_to_points(points)\n",
    "points = fault2['feature'].apply_to_points(points)\n",
    "viewer.add_points(points,name='faulted2')\n",
    "\n",
    "viewer.interactive()"
   ]
  },
  {
   "cell_type": "code",
   "execution_count": null,
   "metadata": {
    "ExecuteTime": {
     "end_time": "2019-11-10T06:10:05.614360Z",
     "start_time": "2019-11-10T06:10:04.189Z"
    }
   },
   "outputs": [],
   "source": [
    "grid = fault2['feature'][0].get_interpolator().support"
   ]
  },
  {
   "cell_type": "code",
   "execution_count": null,
   "metadata": {
    "ExecuteTime": {
     "end_time": "2019-11-10T06:10:05.615097Z",
     "start_time": "2019-11-10T06:10:04.192Z"
    }
   },
   "outputs": [],
   "source": [
    "grid.position_to_dof_coefs(grid.nodes[10:16])\n",
    "# grid.position_to_dof_coefs((grid.nodes).shape)"
   ]
  },
  {
   "cell_type": "code",
   "execution_count": null,
   "metadata": {
    "ExecuteTime": {
     "end_time": "2019-11-10T06:10:05.615788Z",
     "start_time": "2019-11-10T06:10:04.193Z"
    }
   },
   "outputs": [],
   "source": [
    "print(grid.nodes[0,:]-grid.nodes[1,:])"
   ]
  },
  {
   "cell_type": "code",
   "execution_count": null,
   "metadata": {
    "ExecuteTime": {
     "end_time": "2019-11-10T06:10:05.616512Z",
     "start_time": "2019-11-10T06:10:04.194Z"
    }
   },
   "outputs": [],
   "source": [
    "grid.print_geometry()"
   ]
  },
  {
   "cell_type": "code",
   "execution_count": null,
   "metadata": {
    "ExecuteTime": {
     "end_time": "2019-11-10T06:10:05.617257Z",
     "start_time": "2019-11-10T06:10:04.196Z"
    }
   },
   "outputs": [],
   "source": [
    "x = np.arange(-0.1,1.064+0.025876,0.025876)"
   ]
  },
  {
   "cell_type": "code",
   "execution_count": null,
   "metadata": {
    "ExecuteTime": {
     "end_time": "2019-11-10T06:10:05.617977Z",
     "start_time": "2019-11-10T06:10:04.203Z"
    }
   },
   "outputs": [],
   "source": [
    "x"
   ]
  },
  {
   "cell_type": "code",
   "execution_count": null,
   "metadata": {
    "ExecuteTime": {
     "end_time": "2019-11-10T06:10:05.618681Z",
     "start_time": "2019-11-10T06:10:04.205Z"
    }
   },
   "outputs": [],
   "source": [
    "np.linspace(-0.1, -0.1+((grid.nsteps[0]-1) * grid.step_vector[0]-1), grid.nsteps[0])"
   ]
  },
  {
   "cell_type": "code",
   "execution_count": null,
   "metadata": {
    "ExecuteTime": {
     "end_time": "2019-11-10T06:10:05.619439Z",
     "start_time": "2019-11-10T06:10:04.206Z"
    }
   },
   "outputs": [],
   "source": [
    "grid.nsteps[0] * grid.step_vector[0]"
   ]
  },
  {
   "cell_type": "code",
   "execution_count": null,
   "metadata": {},
   "outputs": [],
   "source": []
  }
 ],
 "metadata": {
  "kernelspec": {
   "display_name": "LoopStructural",
   "language": "python",
   "name": "loopstructural"
  },
  "language_info": {
   "codemirror_mode": {
    "name": "ipython",
    "version": 3
   },
   "file_extension": ".py",
   "mimetype": "text/x-python",
   "name": "python",
   "nbconvert_exporter": "python",
   "pygments_lexer": "ipython3",
   "version": "3.6.8"
  },
  "varInspector": {
   "cols": {
    "lenName": 16,
    "lenType": 16,
    "lenVar": 40
   },
   "kernels_config": {
    "python": {
     "delete_cmd_postfix": "",
     "delete_cmd_prefix": "del ",
     "library": "var_list.py",
     "varRefreshCmd": "print(var_dic_list())"
    },
    "r": {
     "delete_cmd_postfix": ") ",
     "delete_cmd_prefix": "rm(",
     "library": "var_list.r",
     "varRefreshCmd": "cat(var_dic_list()) "
    }
   },
   "types_to_exclude": [
    "module",
    "function",
    "builtin_function_or_method",
    "instance",
    "_Feature"
   ],
   "window_display": false
  }
 },
 "nbformat": 4,
 "nbformat_minor": 4
}
