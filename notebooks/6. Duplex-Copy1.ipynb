{
 "cells": [
  {
   "cell_type": "markdown",
   "metadata": {},
   "source": [
    "# Example 04 2.5 duplex"
   ]
  },
  {
   "cell_type": "code",
   "execution_count": 1,
   "metadata": {
    "ExecuteTime": {
     "end_time": "2019-11-14T22:18:35.006859Z",
     "start_time": "2019-11-14T22:18:34.103911Z"
    }
   },
   "outputs": [],
   "source": [
    "from LoopStructural import GeologicalModel\n",
    "from LoopStructural.visualisation.model_visualisation import LavaVuModelViewer\n",
    "import numpy as np\n",
    "import pandas as pd"
   ]
  },
  {
   "cell_type": "code",
   "execution_count": null,
   "metadata": {
    "ExecuteTime": {
     "end_time": "2019-11-11T00:47:36.327919Z",
     "start_time": "2019-11-11T00:47:36.324469Z"
    },
    "code_folding": []
   },
   "outputs": [],
   "source": []
  },
  {
   "cell_type": "code",
   "execution_count": 2,
   "metadata": {
    "ExecuteTime": {
     "end_time": "2019-11-14T22:18:35.011997Z",
     "start_time": "2019-11-14T22:18:35.008702Z"
    }
   },
   "outputs": [],
   "source": [
    "boundary_points = np.zeros((2,3))\n",
    "boundary_points[0,0] = -40\n",
    "boundary_points[0,1] = -5\n",
    "boundary_points[0,2] = -10\n",
    "boundary_points[1,0] = 40\n",
    "boundary_points[1,1] = 5\n",
    "boundary_points[1,2] = 10"
   ]
  },
  {
   "cell_type": "code",
   "execution_count": 3,
   "metadata": {
    "ExecuteTime": {
     "end_time": "2019-11-14T22:18:35.040553Z",
     "start_time": "2019-11-14T22:18:35.013557Z"
    }
   },
   "outputs": [
    {
     "data": {
      "text/html": [
       "<div>\n",
       "<style scoped>\n",
       "    .dataframe tbody tr th:only-of-type {\n",
       "        vertical-align: middle;\n",
       "    }\n",
       "\n",
       "    .dataframe tbody tr th {\n",
       "        vertical-align: top;\n",
       "    }\n",
       "\n",
       "    .dataframe thead th {\n",
       "        text-align: right;\n",
       "    }\n",
       "</style>\n",
       "<table border=\"1\" class=\"dataframe\">\n",
       "  <thead>\n",
       "    <tr style=\"text-align: right;\">\n",
       "      <th></th>\n",
       "      <th>X</th>\n",
       "      <th>Y</th>\n",
       "      <th>Z</th>\n",
       "      <th>val</th>\n",
       "      <th>type</th>\n",
       "      <th>nx</th>\n",
       "      <th>ny</th>\n",
       "      <th>nz</th>\n",
       "      <th>coord</th>\n",
       "    </tr>\n",
       "  </thead>\n",
       "  <tbody>\n",
       "    <tr>\n",
       "      <td>0</td>\n",
       "      <td>6.100000</td>\n",
       "      <td>0.100000</td>\n",
       "      <td>1.100000</td>\n",
       "      <td>0.0</td>\n",
       "      <td>s0</td>\n",
       "      <td>NaN</td>\n",
       "      <td>NaN</td>\n",
       "      <td>NaN</td>\n",
       "      <td>NaN</td>\n",
       "    </tr>\n",
       "    <tr>\n",
       "      <td>1</td>\n",
       "      <td>6.100000</td>\n",
       "      <td>0.100000</td>\n",
       "      <td>2.100000</td>\n",
       "      <td>1.0</td>\n",
       "      <td>s0</td>\n",
       "      <td>NaN</td>\n",
       "      <td>NaN</td>\n",
       "      <td>NaN</td>\n",
       "      <td>NaN</td>\n",
       "    </tr>\n",
       "    <tr>\n",
       "      <td>0</td>\n",
       "      <td>-3.041451</td>\n",
       "      <td>0.996086</td>\n",
       "      <td>-0.977360</td>\n",
       "      <td>NaN</td>\n",
       "      <td>s0</td>\n",
       "      <td>0.0</td>\n",
       "      <td>-0.0</td>\n",
       "      <td>1.0</td>\n",
       "      <td>NaN</td>\n",
       "    </tr>\n",
       "    <tr>\n",
       "      <td>0</td>\n",
       "      <td>-39.669873</td>\n",
       "      <td>-4.982496</td>\n",
       "      <td>-3.972077</td>\n",
       "      <td>0.0</td>\n",
       "      <td>fault1</td>\n",
       "      <td>NaN</td>\n",
       "      <td>NaN</td>\n",
       "      <td>NaN</td>\n",
       "      <td>0.0</td>\n",
       "    </tr>\n",
       "    <tr>\n",
       "      <td>1</td>\n",
       "      <td>-29.669701</td>\n",
       "      <td>-4.986644</td>\n",
       "      <td>-4.047513</td>\n",
       "      <td>0.0</td>\n",
       "      <td>fault1</td>\n",
       "      <td>NaN</td>\n",
       "      <td>NaN</td>\n",
       "      <td>NaN</td>\n",
       "      <td>0.0</td>\n",
       "    </tr>\n",
       "  </tbody>\n",
       "</table>\n",
       "</div>"
      ],
      "text/plain": [
       "           X         Y         Z  val    type   nx   ny   nz  coord\n",
       "0   6.100000  0.100000  1.100000  0.0      s0  NaN  NaN  NaN    NaN\n",
       "1   6.100000  0.100000  2.100000  1.0      s0  NaN  NaN  NaN    NaN\n",
       "0  -3.041451  0.996086 -0.977360  NaN      s0  0.0 -0.0  1.0    NaN\n",
       "0 -39.669873 -4.982496 -3.972077  0.0  fault1  NaN  NaN  NaN    0.0\n",
       "1 -29.669701 -4.986644 -4.047513  0.0  fault1  NaN  NaN  NaN    0.0"
      ]
     },
     "execution_count": 3,
     "metadata": {},
     "output_type": "execute_result"
    }
   ],
   "source": [
    "data = pd.read_pickle('duplex.pkl')\n",
    "data = data.rename(columns = {\"V\":\"val\"})\n",
    "data.head()"
   ]
  },
  {
   "cell_type": "code",
   "execution_count": 4,
   "metadata": {
    "ExecuteTime": {
     "end_time": "2019-11-14T22:18:35.052267Z",
     "start_time": "2019-11-14T22:18:35.042261Z"
    }
   },
   "outputs": [
    {
     "data": {
      "text/html": [
       "<div>\n",
       "<style scoped>\n",
       "    .dataframe tbody tr th:only-of-type {\n",
       "        vertical-align: middle;\n",
       "    }\n",
       "\n",
       "    .dataframe tbody tr th {\n",
       "        vertical-align: top;\n",
       "    }\n",
       "\n",
       "    .dataframe thead th {\n",
       "        text-align: right;\n",
       "    }\n",
       "</style>\n",
       "<table border=\"1\" class=\"dataframe\">\n",
       "  <thead>\n",
       "    <tr style=\"text-align: right;\">\n",
       "      <th></th>\n",
       "      <th>X</th>\n",
       "      <th>Y</th>\n",
       "      <th>Z</th>\n",
       "      <th>val</th>\n",
       "      <th>type</th>\n",
       "      <th>nx</th>\n",
       "      <th>ny</th>\n",
       "      <th>nz</th>\n",
       "      <th>coord</th>\n",
       "    </tr>\n",
       "  </thead>\n",
       "  <tbody>\n",
       "    <tr>\n",
       "      <td>0</td>\n",
       "      <td>6.100000</td>\n",
       "      <td>0.100000</td>\n",
       "      <td>1.10000</td>\n",
       "      <td>0.0</td>\n",
       "      <td>s0</td>\n",
       "      <td>NaN</td>\n",
       "      <td>NaN</td>\n",
       "      <td>NaN</td>\n",
       "      <td>NaN</td>\n",
       "    </tr>\n",
       "    <tr>\n",
       "      <td>1</td>\n",
       "      <td>6.100000</td>\n",
       "      <td>0.100000</td>\n",
       "      <td>2.10000</td>\n",
       "      <td>1.0</td>\n",
       "      <td>s0</td>\n",
       "      <td>NaN</td>\n",
       "      <td>NaN</td>\n",
       "      <td>NaN</td>\n",
       "      <td>NaN</td>\n",
       "    </tr>\n",
       "    <tr>\n",
       "      <td>0</td>\n",
       "      <td>-3.041451</td>\n",
       "      <td>0.996086</td>\n",
       "      <td>-0.97736</td>\n",
       "      <td>NaN</td>\n",
       "      <td>s0</td>\n",
       "      <td>0.0</td>\n",
       "      <td>-0.0</td>\n",
       "      <td>1.0</td>\n",
       "      <td>NaN</td>\n",
       "    </tr>\n",
       "  </tbody>\n",
       "</table>\n",
       "</div>"
      ],
      "text/plain": [
       "          X         Y        Z  val type   nx   ny   nz  coord\n",
       "0  6.100000  0.100000  1.10000  0.0   s0  NaN  NaN  NaN    NaN\n",
       "1  6.100000  0.100000  2.10000  1.0   s0  NaN  NaN  NaN    NaN\n",
       "0 -3.041451  0.996086 -0.97736  NaN   s0  0.0 -0.0  1.0    NaN"
      ]
     },
     "execution_count": 4,
     "metadata": {},
     "output_type": "execute_result"
    }
   ],
   "source": [
    "data[data['type'] == 's0']"
   ]
  },
  {
   "cell_type": "code",
   "execution_count": null,
   "metadata": {},
   "outputs": [],
   "source": []
  },
  {
   "cell_type": "code",
   "execution_count": 5,
   "metadata": {
    "ExecuteTime": {
     "end_time": "2019-11-14T22:18:35.064537Z",
     "start_time": "2019-11-14T22:18:35.053449Z"
    }
   },
   "outputs": [],
   "source": [
    "from scipy.sparse import diags \n",
    "def precon(A):\n",
    "    return diags(1 / A.diagonal(),0)\n",
    "interpolation_region = lambda pos : pos[:,0] > 0.05"
   ]
  },
  {
   "cell_type": "code",
   "execution_count": 6,
   "metadata": {
    "ExecuteTime": {
     "end_time": "2019-11-14T22:18:59.976680Z",
     "start_time": "2019-11-14T22:18:35.065998Z"
    },
    "scrolled": false
   },
   "outputs": [],
   "source": [
    "model = GeologicalModel(boundary_points[0,:],boundary_points[1,:])\n",
    "model.set_model_data(data)\n",
    "fault1 = model.create_and_add_fault('fault1',\n",
    "                                    -4,\n",
    "                                    nelements=5000,\n",
    "                                    solver='lu',\n",
    "                                    interpolatortype='FDI',\n",
    "                                   damp = True,\n",
    "                                    precon=precon,\n",
    "                                    buffer=0.15,\n",
    "#                                                                         region=interpolation_region\n",
    "                                    steps=10,\n",
    "                                    cpw=10,\n",
    "                                    gpw=10\n",
    "                                   )\n"
   ]
  },
  {
   "cell_type": "code",
   "execution_count": 7,
   "metadata": {
    "ExecuteTime": {
     "end_time": "2019-11-14T22:18:59.983365Z",
     "start_time": "2019-11-14T22:18:59.979378Z"
    }
   },
   "outputs": [],
   "source": [
    "# splayregion = lambda pos : ~np.logical_and(fault1['feature'][1].evaluate_value(pos)>-0.25,\n",
    "#                                            fault1['feature'][1].evaluate_value(pos)<1.5)\n",
    "# interpolation_region = lambda pos : np.logical_and(fault1['feature'][1].evaluate_value(pos)>-0.3,\n",
    "#                                            fault1['feature'][1].evaluate_value(pos)<1.55)\n",
    "splayregion = lambda pos : np.logical_or(pos[:,0] < 0.12,pos[:,0]>.7)\n",
    "#np.logical_and(fault1['feature'][1].evaluate_value(pos)>-0.3,\n",
    "                                           #fault1['feature'][1].evaluate_value(pos)<1.55)"
   ]
  },
  {
   "cell_type": "code",
   "execution_count": 8,
   "metadata": {
    "ExecuteTime": {
     "end_time": "2019-11-14T22:19:02.420670Z",
     "start_time": "2019-11-14T22:18:59.987073Z"
    },
    "code_folding": [],
    "scrolled": false
   },
   "outputs": [],
   "source": [
    "# fault2 = model.create_and_add_fault('fault2',\n",
    "#                                     -6,\n",
    "#                                     nelements=5000,\n",
    "#                                     splayregion=splayregion,\n",
    "#                                     splay=fault1['feature'],\n",
    "#                                    solver='lu',\n",
    "#                                    precon=precon,\n",
    "#                                    interpolatortype='FDI',\n",
    "#                                    damp=True,\n",
    "#                                     buffer=0.15,\n",
    "#                                     cpw=10,\n",
    "#                                     gpw=10,\n",
    "# #                                     region=interpolation_region\n",
    "#                                     steps=10,\n",
    "#                                    )\n",
    "s0 = model.create_and_add_foliation('s0',\n",
    "                                                nelements=2500,\n",
    "                                                solver='lu',\n",
    "                                                interpolatortype='FDI',\n",
    "                                                precon=precon,\n",
    "#                                                 region=interpolation_region,\n",
    "                                                damp = True,\n",
    "                                                buffer=0.15\n",
    "                                               )\n",
    "# print(s0.get_interpolator().support.n_nodes)\n",
    "# s02 = model.create_and_add_conformable_foliation('s0',\n",
    "#                                                 nelements=2000,\n",
    "#                                                 solver='lu',\n",
    "#                                                 interpolatortype='FDI',\n",
    "#                                                 precon=precon,\n",
    "# #                                                 region=interpolation_region,\n",
    "#                                                        damp = True,\n",
    "#                                                 buffer=0.1\n",
    "#                                                )\n",
    "# print(s02.get_interpolator().support.n_nodes)\n"
   ]
  },
  {
   "cell_type": "code",
   "execution_count": 9,
   "metadata": {
    "ExecuteTime": {
     "end_time": "2019-11-14T22:19:02.426542Z",
     "start_time": "2019-11-14T22:19:02.423751Z"
    }
   },
   "outputs": [],
   "source": [
    "# splay = RegionFeature(splayregion)\n",
    "# interp = RegionFeature(interpolation_region)"
   ]
  },
  {
   "cell_type": "code",
   "execution_count": 11,
   "metadata": {
    "ExecuteTime": {
     "end_time": "2019-11-14T22:21:24.929199Z",
     "start_time": "2019-11-14T22:21:24.912383Z"
    },
    "scrolled": false
   },
   "outputs": [
    {
     "ename": "NameError",
     "evalue": "name 'fault2' is not defined",
     "output_type": "error",
     "traceback": [
      "\u001b[0;31m---------------------------------------------------------------------------\u001b[0m",
      "\u001b[0;31mNameError\u001b[0m                                 Traceback (most recent call last)",
      "\u001b[0;32m<ipython-input-11-f107b90a0a61>\u001b[0m in \u001b[0;36m<module>\u001b[0;34m\u001b[0m\n\u001b[1;32m      1\u001b[0m \u001b[0;31m#%%snakeviz\u001b[0m\u001b[0;34m\u001b[0m\u001b[0;34m\u001b[0m\u001b[0;34m\u001b[0m\u001b[0m\n\u001b[0;32m----> 2\u001b[0;31m \u001b[0mgrid\u001b[0m \u001b[0;34m=\u001b[0m \u001b[0mfault2\u001b[0m\u001b[0;34m[\u001b[0m\u001b[0;34m'feature'\u001b[0m\u001b[0;34m]\u001b[0m\u001b[0;34m[\u001b[0m\u001b[0;36m0\u001b[0m\u001b[0;34m]\u001b[0m\u001b[0;34m.\u001b[0m\u001b[0mget_interpolator\u001b[0m\u001b[0;34m(\u001b[0m\u001b[0;34m)\u001b[0m\u001b[0;34m.\u001b[0m\u001b[0msupport\u001b[0m\u001b[0;34m\u001b[0m\u001b[0;34m\u001b[0m\u001b[0m\n\u001b[0m\u001b[1;32m      3\u001b[0m \u001b[0mviewer\u001b[0m \u001b[0;34m=\u001b[0m \u001b[0mLavaVuModelViewer\u001b[0m\u001b[0;34m(\u001b[0m\u001b[0;34m)\u001b[0m\u001b[0;34m\u001b[0m\u001b[0;34m\u001b[0m\u001b[0m\n\u001b[1;32m      4\u001b[0m viewer.add_isosurface(fault1['feature'],\n\u001b[1;32m      5\u001b[0m \u001b[0;31m#                       slices=[-1,0,1],\u001b[0m\u001b[0;34m\u001b[0m\u001b[0;34m\u001b[0m\u001b[0;34m\u001b[0m\u001b[0m\n",
      "\u001b[0;31mNameError\u001b[0m: name 'fault2' is not defined"
     ]
    }
   ],
   "source": [
    "#%%snakeviz\n",
    "grid = fault2['feature'][0].get_interpolator().support\n",
    "viewer = LavaVuModelViewer()\n",
    "viewer.add_isosurface(fault1['feature'],\n",
    "#                       slices=[-1,0,1],\n",
    "                      isovalue=0,\n",
    "                      voxet=model.voxet()\n",
    "                     )\n",
    "\n",
    "# viewer.add_isosurface(fault1['feature'][1],\n",
    "#                       nslices=5,\n",
    "#                       voxet=model.voxet())\n",
    "# viewer.add_isosurface(fault2['feature'][1],\n",
    "#                       nslices=5,\n",
    "#                       voxet=model.voxet())\n",
    "# viewer.add_isosurface(fault2['feature'],\n",
    "# #                                             slices=[-1,0,1],\n",
    "\n",
    "#                       isovalue=0,\n",
    "#                       voxet=model.voxet()\n",
    "#                      )\n",
    "# # viewer.add_scalar_field(model.bounding_box,(38,55,30),\n",
    "# #                       'splay',\n",
    "# #                      paint_with=splay,\n",
    "# #                      cmap='prism')\n",
    "# viewer.add_scalar_field(model.bounding_box,(38,55,30),\n",
    "#                       'interp',\n",
    "#                      paint_with=s0['feature'],\n",
    "#                      cmap='prism')\n",
    "# # # viewer.add_scalar_field(model.bounding_box,(38,55,30),\n",
    "# # #                       'box3',\n",
    "# # #                      paint_with=s0,\n",
    "# # #                      cmap='prism')\n",
    "# # # # # viewer.add_scalar_field(model.bounding_box,(38,55,30),\n",
    "# # # # #                       'box2',\n",
    "# # # # #                      paint_with=s0,\n",
    "# # # # #                      cmap='prism')\n",
    "# # # viewer.add_scalar_field(model.bounding_box,(38,55,30),\n",
    "# # #                       'box3',\n",
    "# # #                      paint_with=fault1['feature'],\n",
    "# # #                      cmap='prism')\n",
    "# # viewer.add_isosurface(s0,\n",
    "# #                       isovalue=0,\n",
    "# # #                       nslices=10,\n",
    "# #                      voxet=model.voxet()\n",
    "# #                      )\n",
    "# # viewer.add_vector_field(fault2['feature'][1],grid.barycentre[::10,:])\n",
    "# # viewer.add_vector_field(fault1['feature'][1],grid.barycentre[::10,:])\n",
    "\n",
    "# # viewer.add_isosurface(s02,\n",
    "# #                       name='test',\n",
    "# #                       isovalue=0,\n",
    "# # #                       nslices=10,\n",
    "# #                      voxet=model.voxet()\n",
    "# #                      )\n",
    "# # viewer.add_section()\n",
    "# # # viewer.add_isosurface(splay,voxet=model.voxet())\n",
    "# # # viewer.add_data(fault2[0])\n",
    "viewer.add_data(fault1['feature'][0])\n",
    "# viewer.add_data(fault2['feature'][0])\n",
    "# # viewer.add_points(s0.get_interpolator().support.nodes,name='points')\n",
    "# # viewer.add_points(s02.get_interpolator().support.nodes,name='points2')\n",
    "# points = fault1['feature'].apply_to_points(grid.nodes)\n",
    "# # points = fault2['feature'].apply_to_points(points)\n",
    "# viewer.add_points(points,name='faulted')\n",
    "# # viewer.add_data(s0)\n",
    "# # points = fault2['feature'].apply_to_points(points)\n",
    "# points = fault2['feature'].apply_to_points(points)\n",
    "# viewer.add_points(points,name='faulted2')\n",
    "\n",
    "viewer.interactive()"
   ]
  },
  {
   "cell_type": "code",
   "execution_count": null,
   "metadata": {},
   "outputs": [],
   "source": []
  }
 ],
 "metadata": {
  "kernelspec": {
   "display_name": "LoopStructural",
   "language": "python",
   "name": "loopstructural"
  },
  "language_info": {
   "codemirror_mode": {
    "name": "ipython",
    "version": 3
   },
   "file_extension": ".py",
   "mimetype": "text/x-python",
   "name": "python",
   "nbconvert_exporter": "python",
   "pygments_lexer": "ipython3",
   "version": "3.6.8"
  },
  "varInspector": {
   "cols": {
    "lenName": 16,
    "lenType": 16,
    "lenVar": 40
   },
   "kernels_config": {
    "python": {
     "delete_cmd_postfix": "",
     "delete_cmd_prefix": "del ",
     "library": "var_list.py",
     "varRefreshCmd": "print(var_dic_list())"
    },
    "r": {
     "delete_cmd_postfix": ") ",
     "delete_cmd_prefix": "rm(",
     "library": "var_list.r",
     "varRefreshCmd": "cat(var_dic_list()) "
    }
   },
   "types_to_exclude": [
    "module",
    "function",
    "builtin_function_or_method",
    "instance",
    "_Feature"
   ],
   "window_display": false
  }
 },
 "nbformat": 4,
 "nbformat_minor": 4
}
