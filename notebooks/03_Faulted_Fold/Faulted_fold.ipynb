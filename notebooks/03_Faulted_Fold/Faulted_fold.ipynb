{
 "cells": [
  {
   "cell_type": "code",
   "execution_count": 1,
   "metadata": {
    "ExecuteTime": {
     "end_time": "2019-06-12T12:50:46.115209Z",
     "start_time": "2019-06-12T12:50:45.903016Z"
    },
    "init_cell": true
   },
   "outputs": [],
   "source": [
    "import numpy as np\n",
    "#import matplotlib.pyplot as plt\n",
    "import matplotlib.pyplot as plt\n",
    "import scipy.sparse.linalg as sla\n",
    "import numpy.linalg as la\n",
    "import sys, os\n",
    "import pickle\n",
    "import geopandas\n",
    "#import rbf as RBF\n",
    "import warnings\n",
    "warnings.filterwarnings('ignore')\n",
    "#%matplotlib inline\n",
    "%load_ext cython"
   ]
  },
  {
   "cell_type": "code",
   "execution_count": 2,
   "metadata": {
    "ExecuteTime": {
     "end_time": "2019-06-12T12:50:58.718811Z",
     "start_time": "2019-06-12T12:50:58.704592Z"
    },
    "code_folding": [
     0
    ],
    "init_cell": true
   },
   "outputs": [],
   "source": [
    "from FME.geological_points import IePoint, IPoint, GPoint, TPoint\n",
    "from FME.geological_interpolator import GeologicalInterpolator\n",
    "from FME.tet_mesh import TetMesh\n",
    "from FME.dsi_interpolator import DSI\n",
    "from FME.foldframe import FoldFrame\n",
    "from FME.fold import FoldEvent, DSIFoldConstraint\n",
    "#from FME.structural_frame import StructuralFrame\n",
    "from FME.fault_segment import FaultSegment\n",
    "from FME.region_manager import RegionManager\n",
    "from FME.helper import *\n",
    "from FME.svariogram import s_variogram#"
   ]
  },
  {
   "cell_type": "code",
   "execution_count": 3,
   "metadata": {},
   "outputs": [
    {
     "name": "stdout",
     "output_type": "stream",
     "text": [
      "-8559.688807213679\n"
     ]
    }
   ],
   "source": [
    "orientations = geopandas.read_file('./shapefiles/orientations.shp')\n",
    "lines = geopandas.read_file('./shapefiles/lines.shp')\n",
    "points = geopandas.read_file('./shapefiles/points.shp')\n",
    "model_area = geopandas.read_file('./shapefiles/big_box.shp')\n",
    "geom = model_area.iloc[0]['geometry']\n",
    "coords = np.array(geom.exterior.coords[:])\n",
    "minz = -(np.max(coords[:,0])-np.min(coords[:,0]))/2.\n",
    "# geom = model_area.shapes()\n",
    "print(minz)\n"
   ]
  },
  {
   "cell_type": "code",
   "execution_count": 4,
   "metadata": {
    "ExecuteTime": {
     "end_time": "2019-06-12T12:51:05.092329Z",
     "start_time": "2019-06-12T12:51:00.494706Z"
    },
    "init_cell": true
   },
   "outputs": [
    {
     "name": "stdout",
     "output_type": "stream",
     "text": [
      "10694\n"
     ]
    }
   ],
   "source": [
    "boundary_points = np.zeros((2,3))\n",
    "boundary_points[0,0] = np.min(coords[:,0])\n",
    "boundary_points[0,1] = np.min(coords[:,1])\n",
    "boundary_points[0,2] = minz\n",
    "boundary_points[1,0] = np.max(coords[:,0])\n",
    "boundary_points[1,1] = np.max(coords[:,1])\n",
    "boundary_points[1,2] = -minz*0.1\n",
    "mesh = TetMesh('FaultedFold',)\n",
    "mesh.setup_mesh(boundary_points,nstep=1,n_tetra=50000,)\n",
    "regionmanager = RegionManager(mesh)\n",
    "xrange = boundary_points[1,0] - boundary_points[0,0]\n",
    "yrange = boundary_points[1,1] - boundary_points[0,1]\n",
    "zrange = boundary_points[1,2] - boundary_points[0,2]\n",
    "r1 = np.array(boundary_points,copy=True)\n",
    "r1[0,0] += xrange*.05\n",
    "r1[1,0] -= xrange*.05\n",
    "r1[0,1] += yrange*.05\n",
    "r1[1,1] -= yrange*.05\n",
    "r1[0,2] += zrange*.05\n",
    "r1[1,2] -= zrange*.05\n",
    "\n",
    "regionmanager.create_region_from_boundary_box(r1,'r1')\n",
    "\n",
    "#mesh.regions['R1'] = np.logical_and(mesh.nodes[:,0]>boundary_points[0,0]*.8,mesh.nodes[:,0]<boundary_points[1,0]*.8)\n",
    "# mesh.regions['R1']= np.logical_and(mesh.regions['R1'],mesh.nodes[:,1]>boundary_points[0,1]*.8) #ymin\n",
    "# mesh.regions['R1']= np.logical_and(mesh.regions['R1'],mesh.nodes[:,1]<boundary_points[1,1]*.8)\n",
    "# mesh.regions['R1']= np.logical_and(mesh.regions['R1'],mesh.nodes[:,2]>boundary_points[0,2]*.8)\n",
    "# mesh.regions['R1']= np.logical_and(mesh.regions['R1'],mesh.nodes[:,2]<boundary_points[1,2]*.8)\n",
    "#print(mesh.regions['R1'])\n",
    "#regionmanager.create_region_from_boundary_box(boundary_points*.8,'r1')\n",
    "regionmanager.create_properties_for_regions()\n",
    "cg = mesh.get_constant_gradient(region=mesh.regions['everywhere'],shape='square')\n",
    "# # second mesh is for the model area and the points can be moved around. No interpolation \\\n",
    "# # is performed on this mesh its just here because paraview can contour mesh objects not voxets\n",
    "# boundary_points2 = np.zeros((2,3))\n",
    "# boundary_points2=boundary_points*0.6\n",
    "# mesh2 = TetMesh('Flower3DModel')\n",
    "# mesh2.setup_mesh(boundary_points2,maxvol=0.5)\n",
    "mesh.save()\n",
    "print(mesh.n_nodes)"
   ]
  },
  {
   "cell_type": "code",
   "execution_count": 7,
   "metadata": {},
   "outputs": [
    {
     "name": "stdout",
     "output_type": "stream",
     "text": [
      "  type  strike  dip itype                                     geometry\n",
      "0   s2      90   90    gx  POINT (378919.6721233819 5789822.379812676)\n",
      "1   s2       0   90    gy  POINT (379502.5872370945 5789258.828824564)\n",
      "2   f1     190   60    gx   POINT (378577.510662704 5787831.658145825)\n",
      "   value type itype     z                                     geometry\n",
      "0   -1.0   s1    gx   0.0   POINT (378828.4866120323 5782318.51413778)\n",
      "1    1.0   s1    gx   0.0  POINT (379520.0583151031 5794948.989060227)\n",
      "2   -1.0   s1    gy   0.0  POINT (372634.8291044158 5789693.044853563)\n",
      "3    1.0   s1    gy   0.0  POINT (388459.5948601614 5789184.270505347)\n",
      "4   -1.0   f1    gy   0.0   POINT (378245.6982135118 5786246.74714883)\n",
      "5    1.0   f1    gy -10.0  POINT (379350.2259409281 5789778.809217884)\n",
      "6   -1.0   f1    gz   0.0  POINT (380720.3542450377 5794524.086167265)\n",
      "7    1.0   f1    gz   0.0   POINT (376941.4425829074 5782481.06340295)\n",
      "  type                                           geometry\n",
      "0   f1  LINESTRING (380774.0979486986 5794765.30283151...\n"
     ]
    }
   ],
   "source": [
    "print(orientations)\n",
    "\n",
    "print(points)\n",
    "\n",
    "print(lines)"
   ]
  },
  {
   "cell_type": "code",
   "execution_count": 8,
   "metadata": {
    "ExecuteTime": {
     "end_time": "2019-06-12T12:53:54.222343Z",
     "start_time": "2019-06-12T12:51:12.743839Z"
    }
   },
   "outputs": [
    {
     "name": "stdout",
     "output_type": "stream",
     "text": [
      "Setting up interpolator with 2 value control points \n",
      "        0 gradient control points and 0 tangent control points and \n",
      "        constant gradient regularization with a weight of 0.100000\n",
      "Setting up interpolator with 2 value control points \n",
      "        0 gradient control points and 0 tangent control points and \n",
      "        constant gradient regularization with a weight of 0.000000\n"
     ]
    }
   ],
   "source": [
    "f2 = FoldFrame(mesh=mesh,region='everywhere',shape='square',name='F1')\n",
    "\n",
    "for i, r in orientations.iterrows():\n",
    "    if r['type'] == 's1':\n",
    "        xy = r['geometry'].xy\n",
    "        z = 0\n",
    "        if 'z' in r:\n",
    "            z = r['z']\n",
    "        f2.add_strike_and_dip([xy[0][0],xy[1][0],z],r['strike'],r['dip'],itype=r['itype'])\n",
    "for i, r in points.iterrows():\n",
    "    if r['type'] == 's1':\n",
    "        xy = r['geometry'].xy\n",
    "        z = 0\n",
    "        if 'z' in r:\n",
    "            z = r['z']\n",
    "        f2.add_point([xy[0][0],xy[1][0],z],r['value'],itype=r['itype'])\n",
    "for i, r in lines.iterrows():\n",
    "    if r['type'] == 's1':\n",
    "        xy = r['geometry'].xy\n",
    "        z = 0\n",
    "        if 'z' in r:\n",
    "            z = r['z']\n",
    "        f2.add_point([xy[0][0],xy[1][0],z],r['value'],itype='gx')        \n",
    "        \n",
    "# for r,l in lines:\n",
    "#     if l.record[0] == 's1':\n",
    "#         for p in l.shape.points:\n",
    "#             f2.add_point([p[0],p[1],0],0,itype='gx')\n",
    "# for o in orientations:\n",
    "#     if o.record[0] == 's1':\n",
    "#         p = o.shape.points[0]\n",
    "#         f2.add_strike_and_dip([p[0],p[1],0.],o.record[1],o.record[2],itype=o.record[3])\n",
    "# for p in points:\n",
    "#     if p.record[1]  == 's1':\n",
    "#         f2.add_point([p.shape.points[0][0],p.shape.points[0][1],p.record[3]],float(p.record[0]),itype=p.record[2])\n",
    "f2.buildFrame(solver='lu')\n",
    "f2.interpolators['gx'].export_data_to_vtk('fold_f2_gx_data')\n",
    "\n",
    "# s2.setup_interpolator()\n",
    "# s2.solve_system(solver='chol')\n",
    "# mesh.update_property('s2',s2.c)"
   ]
  },
  {
   "cell_type": "code",
   "execution_count": null,
   "metadata": {},
   "outputs": [],
   "source": []
  },
  {
   "cell_type": "code",
   "execution_count": 9,
   "metadata": {
    "ExecuteTime": {
     "end_time": "2019-06-12T12:54:01.830894Z",
     "start_time": "2019-06-12T12:54:01.828075Z"
    }
   },
   "outputs": [],
   "source": [
    "def fold_axis_rotation(x):\n",
    "    r =  np.zeros(x.shape)\n",
    "    r[:] = 0.\n",
    "    return r#np.rad2deg(np.arctan(np.sin(x*100)))\n",
    "def fold_limb_rotation(x):\n",
    "    return np.rad2deg(np.arctan(np.sin(x*2)))"
   ]
  },
  {
   "cell_type": "code",
   "execution_count": 10,
   "metadata": {
    "ExecuteTime": {
     "end_time": "2019-06-12T12:54:10.010386Z",
     "start_time": "2019-06-12T12:54:09.539214Z"
    }
   },
   "outputs": [
    {
     "data": {
      "text/plain": [
       "[<matplotlib.lines.Line2D at 0x7f7ba0370080>]"
      ]
     },
     "execution_count": 10,
     "metadata": {},
     "output_type": "execute_result"
    },
    {
     "data": {
      "image/png": "[encoded data removed]",
      "text/plain": [
       "<Figure size 432x288 with 1 Axes>"
      ]
     },
     "metadata": {
      "needs_background": "light"
     },
     "output_type": "display_data"
    }
   ],
   "source": [
    "xi = np.linspace(np.min(mesh.properties['F1_gx']),np.max(mesh.properties['F1_gx']),1000)\n",
    "plt.plot(xi,fold_limb_rotation(xi))\n",
    "#plt.plot(s2,rotation,'bo')"
   ]
  },
  {
   "cell_type": "code",
   "execution_count": 11,
   "metadata": {
    "ExecuteTime": {
     "end_time": "2019-06-12T12:54:31.863233Z",
     "start_time": "2019-06-12T12:54:17.711788Z"
    }
   },
   "outputs": [],
   "source": [
    "fold = FoldEvent(f2,fold_axis_rotation,fold_limb_rotation)\n",
    "const = DSIFoldConstraint(fold,mesh,shape='square')\n",
    "const.use_deformed_orientation_cnstrt(5.)\n",
    "const.use_fold_axis_cnstrt(3.)\n",
    "const.use_regularisation_cnstrt(10.)\n",
    "const.use_normalisation_cnstrt()\n",
    "\n",
    "A, B, row, col = const.get_constraints()\n",
    "deformed_orientation, fold_axis, dgz = fold.get_deformed_orientation(mesh.barycentre)\n",
    "mesh.property_gradients['fold'] = deformed_orientation\n",
    "mesh.property_gradients['axis'] = fold_axis\n",
    "mesh.update_property('foldrot',fold_limb_rotation(mesh.properties['F1_gx']))"
   ]
  },
  {
   "cell_type": "code",
   "execution_count": 13,
   "metadata": {
    "ExecuteTime": {
     "end_time": "2019-06-12T12:56:16.880598Z",
     "start_time": "2019-06-12T12:54:59.759074Z"
    }
   },
   "outputs": [
    {
     "name": "stdout",
     "output_type": "stream",
     "text": [
      "Setting up interpolator with 1 value control points \n",
      "        0 gradient control points and 0 tangent control points and \n",
      "        constant gradient regularization with a weight of 0.000000\n"
     ]
    }
   ],
   "source": [
    "stratigraphy = DSI(mesh,region='everywhere',shape='square',solver='chol')\n",
    "# for i in range(-15,15):\n",
    "#     for j in range(-10,10):\n",
    "#         stratigraphy.add_point([i,j,3*np.sin(j/5)],0.)\n",
    "#         stratigraphy.add_point([i,j,3*np.sin(j/5)+1],1.)\n",
    "stratigraphy.add_point(mesh.pca.inverse_transform([0.1,0.1,1.1]),0.)\n",
    "# stratigraphy.add_point([80.1,0.1,1.1],1.)\n",
    "\n",
    "\n",
    "stratigraphy.setup_interpolator(cg=False,cgw=0.)\n",
    "stratigraphy.A.extend(A)\n",
    "stratigraphy.row.extend(row)\n",
    "stratigraphy.col.extend(col)\n",
    "stratigraphy.B+=B\n",
    "stratigraphy.solve_system(solver='lu',clear=True)\n",
    "mesh.update_property('strati',stratigraphy.c)"
   ]
  },
  {
   "cell_type": "code",
   "execution_count": 10,
   "metadata": {
    "ExecuteTime": {
     "end_time": "2019-05-21T22:41:13.768052Z",
     "start_time": "2019-05-21T22:39:15.721499Z"
    }
   },
   "outputs": [
    {
     "name": "stdout",
     "output_type": "stream",
     "text": [
      "Record #0: ['s2', 90, 90, 'gx']\n",
      "Record #1: ['s2', 0, 90, 'gy']\n",
      "Record #2: ['f1', 190, 60, 'gx']\n",
      "Record #0: [-1.0, 's1', 'gx', 0.0]\n",
      "Record #1: [1.0, 's1', 'gx', 0.0]\n",
      "Record #2: [-1.0, 's1', 'gy', 0.0]\n",
      "Record #3: [1.0, 's1', 'gy', 0.0]\n",
      "Record #4: [-1.0, 'f1', 'gy', 0.0]\n",
      "Record #5: [1.0, 'f1', 'gy', -10.0]\n",
      "Record #6: [-1.0, 'f1', 'gz', 0.0]\n",
      "Record #7: [1.0, 'f1', 'gz', 0.0]\n",
      "Setting up interpolator with 5 value control points \n",
      "        1 gradient control points and 0 tangent control points and \n",
      "        constant gradient regularization with a weight of 0.000485\n",
      "Setting up interpolator with 2 value control points \n",
      "        0 gradient control points and 0 tangent control points and \n",
      "        constant gradient regularization with a weight of 0.000485\n",
      "Setting up interpolator with 2 value control points \n",
      "        0 gradient control points and 0 tangent control points and \n",
      "        constant gradient regularization with a weight of 0.000485\n"
     ]
    }
   ],
   "source": [
    "gx=True\n",
    "gy=True\n",
    "gz=True\n",
    "cgw = 100\n",
    "cgw = cgw / mesh.n_elements\n",
    "fault1 = FaultSegment(mesh=mesh,region='everywhere',shape='square',name='Fault1')\n",
    "for l in lines:\n",
    "    if l.record[0] == 'f1':\n",
    "        for p in l.shape.points:\n",
    "            fault1.add_point([p[0],p[1],0],0,itype='gx')\n",
    "for o in orientations:\n",
    "    print(o.record)\n",
    "    if o.record[0] == 'f1':\n",
    "        p = o.shape.points[0]\n",
    "        fault1.add_strike_and_dip([p[0],p[1],0.],o.record[1],o.record[2],itype=o.record[3])\n",
    "for p in points:\n",
    "    print(p.record)\n",
    "    if p.record[1]  == 'f1':\n",
    "        fault1.add_point([p.shape.points[0][0],p.shape.points[0][1],p.record[3]],float(p.record[0]),itype=p.record[2])\n",
    "fault1.buildFrame(solver='chol',\n",
    "                   gxxgy=0.1,\n",
    "                   gxxgz=1,\n",
    "                   gyxgz=0.05,\n",
    "                   gxcg=cgw,\n",
    "                   gycg=cgw,\n",
    "                   gzcg=cgw,\n",
    "                   shape='square',\n",
    "                   gxgcp=10,\n",
    "                   gx=gx,\n",
    "                   gy=gy,\n",
    "                   gz=gz\n",
    "                  )\n",
    "fault1.interpolators['gx'].export_data_to_vtk('fault_f1_gx_data')"
   ]
  },
  {
   "cell_type": "code",
   "execution_count": 12,
   "metadata": {
    "ExecuteTime": {
     "end_time": "2019-06-12T12:56:44.792966Z",
     "start_time": "2019-06-12T12:56:44.403168Z"
    }
   },
   "outputs": [
    {
     "ename": "NameError",
     "evalue": "name 'fault1' is not defined",
     "output_type": "error",
     "traceback": [
      "\u001b[0;31m---------------------------------------------------------------------------\u001b[0m",
      "\u001b[0;31mNameError\u001b[0m                                 Traceback (most recent call last)",
      "\u001b[0;32m<ipython-input-12-f44e728b49d4>\u001b[0m in \u001b[0;36m<module>\u001b[0;34m\u001b[0m\n\u001b[1;32m      2\u001b[0m \u001b[0mgxl\u001b[0m \u001b[0;34m=\u001b[0m \u001b[0;36m240\u001b[0m\u001b[0;34m\u001b[0m\u001b[0;34m\u001b[0m\u001b[0m\n\u001b[1;32m      3\u001b[0m \u001b[0mgzl\u001b[0m \u001b[0;34m=\u001b[0m \u001b[0;36m2\u001b[0m\u001b[0;34m\u001b[0m\u001b[0;34m\u001b[0m\u001b[0m\n\u001b[0;32m----> 4\u001b[0;31m fault1.buildFaultDisplacementField(\n\u001b[0m\u001b[1;32m      5\u001b[0m     \u001b[0mdm\u001b[0m\u001b[0;34m=\u001b[0m\u001b[0md\u001b[0m\u001b[0;34m\u001b[0m\u001b[0;34m\u001b[0m\u001b[0m\n\u001b[1;32m      6\u001b[0m )\n",
      "\u001b[0;31mNameError\u001b[0m: name 'fault1' is not defined"
     ]
    }
   ],
   "source": [
    "d=zrange*0.2\n",
    "gxl = 240\n",
    "gzl = 2\n",
    "fault1.buildFaultDisplacementField(\n",
    "    dm=d\n",
    ")\n",
    "newpoints = np.array(mesh.nodes[mesh.regions['r1']],copy=True, order='C')\n",
    "newpoints  = fault1.applyFault(newpoints,region='r1',steps=10,boundary_pointssteps=40)\n",
    "np.savetxt('fault1movedpoints.txt',newpoints,delimiter=',')\n",
    "\n"
   ]
  },
  {
   "cell_type": "code",
   "execution_count": null,
   "metadata": {
    "ExecuteTime": {
     "end_time": "2019-06-12T12:56:44.795599Z",
     "start_time": "2019-06-12T12:53:06.868Z"
    }
   },
   "outputs": [],
   "source": [
    "\n",
    "interp = np.zeros(mesh.properties['strati'].shape)\n",
    "interp[:] = np.nan\n",
    "interp[mesh.regions['r1']] = mesh.eval_interpolant(newpoints,'strati',k=50)\n",
    "mesh.update_property('strati_int',interp)"
   ]
  },
  {
   "cell_type": "code",
   "execution_count": null,
   "metadata": {
    "ExecuteTime": {
     "end_time": "2019-06-12T12:56:44.797649Z",
     "start_time": "2019-06-12T12:54:25.692Z"
    }
   },
   "outputs": [],
   "source": [
    "import lavavu\n",
    "lv = lavavu.Viewer()\n",
    "mesh.lv_plot_isosurface(\n",
    "    'strati_int',\n",
    "    3000,\n",
    "    name='strati',\n",
    "    interactive=False,\n",
    "    lv=lv,\n",
    "    draw=False,\n",
    "#     region=\"r1\"\n",
    ")\n",
    "# mesh.lv_plot_isosurface(\n",
    "#     fold_f1.interpolators['gx'].propertyname,\n",
    "#     1000,\n",
    "#     name=fold_f1.interpolators['gx'].propertyname+\"_2\",\n",
    "#     interactive=False,\n",
    "#     lv=lv,\n",
    "#     draw=False,\n",
    "# #     region=\"r1\"\n",
    "# )\n",
    "# mesh.lv_plot_isosurface(\n",
    "#     fold_f1.interpolators['gx'].propertyname,\n",
    "#     4000,\n",
    "#     name=fold_f1.interpolators['gx'].propertyname+\"_1\",\n",
    "#     interactive=False,\n",
    "#     lv=lv,\n",
    "#     draw=False,\n",
    "# #     region=\"r1\"\n",
    "# )\n",
    "# print(s0)\n",
    "# xyz = s0.loc[:,['x','y','z']].as_matrix()\n",
    "# # s0g = strike_dip_vector(s0.loc[:,'Dip_Dir']-90,s0.loc[:,'Dip'])\n",
    "\n",
    "# s0_ori = lv.vectors('s0_ori')\n",
    "# s0_ori.vertices(xyz)\n",
    "# s0_ori.vectors(s0g)\n",
    "# s1_ori = lv.vectors('s1_ori')\n",
    "# s1_ori.vertices(fold_f1.interpolators['gx'].get_gradient_control()[:,:3])\n",
    "# s1_ori.vectors(fold_f1.interpolators['gx'].get_gradient_control()[:,3:])\n",
    "# # mesh.lv_plot_isosurface(\n",
    "#     'REGION_FaultSegmentRegion1',\n",
    "#     0,\n",
    "#     name='Strati2',\n",
    "#     interactive=False,\n",
    "#     lv=lv,\n",
    "#     draw=False,\n",
    "# #     region=\"FaultSegmentRegion%i\"%1\n",
    "# )\n",
    "\n",
    "#mesh.lv_plot_isosurface('strati',1,name='Strati1',interactive=False,lv=lv,draw=False)\n",
    "#mesh.lv_plot_isosurface(segments[4].interpolators['gx'].propertyname,0,name='Strati2',interactive=False,lv=lv,draw=False)\n",
    "\n",
    "# mesh.lv_plot_isosurface('strati',2,name='Strati2',interactive=False,lv=lv,draw=False)\n",
    "lv.control.Panel()\n",
    "lv.control.ObjectList()\n",
    "    # lv.reload()\n",
    "lv.control.show()#nterac"
   ]
  },
  {
   "cell_type": "code",
   "execution_count": null,
   "metadata": {},
   "outputs": [],
   "source": []
  }
 ],
 "metadata": {
  "celltoolbar": "Initialization Cell",
  "kernelspec": {
   "display_name": "Python 3",
   "language": "python",
   "name": "python3"
  },
  "language_info": {
   "codemirror_mode": {
    "name": "ipython",
    "version": 3
   },
   "file_extension": ".py",
   "mimetype": "text/x-python",
   "name": "python",
   "nbconvert_exporter": "python",
   "pygments_lexer": "ipython3",
   "version": "3.7.3"
  },
  "varInspector": {
   "cols": {
    "lenName": 16,
    "lenType": 16,
    "lenVar": 40
   },
   "kernels_config": {
    "python": {
     "delete_cmd_postfix": "",
     "delete_cmd_prefix": "del ",
     "library": "var_list.py",
     "varRefreshCmd": "print(var_dic_list())"
    },
    "r": {
     "delete_cmd_postfix": ") ",
     "delete_cmd_prefix": "rm(",
     "library": "var_list.r",
     "varRefreshCmd": "cat(var_dic_list()) "
    }
   },
   "types_to_exclude": [
    "module",
    "function",
    "builtin_function_or_method",
    "instance",
    "_Feature"
   ],
   "window_display": false
  }
 },
 "nbformat": 4,
 "nbformat_minor": 2
}
