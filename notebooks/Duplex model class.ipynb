{
 "cells": [
  {
   "cell_type": "code",
   "execution_count": 1,
   "metadata": {
    "ExecuteTime": {
     "end_time": "2019-11-26T23:48:27.048852Z",
     "start_time": "2019-11-26T23:48:25.626040Z"
    }
   },
   "outputs": [],
   "source": [
    "import numpy as np\n",
    "import pandas as pd\n",
    "import matplotlib.pyplot as plt\n",
    "from LoopStructural import GeologicalModel\n",
    "from LoopStructural.visualisation.model_visualisation import LavaVuModelViewer\n",
    "import matplotlib.pyplot as plt\n",
    "%matplotlib inline\n",
    "# %load_ext snakeviz"
   ]
  },
  {
   "cell_type": "code",
   "execution_count": 2,
   "metadata": {
    "ExecuteTime": {
     "end_time": "2019-11-26T23:48:27.054165Z",
     "start_time": "2019-11-26T23:48:27.050561Z"
    }
   },
   "outputs": [],
   "source": [
    "boundary_points = np.zeros((2,3))\n",
    "boundary_points[0,0] = -10.\n",
    "boundary_points[0,1] = -1.\n",
    "boundary_points[0,2] = -1.\n",
    "boundary_points[1,0] = 10.\n",
    "boundary_points[1,1] = 3.\n",
    "boundary_points[1,2] = 10."
   ]
  },
  {
   "cell_type": "code",
   "execution_count": 3,
   "metadata": {},
   "outputs": [],
   "source": [
    "# data.to_pickle('../LoopStructural/datasets/data/duplex.pkl')"
   ]
  },
  {
   "cell_type": "code",
   "execution_count": 4,
   "metadata": {},
   "outputs": [],
   "source": [
    "np.savetxt('../LoopStructural/datasets/data/duplexbb.txt',boundary_points)"
   ]
  },
  {
   "cell_type": "code",
   "execution_count": 5,
   "metadata": {
    "ExecuteTime": {
     "end_time": "2019-11-26T23:48:27.074903Z",
     "start_time": "2019-11-26T23:48:27.055832Z"
    }
   },
   "outputs": [],
   "source": [
    "data = pd.read_pickle('duplextesting.pkl')\n",
    "# data.to_pickle('duplextesting.pkl')"
   ]
  },
  {
   "cell_type": "code",
   "execution_count": 6,
   "metadata": {
    "ExecuteTime": {
     "end_time": "2019-11-26T23:48:27.079560Z",
     "start_time": "2019-11-26T23:48:27.076508Z"
    }
   },
   "outputs": [],
   "source": [
    "# splay_region = lambda pos : pos[:,0] < (-4.5-model.origin[0])/model.scale_factor\n",
    "                                         \n",
    "splay_region = lambda pos : np.logical_or(pos[:,0] < (-6.5-model.origin[0])/model.scale_factor, pos[:,0] \n",
    "                                          > (5-model.origin[0])/model.scale_factor)"
   ]
  },
  {
   "cell_type": "code",
   "execution_count": 7,
   "metadata": {
    "ExecuteTime": {
     "end_time": "2019-11-26T23:48:27.105180Z",
     "start_time": "2019-11-26T23:48:27.080918Z"
    }
   },
   "outputs": [],
   "source": [
    "model = GeologicalModel(boundary_points[0,:],boundary_points[1,:])\n",
    "model.set_model_data(data)"
   ]
  },
  {
   "cell_type": "code",
   "execution_count": 8,
   "metadata": {
    "ExecuteTime": {
     "end_time": "2019-11-26T23:48:27.505901Z",
     "start_time": "2019-11-26T23:48:27.106500Z"
    }
   },
   "outputs": [
    {
     "data": {
      "text/html": [
       "<img src='data:image/png;base64,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'>"
      ],
      "text/plain": [
       "<IPython.core.display.HTML object>"
      ]
     },
     "metadata": {},
     "output_type": "display_data"
    },
    {
     "data": {
      "text/plain": [
       "'fault_data.png'"
      ]
     },
     "execution_count": 8,
     "metadata": {},
     "output_type": "execute_result"
    }
   ],
   "source": [
    "viewer = LavaVuModelViewer(model)\n",
    "\n",
    "viewer.add_points(model.data[np.logical_and(data['type']=='fault2',data['coord']==0)][['X','Y','Z']],\n",
    "                  name='f1',pointsize=10,colour='red')\n",
    "\n",
    "# viewer.add_data(fault1['feature'][0],pointsize=20)\n",
    "viewer.add_points(model.data[np.logical_and(data['type']=='fault1',data['coord']==0)][['X','Y','Z']],\n",
    "                  name='f2',pointsize=10,colour='blue')\n",
    "# viewer.add_data(fault2['feature'][0])\n",
    "viewer.lv.rotatex(-90)\n",
    "viewer.lv['xmin'] = -1\n",
    "viewer.lv['ymin'] = -1\n",
    "viewer.lv['zmin'] = -1\n",
    "viewer.lv['xmax'] = 1\n",
    "viewer.lv['ymax'] = 1\n",
    "viewer.lv['zmax'] = 1\n",
    "viewer.lv['border'] = 0\n",
    "\n",
    "viewer.lv.display()\n",
    "viewer.lv.image('fault_data.png')"
   ]
  },
  {
   "cell_type": "code",
   "execution_count": 9,
   "metadata": {
    "ExecuteTime": {
     "end_time": "2019-11-26T23:48:54.587078Z",
     "start_time": "2019-11-26T23:48:27.507407Z"
    }
   },
   "outputs": [
    {
     "ename": "IndexError",
     "evalue": "boolean index did not match indexed array along dimension 0; dimension is 5292 but corresponding boolean dimension is 6048",
     "output_type": "error",
     "traceback": [
      "\u001b[1;31m---------------------------------------------------------------------------\u001b[0m",
      "\u001b[1;31mIndexError\u001b[0m                                Traceback (most recent call last)",
      "\u001b[1;32m<ipython-input-9-f5efc68a492f>\u001b[0m in \u001b[0;36m<module>\u001b[1;34m\u001b[0m\n\u001b[0;32m     34\u001b[0m                                     \u001b[0msteps\u001b[0m\u001b[1;33m=\u001b[0m\u001b[1;36m10\u001b[0m\u001b[1;33m,\u001b[0m\u001b[1;33m\u001b[0m\u001b[1;33m\u001b[0m\u001b[0m\n\u001b[0;32m     35\u001b[0m                                     \u001b[0mcpw\u001b[0m\u001b[1;33m=\u001b[0m\u001b[1;36m10\u001b[0m\u001b[1;33m,\u001b[0m\u001b[1;33m\u001b[0m\u001b[1;33m\u001b[0m\u001b[0m\n\u001b[1;32m---> 36\u001b[1;33m                                     \u001b[0moverprinted\u001b[0m\u001b[1;33m=\u001b[0m\u001b[1;33m[\u001b[0m\u001b[1;34m'fault2'\u001b[0m\u001b[1;33m]\u001b[0m\u001b[1;33m\u001b[0m\u001b[1;33m\u001b[0m\u001b[0m\n\u001b[0m\u001b[0;32m     37\u001b[0m                                    )\n\u001b[0;32m     38\u001b[0m strati = model.create_and_add_foliation('strati',\n",
      "\u001b[1;32mc:\\users\\lgrose\\.conda\\envs\\loop\\lib\\site-packages\\LoopStructural\\modelling\\core\\geological_model.py\u001b[0m in \u001b[0;36mcreate_and_add_fault\u001b[1;34m(self, fault_surface_data, displacement, **kwargs)\u001b[0m\n\u001b[0;32m    654\u001b[0m                 val = kwargs['splay'][i].evaluate_value(\n\u001b[0;32m    655\u001b[0m                     interpolator.support.nodes[\n\u001b[1;32m--> 656\u001b[1;33m                     kwargs['splayregion'](interpolator.support.nodes), :])\n\u001b[0m\u001b[0;32m    657\u001b[0m                 \u001b[0mmask\u001b[0m \u001b[1;33m=\u001b[0m \u001b[1;33m~\u001b[0m\u001b[0mnp\u001b[0m\u001b[1;33m.\u001b[0m\u001b[0misnan\u001b[0m\u001b[1;33m(\u001b[0m\u001b[0mval\u001b[0m\u001b[1;33m)\u001b[0m\u001b[1;33m\u001b[0m\u001b[1;33m\u001b[0m\u001b[0m\n\u001b[0;32m    658\u001b[0m                 fault_frame_builder[i].interpolator.add_equality_constraints(\n",
      "\u001b[1;32mc:\\users\\lgrose\\.conda\\envs\\loop\\lib\\site-packages\\LoopStructural\\modelling\\features\\geological_feature.py\u001b[0m in \u001b[0;36mevaluate_value\u001b[1;34m(self, evaluation_points)\u001b[0m\n\u001b[0;32m    106\u001b[0m             \u001b[1;32mfor\u001b[0m \u001b[0mf\u001b[0m \u001b[1;32min\u001b[0m \u001b[0mself\u001b[0m\u001b[1;33m.\u001b[0m\u001b[0mfaults\u001b[0m\u001b[1;33m:\u001b[0m\u001b[1;33m\u001b[0m\u001b[1;33m\u001b[0m\u001b[0m\n\u001b[0;32m    107\u001b[0m                 \u001b[0mevaluation_points\u001b[0m \u001b[1;33m=\u001b[0m \u001b[0mf\u001b[0m\u001b[1;33m.\u001b[0m\u001b[0mapply_to_points\u001b[0m\u001b[1;33m(\u001b[0m\u001b[0mevaluation_points\u001b[0m\u001b[1;33m)\u001b[0m\u001b[1;33m\u001b[0m\u001b[1;33m\u001b[0m\u001b[0m\n\u001b[1;32m--> 108\u001b[1;33m         \u001b[0mv\u001b[0m\u001b[1;33m[\u001b[0m\u001b[0mmask\u001b[0m\u001b[1;33m]\u001b[0m \u001b[1;33m=\u001b[0m \u001b[0mself\u001b[0m\u001b[1;33m.\u001b[0m\u001b[0msupport\u001b[0m\u001b[1;33m.\u001b[0m\u001b[0mevaluate_value\u001b[0m\u001b[1;33m(\u001b[0m\u001b[0mevaluation_points\u001b[0m\u001b[1;33m[\u001b[0m\u001b[0mmask\u001b[0m\u001b[1;33m,\u001b[0m \u001b[1;33m:\u001b[0m\u001b[1;33m]\u001b[0m\u001b[1;33m)\u001b[0m\u001b[1;33m\u001b[0m\u001b[1;33m\u001b[0m\u001b[0m\n\u001b[0m\u001b[0;32m    109\u001b[0m         \u001b[1;32mreturn\u001b[0m \u001b[0mv\u001b[0m\u001b[1;33m\u001b[0m\u001b[1;33m\u001b[0m\u001b[0m\n\u001b[0;32m    110\u001b[0m \u001b[1;33m\u001b[0m\u001b[0m\n",
      "\u001b[1;32mc:\\users\\lgrose\\.conda\\envs\\loop\\lib\\site-packages\\LoopStructural\\supports\\scalar_field.py\u001b[0m in \u001b[0;36mevaluate_value\u001b[1;34m(self, evaluation_points)\u001b[0m\n\u001b[0;32m     86\u001b[0m         \u001b[1;32mif\u001b[0m \u001b[0mevaluation_points\u001b[0m\u001b[1;33m[\u001b[0m\u001b[1;33m~\u001b[0m\u001b[0mmask\u001b[0m\u001b[1;33m,\u001b[0m \u001b[1;33m:\u001b[0m\u001b[1;33m]\u001b[0m\u001b[1;33m.\u001b[0m\u001b[0mshape\u001b[0m\u001b[1;33m[\u001b[0m\u001b[1;36m0\u001b[0m\u001b[1;33m]\u001b[0m \u001b[1;33m>\u001b[0m \u001b[1;36m0\u001b[0m\u001b[1;33m:\u001b[0m\u001b[1;33m\u001b[0m\u001b[1;33m\u001b[0m\u001b[0m\n\u001b[0;32m     87\u001b[0m             evaluated[~mask] = self.support.evaluate_value(\n\u001b[1;32m---> 88\u001b[1;33m                 evaluation_points[~mask], self.property_name)\n\u001b[0m\u001b[0;32m     89\u001b[0m         \u001b[1;32mreturn\u001b[0m \u001b[0mevaluated\u001b[0m\u001b[1;33m\u001b[0m\u001b[1;33m\u001b[0m\u001b[0m\n\u001b[0;32m     90\u001b[0m \u001b[1;33m\u001b[0m\u001b[0m\n",
      "\u001b[1;32mc:\\users\\lgrose\\.conda\\envs\\loop\\lib\\site-packages\\LoopStructural\\supports\\structured_tetra.py\u001b[0m in \u001b[0;36mevaluate_value\u001b[1;34m(self, pos, prop)\u001b[0m\n\u001b[0;32m     86\u001b[0m         \u001b[0mvalues\u001b[0m \u001b[1;33m=\u001b[0m \u001b[0mnp\u001b[0m\u001b[1;33m.\u001b[0m\u001b[0mzeros\u001b[0m\u001b[1;33m(\u001b[0m\u001b[0mpos\u001b[0m\u001b[1;33m.\u001b[0m\u001b[0mshape\u001b[0m\u001b[1;33m[\u001b[0m\u001b[1;36m0\u001b[0m\u001b[1;33m]\u001b[0m\u001b[1;33m)\u001b[0m\u001b[1;33m\u001b[0m\u001b[1;33m\u001b[0m\u001b[0m\n\u001b[0;32m     87\u001b[0m         \u001b[0mvalues\u001b[0m\u001b[1;33m[\u001b[0m\u001b[1;33m:\u001b[0m\u001b[1;33m]\u001b[0m \u001b[1;33m=\u001b[0m \u001b[0mnp\u001b[0m\u001b[1;33m.\u001b[0m\u001b[0mnan\u001b[0m\u001b[1;33m\u001b[0m\u001b[1;33m\u001b[0m\u001b[0m\n\u001b[1;32m---> 88\u001b[1;33m         \u001b[0mvertices\u001b[0m\u001b[1;33m,\u001b[0m \u001b[0mc\u001b[0m\u001b[1;33m,\u001b[0m \u001b[0mtetras\u001b[0m\u001b[1;33m,\u001b[0m \u001b[0minside\u001b[0m \u001b[1;33m=\u001b[0m \u001b[0mself\u001b[0m\u001b[1;33m.\u001b[0m\u001b[0mget_tetra_for_location\u001b[0m\u001b[1;33m(\u001b[0m\u001b[0mpos\u001b[0m\u001b[1;33m)\u001b[0m\u001b[1;33m\u001b[0m\u001b[1;33m\u001b[0m\u001b[0m\n\u001b[0m\u001b[0;32m     89\u001b[0m         \u001b[0mvalues\u001b[0m\u001b[1;33m[\u001b[0m\u001b[0minside\u001b[0m\u001b[1;33m]\u001b[0m \u001b[1;33m=\u001b[0m \u001b[0mnp\u001b[0m\u001b[1;33m.\u001b[0m\u001b[0msum\u001b[0m\u001b[1;33m(\u001b[0m\u001b[0mc\u001b[0m\u001b[1;33m[\u001b[0m\u001b[0minside\u001b[0m\u001b[1;33m,\u001b[0m\u001b[1;33m:\u001b[0m\u001b[1;33m]\u001b[0m\u001b[1;33m*\u001b[0m\u001b[0mself\u001b[0m\u001b[1;33m.\u001b[0m\u001b[0mproperties\u001b[0m\u001b[1;33m[\u001b[0m\u001b[0mprop\u001b[0m\u001b[1;33m]\u001b[0m\u001b[1;33m[\u001b[0m\u001b[0mtetras\u001b[0m\u001b[1;33m[\u001b[0m\u001b[0minside\u001b[0m\u001b[1;33m,\u001b[0m\u001b[1;33m:\u001b[0m\u001b[1;33m]\u001b[0m\u001b[1;33m]\u001b[0m\u001b[1;33m,\u001b[0m\u001b[0maxis\u001b[0m\u001b[1;33m=\u001b[0m\u001b[1;36m1\u001b[0m\u001b[1;33m)\u001b[0m\u001b[1;33m\u001b[0m\u001b[1;33m\u001b[0m\u001b[0m\n\u001b[0;32m     90\u001b[0m         \u001b[1;32mreturn\u001b[0m \u001b[0mvalues\u001b[0m\u001b[1;33m\u001b[0m\u001b[1;33m\u001b[0m\u001b[0m\n",
      "\u001b[1;32mc:\\users\\lgrose\\.conda\\envs\\loop\\lib\\site-packages\\LoopStructural\\supports\\structured_tetra.py\u001b[0m in \u001b[0;36mget_tetra_for_location\u001b[1;34m(self, pos)\u001b[0m\n\u001b[0;32m    189\u001b[0m         \u001b[0mvertices_return\u001b[0m \u001b[1;33m=\u001b[0m \u001b[0mnp\u001b[0m\u001b[1;33m.\u001b[0m\u001b[0mzeros\u001b[0m\u001b[1;33m(\u001b[0m\u001b[1;33m(\u001b[0m\u001b[0mpos\u001b[0m\u001b[1;33m.\u001b[0m\u001b[0mshape\u001b[0m\u001b[1;33m[\u001b[0m\u001b[1;36m0\u001b[0m\u001b[1;33m]\u001b[0m\u001b[1;33m,\u001b[0m\u001b[1;36m4\u001b[0m\u001b[1;33m,\u001b[0m\u001b[1;36m3\u001b[0m\u001b[1;33m)\u001b[0m\u001b[1;33m)\u001b[0m\u001b[1;33m\u001b[0m\u001b[1;33m\u001b[0m\u001b[0m\n\u001b[0;32m    190\u001b[0m         \u001b[0mvertices_return\u001b[0m\u001b[1;33m[\u001b[0m\u001b[1;33m:\u001b[0m\u001b[1;33m]\u001b[0m \u001b[1;33m=\u001b[0m \u001b[0mnp\u001b[0m\u001b[1;33m.\u001b[0m\u001b[0mnan\u001b[0m\u001b[1;33m\u001b[0m\u001b[1;33m\u001b[0m\u001b[0m\n\u001b[1;32m--> 191\u001b[1;33m         \u001b[0mvertices_return\u001b[0m\u001b[1;33m[\u001b[0m\u001b[0minside\u001b[0m\u001b[1;33m,\u001b[0m\u001b[1;33m:\u001b[0m\u001b[1;33m,\u001b[0m\u001b[1;33m:\u001b[0m\u001b[1;33m]\u001b[0m \u001b[1;33m=\u001b[0m \u001b[0mvertices\u001b[0m\u001b[1;33m[\u001b[0m\u001b[0mmask\u001b[0m\u001b[1;33m,\u001b[0m\u001b[1;33m:\u001b[0m\u001b[1;33m,\u001b[0m\u001b[1;33m:\u001b[0m\u001b[1;33m]\u001b[0m\u001b[1;33m[\u001b[0m\u001b[0minside\u001b[0m\u001b[1;33m,\u001b[0m\u001b[1;33m:\u001b[0m\u001b[1;33m,\u001b[0m\u001b[1;33m:\u001b[0m\u001b[1;33m]\u001b[0m\u001b[1;33m\u001b[0m\u001b[1;33m\u001b[0m\u001b[0m\n\u001b[0m\u001b[0;32m    192\u001b[0m         \u001b[0mc_return\u001b[0m \u001b[1;33m=\u001b[0m \u001b[0mnp\u001b[0m\u001b[1;33m.\u001b[0m\u001b[0mzeros\u001b[0m\u001b[1;33m(\u001b[0m\u001b[1;33m(\u001b[0m\u001b[0mpos\u001b[0m\u001b[1;33m.\u001b[0m\u001b[0mshape\u001b[0m\u001b[1;33m[\u001b[0m\u001b[1;36m0\u001b[0m\u001b[1;33m]\u001b[0m\u001b[1;33m,\u001b[0m\u001b[1;36m4\u001b[0m\u001b[1;33m)\u001b[0m\u001b[1;33m)\u001b[0m\u001b[1;33m\u001b[0m\u001b[1;33m\u001b[0m\u001b[0m\n\u001b[0;32m    193\u001b[0m         \u001b[0mc_return\u001b[0m\u001b[1;33m[\u001b[0m\u001b[1;33m:\u001b[0m\u001b[1;33m]\u001b[0m \u001b[1;33m=\u001b[0m \u001b[0mnp\u001b[0m\u001b[1;33m.\u001b[0m\u001b[0mnan\u001b[0m\u001b[1;33m\u001b[0m\u001b[1;33m\u001b[0m\u001b[0m\n",
      "\u001b[1;31mIndexError\u001b[0m: boolean index did not match indexed array along dimension 0; dimension is 5292 but corresponding boolean dimension is 6048"
     ]
    }
   ],
   "source": [
    "\n",
    "fault1 = model.create_and_add_fault('fault2',\n",
    "                                    -2.,\n",
    "                                    nelements=4000,\n",
    "                                    solver='lu',\n",
    "                                    interpolatortype='PLI',\n",
    "                                   damp = True,\n",
    "#                                     precon=precon,\n",
    "                                    buffer=np.array([0.5,0.1,0.3]),\n",
    "                                    regularisation=[2.,.2,.2],\n",
    "                                    gxxgy=4.,\n",
    "                                    gxxgz=4.,\n",
    "                                    gyxgz=4.,\n",
    "#                                                                         region=interpolation_region\n",
    "                                    steps=10,\n",
    "                                    cpw=10\n",
    "                                   )\n",
    "# splay_region = lambda pos : np.logical_or(fault1['feature'].apply_to_points(pos)[:,0] < (-4.5-model.origin[0])/model.scale_factor, \n",
    "#                                           fault1['feature'].apply_to_points(pos)[:,0] > (4.5-model.origin[0])/model.scale_factor)\n",
    "fault2 = model.create_and_add_fault('fault1',\n",
    "                                    -2,\n",
    "                                    nelements=4000,\n",
    "                                    solver='lu',\n",
    "                                    interpolatortype='PLI',\n",
    "                                   damp = True,\n",
    "                                    splayregion=splay_region,\n",
    "                                    splay = fault1['feature'],\n",
    "                                    regularisation=[2.,.5,.5],\n",
    "                                    gxxgy=4.,\n",
    "                                    gxxgz=4.,\n",
    "                                    gyxgz=4.,\n",
    "#                                     precon=precon,\n",
    "                                    buffer=np.array([0.6,0.1,0.2]),\n",
    "#                                                                         region=interpolation_region\n",
    "                                    steps=10,\n",
    "                                    cpw=10,\n",
    "                                    overprinted=['fault2']\n",
    "                                   )\n",
    "strati = model.create_and_add_foliation('strati',\n",
    "                                        solver='lu',\n",
    "                                        interpolatortype='PLI', \n",
    "                                        nelements=1500,\n",
    "                                        damp=True,\n",
    "                                        buffer=np.array([0.8,0.4,0.4])\n",
    "                                       )"
   ]
  },
  {
   "cell_type": "markdown",
   "metadata": {},
   "source": [
    "### Figure for Fault 1 showing interpolation nodes for fault 2"
   ]
  },
  {
   "cell_type": "code",
   "execution_count": null,
   "metadata": {
    "ExecuteTime": {
     "end_time": "2019-11-27T00:05:44.237991Z",
     "start_time": "2019-11-27T00:05:43.759156Z"
    }
   },
   "outputs": [],
   "source": [
    "viewer = LavaVuModelViewer(model)\n",
    "viewer.add_isosurface(fault1['feature'],\n",
    "                      isovalue=0,\n",
    "                      voxet=model.voxet()\n",
    "                     )\n",
    "# viewer.add_isosurface(fault2['feature'],\n",
    "#                       isovalue=0,\n",
    "#                       voxet=model.voxet()\n",
    "#                      )\n",
    "# viewer.add_isosurface(fault1['feature'],\n",
    "#                       isovalue=0,\n",
    "# #                       voxet=model.voxet()\n",
    "#                       name='t1'\n",
    "#                      )\n",
    "# viewer.add_isosurface(fault2['feature'],\n",
    "#                       isovalue=0,\n",
    "# #                       voxet=model.voxet()\n",
    "#                       name='t2'\n",
    "#                      )\n",
    "nodes = model.regular_grid()#fault2['feature'][0].get_interpolator().support.nodes\n",
    "p1 = viewer.lv.points('nodes2',pointsize=6,colour='grey')\n",
    "p1.vertices(nodes[~fault1['feature'].evaluate(nodes),:])\n",
    "nodes  = nodes[fault1['feature'].evaluate(nodes),:]\n",
    "p = viewer.lv.points('nodes',pointsize=6,colour='black')\n",
    "p.vertices(nodes)\n",
    "# nodes = fault1['feature'].apply_to_points(nodes)\n",
    "# p = viewer.lv.points('nodes_faulted',pointsize=3,colour='blue')\n",
    "# p.vertices(nodes)\n",
    "# nodes = fault2['feature'].apply_to_points(nodes)\n",
    "# p = viewer.lv.points('nodes_faulted2',pointsize=3,colour='blue')\n",
    "# p.vertices(nodes)\n",
    "\n",
    "# viewer.add_vector_field(fault1['feature'][1])#,model.regular_grid((25,25,12)))\n",
    "viewer.lv.rotatex(-90)\n",
    "viewer.lv['xmin'] = -1\n",
    "viewer.lv['ymin'] = -1\n",
    "viewer.lv['zmin'] = -1\n",
    "viewer.lv['xmax'] = 1\n",
    "viewer.lv['ymax'] = 1\n",
    "viewer.lv['zmax'] = 1\n",
    "viewer.lv['border'] = 0\n",
    "viewer.lv.image('points_before_fault.png')\n",
    "viewer.lv.display()"
   ]
  },
  {
   "cell_type": "markdown",
   "metadata": {},
   "source": [
    "### Figure showing fault 1 displacement field"
   ]
  },
  {
   "cell_type": "code",
   "execution_count": null,
   "metadata": {
    "ExecuteTime": {
     "end_time": "2019-11-26T23:48:57.765316Z",
     "start_time": "2019-11-26T23:48:55.060068Z"
    }
   },
   "outputs": [],
   "source": [
    "viewer = LavaVuModelViewer(model)\n",
    "viewer.add_isosurface(fault1['feature'],\n",
    "                      isovalue=0,\n",
    "                      voxet=model.voxet()\n",
    "                     )\n",
    "# viewer.add_isosurface(fault2['feature'],\n",
    "#                       isovalue=0,\n",
    "#                       voxet=model.voxet()\n",
    "#                      )\n",
    "# viewer.add_isosurface(fault1['feature'],\n",
    "#                       isovalue=0,\n",
    "# #                       voxet=model.voxet()\n",
    "#                       name='t1'\n",
    "#                      )\n",
    "# viewer.add_isosurface(fault2['feature'],\n",
    "#                       isovalue=0,\n",
    "# #                       voxet=model.voxet()\n",
    "#                       name='t2'\n",
    "#                      )\n",
    "# nodes = model.regular_grid()#fault2['feature'][0].get_interpolator().support.nodes\n",
    "# nodes  = nodes[fault1['feature'].evaluate(nodes),:]\n",
    "# p = viewer.lv.points('nodes',pointsize=3,colour='red')\n",
    "# p.vertices(nodes)\n",
    "# nodes = fault1['feature'].apply_to_points(nodes)\n",
    "# p = viewer.lv.points('nodes_faulted',pointsize=3,colour='blue')\n",
    "# p.vertices(nodes)\n",
    "# nodes = fault2['feature'].apply_to_points(nodes)\n",
    "# p = viewer.lv.points('nodes_faulted2',pointsize=3,colour='blue')\n",
    "# p.vertices(nodes)\n",
    "\n",
    "viewer.add_vector_field(fault1['feature'][1],locations=nodes)#,model.regular_grid((25,25,12)))\n",
    "viewer.lv.rotatex(-90)\n",
    "viewer.lv['xmin'] = -2\n",
    "viewer.lv['ymin'] = -2\n",
    "viewer.lv['zmin'] = -2\n",
    "viewer.lv['xmax'] = 2\n",
    "viewer.lv['ymax'] = 2\n",
    "viewer.lv['zmax'] = 2\n",
    "viewer.lv['border'] = 0\n",
    "\n",
    "viewer.lv.display()\n",
    "viewer.lv.image('fault1_displacement_vectors.png')"
   ]
  },
  {
   "cell_type": "markdown",
   "metadata": {},
   "source": [
    "### Figure for fault 2 surfaces"
   ]
  },
  {
   "cell_type": "code",
   "execution_count": null,
   "metadata": {
    "ExecuteTime": {
     "end_time": "2019-11-26T23:48:59.629023Z",
     "start_time": "2019-11-26T23:48:57.766623Z"
    }
   },
   "outputs": [],
   "source": [
    "viewer = LavaVuModelViewer(model)\n",
    "viewer.add_isosurface(fault1['feature'],\n",
    "                      isovalue=0,\n",
    "                      voxet=model.voxet()\n",
    "                     )\n",
    "# viewer.add_isosurface(fault2['feature'],\n",
    "#                       isovalue=0,\n",
    "#                       voxet=model.voxet()\n",
    "#                      )\n",
    "# viewer.add_isosurface(fault1['feature'],\n",
    "#                       isovalue=0,\n",
    "# #                       voxet=model.voxet()\n",
    "#                       name='t1'\n",
    "#                      )\n",
    "# viewer.add_isosurface(fault2['feature'],\n",
    "#                       isovalue=0,\n",
    "# #                       voxet=model.voxet()\n",
    "#                       name='t2'\n",
    "#                      )\n",
    "nodes = model.regular_grid()#fault2['feature'][0].get_interpolator().support.nodes\n",
    "\n",
    "p1 = viewer.lv.points('nodes',pointsize=6,colour='grey')\n",
    "p1.vertices(nodes[~fault1['feature'].evaluate(nodes),:])\n",
    "nodes  = nodes[fault1['feature'].evaluate(nodes),:]\n",
    "# p = viewer.lv.points('nodes',pointsize=3,colour='red')\n",
    "# p.vertices(nodes)\n",
    "nodes = fault1['feature'].apply_to_points(nodes)\n",
    "p = viewer.lv.points('nodes_faulted',pointsize=6,colour='black')\n",
    "p.vertices(nodes)\n",
    "# nodes = fault2['feature'].apply_to_points(nodes)\n",
    "# p = viewer.lv.points('nodes_faulted2',pointsize=3,colour='blue')\n",
    "# p.vertices(nodes)\n",
    "\n",
    "# viewer.add_vector_field(fault1['feature'][1])#,model.regular_grid((25,25,12)))\n",
    "viewer.lv.rotatex(-90)\n",
    "viewer.lv['xmin'] = -1\n",
    "viewer.lv['ymin'] = -1\n",
    "viewer.lv['zmin'] = -1\n",
    "viewer.lv['xmax'] = 1\n",
    "viewer.lv['ymax'] = 1\n",
    "viewer.lv['zmax'] = 1\n",
    "viewer.lv['border'] = 0\n",
    "\n",
    "viewer.lv.display()\n",
    "viewer.lv.image('fault1_point_displaced.png')"
   ]
  },
  {
   "cell_type": "markdown",
   "metadata": {},
   "source": [
    "### Fault 2 displacement vectors"
   ]
  },
  {
   "cell_type": "code",
   "execution_count": null,
   "metadata": {
    "ExecuteTime": {
     "end_time": "2019-11-26T23:48:59.633082Z",
     "start_time": "2019-11-26T23:48:59.630494Z"
    }
   },
   "outputs": [],
   "source": [
    "tmp = fault2['feature'][1].faults"
   ]
  },
  {
   "cell_type": "code",
   "execution_count": null,
   "metadata": {
    "ExecuteTime": {
     "end_time": "2019-11-26T23:48:59.643193Z",
     "start_time": "2019-11-26T23:48:59.634674Z"
    }
   },
   "outputs": [],
   "source": [
    "fault2['feature'][1].faults  = tmp\n",
    "fault2['feature'][0].faults  = tmp"
   ]
  },
  {
   "cell_type": "code",
   "execution_count": null,
   "metadata": {
    "ExecuteTime": {
     "end_time": "2019-11-26T23:49:05.968935Z",
     "start_time": "2019-11-26T23:48:59.647607Z"
    }
   },
   "outputs": [],
   "source": [
    "viewer = LavaVuModelViewer(model)\n",
    "viewer.add_isosurface(fault2['feature'],\n",
    "                      isovalue=0,\n",
    "                      voxet=model.voxet()\n",
    "                     )\n",
    "# viewer.add_isosurface(fault2['feature'],\n",
    "#                       isovalue=0,\n",
    "#                       voxet=model.voxet()\n",
    "#                      )\n",
    "# viewer.add_isosurface(fault1['feature'],\n",
    "#                       isovalue=0,\n",
    "# #                       voxet=model.voxet()\n",
    "#                       name='t1'\n",
    "#                      )\n",
    "# viewer.add_isosurface(fault2['feature'],\n",
    "#                       isovalue=0,\n",
    "# #                       voxet=model.voxet()\n",
    "#                       name='t2'\n",
    "#                      )\n",
    "nodes2 = model.regular_grid()#fault2['feature'][0].get_interpolator().support.nodes\n",
    "nodes2  = nodes2[fault2['feature'].evaluate(nodes2),:]\n",
    "nodes2 = nodes2#[::50]\n",
    "# p = viewer.lv.points('nodes',pointsize=3,colour='red')\n",
    "# p.vertices(nodes)\n",
    "# nodes = fault1['feature'].apply_to_points(nodes)\n",
    "# p = viewer.lv.points('nodes_faulted',pointsize=3,colour='blue')\n",
    "# p.vertices(nodes)\n",
    "# nodes = fault2['feature'].apply_to_points(nodes)\n",
    "# p = viewer.lv.points('nodes_faulted2',pointsize=3,colour='blue')\n",
    "# p.vertices(nodes)\n",
    "\n",
    "viewer.add_vector_field(fault2['feature'][1],locations=nodes2)#,model.regular_grid((25,25,12)))\n",
    "viewer.lv.rotatex(-90)\n",
    "viewer.lv['xmin'] = -1\n",
    "viewer.lv['ymin'] = -1\n",
    "viewer.lv['zmin'] = -1\n",
    "viewer.lv['xmax'] = 1\n",
    "viewer.lv['ymax'] = 1\n",
    "viewer.lv['zmax'] = 1\n",
    "viewer.lv['border'] = 0\n",
    "# viewer.interactive()\n",
    "viewer.lv.display()\n",
    "viewer.lv.image('fault2_displacement_vectors.png')"
   ]
  },
  {
   "cell_type": "markdown",
   "metadata": {},
   "source": [
    "### Figure showing both node movements"
   ]
  },
  {
   "cell_type": "code",
   "execution_count": null,
   "metadata": {
    "ExecuteTime": {
     "end_time": "2019-11-27T00:13:09.221895Z",
     "start_time": "2019-11-27T00:12:16.944839Z"
    }
   },
   "outputs": [],
   "source": [
    "viewer = LavaVuModelViewer(model)\n",
    "viewer.add_isosurface(fault1['feature'],\n",
    "                      isovalue=0,\n",
    "                      voxet=model.voxet()\n",
    "                     )\n",
    "# fault2['feature'][0].faults = []#fault2['feature'][1].faults\n",
    "# viewer.add_isosurface(fault2['feature'],\n",
    "#                       isovalue=0,\n",
    "#                       voxet=model.voxet(),\n",
    "#                       name='f2wof1'\n",
    "#                      )\n",
    "# fault2['feature'][0].faults = fault2['feature'][1].faults\n",
    "viewer.add_isosurface(fault2['feature'],\n",
    "                      isovalue=0,\n",
    "                      voxet=model.voxet())\n",
    "# viewer.add_isosurface(fault1['feature'],\n",
    "#                       isovalue=0,\n",
    "# #                       voxet=model.voxet()\n",
    "#                       name='t1'\n",
    "#                      )\n",
    "# viewer.add_isosurface(fault2['feature'],\n",
    "#                       isovalue=0,\n",
    "# #                       voxet=model.voxet()\n",
    "#                       name='t2'\n",
    "#                      )\n",
    "nodes = model.regular_grid()#fault2['feature'][0].get_interpolator().support.nodes\n",
    "p1 = viewer.lv.points('nodes',pointsize=6,colour='grey')\n",
    "p1.vertices(nodes[~fault1['feature'].evaluate(nodes),:])\n",
    "nodes  = nodes[fault1['feature'].evaluate(nodes),:]\n",
    "# viewer.add_vector_field(fault2['feature'][1],locations=nodes)\n",
    "# p = viewer.lv.points('nodes',pointsize=3,colour='red')\n",
    "# p.vertices(nodes)\n",
    "# nodes = fault1['feature'].apply_to_points(nodes)\n",
    "# p = viewer.lv.points('nodes_faulted',pointsize=3,colour='blue')\n",
    "# p.vertices(nodes)\n",
    "nodes = fault1['feature'].apply_to_points(nodes)\n",
    "# fault2['feature'][0].faults = []\n",
    "nodes = fault2['feature'].apply_to_points(nodes)\n",
    "# fault2['feature'][0].faults = fault2['feature'][1].faults\n",
    "\n",
    "p = viewer.lv.points('nodes_faulted2',pointsize=6,colour='black')\n",
    "p.vertices(nodes[fault2['feature'].evaluate(nodes),:])\n",
    "p = viewer.lv.points('nodes_faulted3',pointsize=6,colour='grey')\n",
    "p.vertices(nodes[~fault2['feature'].evaluate(nodes),:])\n",
    "#viewer.add_vector_field(fault2['feature'][1],nodes)#,model.regular_grid((25,25,12)))\n",
    "viewer.lv.rotatex(-90)\n",
    "viewer.lv['xmin'] = -1\n",
    "viewer.lv['ymin'] = -1\n",
    "viewer.lv['zmin'] = -1\n",
    "viewer.lv['xmax'] = 1\n",
    "viewer.lv['ymax'] = 1\n",
    "viewer.lv['zmax'] = 1\n",
    "viewer.lv['border'] = 0\n",
    "# viewer.interactive()\n",
    "viewer.lv.display()\n",
    "viewer.lv.image('points_both_fault.png')"
   ]
  },
  {
   "cell_type": "code",
   "execution_count": null,
   "metadata": {},
   "outputs": [],
   "source": []
  },
  {
   "cell_type": "markdown",
   "metadata": {},
   "source": [
    "### Figure showing data"
   ]
  },
  {
   "cell_type": "markdown",
   "metadata": {
    "heading_collapsed": true
   },
   "source": [
    "### Figure showing faults"
   ]
  },
  {
   "cell_type": "code",
   "execution_count": null,
   "metadata": {
    "ExecuteTime": {
     "end_time": "2019-11-26T23:49:59.457768Z",
     "start_time": "2019-11-26T23:49:57.612606Z"
    },
    "hidden": true
   },
   "outputs": [],
   "source": [
    "viewer = LavaVuModelViewer(model)\n",
    "viewer.add_isosurface(fault1['feature'],\n",
    "#                       slices=[-1,0,1],\n",
    "                      isovalue=0,\n",
    "                     )\n",
    "viewer.add_isosurface(fault2['feature'],\n",
    "                      isovalue=0\n",
    "                     )\n",
    "# viewer.add_isosurface(fault2['feature'],\n",
    "# #                       slices=[-1,0,1],\n",
    "#                       isovalue=0,\n",
    "# #                       voxet=model.voxet((50,3,20)),\n",
    "#                       name='t'\n",
    "#                      )\n",
    "# viewer.add_isosurface(fault1['feature'],\n",
    "# #                       slices=[-1,0,1],\n",
    "#                       isovalue=0,\n",
    "# #                       voxet=model.voxet((50,3,20)),\n",
    "#                       name='t3'\n",
    "#                      )\n",
    "viewer.lv.rotatex(-90)\n",
    "viewer.lv['xmin'] = -1\n",
    "viewer.lv['ymin'] = -1\n",
    "viewer.lv['zmin'] = -1\n",
    "viewer.lv['xmax'] = 1\n",
    "viewer.lv['ymax'] = 1\n",
    "viewer.lv['zmax'] = 1\n",
    "\n",
    "viewer.lv['border'] = 0\n",
    "\n",
    "viewer.lv.display()\n",
    "viewer.lv.image('fault_network.png')"
   ]
  },
  {
   "cell_type": "markdown",
   "metadata": {},
   "source": [
    "### Figure showing faulted strati"
   ]
  },
  {
   "cell_type": "code",
   "execution_count": null,
   "metadata": {
    "ExecuteTime": {
     "end_time": "2019-11-26T23:54:29.015059Z",
     "start_time": "2019-11-26T23:54:06.518032Z"
    },
    "scrolled": false
   },
   "outputs": [],
   "source": [
    "viewer = LavaVuModelViewer(model)\n",
    "viewer.nsteps = np.array([100,20,100])\n",
    "# viewer.add_vector_field(strati['feature'])#,locations=nodes2)#,model.regular_grid((25,25,12)))\n",
    "\n",
    "viewer.add_scalar_field(strati['feature'],cmap='tab20')\n",
    "viewer.lv.rotatex(-90)\n",
    "viewer.lv['xmin'] = -1\n",
    "viewer.lv['ymin'] = -1\n",
    "viewer.lv['zmin'] = -1\n",
    "viewer.lv['xmax'] = 1\n",
    "viewer.lv['ymax'] = 1\n",
    "viewer.lv['zmax'] = 1\n",
    "viewer.lv['border'] = 0\n",
    "viewer.lv.image('fault_duplex_scalar_field.png')\n",
    "viewer.lv.display()"
   ]
  },
  {
   "cell_type": "markdown",
   "metadata": {},
   "source": [
    "### Add all of the plots to a matplotlib figure"
   ]
  },
  {
   "cell_type": "code",
   "execution_count": null,
   "metadata": {
    "ExecuteTime": {
     "end_time": "2019-11-27T00:13:38.205181Z",
     "start_time": "2019-11-27T00:13:37.298084Z"
    }
   },
   "outputs": [],
   "source": [
    "fig, ax = plt.subplots(2,3,figsize=(20,10))\n",
    "ax[0,0].imshow(plt.imread('fault_data.png')[200:565, 178:844,:])\n",
    "ax[0,0].set_title('A.')\n",
    "ax[0,1].imshow(plt.imread('points_before_fault.png')[200:565, 178:844,:])\n",
    "ax[0,1].set_title('B.')\n",
    "ax[0,2].imshow(plt.imread('fault1_point_displaced.png')[200:565, 178:844,:])\n",
    "ax[0,2].set_title('C.')\n",
    "ax[1,0].imshow(plt.imread('fault_network.png')[200:565, 178:844,:])\n",
    "ax[1,0].set_title('D.')\n",
    "ax[1,1].imshow(plt.imread('points_both_fault.png')[200:565, 178:844,:])\n",
    "ax[1,1].set_title('E.')\n",
    "ax[1,2].imshow(plt.imread('fault_duplex_scalar_field.png')[200:565, 178:844,:])\n",
    "ax[1,2].set_title('F.')\n",
    "\n",
    "for i in range(2):\n",
    "    for j in range(3):\n",
    "        ax[i,j].axis('off')\n",
    "plt.tight_layout()\n",
    "# plt."
   ]
  },
  {
   "cell_type": "code",
   "execution_count": null,
   "metadata": {
    "ExecuteTime": {
     "end_time": "2019-11-26T23:50:06.459921Z",
     "start_time": "2019-11-26T23:50:06.455474Z"
    }
   },
   "outputs": [],
   "source": [
    "import os\n",
    "os.getcwd()"
   ]
  },
  {
   "cell_type": "code",
   "execution_count": null,
   "metadata": {},
   "outputs": [],
   "source": []
  }
 ],
 "metadata": {
  "kernelspec": {
   "display_name": "Python 3",
   "language": "python",
   "name": "python3"
  },
  "language_info": {
   "codemirror_mode": {
    "name": "ipython",
    "version": 3
   },
   "file_extension": ".py",
   "mimetype": "text/x-python",
   "name": "python",
   "nbconvert_exporter": "python",
   "pygments_lexer": "ipython3",
   "version": "3.7.4"
  },
  "varInspector": {
   "cols": {
    "lenName": 16,
    "lenType": 16,
    "lenVar": 40
   },
   "kernels_config": {
    "python": {
     "delete_cmd_postfix": "",
     "delete_cmd_prefix": "del ",
     "library": "var_list.py",
     "varRefreshCmd": "print(var_dic_list())"
    },
    "r": {
     "delete_cmd_postfix": ") ",
     "delete_cmd_prefix": "rm(",
     "library": "var_list.r",
     "varRefreshCmd": "cat(var_dic_list()) "
    }
   },
   "types_to_exclude": [
    "module",
    "function",
    "builtin_function_or_method",
    "instance",
    "_Feature"
   ],
   "window_display": false
  }
 },
 "nbformat": 4,
 "nbformat_minor": 2
}
