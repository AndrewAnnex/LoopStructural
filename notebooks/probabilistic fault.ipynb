{
 "cells": [
  {
   "cell_type": "code",
   "execution_count": 1,
   "metadata": {},
   "outputs": [
    {
     "name": "stderr",
     "output_type": "stream",
     "text": [
      "Cannot import Surfe\n"
     ]
    }
   ],
   "source": [
    "from LoopStructural import GeologicalModel\n",
    "from LoopStructural.visualisation import LavaVuModelViewer\n",
    "from LoopStructural.datasets import load_intrusion\n",
    "import pandas as pd \n",
    "import numpy as np\n",
    "import matplotlib.pyplot as plt\n",
    "%matplotlib inline\n",
    "%load_ext snakeviz"
   ]
  },
  {
   "cell_type": "code",
   "execution_count": 2,
   "metadata": {},
   "outputs": [],
   "source": [
    "data, bb = load_intrusion()"
   ]
  },
  {
   "cell_type": "code",
   "execution_count": 3,
   "metadata": {},
   "outputs": [],
   "source": [
    "fault_data = data[data['type']=='fault']"
   ]
  },
  {
   "cell_type": "code",
   "execution_count": 4,
   "metadata": {},
   "outputs": [
    {
     "data": {
      "text/html": [
       "<div>\n",
       "<style scoped>\n",
       "    .dataframe tbody tr th:only-of-type {\n",
       "        vertical-align: middle;\n",
       "    }\n",
       "\n",
       "    .dataframe tbody tr th {\n",
       "        vertical-align: top;\n",
       "    }\n",
       "\n",
       "    .dataframe thead th {\n",
       "        text-align: right;\n",
       "    }\n",
       "</style>\n",
       "<table border=\"1\" class=\"dataframe\">\n",
       "  <thead>\n",
       "    <tr style=\"text-align: right;\">\n",
       "      <th></th>\n",
       "      <th>X</th>\n",
       "      <th>Y</th>\n",
       "      <th>Z</th>\n",
       "      <th>val</th>\n",
       "      <th>coord</th>\n",
       "      <th>type</th>\n",
       "      <th>nx</th>\n",
       "      <th>ny</th>\n",
       "      <th>nz</th>\n",
       "    </tr>\n",
       "  </thead>\n",
       "  <tbody>\n",
       "    <tr>\n",
       "      <th>0</th>\n",
       "      <td>0.0</td>\n",
       "      <td>5500.0</td>\n",
       "      <td>0.0</td>\n",
       "      <td>0.0</td>\n",
       "      <td>0.0</td>\n",
       "      <td>fault</td>\n",
       "      <td>NaN</td>\n",
       "      <td>NaN</td>\n",
       "      <td>NaN</td>\n",
       "    </tr>\n",
       "    <tr>\n",
       "      <th>1</th>\n",
       "      <td>300.0</td>\n",
       "      <td>5500.0</td>\n",
       "      <td>0.0</td>\n",
       "      <td>0.0</td>\n",
       "      <td>0.0</td>\n",
       "      <td>fault</td>\n",
       "      <td>NaN</td>\n",
       "      <td>NaN</td>\n",
       "      <td>NaN</td>\n",
       "    </tr>\n",
       "    <tr>\n",
       "      <th>2</th>\n",
       "      <td>600.0</td>\n",
       "      <td>5500.0</td>\n",
       "      <td>0.0</td>\n",
       "      <td>0.0</td>\n",
       "      <td>0.0</td>\n",
       "      <td>fault</td>\n",
       "      <td>NaN</td>\n",
       "      <td>NaN</td>\n",
       "      <td>NaN</td>\n",
       "    </tr>\n",
       "    <tr>\n",
       "      <th>3</th>\n",
       "      <td>900.0</td>\n",
       "      <td>5500.0</td>\n",
       "      <td>0.0</td>\n",
       "      <td>0.0</td>\n",
       "      <td>0.0</td>\n",
       "      <td>fault</td>\n",
       "      <td>NaN</td>\n",
       "      <td>NaN</td>\n",
       "      <td>NaN</td>\n",
       "    </tr>\n",
       "    <tr>\n",
       "      <th>4</th>\n",
       "      <td>1200.0</td>\n",
       "      <td>5500.0</td>\n",
       "      <td>0.0</td>\n",
       "      <td>0.0</td>\n",
       "      <td>0.0</td>\n",
       "      <td>fault</td>\n",
       "      <td>NaN</td>\n",
       "      <td>NaN</td>\n",
       "      <td>NaN</td>\n",
       "    </tr>\n",
       "    <tr>\n",
       "      <th>5</th>\n",
       "      <td>1500.0</td>\n",
       "      <td>5500.0</td>\n",
       "      <td>0.0</td>\n",
       "      <td>0.0</td>\n",
       "      <td>0.0</td>\n",
       "      <td>fault</td>\n",
       "      <td>NaN</td>\n",
       "      <td>NaN</td>\n",
       "      <td>NaN</td>\n",
       "    </tr>\n",
       "    <tr>\n",
       "      <th>6</th>\n",
       "      <td>1800.0</td>\n",
       "      <td>5500.0</td>\n",
       "      <td>0.0</td>\n",
       "      <td>0.0</td>\n",
       "      <td>0.0</td>\n",
       "      <td>fault</td>\n",
       "      <td>NaN</td>\n",
       "      <td>NaN</td>\n",
       "      <td>NaN</td>\n",
       "    </tr>\n",
       "    <tr>\n",
       "      <th>7</th>\n",
       "      <td>2100.0</td>\n",
       "      <td>5500.0</td>\n",
       "      <td>0.0</td>\n",
       "      <td>0.0</td>\n",
       "      <td>0.0</td>\n",
       "      <td>fault</td>\n",
       "      <td>NaN</td>\n",
       "      <td>NaN</td>\n",
       "      <td>NaN</td>\n",
       "    </tr>\n",
       "    <tr>\n",
       "      <th>8</th>\n",
       "      <td>2400.0</td>\n",
       "      <td>5500.0</td>\n",
       "      <td>0.0</td>\n",
       "      <td>0.0</td>\n",
       "      <td>0.0</td>\n",
       "      <td>fault</td>\n",
       "      <td>NaN</td>\n",
       "      <td>NaN</td>\n",
       "      <td>NaN</td>\n",
       "    </tr>\n",
       "    <tr>\n",
       "      <th>9</th>\n",
       "      <td>2700.0</td>\n",
       "      <td>5500.0</td>\n",
       "      <td>0.0</td>\n",
       "      <td>0.0</td>\n",
       "      <td>0.0</td>\n",
       "      <td>fault</td>\n",
       "      <td>NaN</td>\n",
       "      <td>NaN</td>\n",
       "      <td>NaN</td>\n",
       "    </tr>\n",
       "    <tr>\n",
       "      <th>0</th>\n",
       "      <td>0.0</td>\n",
       "      <td>5500.0</td>\n",
       "      <td>0.0</td>\n",
       "      <td>NaN</td>\n",
       "      <td>0.0</td>\n",
       "      <td>fault</td>\n",
       "      <td>4.690669e-17</td>\n",
       "      <td>-0.766044</td>\n",
       "      <td>0.642788</td>\n",
       "    </tr>\n",
       "    <tr>\n",
       "      <th>1</th>\n",
       "      <td>300.0</td>\n",
       "      <td>5500.0</td>\n",
       "      <td>0.0</td>\n",
       "      <td>NaN</td>\n",
       "      <td>0.0</td>\n",
       "      <td>fault</td>\n",
       "      <td>4.690669e-17</td>\n",
       "      <td>-0.766044</td>\n",
       "      <td>0.642788</td>\n",
       "    </tr>\n",
       "    <tr>\n",
       "      <th>2</th>\n",
       "      <td>600.0</td>\n",
       "      <td>5500.0</td>\n",
       "      <td>0.0</td>\n",
       "      <td>NaN</td>\n",
       "      <td>0.0</td>\n",
       "      <td>fault</td>\n",
       "      <td>4.690669e-17</td>\n",
       "      <td>-0.766044</td>\n",
       "      <td>0.642788</td>\n",
       "    </tr>\n",
       "    <tr>\n",
       "      <th>3</th>\n",
       "      <td>900.0</td>\n",
       "      <td>5500.0</td>\n",
       "      <td>0.0</td>\n",
       "      <td>NaN</td>\n",
       "      <td>0.0</td>\n",
       "      <td>fault</td>\n",
       "      <td>4.690669e-17</td>\n",
       "      <td>-0.766044</td>\n",
       "      <td>0.642788</td>\n",
       "    </tr>\n",
       "    <tr>\n",
       "      <th>4</th>\n",
       "      <td>1200.0</td>\n",
       "      <td>5500.0</td>\n",
       "      <td>0.0</td>\n",
       "      <td>NaN</td>\n",
       "      <td>0.0</td>\n",
       "      <td>fault</td>\n",
       "      <td>4.690669e-17</td>\n",
       "      <td>-0.766044</td>\n",
       "      <td>0.642788</td>\n",
       "    </tr>\n",
       "    <tr>\n",
       "      <th>5</th>\n",
       "      <td>1500.0</td>\n",
       "      <td>5500.0</td>\n",
       "      <td>0.0</td>\n",
       "      <td>NaN</td>\n",
       "      <td>0.0</td>\n",
       "      <td>fault</td>\n",
       "      <td>4.690669e-17</td>\n",
       "      <td>-0.766044</td>\n",
       "      <td>0.642788</td>\n",
       "    </tr>\n",
       "    <tr>\n",
       "      <th>6</th>\n",
       "      <td>1800.0</td>\n",
       "      <td>5500.0</td>\n",
       "      <td>0.0</td>\n",
       "      <td>NaN</td>\n",
       "      <td>0.0</td>\n",
       "      <td>fault</td>\n",
       "      <td>4.690669e-17</td>\n",
       "      <td>-0.766044</td>\n",
       "      <td>0.642788</td>\n",
       "    </tr>\n",
       "    <tr>\n",
       "      <th>7</th>\n",
       "      <td>2100.0</td>\n",
       "      <td>5500.0</td>\n",
       "      <td>0.0</td>\n",
       "      <td>NaN</td>\n",
       "      <td>0.0</td>\n",
       "      <td>fault</td>\n",
       "      <td>4.690669e-17</td>\n",
       "      <td>-0.766044</td>\n",
       "      <td>0.642788</td>\n",
       "    </tr>\n",
       "    <tr>\n",
       "      <th>8</th>\n",
       "      <td>2400.0</td>\n",
       "      <td>5500.0</td>\n",
       "      <td>0.0</td>\n",
       "      <td>NaN</td>\n",
       "      <td>0.0</td>\n",
       "      <td>fault</td>\n",
       "      <td>4.690669e-17</td>\n",
       "      <td>-0.766044</td>\n",
       "      <td>0.642788</td>\n",
       "    </tr>\n",
       "    <tr>\n",
       "      <th>9</th>\n",
       "      <td>2700.0</td>\n",
       "      <td>5500.0</td>\n",
       "      <td>0.0</td>\n",
       "      <td>NaN</td>\n",
       "      <td>0.0</td>\n",
       "      <td>fault</td>\n",
       "      <td>4.690669e-17</td>\n",
       "      <td>-0.766044</td>\n",
       "      <td>0.642788</td>\n",
       "    </tr>\n",
       "    <tr>\n",
       "      <th>0</th>\n",
       "      <td>6000.0</td>\n",
       "      <td>5500.0</td>\n",
       "      <td>0.0</td>\n",
       "      <td>NaN</td>\n",
       "      <td>1.0</td>\n",
       "      <td>fault</td>\n",
       "      <td>-1.180782e-16</td>\n",
       "      <td>0.642788</td>\n",
       "      <td>0.766044</td>\n",
       "    </tr>\n",
       "    <tr>\n",
       "      <th>1</th>\n",
       "      <td>1000.0</td>\n",
       "      <td>5500.0</td>\n",
       "      <td>0.0</td>\n",
       "      <td>NaN</td>\n",
       "      <td>1.0</td>\n",
       "      <td>fault</td>\n",
       "      <td>-1.180782e-16</td>\n",
       "      <td>0.642788</td>\n",
       "      <td>0.766044</td>\n",
       "    </tr>\n",
       "    <tr>\n",
       "      <th>0</th>\n",
       "      <td>500.0</td>\n",
       "      <td>5500.0</td>\n",
       "      <td>0.0</td>\n",
       "      <td>-1.0</td>\n",
       "      <td>2.0</td>\n",
       "      <td>fault</td>\n",
       "      <td>NaN</td>\n",
       "      <td>NaN</td>\n",
       "      <td>NaN</td>\n",
       "    </tr>\n",
       "    <tr>\n",
       "      <th>1</th>\n",
       "      <td>3000.0</td>\n",
       "      <td>5500.0</td>\n",
       "      <td>0.0</td>\n",
       "      <td>1.0</td>\n",
       "      <td>2.0</td>\n",
       "      <td>fault</td>\n",
       "      <td>NaN</td>\n",
       "      <td>NaN</td>\n",
       "      <td>NaN</td>\n",
       "    </tr>\n",
       "  </tbody>\n",
       "</table>\n",
       "</div>"
      ],
      "text/plain": [
       "        X       Y    Z  val  coord   type            nx        ny        nz\n",
       "0     0.0  5500.0  0.0  0.0    0.0  fault           NaN       NaN       NaN\n",
       "1   300.0  5500.0  0.0  0.0    0.0  fault           NaN       NaN       NaN\n",
       "2   600.0  5500.0  0.0  0.0    0.0  fault           NaN       NaN       NaN\n",
       "3   900.0  5500.0  0.0  0.0    0.0  fault           NaN       NaN       NaN\n",
       "4  1200.0  5500.0  0.0  0.0    0.0  fault           NaN       NaN       NaN\n",
       "5  1500.0  5500.0  0.0  0.0    0.0  fault           NaN       NaN       NaN\n",
       "6  1800.0  5500.0  0.0  0.0    0.0  fault           NaN       NaN       NaN\n",
       "7  2100.0  5500.0  0.0  0.0    0.0  fault           NaN       NaN       NaN\n",
       "8  2400.0  5500.0  0.0  0.0    0.0  fault           NaN       NaN       NaN\n",
       "9  2700.0  5500.0  0.0  0.0    0.0  fault           NaN       NaN       NaN\n",
       "0     0.0  5500.0  0.0  NaN    0.0  fault  4.690669e-17 -0.766044  0.642788\n",
       "1   300.0  5500.0  0.0  NaN    0.0  fault  4.690669e-17 -0.766044  0.642788\n",
       "2   600.0  5500.0  0.0  NaN    0.0  fault  4.690669e-17 -0.766044  0.642788\n",
       "3   900.0  5500.0  0.0  NaN    0.0  fault  4.690669e-17 -0.766044  0.642788\n",
       "4  1200.0  5500.0  0.0  NaN    0.0  fault  4.690669e-17 -0.766044  0.642788\n",
       "5  1500.0  5500.0  0.0  NaN    0.0  fault  4.690669e-17 -0.766044  0.642788\n",
       "6  1800.0  5500.0  0.0  NaN    0.0  fault  4.690669e-17 -0.766044  0.642788\n",
       "7  2100.0  5500.0  0.0  NaN    0.0  fault  4.690669e-17 -0.766044  0.642788\n",
       "8  2400.0  5500.0  0.0  NaN    0.0  fault  4.690669e-17 -0.766044  0.642788\n",
       "9  2700.0  5500.0  0.0  NaN    0.0  fault  4.690669e-17 -0.766044  0.642788\n",
       "0  6000.0  5500.0  0.0  NaN    1.0  fault -1.180782e-16  0.642788  0.766044\n",
       "1  1000.0  5500.0  0.0  NaN    1.0  fault -1.180782e-16  0.642788  0.766044\n",
       "0   500.0  5500.0  0.0 -1.0    2.0  fault           NaN       NaN       NaN\n",
       "1  3000.0  5500.0  0.0  1.0    2.0  fault           NaN       NaN       NaN"
      ]
     },
     "execution_count": 4,
     "metadata": {},
     "output_type": "execute_result"
    }
   ],
   "source": [
    "fault_data"
   ]
  },
  {
   "cell_type": "code",
   "execution_count": 5,
   "metadata": {},
   "outputs": [],
   "source": [
    "model = GeologicalModel(bb[0,:],bb[1,:])\n",
    "model.set_model_data(fault_data)\n",
    "fault = model.create_and_add_fault('fault',\n",
    "                                   0,\n",
    "                                   nelements=2000,\n",
    "                                   steps=4,\n",
    "                                   interpolatortype='PLI',\n",
    "                                  buffer=0.3\n",
    "                                  )\n"
   ]
  },
  {
   "cell_type": "code",
   "execution_count": 6,
   "metadata": {},
   "outputs": [],
   "source": [
    "bedding_val = np.random.random((40,4))\n",
    "bedding_val[:,0]*=bb[1,0]\n",
    "bedding_val[:,1]*=bb[1,1]\n",
    "bedding_val[:,2]=-200\n",
    "bedding_val[:,3]=0\n",
    "bedding_val = np.vstack([bedding_val,bedding_val])\n",
    "bedding_val[40:,2]= -100\n",
    "bedding_val[40:,3]= -1\n",
    "# print(bedding_val)\n",
    "# print(fault['feature'].evaluate(model.scale(bedding_val)))\n",
    "bedding_val[fault['feature'].evaluate(model.scale(bedding_val[:,:3])),2]=-.1\n",
    "\n",
    "# print(bedding_val)"
   ]
  },
  {
   "cell_type": "code",
   "execution_count": 7,
   "metadata": {},
   "outputs": [],
   "source": [
    "# viewer = LavaVuModelViewer(model)\n",
    "# viewer.add_isosurface(fault['feature'],isovalue=0)\n",
    "# viewer.add_points(model.scale(bedding_val),name='points',pointsize=5)\n",
    "# viewer.interactive()"
   ]
  },
  {
   "cell_type": "code",
   "execution_count": 8,
   "metadata": {},
   "outputs": [],
   "source": [
    "# %%snakeviz\n",
    "# for i in range(10):\n",
    "#     model = GeologicalModel(bb[0,:],bb[1,:])\n",
    "#     model.set_model_data(data)\n",
    "#     fault = model.create_and_add_fault('fault',\n",
    "#                                        -1000,\n",
    "#                                        nelements=2000,\n",
    "#                                        steps=4,\n",
    "#                                        interpolatortype='PLI',\n",
    "#                                       buffer=0.3,\n",
    "#                                        solver='pyamg'\n",
    "#                                       )\n",
    "#     strati = model.create_and_add_foliation('strati',\n",
    "#                                             nelements=10000,\n",
    "#                                             interpolatortype='PLI',\n",
    "#                                             cgw=0.1,\n",
    "#                                             solver='pyamg',\n",
    "#                                             buffer=0.5\n",
    "#                                            )\n",
    "\n",
    "#     viewer = LavaVuModelViewer(model)\n",
    "#     viewer.add_isosurface(strati['feature'],isovalue=0)\n",
    "#     viewer.add_isosurface(fault['feature'],isovalue=0)\n",
    "\n",
    "#     viewer.add_data(strati['feature'])\n",
    "#     viewer.interactive()"
   ]
  },
  {
   "cell_type": "code",
   "execution_count": 9,
   "metadata": {},
   "outputs": [],
   "source": [
    "new_data = pd.DataFrame(bedding_val,columns=['X','Y','Z','val'])\n",
    "new_data['type'] = 'strati'\n",
    "# new_data['val'] = 0"
   ]
  },
  {
   "cell_type": "code",
   "execution_count": 10,
   "metadata": {},
   "outputs": [
    {
     "data": {
      "text/html": [
       "<div>\n",
       "<style scoped>\n",
       "    .dataframe tbody tr th:only-of-type {\n",
       "        vertical-align: middle;\n",
       "    }\n",
       "\n",
       "    .dataframe tbody tr th {\n",
       "        vertical-align: top;\n",
       "    }\n",
       "\n",
       "    .dataframe thead th {\n",
       "        text-align: right;\n",
       "    }\n",
       "</style>\n",
       "<table border=\"1\" class=\"dataframe\">\n",
       "  <thead>\n",
       "    <tr style=\"text-align: right;\">\n",
       "      <th></th>\n",
       "      <th>X</th>\n",
       "      <th>Y</th>\n",
       "      <th>Z</th>\n",
       "      <th>val</th>\n",
       "      <th>coord</th>\n",
       "      <th>type</th>\n",
       "      <th>nx</th>\n",
       "      <th>ny</th>\n",
       "      <th>nz</th>\n",
       "    </tr>\n",
       "  </thead>\n",
       "  <tbody>\n",
       "    <tr>\n",
       "      <th>0</th>\n",
       "      <td>0.000000</td>\n",
       "      <td>5500.000000</td>\n",
       "      <td>0.0</td>\n",
       "      <td>0.0</td>\n",
       "      <td>0.0</td>\n",
       "      <td>fault</td>\n",
       "      <td>NaN</td>\n",
       "      <td>NaN</td>\n",
       "      <td>NaN</td>\n",
       "    </tr>\n",
       "    <tr>\n",
       "      <th>1</th>\n",
       "      <td>300.000000</td>\n",
       "      <td>5500.000000</td>\n",
       "      <td>0.0</td>\n",
       "      <td>0.0</td>\n",
       "      <td>0.0</td>\n",
       "      <td>fault</td>\n",
       "      <td>NaN</td>\n",
       "      <td>NaN</td>\n",
       "      <td>NaN</td>\n",
       "    </tr>\n",
       "    <tr>\n",
       "      <th>2</th>\n",
       "      <td>600.000000</td>\n",
       "      <td>5500.000000</td>\n",
       "      <td>0.0</td>\n",
       "      <td>0.0</td>\n",
       "      <td>0.0</td>\n",
       "      <td>fault</td>\n",
       "      <td>NaN</td>\n",
       "      <td>NaN</td>\n",
       "      <td>NaN</td>\n",
       "    </tr>\n",
       "    <tr>\n",
       "      <th>3</th>\n",
       "      <td>900.000000</td>\n",
       "      <td>5500.000000</td>\n",
       "      <td>0.0</td>\n",
       "      <td>0.0</td>\n",
       "      <td>0.0</td>\n",
       "      <td>fault</td>\n",
       "      <td>NaN</td>\n",
       "      <td>NaN</td>\n",
       "      <td>NaN</td>\n",
       "    </tr>\n",
       "    <tr>\n",
       "      <th>4</th>\n",
       "      <td>1200.000000</td>\n",
       "      <td>5500.000000</td>\n",
       "      <td>0.0</td>\n",
       "      <td>0.0</td>\n",
       "      <td>0.0</td>\n",
       "      <td>fault</td>\n",
       "      <td>NaN</td>\n",
       "      <td>NaN</td>\n",
       "      <td>NaN</td>\n",
       "    </tr>\n",
       "    <tr>\n",
       "      <th>...</th>\n",
       "      <td>...</td>\n",
       "      <td>...</td>\n",
       "      <td>...</td>\n",
       "      <td>...</td>\n",
       "      <td>...</td>\n",
       "      <td>...</td>\n",
       "      <td>...</td>\n",
       "      <td>...</td>\n",
       "      <td>...</td>\n",
       "    </tr>\n",
       "    <tr>\n",
       "      <th>75</th>\n",
       "      <td>6725.256167</td>\n",
       "      <td>3542.235256</td>\n",
       "      <td>-0.1</td>\n",
       "      <td>-1.0</td>\n",
       "      <td>NaN</td>\n",
       "      <td>strati</td>\n",
       "      <td>NaN</td>\n",
       "      <td>NaN</td>\n",
       "      <td>NaN</td>\n",
       "    </tr>\n",
       "    <tr>\n",
       "      <th>76</th>\n",
       "      <td>8754.602345</td>\n",
       "      <td>2772.598250</td>\n",
       "      <td>-0.1</td>\n",
       "      <td>-1.0</td>\n",
       "      <td>NaN</td>\n",
       "      <td>strati</td>\n",
       "      <td>NaN</td>\n",
       "      <td>NaN</td>\n",
       "      <td>NaN</td>\n",
       "    </tr>\n",
       "    <tr>\n",
       "      <th>77</th>\n",
       "      <td>526.379958</td>\n",
       "      <td>4240.623627</td>\n",
       "      <td>-0.1</td>\n",
       "      <td>-1.0</td>\n",
       "      <td>NaN</td>\n",
       "      <td>strati</td>\n",
       "      <td>NaN</td>\n",
       "      <td>NaN</td>\n",
       "      <td>NaN</td>\n",
       "    </tr>\n",
       "    <tr>\n",
       "      <th>78</th>\n",
       "      <td>800.995514</td>\n",
       "      <td>6126.847366</td>\n",
       "      <td>-100.0</td>\n",
       "      <td>-1.0</td>\n",
       "      <td>NaN</td>\n",
       "      <td>strati</td>\n",
       "      <td>NaN</td>\n",
       "      <td>NaN</td>\n",
       "      <td>NaN</td>\n",
       "    </tr>\n",
       "    <tr>\n",
       "      <th>79</th>\n",
       "      <td>1608.542571</td>\n",
       "      <td>3122.406486</td>\n",
       "      <td>-0.1</td>\n",
       "      <td>-1.0</td>\n",
       "      <td>NaN</td>\n",
       "      <td>strati</td>\n",
       "      <td>NaN</td>\n",
       "      <td>NaN</td>\n",
       "      <td>NaN</td>\n",
       "    </tr>\n",
       "  </tbody>\n",
       "</table>\n",
       "<p>104 rows × 9 columns</p>\n",
       "</div>"
      ],
      "text/plain": [
       "              X            Y      Z  val  coord    type  nx  ny  nz\n",
       "0      0.000000  5500.000000    0.0  0.0    0.0   fault NaN NaN NaN\n",
       "1    300.000000  5500.000000    0.0  0.0    0.0   fault NaN NaN NaN\n",
       "2    600.000000  5500.000000    0.0  0.0    0.0   fault NaN NaN NaN\n",
       "3    900.000000  5500.000000    0.0  0.0    0.0   fault NaN NaN NaN\n",
       "4   1200.000000  5500.000000    0.0  0.0    0.0   fault NaN NaN NaN\n",
       "..          ...          ...    ...  ...    ...     ...  ..  ..  ..\n",
       "75  6725.256167  3542.235256   -0.1 -1.0    NaN  strati NaN NaN NaN\n",
       "76  8754.602345  2772.598250   -0.1 -1.0    NaN  strati NaN NaN NaN\n",
       "77   526.379958  4240.623627   -0.1 -1.0    NaN  strati NaN NaN NaN\n",
       "78   800.995514  6126.847366 -100.0 -1.0    NaN  strati NaN NaN NaN\n",
       "79  1608.542571  3122.406486   -0.1 -1.0    NaN  strati NaN NaN NaN\n",
       "\n",
       "[104 rows x 9 columns]"
      ]
     },
     "execution_count": 10,
     "metadata": {},
     "output_type": "execute_result"
    }
   ],
   "source": [
    "# normal_vec = pd.DataFrame([[9000,10,10,0,0,1]],columns=['X','Y','Z','nx','ny','nz'])\n",
    "# normal_vec['type'] = 'strati'\n",
    "\n",
    "data = pd.concat([fault_data,new_data],sort=False)\n",
    "data"
   ]
  },
  {
   "cell_type": "code",
   "execution_count": 11,
   "metadata": {},
   "outputs": [
    {
     "data": {
      "text/plain": [
       "array([[    0.,     0., -4500.],\n",
       "       [10000., 10000.,   500.]])"
      ]
     },
     "execution_count": 11,
     "metadata": {},
     "output_type": "execute_result"
    }
   ],
   "source": [
    "bb"
   ]
  },
  {
   "cell_type": "code",
   "execution_count": 12,
   "metadata": {
    "scrolled": false
   },
   "outputs": [
    {
     "name": "stdout",
     "output_type": "stream",
     "text": [
      "displacement: -1000\n",
      "9.419008347158767\n"
     ]
    },
    {
     "data": {
      "text/html": [
       "<img src='data:image/png;base64,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'>"
      ],
      "text/plain": [
       "<IPython.core.display.HTML object>"
      ]
     },
     "metadata": {},
     "output_type": "display_data"
    },
    {
     "name": "stdout",
     "output_type": "stream",
     "text": [
      "displacement: -500\n",
      "4.173965753658107\n"
     ]
    },
    {
     "data": {
      "text/html": [
       "<img src='data:image/png;base64,iVBORw0KGgoAAAANSUhEUgAABAAAAAMACAIAAAA12IJaAABHa0lEQVR4AezOQQGAAAgAMekf+ozgDx5uCTbVAwAA/MNU1wcAAGDJVNcHAABgyVTXBwAAYMlU1wcAAGDJVNcHAABgyVTXBwAAYMlU1wcAAGDJVNcHAABgyVTXBwAAYMlU1wcAAGDJVNcHAABgyVTXBwAAYMlU1wcAAGDJVNcHAABgyVTXBwAAYMlU1wcAAGDJVNcHAABgyVTXBwAAYMlU1wcAAGDJVNcHAABgyVTXBwAAYMlU1wcAAGDJVNcHAABgyVTXBwAAYMlU1wcAAGDJVNcHAABgyVTXBwAAYMlU1wcAAGDJVNcHAABgyVTXBwAAYMlU1wcAAGDJVNcHAABgyVTXBwAAYMlU1wcAAGDJVNcHAABgyVTXBwAAYMlU1wcAAGDJVNcHAABgyVTXBwAAYMlU1wcAAGDJVNcHAABgyVTXBwAAYMlU1wcAAGDJVNcHAABgyVTXBwAAYMlU1wcAAGDJVNcHAABgyVTXBwAAYMlU1wcAAGDJVNcHAABgyVTXBwAAYMlU1wcAAGDJVNcHAABgyVTXBwAAYMlU1wcAAGDJVNcHAABgyVTXBwAAYMlU1wcAAGDJVNcHAABgyVTXBwAAYMlU1wcAAGDJVNcHAABgyVTXBwAAYMlU1wcAAGDJVNcHAABgyVTXBwAAYMlU1wcAAGDJVNcHAABgyVTXBwAAYMlU1wcAAGDJVNcHAABgyVTXBwAAYMlU1wcAAGDJVNcHAABgyVTXBwAAYMlU1wcAAGDJVNcHAABgyVTXBwAAYMlU1wcAAGDJVNcHAABgyVTXBwAAYMlU1wcAAGDJVNcHAABgyVTXBwAAYMlU1wfg08vuHJAADMQAEKP+Rd9MjBaeREEAAP4x1fUBAABYMtX1AQAAWDLV9QEAAFgy1fUBAABYMtX1AQAAWDLV9QEAAFgy1fUBAABYMtX1AQAAWDLV9QEAAFgy1fUBAABYMtX1AQAAWDLV9QEAAFgy1fUBAABYMtX1AQAAWDLV9QEAAFgy1fUBAABYMtX1AQAAWDLV9QEAAFgy1fUBAABYMtX1AQAAWDLV9QEAAFgy1fUBAABYMtX1AQAAWDLV9QEAAFgy1fUBAABYMtX1AQAAWDLV9QEAAFgy1fUBAABYMtX1AQAAWDLV9QEAAFgy1fUBAABYMtX1AQAAWDLV9QEAAFgy1fUBAABYMtX1AQAAWDLV9QEAAFgy1fUBAABYMtX1AQAAWDLV9QEAAFgy1fUBAABYMtX1AQAAWDLV9QEAAFgy1fUBAABYMtX1AQAAWDLV9QEAAFgy1fUBAABYMtX1AQAAWDLV9QEAAFgy1fUBAABYMtX1AQAAWDLV9QEAAFgy1fUBAABYMtX1AQAAWDLV9QEAAFgy1fUBAABYMtX1AQAAWDLV9QEAAFgy1fUBAABYMtX1AQAAWDLV9QEAAFgy1fUBAABYMtX1AQAAWDLV9QEAAFgy1fUBAABYMtX1AQAAWDLV9QEAAFgy1fUBAABYMtX1AQAAWDLV9QEAAFgy1fUBAABYMtX1AQAAWDLV9QEAAFgy1fUBAABYMtX1AQAAWDLV9QEAAFgy1fUBAABYMtX1AQAAWDLV9QEAAFgy1fUBAABYMtX1AQAAWDLV9QEAAFgy1fUBAABYMtX1AQAAWDLV9QEAAFgy1fUBAN7wsVOHuGKYxxqGNVbCAmxdfCWbFHsJyRKyBC8hvGuozEoTWpQNtLTQLjNvJVNHshoDS283cc7MafU8C/j0zg9+gP8CU103AAAAS6a6bgAAAJZMdd0AAAAsmeq6AQAAWDLVdQMAALBkqusGAABgyVTXDQAAwJKprhsAAIAlU103AAAAS6a6bgAAAJZMdd0AAAAsmeq6AQAAWDLVdQMAALBkqusGAABgyVTXDQAAwJKprhsAAIAlU103AAAAS6a6bgAAAJZMdd0AAAAsmeq6AQAAWDLVdQMAALBkqusGAABgyVTXDQAAwJKprhsAAIAlU103AAAAS6a6bgAAAJZMdd0AAAAsmeq6AQAAWDLVdQMAALBkqusGAABgyVTXDQAAwJKprhsAAIAlU103AAAAS6a6bgAAAJZMdd0AAAAsmeq6AQAAWDLVdQMAALBkqusGAABgyVTXDQAAwJKprhsAAIAlU103AAAAS6a6bgAAAJZMdd0AAAAsmeq6AQAAWDLVdQMAALBkqusGAABgyVTXDQAAwJKprhsAAIAlU103AAAAS6a6bgAAAJZMdd0AAAAsmeq6AQAAWDLVdQMAALBkqusGAABgyVTXDQAAwJKprhsAAIAlU103AAAAS6a6bgAAAJZMdd0AAAAsmeq6AQAAWDLVdQMAALBkqusGAABgyVTXDQAAwJKprhsAAIAlU103AAAAS6a6bgAAAJZMdd0AAAAsmeq6AQAAWDLVdQMAALBkqusGAABgyVTXDQAAwJKprhsAAIAlU103AAAAS6a6bgAAAJZMdd0AAAAsmeq6AQAAWDLVdQMAALBkqusGOPDx48cvX748+Oznz5+/fv16fRzA/6wH/GZfvnz56tWr64PgwDfXAXDjw4cPr1+/fvDZ58+fP2r2t99++9133z3e/l/fvv3D99///yO8DMBT8+7du+sEuPHNdQCcefHixXXCk/P7b7/96Ycf/vju3f+9fHndAgA8imfXAcDT8vunT3/+8cd/f/p0HQIAPIpn1wHAk/Ov9+9/efPmugIAeBTPrgOAp+gfv/76l59+uq4AAB7es+sA4In629u3f//55+sKAOCBPbsOAJ6uX968+ef799cVAPCw/sNO/bu4ce19HA+HBCyR4gS3Emzl1selisBO3JoHTbFuZ0637jT7D3hdPNWFnSWNtzujLbMXRoVbR6qiMieXVNtEIMGtFgYSlFukuMolEBJsH+164Ts/3i8O3+qz7Fsq1HVKOgBArZ1F0cZ76QoAAHBvlHQAgFr7taoKa7dVJR0CAADuh5IOAFB3G+8v4li6AgAA3A8lHQCgAa4Xi6m10hUAAOAeKOkAAM2wLIrdk64AAAAfS0kHAGiMqbXXi4V0BQAA+ChKOgBAk7yO44330hUAAODulHQAgCb5tapex/G2qqRDAADAHX0qHQCI+emnnwT/+3/+R/o7+Lubn38Ob1arf3z55f9dXkrHAsC7/fbbb7/88ktwprWWLgVkfCodAIhp90//Z5999vnnn9/2r548ebJ++3bj/Ydn//7xx399/XXinPSnBIC7+/7776UTABmfSgcAYr744gvphDo6mc///8mTm9Xqw7NlUQweP346mUj3AgCA21HSAQDqpa/1cVn2tA4ur7JsWRTSvQAA4HaUdACA2hkakzi3z/KbLNt4L90LAABuQUkHAKgjMx4f5Xlw9mtVnUXRtqqkewEAwL6UdACAmno6mYzSNDjbVlUeRbsr3QsAAPaipAMA1Ffi3KPDw+Bs7f1VlknHAgCAvSjpAAC1dlyWA2OCs2VRvHn1SjoWAACEKekAALXW1zpxrqd1cPnm9HRZFNK9AAAgQEkHAKi7oTEvynKf5dTatffSvQAA4EOUdACABnh0eJg4t88yj6Kb1Uq6FwAAvJeSDgDQDKM03b3gbFtVF3G8u9K9AADg3ZR0AIDGSJx7PB4HZ2vvL62VjgUAAO+mpAMANEni3MCY4MzPZldZJh0LAADeQUkHADIePHggndBIfa1flGVP6+Dy7fn5siikewEAwN8p6QBAxoMHD6QTmurhwcHJfL7Pcmrt9WIh3QsAAP5CSQcAaJ6hMYlz+ywv4njjvXQvAAD4k5IOANBIozT9ajIJzrZVNbV2d6V7AQDAH5R0AICmep7nozQNztbeX8SxdCwAAPiDkg4A0GBHeT4wJji7Xiym1krHAgCA3ynpAAAN1tf6ZD7vaR1cLoti96R7AQDAJ0o6AECz9bU+mc97WgeXU2t/mM2kewEA6DolHQCg8YbGPM/zfZZTazfeS/cCANBpSjoAQBuM0vQoz4OzbVW9juPdle4FAKC7lHQAgJZ4OpmM0jQ4u1mt8iiSjgUAoLuUdACA9kicGxgTnK29n1orHQsAQEcp6QAArXIynz88OAjOlkXx5tUr6VgAALpISQcAaJW+1sdl2dM6uHxzerosCuleAAA6R0kHAGiboTGJc/ssr7Js4710LwAA3aKkAwC0kBmPE+eCs21VnUXR7kr3AgDQIUo6AEA7jdJ094KzbVXlUbS70r0AAHSFkg4A0FqJc48OD4OztfdXWSYdCwBAVyjpAABtdlyWA2OCs2VRXGWZdCwAAJ2gpAMAtFlf68S5ntbB5dvz82VRSPcCANB+SjoAQMsNjXlRlvssp9ZuvJfuBQCg5ZR0AID2e3R4mDi3z/Isim5WK+leAADaTEkHAOiEUZp+NZkEZ9uquojj3ZXuBQCgtZR0AICueJ7nj8fj4Gzt/aW10rEAALSWkg4A0CGJcwNjgjM/m11aKx0LAEA7KekAAB3S1/pFWfa0Di6/K4plUUj3AgDQQko6AEC3PDw4OJnP91lOrb1eLKR7AQBoGyUdAKBzhsYkzu2zvIjjjffSvQAAtIqSDgDQRaM0fXZ6Gpxtq2pq7e5K9wIA0B5KOgBARz17+XKUpsHZ2vuLOJaOBQCgPZR0AIDuOsrzgTHB2fViMbVWOhYAgJZQ0gEAuquv9cl83tM6uFwWxbfn59K9AAC0gZIOANBpfa1P5vOe1sHlN1n2w2wm3QsAQOMp6QAAXTc0JnFun+XU2o330r0AADSbkg4AgE/MeHyU58HZtqpex/HuSvcCANBgSjoAAH73dDIZpWlwdrNa5VG0rSrpXgAAmkpJBwDAHxLnBsYEZ2vvr7JMOhYAgKZS0gEA8KeT+fzhwUFwtiyKN69eSccCANBISjoAAP7U1/q4LHtaB5dvTk+XRSHdCwBA8yjpAAD4i6ExL8pyn+VVlm28l+4FAKBhlHQAAPzdo8PDxLngbFtVZ1G0u9K9AAA0iZIOAIB3GKXp7gVn26rKo2h3pXsBAGgMJR0AAO+WOPfo8DA4W3t/aa10LAAAjaGkAwDgvY7LcmBMcOZns6ssk44FAKAZlHQAALxXX+vEuZ7WweXb8/NlUUj3AgDQAEo6AAA+ZGjMyXy+z3Jq7cZ76V4AAOpOSQcAQMDQmMS5fZZnUXSzWkn3AgBQa0o6AADCRmn61WQSnG2r6iKOd1e6FwCA+lLSAQCwl+d5/ng8Ds7W3l/EsXQsAAD1paQDAGBfiXMDY4Kz68Xi0lrpWAAAakpJBwDAvvpavyjLntbB5XdFsSwK6V4AAOpISQcAwC08PDg4mc97WgeXU2uvFwvpXgAAakdJBwDA7QyNeZ7n+ywv4njjvXQvAAD1oqQDAODWRmn67PQ0ONtW1es43l3pXgAAakRJBwDAXTx7+XKUpsHZzWqVR5F0LAAANaKkAwDgjo7yfGBMcLb2/tJa6VgAAOpCSQcAwB31tT6Zzx8eHASX3xXFt+fn0r0AANSCkg4AgLvra31clj2tg8tvsuyH2Uy6FwAAeUo6AAA+ytCYxLl9llNrN95L9wIAIExJBwDAxzLj8VGeB2fbqjqLot2V7gUAQJKSDgCAe/B0MhmlaXC2rao8inZXuhcAADFKOgAA7kfi3MCY4Gzt/T+zTDoWAAAxSjoA2M9/2Z1D30aO94/jq2E2GumoLQWFdqiZt6UBWXChu8MSlvU/cM4/kDVrimZj+EulNbjC3gYldApbZMmGv5MWmebrSpWqq643uWuSJ7v7funRgz7gDTzCrK5HxgRnd2X5/uJCOhYAABlKOgAAnsxQ69S5gdbB5fv5/L4spXsBABCgpAMA4CmNjTmrqscsb/J86710LwAAL01JBwDAEzucTlPngrNd01zG8cf1WroXAIAXpaQDAODpTbJsf8HZrmmukmT/pXsBAHg5SjoAAJ5F6tzhdBqcbbxfWisdCwDAy1HSAQDwXE6ramRMcOZXq5s8l44FAOCFKOkAAHguQ63PqmqgdXD562JxX5bSvQAAvAQlHQAAz+jNwcGsrh+zvLZ26710LwAAz05JBwDA8xobkzr3mOVlHG+9l+4FAOB5KekAAHh2kyz7/vw8ONs1zbW1+y/dCwDAM1LSAQDwEk6KYpJlwdnG+5+SRDoWAIBnpKQDAOCFvC2KkTHB2e+3t0trpWMBAHguSjoAAF7IUOtZXQ+0Di7vyvK+LKV7AQB4Fko6AABezlDrWV0PtA4ur639bbWS7gUA4Okp6QAAeFFjY06K4jHLa2u33kv3AgDwxJR0AAC8tEmWHc3nwdmuaX5Mkv2X7gUA4Ckp6QAAEHD07t0ky4Kzj+t1EcfSsQAAPCUlHQAAMlLnRsYEZxvvl9ZKxwIA8GSUdAAAiJnV9ZuDg+Dsriw/LBbSsQAAPA0lHQAAYoZan1bVQOvg8v/y/L4spXsBAHgCSjoAACSNjUmde8zyJs+33kv3AgDwXynpAAAQZo6P3xZFcLZrmss43n/pXgAA/hMlHQAA8n44P59kWXC2a5oijvdfuhcAgG+npAMA4FVInTucToOzjfc/57l0LAAA305JBwDAa3FaVSNjgrO7snx/cSEdCwDAN1LSAQDwWgy1Tp0baB1cvp/P78tSuhcAgG+hpAMA4BUZG3NWVY9ZLq3dei/dCwDAV1PSAQDwuhxOp6lzwdlDFF3G8cf1WroXAICvo6QDAODVmWTZ/oKzXdNcJcn+S/cCAPAVlHQAALxGqXPfHR8HZxvvl9ZKxwIA8BWUdAAAvFKpcyNjgjO/Wt3kuXQsAACPpaQDAOCVGmp9VlUDrYPLXxeL+7KU7gUA4FGUdAAAvF5vDg5mdf2Y5dLaP25vpXsBAAhT0gEA8KqNjUmdC84eougqSbbeS/cCABCgpAMA4LWbZNnRfB6c7Zrm2tr9l+4FAOBLlHQAALTA0bt3kywLzjbe/5Qk0rEAAHyJkg4AgHZ4WxQjY4Kz329vl9ZKxwIA8K+UdAAAtMNQ61ldD7QOLu/K8sNiId0LAMDnKekAAGiNodazuh5oHVze5Plvq5V0LwAAn6GkAwCgTcbGnBRFcPYQRdfWbr2X7gUA4J+UdAAAtMwky94WRXC2a5ofk2T/pXsBAPiEkg4AgPb54fx8kmXB2cf1uohj6VgAAD6hpAMAoJVS50bGBGcb75fWSscCAPA3JR0AAG01q+s3BwfB2V1Zvr+4kI4FAOAvSjoAANpqqPVpVQ20Di5/mc/vy1K6FwCAPynpAABosbExqXPB2UMU3eT51nvpXgAAIiUdAADtZo6PU+eCs13TXMbx/kv3AgD6TkkHAEDrTbJsf8HZrmmKON5/6V4AQK8p6QAA6ILUucPpNDjbeP9znkvHAgB6TUkHAEBHnFbVyJjg7K4sb/JcOhYA0F9KOgAAOmKodercQOvg8tfF4r4spXsBAD2lpAMAoDvGxpxV1WOWS2u33kv3AgD6SEkHAECnHE6nqXPB2UMUXcbxx/VauhcA0DtKOgAAumaSZd+fnwdnu6a5SpL9l+4FAPSLkg4AgA46KYrvjo+Ds433S2ulYwEA/aKkAwCgm1LnRsYEZ361WlorHQsA6BElHQAA3TTU+qyqBloHl3dleV+W0r0AgL5Q0gEA0FlvDg5mdT3QOrhcWvvH7a10LwCgF5R0AAB02diYk6IIzh6i6CpJtt5L9wIAuk9JBwBAx02y7Gg+D852TXNt7f5L9wIAOk5JBwBA9x29ezfJsuBs430Rx9KxAICOU9IBANALb4tiZExwtvF+aa10LACgy5R0AAD0wlDrWV0PtA4u78ryw2Ih3QsA6CwlHQAAfTHUelbXA62Dy5s8/221ku4FAHSTkg4AgB4ZG5M6F5w9RNG1tVvvpXsBAB2kpAMAoF/M8fHbogjOdk1zlST7L90LAOgaJR0AAL3zw/n5JMuCs/9fr4s43jWNdC8AoFOUdAAA9FHq3MiY4Gzj/c95Lh0LAOgUJR0AAD01q+s3BwfB2V1Zvr+4kI4FAHSHkg4AgJ4aan1aVQOtg8tf5vP7spTuBQB0hJIOAID+GhtzVlXB2UMU3eT51nvpXgBAFyjpAADotcPpNHUuONs1zWUc7790LwCg9ZR0AAD03STL9hec7ZqmiOP9l+4FALSbkg4AAESpc4fTaXC28X5prXQsAKDdlHQAAOBPp1U1MiY486vVTZ5LxwIAWkxJBwAA/jTUOnVuoHVw+WGxuC9L6V4AQFsp6QAAwF/GxszqOjh7iKKltVvvpXsBAK2kpAMAAH8bG5M6F5w9RNFlHH9cr6V7AQDto6QDAACfmGTZ9+fnwdmuaa6SZP+lewEALaOkAwAA/3RSFN8dHwdnG+9/ShLpWABAyyjpAADAZ6TOjYwJzn6/vV1aKx0LAGgTJR0AAPiModazuh5oHVzel+X+pHsBAK2hpAMAAJ831HpW1wOtvzx7iKKltX/c3kr3AgDaQUkHAAD+1diYk6IIzh6i6CpJtt5L9wIAWkBJBwAAvmSSZUfzeXC2a5qrJNl/4dz/sVcusXFdZ57/31tVJKtIilek4odMusvdLc40EIfFRYLRbMTqZBPAQEsLexZ5iNwMnE3a0ipAA20FmN6anl1mRdpANnED4iKD3onlTSwkQHjZQSMTqREXTSZtW3xcilTxUY8zp7+bWymK9X6dIvn/4eDiPL7zff/vO+feSwghpOexTQsghBBSgzfefff67GxNs810ej6ZNC2WEEJIr2ObFkAIIaQ2b87PjycSNc3WXffDuTnTYgkhhPQ0tmkBhBBCahNznLvLy2PxeE3LXywuPnj/fdN6CSGE9C62aQGEEELqIuY4b9+/H3WcmpYf3bmzurRkWi8hhJAexTYtgBBCSL1MJBK3FxZqmingg7m5Ddc1rZcQQkgvYpsWQAghpAESN2++OT9f0yzjee8lk/ppWi8hhJCewzYtgBBCSGN88513rs/O1jTLeN58MqmfpvUSQgjpLWzTAgghhDTM7YWF8USiptm66/7znTumxRJCCOktbNMCCCGENMPd5eXxRKKm2S8WF3/+4x+bFksIIaSHsE0LIIQQ0gwxx7m9sBB1nJqW//fevU8WF03rJYQQ0ivYpgUQQghpkolE4gf379c0U8BHd+5suK5pvYQQQnoC27QAQgghzTM5M3N7YaGmWcbz3ksmt9Jp03oJIYSYxzYtgBBCSEtcn53VraZZxvN+cuuWfprWSwghxDC2aQGEEEJa5fbCwuTMTE2zddf9cG7OtFhCCCGGsU0LIIQQ0gbevn9/PJGoaeYuLX10545psYQQQkximxZACCGkDcQc5wf370cdp6blg/ff/2Rx0bReQgghxrBNCyCEENIexuLxu8vLNc0U8OHc3IbrmtZLCCHEDLZpAYQQQtrGRCJxe2GhppkC3ksmN1zXtF5CCCEGsE0LIIQQ0k6uz87+7Tvv1DTLeN4Hc3P6aVovIYSQbmObFkAIIaTNvDU/f312tqbZuuv+n1u3TIslhBDSbWzTAgghhLSfN+fnxxOJmma/S6U+nJszLZYQQkhXsU0LIIQQ0n5ijnN3eTnqODUtP1lc1M20XkIIId3DNi2AEEJIR4g5zt3l5ajjVDdTwIdzc6tLS6b1EkII6RK2aQGEEEI6xUQi8db8fE0zBXwwN7fhuqb1EkII6Qa2aQGEEEI6yPXZ2Tfu3atplvG8n9y6pZ+m9RJCCOk4YdMCCOkJHqVS/zuZ7GiIqOOMJxKmE62X8amp6OXLRkJfu3GjC1FiZ+o4WuSNd9/dSqc/WVysbraZTs8nk/+wsmJaLyGEkM4SNi2AkIvCgec9TqVMqyjPMbCvFQIFIAIMAr9LpWzTqk6TA/IiUmPL96ubIsfi8dF4vB7LyZkZ/VRK5XI5/QyHw7Z9Qun41FTUcSptjznOeCLRqDwdKJPJ7O/v66ADAwPDw8N9fX3F1dsLC+uuu+G61Z1omw/n5r6/sNDFuhJCCOk2YdMCCCEmUcA28DmwCxzKMAQMAmPAy0DUtLwiBWALeALsA8eABfQDl4AX5WlVTTAn23XHBiJVjauznU7rVk9J3VTqGXAEDMvQkqpGRLNdYtYQo/H4WDzu96OOM5FIFJ1M3riRPT7+NJ1eW1vbse2sbQ8ODo6Pj09NTU1OTkYiEX/X3eXlf5qe3qqVwieLi3rn377zDgghhJxTwqYFENIrKNMCjKT8BFgDtoFnQBYoACGgH9gDDoDXgGizzq326cwDfwD+CHiiKivOI8Cg6JwAvlIh3CHwJbAjHZ1aHzAMvACMtFXec2wBn0lJMyJVyXdWl9EBrgKvSIWbqM9OOq1bcfibpaVi/19O3V59rNr01xMTY1evDkT/8wzHp6Zily9PJBLb6XT1q65XP7pzJ+o412dnO1YkQgghJgmbFkDI2UY1vuUI2AWeST8KXAJi7VZl1WemNfwBeAI8BQ6BfLBXK8xKav1AHAh1qzKV0Ao3gE3RqbUVZNIW/cfS75cyns5uDfgS2BczJd+7qBR/AnjhZJWsNknVzj8DPgf2RGpe4uoCHogGrTwCvNSIQ6uWQh3l95Kjn6aONSrGuj4j6+u69UvW/55KIahbzWPSk/9858722lp0ZGQ8kfAndSfmOG2qEyGEEJOETQsgpFdQXQmxCfwB2AGOZNgHjABXgZcAuzO5WJWz2xQl+8ABkAUKgb3feSoGV4BLna9MFXShvgS2AQ84BPJBLpb0dQsBw8DgyQIeA59JqUt3aYOMLOkEI8DlFk7fKjdZEKlbwJ4EKpZUx81JCC01BjjAQN2BagrTZ/RE4j6T1PKBPP1x75dY+nb9F6lPWbdWhewOPe/n9+7ZFXZNzsz4nbF4fDQe9/vXbtwoTo4Fk4QQQnqQsGkBhPQKVudDbAO/B54A+0BOZkLSP5ToL9fSoJoKWmlXFtgDMsCxiCkElipYPZJVbXOp5cTzEqUgX5y+Bkuti/YfwBZwIB5K88pL6XYATzqxklU9uQnsBgn6Gy3ZApHxheQVaraAZSczouSZiMlKrGJJVVDPp9L6qkasWZ+iQU4y3ZPiFM/RN/BDP5NwuyeLUyeWeLPLxX2cSv2pU6tokzMz/nAsHtfNn7x244bfKZ0khBDSNcKmBRByUcgCfwA2gV3gCMjLpA3kpBMFHCAmfdUVPXmRlJemTgbV/YLM58SmFbSrHeBz4Kn47JM0XwYG69u7BTwGvgQOZPtpAz15COyd1FmQIu9LnbNBghpLMjoSb3vyHGprSY/FeU4iFkpKWqxnNoiuaiVeJ76345KgpRELJfkqSb9RfD924xuLsR6nUn7n32tlOjkz43fG4vHReNzvX7txw+/EHGc8kQAhhJB2EDYtgJCLwj7gARngCMgBBZn0nwfALvAUiMnQ6ooeWwJZFcIVl+wW9CjgC+D3wLbkWJAvzqZkeg24VGu7NvsU+DLYW5aCtEOJZZVM+kXOS1+V6PHt9dIxkK0vC6vxrKssqRKDnNyHnBR5AOg/GVHVEatwKsfnwvkGfimsU+lYVTO1SjR36E6Wun2cSv2pU2vXaDw+Fo/7/fGpqejly37/2o0bfifmOOOJRGckE0LIeSBsWgAhF4Uj4BjIAgVpPkr6OVk66K4e/fJHgT7phAIlGguwpUWAfrFpmn1gDfgC2JPEIW4PgbzE/ZuqHyAt5nNgE8iIfU1CJX1LWlms+syaIyItJGn6zlVJIFvy7ZOq6qEHfAbsyNHrLcPAy8BVMTstVZULp2Rj2YjFoCEJGilxUmqg6stL1VHMbrKdTuvm9x+nUjXtR+PxsXi8OIw6zngiUWpw7caN0uHYSXtCCDl/hE0LIKRXUK1tt+owsJpd9SkAh8CxvLdRINSaYL3dAYaADJCT9C152rLULyEuAcMthNgEdoBnojkfONdZ7AHbwFNgtPJevWW3RFuVutmitr9kUs8MAH1SKFu2F0qKrLOLiH1fawU8zYDUMyrHlBflxbjhIOig2OjcHwGfS3FyIlIXal/sXy13E0pnVMlkXxAxE1S4GLGYZkxsTlPzwlsnLQt13Hmr6rtgtVDbQnCLEKRW//3fTqd1K53516WlUjH/UsvDeCIRdZziUPf1zAmDqanqBoQQ0lOETQsg5Jygahn0S4sAIaAgTWPLMCJL0apODoA14AlwJPaXgb8ARmoFtaqujgJXxKHvPycCtKQ+YFBWXwQGmi2ITvCZONdu80FqBZGkZw4lYhXywcZ8VTNbSndFNJdOOsCQCNBOjiWon1pY7GNSuqZTq0RElOxKRCXPXJCyX9VLwJjE/R3wBeCJjW+QlS0DUvbhOq5TMVPtcEfqWQgqrMRhRG7UkFyVS2JZFlXfvF+9Qq291WVbFYZWVWPtMwPsyYXxq+SnNiy31Gr2sFQjb82G6z43869LSw2FuzYzUzocjcfH4vHyljdulJ2POs54IgFCCGkHYdMCCDlXKMCqsHQJmAL+K5ATMyWT2jgDHMvq5aqetVkEGAPygA30AQfAEBAqsbEaVKud/AXgBBrygRP9XegX507jPkuJiWDtKhvki0D8ZXmqynvDEl2rGgTWK9hYUpMrwCundGr/Xwny0lEKYhCSoMOy5cWTpWsXY3IuSpw/lbh+jgU5d0tUaUleSc19AyUbn0obLlf2SrUaAV4ObkUmKHUoOMEXgKtSJVSuYaV5dUqAXU6Gqrs4qo6N1imbfWAb2JP6ZGVS342oJDsq6VtNXf76daLx6p3mcSrVPoFluDYzU2lpNB4fi8fL5nXtxo2yWyYSiajjdFQwIcQsYdMCCOk2z549e/z48c7OzsOHDycnJ0dHR/15qx3OrapLw9Ka44q0thMF+oGnwB5wBCj5KOjJEXm2gg38pTTV1PY+4G+k1clzUULANWn1b2kLOutXgCF9zaSqx/J8KvMRKekhMAAMAmPyLMguXflt6edkSx7w5EQ0lwBHtle6WjrTq8GpPRVXBRnGgMuyNNy+7FQ5GVaD9VSisCAbT+f1nJMDqcy2pHYg9VFSyQEpVEE8DJWL0vTrbDVYkNadtIVHqVRzG5t4C67NzFRZjTnOeCJR1n+xLNGRkVKbevz82aFg23bpTKFQ0DOW1f3CE3JWCZsWQEhX+eMf//jBBx88fPjw5s2bP/vZz7761a9+73vf+9rXvoamfoQw8advIypIwQEGgazMhIA+wG5riHZxBGSAY9HcD8SASDmzDh1KnbnoAo5K0+TlaZ+SNFXLSdGDH7d6aO3/JWAEeAocSFB9gkPAcIX6tHI0qnJ5rTpi5YA9OcRccIhDco5l9xaAfbHfk86BXFHIf6vYiQIDUvOGsrNOmT03U2n7IfAE2BE9x1L5SyJgUOp/qY6712tfjCb0PE6lqhu4S0vdET+eSERHRo6PjwuFgm3bfZGIZf/50xV1HG1QKVm98T9XR0a6I5WQXiNsWgAh3ePw8PCnP/3p0tLSp59++q1vfeuXv/zlxsZGLpf70Y9+1LRP1eyuvDxDgG26LL6e8MnPgTItqSz90ho9FF3qnHRCkqPVbHSrcZv2Hq6qOhmVVuf9tOpIp413wI91BGwCHpABsjI5AAwDo4Bzqlb+O3Io7SBoWVnyL2okWM1V/pOpuufrSVbr2QG2JYV94Fh2eVL2SzLUF2wwMD6WpT1RGJJ7q599YjzYvl+v1bKHbr7prat9jg3XrW6wurRU3eB//vrXXSwAIT1Eu75ChJwBPvvss1/96ldra2s7Ozv5fH53d1cptbq6+pvf/ObVcLibP0JNKOh0IW7b/7tnCEs+c1370nXoNK3K52g1El21Q6eSoFaDNckD28Am4AEZICseBoAjoABEgOFTeektObHMitmxzBQF9MlqTiatCkm15eYX3WoNz6Tty/NIlsIiICS56MmYBC1Isl8COzJ5HAgeBEaBF4ArgN3z963ttOX68UNHSFvo2m+REPN4nre7u3t0dJTP55VS+qn7e3t7m5ubr770kml1HaRDv9szgao6bzXu0OqAZddO0GoknFVZhqrl/LRBBtgNmu7nxP4IKMh/aBCIAaFybrXlMZAXn77bgrSstNK4LRZc1SpaVpT47UieBRFmB8PjIB3d2Qf2pD0LdPZJiIhkOgL0o3fpxBfDauHVeAps6g+41NaXZwdOlNTcn9G1HZC71OPlJaQXCJsWQEj3cBxnZGSkv78/FApZlqWfuj88PHzlyhXT0ki3seSpGt+omo3VHZu2YNU3rxqpTEj+NzGgABwBe+JNb4kAh8ABkBObUvz/k57PB85t6fgbtZ+sPEMdzro0QSV6jkVSIZCREyWqpAJZyfFYnn7H1xwOhnrLQJtkq5P9HWBb5PkFjOrvnpS97Te2IXlWax72gU3gCbArt6UQXCcrqH++JNkX5Z70ty8FQs4lYdMCCOker7766te//vW1tbVCoRAKhUZGRq5evTo1NfX666/v/va3ptURA1glfdWxKKpNNmVlnx7WnG8vdUYZBP663PwTIAL0y/M59P/JBgoni1MMp4IW7rx4X4CvMBfELVWSl3mtJCTzhZLJfGDv9wuntjeBqpCCB3wObAPPJJAWPAwcAq8AAzBD65dQSS4FqV4+qKHv2S6Zea6junX/CTmjhE0LIKR7DAwMfOc738nlcg8fPhwaGvrGN77x+uuvf/e7333xxRd3f/tb/i1MoUwL8LHOjmzVoBKrjjStFpTUubes2QuVs9P2r0nz+Y9gaR/IyN8rKk2dCqHad4hWyTMC5IGC7LJKmu9Hz9tASIZ90smfrI8lM3kxa/HXW7aSWWAnaBkJpAXnJNaQ/vqdhRteVqFfLiuofNHMH/pnYctTSdYhSZzfc0KqEzYtgJCucvXq1R/+8Iff/va3d3Z23n333cnJydHRUdOiLjqd/lWrsyNbtaxE1XKrym1XldOxKk9agTfV1moUXeWAp8Ae0CeTug1Lq8dDuw691E/hVJqnE9c2NhCRTj4wsE8aqCCj9l6SY+AgaBkJlJN/vD/MN/6/7/SLWb+MfknHbz7FvlXS/OLo+YGeEU9IzxI2LYCQbjM4OJhIJFZWVqanp0vni79V/jnOGUYOVDUV2qrlsNGlOqPUE1cFZuqkvT8sVHDSSvFzwA7wBbAJ7AKHQF7mQ0A/8FfAJeAycAUYaPehly2pjvuy/oAAB8B6IEYHikgnLILzQTVKNahT2grBpG9pNyLeqqxZicN88LSlUwjOqF0vgmp5+zGQFWGDUreaWCV3T1Uoqdn3nZAzR9i0AEJ6DmVaQO/AX2nTnC5d5+5VQ8ekmlJilUQpm5pV4laV2BQnnwEZwAZyMjkG9NVKRBtHpGnLfqAAZGU+LMNdIAQMdqukeiYq7SUZTlUtozb7K2BcBBfE8hjYllz00oh4ywN7wFHgeVDybeWqhMW/FZTOfyqpUn+Jc+OfhS1gXZ6Hou2SlHSi3H0oVuNI9FsV6lN6pX0z7XmoffkSci4JmxZACOkelmkBF5maxVe9IaOsElXLlZKhCizVqdV9YAP4AvCADJAXgz5gGPhrYBR4Aeg/6T8kMwNAFMjKTDh4RktapIXS1f9GqAa9DUkr5bVTDi83LriKjH6poS7OK0BOLG0pzqAEssrttU767ML3QZ/jFrAJbAOHcsTHItIBxiqn7KcTOpWFdfLWWWJTkNtFCKlO2LQAQkj3eO7fSXqKhk5E9YySSpLUKZ+2/HLCwY/HCvp7wGAFGcPAAZAVb2HpQDoDsjQkzaq7GlYny2h1+FBqHo1eGpNWP6qLl8onD4TkuHUnCuwAh3LEB1XzCkkLB3egcLIOdmATKTEjhFSHrwkhF5Qu/OybxjItoPdptERdO25bYp0ONwBE5albAchJCv0y7JcWKrerD3DEPiSWObGJSH8YuAzE6qiMqlUEVWHvafun0vaAQyArBi/If7RflAyWeGjuDtfc1co5tv5atX6L9IH+pbTTFCrvGgOGgL+SmudPytBJPZNmBxdjSA6il79vhPQCYdMCCCHkec7lz9s6U9FVu8PFgEvAIVCQH09ObPqBYWBEWrhcUG0zJEtRICO7tE0EGJCNsXJSVeN1sKoaWyWetZhj4CAY6rYl2i6JHrtEgDbbl3x1Jy8GWnZInpHAsss3v/uvVbvuvF+0Hk+WkLNF2LQAQnqC8UTi7vJydZt11z3Y3TWrcyud1q3LQTOet+G6ZhM/B6juhrM6vF1VnrfKreqfzShQkE4GyIrZADAEjMmzUlA9GRNLvSUvnkNABLCbyku1tsWWLPpE8FGQVxQYBvpPli4inQPgGXAMeMGuy2LZ4um0SNeuYpfvPCGkfsKmBRDSE8QcZ3JmprpNTQPSOlvptG5tcLK21tCWg52d9dXV8kuet+G6pTPKaInqpDmRVptCW+UEDAAvAFEgA2QBG+gHhvXbJ/3q+MZmi1NUcgkYAvLiRw9DFfIdEc1+spo+yXSggoC2VL5O2h6ra29EPih7X0kWKrhy3awhIWedsGkBhBDyZ8bicd1Mq6iXjOdtuG7ZpQPPW19dLbukt+iNZZcep1L6qcxl1K7Q2o9VzlsfMAo4QEGGIcA2kabVsod6lOsoUWmqjqBtqXwO2AGeAkdS4TEp+CAw0KaaGLyZPiFpp5W3fqCEXDTCpgUQQshZJeY4kzMzlVanbt5sV6BHqVTpcMN1M7u7xeFWOq1bcXjgeeuua7o2UIAlz+fQkyFpZx2rA5aqNUn6jz4inQyQB3JAFIh0JTQh5GwRNi2AEEJIDSZnZqoMa/IolSodbrhuZne3ONxKp3WrYt80CrDkeW6w6k68o/6r0A98BSiIBltaJ3QaRwUJEkKaI2xaACGEkM4yOTNTZViTddc98LziMON5G6uruuMuLW24bvW9ynTu7aWedCxp1ckCNhDqTN2sqp6fszSFajypHlFOyPkgbFoAIYSQnmYikXhuJnHzpn5O/d3fvZdMHnhe9e0W8N9mZ6/fvq37W+n01tpacWnddUu3P0qlTOfaBlQdNlmdO/AEyAA2MAS8CIwDkZKiGRfZUTqdICGkOmHTAgghhJxJJhKJH9y//14yWd1MAQ8XF7/5938/nkjU7zzjeRuuWxyuu+7B7m5x+CiVKva30mnd2pKR1aC9ajZQVFcPGNRpAjYwBFyW/7HqVgpWy4FaREmz6lbSemUIIaVYSvG1IheRlZWV6elp0yoIOfN8srj4wdxcTbOY4/zDyspYPN5pPeuue+B5fj/jeRurq8WlrXRat7KWTWC1ptP/9RbkaXe6KJ1P54zy/V/84vr166ZVEGKAsGkBhBBCzjDXZ2fXV1cfvP9+dbOM5/3k1q07y8sxx+monolEonSYuHmzzo3rrnvgecXho48//rP4nZ2N1dXSXDZcVzWuzTrVD7U1d9WVvVZbNZvl8PDQtARCzBA2LYAQQsjZ5q35+a10enVpqbrZuut+ODf39v37pvWWZyKRKB1OzszUuTHjeRuuWzrzu48/9jtWkLi2Ka5unBwWzc4KqsL82cqCkAuOpZQyrYEQA6ysrExPT5tWQcg5IeN57yWTG65b0/K/z85+f2HBtN7eQldvPSidJc+8Uv/v3/7t00eP+sLhrwwNDYZCf7Lc2dlYXT3tQW8/8DzTeTSDZTT6Ww8eJJNJ0zUgxACWUsq0BkIMsLKyMj09bVoFIeeHrXT6f01PH3hedTML+P7CwvXZWdN6LwQZz9tw3bJL6657sLtbdulRKtWoty5jtcnPWw8eJJNJ09kQYgBLKWVaAyEGWFlZmZ6eNq2CkHPFuuu+l0weeF51Mwu4s7w8OTNjWi9pGxnP23Ddsktb6fTW2lrZpUepVKPe2sv/ePAgmUx2q0iE9BCWUsq0BkIMsLKyMj09bVoFIeeNTxYXP5ibq2kWc5y7y8vjiYRpveSMse66B55XdunRxx+Xnc/s7GysrpZdmv7Hf0wmk6ZzIsQAllLKtAZCDLCysjI9PW1aBSHnkJ//+Mc/v3evptlEInFneTnmOKb1kovL8vJyMpk0rYIQA9imBRBCCDlXvPHuu9dnZ2uarbvufDJpWiwhhFxEbNMCCCGEnDfenJ8fTyRqmq277odzc6bFEkLIhcM2LYAQQsh5I+Y4d5eXo45T0/KTxcUH779vWi8hhFwsbNMCCCGEnENijnN3eTnqONXNFPDRnTurS0um9RJCyAXCNi2AEELI+WQikbi9sFDTTAEfzM1tuK5pvYQQclGwTQsghBBybkncvPnm/HxNs4zn/eTWLf00rZcQQi4EYdMCCCGEnGe++c47G6urnywuVjfbTKfnk8k7y8sxxzEtmfyJ/f39bDZrWgUhpP1YSinTGggxwMrKiud5Nc2GhobC4bBpsYScebbSad1qmo3F47qZFku6xIBgUEA6nU4mk6bLQIgBwqYFEGIMfvcJ6RqZ1177p+nprXS6utkb9+5N37plWiy5KKRrXUhCziu2aQGEEELOPzHHefv+/ajjmBZCCCEEtmkBhBBCLgQTicQP7t83rYIQQghs0wIIIYRcFCZnZm4vLJhWQQghFx3btABCCCEXiOuzs7qZVkEIIRca27QAQgghF4vbCwuTMzOmVRBCyMXFNi2AEELIhePt+/fHEwnTKggh5IJimxZACCHkwhFznNsLC1HHMS2EkIvK/2enjm08MYs4DDOrExLWBVsAWwObklKBI1K7BOsacQlXyroOLr0SNuKCF3KSE4IZyf/nKWD0/oLv47E9XQcA8IheXl8/vb1dVwA8oqfrAAAe1Mvr60+fP19XADycp+sAAB7XX3/++W+//HJdAfBYnq4DAHhof//117/8+ON1BcADeboOAODR/fT5859fX68rAB7F03UAAI/uh+fnT29vf3p+vg4BeAgfrgMA4A8/PD9/env7x2+/XYfw33h/f//27dt1BfC9prpugANfvnz5+vXr/+TUhw8fPn78eD0Ifg/++f7+R6+J//B/+mb/ffbl5eV6HByY6roBAABYMtV1AwAAsGSq6wYAAGDJVNcNAADAkqmuGwAAgCVTXTcAAABLprpuAAAAlkx13QAAACyZ6roBAABYMtV1AwAAsGSq6wYAAGDJVNcNAADAkqmuGwAAgCVTXTcAAABLprpuAAAAlkx13QAAACyZ6roBAABYMtV1AwAAsGSq6wYAAGDJVNcNAADAkqmuGwAAgCVTXTcAAABLprpuAAAAlkx13QAAACyZ6roBAABYMtV1AwAAsGSq6wYAAGDJVNcNAADAkqmuGwAAgCVTXTcAAABLprpuAAAAlkx13QAAACyZ6roBAABYMtV1AwAAsGSq6wYAAGDJVNcNAADAkqmuGwAAgCVTXTcAAABLprpuAAAAlkx13QAAACyZ6roBAABYMtV1AwAAsGSq6wYAAGDJVNcNAADAkqmuGwAAgCVTXTcAAABLprpuAAAAlkx13QAAACyZ6roBAABYMtV1AwAAsGSq6wYAAGDJVNcNAADAkqmuGwAAgCVTXTcAAABLprpuAAAAlkx13QAAACyZ6roBAABYMtV1AwAAsGSq6wYAAGDJVNcNAADAkqmuGwAAgCVTXTcAAABLprpuAAAAlkx13QAAACyZ6roBAABYMtV1AwAAsGSq6wYAAGDJVNcNAADAkqmuGwAAgCVTXTcAAABLprpuAAAAlkx13QAAACyZ6roBAABYMtV1AwAAsGSq6wYAAGDJVNcNAADAkqmuGwAAgCVTXTfwXf7FDh27yHXdCxy/Z2XeW3fXlY2rUfMwvPdglhDYcqZ0ERg1Jq6sqexOM3/BzvwFuxAcMAnMFqlCyE6ncsdVZAhoHFKo2wtx4yLoimDLDphfRt6gyJIDDju6v7H0+bBczp5zOb/vXAAAuLoSEdkNAABAR0pEZDcAAAAdKRGR3QAAAHSkRER2AwAA0JESEdkNAABAR0pEZDcAAAAdKRGR3QAAAHSkRER2AwAA0JESEdkNAABAR0pEZDcAAAAdKRGR3QAAAHSkRER2AwAA0JESEdkNAABAR0pEZDcAAAAdKRGR3QAAAHSkRER2AwAA0JESEdkNAABAR0pEZDcAAAAdKRGR3QAAAHSkRER2AwAA0JESEdkNAABAR0pEZDcAAAAdKRGR3QAAAHSkRER2AwAA0JESEdkNAABAR0pEZDcAAAAdKRGR3QAAAHSkRER2AwAA0JESEdkNAABAR0pEZDcAAAAdKRGR3QAAAHSkRER2AwAA0JESEdkNAABAR0pEZDcAAAAdKRGR3QAAAHSkRER2AwAA0JESEdkNAABAR0pEZDcAAAAdKRGR3QAAAHSkRER2AwAA0JESEdkNAABAR0pEZDcAAAAdKRGR3QAAAHSkRER2AwAA0JESEdkNAABAR0pEZDcAAAAdKRGR3QAAAHSkRER2AwAA0JESEdkNAABAR0pEZDcAAAAdKRGR3QAAAHSkRER2AwAA0JESEdkNAABAR0pEZDcAAAAdKRGR3QAAAHSkRER2AwAA0JESEdkNAABAR/ayAzItl8tSymuvvda27bP7BwcH2YEAALBle9kBmUaj0WQyadt2PB4/3tz8O51O67peLBbZgQAAsGV72QHJjo6Oer3e8luXO/P5vGmazX6/38+uAwCALSsRkd2QbLVaDYfDuq4vLi6apjk4OBgMBufn59ldAACwfddms1l2Q7Jer/fgwYPVavX5559/9NFHX3311e3bt+u6zu4CAIDtKxGR3bATDg4O1uv1ZnF8fDyZTLZ7edu2l5f3+/26rp99YXO6eaf3rewvAQDAi2wvO2BX9Pv9y8VoNNr65XVdz+fz4XA4Ho+fPW2aZvitzSL7MwAA8ILbyw7YCavV6vT0tN/vb9bj8fh5jDg+Pt48l8vlZtZTR/P5vG3byWQyGAyyvwQAAC+4a7PZLLshWdu2b7/99mZx9+7dTz75ZLVa1XV9eHi43SlvvPHGgwcP7ty58+mnn37wwQeP9zfjptPpZuLZ2dn+/n72xwAA4AW3lx2Qbz6fN02zWCzqur58TqfT9Xq99UFHR0e9Xm9z88nJyZPTN8/j4+PN3OwvAQDAi69ERHZDpuVyeePGjcFgcH5+frlzcnIynU77/f7du3ef07i6ri8uLjbP09PT8Xj85HQAAHiurs1ms+yGNG3bDofD/f3927dv13V9uXl4ePjxxx/fuXOnlDIYDLY78a233tpcfu/eva+//noz6N133900nJ+fP54OAADP1V52QKbxeNy27dHRUa/Xe3J/sVjUdT2bzVar1daHXl5+cnIynU6bptlMeWo6AAA8PyUishvSrFarzXMwGDx7tF6v27at67rf72997nw+n81mm0Wv17u4uMj+DAAAvERKRGQ37KTVqlqvHy36/Wow2Pr1169fb5rm7OxsNBpl/1QAAF4ir2QH7J71uhqPHz0f6/erxeLRc3t6vV7TNHVdZ/9aAABeLnvZATumaarhsFqvv7O5+Xez2bbZcQAAcFV72QE7Zjyu2vZ79jebmyMAAPiR28sO2CHfNE21Wv3b4+UyOxAAAK5qLztgh1xrmsfrh1X1+6r641NvrFbZjQAAcCWvZAfsoi+r6hdV9UVVHT510Otta8R77703GAx627sQAAB+iBIR2Q27pJTPqurDqnq9qt6pqjefPKrr6v797D4AALiSveyA3fKn0eiXVfV6Vb1fVW8+dXZ0lF0HAABXVSIiu2FX3Dk9/e14fFjXP2vbV586G42qs7PsQAAAuKq97IBd8Zvx+Hfj8eHNm+/cv//qbFb1ev886Per4+Pq7Cw78DuW95btwza7AgCAH58SEdkNyR627a9u3PjLavXzxeInN2/+66Btq7rOrvt+w9vDdbOe/N/k1k9v1fs7GgkAwA4qEZHdkOmvTfPrGze+bJp3Fov/HY2yc36o63+43rRN9UVVf1FP/mdy6+BWvV9nRwEA8CNQIiK7Ic1n6/WHw+F/VdX75+dv9vvZOf+B8udSfVNVf6+qh4/+6r/Vk97k1v/fqv+7zk6Dl90/2KOf2Liuso/jzznvyE7emvY0LSQ00FyRSq0qaO4CCSRAmVmzmg1LOmaPZiKxn5kVy/GGtS2xQAhQLVZskG9YdZcBgRASUgZQkFDbdJw4/lPH8zCZysWSJQih9/zi6PvR8dXRc69nvmcuAABPueDu6gaNdzc2fnnjxsWi+O4777xYFOqc/074a7D5e5vZo+uh2YHZjqWd1LvU677eTctJHQgAAICnVHB3dYPAT9eGP18bfCal76yvn0tp8Us8xr+Fx/v08NgdT/qBrfMt+/i9+fE6Wqx9S/dS7+Ve9/PdtJRq/hUBAABw9gR3VzfktrX5h/byt7e/+Zf//Gj4NL4v1PBfD088cPLJ+cucPVppO229slUulZ/GAQAAAPDsaKgDBH7z25Xt0btrv7557drFGr/Ga/zslrf+9RW+WDOzI7N9s23rLHX6l/vFUlFjAQAAAM6mhjpAItr289fuf73ZuKIueVL7Zr5YM7OHZgdme2bvWWel0/9Sv1gp1H0AAAB4SjXUARLBzBfrzPrI7Mjs0GzfbNfsA+u80Om/1S9WCnUZAAAAnmoNdYBEMPPFOrN2zPbNds3uWueFTv+r/WKlUDcBAADgDGioAyTC4jpTZ/wP3jO7a50Lnf7X+sVKoa4BAADAmdFQB0gEM0/pOXXGkxv8/+DtN94uVgp1CAAAAM6YhjpAIs7/yvKSOuPJ9d/sqxMAAABwJkV1gERQBwAAAAAaUR0gEcxc3QAAAAAIRHWARDBzdQMAAAAgENUBEkEdAAAAAGhEdYBEMHN1AwAAACAQ1QESQR0AAAAAaDTUAfWqqur0cDLZWdxaaTab6kAAAAAgq+Du6oY6jxfCv7n7bJ8dAAAAOC24u7qhRsPh8PSwqv5UVT+Zb57tswMAAACnBXdXN2Q1nU5brdZ4PG42m1tbW+ocAAAAIKvg7uqGrFZXVzc2NswuffjhH1NK6hwAAAAgq6gOyGpjYbH9cUpJnQMAAADkFtUB+YzH4xs3bsw3RfFDs1KdAwAAAAhEdUAm0+m03W7Pr51Hvm/m6iIAAABAIKoDMlldXZ1MJmVZjkajxcDVRQAAAIBAVAfkMBwONzc3U0rr6+vzq1lQFwEAAAAaUR1Qu6qqBoPBfDMajcqyPB67ugsAAAAQiOqAek0mk3a7Pd/0er1Op3PijqvTAAAAAIGoDqhXu92eTqdlWY5GoxPjYObqNAAAAECgoQ6o0dra2ng8nm/6/X5VVZ/MJ5OPzO5X1UtlWaaU1JkAAABAPg11QI22t7c/3rTb7dN3Wy3b2tpqNpvqTAAAACCfhjqgRtevXx8MBqfnVXVYVXuDwfNFUagbAQAAgKyCu6sbchsO9weD992/oA4BAAAAcovqAIlgNlM3AAAAAAJRHaDi6gAAAABAIKoDVFwdAAAAAAhEdYBEMHN1AwAAACAQ1QEqrg4AAAAABKI6QMXVAQAAAIBAVAeouDoAAAAAEIjqAIlgNlM3AAAAAAJRHSBQVX83c3UFAAAAIBDVARLBzNUNAAAAgEBUB0gEs5m6AQAAABCI6gDVqV3dAAAAAAhEdYBEMHN1AwAAACAQ1QESwexI3QAAAAAIRHWAREjpOXUDAAAAIBDVARKhLC+qGwAAAACBqA6QCGaubgAAAAAEojpAIqgDAAAAAI2oDlCd2tUNAAAAgEBUB6i4OgAAAAAQiOoAiaAOAAAAADSiOkB1alc3AAAAAAJRHQAAAAAgn6gOkAhmrm4AAAAABKI6QCKYuboBAAAAEIjqAImgDgAAAAA0ojpAxdUBAAAAgEBUB0gEdQAAAACgEdUBKq4OAAAAAASiOkAimLm6AQAAABCI6gCJoA4AAAAANKI6QMXVAQAAAIBAQx2Qz3S6Nx7fuXnzz5PJV6bTf7RaP0vpfFlevnbtcrP52nyvDgQAAABqF9xd3VC78fjOcPirzc3fHw++Z7Zt9otPHiiKC7du/SCl8+pSAAAAoF4NdUDtxuM7rdaPptO9E7NbZvsnn5lO91M6ry4FAAAAatdQB9SuKC6YnTfbOzG7dWKfzD7X631ZnQkAAADkENxd3VC74fB3g8EHi+09s4eLzRfNDs1eNLub0t9u326ndE6dCQAAANQuqgNy6HZfT+nA7CWz0uwbZt8ye9XsstnMbK/Xu5rSOXUjAAAAkENUB+SQ0nKvd8lsx+yh2Wwx88U6TGm3231LHQgAAABkEtUBmXS7bxTFvtmB2dHxzM32er1XUzqnrgMAAAAyieqATFI61+9fMbtvdnQ8O0ppt9t9U50GAAAA5BPVAfl0OleLYsfs0Gxm5mYHvd4rKS2ruwAAAIB8ojogq37/itkDM5+vlB50u1fVRQAAAEBWUR2QVafzWlnumR3NV6/32ZSW1UUAAABAVsHd1Q1ZVdX7rda9lI5u376S0pI6BwAAAMiqoQ7Irdl8udl80GyupLSkbgEAAAByC+6ubsitqnbLcjml/1OHAAAAALkFd1c3AAAAAMgkuLu6AQAAAEAmwd3VDQAAAAAyCe6ubgAAAACQSXB3dQMAAEBW/2wPDgQAAAAABPlbD3IFZwEQ56HZ8ocuHAAAAABJRU5ErkJggg=='>"
      ],
      "text/plain": [
       "<IPython.core.display.HTML object>"
      ]
     },
     "metadata": {},
     "output_type": "display_data"
    },
    {
     "name": "stdout",
     "output_type": "stream",
     "text": [
      "displacement: 0\n",
      "1.0098192218119086\n"
     ]
    },
    {
     "data": {
      "text/html": [
       "<img src='data:image/png;base64,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'>"
      ],
      "text/plain": [
       "<IPython.core.display.HTML object>"
      ]
     },
     "metadata": {},
     "output_type": "display_data"
    },
    {
     "name": "stdout",
     "output_type": "stream",
     "text": [
      "displacement: 500\n",
      "6.362407329515645\n"
     ]
    },
    {
     "data": {
      "text/html": [
       "<img src='data:image/png;base64,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'>"
      ],
      "text/plain": [
       "<IPython.core.display.HTML object>"
      ]
     },
     "metadata": {},
     "output_type": "display_data"
    },
    {
     "name": "stdout",
     "output_type": "stream",
     "text": [
      "displacement: 1000\n",
      "16.844589686071807\n"
     ]
    },
    {
     "name": "stderr",
     "output_type": "stream",
     "text": [
      "Isovalue doesn't exist inside bounding box\n"
     ]
    },
    {
     "data": {
      "text/html": [
       "<img src='data:image/png;base64,iVBORw0KGgoAAAANSUhEUgAABAAAAAMACAIAAAA12IJaAABsY0lEQVR4AezOQQGAAAgAMekf+ozgDx5uCTbVAwAA/MNU1wcAAGDJVNcHAABgyVTXBwAAYMlU1wcAAGDJVNcHAABgyVTXBwAAYMlU1wcAAGDJVNcHAABgyVTXBwAAYMlU1wcAAGDJVNcHAABgyVTXBwAAYMlU1wcAAGDJVNcHAABgyVTXBwAAYMlU1wcAAGDJVNcHAABgyVTXBwAAYMlU1wcAAGDJVNcHAABgyVTXBwAAYMlU1wcAAGDJVNcHAABgyVTXBwAAYMlU1wcAAGDJVNcHAABgyVTXBwAAYMlU1wcAAGDJVNcHAABgyVTXBwAAYMlU1wcAAGDJVNcHAABgyVTXBwAAYMlU1wcAAGDJVNcHAABgyVTXBwAAYMlU1wcAAGDJVNcHAABgyVTXBwAAYMlU1wcAAGDJVNcHAABgyVTXBwAAYMlU1wcAAGDJVNcHAABgyVTXBwAAYMlU1wcAAGDJVNcHAABgyVTXBwAAYMlU1wcAAGDJVNcHAABgyVTXBwAAYMlU1wcAAGDJVNcHAABgyVTXBwAAYMlU1wcAAGDJVNcHAABgyVTXBwAAYMlU1wcAAGDJVNcHAABgyVTXBwAAYMlU1wcAAGDJVNcHAABgyVTXBwAAYMlU1wcAAGDJVNcHAABgyVTXBwAAYMlU1wcAAGDJVNcHAABgyVTXBwAAYMlU1wcAAGDJVNcHAABgyVTXBwAAYMlU1wcAAGDJVNcHAABgyVTXBwAAYMlU1wcAAGDJVNcHAABgyVTXBwAAYMlU1wcAAGDJVNcHAABgyVTXBwAAYMlU1wcAAGDJVNcHAABgyVTXBwAAYMlU1wfg08vuHJAADMQAEKP+Rd9MjBaeREEAAP4x1fUBAABYMtX1AQAAWDLV9QEAAFgy1fUBAABYMtX1AQAAWDLV9QEAAFgy1fUBAABYMtX1AQAAWDLV9QEAAFgy1fUBAABYMtX1AQAAWDLV9QEAAFgy1fUBAABYMtX1AQAAWDLV9QEAAFgy1fUBAABYMtX1AQAAWDLV9QEAAFgy1fUBAABYMtX1AQAAWDLV9QEAAFgy1fUBAABYMtX1AQAAWDLV9QEAAFgy1fUBAABYMtX1AQAAWDLV9QEAAFgy1fUBAABYMtX1AQAAWDLV9QEAAFgy1fUBAABYMtX1AQAAWDLV9QEAAFgy1fUBAABYMtX1AQAAWDLV9QEAAFgy1fUBAABYMtX1AQAAWDLV9QEAAFgy1fUBAABYMtX1AQAAWDLV9QEAAFgy1fUBAABYMtX1AQAAWDLV9QEAAFgy1fUBAABYMtX1AQAAWDLV9QEAAFgy1fUBAABYMtX1AQAAWDLV9QEAAFgy1fUBAABYMtX1AQAAWDLV9QEAAFgy1fUBAABYMtX1AQAAWDLV9QEAAFgy1fUBAABYMtX1AQAAWDLV9QEAAFgy1fUBAABYMtX1AQAAWDLV9QEAAFgy1fUBAABYMtX1AQAAWDLV9QEAAFgy1fUBAABYMtX1AQAAWDLV9QEAAFgy1fUBAABYMtX1AQAAWDLV9QEAAFgy1fUBAABYMtX1AQAAWDLV9QEAAFgy1fUBAABYMtX1AQAAWDLV9QEAAFgy1fUBAABYMtX1AQAAWDLV9QEAAFgy1fUBAABYMtX1AQAAWDLV9QEAAFgy1fUBAN7wsVfHKFI4SBSHqWZSQcELCF5iQ48wyabSF1rN1nDmBnqBZTJDJ1w0Udx0sYNBE+HtHmK6Xsv/+6i4+EVVAH+ASdJuAAAAlkySdgMAALBkkrQbAACAJZOk3QAAACyZJO0GAABgySRpNwAAAEsmSbsBAABYMknaDQAAwJJJ0m4AAACWTJJ2AwAAsGSStBsAAIAlk6TdAAAALJkk7QYAAGDJJGk3AAAASyZJuwEAAFgySdoNAADAkknSbgAAAJZMknYDAACwZJK0GwAAgCWTpN0AAAAsmSTtBgAAYMkkaTcAAABLJkm7AQAAWDJJ2g0AAMCSSdJuAAAAlkySdgMAALBkkrQbAACAJZOk3QAAACyZJO0GAABgySRpNwAAAEsmSbsBAABYMknaDQAAwJJJ0m4AAACWTJJ2AwAAsGSStBsAAIAlk6TdAAAALJkk7QYAAGDJJGk3AAAASyZJuwEAAFgySdoNAADAkknSbgAAAJZMknYDAACwZJK0GwAAgCWTpN0AAAAsmSTtBgAAYMkkaTcAAABLJkm7AQAAWDJJ2g0AAMCSSdJuAAAAlkySdgMAALBkkrQbAACAJZOk3QAAACyZJO0GAABgySRpNwAAAEsmSbsBAABYMknaDQAAwJJJ0m4AAACWTJJ2AwAAsGSStBsAAIAlk6TdAAAALJkk7QYAAGDJJGk3AAAASyZJuwEAAFgySdoNAADAkknSbgAAAJZMknYDAACwZJK0GwAAgCWTpN0AAAAsmSTtBgAAYMkkaTcAAABLJkm7AQAAWDJJ2g3QdDqdfvz40a6Ac/n9+/fDw0O7Ai7I06dPX7x40a6Apqt2AJR9+fLl5cuX7Yq+j7e3f3v9ul3BWTx//vys+588eXJ15Zvwx/j06VM7AcqcbP7qrq6unj171q7o+/eHDw/fvv39zZt2CABwXod2AHAp/vX27cebm3YFAHBeh3YAcEFuj8fPd3ftCgDgjA7tAOCy/PP6+vv9fbsCADiXQzsAuCy/Tqfb4/Hn6dQOAQDO4tAOAC7Of+7v311ftysAgLM4tAOAS/T57u72eGxXAACP79AOAC7Ux5ub/0+7AgB4ZId2AHC5bo/H+/fv2xUAwGM6tAOAi3Z7PH6/v29XAACP5tAOAC7ar9Pp3fX1z9OpHQIAPI5DOwC4dP/9+vUfr161KwDgsfyPHTp2ceNa+zie97AvRCLFMW4l2MJs65NSnSZpEuJip7DbmWle1t2O/gFri7eVVF27umfUeotZyLbOqBMhRU7abbwgtYZTGClww83dQCAk2DnatbmPZub74Sl/xZen7ZR0AIAaWDs3zzLpCgAA8BEo6QAA9bAsilezmXQFAAD4UAfSAYCwn3/++fXr19IV8m7+ENyc5/m/Dw4efPONdCw+yNu3b3/55RfpCgCAmP/59ddfpRsAST/88MODBw+kK+Stvv/+H19/HZz972ef/d+33/YePpTuxf7qdDqffvqpdAXwXj/++OPnn38uXQFIOpAOAIQdHBzcu3dPukLeva++SqydZ9nfz/719u0/4/j/X7/uai2dDAAA7kJJBwDYF4M0vbngbOv9JIo23kv3AgCAu1DSAQD2SGLt0XAYnK2dO89z6VgAAHAXSjoAwH45KcueMcHZsiguz86kYwEAwK0p6QAA+6WrdWJtR+vg8nI8XhaFdC8AALgdJR0AYO/0jRlV1S7LeZatnJPuBQAAt6CkAwDso74xibW7LCdR9Ob6WroXAADsSkkHANhTgzT94vQ0ONt6/zyON95L9wIAgJ0o6QAA++vJdPrw+Dg4Wzs3zzLpWAAAsBMlHQBgryXW9owJzn66uJhnmXQsAAAIU9IBAPZaV+tRVXW0Di6XRXFz0r0AACBASQcA2HddrUdV1dE6uJxn2dViId0LAAD+jpIOAFADfWOeTKe7LJ/H8co56V4AAPBeSjoAQD0M0vTReBycbb2fZ9nGe+leAADwbko6AEBtPHr2bJCmwdnauRdxLB0LAADeTUkHAKiTx9Npz5jg7GqxmGeZdCwAAHgHJR0AoE66Wo+q6v7hYXC5LIpXs5l0LwAA+CslHQCgZrpan5RlR+vg8jzP3cWFdC8AAPgTJR0AoH76xiTW7rKcZ9nKOeleAADwByUdAKCWzPHx4+k0ONt6/yKON95L9wIAgN8p6QAAdfXl6ekgTYOzN9fXkyiSjgUAAL9T0gEAaiyxtmdMcLZ2bp5l0rEAAOA3SjoAQL2NqqpnTHC2LIrLszPpWAAA8ImSDgBQb12tE2s7WgeXl+PxsiikewEAaDslHQCg9vrGPC3LXZYv83zlnHQvAACtpqQDADTB0XCYWBucbb2fRNHGe+leAADaS0kHAGiIQZreXHC29X4SRRvvpXsBAGgpJR0AoDkSa4+Gw+Bs7dx5nkvHAgDQUko6AECjnJRlz5jgbFkUL/NcOhYAgDZS0gEAGqWr9dOy7GgdXH43my2LQroXAIDWUdIBAJrm/uHhqKp2Wc6zbOWcdC8AAO2ipAMANFDfmMTaXZaTKHpzfS3dCwBAiyjpAADNNEjTL05Pg7Ot98/jeOO9dC8AAG2hpAMANNaT6XSQpsHZ2rkXcSwdCwBAWyjpAABN9ng67RkTnF0tFvMsk44FAKAVlHQAgCbraj2qqo7WweWyKG5OuhcAgOZT0gEAGq6r9aiqOloHl/Msu1ospHsBAGg4JR0AoPn6xjyZTndZPo/jlXPSvQAANJmSDgDQCoM0fTQeB2db7+dZtvFeuhcAgMZS0gEA2uLRs2eDNA3O1s5Nokg6FgCAxlLSAQBaJLG2Z0xwtnZunmXSsQAANJOSDgDQLqOqun94GJwti+LVbCYdCwBAAynpAADt0tX6pCw7WgeX53nuLi6kewEAaBolHQCgdfrGJNbuspxn2co56V4AABpFSQcAaCNzfPx4Og3Ott6/iOON99K9AAA0h5IOANBSX56eDtI0OHtzfT2Joo330r0AADSEkg4A0F6JtUfDYXC2du48z6VjAQBoCCUdAKDVTsqyZ0xwtiyKy7Mz6VgAAJpASQcAaLWu1om1Ha2Dy8vxeFkU0r0AANSekg4A0HZ9Y56W5S7Ll3m+ck66FwCAelPSAQDwydFwmFgbnG29n0TRxnvpXgAAakxJBwDAbwZpenPB2db7SRRtvJfuBQCgrpR0AAD8LrH24fFxcLZ2bp5l0rEAANSVkg4AgD8k1vaMCc5+urh4mefSsQAA1JKSDgCAP3S1flqWHa2Dy+9ms2VRSPcCAFA/SjoAAP7k/uHhqKp2Wc6zbOWcdC8AADWjpAMA4K/6xiTW7rKcRNHKOeleAADqREkHAMA7DNL00XgcnG29n2fZxnvpXgAAakNJBwDAuz169myQpsHZ2rkXcSwdCwBAbSjpAAB4r8fTac+Y4OxqsZhnmXQsAAD1oKQDAOC9ulqPqqqjdXC5LIqbk+4FAKAGlHQAAPydrtajqupoHVzOs+xqsZDuBQBg3ynpAAAI6BvzZDrdZfk8jlfOSfcCALDXlHQAAIQN0vTxdBqcbb1/Eccb76V7AQDYX0o6AAB28uXp6SBNg7M319eTKJKOBQBgfynpAADYVWJtz5jgbO3cPMukYwEA2FNKOgAAbmFUVfcPD4OzZVG8ms2kYwEA2EdKOgAAbqGr9UlZdrQOLs/z3F1cSPcCALB3lHQAANxO35jE2l2W8yxbOSfdCwDAflHSAQBwa+b4OLE2ONt6P4mijffSvQAA7BElHQAAdzFI05sLzrbeT6Jo4710LwAA+0JJBwDAHSXWHg2HwdnaufM8l44FAGBfKOkAALi7k7LsGROcLYvi8uxMOhYAgL2gpAMA4O66WifWdrQOLi/H42VRSPcCACBPSQcAwAfpG/O0LHdZvszzlXPSvQAACFPSAQDwoY6Gw8Ta4Gzr/SSK3lxfS/cCACBJSQcAwEcwSNMvTk+Ds633z+N44710LwAAYpR0AAB8HE+m04fHx8HZ2rl5lknHAgAgRkkHAMBHk1jbMyY4++ni4mWeS8cCACBDSQcAwEfT1fppWXa0Di6/m82WRSHdCwCAACUdAAAf0/3Dw1FVdbQOLudZdrVYSPcCAPDfpqQDgN38h306Bk7jWts4DjsUFpNi70cL471FaDkuVbHctC5EYbewnd0JtffOSJ750gp1drfQxgUq3Ca7qlT60OLirgZSIh/NZISLjLnHEBzkOKycWHol8f/NO2feZR/Lz0oLcGklpR6325dJPq/Xh1pL9wUA4Fo50gUA4OvbbDYf7u2lxibGdIPg3BjpvgAAXB9HugAAXImHu7ubzWZqbKT1i3pduiwAANfHkS4AAFflUbtdVCo1NojjbhBIlwUA4Jo40gUA4KrkXXcnijZcNzV53OnYke4LAMB1cKQLAMAVyrvuThRtuG5qshsE+vBQui8AAFfOkS4AAFerpFQjDC+T7AbBUGvpvgAAXC1HugAAXDm1tfWo3U6NTYx5Ua+fGyPdFwCAK+RIFwCA6/Dd9vZms5kaGyfJfq0mXRYAgCvkSBcAgGvSCMOiUqmxkdbdIJAuCwDAVXGkCwDA9dmJooLnpcaOO50fDw6kywIAcCUc6QIAcH3yrvuk19tw3dTky1bruNOR7gsAwNfnSBcAgGtVUuppr3eZ5A+t1lBr6b4AAHxljnQBALhuZd9vhGFqbGLMfq12box0XwAAviZHugAACNhsNu2kxibG7Ndq58ZI9wUA4KtxpAsAgIxGGJZ9PzU20vplqyVdFgCAr8aRLgAAYp70ekWlUmPHnc6rZ8+kywIA8HU40gUAQEzedRthuOG6qclXe3vHnY50XwAAvgJHugAASCoptRNFl0l2g2CotXRfAH/Xu3fvpCsAwhzpAgAgrKRUIwwvk9yv1cZJIt0XwN/y7t076QqAMEe6AADI22w2/7W9nRqbGPO8Xj83RrovAAB/nSNdAABuhMftdmVrKzU20robBNJlAQD46xzpAgBwUzTCsKhUaqx/eNgNAumyAAD8RY50AQC4KfKuuxNFG66bmjzudOxI9wUA4K9wpAsAwn755RfpCrhB8q67E0Ubrpua7AbBII6l+wIA8MUc6QKAsF9//VW6Am6WklKP2+3LJJ/X60OtpfsCAPBlHOkCAHDjbDabD/f2UmMTY7pBcG6MdF8AAL6AI10AAG6ih7u7m81mamyk9Yt6XbosAABfwJEuAAA31KN2u6hUamwQx90gkC4LAMBlOdIFAOCGyrvuThQVPC81edzp/HhwIN0XAIBLcaQLAMDNlXfdJ73ehuumJl+2WvrwULovAADpHOkCAHCjlZRqhOFlkt0gGGot3RcAgBSOdAEAuOnU1tajdjs1NjHmRb1+box0XwAAVnGkCwDALfDd9vZms5kaGyfJfq0mXRYAgFUc6QIAcDs0wrCoVGpspHU3CKTLAgDwpxzpAgBwa+xEUVGp1Nhxp/Pq2TPpsgAAfJ4jXQAAbo286zbCcMN1U5Ov9vaOOx3pvgAAfIYjXQAAbpOSUk97vcskf2i1hlpL9wUA4FOOdAEAuGXKvt8Iw9TYxJj9Wu3cGOm+AABc4EgXAIDbZ7PZtJMamxizX6udGyPdFwCA3znSBQDgVmqEYdn3U2MjrV+2WtJlAQD4nSNdAABuqye9XlGp1Nhxp/NDqyVdFgCA3zjSBQDgtsq77tNeb8N1U5M/HRwcdzrSfQEA+MCRLgAAt1jB83ai6DLJbhAMtZbuCwBAxpEuAAC3W0mpRhheJrlfq42TRLovAGDdOdIFAODW22w2/7W9nRqbGPO8Xj83RrovAGCtOdIFAOAueNxubzabqbGR1i/qdemyAIC15kgXAIA74lG7XVQqNTaI424QSJcFAKwvR7oAANwRedfdiaIN101NHnc6dqT7AgDWlCNdAADujrzr7kTRhuumJrtBMIhj6b4AgHXkSBcAgDulpNTjdvsyyef1+lBr6b4AgLXjSBcAgLtms9l8uLeXGpsY0w2Cc2Ok+wIA1osjXQAA7qCHu7ubzWZqbKT1fq0mXRYAsF4c6QIAcDc1wrCoVGpspHU3CKTLAgDWiCNdAADurJ0oKnheauy40/nx4EC6LABgXTjSBQDgzsq77pNeb8N1U5MvWy19eCjdFwCwFhzpAgBwl5WUaoThZZLdIBhqLd0XAHD3OdIFAOCOU1tbj9rt1NjEmBf1+rkx0n2BO8h+swZx/OPBwatnz6S7APJy0gUA4O77bnt71O8fdzqrY+Mk2a/VdqIo77rSlYFbbKj1xJjB0ZH9TtkZxHF26e7jn36SLggIy0kXAIC10AjDcZIM4nh1bKT1y1bLhqX7ArfDuTH2W2O/XOOTE/v9mswuP8lkM5lpJlP2/YLn2ZGuDMjLSRcAgHXxpNfbr9VGWq+OHXc6Bc97uLsr3Re4cYZaT4wZHB2Nk8TOaHb5x9g0kyn7vv0e2SlXq/Pl490oiqSfAxCWky4AAOsi77qNMNyv1SbGrE6+2tsr3L+/2WxKVwbEjJPEzlDrydnZII7tfpok81vZTGa6iM2Xsu8XPM9OuVqdLyt+ci6Xk344QBjfAQC4PiWlnvZ6+7VaavKHVquolM1LVwau3DhJ7Ay1npydDeJ4YsxI6/mt7OycLpLz5VvfL3ienXK1Ol++6L/75ptvpJ8YEJaTLgAA66Xs+40w7AbB6tjEmP1a7T+vXxc8T7oy8NWcGzPUeqT15OxsEMf2Pbe7/Ty7CEwvLtPZV8Z+C+yUq9X5Iv0QwK2Xky4AAGtns9kcHB0ddzqrYxNjntfrO1GUd13pysAXOzdmqPVpkoxPTkZa28s3cZy9mJkulveLpahUwfNKShUrlfki/RzAHZSTLgAA66gRhufG9A8PV8dGWneD4GmvJ90XWMW+zEOtT5NkfHJiX9qJMYM4zi7u2mV6cZkubm24bkmpsu8X7t8veJ5dpB8FWAs56QIAsKYaYbifJCOtV8f6h4c/tFqP223pvsBvBnE8TpLxyYl9eyfG2MtsJpNdCkwXl9PZ+X7pVtn3S5VKwfOKStnJu6700wDrKCddABB279496QpYU3nXfdrr/f+DBxNjVid/OjgoVSqbzaZ0ZaydQRzb93PY758myThJRlrby+zFzPxyOpvM4pwrKVXwvKJS5WrVLnakHwjABznpAoCwe/fuSVfA+ip43k4Uff/gQWqyGwRFpUpKSVfGnTVOEjuDo6PJ27ejfv80SezMb2Vn53SxT5cup0s/wb7Pdsq+X6xU7MLrCtxYOekCALDWSko1wrAbBKnJ/VptJ4psXroybr1zY0Zaj5Pk9ORkqPVpktjL7OxWdpGZLi3vL34yl3fdolKlSsWeBc8r+770YwG4rJx0AQBYd5vN5vjk5NXe3urYxJhuEOxEUd51pSvjNhlqbV+ewdHRaZLYGc0u7efZpYyTyUxny/vFMl26a5MbrltUqlSpFDzPLnZ4D4HbKyddAACQebi7O06S405ndWyk9Yt6fSeKpPvihjo3xr4k9l06PTkZxPGpXZLEfp69GLOX00zm/WyfLp0f71pl3y94np1ytTpfpB8OwFeTky4AAPjgUbs91Hqk9erYII67QdAIQ+m+kGdfmNMkGfX74ySxy5s4th9mlwLZxeV0NsvLx8Bc2fcLnmenXK3OF+mHA3CFctIFAAAf5F13J4r+/c9/ToxZnTzudMrV6mazKV0Z1+fcmJHWdiZnZ2/ieJwkp0mSXdydL04mM1188n52Tpc++Zi0863vFzzPjn2R5ov08wG4VjnpAgCA3+RddyeK9mu1iTGrk90gKHhe2felK+NKDOLYvgM/9/vjJDlNkjdxbD/MXsw4s3M6m/eL/eOZnS3Z2RSVsm+LPcvVql3sSD8fAGE56QIAgN+VlHrcbneDIDX5vF7fiSKbl66Mv2WcJHZ+1vrD2e/b8zRJskuB7GzmpovJLC2ZpUBm9goVPK+oVLFSsQtvCIA/ykkXAABcsNlsnhvzstVaHZsY86Je//fr13nXla6MS7F/1pHWdiZnZ2/i2P4Ff9Y6uxTILp3WdGkyi3M5bOdb37cvQFGpYqVS8LySUtJPCeAWyEkXAAB86rvt7VG/f9zprI6Nk2S/VvvP69fSffEp+6exM9J6cnb2Jo4nxtg9m8lkF4Hs0mlNF5O5eGYXi5V33aJSpUpl4x//KFerBc+zI/2gAG6lnHQBAMBnNMJwqPVI69UxG+gGgQ1L911f9s80MebN0dHk7dtRv3+aJOMkyWYy2aWM3Z2ly2km8352Tpc++URJqQ3XLft+4f79gucVlcq7rvSzArgjctIFAACftxNF3z94ME6S1bHjTqdYqXy3vS3d9447N2ak9cSe/f5pkti/y8+zS3sru8jMF2dxOZ3Nxz2zdPnJXvb9gufZKVUq/2dPpaQfF8BdlpMuAAD4vLzrPun19mu1iTGrky9brYLnqa0t6cp3xDhJ7Iy0npydfTiNeRPH2Uwmu5TJLp3W+8Uy/dwPnF78vOz79u9lp1ytzhfpJwawXnLSBQAAf6qkVCMMX9TrqcluEBQ8z+alK98yQ60nxrw5Opq8fTvs998ZM9I6O7uVXWTs4iz26eLMXtw/3lrOzOVdt6hU2ffL1apd7KX0QwNYdznpAgCAVdTWViMMu0GwOjYxZr9W+/6//827rnTlm+jcmJHW9rc07PdPk2ScJKezyS4CHxcnk5nO5qPp7O78zC5uLWemf/gnZd+3U6pUikoVPE/66QHggpx0AQBAis1mc3B0dNzprI5NjNmv1XaiKO+60pUljZPEzkjrydnZh9OYQRxnM5nsn+Sns1vTxaXdnaVb83M+7//wDz+eJaW+rVbtWVTKntK/AwBYJSddAACQrhGG4yQZxPHq2Ejrl62WDUv3vQ7nxtjnnRgz7Pcnb9+O+v3TJLG/JXsruxSbLi4/LtnZ7nzuZ05n5/ulffqHu/OzqFTJTqVil7LvS/8yAOAL5KQLAAAu5Umvt1+rjbReHTvudAqe93B3V6bl/9gru6A4rjPv0z093wM0DOJzBgaBRrIim2Zly9EmWwN2JbVbm3VE7cZVW3sh5n33Ir5aS7ebKitVycXeCO1V8l4BF1tblWyCastJebO2QbY3SIktGsn6MOhjBgaQYAZ6mGG+Z/r9uzvMjgANCME0oOdXXaee85z/Oef/PN0Mu8PEyMjX45Ur8aWlwPh4XJLW90FWRkZ5ygpGZqMDmSd3yQVTed2ZaoCuOgTBKQhujweBhee17gpBEMQ24bQ2QBAEQWwJC8+f7e+/2N0dl6TiyvcvXLC3tJzu7dXa8jMzLYqobuLKFcSTIyMYJ0ZGGGVJflLJKE8+UB95a7fITxnXrKLhDkFwd3U5OzqOdHVhqnV7CIIgdgZOawMEQRDEVnEKwvnh4Z92dm6qHPR6HYIAvdaWNybk8/3p8fsDohiXpGllLNTIZWXMaoyAVUamIKlqNow3RF4d5XWZ/Oju6nJ0dGBE6+wul9Z9IgiC2BU4rQ0QBEEQz4BTEM729w96vZsqL3Z3/2hszO5yaWt4YmTk6/HKlfjS0vT4eFySpkURGaasTC6QMasPYAviNUr5yV2bIhdsKTwkPzoEAS11ezxqoG2vCIIgSgOntQGCIAji2Tjd2zs9Pv7xpUvFZXFJ+llPz/nhYQvPl8BVQBRjkvT1GA7/byxJ65WsMjLKwypj2eqYRy6Ic1u4nSnYJa8+ZRuNdpfL3dXl7OhwCAKCEnSGIAhir8FpbYAgCIJ4Zt7u6wv5fOOXLxeXBURx0Ot9Z2hoB6/GvXhwciwc/nqUJHXMC5gCMatM1zzrkZWncFoEZqPtOeXJ7y0c7S6XQxCcguD2eBBYeH4Hu0EQBLEf4bQ2QBAEQWyHs/39F32+gCgWl41fvvyLc+fe7uvbxhVxSZoWxZDPF/L7cVFMkiZGRpBnlNXCUVcwXROUFQTyRrfIT5kyBUlmnQBjThnlJ5PAzPPuri6nILg9HocgWHh+l14BQRDEPoXT2gBBEASxHSw8/87Q0E86O+OSVFz58aVLzo6O0729TxNMiyIOCfl8Ib8/vrQUGB/HFElGWWVWZYzyP0NezeTH9bI8csH4NJiNpusPySlB4ZNfsrtcDkFwCoLb40GMp9QvgyAIYl/BaW2AIAiC2CZ2l+v88PDF7u64JBVXDnq9Zp638DziiStXmLKyaVHEroAyMhtt0a0GzLpxw2BD1q/KW9gorz65glguWEUhDkFwd3W5PR4Eal0EQRDEFuG0NkAQBEFsH6cgvN3XN+j1rl9ingz+X08PU5BU87IysqsBs9HGsqdMt8f6Q+TVUX1yq8EagUMQ3B4P6nV3ddldrhL2mCAI4qDBaW2AIAiC2A4xSQqIYlySFv1+pyAgZtZp1IysPGqgUwJ2I9n6eP10e8jrYrnAWO7JZF5md7ncXV2Ojg5Uh6CUvSUIgjjYcFobIAiCIDZhWhTjkjRx5QpTVjYxMoIYGWZ1VQ10T06ZgiCjPCrZsjLjk4czWzDwNI1cdFqYkVdHPLmCaSFmnnd3dTkEwe3xYLTwfOlbTRAE8SLAaW2AIAjiRScmSQFRVOOJK1cwMmVlIZ8Pz7QoxiWJLSuTlSSjaBjltzs/zcMUjIUZiDOrmVxZWbqszLhdq/LWpvKTY+FTiJnnHYLg7upydHQ4BcHucmnQfYIgiBcPTmsDBEEQB5aJkRE1CPl8Ib9/TTIgiglJUmNGeeSCOB8YnjyTecYY6JQnuzrNlJWxz/LrL2+WlJ8M5CefNbvcXV3Ojg6HIOBxCsJutp8gCILYGE5rAwRBEPuMaVGMSxKCmCQFxsfzyYSSxBJitkDPKM/6GOg3Op/ZQpIp6lBel8FvfbZgmlJG3bOcsD4vPzmuCfIapyA48HR0IHB3dZURBEEQWsNpbYAgCEJ7YpIUEEU1nhbFeDiMgCkrmxgZUZOLPl/I52OUeP1YGADDZtcxz5csRN5agaxyVKE4VVZmfPr58rpYXreUz6/J2F0uhyA4BcHt8bi7usoIgiCIPQantQGCIIjnZWJkZE0m5POF/P41mUWfrzATl6SAKCJglOn6MY861T+7MabodCvIz5h/2l3Q68rKMk8mU2Vlho3OlJ9yxXqBGthdLocgOAXB7fEgsPB8GUEQBLGH4bQ2QBDEi0VMkgKiuEFyfHxNMuTz4WGeTGIvxPkpsy5YExdP6rbmWd7Cacy2ztk95HVTdiNNaqMmyE/G8rqk3eVyCIJTENweDwILz5ewMoIgCOJ54bQ2QBDEHmJaFOOS9NSlcHjDpYmRkQ3zOCogioUZZp2GKbq6oXi3f7aYzTLMzt0lb9nD9s6U143rxdmyMnadJh/YXa5ql8vZ0WGuqjrq8Zh53ikIO9cAgiAIQgN2+z8pQRA7w7QoxiVpfT4mSYHx8Q23TIyMbJgP+Xx48lPm6Zcyz+JwQ7FuJ2pnduKQTU/b+i3yjvp52hXMs3iQn0zKz+IZS1klsLtceBwdHZaqKrfHY+Z5pyDsfq0EQRBEqeG0NkAQB4SJkZGN81euPJteyTNbuJF5dpP5LbqdK5zZuaN2/LRnOlZ+il7eHUtFXDFPuVpeF8tFC5E3mj6Ns/39p3t7d61WgiAIYg/BaW2AILTn/R//eH1yYmRkQ3E+zzzLFVsXs8+3vWx3XO0SO2tgB0+TS1K+/Cx3yU/PyEU1dpcr5PNtev4vzp1zCIJTEEpSOkEQBKElnNYGCEJ7fnPhghowWxCzO3Ejo3XJKrJ23pg92TG5JLds8Wr56bKnLdldLjzOjg5zVZXb4zHzvFMQsDQ6MDDo9RY3EJeki93dP3340MLz2rWBIAiCKAWc1gYIQnuY51g9eMhbVm6jM8zuu9qefjdeury1JfnZzUNg4XmHINhdLjyOjg6MTkF4mv50b+/ElSujAwPFj41L0sXu7vPDwzh8JxpAEARB7FE4rQ0QhPYwWhvY4+xgf+SCcS8XIj+HTN7WUcXPdwqC3eVyYGxpUQMLzz/TUWf7+0M+38TISHFZQBR/ee4cxGUEQRDEwYXT2gBBEBvAaG3gOZG1NvA8ruRdLkreKOMUBAvPIzbzPOKvg8pKBHaXC8+O3PvDoaGL3d0BUSwuGx0YgIe3+/p2qFyCIAhiz8FpbYAg9hOM1gZ2G1lrA3u5QGZrpxUmHYJg4XkEZp53CoK6etTjUVfzydIAJ+8MDf2kszMuScWVH1+65OzoON3bWzJvBEEQRCnhtDZAENrDaG1gZ5G1NqBhUbtR+4Zn2l0uPAjMPO8UBDXp9nhUPTIWntekUcWB5/PDwz/t7NxUOej1OgQhXxpBEARxkOC0NkAQRDFkrQ3snqs9UtoaG3aXCw8CM887BUEVHPV41FWHIFh4XmvLzwWKOtvfP+j1bqq82N39o7ExtRsEQRDEQYLT2gBBHBBkrQ3su6KY3bEEgVMQzDy/ZsvRrq41GUtlJZT5LZaCLQeb07290+PjH1+6VFwWl6Sf9fScHx5+cTpDEATxgsBpbYAgtEfW2sA+srqDBnCUUxDMPL8mb+F5hyCs17s9nvU2jnZ1ad2SfcnbfX0hn2/88uXisoAoDnq97wwNaeUzlUpJkhSJRDKZjMFgqKysrKio4Dj6z0UQBPFc0M8oQTyBrLWBkhku3Gh3ufAUEbu7uoqsmisrnYJQRLDp+UTpOdvff9HnC4hicdn45cuDXi/EJbYny/LCwsL9+/dnZ2fD4XAmkzEYDNXV1Q6Ho62trbKyUqu+yQqMglYeCIIgnhNOawMEoT2y1udYeN4hCPJmgmInVFYWF2AVh+xQocRBAN/D+eHhf25tjUtSceXowIDb4znd21syb7IsP3r0aHx8fHJycnZ2NhwOp9Npo9FYVVWFfCQS6ejo4Ev+Pcfj8YWFhVAolEqlDAaD3W4/dOiQ2WwusQ2CIIjnh9PaAEFoz5GuLjWQ1y3ZXS48xbe7PZ7igq0cQhClx8Lz54eHL3Z3xyWpuHLQ68U37F79S9kGsiwnk8l4PI7AaDSazWaWZZ8mXllZuXv37p07dyYnJ2dnZ8PhcDqdxq6qqqpoNJrL5bBdEASDwVCyXi0sLNy+fdvn84VCIRQCM3a7vbW19fjx4zU1NWvE2Ww2EonAKgJYrayshL5kVg8kmUwG7x3fDMdx+QxARq/XMwyjtUGC2GdwWhsgCO05NzystQWC0AanILzd1zfo9W6q/FlPz/nhYei3cUs8Hvf5fFNTU5Ik5XK58vLyxsbGtra2ysrKDfVzc3NTq8zOzmJXJpMxGo2RSATbzWZzTU1Nc3NzfX19abq0tLQ0NjZ28+ZNVBEKhZLJJMzY7fZgMJhIJE6dOsXzfF4MkxMTE1BiF2zbbLaGhoajR4+iZJZlS2P4ILG8vOz3++fn59F2i8WCZuLtY4oPIxaLGQyGuro6l8uFb4lhGK3NEsS+gdPaAEEQBKElp3t7Q37/+xcuFJfFJWnQ6z0/PGzh+Wc6PxaLiaL45ZdfTk1NSZKUy+VsNpvD4QgGgydPnrTb7Wv0mUwmFAoFV1lYWAiHw0gaDAaMZrNZzUNTX19fgv5ks9n79+/fVfD7/bg6lUoZjUY4TyaTcFVdXd3Z2anT6SCORqNffPHFjRs3fD7f0tIS9lqt1sbGxsXFxddee62lpYVhmBJ4PjA8evQI/ZyYmJifn0e3LRZLVVUVeoivCC3Fp4X+19bWut3uV199FX3W2i9B7Bs4rQ0QBEEQGvO9994L+XyjAwPFZQFR/HlPz/nh4a2fnMvlJicnx8fHb968OTU1FQ6HkSkvLw8Gg8lk0mQyvf7660ajsXBLNpuNK0QikaWlJYyxWAy7MpmMTqdbXFyMRqMJBSRZlt3t5qysrMzMzMwqIAiFQqlUymAwwIBer6+urkbe7XZXVFTAz717975U8Pl8MI9arFYrPMO8xWKx2+2ofbcNHxjwosfGxj7//POJiYn5+Xl8MGazmeM4hmHQ6nQ6jY8EH09tbS0+Enwb5QpauyaI/QGntQGCIAhCe37Q1zctigFRLC6bGBkZ9HrP9vdv8dhoNPpQwefzTU1NSZKUy+XKy8tTqZTJZKqrq2tra2tqaircwjCMTqdLJBIQx+PxTCaj5mVZRoxMOBxOp9Msy5amM7FYLBKJLC8v415YwgjzBoMBJhEvK0BTUVGBcaqApaWlbDZrs9lg22KxNDQ0PH78GLXvhkl0NRgMzs7Ooj9ms7m+vv7QoUNwWJoW7RIzMzP3Vpmfn08mk0ajEZ3Hq0dj8RaQwRRvB5Xa7XZ8S8eOHdPaNUHsDzitDRAEQRDaY+H588PDP+3sDPl8xZWjAwOOjo433313K8dGIpFQAZIk5XK5VCplMpkWFxeDweDS0lJTU1PhFo7j9Hr9ysoKZNlslmEYlmXVEauZTCaRSMRiMYvFomZ2G1mW4TmZTKIWXA0DyMAY4mg0CpOYqkq4Cq8iKWBjOp02m835DMSoZWcdwtKtW7dEUZyenoYHXOdw4BV1vPzyy+hkCVq0G6B1wSfBKzAYDPhy8IVgNR6PqxmdTlddXa1+YMiX5qsgiP0Op7UBgiAIYk9g4fkfDg1d7O6OS1Jx5S/PnbO7XMKZM5uemVFIpVIrKyuxWAyBLMvxeBzTRCKBpXQ6vWYLy7IMw+QU1Aym6igrIJ/NZnU6XWnaYjabOY6DYVjF7eq9MIkY5USjUayaTCZVjCRkECeTSbUETFE4ilXN74bDBw8e/P73vxdFcXp6GnfBjMPhgAcEL730ktq9fQd6lf940D2Mav/RUjRcbT5WUZ26ihhfxS51mCAOHpzWBgiCIIi9glMQzvb3/7ynZ1PloNdrd7mgLy4zmUx6vT4Wi6VSKUw5jpNlmWGYdDqNJMuyFotlzZZsNpvL5bBLp9NBCT2mGLGEKbbgEIPBkEwmS9MTOISlTCYDG6oBJDEiRgZ5rKpVoFij0RiPx1EdVlX/UEKGJMaKigpkdtZeIpGYmJj4SmF6ehpdNZvN6tjU1ORyudZ3eF+AvtlsNvQQLxpNVjP4DNBbNJxRwEeiflHQQFleXq6+HYIgNoX+VAiCIIj/RThz5gd9fZvK4pL0856emCQVl5WXl+dyuXQ6Lcsyy7K6VTDNZDLJZLKysnLNFuRTqRQ2WiwWjuMYhoE4m81ixKper0febDYnEgmcXIKGwAwMw7zqBOBeNUBGXYIGShhT/eeX1FUk4R8am8224/bi8XgwGAyFQsGNWFlZKUGLtgj6tri4+PDhw6mpqWg0WlyMBlZXV+PLySrkT1Cn6qtXvyiMmKK9PM9jl9ZVEsT+gNPaAEEQBLG3ePPddwPj46MDA8VlIZ/vYnf3j8bGimiy2SyjoE5lWc6PSLIsC8GaLareYDDwPG+z2ZaXl5PJJLbodDqj0VheXl5ZWclxXP7M3SYWi+F2q9Wq1+vVijKZjLqEjMViwSo0sAqfalFqjTkFtVgk4TmRSKgnQI8l7FXPfB7kVbIKOFZ1qCZL06KtkEqlRIXHjx+jFc3NzadOnWpvby/yHlEF+ramk+pUFWCvWiYCfB7ov9ZVEsS+gdPaAEEQBLHnONvfPy2KAVEsLoNg0OuF+GmCSCSC0Wg0siyby+UymYwsyzqdjmEYvYIkSU1NTYVbOI6zKVRUVFRXV8fjcexNp9M4BNOqqqry8nKsYkS+BK3IKZhMJqvVajAY4BxJjIiRQV4VIBmLxVKplMViQQkoE8UirxYL80ii2GAwODY25vf7sVpfX9/R0eFyudQzt4fZbEZP1BPQT9wLY6pD5GGmBC3aFLi6ffv2hx9+iNrn5+fRiubmZnwbaGBjY+PTtoRCISjVolTWvBdkUCZGaNDnxcVFJEvzVRDEfofT2gBBEASxFzk/PHyxuzsgisVlowMDdpfre++9t+FqOp3OZDImBZZlZVnO5XIMwxiNRovFgjiVSq3ZAlndKsvLy9ls1mw24xxsqaqqQrJeoaampjR9gHOrQkVFRWVlJZzAs8FgQIyMugQNlDkFjuNQml6vR5lI6nQ6rKIE1B4Ohz/88MPR0VG/34+2oIrZ2dm//uu/bmlpeR57NptN7Squxi0Y0UP0zaJQmi4VJ5FI3L59+9atWxjn5+fhMBKJlJeXHzt2rKGhQW3UGlARWo0qUCC6rSZVJaOgajCi1RBACT3K17pWgtgfcFobIAiCIPYiFp4/299/sbs7LknFle9fuGBvaTnd27t+yWg0mkwms9lsU8hkMrlczmq1IkbSpLB+V21t7eHDh5eXl7PZLASSJGEjjqqqqnI4HIcVKisrS9MHuK1TWFhYSCQSHMelUimDwVBTU1OvgCVooMyXWa4Az/CPpYqKCjUfDAZFURwbG/P7/VjFXpZlm5ubm5qacOz27KXTabjCObIs4zocyzAMYmSSCht2uMTAoVSATqdDf9QYnjesHf4tFotVAa0Lh8OyAqOAVRyifl1YzcuQ17pWgtgfcFobIAiCIPYoTkF4Z2joYnf3pspfnDvnEATo1+QrKirq6upqFRKJhMFgkGXZZrPVrVJTU7P+NMiOHj2azWZNJpPdbg+Hw+l0Gsnq6mqn0+l2uw8fPsyybGmaoNfr29raFhYW4J/juKqqqmQyaTQaYczlcrW3t2MVGiitVmtjY2NTU1MoFIJhi8WSyWRQbENDA/IYc7kczplXQHUoQY1xIE7enr1YLLa4uKjGuBQm1ZhhmKWlpZWVFfRwK+fgvaDP2IJa8FK2uGvrPbQomBR0Oh1GNfO09wj/at/A9PS0JEnRaBRNwxK24EA0Fg3HiE/LoQA9du2gbYI4wHBaGyAIgiD2Lu6urrP9/YNeb3FZXJIudnf/9OFDC88X5s1mc3t7+/z8fDKZNBqNkiTlcrny8vLGxsZ2herq6g0PhKajo8Nut8/OzmJXJpMxGAwQOxyOhoYGvV5fyibU1dV1dnZyHAcDwWAwlUrBTE1NTUtLy8svv4xVVabT6VCRKkDhi4uL2WzWarWi2GPHjh0/fnxubg7ODQpqRSosy+bvisVioVAIAWq3WCybepNlGbdgxCEMw6hJxGoe3d5KgZDdvHnz008/nZmZwWuC1e7u7kOHDuEQ1IIRyfzh2wCFtLa2VlRUIMAIewhQ4OHDhwtrX0Ntbe03vvGNpaUln8+HZqbT6Xg8jqLQZ2yvqqqCoKmpCf13u91QYlqKr4EgDgSc1gYIgiCIPc3p3t6JK1dGBwaKy+KSdLG7+/zwsIXn80mGYVwuVzKZNBqNhw4dkiRJlmWbzdbU1HTs2LHjx4/rdLqnHWgymdra2pxOZyKRyGazHMeZzWa9Xl/6DqCK5ubmiooKjKFQKJVKGQwGu90ObzzPYzWvRPLVV1+Fz7q6uqWlJdi2Wq2NjY1Hjx51u92oCHF5eXllZSWWENTU1KA/yKvbp6enP/roo3v37iFub29/8803cUVxb9hbtUokEoEx3J7PWCyWrRQ4Ozv7X//1X5988snMzAze1NTUFLr93e9+9+bNm3fu3MlkMq2tradOnYLt7TWQZVnVCauAl84oFLcHDydOnMDtDx8+DAaD8Xgcncf3A4doOzr50ksv4ROqra1Fb9Fh6Ev3TRDEPof+WgiCIIhNONvfH5Ok8cuXi8sCojjo9b4zNFSY5Dju2LFjdrs9EAhIkpTL5crLyxsbGxsaGgwGQ/EDGYYxKmjdgK+dVFVV8TyfyWSy2axOp0NdSK6X1dfXV1ZWtre3o1gorVbroUOHsJFlWTRBr9djI0ZMEeCc2tpa9ZyVlZUPP/zwgw8+mJycxPTIkSOyLL/99ts4oYgxk8mEu/x+fyQSQT9jsZjZbHY4HO0KFotlK9X5fL4JhZmZGXQbxr766iu4+vTTT2/fvp1Opw8fPhwOh//mb/5me+8ikUg8ePAgmUwiQJmoOpVKRaPRe/fu4TNY38bC6k6ePDk3NwcxuoG+wUxFRUVra2tHR4fH4zlx4gR6iy8K/Sz5R0EQ+xhOawMEQRDEPuBsf/9Fny8gisVl45cv/+Lcubf7+gqTOp2uvr6+trY2m83KssxxHMuyWhe0HRiG0SsUl5nN5haFNXm/3x+JRJLJZDwez2QyCBKJxL1799ra2tCiYDA4OTk5MTGBDMRoFPJIWq3W4paOHDkSjUYNBkNDQwNONplMDodDEIRjx45hdSt1ZdeBA2/cuHH9+vU7d+7Aajgcxut77bXX1he1FeBqcXFRkiQciw7gA8C4qIC7MC2yF90+efIk+oBgamoKHauoqGhvb3/99df/4i/+AvEuvGeCOPhwWhsgCIIg9gEWnn9naOgnnZ1xSSqu/PjSJWdHx+ne3jV5VkHrOjRDluVHjx49fvw4HA5LkpTNZk0mUzAYRDKRSFitVrkAVZ+Pi2M0Gk+ePFlfXx8IBGKxmNlsbmpqcjgcBoNhi94gbmlpwYjrcJrT6WxsbJyfn19ZWYlGo5lMJqoQj8e3VzvHcUYFk4JOpzOtspVPAsY8Ho/NZpuenkavKioq2traXnvtNQSle38EcbDgtDZAEARB7A/sLtf54eGfdnZuqhz0eh2C4BQErS3vLXQ6HbeKOlUzDMNgWlNT09bW1tramkqlMEWAKZJbOVmv17tcrubm5lwuxyo8kzFsxF2iKEajUaPRiEtPnTp18+bNxsZGSZIymUxTUxPi6urq7RVutVoPHz6MK5aXlxGjZNyIDDxvxSo0R44cqa+vDwaDyWQSJxw6dMhsNu/y6yKIgwyntQGCIAhi3+AUhLP9/YNe76bKi93dPxobs7tcWlveKzAM43Q6m5ubA4GALMuZTKa+vr5FwWQyQWCz2V555ZVr167Nz89jWlNTgymSW7+CVdiGt2AwiEvj8XgsFsvlcisrK48ePXr11Vdv3boVDodhFSZff/11WNpe7XDV2dmJo6xW6+PHjzmOQx+++c1vHj58eOvdq1DY2ZdCEC8snNYGCIIgiP3E6d7e6fHxjy9dKi6LS9LPenrODw9beF5ry3uF1tbWP//zP0fQ1NSUyWTq6+v/7M/+7JVXXmFZFsl4PD45Obm8vByJRDANh8MTExMvv/yy2WzebWM+n++rr77y+/0zMzNGo9Fms92+fRuukslkOp2GVYySJCEwGAzbu6KysvI73/nOkSNH5ufnOY5DBxwOh16vL+kLIAhiFU5rAwRBEMQ+4+2+vrgkjQ4MFJcFRPHnPT3nh4e19rtXMBgM3/rWtxobG6empjKZTH19fXt7e3l5ubq6sLBw586d+/fv+/1+TPV6/d27d5Fsbm7ebWOpAhiGwbi8vHz9+nX4efjwYTqdlmX5iy++OHnypNPp3PYtFovluEKp+k0QxFPhtDZAEARB7D9+0Nc3LYoBUSwumxgZGfR6z/b3a+13r2AwGI4ePep2u2VZZlm2cCmbzWYymXQ6jRFTNUayBK4aGhocCgzDGI1Gp9NZW1sbDAaXl5fD4TBsqMHKyorW/SMIYmfgtDZAEARB7D8sPH9+ePifW1vjklRcOTow4PZ4Tvf2am15D8EorEna7XaXQiaTwVSNkSyBH1zk8XhgKRAImEyml156qaur69q1a7W1taFQKJ1OI6irq+N5XuvOEQSxM3BaGyAIgiD2JRaePz88fLG7Oy5JxZWDXq/d5XJ3dWlteU9TUVHR3d2dyWRcLhem7e3tb7zxBpIluNpgMHR1dbW2ts7NzRmNRhg4dOiQTqcLhUJ2uz2dTh8+fPjb3/42klo3iSCInYGRZVlrDwShJWNjY52dnVq7IIj9yujAwKDXu6nMzPPnh4edgqC13z0N/iMvLS09evQIcX19fVVVFcMwGpoJBAL37t3LZDItLS2tra16vV7rDu0M9LNPEJzWBgiCIIh9zOne3pDf//6FC8VlcUka9HrPDw9beF5ry3sXhmGqFbQ28iczTgWtjRAEsfOwWhsgCIIg9jffe++90729m8oConixu1trswRBEEQZq7UBgiAIYt9ztr/fIQibygKiOOj1am2WIAjiRYfV2gBBEARxEDg/PGx3uTaVjQ4MfHTpktZmCYIgXmhYrQ0QBEEQBwELz/9waMjM85sqf3nunHj5stZ+CYIgXlxYrQ0QBEEQBwSnIJzt79+KctDrnRZFrf0SBEG8oLBaGyAIgiAODsKZMz/o69tUFpekn/f0xCRJa78EQRAvIqzWBgiCIIgDxZvvvnu6t3dTWcjnu9jdHZMkrf0SBEG8cLBaGyAIgiAOGmf7+91dXZvKAqL4y3PntDZLEATxwsFqbYAgCII4gPxwaMghCJvKRgcG3v/xj7U2SxAE8WLBam2AIAiCOIBYeP5sf7+Z5zdVvn/hwujAgNZ+CYIgXiBYrQ0QBEEQBxOnILwzNLQV5ejgoNZmCYIgXiBYrQ0QBEEQBxZ3V9fZ/n6tXRAEQRBPwGptgCAIgjjInO7tfePdd7V2QRAEQfwvrNYGCIIgiAPO2319HWfOaO2CIAiC+BOs1gYIgiCIg8/Z/n6HIGjtgiAIgvgaTmsDBEEQfyKdTi8uLobD4UwmY7FY7Ha7zWZjGEZrX2vJZrOxWCyZTLIsC59Go3EPmsyTUkAAn3q9vgQ3yrKMFmHkOC7fGQvPvzM09JPOzrgkad0SgiCIFx1OawMEQRBlsiz7/f7PP//8/v37i4uL2WzWYrE0NjaeOHFCEASbzaa1wT8BY/B58+bNQCAQjUY5jrPb7e3t7fDJ83zxvblcLpVKIdDr9TqdrgQtRSfv3Lnz8OHD5eVlhmHgsK2t7dixY5WVlbt0aTKZRH8ePHiwtLQEA7jR5XK1traazWas2l2u88PDP+3s3O3aCYIgiOJwWhsgCOJFR5blGzdu/Pd///eXX345OzsbjUaz2azRaLTb7ZOTk8h897vf5Xlea5tlqVTq6tWrn332GVwtLCwkEgmWZSsqKpqamiYmJt58882WlpYNN8bj8UmFUCiEYquqqtra2o4ePWqz2XavpXfv3h0ZGbl9+/ajR49isRiSuK6xsfHEiRNvvPGGy+ViGGZnL0VPPvnkE1EUZ2ZmIpEIPKg3vvzyyx6PBwE0TkE4298/6PXuUuEEQRDEVuC0NkAQhDakUqn5+fnFxcVsNsvzfF1dncVi0cSJz+f73e9+d+3atYcPH4ZCoUQiIcsyx3GPHz9eWlrC1GQy/eVf/qXBYNCwXblc7o9//OMHH3xw48aN6elpGEsmkwzDoGmBQABT9LOnpwdtXLMRTf7oo4+uX7+OXZFIBBmr1drU1NTR0fHmm286nc7dcHvv3r3f/OY3n3/+OXorSRKsIok2wurCwkI8Hj9z5ozD4djBG/Eh/fa3v/2f//kfXI2XiCvwEnEj3unc3Nzy8vJbb73V0NAA5ene3pDf//6FC7v0pgiCIIhN4bQ2QBBEqZFleWpq6pNPPrl7924wGMzlcjzPt7W1ffvb3z5+/DjLsqU0k0ql/vjHP968efPBgwdzc3PRaDSdTsOhTqeLx+OZTIbjOLvdfuzYMbfbrWHT4G10dBQ+79y5s7CwkEwms9kswzCSJC0tLa2srBgMhqampr/6q7+C4fwurP72t7+9cuXK5OQkWp1IJFCayWSanp7GISjwb//2b2tra3fWKnr42WefXb9+fWJi4vHjx/CGNiKv1+uxhIYjwKXf//73jUbjjtyIVqA5V69evXXr1uzsbCQSwS3qjcvLy6gaHxVe4ltvvYUuIf+9994L+XyjAwMle30EQRBEIZzWBgiCKDUPHjz4j//4j88//3x6ejoSiciybLFY7ty5EwgE3nrrrddee41hmJKZCYVC9+7dm5ubW1xcjEajiUQil8vBUiaTQcCy7MLCwtTU1MTERHt7O6bPeV02m8WxHMc9a423bt0aGxvD+OjRo1QqhXPyBwK0zmq1Hjly5NSpU3V1deoSqvjiiy/+8Ic/oLczMzNodTqdRh63o1LEBoOhsbHxe9/7nk6n28GW+v3+u3fv4uWidcvLy8lkUnWr2sZd6CcswarL5dqRG+fn57/88suHDx+iOUtLS3iJeH3I4y6UiVbbbDa07uTJk62treqWH/T1TYtiQBR3sHCCIAhii3BaGyAIoqREIpHf/e53o6OjX331VSgUSiaTsiwbDAZJkhCbTKbGxkaHw1EyP0tLS4uLi3AVj8fT6XROAXm4ymQyqVRqZWUlHA7Pz89j1Wg0bvsinHDz5k2fz4czq6urjx8/7na7t3jgvXv3fvWrX129enV2dhbb4S2/hDibzcZisZmZmfv37weDwbq6OnVpeXn5yy+/xI24GiUkEgkokWdZFjVyHDc1NXXnzp3Tp0/X1tYWuR0b0ZytVzo3N6fT6XAmwzDYiDaqeUxxqcViqampUWWVlZU78hJRO95OVVVVc3Oz3W7HjWqL8jei4SgZMp7n87v+z69//bOeHjW2tbTgS9gRMwSxKfk/CoJ4YWEK/5MRxAvI2NiY1hZKSjgcnpubi0QiyWQym80igx8BhmFYltXr9TabrVahZH5WVlYePXoEV4lEAv+VZQV1SXVlMBisVqvdbq+rq8N0G1fgwFAotLi4GIvF1CtwjtFoLC8vx5kmk6n49uXl5cePH2M7OpbL5TbUwKpOp6uoqHC5XBjVZDweR6slSUKAVudLgxgjx3HwUFlZ2djYiAJ3qp+4IhgMLiwsRKPRVCql3rvGJ+6FSbzlqqoqJJHBq4cYrd60Gxvi8/lu3LgxMzODXuGcwi6p3xVajTJPnDhx5MiRNXs//td/jUmSheff+Kd/2qkmEERx8Jtz+vRprV0QhJZwWhsgCO3p7OzU2kLp+M///M9f/epX169ff/z4cSKRyOVySDIMYzQa7Xb78ePH/+7v/q6rqwvT0viZnJz8zW9+8+mnnz548GBpaSmVSuUt6XQ6q9VaV1f3yiuvnDlz5jvf+Y5er9/GFVNTU6j6s88+8/v9kUgE56O6mpqab3zjGz09Pd///vc57qm/hMlk8t/+7d+Ghob+8Ic/BINB1dt6WJYtLy8/efLkv/zLv+Q/p4mJiV//+tdXrlzx+XzhcDidTuf1uBH65ubmb33rW//4j/+4g1+gLMvvv//+Bx98gFc8Ozu7srKSyWSQVFuq3ut0Ok+dOvUP//APuHd+fv7q1at3796NRqNYwgfwzW9+E1/CM12Ki27fvn3t2rXp6Wl0uPBGvESbzdbU1PTqq6+i4a2trWv2HheEQa8Xwf+9dGmnmkAQxZEkSWsLBKExnNYGCIIoHbIsx+PxVCqVzWZzuRym+TymmUwmnU5DgLj4OdiOQziO0+v1z2mppqamoaGhqqrKZrPhajiBDYwsyxoMBrPZXFlZeejQIYfDsb27UMvo6Kgoig8ePAgGg8lkEhk4TyQSOp3u97//fWdn5+HDh5+2fW5u7tatW4FAYGVlJd+uDYFho9FYUVGRz5gUUAUuYhXUxjIMgxgesKRqynYOHF5XV6f2Eyer9ar3wgZ6iCSWIEBX/X7/v//7v1+7dm12dhZKLF29evXOnTt///d/39TUtPVL7XY7DrRareiA+v2oN6JM3Igklniex43r957u7Y1J0i/PndvBJhAEsTn/n716/Y3qOtsGnjXno8ee8fhsfBrbOIAx2GDsuBRDUyAmUdtUNFVKqdoqatVUelqp/0W/9kur9qnSzyhSG8m0SgNJm5aKOBiDjY0NNT7gscensWc857nfSx7J4iXggJns/bRcvw+jvdde+17XutfG0PPNpHcAItKOUsrtdtvtdrPZbDQacSsiGDcYDLjFoM1mc7lcJtNj/zIkEonBwcGBgYGlpSWn07l3794jR44UFBTsOJLH40GR8fHx1dXVVCqFJMlkEqmQx+Fw+Hy+ysrKpqam5ubmndWPRCITExPBYDAcDsdisUwmg+LZbDYajWIL09PTk5OT9fX1j3t9cROKIFuuV4+E2EhbVVVVWlq6NVhUVFReXo5ftDQej+P1dDqNcWzNarWie4WFhWVlZX6/P59n/MILtbW1dXV12Nfa2hpWxCnndo11cfRYFKmwZQS7cOHCpUuXbt++jeZgg/gAQqEQuoSP5Pz58/gYnnDFiooKLLp1iFhxa6doC1ZEW2pqaqqrqx/5+on/+Z+Z69fz2wQiItqGSe8ARJRPyWRycXExkUgUFBQUFRUZDIaHJtTV1VVUVNy9e3d9fT2bzaZSKQwajUa73V5YWFhWVlZfX282mx9ZHGXffffd9957786dO5FIxGq1VldX37p169y5c16vd2eBkbC9vf3+/fsobjKZQqFQLBZDMGTweDxVVVVtbW09PT2lpaU7q4+y0Wg0Ho+n02mUFREM4iKTyaBXWGttbe1zi+TeehyllMViKS8v7+7udrvdW+Mul6u1tXVsbGxlZQVrYVqu29gaHpWUlOAs9u7di2N6Ia+Ki4sPHz48Pz+PRXGyS0tLOCxsHwGwcfxWVlZ2dnZifHBwcHJyEh8M+oA94iwwDXu5du1ab29vU1PTE66IXWPF2dlZ1EH9cDiMtud2ikPEcrt37z506BCCPa7C+f/93/w2gYiItmHSOwDR82tjY2N9fd1isXg8HoPB8OwF79y586c//WlkZCQWi/l8vu7u7lOnThUUFDw4p66u7sCBA3Nzc8lk0mg0xuNxEbFarUVFRbW1ta2trfv27Xtc/YGBAdS/evVqKBTKvY6LRCJRUlLyrW99awdbwNLLy8vBYLCqqqqjowOZp6enw+FwNpu12Wx+v7+pqelLX/pSW1ubUmpnPUF77XY7NmgymZAQlTGIaghvNpuxitvt3ub1ok1OpxOvp1IpBP7sHDxC8p6ent7e3gebgFXQ6k8//fTatWt4EY9yYXDcxcXFgUCgcxOSPPvRPwgLtbe3R6NR8yZ8Y7lWp9NpPIpEIuiw1+sdGxvD8eEpjjKTyWAOmoPTxAjG5+fnGxsbcY3JiI35KPW4FbFTfDaYifroJ97Ft40VsVl8GzjEo0eP4nx3fIhERJRfJr0DED2PksnkRx99dPny5WAw6HA42tra+vr6SktLn6Xm9PT0r3/9a5Sdm5tLpVJOp/P27dtra2vnzp2zWq1b02w221e/+tWNjQ1c3Lt3DxNEBJMrKioOHjx4+vTp4uLiR9ZHzatXr05MTIRCofX19Ww2azAY8Ds5OTkwMICaPp/vqQKn02l0oL+/HzGQAdtvamrav39/OBzGI5fLVV1d3dLSUlZWppTacVtQp6GhAcUXFhbQ9kQigbWMRiPa7vV6q6qqampqtnkdbUGG8fFx7BodQDC8vvUUwUwmEzbe29v7xhtvIPBDr+Ms0LHFxcVoNIrXjZtQs7m5uaioyGw24ymuPR7PC3mFwz127Jjf70eA3DHlkgOS4FP5+OOPt87rwR1ticfjFy9e/PDDD/GJohqacObMGXTycStiLz09Pfh48DHgQHGIKOt2u3ft2nXgwIG9e/c++BESEZG+THoHIHruZLPZ/v7+d955Z2RkZH193Ww2X7t2bXZ29ic/+YnX691ZTRG5dOnSlStXJiYm1tbWsATKJhKJwsLCw4cPt7a2Pji5rKzs7NmzNTU1w8PDoVAI72JaU1PTkSNHKisrH7dEMplcXFxEYJRFfbyVyWRSqVQ0Gl1eXo5EIj6f76kyf/zxx7/97W8HBwfxOm49Hs/8/Pz3v//91157LZffYrEopZ6x20ajEfu6desWkhsMBvyiOCoXFxdjy52dnejDNq/b7fbjx48Hg0HsGu0Kh8PYMirkKttstpKSEtR/++23Dx48iPoPdey999775JNP0GR0KbcpNA3X4+Pjq6ur+AzwOg7o3LlzgUDgWbaJfeHckRZHmYuBPdbX1+PWZDJlN8mmWCyG7aAhfX19ODKXy5XrCR6h21arFSMYv379Og5odHQUT1EBxzQzM/PTn/50165dj8uA3e3bt6+hoQHfCcKgoNvt9vv9TqfzBSIi+r/EpHcAoudOMBjs7+8fHBzERTKZNBgM0WjUZrMdPHiwr69vZzVjsdj4+Pj8/DxKpVIpEclms+FweGZm5u7du62trQ/N93q9p06d6u7uXl9fx0yXy+XxeIxG4zZL4KndbrdYLLhQSmEJ/CK82WzGOH6fKjByvv/++zdu3EBChM+NoNqlS5eQqqioKI8Nr6ur+/rXv24ymW7evBkKhdLptNPprKmp6enpQRM+N3kgEHjjjTd8Pp/f7x8eHl5dXUWHUQ0hd+3a1dHR8eabbzY2Nn72xcXFxdHR0bm5OTQ5dygY3NjYGBsbS27CCPo5NTWF8Z///Oc4gh3sLpFIfPDBB3/9618XFhZwjocPH3711VeRFo+w00wmgwvZlLvACMbxFsLv379/enoaSfCpYBCbKiwsrK2traysRK+Ghoa2PtFIJIKne/bsOX/+PM59mzwOhwOV83h8RESUdya9AxA9d2ZmZqamplZXV+PxeDabVUpFIpFgMDg2Nnb69GmDwbCzsiglIrlf3G79ZjKZR87Hup5NT1jfZrPt2bOnsrJycXERq6RSKaPR6Ha7y8rKmpqaiouLH5q/vr4eDocdDkdRURHWeujpysoK+pBrQi4hLjB/dnZ2eXkZr+Sx4Vj9wIEDpaWl169fn5ycTCaTqL9nk91uz81Boz4bcuv15uZmbLy3t3ds09ramtVqxZYx3t7e7vV6H/kiForFYul0eutQcLGxsYH9bo3g6b///e9//vOfo6OjnZ2diUQCI0j1hJ8BivT39//ud78bGRnBV2SxWG7cuLG0tPTjH//Yscnv97tcLqTNxUBZXOPUMO7z+V599VUcE5abm5tD/3FRUVHR1dVVU1ODSFufKBZC8YWFhdu3b2NHKJvH0yEiIu2Z9A5A9NxRSj3V+JOw2Wy1tbU+ny8UCmU3mUwml8tVWlqK8Xwlf+mll0ZGRpLJ5L1792KxmMViKSsr6+zsPHnyJK63pqVSqffff//ixYvBYNDj8Rw9evRrX/sawjxYymg0IqHBYNjaNS5wi0E8epIwGxsbExMT4XC4pKSkvr7ebDZv3/PKTQiP5mBybpV0Oj0wMPCvf/0L1QKBwLFjx4qLix9ZAfn3bBKRRCKBF1HEarVus2hBQQGqOZ1ONAeL4kUsit/c9dY0RJqbm5uZmVlYWPjHP/4RjUZxZH19fc3NzZ/bBBz3n//85xs3bqDVaDsaiGyXL19Gzw8dOmS3248cOXL9+vVIJLK0tIQJyOz3+xsbG7u6upAKffvBD37Q0tIyOjqKdd1uN667u7tx+1BI+GxyIiL6D2XSOwDRc6eysrKmpmZsbCwejyeTSYPB4HK5ysrKmpubcb2zmnjx2LFj169fj8Vi8/PzqVTK6XTW1dW99NJLLS0t+UpeXFz8ve99r6SkZHBwcHV11eFwIPPp06fx++C0y5cv/+pXv7px40YkErHZbNgptnn+/Hmj0bg1x+v1BgKBTz/9dH19PRqNYsRut6N+Q0OD3+//3CT379//zW9+c+XKFbyO+S+//PJ3v/tdtPFzX7RYLFvX2Wz2j3/84+9///vx8XF0DKsPDAz87Gc/wwa3qaCUwqaepF1FRUVdXV3YfiKRQLtEBKvjgDKZDK4fLIjbv//970NDQ3fv3kWSwsLCkZGRX/ziFw819rMWFxfRirW1NXQ4uwnNxAcwNTV16NAhTOju7g4Gg1gXlfG94cjQ4b6+vo6OjlyF8vLyb3zjGxsbG6iAaZiAPChYUVGBfmI8nU7j68I4+oMvCseUr8+JiIj0YtI7ANFzp6ys7PTp0wsLCyMjI+vr6xaLpaqq6stf/nJXV9ezlA0EAj/84Q+Li4tHR0djsZjP5zt8+PDrr7/ucDjyGL68vPz8+fOvvPJKJBKx2Wx+vx+/D07A0n/5y1+Gh4eDwWAqlTIajdls9oMPPjh58mRlZeXWNKvV2tfXNzU1ZTAYFhcXRcTr9ba3t585c8bpdG6fAWX/8Ic/vPvuu/fu3Usmk9ggKmDjZ8+efaq9TE9PX7hwYWBgYGlpCSFDoRB+9+zZ853vfCcvvVJKYdfhcLigoGB2djaTybhcLlzcvXsXXdqahhbhsG7fvo2mLS8vI8Pq6ire7e/vb2xsRH+2WcJsNuP7QQXMz41gPka2DgUX3/zmN5ubm4eGhpCksLCwra0Ne8SLD+Z0btoaQR7UTKfTqIaZeFRdXd3R0XH8+PHt8xAR0X8Ek94BiJ47BoPh1KlTTqfz8uXLwWDQ4XDs37+/r6+vqKjoWcoqpdra2hoaGmZmZmKxmNfrraysNJvNec9vMpnKy8sf93RjYyMUCkWj0XQ6LSKZTAYjy8vLa2tryPPgzD179rz99tsXL168c+cOZtbW1r788sutra2fGwBNGxgYmJ2dRc1sNptMJicnJ69cuXLmzBk088k3MjU1NT09HQ6HUUE2zc/P37p1C7cWiyUvvSooKDh37tyhQ4fGx8dRtrq6+pNPPvnlL38Zj8exXO7UrFYrTm1iYiISieSahqcrKyvYFC6231FFRcWLL744NjaG4piMo/H5fKi2e/furTnYS3t7+8GDB3EWRqMRK26fGS29cOHC0NBQLg9qIkNPT89bb70VCATy0hYiItKXSe8ARM8ji8Vy4sSJrq6uSCSC64KCAoPBkJfKbre7paVFx63Z7Xafz+dwOMLhcCqVMhqNGCksLESwh2YqpRA1EAisra2JCJqAVjzJEslkMpFIpNNpvIXbbDaL61gslslkniqq2Ww2mUxbnUce3CJDvs4ix2q17t+Uu0Ur3nnnnVAohObkFsXG0S50CavjFoNoGmK4XC6MbF/c6XSePXt2ZWVlYGBgdXUVRZqamjBSV1f32W5/brWcxcXFDz/88N69e9FoFB3GiwjT2Ni4b9++PLaFiIh0ZNI7ANHzy7FJ7xT539RXvvKVkZGRTCYTjUatVmt9ff2xY8fKy8sfOd9sNvt8vqdawu/319bWDg0NxePxdDqNJVAhEAg8bTMbGhpaWlqmpqZEBHVcLldNTU1HR4fJ9AX+YbTb7WjFxMQEVsS6BoMBHfB6vfv375+enr5//z7G3W43snV3d1ssls9WwIT19fWt24qKirfeeuvmzZvz8/Mejwd9wKbC4fCOEy4vL6N+MpmUTdlsFkcZiURWVla+uLYQaQn/iPSOQKSzL/D/OaL/CIWFhdeuXdM7xX+VXbt2/ehHP7p48eL8/LzH4+nZNDQ0lMclXnvttWAwePPmzY2NDZzgkSNHjh49uoMl3nzzzXQ6PTw8nEgkysvLX3nlldra2i/0e7BYLA0NDSMjI1g3k8k4HI6ysrIDBw5UV1crpQYHB+PxeC4JRp48SfOm3PXU1NSzJLRarVVVVQUFBbFYDAltNpvX60Xm1dXVL64tRFrCPzq9IxDpzKR3ACKd1dXV6R3hv9CLL7549OjR1dVVp9NZXFxsMBjyWz+bzfr9/r/97W/Ly8vV1dW9vb01NTU7K4UP4NatW7FYDHV2795tsVi+6OZ8+9vfRuybN2/G4/HS0tKTJ08eP37c4/E0NTXduXMnGo1WVFRgO0aj8YtO8jivv/76/fv3h4eHE4mEz+c7ceIEEqLheuUhIqL8UiKidwYioh3KZrMGg0HvFE8Hf3UnJiauXr26trYWCAQ6Ozvdbrfeof4/6OrQ0NBHH30UDoeR8MSJEyUlJXqHIiKivFH4r0jvDERE9H8R/oNQSumdgoiI8kzh77veGYiIiIiISCNKRPTOQEREREREGlEioncGIiIiIiLSiBIRvTMQEREREZFGlIjonYGIiIiIiDSiRETvDEREREREpBElInpnICIiIiIijSgR0TsDERERERFpRImI3hmIiIiIiEgjSkT0zkBERERERBpRIqJ3BiIiIiIi0ogSEb0zEBERERGRRpSI6J2BiIiIiIg0okRE7wxERERERKQRJSJ6ZyAiIiIiIo0oEdE7AxERERERaUSJiN4ZiIiIiIhII0pE9M5AREREREQaUSKidwYiIiIiItKIEhG9MxARERERkUaUiOidgYiIiIiINKJERO8MRERERESkESUiemcgIiIiIiKNKBHROwMREREREWlEiYjeGYiIiIiISCNKRPTOQEREREREGlEioncGIiIiIiLSiBIRvTMQEREREZFGlIjonYGIiIiIiDSiRETvDEREREREpBElInpnICIiIiIijSgR0TsDERERERFpRImI3hmIiIiIiEgjSkT0zkBERERERBpRIqJ3BiIiIiIi0ogSEb0zEBERERGRRpSI6J2BiIiIiIg0okRE7wxERERERKQRJSJ6ZyAiIiIiIo0oEdE7AxERERERaUSJiN4ZiIiIiIhII0pE9M5AREREREQaUSKidwYiIiIiItKIEhG9MxARERERkUaUiOidgYiIiIiINKJERO8MRERERESkESUiemcgIiIiIiKNKBHROwMREREREWlEiYjeGYiIiIiISCNKRPTOQEREREREGlEioncGIiIiIiLSiBIRvTMQEREREZFGlIjonYGIiIiIiDSiRETvDEREREREpBElInpnICIiIiIijSgR0TsDERERERFpRImI3hmIiIiIiEgjSkT0zkBERERERBpRIqJ3BiIiIiIi0ogSEb0zEBERERGRRpSI6J2BiIiIiIg0okRE7wxERERERKQRJSJ6ZyAiIiIiIo0oEdE7AxERERERaUSJiN4ZiIiIiIhII0pE9M5AREREREQaUSKidwYiIiIiItKIEhG9MxARERERkUaUiOidgZ7I/2OHjl3kuu4Fjt+zMu+tu+vKxtWoeRjeezBLCGw5U7oIjBoTV9ZUdqeZv2Bn/oJdCA6YBGaLVCFkp1O54yoyBDQOKdTthbhxEXRFsGUHzC8jb1BkyQGHHd3fWPp8WC5nz7mc33cuAABcXYmI7AYAAKAjJSKyGwAAgI6UiMhuAAAAOlIiIrsBAADoSImI7AYAAKAjJSKyGwAAgI6UiMhuAAAAOlIiIrsBAADoSImI7AYAAKAjJSKyGwAAgI6UiMhuAAAAOlIiIrsBAADoSImI7AYAAKAjJSKyGwAAgI6UiMhuAAAAOlIiIrsBAADoSImI7AYAAKAjJSKyGwAAgI6UiMhuAAAAOlIiIrsBAADoSImI7AYAAKAjJSKyGwAAgI6UiMhuAAAAOlIiIrsBAADoSImI7AYAAKAjJSKyGwAAgI6UiMhuAAAAOlIiIrsBAADoSImI7AYAAKAjJSKyGwAAgI6UiMhuAAAAOlIiIrsBAADoSImI7AYAAKAjJSKyGwAAgI6UiMhuAAAAOlIiIrsBAADoSImI7AYAAKAjJSKyGwAAgI6UiMhuAAAAOlIiIrsBAADoSImI7AYAAKAjJSKyGwAAgI6UiMhuAAAAOlIiIrsBAADoSImI7AYAAKAjJSKyGwAAgI6UiMhuAAAAOlIiIrsBAADoSImI7AYAAKAjJSKyGwAAgI6UiMhuAAAAOlIiIrsBAADoSImI7AYAAKAjJSKyGwAAgI6UiMhuAAAAOlIiIrsBAADoSImI7AYAAKAje9kBmZbLZSnltddea9v22f2Dg4PsQAAA2LK97IBMo9FoMpm0bTsejx9vbv6dTqd1XS8Wi+xAAADYsr3sgGRHR0e9Xm/5rcud+XzeNM1mv9/vZ9cBAMCWlYjIbki2Wq2Gw2Fd1xcXF03THBwcDAaD8/Pz7C4AANi+a7PZLLshWa/Xe/DgwWq1+vzzzz/66KOvvvrq9u3bdV1ndwEAwPaViMhu2AkHBwfr9XqzOD4+nkwm2728bdvLy/v9fl3Xz76wOd280/tW9pcAAOBFtpcdsCv6/f7lYjQabf3yuq7n8/lwOByPx8+eNk0z/NZmkf0ZAAB4we1lB+yE1Wp1enra7/c36/F4/DxGHB8fb57L5XIz66mj+Xzetu1kMhkMBtlfAgCAF9y12WyW3ZCsbdu33357s7h79+4nn3yyWq3quj48PNzulDfeeOPBgwd37tz59NNPP/jgg8f7m3HT6XQz8ezsbH9/P/tjAADwgtvLDsg3n8+bplksFnVdXz6n0+l6vd76oKOjo16vt7n55OTkyemb5/Hx8WZu9pcAAODFVyIiuyHTcrm8cePGYDA4Pz+/3Dk5OZlOp/1+/+7du89pXF3XFxcXm+fp6el4PH5yOgAAPFfXZrNZdkOatm2Hw+H+/v7t27frur7cPDw8/Pjjj+/cuVNKGQwG25341ltvbS6/d+/e119/vRn07rvvbhrOz88fTwcAgOdqLzsg03g8btv26Oio1+s9ub9YLOq6ns1mq9Vq60MvLz85OZlOp03TbKY8NR0AAJ6fEhHZDWlWq9XmORgMnj1ar9dt29Z13e/3tz53Pp/PZrPNotfrXVxcZH8GAABeIiUisht20mpVrdePFv1+NRhs/frr1683TXN2djYajbJ/KgAAL5FXsgN2z3pdjcePno/1+9Vi8ei5Pb1er2mauq6zfy0AAC+XveyAHdM01XBYrdff2dz8u9ls2+w4AAC4qr3sgB0zHldt+z37m83NEQAA/MjtZQfskG+aplqt/u3xcpkdCAAAV7WXHbBDrjXN4/XDqvp9Vf3xqTdWq+xGAAC4kleyA3bRl1X1i6r6oqoOnzro9bY14r333hsMBr3tXQgAAD9EiYjshl1SymdV9WFVvV5V71TVm08e1XV1/352HwAAXMledsBu+dNo9Muqer2q3q+qN586OzrKrgMAgKsqEZHdsCvunJ7+djw+rOufte2rT52NRtXZWXYgAABc1V52wK74zXj8u/H48ObNd+7ff3U2q3q9fx70+9XxcXV2lh34Hct7y/Zhm10BAMCPT4mI7IZkD9v2Vzdu/GW1+vli8ZObN/910LZVXWfXfb/h7eG6WU/+b3Lrp7fq/R2NBABgB5WIyG7I9Nem+fWNG182zTuLxf+ORtk5P9T1P1xv2qb6oqq/qCf/M7l1cKver7OjAAD4ESgRkd2Q5rP1+sPh8L+q6v3z8zf7/eyc/0D5c6m+qaq/V9XDR3/13+pJb3Lr/2/V/11np8HL7h/s0U9sXFfZx/HnnHdkJ29Ne5oWEhporkilVhU0d4EEEqDMrFnNhiUds0czkdjPzIrleMPallggBKgWKzbIN6y6y4BACAkpAyhIqG06Thz/qeN5mEzlYskShNB7fnH0/ej46ui51zPfMxcAgKdccHd1g8a7Gxu/vHHjYlF89513XiwKdc5/J/w12Py9zezR9dDswGzH0k7qXep1X++m5aQOBAAAwFMquLu6QeCna8Ofrw0+k9J31tfPpbT4JR7j38LjfXp47I4n/cDW+ZZ9/N78eB0t1r6le6n3cq/7+W5aSjX/igAAADh7grurG3Lb2vxDe/nb29/8y39+NHwa3xdq+K+HJx44+eT8Zc4erbSdtl7ZKpfKT+MAAAAAeHY01AECv/ntyvbo3bVf37x27WKNX+M1fnbLW//6Cl+smdmR2b7ZtnWWOv3L/WKpqLEAAAAAZ1NDHSARbfv5a/e/3mxcUZc8qX0zX6yZ2UOzA7M9s/ess9Lpf6lfrBTqPgAAADylGuoAiWDmi3VmfWR2ZHZotm+2a/aBdV7o9N/qFyuFugwAAABPtYY6QCKY+WKdWTtm+2a7Znet80Kn/9V+sVKomwAAAHAGNNQBEmFxnakz/gfvmd21zoVO/2v9YqVQ1wAAAODMaKgDJIKZp/ScOuPJDf5/8PYbbxcrhToEAAAAZ0xDHSAR539leUmd8eT6b/bVCQAAADiTojpAIqgDAAAAAI2oDpAIZq5uAAAAAASiOkAimLm6AQAAABCI6gCJoA4AAAAANKI6QCKYuboBAAAAEIjqAImgDgAAAAA0GuqAelVVdXo4mewsbq00m011IAAAAJBVcHd1Q53HC+Hf3H22zw4AAACcFtxd3VCj4XB4elhVf6qqn8w3z/bZAQAAgNOCu6sbsppOp61WazweN5vNra0tdQ4AAACQVXB3dUNWq6urGxsbZpc+/PCPKSV1DgAAAJBVVAdktbGw2P44paTOAQAAAHKL6oB8xuPxjRs35pui+KFZqc4BAAAABKI6IJPpdNput+fXziPfN3N1EQAAACAQ1QGZrK6uTiaTsixHo9Fi4OoiAAAAQCCqA3IYDoebm5sppfX19fnVLKiLAAAAAI2oDqhdVVWDwWC+GY1GZVkej13dBQAAAAhEdUC9JpNJu92eb3q9XqfTOXHH1WkAAACAQFQH1Kvdbk+n07IsR6PRiXEwc3UaAAAAINBQB9RobW1tPB7PN/1+v6qqT+aTyUdm96vqpbIsU0rqTAAAACCfhjqgRtvb2x9v2u326butlm1tbTWbTXUmAAAAkE9DHVCj69evDwaD0/OqOqyqvcHg+aIo1I0AAABAVsHd1Q25DYf7g8H77l9QhwAAAAC5RXWARDCbqRsAAAAAgagOUHF1AAAAACAQ1QEqrg4AAAAABKI6QCKYuboBAAAAEIjqABVXBwAAAAACUR2g4uoAAAAAQCCqA1RcHQAAAAAIRHWARDCbqRsAAAAAgagOEKiqv5u5ugIAAAAQiOoAiWDm6gYAAABAIKoDJILZTN0AAAAACER1gOrUrm4AAAAABKI6QCKYuboBAAAAEIjqAIlgdqRuAAAAAASiOkAipPScugEAAAAQiOoAiVCWF9UNAAAAgEBUB0gEM1c3AAAAAAJRHSAR1AEAAACARlQHqE7t6gYAAABAIKoDVFwdAAAAAAhEdYBEUAcAAAAAGlEdoDq1qxsAAAAAgagOAAAAAJBPVAdIBDNXNwAAAAACUR0gEcxc3QAAAAAIRHWARFAHAAAAABpRHaDi6gAAAABAIKoDJII6AAAAANCI6gAVVwcAAAAAAlEdIBHMXN0AAAAACER1gERQBwAAAAAaUR2g4uoAAAAAQKChDshnOt0bj+/cvPnnyeQr0+k/Wq2fpXS+LC9fu3a52XxtvlcHAgAAALUL7q5uqN14fGc4/NXm5u+PB98z2zb7xScPFMWFW7d+kNJ5dSkAAABQr4Y6oHbj8Z1W60fT6d6J2S2z/ZPPTKf7KZ1XlwIAAAC1a6gDalcUF8zOm+2dmN06sU9mn+v1vqzOBAAAAHII7q5uqN1w+LvB4IPF9p7Zw8Xmi2aHZi+a3U3pb7dvt1M6p84EAAAAahfVATl0u6+ndGD2kllp9g2zb5m9anbZbGa21+tdTemcuhEAAADIIaoDckhpude7ZLZj9tBstpj5Yh2mtNvtvqUOBAAAADKJ6oBMut03imLf7MDs6HjmZnu93qspnVPXAQAAAJlEdUAmKZ3r96+Y3Tc7Op4dpbTb7b6pTgMAAADyieqAfDqdq0WxY3ZoNjNzs4Ne75WUltVdAAAAQD5RHZBVv3/F7IGZz1dKD7rdq+oiAAAAIKuoDsiq03mtLPfMjuar1/tsSsvqIgAAACCr4O7qhqyq6v1W615KR7dvX0lpSZ0DAAAAZNVQB+TWbL7cbD5oNldSWlK3AAAAALkFd1c35FZVu2W5nNL/qUMAAACA3IK7qxsAAAAAZBLcXd0AAAAAIJPg7uoGAAAAAJkEd1c3AAAAAMgkuLu6AQAAIKt/tgcHAgAAAACC/K0HuYKzADwlLw2XtdsyAAAAAElFTkSuQmCC'>"
      ],
      "text/plain": [
       "<IPython.core.display.HTML object>"
      ]
     },
     "metadata": {},
     "output_type": "display_data"
    },
    {
     "data": {
      "text/plain": [
       "<Figure size 432x288 with 0 Axes>"
      ]
     },
     "metadata": {},
     "output_type": "display_data"
    },
    {
     "data": {
      "text/plain": [
       "<Figure size 432x288 with 0 Axes>"
      ]
     },
     "metadata": {},
     "output_type": "display_data"
    },
    {
     "data": {
      "text/plain": [
       "<Figure size 432x288 with 0 Axes>"
      ]
     },
     "metadata": {},
     "output_type": "display_data"
    },
    {
     "data": {
      "text/plain": [
       "<Figure size 432x288 with 0 Axes>"
      ]
     },
     "metadata": {},
     "output_type": "display_data"
    },
    {
     "data": {
      "text/plain": [
       "<Figure size 432x288 with 0 Axes>"
      ]
     },
     "metadata": {},
     "output_type": "display_data"
    }
   ],
   "source": [
    "model = GeologicalModel(bb[0,:],bb[1,:],reuse_supports=True)\n",
    "model.set_model_data(data)\n",
    "displacement = -700\n",
    "for displacement in [-1000,-500,0,500,1000]:\n",
    "    print(\"displacement: {}\".format(displacement))\n",
    "    fault = model.create_and_add_fault('fault',\n",
    "                                       displacement,\n",
    "                                       nelements=2000,\n",
    "                                       steps=4,\n",
    "                                       interpolatortype='PLI',\n",
    "                                      buffer=0.3,\n",
    "                                       solver='lu'\n",
    "                                      )\n",
    "    strati = model.create_and_add_foliation('strati',\n",
    "                                            nelements=10000,\n",
    "                                            interpolatortype='PLI',\n",
    "                                            cgw=0.1,\n",
    "                                            solver='lu',\n",
    "                                            buffer=0.5\n",
    "                                           )\n",
    "    plt.figure()\n",
    "    print(np.sum(np.abs(strati['feature'].evaluate_value_misfit())))\n",
    "\n",
    "    viewer = LavaVuModelViewer(model)\n",
    "    strati['feature'].faults_enabled = False#toggle_faults()\n",
    "    viewer.add_isosurface(strati['feature'],slices=[-1,0])\n",
    "    viewer.add_isosurface(fault['feature'][0],isovalue=0)\n",
    "    #viewer.add_data(strati['feature'])\n",
    "    viewer.add_points(strati['feature'].get_interpolator().get_value_constraints()[:,:3],name='points',pointsize=10)\n",
    "    viewer.rotate([0.019632680341601372, 88.20027923583984, -89.94925689697266])#lv.rotatex(90)\n",
    "    #viewer.lv.rotatey(90)\n",
    "    viewer.display()"
   ]
  },
  {
   "cell_type": "code",
   "execution_count": 13,
   "metadata": {},
   "outputs": [
    {
     "data": {
      "text/html": [
       "<img src='data:image/png;base64,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'>"
      ],
      "text/plain": [
       "<IPython.core.display.HTML object>"
      ]
     },
     "metadata": {},
     "output_type": "display_data"
    }
   ],
   "source": [
    "viewer = LavaVuModelViewer(model)\n",
    "viewer.add_isosurface(strati['feature'],isovalue=0)\n",
    "viewer.add_isosurface(fault['feature'][0],isovalue=0)\n",
    "viewer.add_data(strati['feature'])\n",
    "viewer.rotate([0.019632680341601372, 88.20027923583984, -89.94925689697266])#lv.rotatex(90)\n",
    "#viewer.lv.rotatey(90)\n",
    "viewer.display()"
   ]
  },
  {
   "cell_type": "code",
   "execution_count": 14,
   "metadata": {},
   "outputs": [
    {
     "data": {
      "text/plain": [
       "[0.019573355093598366, 88.20038604736328, -89.94937896728516]"
      ]
     },
     "execution_count": 14,
     "metadata": {},
     "output_type": "execute_result"
    }
   ],
   "source": [
    "viewer.lv['xyzrotate']"
   ]
  },
  {
   "cell_type": "code",
   "execution_count": 13,
   "metadata": {},
   "outputs": [],
   "source": [
    "import emcee"
   ]
  },
  {
   "cell_type": "code",
   "execution_count": 19,
   "metadata": {},
   "outputs": [],
   "source": [
    "def log_prior(theta):\n",
    "    displacement = theta\n",
    "    mu = 0\n",
    "    sigma = 600\n",
    "    return np.log(1.0/(np.sqrt(2*np.pi)*sigma))-0.5*(displacement-mu)**2/sigma**2"
   ]
  },
  {
   "cell_type": "code",
   "execution_count": 20,
   "metadata": {},
   "outputs": [],
   "source": [
    "model = GeologicalModel(bb[0,:],bb[1,:],reuse_supports=True)\n",
    "model.set_model_data(data)\n",
    "def log_likelihood(theta):\n",
    "    displacement = theta\n",
    "    print(\"displacement: {}\".format(displacement))\n",
    "    fault = model.create_and_add_fault('fault',\n",
    "                                       displacement,\n",
    "                                       nelements=2000,\n",
    "                                       steps=4,\n",
    "                                       interpolatortype='PLI',\n",
    "                                      buffer=0.3,\n",
    "                                       solver='pyamg'\n",
    "                                      )\n",
    "    strati = model.create_and_add_foliation('strati',\n",
    "                                            nelements=10000,\n",
    "                                            interpolatortype='PLI',\n",
    "                                            cgw=0.1,\n",
    "                                            solver='pyamg',\n",
    "                                            buffer=0.5\n",
    "                                           )\n",
    "#     plt.hist(strati['feature'].evaluate_value_misfit())\n",
    "    n = strati['feature'].interpolator.get_value_constraints()[:,:3].shape[0]\n",
    "    sigma2 = 10\n",
    "    log_like = -(n/2)*np.log(2*np.pi) - (n/2)*np.log(sigma2)\n",
    "    log_like-= (1/(2*sigma2))*np.sum(np.abs(strati['feature'].evaluate_value_misfit()))\n",
    "    \n",
    "#     sigma2 = strati['feature'].evaluate_value(strati['feature'].interpolator.get_value_constraints()[:,:3]) ** 2 \n",
    "#     log_like = -0.5 * np.sum((strati['feature'].evaluate_value_misfit()) ** 2 / sigma2 + np.log(sigma2))\n",
    "    print(\"log likelihood {}\".format(log_like))\n",
    "    print(\"missfit {}\".format(np.sum(strati['feature'].evaluate_value_misfit())))\n",
    "    return log_like                         \n"
   ]
  },
  {
   "cell_type": "code",
   "execution_count": 21,
   "metadata": {},
   "outputs": [],
   "source": [
    "def log_probability(theta):\n",
    "    lp = log_prior(theta)\n",
    "    if not np.isfinite(lp):\n",
    "        return -np.inf\n",
    "    return lp + log_likelihood(theta)"
   ]
  },
  {
   "cell_type": "code",
   "execution_count": 22,
   "metadata": {},
   "outputs": [
    {
     "name": "stdout",
     "output_type": "stream",
     "text": [
      "[[-1073.99456804]\n",
      " [-1147.71370702]\n",
      " [ -899.34784922]\n",
      " [ -926.82085066]\n",
      " [ -958.79416661]]\n"
     ]
    }
   ],
   "source": [
    "import emcee\n",
    "start = np.array([-1000])\n",
    "pos = start + 1e2 * np.random.randn(5, 1)\n",
    "nwalkers, ndim = pos.shape\n",
    "\n",
    "print(pos)"
   ]
  },
  {
   "cell_type": "code",
   "execution_count": 20,
   "metadata": {},
   "outputs": [
    {
     "name": "stdout",
     "output_type": "stream",
     "text": [
      "5 1\n"
     ]
    }
   ],
   "source": [
    "print(nwalkers,ndim)"
   ]
  },
  {
   "cell_type": "code",
   "execution_count": null,
   "metadata": {
    "scrolled": false
   },
   "outputs": [],
   "source": [
    "sampler = emcee.EnsembleSampler(nwalkers, ndim, log_probability)\n",
    "sampler.run_mcmc(pos, 50, progress=True);"
   ]
  },
  {
   "cell_type": "code",
   "execution_count": null,
   "metadata": {},
   "outputs": [],
   "source": [
    "%%snakeviz\n",
    "log_likelihood(500)"
   ]
  },
  {
   "cell_type": "code",
   "execution_count": 23,
   "metadata": {
    "scrolled": false
   },
   "outputs": [
    {
     "name": "stdout",
     "output_type": "stream",
     "text": [
      "displacement: -2000\n",
      "log likelihood -166.98073969571672\n",
      "missfit -14.224491998414086\n",
      "displacement: -1900\n",
      "log likelihood -166.8760816821672\n",
      "missfit -13.599589877841346\n",
      "displacement: -1800\n",
      "log likelihood -166.76638633892998\n",
      "missfit -12.983322338324832\n",
      "displacement: -1700\n",
      "log likelihood -166.51502658901012\n",
      "missfit -12.253757070941987\n",
      "displacement: -1600\n",
      "log likelihood -166.4245432765058\n",
      "missfit -11.563418046736576\n",
      "displacement: -1500\n",
      "log likelihood -166.36912736996862\n",
      "missfit -10.95681819988311\n",
      "displacement: -1400\n",
      "log likelihood -166.32679025390672\n",
      "missfit -10.463755278006078\n",
      "displacement: -1300\n",
      "log likelihood -166.27614906667426\n",
      "missfit -9.736189130526192\n",
      "displacement: -1200\n",
      "log likelihood -166.2269844425021\n",
      "missfit -9.083521505958437\n",
      "displacement: -1100\n",
      "log likelihood -166.17023770790706\n",
      "missfit -8.331683308322269\n",
      "displacement: -1000\n",
      "log likelihood -166.11121416220868\n",
      "missfit -7.62736815172752\n",
      "displacement: -900\n",
      "log likelihood -166.0523281300306\n",
      "missfit -6.964050724233027\n",
      "displacement: -800\n",
      "log likelihood -166.00174178176954\n",
      "missfit -6.193663384998809\n",
      "displacement: -700\n",
      "log likelihood -165.94443952570128\n",
      "missfit -5.442727750417047\n",
      "displacement: -600\n",
      "log likelihood -165.88872919415067\n",
      "missfit -4.679552292620952\n",
      "displacement: -500\n",
      "log likelihood -165.83635541921598\n",
      "missfit -3.9374604936913116\n",
      "displacement: -400\n",
      "log likelihood -165.7879848841857\n",
      "missfit -3.1660709643839655\n",
      "displacement: -300\n",
      "log likelihood -165.74191802998115\n",
      "missfit -2.3807138453475725\n",
      "displacement: -200\n",
      "log likelihood -165.69894176922477\n",
      "missfit -1.6057252100449393\n",
      "displacement: -100\n",
      "log likelihood -165.66018534502948\n",
      "missfit -0.7992005143313666\n",
      "displacement: 0\n",
      "log likelihood -165.66897703581432\n",
      "missfit 0.0033906024490438155\n",
      "displacement: 100\n",
      "log likelihood -165.6989665380656\n",
      "missfit 0.8088587925301667\n",
      "displacement: 200\n",
      "log likelihood -165.74618087403036\n",
      "missfit 1.534834993079531\n",
      "displacement: 300\n",
      "log likelihood -165.80504547164023\n",
      "missfit 2.1990329864646974\n",
      "displacement: 400\n",
      "log likelihood -165.8815905999981\n",
      "missfit 2.829265080195955\n",
      "displacement: 500\n",
      "log likelihood -165.96276934347293\n",
      "missfit 3.4563324055601066\n",
      "displacement: 600\n",
      "log likelihood -166.025973734003\n",
      "missfit 4.175183702844145\n",
      "displacement: 700\n",
      "log likelihood -166.1350764620142\n",
      "missfit 4.6922287133334315\n",
      "displacement: 800\n",
      "log likelihood -166.23612090046134\n",
      "missfit 5.301771276888448\n",
      "displacement: 900\n",
      "log likelihood -166.33893128268343\n",
      "missfit 5.881526883730251\n",
      "displacement: 1000\n",
      "log likelihood -166.41796553368553\n",
      "missfit 6.577631540856379\n",
      "displacement: 1100\n",
      "log likelihood -166.52820265069153\n",
      "missfit 7.156659735751227\n",
      "displacement: 1200\n"
     ]
    },
    {
     "name": "stderr",
     "output_type": "stream",
     "text": [
      "c:\\users\\lgrose\\.conda\\envs\\loop\\lib\\site-packages\\loopstructural-0.0.0-py3.7-win-amd64.egg\\LoopStructural\\modelling\\fault\\fault_segment.py:205: RuntimeWarning: invalid value encountered in greater\n",
      "  d[gx > 0] = 1.\n",
      "c:\\users\\lgrose\\.conda\\envs\\loop\\lib\\site-packages\\loopstructural-0.0.0-py3.7-win-amd64.egg\\LoopStructural\\modelling\\fault\\fault_segment.py:206: RuntimeWarning: invalid value encountered in less\n",
      "  d[gx < 0] = 0.\n",
      "c:\\users\\lgrose\\.conda\\envs\\loop\\lib\\site-packages\\loopstructural-0.0.0-py3.7-win-amd64.egg\\LoopStructural\\modelling\\fault\\fault_segment.py:212: RuntimeWarning: invalid value encountered in greater\n",
      "  g[g_mag > 0.] /= g_mag[g_mag > 0, None]\n",
      "c:\\users\\lgrose\\.conda\\envs\\loop\\lib\\site-packages\\loopstructural-0.0.0-py3.7-win-amd64.egg\\LoopStructural\\interpolators\\structured_tetra.py:450: RuntimeWarning: invalid value encountered in floor_divide\n",
      "  ix = ix // self.step_vector[None, 0]\n",
      "c:\\users\\lgrose\\.conda\\envs\\loop\\lib\\site-packages\\loopstructural-0.0.0-py3.7-win-amd64.egg\\LoopStructural\\interpolators\\structured_tetra.py:451: RuntimeWarning: invalid value encountered in floor_divide\n",
      "  iy = iy // self.step_vector[None, 1]\n",
      "c:\\users\\lgrose\\.conda\\envs\\loop\\lib\\site-packages\\loopstructural-0.0.0-py3.7-win-amd64.egg\\LoopStructural\\interpolators\\structured_tetra.py:452: RuntimeWarning: invalid value encountered in floor_divide\n",
      "  iz = iz // self.step_vector[None, 2]\n",
      "c:\\users\\lgrose\\.conda\\envs\\loop\\lib\\site-packages\\loopstructural-0.0.0-py3.7-win-amd64.egg\\LoopStructural\\interpolators\\structured_tetra.py:170: RuntimeWarning: invalid value encountered in greater\n",
      "  mask = np.all(c > 0, axis=2)\n",
      "c:\\users\\lgrose\\.conda\\envs\\loop\\lib\\site-packages\\loopstructural-0.0.0-py3.7-win-amd64.egg\\LoopStructural\\interpolators\\structured_tetra.py:350: RuntimeWarning: invalid value encountered in greater\n",
      "  inside *= pos[:, i] > self.origin[None, i]\n",
      "c:\\users\\lgrose\\.conda\\envs\\loop\\lib\\site-packages\\loopstructural-0.0.0-py3.7-win-amd64.egg\\LoopStructural\\interpolators\\structured_tetra.py:352: RuntimeWarning: invalid value encountered in less\n",
      "  self.step_vector[None, i] * self.nsteps_cells[None, i]\n"
     ]
    },
    {
     "name": "stdout",
     "output_type": "stream",
     "text": [
      "log likelihood nan\n",
      "missfit nan\n",
      "displacement: 1300\n"
     ]
    },
    {
     "name": "stderr",
     "output_type": "stream",
     "text": [
      "c:\\users\\lgrose\\.conda\\envs\\loop\\lib\\site-packages\\loopstructural-0.0.0-py3.7-win-amd64.egg\\LoopStructural\\modelling\\fault\\fault_segment.py:205: RuntimeWarning: invalid value encountered in greater\n",
      "  d[gx > 0] = 1.\n",
      "c:\\users\\lgrose\\.conda\\envs\\loop\\lib\\site-packages\\loopstructural-0.0.0-py3.7-win-amd64.egg\\LoopStructural\\modelling\\fault\\fault_segment.py:206: RuntimeWarning: invalid value encountered in less\n",
      "  d[gx < 0] = 0.\n",
      "c:\\users\\lgrose\\.conda\\envs\\loop\\lib\\site-packages\\loopstructural-0.0.0-py3.7-win-amd64.egg\\LoopStructural\\modelling\\fault\\fault_segment.py:212: RuntimeWarning: invalid value encountered in greater\n",
      "  g[g_mag > 0.] /= g_mag[g_mag > 0, None]\n",
      "c:\\users\\lgrose\\.conda\\envs\\loop\\lib\\site-packages\\loopstructural-0.0.0-py3.7-win-amd64.egg\\LoopStructural\\interpolators\\structured_tetra.py:450: RuntimeWarning: invalid value encountered in floor_divide\n",
      "  ix = ix // self.step_vector[None, 0]\n",
      "c:\\users\\lgrose\\.conda\\envs\\loop\\lib\\site-packages\\loopstructural-0.0.0-py3.7-win-amd64.egg\\LoopStructural\\interpolators\\structured_tetra.py:451: RuntimeWarning: invalid value encountered in floor_divide\n",
      "  iy = iy // self.step_vector[None, 1]\n",
      "c:\\users\\lgrose\\.conda\\envs\\loop\\lib\\site-packages\\loopstructural-0.0.0-py3.7-win-amd64.egg\\LoopStructural\\interpolators\\structured_tetra.py:452: RuntimeWarning: invalid value encountered in floor_divide\n",
      "  iz = iz // self.step_vector[None, 2]\n",
      "c:\\users\\lgrose\\.conda\\envs\\loop\\lib\\site-packages\\loopstructural-0.0.0-py3.7-win-amd64.egg\\LoopStructural\\interpolators\\structured_tetra.py:170: RuntimeWarning: invalid value encountered in greater\n",
      "  mask = np.all(c > 0, axis=2)\n",
      "c:\\users\\lgrose\\.conda\\envs\\loop\\lib\\site-packages\\loopstructural-0.0.0-py3.7-win-amd64.egg\\LoopStructural\\interpolators\\structured_tetra.py:350: RuntimeWarning: invalid value encountered in greater\n",
      "  inside *= pos[:, i] > self.origin[None, i]\n",
      "c:\\users\\lgrose\\.conda\\envs\\loop\\lib\\site-packages\\loopstructural-0.0.0-py3.7-win-amd64.egg\\LoopStructural\\interpolators\\structured_tetra.py:352: RuntimeWarning: invalid value encountered in less\n",
      "  self.step_vector[None, i] * self.nsteps_cells[None, i]\n"
     ]
    },
    {
     "name": "stdout",
     "output_type": "stream",
     "text": [
      "log likelihood nan\n",
      "missfit nan\n",
      "displacement: 1400\n"
     ]
    },
    {
     "name": "stderr",
     "output_type": "stream",
     "text": [
      "c:\\users\\lgrose\\.conda\\envs\\loop\\lib\\site-packages\\loopstructural-0.0.0-py3.7-win-amd64.egg\\LoopStructural\\modelling\\fault\\fault_segment.py:205: RuntimeWarning: invalid value encountered in greater\n",
      "  d[gx > 0] = 1.\n",
      "c:\\users\\lgrose\\.conda\\envs\\loop\\lib\\site-packages\\loopstructural-0.0.0-py3.7-win-amd64.egg\\LoopStructural\\modelling\\fault\\fault_segment.py:206: RuntimeWarning: invalid value encountered in less\n",
      "  d[gx < 0] = 0.\n",
      "c:\\users\\lgrose\\.conda\\envs\\loop\\lib\\site-packages\\loopstructural-0.0.0-py3.7-win-amd64.egg\\LoopStructural\\modelling\\fault\\fault_segment.py:212: RuntimeWarning: invalid value encountered in greater\n",
      "  g[g_mag > 0.] /= g_mag[g_mag > 0, None]\n",
      "c:\\users\\lgrose\\.conda\\envs\\loop\\lib\\site-packages\\loopstructural-0.0.0-py3.7-win-amd64.egg\\LoopStructural\\interpolators\\structured_tetra.py:450: RuntimeWarning: invalid value encountered in floor_divide\n",
      "  ix = ix // self.step_vector[None, 0]\n",
      "c:\\users\\lgrose\\.conda\\envs\\loop\\lib\\site-packages\\loopstructural-0.0.0-py3.7-win-amd64.egg\\LoopStructural\\interpolators\\structured_tetra.py:451: RuntimeWarning: invalid value encountered in floor_divide\n",
      "  iy = iy // self.step_vector[None, 1]\n",
      "c:\\users\\lgrose\\.conda\\envs\\loop\\lib\\site-packages\\loopstructural-0.0.0-py3.7-win-amd64.egg\\LoopStructural\\interpolators\\structured_tetra.py:452: RuntimeWarning: invalid value encountered in floor_divide\n",
      "  iz = iz // self.step_vector[None, 2]\n",
      "c:\\users\\lgrose\\.conda\\envs\\loop\\lib\\site-packages\\loopstructural-0.0.0-py3.7-win-amd64.egg\\LoopStructural\\interpolators\\structured_tetra.py:170: RuntimeWarning: invalid value encountered in greater\n",
      "  mask = np.all(c > 0, axis=2)\n",
      "c:\\users\\lgrose\\.conda\\envs\\loop\\lib\\site-packages\\loopstructural-0.0.0-py3.7-win-amd64.egg\\LoopStructural\\interpolators\\structured_tetra.py:350: RuntimeWarning: invalid value encountered in greater\n",
      "  inside *= pos[:, i] > self.origin[None, i]\n",
      "c:\\users\\lgrose\\.conda\\envs\\loop\\lib\\site-packages\\loopstructural-0.0.0-py3.7-win-amd64.egg\\LoopStructural\\interpolators\\structured_tetra.py:352: RuntimeWarning: invalid value encountered in less\n",
      "  self.step_vector[None, i] * self.nsteps_cells[None, i]\n"
     ]
    },
    {
     "name": "stdout",
     "output_type": "stream",
     "text": [
      "log likelihood nan\n",
      "missfit nan\n",
      "displacement: 1500\n"
     ]
    },
    {
     "name": "stderr",
     "output_type": "stream",
     "text": [
      "c:\\users\\lgrose\\.conda\\envs\\loop\\lib\\site-packages\\loopstructural-0.0.0-py3.7-win-amd64.egg\\LoopStructural\\modelling\\fault\\fault_segment.py:205: RuntimeWarning: invalid value encountered in greater\n",
      "  d[gx > 0] = 1.\n",
      "c:\\users\\lgrose\\.conda\\envs\\loop\\lib\\site-packages\\loopstructural-0.0.0-py3.7-win-amd64.egg\\LoopStructural\\modelling\\fault\\fault_segment.py:206: RuntimeWarning: invalid value encountered in less\n",
      "  d[gx < 0] = 0.\n",
      "c:\\users\\lgrose\\.conda\\envs\\loop\\lib\\site-packages\\loopstructural-0.0.0-py3.7-win-amd64.egg\\LoopStructural\\modelling\\fault\\fault_segment.py:212: RuntimeWarning: invalid value encountered in greater\n",
      "  g[g_mag > 0.] /= g_mag[g_mag > 0, None]\n",
      "c:\\users\\lgrose\\.conda\\envs\\loop\\lib\\site-packages\\loopstructural-0.0.0-py3.7-win-amd64.egg\\LoopStructural\\interpolators\\structured_tetra.py:450: RuntimeWarning: invalid value encountered in floor_divide\n",
      "  ix = ix // self.step_vector[None, 0]\n",
      "c:\\users\\lgrose\\.conda\\envs\\loop\\lib\\site-packages\\loopstructural-0.0.0-py3.7-win-amd64.egg\\LoopStructural\\interpolators\\structured_tetra.py:451: RuntimeWarning: invalid value encountered in floor_divide\n",
      "  iy = iy // self.step_vector[None, 1]\n",
      "c:\\users\\lgrose\\.conda\\envs\\loop\\lib\\site-packages\\loopstructural-0.0.0-py3.7-win-amd64.egg\\LoopStructural\\interpolators\\structured_tetra.py:452: RuntimeWarning: invalid value encountered in floor_divide\n",
      "  iz = iz // self.step_vector[None, 2]\n",
      "c:\\users\\lgrose\\.conda\\envs\\loop\\lib\\site-packages\\loopstructural-0.0.0-py3.7-win-amd64.egg\\LoopStructural\\interpolators\\structured_tetra.py:170: RuntimeWarning: invalid value encountered in greater\n",
      "  mask = np.all(c > 0, axis=2)\n",
      "c:\\users\\lgrose\\.conda\\envs\\loop\\lib\\site-packages\\loopstructural-0.0.0-py3.7-win-amd64.egg\\LoopStructural\\interpolators\\structured_tetra.py:350: RuntimeWarning: invalid value encountered in greater\n",
      "  inside *= pos[:, i] > self.origin[None, i]\n",
      "c:\\users\\lgrose\\.conda\\envs\\loop\\lib\\site-packages\\loopstructural-0.0.0-py3.7-win-amd64.egg\\LoopStructural\\interpolators\\structured_tetra.py:352: RuntimeWarning: invalid value encountered in less\n",
      "  self.step_vector[None, i] * self.nsteps_cells[None, i]\n"
     ]
    },
    {
     "name": "stdout",
     "output_type": "stream",
     "text": [
      "log likelihood nan\n",
      "missfit nan\n",
      "displacement: 1600\n"
     ]
    },
    {
     "name": "stderr",
     "output_type": "stream",
     "text": [
      "c:\\users\\lgrose\\.conda\\envs\\loop\\lib\\site-packages\\loopstructural-0.0.0-py3.7-win-amd64.egg\\LoopStructural\\modelling\\fault\\fault_segment.py:205: RuntimeWarning: invalid value encountered in greater\n",
      "  d[gx > 0] = 1.\n",
      "c:\\users\\lgrose\\.conda\\envs\\loop\\lib\\site-packages\\loopstructural-0.0.0-py3.7-win-amd64.egg\\LoopStructural\\modelling\\fault\\fault_segment.py:206: RuntimeWarning: invalid value encountered in less\n",
      "  d[gx < 0] = 0.\n",
      "c:\\users\\lgrose\\.conda\\envs\\loop\\lib\\site-packages\\loopstructural-0.0.0-py3.7-win-amd64.egg\\LoopStructural\\modelling\\fault\\fault_segment.py:212: RuntimeWarning: invalid value encountered in greater\n",
      "  g[g_mag > 0.] /= g_mag[g_mag > 0, None]\n",
      "c:\\users\\lgrose\\.conda\\envs\\loop\\lib\\site-packages\\loopstructural-0.0.0-py3.7-win-amd64.egg\\LoopStructural\\interpolators\\structured_tetra.py:450: RuntimeWarning: invalid value encountered in floor_divide\n",
      "  ix = ix // self.step_vector[None, 0]\n",
      "c:\\users\\lgrose\\.conda\\envs\\loop\\lib\\site-packages\\loopstructural-0.0.0-py3.7-win-amd64.egg\\LoopStructural\\interpolators\\structured_tetra.py:451: RuntimeWarning: invalid value encountered in floor_divide\n",
      "  iy = iy // self.step_vector[None, 1]\n",
      "c:\\users\\lgrose\\.conda\\envs\\loop\\lib\\site-packages\\loopstructural-0.0.0-py3.7-win-amd64.egg\\LoopStructural\\interpolators\\structured_tetra.py:452: RuntimeWarning: invalid value encountered in floor_divide\n",
      "  iz = iz // self.step_vector[None, 2]\n",
      "c:\\users\\lgrose\\.conda\\envs\\loop\\lib\\site-packages\\loopstructural-0.0.0-py3.7-win-amd64.egg\\LoopStructural\\interpolators\\structured_tetra.py:170: RuntimeWarning: invalid value encountered in greater\n",
      "  mask = np.all(c > 0, axis=2)\n",
      "c:\\users\\lgrose\\.conda\\envs\\loop\\lib\\site-packages\\loopstructural-0.0.0-py3.7-win-amd64.egg\\LoopStructural\\interpolators\\structured_tetra.py:350: RuntimeWarning: invalid value encountered in greater\n",
      "  inside *= pos[:, i] > self.origin[None, i]\n",
      "c:\\users\\lgrose\\.conda\\envs\\loop\\lib\\site-packages\\loopstructural-0.0.0-py3.7-win-amd64.egg\\LoopStructural\\interpolators\\structured_tetra.py:352: RuntimeWarning: invalid value encountered in less\n",
      "  self.step_vector[None, i] * self.nsteps_cells[None, i]\n"
     ]
    },
    {
     "name": "stdout",
     "output_type": "stream",
     "text": [
      "log likelihood nan\n",
      "missfit nan\n",
      "displacement: 1700\n"
     ]
    },
    {
     "name": "stderr",
     "output_type": "stream",
     "text": [
      "c:\\users\\lgrose\\.conda\\envs\\loop\\lib\\site-packages\\loopstructural-0.0.0-py3.7-win-amd64.egg\\LoopStructural\\modelling\\fault\\fault_segment.py:205: RuntimeWarning: invalid value encountered in greater\n",
      "  d[gx > 0] = 1.\n",
      "c:\\users\\lgrose\\.conda\\envs\\loop\\lib\\site-packages\\loopstructural-0.0.0-py3.7-win-amd64.egg\\LoopStructural\\modelling\\fault\\fault_segment.py:206: RuntimeWarning: invalid value encountered in less\n",
      "  d[gx < 0] = 0.\n",
      "c:\\users\\lgrose\\.conda\\envs\\loop\\lib\\site-packages\\loopstructural-0.0.0-py3.7-win-amd64.egg\\LoopStructural\\modelling\\fault\\fault_segment.py:212: RuntimeWarning: invalid value encountered in greater\n",
      "  g[g_mag > 0.] /= g_mag[g_mag > 0, None]\n",
      "c:\\users\\lgrose\\.conda\\envs\\loop\\lib\\site-packages\\loopstructural-0.0.0-py3.7-win-amd64.egg\\LoopStructural\\interpolators\\structured_tetra.py:450: RuntimeWarning: invalid value encountered in floor_divide\n",
      "  ix = ix // self.step_vector[None, 0]\n",
      "c:\\users\\lgrose\\.conda\\envs\\loop\\lib\\site-packages\\loopstructural-0.0.0-py3.7-win-amd64.egg\\LoopStructural\\interpolators\\structured_tetra.py:451: RuntimeWarning: invalid value encountered in floor_divide\n",
      "  iy = iy // self.step_vector[None, 1]\n",
      "c:\\users\\lgrose\\.conda\\envs\\loop\\lib\\site-packages\\loopstructural-0.0.0-py3.7-win-amd64.egg\\LoopStructural\\interpolators\\structured_tetra.py:452: RuntimeWarning: invalid value encountered in floor_divide\n",
      "  iz = iz // self.step_vector[None, 2]\n",
      "c:\\users\\lgrose\\.conda\\envs\\loop\\lib\\site-packages\\loopstructural-0.0.0-py3.7-win-amd64.egg\\LoopStructural\\interpolators\\structured_tetra.py:170: RuntimeWarning: invalid value encountered in greater\n",
      "  mask = np.all(c > 0, axis=2)\n",
      "c:\\users\\lgrose\\.conda\\envs\\loop\\lib\\site-packages\\loopstructural-0.0.0-py3.7-win-amd64.egg\\LoopStructural\\interpolators\\structured_tetra.py:350: RuntimeWarning: invalid value encountered in greater\n",
      "  inside *= pos[:, i] > self.origin[None, i]\n",
      "c:\\users\\lgrose\\.conda\\envs\\loop\\lib\\site-packages\\loopstructural-0.0.0-py3.7-win-amd64.egg\\LoopStructural\\interpolators\\structured_tetra.py:352: RuntimeWarning: invalid value encountered in less\n",
      "  self.step_vector[None, i] * self.nsteps_cells[None, i]\n"
     ]
    },
    {
     "name": "stdout",
     "output_type": "stream",
     "text": [
      "log likelihood nan\n",
      "missfit nan\n",
      "displacement: 1800\n"
     ]
    },
    {
     "name": "stderr",
     "output_type": "stream",
     "text": [
      "c:\\users\\lgrose\\.conda\\envs\\loop\\lib\\site-packages\\loopstructural-0.0.0-py3.7-win-amd64.egg\\LoopStructural\\modelling\\fault\\fault_segment.py:205: RuntimeWarning: invalid value encountered in greater\n",
      "  d[gx > 0] = 1.\n",
      "c:\\users\\lgrose\\.conda\\envs\\loop\\lib\\site-packages\\loopstructural-0.0.0-py3.7-win-amd64.egg\\LoopStructural\\modelling\\fault\\fault_segment.py:206: RuntimeWarning: invalid value encountered in less\n",
      "  d[gx < 0] = 0.\n",
      "c:\\users\\lgrose\\.conda\\envs\\loop\\lib\\site-packages\\loopstructural-0.0.0-py3.7-win-amd64.egg\\LoopStructural\\modelling\\fault\\fault_segment.py:212: RuntimeWarning: invalid value encountered in greater\n",
      "  g[g_mag > 0.] /= g_mag[g_mag > 0, None]\n",
      "c:\\users\\lgrose\\.conda\\envs\\loop\\lib\\site-packages\\loopstructural-0.0.0-py3.7-win-amd64.egg\\LoopStructural\\interpolators\\structured_tetra.py:450: RuntimeWarning: invalid value encountered in floor_divide\n",
      "  ix = ix // self.step_vector[None, 0]\n",
      "c:\\users\\lgrose\\.conda\\envs\\loop\\lib\\site-packages\\loopstructural-0.0.0-py3.7-win-amd64.egg\\LoopStructural\\interpolators\\structured_tetra.py:451: RuntimeWarning: invalid value encountered in floor_divide\n",
      "  iy = iy // self.step_vector[None, 1]\n",
      "c:\\users\\lgrose\\.conda\\envs\\loop\\lib\\site-packages\\loopstructural-0.0.0-py3.7-win-amd64.egg\\LoopStructural\\interpolators\\structured_tetra.py:452: RuntimeWarning: invalid value encountered in floor_divide\n",
      "  iz = iz // self.step_vector[None, 2]\n",
      "c:\\users\\lgrose\\.conda\\envs\\loop\\lib\\site-packages\\loopstructural-0.0.0-py3.7-win-amd64.egg\\LoopStructural\\interpolators\\structured_tetra.py:170: RuntimeWarning: invalid value encountered in greater\n",
      "  mask = np.all(c > 0, axis=2)\n",
      "c:\\users\\lgrose\\.conda\\envs\\loop\\lib\\site-packages\\loopstructural-0.0.0-py3.7-win-amd64.egg\\LoopStructural\\interpolators\\structured_tetra.py:350: RuntimeWarning: invalid value encountered in greater\n",
      "  inside *= pos[:, i] > self.origin[None, i]\n",
      "c:\\users\\lgrose\\.conda\\envs\\loop\\lib\\site-packages\\loopstructural-0.0.0-py3.7-win-amd64.egg\\LoopStructural\\interpolators\\structured_tetra.py:352: RuntimeWarning: invalid value encountered in less\n",
      "  self.step_vector[None, i] * self.nsteps_cells[None, i]\n"
     ]
    },
    {
     "name": "stdout",
     "output_type": "stream",
     "text": [
      "log likelihood nan\n",
      "missfit nan\n",
      "displacement: 1900\n"
     ]
    },
    {
     "name": "stderr",
     "output_type": "stream",
     "text": [
      "c:\\users\\lgrose\\.conda\\envs\\loop\\lib\\site-packages\\loopstructural-0.0.0-py3.7-win-amd64.egg\\LoopStructural\\modelling\\fault\\fault_segment.py:205: RuntimeWarning: invalid value encountered in greater\n",
      "  d[gx > 0] = 1.\n",
      "c:\\users\\lgrose\\.conda\\envs\\loop\\lib\\site-packages\\loopstructural-0.0.0-py3.7-win-amd64.egg\\LoopStructural\\modelling\\fault\\fault_segment.py:206: RuntimeWarning: invalid value encountered in less\n",
      "  d[gx < 0] = 0.\n",
      "c:\\users\\lgrose\\.conda\\envs\\loop\\lib\\site-packages\\loopstructural-0.0.0-py3.7-win-amd64.egg\\LoopStructural\\modelling\\fault\\fault_segment.py:212: RuntimeWarning: invalid value encountered in greater\n",
      "  g[g_mag > 0.] /= g_mag[g_mag > 0, None]\n",
      "c:\\users\\lgrose\\.conda\\envs\\loop\\lib\\site-packages\\loopstructural-0.0.0-py3.7-win-amd64.egg\\LoopStructural\\interpolators\\structured_tetra.py:450: RuntimeWarning: invalid value encountered in floor_divide\n",
      "  ix = ix // self.step_vector[None, 0]\n",
      "c:\\users\\lgrose\\.conda\\envs\\loop\\lib\\site-packages\\loopstructural-0.0.0-py3.7-win-amd64.egg\\LoopStructural\\interpolators\\structured_tetra.py:451: RuntimeWarning: invalid value encountered in floor_divide\n",
      "  iy = iy // self.step_vector[None, 1]\n",
      "c:\\users\\lgrose\\.conda\\envs\\loop\\lib\\site-packages\\loopstructural-0.0.0-py3.7-win-amd64.egg\\LoopStructural\\interpolators\\structured_tetra.py:452: RuntimeWarning: invalid value encountered in floor_divide\n",
      "  iz = iz // self.step_vector[None, 2]\n",
      "c:\\users\\lgrose\\.conda\\envs\\loop\\lib\\site-packages\\loopstructural-0.0.0-py3.7-win-amd64.egg\\LoopStructural\\interpolators\\structured_tetra.py:170: RuntimeWarning: invalid value encountered in greater\n",
      "  mask = np.all(c > 0, axis=2)\n",
      "c:\\users\\lgrose\\.conda\\envs\\loop\\lib\\site-packages\\loopstructural-0.0.0-py3.7-win-amd64.egg\\LoopStructural\\interpolators\\structured_tetra.py:350: RuntimeWarning: invalid value encountered in greater\n",
      "  inside *= pos[:, i] > self.origin[None, i]\n",
      "c:\\users\\lgrose\\.conda\\envs\\loop\\lib\\site-packages\\loopstructural-0.0.0-py3.7-win-amd64.egg\\LoopStructural\\interpolators\\structured_tetra.py:352: RuntimeWarning: invalid value encountered in less\n",
      "  self.step_vector[None, i] * self.nsteps_cells[None, i]\n"
     ]
    },
    {
     "name": "stdout",
     "output_type": "stream",
     "text": [
      "log likelihood nan\n",
      "missfit nan\n"
     ]
    }
   ],
   "source": [
    "# %%snakeviz\n",
    "disp = np.arange(-2000,2000,100)#[-1000,-750,-500,-250,0,250,500,750,1000]\n",
    "logli = []\n",
    "for d in disp:\n",
    "    logli.append(log_likelihood(d))\n",
    "#log_likelihood(-500)"
   ]
  },
  {
   "cell_type": "code",
   "execution_count": null,
   "metadata": {},
   "outputs": [],
   "source": [
    "plt.plot(disp,logli)"
   ]
  },
  {
   "cell_type": "code",
   "execution_count": null,
   "metadata": {},
   "outputs": [],
   "source": [
    "%%snakeviz \n",
    "np.linspace(0,10,10)"
   ]
  },
  {
   "cell_type": "code",
   "execution_count": null,
   "metadata": {},
   "outputs": [],
   "source": []
  }
 ],
 "metadata": {
  "kernelspec": {
   "display_name": "Python 3",
   "language": "python",
   "name": "python3"
  },
  "language_info": {
   "codemirror_mode": {
    "name": "ipython",
    "version": 3
   },
   "file_extension": ".py",
   "mimetype": "text/x-python",
   "name": "python",
   "nbconvert_exporter": "python",
   "pygments_lexer": "ipython3",
   "version": "3.7.4"
  }
 },
 "nbformat": 4,
 "nbformat_minor": 4
}
