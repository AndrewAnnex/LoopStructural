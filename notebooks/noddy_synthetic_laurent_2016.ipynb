{
 "cells": [
  {
   "cell_type": "markdown",
   "metadata": {},
   "source": [
    "# Modelling polydeformation"
   ]
  },
  {
   "cell_type": "markdown",
   "metadata": {},
   "source": [
    "### Import the Forward Modelling Engine modules - FME"
   ]
  },
  {
   "cell_type": "code",
   "execution_count": 1,
   "metadata": {
    "ExecuteTime": {
     "end_time": "2019-09-17T08:05:02.410412Z",
     "start_time": "2019-09-17T08:05:01.651630Z"
    }
   },
   "outputs": [],
   "source": [
    "#import the Forward Modelling Engine modules - FME\n",
    "from FME.interpolators.piecewiselinear_interpolator import PiecewiseLinearInterpolator as PLI\n",
    "from FME.interpolators.discrete_fold_interpolator import DiscreteFoldInterpolator as DFI\n",
    "from FME.modelling.features.geological_feature import GeologicalFeatureInterpolator\n",
    "from FME.modelling.structural_frame import StructuralFrameBuilder\n",
    "from FME.modelling.fold.foldframe import FoldFrame\n",
    "from FME.modelling.fold.fold import FoldEvent\n",
    "from FME.modelling.fold.svariogram import SVariogram\n",
    "from FME.supports.tet_mesh import TetMesh\n",
    "from FME.visualisation.model_visualisation import LavaVuModelViewer\n",
    "from FME.visualisation.rotation_angle_plotter import RotationAnglePlotter\n",
    "# import other libraries\n",
    "import pandas as pd\n",
    "import numpy as np\n",
    "import glob\n",
    "import os\n",
    "from scipy.interpolate import Rbf\n",
    "from scipy.optimize import curve_fit\n",
    "\n",
    "import matplotlib.pyplot as plt"
   ]
  },
  {
   "cell_type": "code",
   "execution_count": 2,
   "metadata": {
    "ExecuteTime": {
     "end_time": "2019-09-17T08:05:02.415500Z",
     "start_time": "2019-09-17T08:05:02.412488Z"
    }
   },
   "outputs": [],
   "source": [
    "class fold_rotation_angle_feature:\n",
    "    def __init__(self,fold_frame,rotation):\n",
    "        self.fold_frame = fold_frame\n",
    "        self.rotation = rotation\n",
    "    def evaluate_value(self,location):\n",
    "        s1 = self.fold_frame.features[0].evaluate_value(location)\n",
    "        r = self.rotation(s1)\n",
    "        return r"
   ]
  },
  {
   "cell_type": "markdown",
   "metadata": {},
   "source": [
    "### Use a Fourier series to represent the fold geometry\n",
    "This is just a function F(x,params) that can be passed to scipy curve fit with an estimate on the parameter values. The parameters can then be fit to the observations."
   ]
  },
  {
   "cell_type": "code",
   "execution_count": 3,
   "metadata": {
    "ExecuteTime": {
     "end_time": "2019-09-17T08:05:02.438231Z",
     "start_time": "2019-09-17T08:05:02.417056Z"
    }
   },
   "outputs": [],
   "source": [
    "def fourier_series(x,c0,c1,c2,w):\n",
    "    v = np.array(x.astype(float))\n",
    "    v.fill(c0)\n",
    "    v = c0 + c1*np.cos(2*np.pi/w*x) + c2*np.sin(2*np.pi/w*x)\n",
    "    return np.rad2deg(np.arctan(v))"
   ]
  },
  {
   "cell_type": "markdown",
   "metadata": {},
   "source": [
    "### Load data from csv files\n",
    "Use glob to find all csvs in directory and then import into a dictionary of pandas data frames"
   ]
  },
  {
   "cell_type": "code",
   "execution_count": 4,
   "metadata": {
    "ExecuteTime": {
     "end_time": "2019-09-17T08:05:02.472201Z",
     "start_time": "2019-09-17T08:05:02.440206Z"
    }
   },
   "outputs": [
    {
     "name": "stdout",
     "output_type": "stream",
     "text": [
      "dict_keys(['s2_val.csv', 's0_dir.csv', 's0_val.csv', 's2_dir.csv', 's1_val.csv', 's1_dir.csv'])\n"
     ]
    }
   ],
   "source": [
    "data ={}\n",
    "for f in glob.glob('data/noddy_synth/*.csv'):\n",
    "    data[os.path.basename(f)] = np.loadtxt(f,delimiter=\" \")\n",
    "    \n",
    "origin = (0,0,0)\n",
    "maximum = (10000,10000,5000)\n",
    "print(data.keys())"
   ]
  },
  {
   "cell_type": "markdown",
   "metadata": {},
   "source": [
    "#### Building the Mesh"
   ]
  },
  {
   "cell_type": "markdown",
   "metadata": {},
   "source": [
    "Build a mesh that covers at least the area of interest. In this case use the origin and maximum extent. Define the number of tetras - start with a moderate number 50k and work upwards when the model is working."
   ]
  },
  {
   "cell_type": "code",
   "execution_count": 5,
   "metadata": {
    "ExecuteTime": {
     "end_time": "2019-09-17T08:05:04.101310Z",
     "start_time": "2019-09-17T08:05:02.474069Z"
    }
   },
   "outputs": [],
   "source": [
    "boundary_points = np.zeros((2,3))\n",
    "boundary_points[0,0] = origin[0]\n",
    "boundary_points[0,1] = origin[1]\n",
    "boundary_points[0,2] = origin[2]\n",
    "boundary_points[1,0] = maximum[0]\n",
    "boundary_points[1,1] = maximum[1]\n",
    "boundary_points[1,2] = maximum[2]\n",
    "mesh = TetMesh()\n",
    "mesh.setup_mesh(boundary_points, n_tetra=90000,)"
   ]
  },
  {
   "cell_type": "markdown",
   "metadata": {},
   "source": [
    "### Building the Fold Frame F2"
   ]
  },
  {
   "cell_type": "markdown",
   "metadata": {},
   "source": [
    "Associate the different coordinates of the fold frame with the data that defines their geometry.\n",
    "\n",
    "* coordinate 0 is associated with the axial foliation\n",
    "* coordinate 1 is associated with the fold axis direction which is either an observation of the fold axis or can be defined as the strike rotated by 90"
   ]
  },
  {
   "cell_type": "code",
   "execution_count": 6,
   "metadata": {
    "ExecuteTime": {
     "end_time": "2019-09-17T08:05:04.117380Z",
     "start_time": "2019-09-17T08:05:04.103040Z"
    }
   },
   "outputs": [],
   "source": [
    "#print(data['s2_dir.csv'])\n",
    "fold_frame2_interpolator = PLI(mesh)\n",
    "fold_frame2_builder = StructuralFrameBuilder(\n",
    "    interpolator=fold_frame2_interpolator,\n",
    "    mesh=mesh,\n",
    "    name='F2_fold_frame')\n",
    "# Interfacing with dataframes should be done using a convenience wrapper function\n",
    "for r in data['s2_dir.csv']:\n",
    "    if r[3] < -10:\n",
    "        continue\n",
    "    fold_frame2_builder.add_planar_constraint(r[0:3],-r[3:],itype='gx')\n",
    "    fold_frame2_builder.add_planar_constraint(r[0:3],[r[4],r[3],r[5]],itype='gy')\n",
    "\n",
    "r = data['s2_val.csv']\n",
    "fold_frame2_builder.add_point(r[0:3],r[3],itype='gx')\n",
    "fold_frame2_builder.add_point(r[0:3],r[3],itype='gy')"
   ]
  },
  {
   "cell_type": "markdown",
   "metadata": {},
   "source": [
    "Run interpolation with default parameters using lu solver"
   ]
  },
  {
   "cell_type": "code",
   "execution_count": 7,
   "metadata": {
    "ExecuteTime": {
     "end_time": "2019-09-17T08:05:37.422303Z",
     "start_time": "2019-09-17T08:05:04.118732Z"
    }
   },
   "outputs": [
    {
     "name": "stdout",
     "output_type": "stream",
     "text": [
      "Building gx\n",
      "Building gy\n",
      "Creating analytical gz\n"
     ]
    }
   ],
   "source": [
    "f2_frame = fold_frame2_builder.build(\n",
    "    frame=FoldFrame,\n",
    "    solver='lu',\n",
    ")"
   ]
  },
  {
   "cell_type": "markdown",
   "metadata": {},
   "source": [
    "Now we can visualize the fold frame isosurfaces with Lavavu"
   ]
  },
  {
   "cell_type": "code",
   "execution_count": 8,
   "metadata": {
    "ExecuteTime": {
     "end_time": "2019-09-17T08:05:37.433566Z",
     "start_time": "2019-09-17T08:05:37.429237Z"
    }
   },
   "outputs": [],
   "source": [
    "# viewer = LavaVuModelViewer(background=\"white\")\n",
    "# viewer.plot_model_box(boundary_points,\n",
    "#                       (100,100,50),\n",
    "#                       's2',\n",
    "#                       paint_with=f2_frame.features[0],\n",
    "#                      cmap='jet')\n",
    "# viewer.plot_isosurface(f2_frame.features[0],  colour='green')\n",
    "# viewer.plot_isosurface(f2_frame.features[1],  colour='blue')\n",
    "# viewer.plot_data(f2_frame.features[0])\n",
    "# viewer.interactive()"
   ]
  },
  {
   "cell_type": "markdown",
   "metadata": {},
   "source": [
    "#### Create a fold linked to the fold frame<br>\n",
    "We need to create a fold event that links our fold frame to the fold event so that it can given to the fold interpolator."
   ]
  },
  {
   "cell_type": "code",
   "execution_count": 9,
   "metadata": {
    "ExecuteTime": {
     "end_time": "2019-09-17T08:05:37.488079Z",
     "start_time": "2019-09-17T08:05:37.435211Z"
    }
   },
   "outputs": [],
   "source": [
    "fold = FoldEvent(f2_frame,None,None)"
   ]
  },
  {
   "cell_type": "markdown",
   "metadata": {},
   "source": [
    "### Create a DiscreteFoldInterpolator object\n",
    "The DiscreteFoldInterpolator is a PiecewiseLinearInterpolator that adds additional constraints to the interpolation process using the geometry of the fold. It can be initialised using a fold and mesh. "
   ]
  },
  {
   "cell_type": "code",
   "execution_count": 10,
   "metadata": {
    "ExecuteTime": {
     "end_time": "2019-09-17T08:05:37.505457Z",
     "start_time": "2019-09-17T08:05:37.489848Z"
    }
   },
   "outputs": [],
   "source": [
    "f1_fold_interpolator = DFI(mesh,fold)"
   ]
  },
  {
   "cell_type": "code",
   "execution_count": 11,
   "metadata": {
    "ExecuteTime": {
     "end_time": "2019-09-17T08:05:37.532780Z",
     "start_time": "2019-09-17T08:05:37.507392Z"
    }
   },
   "outputs": [],
   "source": [
    "#print(data['s2_dir.csv'])\n",
    "fold_frame1_interpolator = PLI(mesh)\n",
    "fold_frame1_builder = StructuralFrameBuilder(\n",
    "    interpolator=fold_frame1_interpolator,\n",
    "    mesh=mesh,\n",
    "    name='F1_fold_frame')\n",
    "# update the coordinate 0 interpolator to be a fold interpolator\n",
    "fold_frame1_builder.interpolators[0] = f1_fold_interpolator\n",
    "fold_frame1_builder.interpolators[0].set_property_name(fold_frame1_builder.name+'_gx')\n",
    "for r in data['s1_dir.csv']:\n",
    "    if r[3] < -10:\n",
    "        continue\n",
    "    fold_frame1_builder.add_planar_constraint(r[0:3],r[3:],itype='gx')\n",
    "\n",
    "# because type 3 interference the gy can be the same for different folds.\n",
    "for r in data['s2_dir.csv']:\n",
    "    if r[3] < -10:\n",
    "        continue\n",
    "#     fold_frame2_builder.add_planar_constraint(r[0:3],-r[3:],itype='gx')\n",
    "    fold_frame1_builder.add_planar_constraint(r[0:3],[r[4],r[3],r[5]],itype='gy')\n",
    "    \n",
    "for r in data['s1_val.csv']:\n",
    "    fold_frame1_builder.add_point(r[0:3],r[3],itype='gx')\n",
    "r = data['s2_val.csv']\n",
    "# fold_frame1_builder.add_point(r[0:3],r[3],itype='gx')\n",
    "fold_frame1_builder.add_point(r[0:3],r[3],itype='gy')"
   ]
  },
  {
   "cell_type": "code",
   "execution_count": 12,
   "metadata": {
    "ExecuteTime": {
     "end_time": "2019-09-17T08:05:37.558252Z",
     "start_time": "2019-09-17T08:05:37.534624Z"
    }
   },
   "outputs": [],
   "source": [
    "xyz = data['s1_dir.csv'][:,:3]#fold_frame1_builder.interpolators[0].get_gradient_control()[:,:3]\n",
    "s1g = data['s1_dir.csv'][:,3:]##fold_frame1_builder.interpolators[0].get_gradient_control()[:,3:]\n",
    "l2 = f2_frame.calculate_intersection_lineation(np.hstack([xyz,s1g]))\n",
    "far = f2_frame.calculate_fold_axis_rotation(np.hstack([xyz,l2]))\n",
    "s2 = f2_frame.features[0].evaluate_value(xyz)\n",
    "s2gy = f2_frame.features[1].evaluate_value(xyz)\n",
    "axis_svariogram = SVariogram(s2gy,far)\n",
    "guess = np.array(axis_svariogram.find_wavelengths())\n",
    "guess[0] = guess[1]/2."
   ]
  },
  {
   "cell_type": "code",
   "execution_count": 13,
   "metadata": {
    "ExecuteTime": {
     "end_time": "2019-09-17T08:05:37.562396Z",
     "start_time": "2019-09-17T08:05:37.559711Z"
    }
   },
   "outputs": [],
   "source": [
    "far_tan = np.tan(np.deg2rad(far))\n",
    "\n",
    "xi = np.linspace(f2_frame.features[1].min(),\n",
    "                 f2_frame.features[1].max(), 1000)"
   ]
  },
  {
   "cell_type": "code",
   "execution_count": 14,
   "metadata": {
    "ExecuteTime": {
     "end_time": "2019-09-17T08:05:37.574782Z",
     "start_time": "2019-09-17T08:05:37.563683Z"
    }
   },
   "outputs": [],
   "source": [
    "def fold_axis_rotation(x):\n",
    "    v = np.zeros(x.shape)\n",
    "    v[:] = np.mean(far)#0\n",
    "    #print(v)\n",
    "#     print(v)\n",
    "    return v\n",
    "    #return np.rad2deg(np.arctan(rbf_fold_axis(x,np.zeros(x.shape),np.zeros(x.shape))))\n",
    "fold.fold_axis_rotation = fold_axis_rotation"
   ]
  },
  {
   "cell_type": "code",
   "execution_count": 15,
   "metadata": {
    "ExecuteTime": {
     "end_time": "2019-09-17T08:05:37.590554Z",
     "start_time": "2019-09-17T08:05:37.576218Z"
    }
   },
   "outputs": [
    {
     "data": {
      "text/plain": [
       "array([[-0.00489875,  0.71358393, -0.70055262]])"
      ]
     },
     "execution_count": 15,
     "metadata": {},
     "output_type": "execute_result"
    }
   ],
   "source": [
    "fold.get_fold_axis_orientation(np.array([[10,10,10]]))"
   ]
  },
  {
   "cell_type": "code",
   "execution_count": 16,
   "metadata": {
    "ExecuteTime": {
     "end_time": "2019-09-17T08:05:37.636965Z",
     "start_time": "2019-09-17T08:05:37.591956Z"
    }
   },
   "outputs": [],
   "source": [
    "axis = fold.get_fold_axis_orientation(xyz)\n",
    "flr = f2_frame.calculate_fold_limb_rotation(np.hstack([xyz,s1g]),axis=axis)\n",
    "limb_svariogram = SVariogram(s2,flr)\n",
    "guess = limb_svariogram.find_wavelengths()\n",
    "guess = np.array(limb_svariogram.find_wavelengths())\n",
    "guess[0] /=2\n",
    "\n",
    "flr_tan = np.tan(np.deg2rad(flr))\n",
    "limb_svariogram = SVariogram(s2,flr)\n",
    "guess = np.array(limb_svariogram.find_wavelengths())\n",
    "guess = np.zeros(4)\n",
    "guess[3] = 5000\n",
    "popt, pcov = curve_fit(fourier_series,s2,flr_tan,guess)\n",
    "xi = np.linspace(f2_frame.features[0].min(),f2_frame.features[0].max(),1000)\n",
    "def fold_limb_rotation(x):\n",
    "    return np.rad2deg(np.arctan(fourier_series(x,popt[0],popt[1],popt[2],popt[3])))\n",
    "# flr = fold_rotation_angle_feature(f2_frame,fold_limb_rotation)\n",
    "fold.fold_limb_rotation = fold_limb_rotation"
   ]
  },
  {
   "cell_type": "code",
   "execution_count": 17,
   "metadata": {
    "ExecuteTime": {
     "end_time": "2019-09-17T08:05:38.548424Z",
     "start_time": "2019-09-17T08:05:37.638425Z"
    },
    "scrolled": false
   },
   "outputs": [
    {
     "data": {
      "text/plain": [
       "Text(0.5, 1.0, 'Fold axis rotation angle S-Variogram')"
      ]
     },
     "execution_count": 17,
     "metadata": {},
     "output_type": "execute_result"
    },
    {
     "data": {
      "image/png": "[encoded data removed]",
      "text/plain": [
       "<Figure size 1080x1080 with 4 Axes>"
      ]
     },
     "metadata": {
      "needs_background": "light"
     },
     "output_type": "display_data"
    }
   ],
   "source": [
    "rotation_plots = RotationAnglePlotter()\n",
    "rotation_plots.add_fold_axis_data(far,s2gy)\n",
    "rotation_plots.add_axis_svariogram(axis_svariogram)\n",
    "rotation_plots.add_fold_axis_curve(fold.fold_axis_rotation(xi),xi)\n",
    "rotation_plots.add_fold_limb_data(flr,s2)\n",
    "rotation_plots.add_limb_svariogram(limb_svariogram)\n",
    "rotation_plots.add_fold_limb_curve(fold.fold_limb_rotation(xi), xi)\n",
    "rotation_plots.ax[0][0].set_title(\"Fold axis rotation angle S-Plot\")\n",
    "rotation_plots.ax[0][1].set_title(\"Fold axis rotation angle S-Variogram\")\n",
    "rotation_plots.ax[1][0].set_title(\"Fold limb rotation angle S-Plot\")\n",
    "rotation_plots.ax[1][1].set_title(\"Fold axis rotation angle S-Variogram\")"
   ]
  },
  {
   "cell_type": "code",
   "execution_count": null,
   "metadata": {
    "ExecuteTime": {
     "start_time": "2019-09-17T08:04:59.341Z"
    }
   },
   "outputs": [],
   "source": [
    "fold_weights = {}\n",
    "fold_weights['fold_orientation'] = 100. # reference values?\n",
    "fold_weights['fold_axis'] = 100. # reference values?\n",
    "fold_weights['fold_normalisation'] = 1. # reference values?\n",
    "fold_weights['fold_regularisation'] = 5.10# reference values?\n",
    "# fold_frame1_builder.interpolators[0].n_g= 0\n",
    "f1_frame = fold_frame1_builder.build(solver='lu',\n",
    "                                         frame=FoldFrame,\n",
    "                                    fold_weights=fold_weights,\n",
    "                                    fold=fold)"
   ]
  },
  {
   "cell_type": "code",
   "execution_count": null,
   "metadata": {
    "ExecuteTime": {
     "start_time": "2019-09-17T08:04:59.342Z"
    },
    "scrolled": true
   },
   "outputs": [],
   "source": [
    "fold.get_fold_axis_orientation(np.array([[15,15,10]]))\n",
    "locations = mesh.barycentre[::100,:]\n",
    "r2r, axis, dgz = fold.get_deformed_orientation(locations)"
   ]
  },
  {
   "cell_type": "code",
   "execution_count": null,
   "metadata": {
    "ExecuteTime": {
     "start_time": "2019-09-17T08:04:59.344Z"
    }
   },
   "outputs": [],
   "source": [
    "# viewer = LavaVuModelViewer(background=\"white\")\n",
    "# viewer.plot_vector_data(locations,r2r,'r2r',colour='red')\n",
    "# viewer.plot_vector_data(locations,dgz,'dgz',colour='green')\n",
    "# viewer.plot_vector_data(locations,axis,'axis',colour='purple')\n",
    "# viewer.plot_vector_data(locations,np.cross(r2r,axis,axisa=1,axisb=1),'x')\n",
    "\n",
    "# viewer.interactive()"
   ]
  },
  {
   "cell_type": "code",
   "execution_count": null,
   "metadata": {
    "ExecuteTime": {
     "start_time": "2019-09-17T08:04:59.345Z"
    },
    "scrolled": false
   },
   "outputs": [],
   "source": [
    "# viewer = LavaVuModelViewer(background=\"white\")\n",
    "# # viewer.plot_model_box(boundary_points,\n",
    "# #                       (100,100,50),\n",
    "# #                       's0',\n",
    "# #                       paint_with=f1_frame.features[0])\n",
    "# viewer.plot_isosurface(f1_frame.features[0],\n",
    "#                        paint_with=f1_frame.features[0],\n",
    "#                        nslices=1,\n",
    "#                        slices=[0,1,5],\n",
    "# #                        colour='green',\n",
    "#                       )\n",
    "# viewer.plot_isosurface(f1_frame.features[1],\n",
    "# #                        nslices=10,\n",
    "#                        colour='green')\n",
    "# # viewer.plot_isosurface(f2_frame.features[0])\n",
    "# # viewer.plot_isosurface(f2_frame.features[1],\n",
    "# #                        colour='blue')\n",
    "# # viewer.plot_vector_data(locations,s1g,'s1g')\n",
    "# # viewer.plot_vector_data(locations,FX,'axis')\n",
    "# # viewer.plot_vector_data(locations,R2R,'r2r')\n",
    "# # viewer.plot_vector_data(locations,np.cross(R2R,FX,axisa=1,axisb=1),'folded')\n",
    "# viewer.plot_vector_data(xyz,s1g,'s0',size=2)\n",
    "# viewer.plot_vector_data(xyz,l2,'l2',size=2)\n",
    "# viewer.plot_vector_data(xyz,fold.get_fold_axis_orientation(xyz),'axis',size=2)\n",
    "# viewer.plot_vector_data(xyz,f2_frame.features[1].evaluate_gradient(xyz),'gy',size=2)\n",
    "# viewer.plot_vector_data(locations,r2r,'r2r')\n",
    "# viewer.plot_data(f1_frame.features[0])\n",
    "# viewer.interactive()"
   ]
  },
  {
   "cell_type": "code",
   "execution_count": null,
   "metadata": {
    "ExecuteTime": {
     "start_time": "2019-09-17T08:04:59.347Z"
    },
    "scrolled": false
   },
   "outputs": [],
   "source": [
    "# axis = fold.get_fold_axis_orientation(xyz)\n",
    "# axis/=np.linalg.norm(axis,axis=1)[:,None]\n",
    "# l2/=np.linalg.norm(l2,axis=1)[:,None]\n",
    "# gy = f2_frame.features[1].evaluate_gradient(xyz)\n",
    "\n",
    "# d = l2[:,0]*axis[:,0]+l2[:,1]*axis[:,1]+l2[:,2]*axis[:,2]\n",
    "# de = np.einsum('ij,ij->i',gy,l2)\n",
    "# print(np.rad2deg(np.arccos(de)))\n",
    "# viewer = LavaVuModelViewer(background=\"white\")\n",
    "\n",
    "# viewer.plot_vector_data(xyz[0:2,:],axis[0:2,:],'s0',size=2)\n",
    "# viewer.plot_vector_data(xyz[0:2,:],l2[0:2,:],'l2')\n",
    "# viewer.plot_vector_data(xyz[0:2,:],gy[0:2,:],'gy')\n",
    "\n",
    "# viewer.interactive()\n",
    "# print(np.rad2deg(np.arccos(d)))"
   ]
  },
  {
   "cell_type": "code",
   "execution_count": null,
   "metadata": {
    "ExecuteTime": {
     "start_time": "2019-09-17T08:04:59.349Z"
    }
   },
   "outputs": [],
   "source": [
    "axis = fold.get_fold_axis_orientation(xyz)\n",
    "axis/=np.linalg.norm(axis,axis=1)[:,None]\n",
    "l2/=np.linalg.norm(l2,axis=1)[:,None]\n",
    "gy = f2_frame.features[1].evaluate_gradient(xyz)\n",
    "\n",
    "\n",
    "print('gy l2',np.rad2deg(np.arccos(np.einsum('ij,ij->i',gy,l2))))\n",
    "print('gy axis',np.rad2deg(np.arccos(np.einsum('ij,ij->i',gy,axis))))\n",
    "print('axis l2',np.rad2deg(np.arccos(np.einsum('ij,ij->i',axis,l2))))\n",
    "\n"
   ]
  },
  {
   "cell_type": "code",
   "execution_count": null,
   "metadata": {
    "ExecuteTime": {
     "start_time": "2019-09-17T08:04:59.350Z"
    }
   },
   "outputs": [],
   "source": [
    "rot = fold.rot_mat(np.array([[0,0,1],[0,0,1],[0,0,1]]),np.array([65.,45,60]))\n",
    "# rotated = rot @ np.array([[1,0,0]])\n",
    "fold_axis = np.einsum('ijk,ki->kj',rot, np.array([[1,0,0],[1,0,0],[1,0,0]]))\n",
    "dot = fold_axis[0,:]*1.\n",
    "print(dot)\n",
    "print(np.rad2deg(np.arccos(dot)))"
   ]
  },
  {
   "cell_type": "code",
   "execution_count": null,
   "metadata": {
    "ExecuteTime": {
     "start_time": "2019-09-17T08:04:59.352Z"
    },
    "scrolled": false
   },
   "outputs": [],
   "source": [
    "dgx = f2_frame.features[0].evaluate_gradient(xyz)\n",
    "dgy = f2_frame.features[1].evaluate_gradient(xyz)\n",
    "# get gy\n",
    "gy = f2_frame.features[0].evaluate_value(xyz)\n",
    "dgx/=np.linalg.norm(dgx,axis=1)[:,None]\n",
    "dgy/=np.linalg.norm(dgy,axis=1)[:,None]\n",
    "R1 = fold.rot_mat(dgx,fold.fold_axis_rotation(gy))\n",
    "print(fold.fold_axis_rotation(gy))\n",
    "fold_axis = np.einsum('ijk,ki->kj',R1,dgy)\n",
    "# print(\n",
    "fold_axis/=np.linalg.norm(fold_axis,axis=1)[:,None]\n",
    "print(fold_axis.shape,dgy.shape)\n",
    "print(np.rad2deg(np.arccos(np.einsum('ij,ij->i',fold_axis,dgy))))\n",
    "# np.rad2deg(np.arccos(np.einsum('ij,ij->i',gy,l2))))"
   ]
  },
  {
   "cell_type": "code",
   "execution_count": null,
   "metadata": {
    "ExecuteTime": {
     "start_time": "2019-09-17T08:04:59.355Z"
    }
   },
   "outputs": [],
   "source": [
    "print(f1_frame.features[0].support.interpolator.get_control_points())"
   ]
  },
  {
   "cell_type": "code",
   "execution_count": null,
   "metadata": {
    "ExecuteTime": {
     "start_time": "2019-09-17T08:04:59.357Z"
    }
   },
   "outputs": [],
   "source": [
    "f1 = FoldEvent(f1_frame,None,None)\n",
    "stratigraphy_interpolator = DFI(mesh, f1)\n",
    "# #\n",
    "# # # ### Build the stratigraphy geological feature\n",
    "# # # We can build the stratigraphy geological feature using the fold interpolator object and\n",
    "# # # then linking the observations from the shapefile to the interpolator. .\n",
    "# #\n",
    "stratigraphy_builder = GeologicalFeatureInterpolator(stratigraphy_interpolator, \n",
    "                                                     name=\"folded_stratigraphy\")\n",
    "for r in data['s0_dir.csv']:\n",
    "    stratigraphy_builder.add_planar_constraint(r[:3],-r[3:])\n",
    "\n",
    "strati = stratigraphy_builder.build(cgw=0,solver=None)\n",
    "# viewer.plot_vector_data(strati.support.interpolator.get_gradient_control()[:,:3],\n",
    "#                         strati.support.interpolator.get_gradient_control()[:,3:],\n",
    "#                         \"strati_grad2\",\n",
    "#                         colour='green')\n",
    "strati_g = strati.support.interpolator.get_gradient_control()\n",
    "\n",
    "\n",
    "\n"
   ]
  },
  {
   "cell_type": "code",
   "execution_count": null,
   "metadata": {
    "ExecuteTime": {
     "start_time": "2019-09-17T08:04:59.359Z"
    }
   },
   "outputs": [],
   "source": [
    "xyz = strati_g[:,:3]#fold_frame1_builder.interpolators[0].get_gradient_control()[:,:3]\n",
    "s0g = strati_g[:,3:]##fold_frame1_builder.interpolators[0].get_gradient_control()[:,3:]\n",
    "l1 = f1_frame.calculate_intersection_lineation(np.hstack([xyz,s0g]))\n",
    "far = f1_frame.calculate_fold_axis_rotation(np.hstack([xyz,l1]))\n",
    "s1 = f1_frame.features[0].evaluate_value(xyz)\n",
    "s1gy = f1_frame.features[1].evaluate_value(xyz)\n",
    "axis_svariogram = SVariogram(s1gy,far)\n",
    "guess = np.array(axis_svariogram.find_wavelengths())\n",
    "guess[0] = guess[1]/2.\n",
    "\n",
    "far_tan = np.tan(np.deg2rad(far))\n",
    "xi = np.linspace(f1_frame.features[1].min(),\n",
    "                 f1_frame.features[1].max(), 1000)\n",
    "def fold_axis_rotation(x):\n",
    "    v = np.zeros(x.shape)\n",
    "    v[:] = np.mean(far)#0\n",
    "    return v\n",
    "    #return np.rad2deg(np.arctan(rbf_fold_axis(x,np.zeros(x.shape),np.zeros(x.shape))))\n",
    "f1.fold_axis_rotation = fold_axis_rotation\n",
    "\n",
    "axis = f1.get_fold_axis_orientation(xyz)\n",
    "flr = f1_frame.calculate_fold_limb_rotation(np.hstack([xyz,s0g]),axis=axis)\n",
    "limb_svariogram = SVariogram(s1,flr)\n",
    "guess = limb_svariogram.find_wavelengths()\n",
    "guess = np.array(limb_svariogram.find_wavelengths())\n",
    "guess[0] /=2\n",
    "\n",
    "flr_tan = np.tan(np.deg2rad(flr))\n",
    "limb_svariogram = SVariogram(s1,flr)\n",
    "guess = np.array(limb_svariogram.find_wavelengths())\n",
    "guess = np.zeros(4)\n",
    "guess[3] = 5000\n",
    "popt, pcov = curve_fit(fourier_series,s1,flr_tan,guess)\n",
    "xi = np.linspace(f1_frame.features[0].min(),f1_frame.features[0].max(),1000)\n",
    "def fold_limb_rotation(x):\n",
    "    return np.rad2deg(np.arctan(fourier_series(x,popt[0],popt[1],popt[2],popt[3])))\n",
    "\n",
    "# flr = fold_rotation_angle_feature(f2_frame,fold_limb_rotation)\n",
    "f1.fold_limb_rotation = fold_limb_rotation\n",
    "f1_limb_feature = fold_rotation_angle_feature(f1_frame,fold_limb_rotation)\n",
    "rotation_plots = RotationAnglePlotter()\n",
    "rotation_plots.add_fold_axis_data(far,s1gy)\n",
    "rotation_plots.add_axis_svariogram(axis_svariogram)\n",
    "rotation_plots.add_fold_axis_curve(fold.fold_axis_rotation(xi),xi)\n",
    "rotation_plots.add_fold_limb_data(flr,s1)\n",
    "rotation_plots.add_limb_svariogram(limb_svariogram)\n",
    "rotation_plots.add_fold_limb_curve(fold.fold_limb_rotation(xi), xi)\n",
    "rotation_plots.ax[0][0].set_title(\"Fold axis rotation angle S-Plot\")\n",
    "rotation_plots.ax[0][1].set_title(\"Fold axis rotation angle S-Variogram\")\n",
    "rotation_plots.ax[1][0].set_title(\"Fold limb rotation angle S-Plot\")\n",
    "rotation_plots.ax[1][1].set_title(\"Fold axis rotation angle S-Variogram\")\n"
   ]
  },
  {
   "cell_type": "code",
   "execution_count": null,
   "metadata": {
    "ExecuteTime": {
     "start_time": "2019-09-17T08:04:59.362Z"
    }
   },
   "outputs": [],
   "source": [
    "viewer = LavaVuModelViewer()\n",
    "viewer.plot_vector_data(strati_g[:,:3],strati_g[:,3:],'s0g')\n",
    "viewer.plot_vector_data(strati_g[:,:3],l1,'l1')\n",
    "\n",
    "viewer.plot_vector_data(strati_g[:,:3],\n",
    "                        f1_frame.features[1].evaluate_gradient(strati_g[:,:3]),\n",
    "                        'gy')\n",
    "viewer.plot_vector_data(strati_g[:,:3],\n",
    "                        f1_frame.features[0].evaluate_gradient(strati_g[:,:3]),\n",
    "                        'gx')\n",
    "viewer.plot_isosurface(f1_frame.features[0])\n",
    "viewer.plot_isosurface(f1_frame.features[1])\n",
    "\n",
    "viewer.interactive()"
   ]
  },
  {
   "cell_type": "code",
   "execution_count": null,
   "metadata": {},
   "outputs": [],
   "source": []
  },
  {
   "cell_type": "code",
   "execution_count": null,
   "metadata": {
    "ExecuteTime": {
     "start_time": "2019-09-17T08:04:59.365Z"
    }
   },
   "outputs": [],
   "source": [
    "s1_g = f1_frame.features[0].support.interpolator.get_gradient_control()\n"
   ]
  },
  {
   "cell_type": "code",
   "execution_count": null,
   "metadata": {
    "ExecuteTime": {
     "start_time": "2019-09-17T08:04:59.367Z"
    }
   },
   "outputs": [],
   "source": [
    "# viewer = LavaVuModelViewer()\n",
    "# # viewer.plot_data(folded_stratigraphy)\n",
    "# viewer.plot_vector_data(xyz,s0g,'s0g')\n",
    "# viewer.plot_vector_data(s1_g[:,:3],s1_g[:,3:],'s1g',colour='red')\n",
    "\n",
    "# # viewer.plot_vector_data(xyz,f1.get_fold_axis_orientation(xyz),'axis')\n",
    "# # viewer.plot_vector_data(xyz,f1_frame.features[1].evaluate_gradient(xyz),'f1_1')\n",
    "# viewer.plot_vector_data(xyz,l1,'l1')\n",
    "# viewer.plot_isosurface(f1_frame.features[0],\n",
    "#                        colour='green')\n",
    "# # viewer.plot_isosurface(f1_frame.features[1],\n",
    "# #                        nslices=10,\n",
    "# #                        colour='green')\n",
    "# viewer.interactive()"
   ]
  },
  {
   "cell_type": "code",
   "execution_count": null,
   "metadata": {
    "ExecuteTime": {
     "start_time": "2019-09-17T08:04:59.368Z"
    }
   },
   "outputs": [],
   "source": [
    "fold_weights = {}\n",
    "fold_weights['fold_orientation'] = 100. # reference values?\n",
    "fold_weights['fold_axis'] = 100. # reference values?\n",
    "fold_weights['fold_normalisation'] = 0#10. # reference values?\n",
    "fold_weights['fold_regularisation'] = 10.10\n",
    "# stratigraphy_builder.interpolator.p_g = []\n",
    "stratigraphy_builder.interpolator.n_g = 0\n",
    "folded_stratigraphy = stratigraphy_builder.build(solver='lu',\n",
    "                                                 cgw=0,\n",
    "                                                 fold_weights=fold_weights,\n",
    "                                                 fold=f1)"
   ]
  },
  {
   "cell_type": "code",
   "execution_count": null,
   "metadata": {
    "ExecuteTime": {
     "start_time": "2019-09-17T08:04:59.371Z"
    },
    "scrolled": false
   },
   "outputs": [],
   "source": [
    "viewer = LavaVuModelViewer(background=\"white\")\n",
    "viewer.plot_model_box(boundary_points,\n",
    "                      (100,100,50),\n",
    "                      's0',\n",
    "                      cmap='jet',\n",
    "                      paint_with=f1_limb_feature)\n",
    "viewer.plot_isosurface(f1_frame.features[0],\n",
    "                       colour='green')\n",
    "viewer.plot_isosurface(f1_frame.features[1],\n",
    "#                        nslices=10,\n",
    "                       colour='green')\n",
    "viewer.plot_isosurface(folded_stratigraphy,\n",
    "                       nslices=20,\n",
    "                       colour='blue')\n",
    "# viewer.plot_isosurface(f2_frame.features[0])\n",
    "# viewer.plot_isosurface(f2_frame.features[1],\n",
    "#                        colour='blue')\n",
    "viewer.plot_vector_data(xyz,f1.get_fold_axis_orientation(xyz),'axis')\n",
    "# viewer.plot_vector_data(locations,s1g,'s1g')\n",
    "# viewer.plot_vector_data(locations,FX,'axis')\n",
    "# viewer.plot_vector_data(locations,R2R,'r2r')\n",
    "# viewer.plot_vector_data(locations,np.cross(R2R,FX,axisa=1,axisb=1),'folded')\n",
    "viewer.plot_vector_data(xyz,s0g,'s0',size=2)\n",
    "viewer.interactive()"
   ]
  },
  {
   "cell_type": "code",
   "execution_count": null,
   "metadata": {},
   "outputs": [],
   "source": []
  }
 ],
 "metadata": {
  "kernelspec": {
   "display_name": "Python 3",
   "language": "python",
   "name": "python3"
  },
  "language_info": {
   "codemirror_mode": {
    "name": "ipython",
    "version": 3
   },
   "file_extension": ".py",
   "mimetype": "text/x-python",
   "name": "python",
   "nbconvert_exporter": "python",
   "pygments_lexer": "ipython3",
   "version": "3.6.8"
  },
  "varInspector": {
   "cols": {
    "lenName": 16,
    "lenType": 16,
    "lenVar": 40
   },
   "kernels_config": {
    "python": {
     "delete_cmd_postfix": "",
     "delete_cmd_prefix": "del ",
     "library": "var_list.py",
     "varRefreshCmd": "print(var_dic_list())"
    },
    "r": {
     "delete_cmd_postfix": ") ",
     "delete_cmd_prefix": "rm(",
     "library": "var_list.r",
     "varRefreshCmd": "cat(var_dic_list()) "
    }
   },
   "types_to_exclude": [
    "module",
    "function",
    "builtin_function_or_method",
    "instance",
    "_Feature"
   ],
   "window_display": false
  }
 },
 "nbformat": 4,
 "nbformat_minor": 2
}
