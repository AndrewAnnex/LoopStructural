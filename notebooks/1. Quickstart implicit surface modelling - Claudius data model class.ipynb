{
 "cells": [
  {
   "cell_type": "markdown",
   "metadata": {},
   "source": [
    "# Quickstart: Modelling a surface using geological observations\n",
    "This tutorial will demonstrate how to create an implicit surface representation of surfaces from a combination of orientation and location observations. \n",
    "\n",
    "Implicit surface representation involves finding an unknown function where $f(x,y,z)$ matches observations of the surface geometry. We generate a scalar field where the scalar value is the distance away from a reference horizon. The reference horizon is arbritary and can either be:\n",
    "\n",
    " * a single geological surface where the scalar field would represent the signed distance away from this surface. (above the surface positive and below negative)\n",
    " * Where multiple conformable horizons are observed the same scalar field can be used to represent these surfaces and the thickness of the layers is used to determine the relative scalar value for each surface\n",
    "\n",
    "\n",
    "This tutorial will demonstrate both of these approaches for modelling a number of horizons picked from seismic data sets."
   ]
  },
  {
   "cell_type": "code",
   "execution_count": 1,
   "metadata": {
    "ExecuteTime": {
     "end_time": "2019-10-29T23:59:15.971393Z",
     "start_time": "2019-10-29T23:59:15.086174Z"
    },
    "pycharm": {
     "is_executing": true
    },
    "scrolled": false
   },
   "outputs": [],
   "source": [
    "from LoopStructural import GeologicalModel\n",
    "from LoopStructural.visualisation import LavaVuModelViewer \n",
    "\n",
    "from LoopStructural.datasets import load_claudius #demo data \n",
    "\n",
    "import pandas as pd\n",
    "import glob\n",
    "import numpy as np\n",
    "%matplotlib inline"
   ]
  },
  {
   "cell_type": "code",
   "execution_count": 4,
   "metadata": {
    "ExecuteTime": {
     "end_time": "2019-10-30T00:18:28.536546Z",
     "start_time": "2019-10-30T00:18:28.528881Z"
    }
   },
   "outputs": [],
   "source": [
    "data, bb = load_claudius()#claudius.get_data()"
   ]
  },
  {
   "cell_type": "markdown",
   "metadata": {},
   "source": [
    "### Importing data\n",
    "There are numerous ways to import data into python for LoopStructural. For this example there are three types of files: \n",
    "\n",
    "* `Dips.csv` which are the orientation observations X,Y,Z,XOrient,YOrient,ZOrient\n",
    "* `_Points.csv` which are point observations of the contacts X,Y,Z,Strati\n",
    "* `_Section.csv` which are section interpetations of the contacts X,Y,Z,Strati\n",
    "\n",
    "The files can be imported into pandas dataframes. Three dataframes are created one for each of the observations types. "
   ]
  },
  {
   "cell_type": "markdown",
   "metadata": {
    "ExecuteTime": {
     "end_time": "2019-08-29T05:12:14.163319Z",
     "start_time": "2019-08-29T05:12:14.149529Z"
    }
   },
   "source": [
    "### GeologicalModel\n"
   ]
  },
  {
   "cell_type": "code",
   "execution_count": 5,
   "metadata": {
    "ExecuteTime": {
     "end_time": "2019-10-30T00:19:05.698844Z",
     "start_time": "2019-10-30T00:18:30.923089Z"
    }
   },
   "outputs": [
    {
     "data": {
      "text/plain": [
       "<LoopStructural.modelling.features.geological_feature.GeologicalFeature at 0x7f89485a1e10>"
      ]
     },
     "execution_count": 5,
     "metadata": {},
     "output_type": "execute_result"
    }
   ],
   "source": [
    "model = GeologicalModel(bb[0,:],bb[1,:])\n",
    "model.set_model_data(data)\n",
    "# model.data\n",
    "model.create_and_add_conformable_foliation(\"strati\",interpolatortype=\"FDI\",nelements=50000,buffer=0.3)#.2)"
   ]
  },
  {
   "cell_type": "code",
   "execution_count": null,
   "metadata": {
    "ExecuteTime": {
     "end_time": "2019-10-29T22:24:36.516582Z",
     "start_time": "2019-10-29T22:24:35.013573Z"
    }
   },
   "outputs": [],
   "source": [
    "viewer = LavaVuModelViewer(background=\"white\")\n",
    "\n",
    "# determine the number of unique surfaces in the model from the input data and then calculate isosurfaces for this\n",
    "unique = np.unique(model.features[0].support.interpolator.get_value_constraints()[:,3])\n",
    "# print(unique)\n",
    "viewer.add_isosurface(model.features[0], \n",
    "                       slices=unique,  \n",
    "                       cmap='prism',\n",
    "                      paint_with=model.features[0])\n",
    "\n",
    "# viewer.add_isosurface(model.features[1], \n",
    "#                        slices=unique,  \n",
    "#                        colour='blue')\n",
    "viewer.add_section(model.features[0],\n",
    "                   axis='x',\n",
    "                   boundary_points=model.bounding_box, \n",
    "                   nsteps=np.array([30,30,30]),\n",
    "                  cmap='prism')\n",
    "viewer.add_scalar_field(model.bounding_box,(38,55,30),\n",
    "                      'box',\n",
    "                     paint_with=model.features[0],\n",
    "                     cmap='prism')\n",
    "\n",
    "# Add the data addgrad/addvalue arguments are optional\n",
    "viewer.add_data(model.features[0],addgrad=True,addvalue=True, cmap='prism')\n",
    "viewer.lv.rotate([-85.18760681152344, 42.93233871459961, 0.8641873002052307])\n",
    "viewer.interactive()# to add an interactive display\n",
    "# viewer.lv.display()\n"
   ]
  },
  {
   "cell_type": "code",
   "execution_count": null,
   "metadata": {},
   "outputs": [],
   "source": []
  }
 ],
 "metadata": {
  "kernelspec": {
   "display_name": "LoopStructural",
   "language": "python",
   "name": "loopstructural"
  },
  "language_info": {
   "codemirror_mode": {
    "name": "ipython",
    "version": 3
   },
   "file_extension": ".py",
   "mimetype": "text/x-python",
   "name": "python",
   "nbconvert_exporter": "python",
   "pygments_lexer": "ipython3",
   "version": "3.6.8"
  },
  "varInspector": {
   "cols": {
    "lenName": 16,
    "lenType": 16,
    "lenVar": 40
   },
   "kernels_config": {
    "python": {
     "delete_cmd_postfix": "",
     "delete_cmd_prefix": "del ",
     "library": "var_list.py",
     "varRefreshCmd": "print(var_dic_list())"
    },
    "r": {
     "delete_cmd_postfix": ") ",
     "delete_cmd_prefix": "rm(",
     "library": "var_list.r",
     "varRefreshCmd": "cat(var_dic_list()) "
    }
   },
   "types_to_exclude": [
    "module",
    "function",
    "builtin_function_or_method",
    "instance",
    "_Feature"
   ],
   "window_display": false
  }
 },
 "nbformat": 4,
 "nbformat_minor": 4
}
