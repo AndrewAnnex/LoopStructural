{
 "cells": [
  {
   "cell_type": "markdown",
   "metadata": {},
   "source": [
    "# Modelling polydeformation"
   ]
  },
  {
   "cell_type": "markdown",
   "metadata": {},
   "source": [
    "### Import the Forward Modelling Engine modules - LoopStructural"
   ]
  },
  {
   "cell_type": "code",
   "execution_count": 1,
   "metadata": {
    "ExecuteTime": {
     "end_time": "2019-10-03T00:39:37.290246Z",
     "start_time": "2019-10-03T00:39:36.419370Z"
    }
   },
   "outputs": [],
   "source": [
    "#import the Forward Modelling Engine modules - LoopStructural\n",
    "from LoopStructural.interpolators.piecewiselinear_interpolator import PiecewiseLinearInterpolator as PLI\n",
    "from LoopStructural.interpolators.discrete_fold_interpolator import DiscreteFoldInterpolator as DFI\n",
    "from LoopStructural.modelling.features.geological_feature import GeologicalFeatureInterpolator\n",
    "from LoopStructural.modelling.structural_frame import StructuralFrameBuilder\n",
    "from LoopStructural.modelling.fold.foldframe import FoldFrame\n",
    "from LoopStructural.modelling.fold.fold import FoldEvent\n",
    "from LoopStructural.modelling.fold.svariogram import SVariogram\n",
    "from LoopStructural.modelling.fold.fold_rotation_angle_feature import FoldRotationAngleFeature, fourier_series\n",
    "from LoopStructural.supports.tet_mesh import TetMesh\n",
    "from LoopStructural.visualisation.model_visualisation import LavaVuModelViewer\n",
    "from LoopStructural.visualisation.rotation_angle_plotter import RotationAnglePlotter\n",
    "from LoopStructural.visualisation.map_viewer import MapView\n",
    "# import other libraries\n",
    "import pandas as pd\n",
    "import numpy as np\n",
    "import glob\n",
    "import os\n",
    "from scipy.interpolate import Rbf\n",
    "from scipy.optimize import curve_fit\n",
    "\n",
    "import matplotlib.pyplot as plt\n"
   ]
  },
  {
   "cell_type": "markdown",
   "metadata": {},
   "source": [
    "### Load data from csv files\n",
    "Use glob to find all csvs in directory and then import into a dictionary of pandas data frames"
   ]
  },
  {
   "cell_type": "code",
   "execution_count": 2,
   "metadata": {
    "ExecuteTime": {
     "end_time": "2019-10-03T00:39:38.007496Z",
     "start_time": "2019-10-03T00:39:37.986585Z"
    }
   },
   "outputs": [],
   "source": [
    "data ={}\n",
    "for f in glob.glob('data/noddy_synth/*.csv'):\n",
    "    data[os.path.basename(f)] = np.loadtxt(f,delimiter=\" \")\n",
    "    \n",
    "origin = (0,0,0)\n",
    "maximum = (10000,10000,5000)"
   ]
  },
  {
   "cell_type": "markdown",
   "metadata": {},
   "source": [
    "### Building the Mesh\n",
    "Build a mesh that covers at least the area of interest. In this case use the origin and maximum extent. Define the number of tetras - start with a moderate number 50k and work upwards when the model is working."
   ]
  },
  {
   "cell_type": "code",
   "execution_count": 3,
   "metadata": {
    "ExecuteTime": {
     "end_time": "2019-10-03T00:39:39.668554Z",
     "start_time": "2019-10-03T00:39:38.706889Z"
    }
   },
   "outputs": [],
   "source": [
    "boundary_points = np.zeros((2,3))\n",
    "buffer = 200 # make the mesh bigger than the model area\n",
    "boundary_points[0,0] = origin[0] \n",
    "boundary_points[0,1] = origin[1] \n",
    "boundary_points[0,2] = origin[2]\n",
    "boundary_points[1,0] = maximum[0]\n",
    "boundary_points[1,1] = maximum[1]\n",
    "boundary_points[1,2] = maximum[2]\n",
    "boundary_points[0,:] -= buffer\n",
    "boundary_points[1,:] += buffer\n",
    "mesh = TetMesh()\n",
    "mesh.setup_mesh(boundary_points, n_tetra=50000,)\n",
    "\n",
    "boundary_points[0,:] += buffer\n",
    "boundary_points[1,:] -= buffer"
   ]
  },
  {
   "cell_type": "markdown",
   "metadata": {},
   "source": [
    "### Building the Fold Frame F2"
   ]
  },
  {
   "cell_type": "markdown",
   "metadata": {},
   "source": [
    "Associate the different coordinates of the fold frame with the data that defines their geometry.\n",
    "\n",
    "* coordinate 0 is associated with the axial foliation\n",
    "* coordinate 1 is associated with the fold axis direction which is either an observation of the fold axis or can be defined as the strike rotated by 90"
   ]
  },
  {
   "cell_type": "code",
   "execution_count": 4,
   "metadata": {
    "ExecuteTime": {
     "end_time": "2019-10-03T00:39:40.856140Z",
     "start_time": "2019-10-03T00:39:40.834184Z"
    }
   },
   "outputs": [
    {
     "name": "stdout",
     "output_type": "stream",
     "text": [
      "adding\n",
      "adding\n",
      "adding\n",
      "adding\n",
      "adding\n",
      "adding\n",
      "adding\n",
      "adding\n",
      "adding\n"
     ]
    }
   ],
   "source": [
    "#print(data['s2_dir.csv'])\n",
    "fold_frame2_interpolator = PLI(mesh)\n",
    "fold_frame2_builder = StructuralFrameBuilder(\n",
    "    interpolator=fold_frame2_interpolator,\n",
    "    mesh=mesh,\n",
    "    name='F2_fold_frame')\n",
    "# Interfacing with dataframes should be done using a convenience wrapper function\n",
    "for r in data['s2_dir.csv']:\n",
    "    if r[3] < -10:\n",
    "        continue\n",
    "    print('adding')\n",
    "    fold_frame2_builder.add_planar_constraint(r[0:3],-r[3:],coord=0)\n",
    "    fold_frame2_builder.add_planar_constraint(r[0:3],[r[4],r[3],r[5]],coord=1)\n",
    "\n",
    "r = data['s2_val.csv']\n",
    "fold_frame2_builder.add_point(r[0:3],r[3],itype='gx')\n",
    "fold_frame2_builder.add_point(r[0:3],r[3],itype='gy')"
   ]
  },
  {
   "cell_type": "markdown",
   "metadata": {},
   "source": [
    "Run interpolation with default parameters using lu solver. When building a fold frame, which is a type of structural frame it is important to pass the `kwarg=FoldFrame` so that the builder knows to build a fold frame not a base StructuralFrame."
   ]
  },
  {
   "cell_type": "code",
   "execution_count": 5,
   "metadata": {
    "ExecuteTime": {
     "end_time": "2019-10-03T00:39:43.604078Z",
     "start_time": "2019-10-03T00:39:43.496087Z"
    },
    "scrolled": false
   },
   "outputs": [
    {
     "name": "stdout",
     "output_type": "stream",
     "text": [
      "<class 'LoopStructural.modelling.core.geological_points.GPoint'>\n"
     ]
    },
    {
     "ename": "AttributeError",
     "evalue": "'GPoint' object has no attribute 'type'",
     "output_type": "error",
     "traceback": [
      "\u001b[0;31m---------------------------------------------------------------------------\u001b[0m",
      "\u001b[0;31mAttributeError\u001b[0m                            Traceback (most recent call last)",
      "\u001b[0;32m<ipython-input-5-45ef6c4d43ab>\u001b[0m in \u001b[0;36m<module>\u001b[0;34m\u001b[0m\n\u001b[1;32m      1\u001b[0m f2_frame = fold_frame2_builder.build(\n\u001b[1;32m      2\u001b[0m     \u001b[0mframe\u001b[0m\u001b[0;34m=\u001b[0m\u001b[0mFoldFrame\u001b[0m\u001b[0;34m,\u001b[0m\u001b[0;34m\u001b[0m\u001b[0;34m\u001b[0m\u001b[0m\n\u001b[0;32m----> 3\u001b[0;31m     \u001b[0msolver\u001b[0m\u001b[0;34m=\u001b[0m\u001b[0;34m'lu'\u001b[0m\u001b[0;34m,\u001b[0m\u001b[0;34m\u001b[0m\u001b[0;34m\u001b[0m\u001b[0m\n\u001b[0m\u001b[1;32m      4\u001b[0m )\n",
      "\u001b[0;32m~/fme/lib/python3.6/site-packages/LoopStructural-0.0.0-py3.6-linux-x86_64.egg/LoopStructural/modelling/structural_frame.py\u001b[0m in \u001b[0;36mbuild\u001b[0;34m(self, solver, frame, **kwargs)\u001b[0m\n\u001b[1;32m    256\u001b[0m         \u001b[0;32mfor\u001b[0m \u001b[0mi\u001b[0m \u001b[0;32min\u001b[0m \u001b[0mrange\u001b[0m\u001b[0;34m(\u001b[0m\u001b[0;36m3\u001b[0m\u001b[0;34m)\u001b[0m\u001b[0;34m:\u001b[0m\u001b[0;34m\u001b[0m\u001b[0;34m\u001b[0m\u001b[0m\n\u001b[1;32m    257\u001b[0m             \u001b[0;32mfor\u001b[0m \u001b[0md\u001b[0m \u001b[0;32min\u001b[0m \u001b[0mself\u001b[0m\u001b[0;34m.\u001b[0m\u001b[0mdata\u001b[0m\u001b[0;34m[\u001b[0m\u001b[0mi\u001b[0m\u001b[0;34m]\u001b[0m\u001b[0;34m:\u001b[0m\u001b[0;34m\u001b[0m\u001b[0;34m\u001b[0m\u001b[0m\n\u001b[0;32m--> 258\u001b[0;31m                 \u001b[0mself\u001b[0m\u001b[0;34m.\u001b[0m\u001b[0minterpolators\u001b[0m\u001b[0;34m[\u001b[0m\u001b[0mi\u001b[0m\u001b[0;34m]\u001b[0m\u001b[0;34m.\u001b[0m\u001b[0madd_data\u001b[0m\u001b[0;34m(\u001b[0m\u001b[0md\u001b[0m\u001b[0;34m)\u001b[0m\u001b[0;34m\u001b[0m\u001b[0;34m\u001b[0m\u001b[0m\n\u001b[0m\u001b[1;32m    259\u001b[0m         \u001b[0;31m# initialise features as none then where data exists build\u001b[0m\u001b[0;34m\u001b[0m\u001b[0;34m\u001b[0m\u001b[0;34m\u001b[0m\u001b[0m\n\u001b[1;32m    260\u001b[0m         \u001b[0mgx_feature\u001b[0m \u001b[0;34m=\u001b[0m \u001b[0;32mNone\u001b[0m\u001b[0;34m\u001b[0m\u001b[0;34m\u001b[0m\u001b[0m\n",
      "\u001b[0;32m~/fme/lib/python3.6/site-packages/LoopStructural-0.0.0-py3.6-linux-x86_64.egg/LoopStructural/interpolators/geological_interpolator.py\u001b[0m in \u001b[0;36madd_data\u001b[0;34m(self, data)\u001b[0m\n\u001b[1;32m    110\u001b[0m         \"\"\"\n\u001b[1;32m    111\u001b[0m         \u001b[0mprint\u001b[0m\u001b[0;34m(\u001b[0m\u001b[0mGPoint\u001b[0m\u001b[0;34m)\u001b[0m\u001b[0;34m\u001b[0m\u001b[0;34m\u001b[0m\u001b[0m\n\u001b[0;32m--> 112\u001b[0;31m         \u001b[0;32mif\u001b[0m \u001b[0mdata\u001b[0m\u001b[0;34m.\u001b[0m\u001b[0mtype\u001b[0m \u001b[0;34m==\u001b[0m \u001b[0;34m'GPoint'\u001b[0m\u001b[0;34m:\u001b[0m\u001b[0;34m\u001b[0m\u001b[0;34m\u001b[0m\u001b[0m\n\u001b[0m\u001b[1;32m    113\u001b[0m             \u001b[0mself\u001b[0m\u001b[0;34m.\u001b[0m\u001b[0mp_g\u001b[0m\u001b[0;34m.\u001b[0m\u001b[0mappend\u001b[0m\u001b[0;34m(\u001b[0m\u001b[0mdata\u001b[0m\u001b[0;34m)\u001b[0m\u001b[0;34m\u001b[0m\u001b[0;34m\u001b[0m\u001b[0m\n\u001b[1;32m    114\u001b[0m             \u001b[0mself\u001b[0m\u001b[0;34m.\u001b[0m\u001b[0mn_g\u001b[0m\u001b[0;34m+=\u001b[0m\u001b[0;36m1\u001b[0m\u001b[0;34m\u001b[0m\u001b[0;34m\u001b[0m\u001b[0m\n",
      "\u001b[0;31mAttributeError\u001b[0m: 'GPoint' object has no attribute 'type'"
     ]
    }
   ],
   "source": [
    "f2_frame = fold_frame2_builder.build(\n",
    "    frame=FoldFrame,\n",
    "    solver='lu',\n",
    ")"
   ]
  },
  {
   "cell_type": "markdown",
   "metadata": {},
   "source": [
    "Now we can visualize the fold frame isosurfaces with Lavavu"
   ]
  },
  {
   "cell_type": "code",
   "execution_count": null,
   "metadata": {
    "ExecuteTime": {
     "end_time": "2019-10-03T00:10:28.480799Z",
     "start_time": "2019-10-03T00:10:26.415Z"
    },
    "scrolled": false
   },
   "outputs": [],
   "source": [
    "# structural_map = MapView(origin[:2],maximum[:2],(100,100))\n",
    "# structural_map.plot_feature(f2_frame[0])\n",
    "# structural_map.add_data_to_plot(f2_frame[1])"
   ]
  },
  {
   "cell_type": "code",
   "execution_count": null,
   "metadata": {
    "ExecuteTime": {
     "end_time": "2019-10-03T00:10:28.482178Z",
     "start_time": "2019-10-03T00:10:26.421Z"
    }
   },
   "outputs": [],
   "source": [
    "print(f2_frame[0].support.interpolator.p_g)"
   ]
  },
  {
   "cell_type": "code",
   "execution_count": null,
   "metadata": {
    "ExecuteTime": {
     "end_time": "2019-10-03T00:10:28.483214Z",
     "start_time": "2019-10-03T00:10:26.427Z"
    }
   },
   "outputs": [],
   "source": [
    "viewer = LavaVuModelViewer(background=\"white\")\n",
    "viewer.add_scalar_field(boundary_points,\n",
    "                      (100,100,50),\n",
    "                      's2',\n",
    "                      paint_with=f2_frame.features[0],\n",
    "                     cmap='jet')\n",
    "# viewer.add_isosurface(f2_frame.features[0],  colour='green')\n",
    "# viewer.add_isosurface(f2_frame.features[1],  colour='blue')\n",
    "viewer.add_data(f2_frame.features[0])\n",
    "viewer.interactive()"
   ]
  },
  {
   "cell_type": "markdown",
   "metadata": {},
   "source": [
    "#### Create a fold linked to the fold frame<br>\n",
    "We need to create a fold event that links our fold frame to the fold event so that it can given to the fold interpolator."
   ]
  },
  {
   "cell_type": "code",
   "execution_count": null,
   "metadata": {
    "ExecuteTime": {
     "end_time": "2019-10-03T00:10:28.484456Z",
     "start_time": "2019-10-03T00:10:26.434Z"
    }
   },
   "outputs": [],
   "source": [
    "fold = FoldEvent(f2_frame,None,None)"
   ]
  },
  {
   "cell_type": "markdown",
   "metadata": {},
   "source": [
    "## Build F1 Fold frame\n",
    "### Using fold interpolator\n",
    "The DiscreteFoldInterpolator is a PiecewiseLinearInterpolator that adds additional constraints to the interpolation process using the geometry of the fold. It can be initialised using a fold and mesh. "
   ]
  },
  {
   "cell_type": "code",
   "execution_count": null,
   "metadata": {
    "ExecuteTime": {
     "end_time": "2019-10-03T00:10:28.485555Z",
     "start_time": "2019-10-03T00:10:26.443Z"
    }
   },
   "outputs": [],
   "source": [
    "f1_fold_interpolator = DFI(mesh,fold)"
   ]
  },
  {
   "cell_type": "markdown",
   "metadata": {},
   "source": [
    "### Link data and initialise interpolators\n",
    "Create a fold frame object using a base PLI interpolator as that is what will be used for the 2nd and 3rd coordinates of the fold frame. \n",
    "Update the interpolator to a fold interpolator by accessing the interpolator and update the property name for this interpolator:\n",
    "```Python\n",
    "fold_frame1_builder.interpolators[0] = f1_fold_interpolator\n",
    "fold_frame1_builder.interpolators[0].set_property_name(fold_frame1_builder.name+'_gx')\n",
    "```\n",
    "Follow the standard procedure for associating data with the interpolator. \n",
    "\n"
   ]
  },
  {
   "cell_type": "code",
   "execution_count": null,
   "metadata": {
    "ExecuteTime": {
     "end_time": "2019-10-03T00:10:28.486503Z",
     "start_time": "2019-10-03T00:10:26.450Z"
    }
   },
   "outputs": [],
   "source": [
    "#print(data['s2_dir.csv'])\n",
    "fold_frame1_interpolator = PLI(mesh)\n",
    "fold_frame1_builder = StructuralFrameBuilder(\n",
    "    interpolator=fold_frame1_interpolator,\n",
    "    mesh=mesh,\n",
    "    name='F1_fold_frame')\n",
    "# update the coordinate 0 interpolator to be a fold interpolator\n",
    "fold_frame1_builder.interpolators[0] = f1_fold_interpolator\n",
    "fold_frame1_builder.interpolators[0].set_property_name(fold_frame1_builder.name+'_gx')\n",
    "for r in data['s1_dir.csv']:\n",
    "    if r[3] < -10:\n",
    "        continue\n",
    "    fold_frame1_builder.add_planar_constraint(r[0:3],r[3:],itype='gx')\n",
    "\n",
    "# because type 3 interference the gy can be the same for different folds.\n",
    "for r in data['s2_dir.csv']:\n",
    "    if r[3] < -10:\n",
    "        continue\n",
    "#     fold_frame2_builder.add_planar_constraint(r[0:3],-r[3:],itype='gx')\n",
    "    fold_frame1_builder.add_planar_constraint(r[0:3],[r[4],r[3],r[5]],itype='gy')\n",
    "    \n",
    "for r in data['s1_val.csv']:\n",
    "    fold_frame1_builder.add_point(r[0:3],r[3],itype='gx')\n",
    "r = data['s2_val.csv']\n",
    "# fold_frame1_builder.add_point(r[0:3],r[3],itype='gx')\n",
    "fold_frame1_builder.add_point(r[0:3],r[3],itype='gy')"
   ]
  },
  {
   "cell_type": "markdown",
   "metadata": {},
   "source": [
    "### Creating S-Plot and S-Variograms\n",
    "The S-Plot is a cross plot of the fold rotation angle and the fold frame coordinate, the S-Variogram is an experimental semi-variogram calculated using the fold frame coordinate. To create both of these plots calculate both of these we need to first initialise the interpolators by calling build without a solver.\n",
    "```Python\n",
    "fold_frame1_builder.build(solver=None)\n",
    "```\n",
    "#### Calculating the fold axis rotation angle\n",
    "This makes the builder link the data to the interpolator object.\n",
    "\n",
    "The first step is to calculate the fold axis rotation angle, which calculates the intersection lineation between the first coordinate of the fold frame (the axial foliation field) and the folded foliation and then the angle between this lineation and the gradient of the second coordinate of the fold frame.\n",
    "```Python\n",
    "far = f2_frame.calculate_fold_axis_rotation(\n",
    "    fold_frame1_builder.interpolators[0].get_gradient_control())\n",
    "```\n",
    "The value of the second coordinate of the fold frame can then be calculated by evaluating the value for all of the locations of the intersection lineation.\n",
    "\n",
    "```Python\n",
    "s2gy = f2_frame.features[1].evaluate_value(\n",
    "    fold_frame1_builder.interpolators[0].get_gradient_control()[:,:3])\n",
    "```\n",
    "A SVariogram can then be calculated for these values\n",
    "```Python\n",
    "axis_svariogram = SVariogram(s2gy,far)\n",
    "```\n",
    "The SVariogram can be run by calling `calc_semivariogram()` or by specifying some kwargs:\n",
    "\n",
    "* step and nstep - size of semi-variogram lag and number of lags\n",
    "* lag array of lags\n",
    "\n",
    "Another useful tool is to calculate the intesection lineation for visualisation of the model results. \n",
    "```Python\n",
    "l2 = l2 = f2_frame.calculate_intersection_lineation(\n",
    "    fold_frame1_builder.interpolators[0].get_gradient_control())\n",
    "```\n"
   ]
  },
  {
   "cell_type": "code",
   "execution_count": null,
   "metadata": {
    "ExecuteTime": {
     "end_time": "2019-10-03T00:10:28.487583Z",
     "start_time": "2019-10-03T00:10:26.454Z"
    }
   },
   "outputs": [],
   "source": [
    "fold_frame1_builder.build(solver=None) # fake build to get data in right form\n",
    "far = f2_frame.calculate_fold_axis_rotation(\n",
    "    fold_frame1_builder.interpolators[0].get_gradient_control())\n",
    "s2gy = f2_frame.features[1].evaluate_value(\n",
    "    fold_frame1_builder.interpolators[0].get_gradient_control()[:,:3])\n",
    "axis_svariogram = SVariogram(s2gy,far)\n",
    "lags, variogram, npairs = axis_svariogram.calc_semivariogram()\n",
    "# optionally calculate the intersection lineation for visualisation\n",
    "l2 = f2_frame.calculate_intersection_lineation(\n",
    "    fold_frame1_builder.interpolators[0].get_gradient_control())"
   ]
  },
  {
   "cell_type": "markdown",
   "metadata": {},
   "source": [
    "These can be plotted using matplotlib, in this example the number of pairs is plotted semi-transparently on a separate axis to the semi-variogram. For more information on how to customise the matplotlib plot layouts see the matploblib documentation "
   ]
  },
  {
   "cell_type": "code",
   "execution_count": null,
   "metadata": {
    "ExecuteTime": {
     "end_time": "2019-10-03T00:10:28.488531Z",
     "start_time": "2019-10-03T00:10:26.457Z"
    }
   },
   "outputs": [],
   "source": [
    "fig, ax = plt.subplots(1,2,figsize=(10,5),)\n",
    "ax[0].plot(s2gy,far,'bo')\n",
    "ax[0].set_ylabel('Fold axis rotation angle')\n",
    "ax[0].set_xlabel('Fold frame coordinate 1 value')\n",
    "\n",
    "npairsax = ax[1].twinx()\n",
    "npairsax.bar(lags,npairs,lags[1]-lags[0],color='grey',alpha=0.5)\n",
    "npairsax.set_ylabel('Number of Pairs')\n",
    "\n",
    "ax[1].plot(lags,variogram,'bo')\n",
    "ax[1].set_ylabel('Fold axis variogram')\n",
    "ax[1].set_xlabel('S-Variogram lags')\n",
    "\n",
    "\n",
    "ax[0].set_ylim(-90,90)"
   ]
  },
  {
   "cell_type": "markdown",
   "metadata": {},
   "source": [
    "There are two options for specifying the fold axis for the model:\n",
    "\n",
    "1. Specify the fold axis as a constant vector\n",
    "2. Specifying the fold axis as a rotation of the second coordinate of the fold frame. \n",
    "\n",
    "Looking at the S-Plot above it is clear that the fold axis is constant in this example. The easiest option is to just use the average of the intersection lineation.\n",
    "\n",
    "The fold object needs to be updated with either a fold_axis_rotation angle or a fold_axis:\n",
    "```Python\n",
    "fold.fold_axis = np.array([vx,vy,vz])\n",
    "fold.fold_axis_rotation = f(x)\n",
    "```\n",
    "\n",
    "In this case the fold axis will be set to the average of the l2 intersection lineation."
   ]
  },
  {
   "cell_type": "code",
   "execution_count": null,
   "metadata": {
    "ExecuteTime": {
     "end_time": "2019-10-03T00:10:28.489534Z",
     "start_time": "2019-10-03T00:10:26.470Z"
    }
   },
   "outputs": [],
   "source": [
    "fold.fold_axis = np.mean(l2,axis=0)\n",
    "print(fold.fold_axis)"
   ]
  },
  {
   "cell_type": "markdown",
   "metadata": {},
   "source": [
    "#### Calculating the fold limb rotation angle\n",
    "To calculate the fold limb rotation angle the fold axis must be evaluated for all of the locations of the data points. \n",
    "```Python\n",
    "axis = fold.get_fold_axis_orientation(\n",
    "    fold_frame1_builder.interpolators[0].get_gradient_control()[:,:3])\n",
    "``` \n",
    "This returns an Nx3 numpy array for the fold axis at all of the locations. \n",
    "The fold limb rotation angle can then be calculated by calling:\n",
    "```Python\n",
    "flr = f2_frame.calculate_fold_limb_rotation(\n",
    "    fold_frame1_builder.interpolators[0].get_gradient_control(),axis=axis)\n",
    "```\n",
    "Where the first argument is a Nx6 array of locations and orientation vectors. The axis argument is optional (and in this case not necessary) but provides a fold axis for the vectors to be projected on before the angle is calculated. This becomes more important when using more complicated models.  "
   ]
  },
  {
   "cell_type": "code",
   "execution_count": null,
   "metadata": {
    "ExecuteTime": {
     "end_time": "2019-10-03T00:10:28.490465Z",
     "start_time": "2019-10-03T00:10:26.473Z"
    }
   },
   "outputs": [],
   "source": [
    "axis = fold.get_fold_axis_orientation(\n",
    "    fold_frame1_builder.interpolators[0].get_gradient_control()[:,:3])\n",
    "flr = f2_frame.calculate_fold_limb_rotation(\n",
    "    fold_frame1_builder.interpolators[0].get_gradient_control(),axis=axis)\n",
    "\n",
    "s2 = f2_frame.features[0].evaluate_value(\n",
    "    fold_frame1_builder.interpolators[0].get_gradient_control()[:,:3])\n",
    "\n",
    "\n",
    "limb_svariogram = SVariogram(s2,flr)\n",
    "\n",
    "lags, variogram, npairs = limb_svariogram.calc_semivariogram()\n"
   ]
  },
  {
   "cell_type": "markdown",
   "metadata": {},
   "source": [
    "Plotting as for the fold axis rotation angle"
   ]
  },
  {
   "cell_type": "code",
   "execution_count": null,
   "metadata": {
    "ExecuteTime": {
     "end_time": "2019-10-03T00:10:28.491575Z",
     "start_time": "2019-10-03T00:10:26.477Z"
    }
   },
   "outputs": [],
   "source": [
    "fig, ax = plt.subplots(1,2,figsize=(10,5),)\n",
    "ax[0].plot(s2,flr,'bo')\n",
    "ax[0].set_ylabel('Fold limb rotation angle')\n",
    "ax[0].set_xlabel('Fold frame coordinate 0 value')\n",
    "\n",
    "npairsax = ax[1].twinx()\n",
    "npairsax.bar(lags,npairs,lags[1]-lags[0],color='grey',alpha=0.5)\n",
    "npairsax.set_ylabel('Number of Pairs')\n",
    "\n",
    "ax[1].plot(lags,variogram,'bo')\n",
    "ax[1].set_ylabel('Fold limb variogram')\n",
    "ax[1].set_xlabel('S-Variogram lags')\n",
    "\n",
    "\n",
    "t = ax[0].set_ylim(-90,90)"
   ]
  },
  {
   "cell_type": "markdown",
   "metadata": {},
   "source": [
    "In this example the fold rotation angle appears to be periodic. A clear peak can be seen in the S-Variogram at ~2000m. The hole at 4000m suggests that the wavelength of the data in the S-Plot is 4000m. \n",
    "\n",
    "This type of profile indicates that a simple sine wave or low complexity Fourier series can be used to represent this dataset as for these observations the data is periodic. \n",
    "\n",
    "#### Fitting the fold rotation angle\n",
    "A Fourier series is preferable as it has some flexibility in the shape of the curve between periods. The basic form of a Fourier series is:\n",
    "\\begin{equation}\n",
    "f(x) = a_0 + \\sum_{k=1}^N \\left( A_k cos(\\frac{k\\pi x}{\\lambda}) + B_k sin(\\frac{k\\pi x}{\\lambda}) \\right)\n",
    "\\end{equation}\n",
    "Where N is the number of terms in the Fourier series. \n",
    "For $N = 1$ the Fourier series can be implemented as a numpy function.\n",
    "\n",
    "```Python\n",
    "def fourier_series(x,c0,c1,c2,w):\n",
    "    v = np.array(x.astype(float))\n",
    "    v.fill(c0)\n",
    "    v = c0 + c1*np.cos(2*np.pi/w*x) + c2*np.sin(2*np.pi/w*x)\n",
    "    return np.rad2deg(np.arctan(v))\n",
    "```\n",
    "Rather than fitting the fold rotation angles directly the fourier series should be fit to the gradient of the fold shape which can be calculated by finding the tangent of the fold rotation angle.\n",
    "\n",
    "We use scipy optimise to fit the three Fourier coefficients c0,c1,c2 and the wavelength w. Because we want to fit the wavelength and coefficients simultaneously it is necessary to use a non-linear solver. Therefore initial estimates of the parameter values are necessary to help the optimizer converge. \n",
    "\n",
    "In this case the Fourier coefficients can be initialised at 0.0 and the wavelength estimated from the S-Variogram at 4000.\n",
    "\n",
    "Once the fourier series has been fitted this can be wrapped inside a fold rotation angle function and linked to the fold.\n",
    "```Python\n",
    "def fold_limb_rotation(x):\n",
    "    return np.rad2deg(np.arctan(fourier_series(x,popt[0],popt[1],popt[2],popt[3])))\n",
    "fold.fold_limb_rotation = fold_limb_rotation\n",
    "```\n",
    "\n",
    "For visualisation it is also possible to create a geological feature that is the fold rotation angle.\n",
    "\n",
    "```Python\n",
    "fold_rotation_feature = fold_rotation_angle_feature(fold_frame,fold_rotation)\n",
    "```"
   ]
  },
  {
   "cell_type": "code",
   "execution_count": null,
   "metadata": {
    "ExecuteTime": {
     "end_time": "2019-10-03T00:10:28.492542Z",
     "start_time": "2019-10-03T00:10:26.492Z"
    }
   },
   "outputs": [],
   "source": [
    "wavelength_guess = 4000\n",
    "flr_tan = np.tan(np.deg2rad(flr))\n",
    "\n",
    "guess = np.zeros(4)\n",
    "guess[3] = wavelength_guess\n",
    "\n",
    "popt, pcov = curve_fit(fourier_series,s2,flr_tan,guess)\n",
    "xi = np.linspace(f2_frame.features[0].min(),f2_frame.features[0].max(),1000)\n",
    "def fold_limb_rotation(x):\n",
    "    return np.rad2deg(np.arctan(fourier_series(x,popt[0],popt[1],popt[2],popt[3])))\n",
    "# flr_feature = fold_rotation_angle_feature(f2_frame,fold_limb_rotation)\n",
    "fold.fold_limb_rotation = fold_limb_rotation"
   ]
  },
  {
   "cell_type": "markdown",
   "metadata": {},
   "source": [
    "#### RotationAnglePlotter\n",
    "The S-Plots and S-Variograms can also be produced using the RotationAnglePlotter class."
   ]
  },
  {
   "cell_type": "code",
   "execution_count": null,
   "metadata": {
    "ExecuteTime": {
     "end_time": "2019-10-03T00:10:28.493595Z",
     "start_time": "2019-10-03T00:10:26.496Z"
    }
   },
   "outputs": [],
   "source": [
    "rotation_plots = RotationAnglePlotter()\n",
    "rotation_plots.add_fold_axis_data(far,s2gy)\n",
    "rotation_plots.add_axis_svariogram(axis_svariogram)\n",
    "# rotation_plots.add_fold_axis_curve(fold.fold_axis_rotation(xi),xi)\n",
    "rotation_plots.add_fold_limb_data(flr,s2)\n",
    "rotation_plots.add_limb_svariogram(limb_svariogram)\n",
    "rotation_plots.add_fold_limb_curve(fold.fold_limb_rotation(xi), xi)\n",
    "rotation_plots.ax[0][0].set_title(\"Fold axis rotation angle S-Plot\")\n",
    "rotation_plots.ax[0][1].set_title(\"Fold axis rotation angle S-Variogram\")\n",
    "rotation_plots.ax[1][0].set_title(\"Fold limb rotation angle S-Plot\")\n",
    "rotation_plots.ax[1][1].set_title(\"Fold axis rotation angle S-Variogram\")"
   ]
  },
  {
   "cell_type": "markdown",
   "metadata": {},
   "source": [
    "### Adding fold constraints to the interpolator\n",
    "Once the fold has been assigned a fold axis and fold limb rotation angle the interpolator can be run. There are four different weights that can be applied to the fold interpolator.\n",
    "These weights can be specified by a dictionary and then passed to the fold_frame_builder. When building a folded surface you must pass the kwargs `fold_weights` and `fold` otherwise only standard inteprolation will be performed. As for the F2 frame make sure that the `frame=FoldFrame` is passed as we want to build a fold frame not a basic StructuralFrame"
   ]
  },
  {
   "cell_type": "code",
   "execution_count": null,
   "metadata": {
    "ExecuteTime": {
     "end_time": "2019-10-03T00:10:28.494578Z",
     "start_time": "2019-10-03T00:10:26.499Z"
    },
    "scrolled": false
   },
   "outputs": [],
   "source": [
    "fold_weights = {}\n",
    "fold_weights['fold_orientation'] = 10. # reference values?\n",
    "fold_weights['fold_axis'] = 10. # reference values?\n",
    "fold_weights['fold_normalisation'] = 1. # reference values?\n",
    "fold_weights['fold_regularisation'] = 4.10# reference values?\n",
    "# fold_frame1_builder.interpolators[0].n_g= 0\n",
    "# fold_frame1_builder.interpolators[0].n_i= 0\n",
    "\n",
    "# print(fold_frame1_builder.interpolators[0].A)\n",
    "\n",
    "fold_frame1_builder.interpolators[0].reset() # currently have to reset interpolator\n",
    "fold_frame1_builder.interpolators[0].interpolation_weights['cgw']  = 0\n",
    "f1_frame = fold_frame1_builder.build(solver='lu',\n",
    "                                     shape='rectangular',\n",
    "                                         frame=FoldFrame,\n",
    "                                    fold_weights=fold_weights,\n",
    "                                    fold=fold)\n",
    "# print(fold_frame1_builder.interpolators[0].A)\n"
   ]
  },
  {
   "cell_type": "code",
   "execution_count": null,
   "metadata": {
    "ExecuteTime": {
     "end_time": "2019-10-03T00:10:28.495565Z",
     "start_time": "2019-10-03T00:10:26.513Z"
    }
   },
   "outputs": [],
   "source": [
    "viewer = LavaVuModelViewer(background=\"white\")\n",
    "viewer.add_scalar_field(boundary_points,\n",
    "                      (100,100,50),\n",
    "                      's0',\n",
    "                      paint_with=f1_frame.features[0])\n",
    "viewer.add_isosurface(f1_frame.features[0],\n",
    "                       paint_with=f1_frame.features[0],\n",
    "                       nslices=10,\n",
    "#                        slices=[0,1,5],\n",
    "#                        colour='green',\n",
    "                      )\n",
    "viewer.add_fold(fold,mesh.barycentre[::20,:])\n",
    "viewer.add_data(f1_frame.features[0])\n",
    "viewer.interactive()"
   ]
  },
  {
   "cell_type": "markdown",
   "metadata": {},
   "source": [
    "## Interpolate the folded foliation\n",
    "The process of building a folded foliation is similar to how the folded fold frame coordinate was build, except we use a GeologicalFeatureInterpolator rather than the StructuralFrameBuilder.\n",
    "\n",
    "As for before:\n",
    "1. Initialise a fold event\n",
    "2. Initialise a fold interpolator\n",
    "3. Initialise a feature builder with the interpolator and a name\n",
    "4. Associate data to the feature builder\n",
    "5. Build with no solver."
   ]
  },
  {
   "cell_type": "code",
   "execution_count": null,
   "metadata": {
    "ExecuteTime": {
     "end_time": "2019-10-03T00:10:28.496594Z",
     "start_time": "2019-10-03T00:10:26.517Z"
    }
   },
   "outputs": [],
   "source": [
    "f1 = FoldEvent(f1_frame,None,None)\n",
    "stratigraphy_interpolator = DFI(mesh, f1)\n",
    "stratigraphy_builder = GeologicalFeatureInterpolator(stratigraphy_interpolator, \n",
    "                                                     name=\"folded_stratigraphy\")\n",
    "for r in data['s0_dir.csv']:\n",
    "    stratigraphy_builder.add_planar_constraint(r[:3],-r[3:])\n",
    "\n",
    "strati = stratigraphy_builder.build(cgw=0,solver=None)\n",
    "# viewer.plot_vector_data(strati.support.interpolator.get_gradient_control()[:,:3],\n",
    "#                         strati.support.interpolator.get_gradient_control()[:,3:],\n",
    "#                         \"strati_grad2\",\n",
    "#                         colour='green')\n",
    "#@strati_g = \n",
    "\n",
    "\n",
    "\n"
   ]
  },
  {
   "cell_type": "markdown",
   "metadata": {},
   "source": [
    "Calculate the S-Plot and S-Variogram in the same way"
   ]
  },
  {
   "cell_type": "code",
   "execution_count": null,
   "metadata": {
    "ExecuteTime": {
     "end_time": "2019-10-03T00:10:28.497470Z",
     "start_time": "2019-10-03T00:10:26.522Z"
    },
    "scrolled": true
   },
   "outputs": [],
   "source": [
    "\n",
    "l1 = f1_frame.calculate_intersection_lineation(\n",
    "    strati.support.interpolator.get_gradient_control())\n",
    "far = f1_frame.calculate_fold_axis_rotation(\n",
    "    strati.support.interpolator.get_gradient_control())\n",
    "s1 = f1_frame.features[0].evaluate_value(\n",
    "    strati.support.interpolator.get_gradient_control()[:,:3])\n",
    "s1gy = f1_frame.features[1].evaluate_value(\n",
    "    strati.support.interpolator.get_gradient_control()[:,:3])\n",
    "axis_svariogram = SVariogram(s1gy,far)\n",
    "axis_svariogram.calc_semivariogram()\n",
    "\n",
    "far_tan = np.tan(np.deg2rad(far))\n",
    "xi = np.linspace(f1_frame.features[1].min(),\n",
    "                 f1_frame.features[1].max(), 1000)\n",
    "f1.fold_axis = np.mean(l1,axis=0)#np.array([-0.00597993,  0.70559948, -0.70858565])\n",
    "axis = f1.get_fold_axis_orientation( \n",
    "    strati.support.interpolator.get_gradient_control()[:,:3])\n",
    "flr = f1_frame.calculate_fold_limb_rotation(\n",
    "    strati.support.interpolator.get_gradient_control()\n",
    "                                            ,axis=axis)\n",
    "limb_svariogram = SVariogram(s1,flr)\n",
    "limb_svariogram.calc_semivariogram()\n",
    "\n",
    "flr_tan = np.tan(np.deg2rad(flr))\n",
    "\n",
    "guess = np.zeros(4)\n",
    "guess[3] = 4000\n",
    "popt, pcov = curve_fit(fourier_series,s1,flr_tan,guess)\n",
    "\n",
    "xi = np.linspace(f1_frame.features[0].min(),f1_frame.features[0].max(),1000)\n",
    "def fold_limb_rotation(x):\n",
    "    return np.rad2deg(np.arctan(fourier_series(x,popt[0],popt[1],popt[2],popt[3])))\n",
    "\n",
    "# flr = fold_rotation_angle_feature(f2_frame,fold_limb_rotation)\n",
    "f1.fold_limb_rotation = fold_limb_rotation\n",
    "# f1_limb_feature = fold_rotation_angle_feature(f1_frame,fold_limb_rotation)\n",
    "rotation_plots = RotationAnglePlotter()\n",
    "rotation_plots.add_fold_axis_data(far,s1gy)\n",
    "rotation_plots.add_axis_svariogram(axis_svariogram)\n",
    "# rotation_plots.add_fold_axis_curve(fold.fold_axis_rotation(xi),xi)\n",
    "rotation_plots.add_fold_limb_data(flr,s1)\n",
    "rotation_plots.add_limb_svariogram(limb_svariogram)\n",
    "rotation_plots.add_fold_limb_curve(fold.fold_limb_rotation(xi), xi)\n",
    "rotation_plots.ax[0][0].set_title(\"Fold axis rotation angle S-Plot\")\n",
    "rotation_plots.ax[0][1].set_title(\"Fold axis rotation angle S-Variogram\")\n",
    "rotation_plots.ax[1][0].set_title(\"Fold limb rotation angle S-Plot\")\n",
    "rotation_plots.ax[1][1].set_title(\"Fold axis rotation angle S-Variogram\")\n"
   ]
  },
  {
   "cell_type": "code",
   "execution_count": null,
   "metadata": {
    "ExecuteTime": {
     "end_time": "2019-10-03T00:10:28.498250Z",
     "start_time": "2019-10-03T00:10:26.524Z"
    }
   },
   "outputs": [],
   "source": [
    "fold_weights = {}\n",
    "fold_weights['fold_orientation'] = 10. # reference values?\n",
    "fold_weights['fold_axis'] = 10. # reference values?\n",
    "fold_weights['fold_normalisation'] = 1.0#10. # reference values?\n",
    "fold_weights['fold_regularisation'] = .10\n",
    "# stratigraphy_builder.interpolator.p_g = []\n",
    "stratigraphy_builder.interpolator.n_g = len(stratigraphy_builder.interpolator.p_g)\n",
    "folded_stratigraphy = stratigraphy_builder.build(solver='lu',\n",
    "                                                 cgw=0,\n",
    "                                                 fold_weights=fold_weights,\n",
    "                                                 fold=f1)"
   ]
  },
  {
   "cell_type": "code",
   "execution_count": null,
   "metadata": {
    "ExecuteTime": {
     "end_time": "2019-10-03T00:10:28.499102Z",
     "start_time": "2019-10-03T00:10:26.526Z"
    }
   },
   "outputs": [],
   "source": [
    "viewer = LavaVuModelViewer(background=\"white\")\n",
    "viewer.add_scalar_field(boundary_points,\n",
    "                      (100,100,50),\n",
    "                      's0',\n",
    "                      cmap='tab20',\n",
    "                      paint_with=folded_stratigraphy)\n",
    "# viewer.plot_isosurface(f1_frame.features[0],\n",
    "#                        slices=[0.37,0.6,0.82],\n",
    "# #                        nslices=5,\n",
    "#                        colour='green')\n",
    "# viewer.plot_isosurface(f1_frame.features[1],\n",
    "# #                        nslices=10,\n",
    "#                        colour='green')\n",
    "# viewer.plot_isosurface(folded_stratigraphy,\n",
    "#                        nslices=5,\n",
    "#                        colour='blue')\n",
    "# viewer.plot_isosurface(f2_frame.features[0])\n",
    "# viewer.plot_isosurface(f2_frame.features[1],\n",
    "#                        colour='blue')\n",
    "# viewer.plot_vector_data(xyz,f1.get_fold_axis_orientation(xyz),'axis')\n",
    "# viewer.plot_vector_data(locations,s1g,'s1g')\n",
    "# viewer.plot_vector_data(locations,FX,'axis')\n",
    "# viewer.plot_vector_data(locations,R2R,'r2r')\n",
    "# viewer.plot_vector_data(locations,np.cross(R2R,FX,axisa=1,axisb=1),'folded')\n",
    "# viewer.plot_vector_data(xyz,s0g,'s0',size=2)\n",
    "viewer.interactive()"
   ]
  },
  {
   "cell_type": "code",
   "execution_count": null,
   "metadata": {
    "ExecuteTime": {
     "end_time": "2019-10-03T00:10:28.500042Z",
     "start_time": "2019-10-03T00:10:26.529Z"
    }
   },
   "outputs": [],
   "source": [
    "viewer.lv.image(\"refolded_folds.jpg\")"
   ]
  },
  {
   "cell_type": "code",
   "execution_count": null,
   "metadata": {},
   "outputs": [],
   "source": []
  }
 ],
 "metadata": {
  "kernelspec": {
   "display_name": "fme",
   "language": "python",
   "name": "fme"
  },
  "language_info": {
   "codemirror_mode": {
    "name": "ipython",
    "version": 3
   },
   "file_extension": ".py",
   "mimetype": "text/x-python",
   "name": "python",
   "nbconvert_exporter": "python",
   "pygments_lexer": "ipython3",
   "version": "3.6.8"
  },
  "varInspector": {
   "cols": {
    "lenName": 16,
    "lenType": 16,
    "lenVar": 40
   },
   "kernels_config": {
    "python": {
     "delete_cmd_postfix": "",
     "delete_cmd_prefix": "del ",
     "library": "var_list.py",
     "varRefreshCmd": "print(var_dic_list())"
    },
    "r": {
     "delete_cmd_postfix": ") ",
     "delete_cmd_prefix": "rm(",
     "library": "var_list.r",
     "varRefreshCmd": "cat(var_dic_list()) "
    }
   },
   "types_to_exclude": [
    "module",
    "function",
    "builtin_function_or_method",
    "instance",
    "_Feature"
   ],
   "window_display": false
  }
 },
 "nbformat": 4,
 "nbformat_minor": 4
}
