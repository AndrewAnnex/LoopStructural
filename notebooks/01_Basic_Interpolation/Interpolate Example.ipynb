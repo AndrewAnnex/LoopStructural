{
 "cells": [
  {
   "cell_type": "markdown",
   "metadata": {},
   "source": [
    "### Import required libraries"
   ]
  },
  {
   "cell_type": "code",
   "execution_count": 1,
   "metadata": {
    "ExecuteTime": {
     "end_time": "2019-06-05T01:04:10.501834Z",
     "start_time": "2019-06-05T01:04:09.616997Z"
    }
   },
   "outputs": [],
   "source": [
    "import numpy as np\n",
    "#import matplotlib.pyplot as plt\n",
    "import matplotlib.pyplot as plt\n",
    "import scipy.sparse.linalg as sla\n",
    "import numpy.linalg as la\n",
    "import sys, os\n",
    "import pickle\n",
    "#import rbf as RBF\n",
    "import warnings\n",
    "\n",
    "import geopandas #for importing data from shapefiles/geodb\n",
    "\n",
    "#import vista #for plotting\n"
   ]
  },
  {
   "cell_type": "markdown",
   "metadata": {},
   "source": [
    "### Import submodules for FME"
   ]
  },
  {
   "cell_type": "code",
   "execution_count": 2,
   "metadata": {
    "ExecuteTime": {
     "end_time": "2019-06-05T01:04:11.022362Z",
     "start_time": "2019-06-05T01:04:10.503534Z"
    }
   },
   "outputs": [],
   "source": [
    "from FME.geological_points import IePoint, IPoint, GPoint, TPoint\n",
    "from FME.geological_interpolator import GeologicalInterpolator\n",
    "from FME.tet_mesh import TetMesh\n",
    "from FME.dsi_interpolator import DSI\n",
    "from FME.foldframe import FoldFrame\n",
    "from FME.fold import FoldEvent, DSIFoldConstraint\n",
    "#from FME.structural_frame import StructuralFrame\n",
    "from FME.fault_segment import FaultSegment\n",
    "from FME.region_manager import RegionManager\n",
    "from FME.helper import *\n",
    "from FME.svariogram import s_variogram#\n",
    "#from FME import * #import all of the \"public\" functions from FME"
   ]
  },
  {
   "cell_type": "markdown",
   "metadata": {},
   "source": [
    "### Define the model area and mesh using tetmesh"
   ]
  },
  {
   "cell_type": "code",
   "execution_count": 3,
   "metadata": {
    "ExecuteTime": {
     "end_time": "2019-06-05T02:35:07.383122Z",
     "start_time": "2019-06-05T02:35:05.455660Z"
    }
   },
   "outputs": [],
   "source": [
    "boundary_points = np.zeros((2,3))\n",
    "boundary_points[0,0] = -20\n",
    "boundary_points[0,1] = -20\n",
    "boundary_points[0,2] = -20\n",
    "boundary_points[1,0] = 20\n",
    "boundary_points[1,1] = 20\n",
    "boundary_points[1,2] = 20\n",
    "mesh = TetMesh('Model','./')\n",
    "mesh.setup_mesh(boundary_points,nstep=1,n_tetra=100000)\n"
   ]
  },
  {
   "cell_type": "markdown",
   "metadata": {},
   "source": [
    "### Create a DSI interpolation object for stratigraphy\n",
    "* DSI needs to be given a within the mesh - by default this is everywhere which is the whole mesh.\n",
    "* It needs to know the shape of the interpolation matrix e.g. do you want to assemble the least squares constraints as a rectangular matrix and solve \n",
    "$Ax=b A^TAx=A^TB$ \n",
    "or do you want to assemble $A^TA$ directly?\n",
    "For standard DSI where only observations and a regularisation term are used either are fine but where multiple mesh wide constraints are used it can be beneficial to use the square format.\n",
    "* There are multiple options for solvers that are directly incorporated into FME - for example scipy lsmr, lsqr, SuiteSpare SPQR, SuiteSparse Cholmod, scipy LU. In general a direct solver e.g. cholmod is the fastest option, however for really large meshes or small computers an iterative solver would be better. \n",
    "* There are some numerical problems using cholmod that need to be further investigated\n",
    "* The weighting of the regularisation term should be defined relative to the number of elements in the mesh to avoid scaling issues when changing the size of the mesh. "
   ]
  },
  {
   "cell_type": "code",
   "execution_count": 4,
   "metadata": {
    "ExecuteTime": {
     "end_time": "2019-06-05T02:35:19.332198Z",
     "start_time": "2019-06-05T02:35:07.406885Z"
    },
    "scrolled": false
   },
   "outputs": [
    {
     "name": "stdout",
     "output_type": "stream",
     "text": [
      "Setting up interpolator with 109 value control points \n",
      "        108 gradient control points and 0 tangent control points and \n",
      "        constant gradient regularization with a weight of 0.300000\n"
     ]
    }
   ],
   "source": [
    "stratigraphy = DSI(mesh,region='everywhere',shape='square')\n",
    "# for i in range(-15,15):\n",
    "#     for j in range(-10,10):\n",
    "#         stratigraphy.add_point([i,j,3*np.sin(j/5)],0.)\n",
    "#         stratigraphy.add_point([i,j,3*np.sin(j/5)+1],1.)\n",
    "# stratigraphy.add_strike_dip_and_value([2.1,0.1,1.1],190.,70.,0.)\n",
    "for y in range(-18,18,1):\n",
    "    stratigraphy.add_strike_dip_and_value([-10,y,-10],90.,0.,0.)\n",
    "    stratigraphy.add_strike_dip_and_value([0,y,-6],90.,40.,0.)\n",
    "    stratigraphy.add_strike_dip_and_value([5,y,7.1],90.,0.,0.)\n",
    "#     stratigraphy.add_point([-10,y,-10],0.)\n",
    "#     stratigraphy.add_point([0,y,-6],0.)\n",
    "#     stratigraphy.add_point([5,y,7.1],0.)\n",
    "stratigraphy.add_point([0.1,0,2.1],1.)\n",
    "# stratigraphy.add_strike_and_dip([6.1,0.1,-15.1],90.,0.)\n",
    "# stratigraphy.add_strike_and_dip([1.1,0.1,-15.1],90.,0.)\n",
    "# stratigraphy.add_strike_and_dip([1.1,1.1,-15.1],90.,0.)\n",
    "cgw = 100 / mesh.n_elements\n",
    "stratigraphy.setup_interpolator(cgw=0.3)\n",
    "# stratigraphy.calculate_constant_gradient_with_element_weighting(w)\n",
    "stratigraphy.solve_system(solver='chol',clear=True)\n",
    "mesh.update_property('strati',stratigraphy.c)\n",
    "stratigraphy.export_data_to_vtk('stratig')"
   ]
  },
  {
   "cell_type": "markdown",
   "metadata": {},
   "source": [
    "### We can visualise isosurfaces of the interpolated scalar field using interactive lavavu\n",
    "* lv_plot_isosurface takes a minimum of propertyname and isovalue. It will create a temporary lavavu viewer and plot a static image of the isosurface\n",
    "* You can pass a lv object to the function using the argument lv and set draw to False and the surface will be added to the lavavu object. \n",
    "* The lavavu control panel can be used for interactively displaying object and an inline interactive viewer can be invoked by calling control.show()  "
   ]
  },
  {
   "cell_type": "code",
   "execution_count": 5,
   "metadata": {
    "ExecuteTime": {
     "end_time": "2019-06-05T02:35:20.965710Z",
     "start_time": "2019-06-05T02:35:19.362701Z"
    },
    "scrolled": false
   },
   "outputs": [
    {
     "ename": "NameError",
     "evalue": "name 'interactive' is not defined",
     "output_type": "error",
     "traceback": [
      "\u001b[0;31m---------------------------------------------------------------------------\u001b[0m",
      "\u001b[0;31mNameError\u001b[0m                                 Traceback (most recent call last)",
      "\u001b[0;32m<ipython-input-5-b92a5c48cefc>\u001b[0m in \u001b[0;36m<module>\u001b[0;34m\u001b[0m\n\u001b[1;32m      1\u001b[0m \u001b[0;32mimport\u001b[0m \u001b[0mlavavu\u001b[0m\u001b[0;34m\u001b[0m\u001b[0;34m\u001b[0m\u001b[0m\n\u001b[1;32m      2\u001b[0m \u001b[0mlv\u001b[0m \u001b[0;34m=\u001b[0m \u001b[0mlavavu\u001b[0m\u001b[0;34m.\u001b[0m\u001b[0mViewer\u001b[0m\u001b[0;34m(\u001b[0m\u001b[0;34m)\u001b[0m\u001b[0;34m\u001b[0m\u001b[0;34m\u001b[0m\u001b[0m\n\u001b[0;32m----> 3\u001b[0;31m \u001b[0mmesh\u001b[0m\u001b[0;34m.\u001b[0m\u001b[0mlv_plot_isosurface\u001b[0m\u001b[0;34m(\u001b[0m\u001b[0;34m'strati'\u001b[0m\u001b[0;34m,\u001b[0m\u001b[0mlv\u001b[0m\u001b[0;34m=\u001b[0m\u001b[0mlv\u001b[0m\u001b[0;34m,\u001b[0m\u001b[0mcolour\u001b[0m\u001b[0;34m=\u001b[0m\u001b[0;34m'red'\u001b[0m\u001b[0;34m)\u001b[0m\u001b[0;34m\u001b[0m\u001b[0;34m\u001b[0m\u001b[0m\n\u001b[0m\u001b[1;32m      4\u001b[0m \u001b[0mmesh\u001b[0m\u001b[0;34m.\u001b[0m\u001b[0mlv_plot_isosurface\u001b[0m\u001b[0;34m(\u001b[0m\u001b[0;34m'strati'\u001b[0m\u001b[0;34m,\u001b[0m\u001b[0mlv\u001b[0m\u001b[0;34m=\u001b[0m\u001b[0mlv\u001b[0m\u001b[0;34m,\u001b[0m\u001b[0mcolour\u001b[0m\u001b[0;34m=\u001b[0m\u001b[0;34m'green'\u001b[0m\u001b[0;34m)\u001b[0m\u001b[0;34m\u001b[0m\u001b[0;34m\u001b[0m\u001b[0m\n\u001b[1;32m      5\u001b[0m \u001b[0;31m# mesh.lv_plot_isosurface('strati',2,name='Strati2',interactive=False,lv=lv,draw=False)\u001b[0m\u001b[0;34m\u001b[0m\u001b[0;34m\u001b[0m\u001b[0;34m\u001b[0m\u001b[0m\n",
      "\u001b[0;32m~/FME/tet_mesh.py\u001b[0m in \u001b[0;36mlv_plot_isosurface\u001b[0;34m(self, propertyname, lv, **kwargs)\u001b[0m\n\u001b[1;32m    533\u001b[0m             \u001b[0msurf\u001b[0m\u001b[0;34m.\u001b[0m\u001b[0mindices\u001b[0m\u001b[0;34m(\u001b[0m\u001b[0mtris\u001b[0m\u001b[0;34m)\u001b[0m\u001b[0;34m\u001b[0m\u001b[0;34m\u001b[0m\u001b[0m\n\u001b[1;32m    534\u001b[0m             \u001b[0msurf\u001b[0m\u001b[0;34m.\u001b[0m\u001b[0mcolours\u001b[0m\u001b[0;34m(\u001b[0m\u001b[0mcolour\u001b[0m\u001b[0;34m)\u001b[0m\u001b[0;34m\u001b[0m\u001b[0;34m\u001b[0m\u001b[0m\n\u001b[0;32m--> 535\u001b[0;31m         \u001b[0;32mif\u001b[0m \u001b[0minteractive\u001b[0m\u001b[0;34m:\u001b[0m\u001b[0;34m\u001b[0m\u001b[0;34m\u001b[0m\u001b[0m\n\u001b[0m\u001b[1;32m    536\u001b[0m             \u001b[0mlv\u001b[0m\u001b[0;34m.\u001b[0m\u001b[0minteractive\u001b[0m\u001b[0;34m(\u001b[0m\u001b[0;34m)\u001b[0m\u001b[0;34m\u001b[0m\u001b[0;34m\u001b[0m\u001b[0m\n\u001b[1;32m    537\u001b[0m         \u001b[0;32mif\u001b[0m \u001b[0mdraw\u001b[0m\u001b[0;34m:\u001b[0m\u001b[0;34m\u001b[0m\u001b[0;34m\u001b[0m\u001b[0m\n",
      "\u001b[0;31mNameError\u001b[0m: name 'interactive' is not defined"
     ]
    }
   ],
   "source": [
    "import lavavu\n",
    "lv = lavavu.Viewer()\n",
    "mesh.lv_plot_isosurface('strati',lv=lv,colour='red')\n",
    "mesh.lv_plot_isosurface('strati',lv=lv,colour='green')\n",
    "# mesh.lv_plot_isosurface('strati',2,name='Strati2',interactive=False,lv=lv,draw=False)\n",
    "\n",
    "cp_points = lv.points(\"points\",pointsize=4,pointtype=\"sphere\")\n",
    "cp_points.vertices(stratigraphy.get_control_points()[:,:3])#mesh.nodes[mesh.elements[logic]])\n",
    "cp_points.values(stratigraphy.get_control_points()[:,3:])#mesh.nodes[mesh.elements[logic]])\n",
    "\n",
    "gcp_points= lv.vectors(\"points2\",pointsize=4,pointtype=\"sphere\",colour='red')\n",
    "gcp_points.vertices(stratigraphy.get_gradient_control()[:,:3])\n",
    "gcp_points.vectors(stratigraphy.get_gradient_control()[:,3:])\n",
    "lv.control.Panel()\n",
    "lv.control.ObjectList()\n",
    "    # lv.reload()\n",
    "lv.control.show()#nterac\n",
    "#lv.interactive()"
   ]
  },
  {
   "cell_type": "markdown",
   "metadata": {},
   "source": [
    "### Static visualisation\n",
    "* We can use the previous lavavu viewer to define a viewing angle and then display a static image for export"
   ]
  },
  {
   "cell_type": "code",
   "execution_count": null,
   "metadata": {},
   "outputs": [],
   "source": [
    "#static display\n",
    "lv.display()\n",
    "\n",
    "lv.image('./data/interpolate_example.jpg')"
   ]
  },
  {
   "cell_type": "code",
   "execution_count": null,
   "metadata": {},
   "outputs": [],
   "source": [
    "lv.interactive()"
   ]
  },
  {
   "cell_type": "code",
   "execution_count": null,
   "metadata": {},
   "outputs": [],
   "source": [
    "grad_x, grad_y, grad_z = np.gradient(volume)\n",
    "\n",
    "a = actual_verts[:, 0, :] - actual_verts[:, 1, :]\n",
    "b = actual_verts[:, 0, :] - actual_verts[:, 2, :]\n",
    "\n",
    "# Find triangle centroids\n",
    "centroids = (actual_verts.sum(axis=1) / 3.).T\n",
    "\n",
    "del actual_verts\n",
    "\n",
    "# Interpolate face centroids into each gradient axis\n",
    "grad_centroids_x = ndi.map_coordinates(grad_x, centroids)\n",
    "grad_centroids_y = ndi.map_coordinates(grad_y, centroids)\n",
    "grad_centroids_z = ndi.map_coordinates(grad_z, centroids)\n",
    "\n",
    "# Combine and normalize interpolated gradients\n",
    "grad_centroids = np.c_[grad_centroids_x, grad_centroids_y,\n",
    "                       grad_centroids_z]\n",
    "grad_centroids = (grad_centroids /\n",
    "                  (np.sum(grad_centroids ** 2,\n",
    "                          axis=1) ** 0.5)[:, np.newaxis])\n",
    "\n",
    "# Find normal vectors for each face via cross product\n",
    "crosses = np.cross(a, b)\n",
    "crosses = crosses / (np.sum(crosses ** 2, axis=1) ** (0.5))[:, np.newaxis]\n",
    "\n",
    "# Take dot product\n",
    "dotproducts = (grad_centroids * crosses).sum(axis=1)\n",
    "\n",
    "# Find mis-oriented faces\n",
    "if 'descent' in gradient_direction:\n",
    "    # Faces with incorrect orientations have dot product < 0\n",
    "    indices = (dotproducts < 0).nonzero()[0]\n",
    "elif 'ascent' in gradient_direction:\n",
    "    # Faces with incorrection orientation have dot product > 0\n",
    "    indices = (dotproducts > 0).nonzero()[0]\n",
    "else:\n",
    "    raise ValueError(\"Incorrect input %s in `gradient_direction`, see \"\n",
    "                     \"docstring.\" % (gradient_direction))\n",
    "\n",
    "# Correct orientation and return, without modifying original data\n",
    "faces_corrected = faces.copy()\n",
    "faces_corrected[indices] = faces_corrected[indices, ::-1]\n",
    "\n",
    "return faces_corrected"
   ]
  },
  {
   "cell_type": "code",
   "execution_count": null,
   "metadata": {},
   "outputs": [],
   "source": [
    "import lavavu  #visualisation library \n",
    "from FME.tet_mesh import marching_tetra\n",
    "##run the marching tetra algorithm       \n",
    "propertyname='strati'\n",
    "isovalue=0\n",
    "reg = np.zeros(mesh.properties[propertyname].shape).astype(bool)\n",
    "reg[:] = True\n",
    "\n",
    "tri, ntri = marching_tetra(isovalue,mesh.elements,mesh.nodes,reg,mesh.properties[propertyname])\n",
    "\n",
    "##convert from memoryview to np array\n",
    "tri = np.array(tri)\n",
    "ntri = np.array(ntri)[0]\n",
    "##create a triangle indices array and initialise to -1\n",
    "tris = np.zeros((ntri,3)).astype(int)\n",
    "tris[:,:] = -1\n",
    "##create a dict for storing nodes index where the key is the node as as a tuple. \n",
    "#A dict is preferable because it is very quick to check if a key exists\n",
    "#assemble arrays for unique vertex and triangles defined by vertex indices\n",
    "nodes = {}\n",
    "n = 0 #counter\n",
    "for i in range(ntri):\n",
    "    for j in range(3):\n",
    "        if tuple(tri[i,j,:]) in nodes:\n",
    "            tris[i,j] = nodes[tuple(tri[i,j,:])]\n",
    "        else:\n",
    "            nodes[tuple(tri[i,j,:])] = n\n",
    "            tris[i,j] = n\n",
    "            n+=1\n",
    "nodes_np = np.zeros((n,3))\n",
    "for v in nodes.keys():\n",
    "    nodes_np[nodes[v],:] = np.array(v)\n",
    "#if lv==None:\n",
    "#    lv = lavavu.Viewer(border=True,quality=2)\n",
    "surf = lv.triangles(propertyname)\n",
    "surf.vertices(nodes_np)\n",
    "surf.indices(tris)\n",
    "# surf.colours(colour)\n",
    "\n",
    "gcp_points= lv.vectors(\"points3\",pointsize=4,pointtype=\"sphere\",colour='red')\n",
    "gcp_points.vertices(tribc)\n",
    "gcp_points.vectors(crosses)\n",
    "\n",
    "lv.control.Panel()\n",
    "lv.control.ObjectList()\n",
    "    # lv.reload()\n",
    "lv.control.show()#nterac\n",
    "#lv.interactive()"
   ]
  },
  {
   "cell_type": "code",
   "execution_count": null,
   "metadata": {},
   "outputs": [],
   "source": []
  },
  {
   "cell_type": "code",
   "execution_count": null,
   "metadata": {},
   "outputs": [],
   "source": [
    "#find the normal vector to the faces using the vertex order\n",
    "a = tri[:ntri, 0, :] - tri[:ntri, 1, :]\n",
    "b = tri[:ntri, 0, :] - tri[:ntri, 2, :]\n",
    "\n",
    "crosses = np.cross(a, b)\n",
    "crosses = crosses / (np.sum(crosses ** 2, axis=1) ** (0.5))[:, np.newaxis]\n",
    "\n",
    "#get barycentre of faces and findproperty gradient from scalar field\n",
    "tribc = np.mean(tri[:ntri,:,:],axis=1)\n",
    "\n",
    "propertygrad=mesh.eval_gradient(tribc,prop='strati')\n",
    "propertygrad/=np.linalg.norm(propertygrad,axis=1)[:,None]\n",
    "\n",
    "#dot product between gradient and normal indicates if faces are incorrectly ordered\n",
    "dotproducts = (propertygrad * crosses).sum(axis=1)\n",
    "\n",
    "#if dot product >0 then adjust triangle indexing\n",
    "indices = (dotproducts>0).nonzero()[0]\n",
    "tris[indices] = tris[indices,::-1]\n",
    "\n"
   ]
  },
  {
   "cell_type": "code",
   "execution_count": null,
   "metadata": {},
   "outputs": [],
   "source": []
  },
  {
   "cell_type": "code",
   "execution_count": null,
   "metadata": {},
   "outputs": [],
   "source": [
    "\n"
   ]
  },
  {
   "cell_type": "code",
   "execution_count": null,
   "metadata": {},
   "outputs": [],
   "source": [
    "print(tribc)\n",
    "print(propertygrad)\n",
    "print(dotproducts)\n",
    "print(indices)\n",
    "#tris[tris]"
   ]
  },
  {
   "cell_type": "code",
   "execution_count": null,
   "metadata": {},
   "outputs": [],
   "source": [
    "lv = lavavu.Viewer()\n",
    "# gcp_points= lv.vectors(\"points5\",pointsize=4,pointtype=\"sphere\",colour='red')\n",
    "# gcp_points.vertices(tribc)\n",
    "# gcp_points.vectors(crosses)\n",
    "\n",
    "# gcp_points= lv.vectors(\"points6\",pointsize=4,pointtype=\"sphere\",colour='blue')\n",
    "# gcp_points.vertices(tribc)\n",
    "# gcp_points.vectors(propertygrad)\n",
    "\n",
    "surf = lv.triangles(propertyname)\n",
    "surf.vertices(nodes_np)\n",
    "surf.indices(tris)\n",
    "surf.colours('green')\n",
    "lv.control.Panel()\n",
    "lv.control.show()"
   ]
  },
  {
   "cell_type": "code",
   "execution_count": null,
   "metadata": {},
   "outputs": [],
   "source": []
  }
 ],
 "metadata": {
  "kernelspec": {
   "display_name": "Python 3",
   "language": "python",
   "name": "python3"
  },
  "language_info": {
   "codemirror_mode": {
    "name": "ipython",
    "version": 3
   },
   "file_extension": ".py",
   "mimetype": "text/x-python",
   "name": "python",
   "nbconvert_exporter": "python",
   "pygments_lexer": "ipython3",
   "version": "3.7.3"
  },
  "varInspector": {
   "cols": {
    "lenName": 16,
    "lenType": 16,
    "lenVar": 40
   },
   "kernels_config": {
    "python": {
     "delete_cmd_postfix": "",
     "delete_cmd_prefix": "del ",
     "library": "var_list.py",
     "varRefreshCmd": "print(var_dic_list())"
    },
    "r": {
     "delete_cmd_postfix": ") ",
     "delete_cmd_prefix": "rm(",
     "library": "var_list.r",
     "varRefreshCmd": "cat(var_dic_list()) "
    }
   },
   "types_to_exclude": [
    "module",
    "function",
    "builtin_function_or_method",
    "instance",
    "_Feature"
   ],
   "window_display": false
  }
 },
 "nbformat": 4,
 "nbformat_minor": 2
}
