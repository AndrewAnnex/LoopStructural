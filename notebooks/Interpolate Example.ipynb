{
 "cells": [
  {
   "cell_type": "code",
   "execution_count": 1,
   "metadata": {
    "ExecuteTime": {
     "end_time": "2019-06-05T01:04:10.501834Z",
     "start_time": "2019-06-05T01:04:09.616997Z"
    }
   },
   "outputs": [],
   "source": [
    "import numpy as np\n",
    "#import matplotlib.pyplot as plt\n",
    "import matplotlib.pyplot as plt\n",
    "import scipy.sparse.linalg as sla\n",
    "import numpy.linalg as la\n",
    "import sys, os\n",
    "import pickle\n",
    "#import rbf as RBF\n",
    "import warnings\n",
    "\n",
    "import geopandas #for importing data from shapefiles/geodb\n",
    "\n",
    "#import vista #for plotting\n"
   ]
  },
  {
   "cell_type": "code",
   "execution_count": 2,
   "metadata": {
    "ExecuteTime": {
     "end_time": "2019-06-05T01:04:11.022362Z",
     "start_time": "2019-06-05T01:04:10.503534Z"
    }
   },
   "outputs": [],
   "source": [
    "from FME import * #import all of the \"public\" functions from FME"
   ]
  },
  {
   "cell_type": "markdown",
   "metadata": {},
   "source": [
    "### Define the model area and mesh using tetmesh"
   ]
  },
  {
   "cell_type": "code",
   "execution_count": 3,
   "metadata": {
    "ExecuteTime": {
     "end_time": "2019-06-05T02:35:07.383122Z",
     "start_time": "2019-06-05T02:35:05.455660Z"
    }
   },
   "outputs": [],
   "source": [
    "boundary_points = np.zeros((2,3))\n",
    "boundary_points[0,0] = -20\n",
    "boundary_points[0,1] = -20\n",
    "boundary_points[0,2] = -20\n",
    "boundary_points[1,0] = 20\n",
    "boundary_points[1,1] = 20\n",
    "boundary_points[1,2] = 20\n",
    "mesh = TetMesh('Model','./')\n",
    "mesh.setup_mesh(boundary_points,nstep=1,n_tetra=100000)"
   ]
  },
  {
   "cell_type": "markdown",
   "metadata": {},
   "source": [
    "### Create a DSI interpolation object for stratigraphy\n",
    "* DSI needs to be given a within the mesh - by default this is everywhere which is the whole mesh.\n",
    "* It needs to know the shape of the interpolation matrix e.g. do you want to assemble the least squares constraints as a rectangular matrix and solve \n",
    "$Ax=b A^TAx=A^TB$ \n",
    "or do you want to assemble $A^TA$ directly?\n",
    "For standard DSI where only observations and a regularisation term are used either are fine but where multiple mesh wide constraints are used it can be beneficial to use the square format.\n",
    "* There are multiple options for solvers that are directly incorporated into FME - for example scipy lsmr, lsqr, SuiteSpare SPQR, SuiteSparse Cholmod, scipy LU. In general a direct solver e.g. cholmod is the fastest option, however for really large meshes or small computers an iterative solver would be better. \n",
    "* There are some numerical problems using cholmod that need to be further investigated\n",
    "* The weighting of the regularisation term should be defined relative to the number of elements in the mesh to avoid scaling issues when changing the size of the mesh. "
   ]
  },
  {
   "cell_type": "code",
   "execution_count": 4,
   "metadata": {
    "ExecuteTime": {
     "end_time": "2019-06-05T04:23:53.288519Z",
     "start_time": "2019-06-05T04:23:53.122845Z"
    }
   },
   "outputs": [
    {
     "data": {
      "text/plain": [
       "[<matplotlib.lines.Line2D at 0x7f2b18a4c3c8>]"
      ]
     },
     "execution_count": 4,
     "metadata": {},
     "output_type": "execute_result"
    },
    {
     "data": {
      "image/png": "[encoded data removed]",
      "text/plain": [
       "<Figure size 432x288 with 1 Axes>"
      ]
     },
     "metadata": {
      "needs_background": "light"
     },
     "output_type": "display_data"
    }
   ],
   "source": [
    "x = np.linspace(-20,20,100)\n",
    "y = 0.4*x+np.sin(x/3)+np.sin(x/10)*10\n",
    "plt.plot(x,y)"
   ]
  },
  {
   "cell_type": "code",
   "execution_count": 5,
   "metadata": {
    "ExecuteTime": {
     "end_time": "2019-06-05T02:35:19.332198Z",
     "start_time": "2019-06-05T02:35:07.406885Z"
    },
    "scrolled": false
   },
   "outputs": [
    {
     "name": "stdout",
     "output_type": "stream",
     "text": [
      "Setting up interpolator with 109 value control points \n",
      "        108 gradient control points and 0 tangent control points and \n",
      "        constant gradient regularization with a weight of 0.100000\n"
     ]
    }
   ],
   "source": [
    "stratigraphy = DSI(mesh,region='everywhere',shape='square')\n",
    "# for i in range(-15,15):\n",
    "#     for j in range(-10,10):\n",
    "#         stratigraphy.add_point([i,j,3*np.sin(j/5)],0.)\n",
    "#         stratigraphy.add_point([i,j,3*np.sin(j/5)+1],1.)\n",
    "# stratigraphy.add_strike_dip_and_value([2.1,0.1,1.1],190.,70.,0.)\n",
    "for y in range(-18,18,1):\n",
    "    stratigraphy.add_strike_dip_and_value([-10,y,-10],90.,0.,0.)\n",
    "    stratigraphy.add_strike_dip_and_value([0,y,-6],90.,40.,0.)\n",
    "    stratigraphy.add_strike_dip_and_value([5,y,7.1],90.,0.,0.)\n",
    "#     stratigraphy.add_point([-10,y,-10],0.)\n",
    "#     stratigraphy.add_point([0,y,-6],0.)\n",
    "#     stratigraphy.add_point([5,y,7.1],0.)\n",
    "stratigraphy.add_point([0.1,0,2.1],1.)\n",
    "# stratigraphy.add_strike_and_dip([6.1,0.1,-15.1],90.,0.)\n",
    "# stratigraphy.add_strike_and_dip([1.1,0.1,-15.1],90.,0.)\n",
    "# stratigraphy.add_strike_and_dip([1.1,1.1,-15.1],90.,0.)\n",
    "cgw = 100 / mesh.n_elements\n",
    "stratigraphy.setup_interpolator(cgw=0.1)\n",
    "# stratigraphy.calculate_constant_gradient_with_element_weighting(w)\n",
    "stratigraphy.solve_system(solver='chol',clear=True)\n",
    "mesh.update_property('strati',stratigraphy.c)\n",
    "stratigraphy.export_data_to_vtk('stratig')"
   ]
  },
  {
   "cell_type": "markdown",
   "metadata": {},
   "source": [
    "### We can visualise isosurfaces of the interpolated scalar field using lavavu\n",
    "* lv_plot_isosurface takes a minimum of propertyname and isovalue. It will create a temporary lavavu viewer and plot a static image of the isosurface\n",
    "* You can pass a lv object to the function using the argument lv and set draw to False and the surface will be added to the lavavu object. \n",
    "* The lavavu control panel can be used for interactively displaying object and an inline interactive viewer can be invoked by calling control.show()  "
   ]
  },
  {
   "cell_type": "code",
   "execution_count": 6,
   "metadata": {
    "ExecuteTime": {
     "end_time": "2019-06-05T02:35:20.965710Z",
     "start_time": "2019-06-05T02:35:19.362701Z"
    }
   },
   "outputs": [
    {
     "name": "stdout",
     "output_type": "stream",
     "text": [
      "LavaVu Run error: Failed to open X display\n",
      "\n",
      "\n"
     ]
    },
    {
     "data": {
      "text/html": [
       "<img src=''>"
      ],
      "text/plain": [
       "<IPython.core.display.HTML object>"
      ]
     },
     "metadata": {},
     "output_type": "display_data"
    }
   ],
   "source": [
    "import lavavu\n",
    "lv = lavavu.Viewer()\n",
    "mesh.lv_plot_isosurface('strati',0,name='Strati0',interactive=False,lv=lv,draw=False)\n",
    "mesh.lv_plot_isosurface('strati',1,name='Strati1',interactive=False,lv=lv,draw=False,colour='red')\n",
    "# mesh.lv_plot_isosurface('strati',2,name='Strati2',interactive=False,lv=lv,draw=False)\n",
    "\n",
    "cp_points = lv.points(\"points\",pointsize=4,pointtype=\"sphere\")\n",
    "cp_points.vertices(stratigraphy.get_control_points()[:,:3])#mesh.nodes[mesh.elements[logic]])\n",
    "cp_points.values(stratigraphy.get_control_points()[:,3:])#mesh.nodes[mesh.elements[logic]])\n",
    "\n",
    "gcp_points= lv.vectors(\"points2\",pointsize=4,pointtype=\"sphere\",colour='red')\n",
    "gcp_points.vertices(stratigraphy.get_gradient_control()[:,:3])\n",
    "gcp_points.vectors(stratigraphy.get_gradient_control()[:,3:])\n",
    "lv.control.Panel()\n",
    "lv.control.ObjectList()\n",
    "    # lv.reload()\n",
    "lv.display()#control.show()#nterac\n",
    "#lv.interactive()"
   ]
  },
  {
   "cell_type": "code",
   "execution_count": null,
   "metadata": {},
   "outputs": [],
   "source": []
  }
 ],
 "metadata": {
  "kernelspec": {
   "display_name": "Python 3",
   "language": "python",
   "name": "python3"
  },
  "language_info": {
   "codemirror_mode": {
    "name": "ipython",
    "version": 3
   },
   "file_extension": ".py",
   "mimetype": "text/x-python",
   "name": "python",
   "nbconvert_exporter": "python",
   "pygments_lexer": "ipython3",
   "version": "3.6.7"
  },
  "varInspector": {
   "cols": {
    "lenName": 16,
    "lenType": 16,
    "lenVar": 40
   },
   "kernels_config": {
    "python": {
     "delete_cmd_postfix": "",
     "delete_cmd_prefix": "del ",
     "library": "var_list.py",
     "varRefreshCmd": "print(var_dic_list())"
    },
    "r": {
     "delete_cmd_postfix": ") ",
     "delete_cmd_prefix": "rm(",
     "library": "var_list.r",
     "varRefreshCmd": "cat(var_dic_list()) "
    }
   },
   "types_to_exclude": [
    "module",
    "function",
    "builtin_function_or_method",
    "instance",
    "_Feature"
   ],
   "window_display": false
  }
 },
 "nbformat": 4,
 "nbformat_minor": 2
}
