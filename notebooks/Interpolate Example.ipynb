{
 "cells": [
  {
   "cell_type": "code",
   "execution_count": 10,
   "metadata": {
    "ExecuteTime": {
     "end_time": "2019-05-08T06:40:29.588466Z",
     "start_time": "2019-05-08T06:40:29.585264Z"
    }
   },
   "outputs": [],
   "source": [
    "import numpy as np\n",
    "#import matplotlib.pyplot as plt\n",
    "import matplotlib.pyplot as plt\n",
    "import scipy.sparse.linalg as sla\n",
    "import numpy.linalg as la\n",
    "import sys, os\n",
    "import pickle\n",
    "import shapefile\n",
    "#import rbf as RBF\n",
    "import warnings"
   ]
  },
  {
   "cell_type": "code",
   "execution_count": 11,
   "metadata": {
    "ExecuteTime": {
     "end_time": "2019-05-08T06:40:29.602792Z",
     "start_time": "2019-05-08T06:40:29.590821Z"
    }
   },
   "outputs": [],
   "source": [
    "from FME import *#import FME"
   ]
  },
  {
   "cell_type": "code",
   "execution_count": 15,
   "metadata": {
    "ExecuteTime": {
     "end_time": "2019-05-08T06:41:26.776889Z",
     "start_time": "2019-05-08T06:41:23.567820Z"
    }
   },
   "outputs": [],
   "source": [
    "boundary_points = np.zeros((2,3))\n",
    "boundary_points[0,0] = -20\n",
    "boundary_points[0,1] = -20\n",
    "boundary_points[0,2] = -20\n",
    "boundary_points[1,0] = 20\n",
    "boundary_points[1,1] = 20\n",
    "boundary_points[1,2] = 20\n",
    "mesh = TetMesh('SectionSupport2','./')\n",
    "mesh.setup_mesh(boundary_points,nstep=1,n_tetra=100000)\n",
    "cg = mesh.get_constant_gradient(region=mesh.regions['everywhere'],shape='square')"
   ]
  },
  {
   "cell_type": "code",
   "execution_count": 16,
   "metadata": {
    "ExecuteTime": {
     "end_time": "2019-05-08T06:41:41.030649Z",
     "start_time": "2019-05-08T06:41:31.152237Z"
    }
   },
   "outputs": [
    {
     "name": "stdout",
     "output_type": "stream",
     "text": [
      "Setting up interpolator with 3 value control points \n",
      "        3 gradient control points and 0 tangent control points and \n",
      "        constant gradient regularization with a weight of 0.100000\n"
     ]
    }
   ],
   "source": [
    "stratigraphy = DSI(mesh,region='everywhere',shape='rectangular',solver='chol')\n",
    "# for i in range(-15,15):\n",
    "#     for j in range(-10,10):\n",
    "#         stratigraphy.add_point([i,j,3*np.sin(j/5)],0.)\n",
    "#         stratigraphy.add_point([i,j,3*np.sin(j/5)+1],1.)\n",
    "# stratigraphy.add_strike_dip_and_value([2.1,0.1,1.1],190.,70.,0.)\n",
    "stratigraphy.add_strike_dip_and_value([6.1,0.1,1.1],90.,0.,0.)\n",
    "stratigraphy.add_strike_dip_and_value([6.1,0.1,1.1],90.,0.,0.)\n",
    "stratigraphy.add_strike_dip_and_value([0.1,0.1,2.1],90.,0.,1.)\n",
    "# stratigraphy.add_strike_and_dip([6.1,0.1,-15.1],90.,0.)\n",
    "# stratigraphy.add_strike_and_dip([1.1,0.1,-15.1],90.,0.)\n",
    "# stratigraphy.add_strike_and_dip([1.1,1.1,-15.1],90.,0.)\n",
    "cgw = 100 / mesh.n_elements\n",
    "stratigraphy.setup_interpolator(cg=cgw)\n",
    "stratigraphy.solve_system(solver='spqr',clear=True)\n",
    "mesh.update_property('strati',stratigraphy.c)\n",
    "stratigraphy.export_data_to_vtk('stratig')"
   ]
  },
  {
   "cell_type": "code",
   "execution_count": null,
   "metadata": {},
   "outputs": [],
   "source": []
  }
 ],
 "metadata": {
  "kernelspec": {
   "display_name": "Python 3",
   "language": "python",
   "name": "python3"
  }
 },
 "nbformat": 4,
 "nbformat_minor": 2
}
