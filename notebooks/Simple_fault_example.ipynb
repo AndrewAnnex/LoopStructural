{
 "cells": [
  {
   "cell_type": "markdown",
   "metadata": {},
   "source": [
    "# Modelling a finite fault"
   ]
  },
  {
   "cell_type": "markdown",
   "metadata": {},
   "source": [
    "## Import libraries"
   ]
  },
  {
   "cell_type": "code",
   "execution_count": 1,
   "metadata": {
    "ExecuteTime": {
     "end_time": "2019-09-13T04:06:19.934745Z",
     "start_time": "2019-09-13T04:06:19.490409Z"
    }
   },
   "outputs": [],
   "source": [
    "from FME.interpolators.piecewiselinear_interpolator import PiecewiseLinearInterpolator as PLI\n",
    "from FME.supports.tet_mesh import TetMesh\n",
    "from FME.modelling.features.geological_feature import GeologicalFeatureInterpolator\n",
    "from FME.modelling.features.faulted_geological_feature import FaultedGeologicalFeature\n",
    "from FME.visualisation.model_visualisation import LavaVuModelViewer\n",
    "from FME.modelling.structural_frame import StructuralFrameBuilder\n",
    "from FME.modelling.fault.fault_segment import FaultSegment\n",
    "\n",
    "# other useful libraries\n",
    "import numpy as np\n"
   ]
  },
  {
   "cell_type": "markdown",
   "metadata": {},
   "source": [
    "## Define model mesh\n",
    "Using boundary points. In the future this will be handled by a model support builder, where either a tetmesh or structured grid will be built. You can specify the resolution of the model by the number of tetrahedrons, this defines the degrees of freedom of the system"
   ]
  },
  {
   "cell_type": "code",
   "execution_count": 2,
   "metadata": {
    "ExecuteTime": {
     "end_time": "2019-09-13T04:06:20.728278Z",
     "start_time": "2019-09-13T04:06:19.936930Z"
    }
   },
   "outputs": [],
   "source": [
    "boundary_points = np.zeros((2,3))\n",
    "boundary_points[0,0] = -20\n",
    "boundary_points[0,1] = -20\n",
    "boundary_points[0,2] = -20\n",
    "boundary_points[1,0] = 20\n",
    "boundary_points[1,1] = 20\n",
    "boundary_points[1,2] = 20\n",
    "mesh = TetMesh()\n",
    "mesh.setup_mesh(boundary_points, \n",
    "                n_tetra=50000,)"
   ]
  },
  {
   "cell_type": "markdown",
   "metadata": {},
   "source": [
    "### Create a fault frame\n",
    "The fault frame needs to be given an interpolator to use to build the different scalar fields. In this case we link a PLI object to the model mesh."
   ]
  },
  {
   "cell_type": "code",
   "execution_count": 6,
   "metadata": {
    "ExecuteTime": {
     "end_time": "2019-09-13T04:08:38.153316Z",
     "start_time": "2019-09-13T04:08:38.137756Z"
    },
    "code_folding": []
   },
   "outputs": [],
   "source": [
    "fault_frame_interpolator = PLI(mesh)\n",
    "fault_frame_builder = StructuralFrameBuilder(interpolator=fault_frame_interpolator,\n",
    "                                             mesh=mesh,\n",
    "                               name='FaultSegment1')"
   ]
  },
  {
   "cell_type": "markdown",
   "metadata": {},
   "source": [
    "### Create and add data to the fault frame\n",
    "The fault has a simple geometry and is dipping 35 degrees west."
   ]
  },
  {
   "cell_type": "code",
   "execution_count": 7,
   "metadata": {
    "ExecuteTime": {
     "end_time": "2019-09-13T04:08:39.353160Z",
     "start_time": "2019-09-13T04:08:39.344654Z"
    }
   },
   "outputs": [],
   "source": [
    "for y in range(-15,15):\n",
    "    fault_frame_builder.add_point([18.,y,18],0,itype='gy')\n",
    "    fault_frame_builder.add_point([10,y,-5],1.,itype='gy')\n",
    "    fault_frame_builder.add_strike_dip_and_value([18.,y,18],strike=180,dip=35,val=0,itype='gx')"
   ]
  },
  {
   "cell_type": "markdown",
   "metadata": {
    "ExecuteTime": {
     "end_time": "2019-09-13T03:38:22.885627Z",
     "start_time": "2019-09-13T03:38:22.876891Z"
    }
   },
   "source": [
    "The fault frame can be built by calling `build()` this can be given specific arguments to pass to the interpolator class. For example different weights or choice of solver. This will take some time to compute depending on the mesh resolution"
   ]
  },
  {
   "cell_type": "code",
   "execution_count": 8,
   "metadata": {
    "ExecuteTime": {
     "end_time": "2019-09-13T04:09:51.157395Z",
     "start_time": "2019-09-13T04:08:39.923199Z"
    }
   },
   "outputs": [
    {
     "name": "stdout",
     "output_type": "stream",
     "text": [
      "Building gx\n",
      "Building gy\n",
      "Creating analytical gz\n"
     ]
    }
   ],
   "source": [
    "fault_frame = fault_frame_builder.build()\n",
    "fault = FaultSegment(fault_frame, displacement=4)"
   ]
  },
  {
   "cell_type": "markdown",
   "metadata": {},
   "source": [
    "### Building a stratigraphic horizon\n",
    "Just build a flat lying stratigraphic horizon using two value control points and a strike and dip constraint. These can also be modified."
   ]
  },
  {
   "cell_type": "code",
   "execution_count": null,
   "metadata": {
    "ExecuteTime": {
     "end_time": "2019-09-13T04:07:03.962972Z",
     "start_time": "2019-09-13T04:06:19.619Z"
    }
   },
   "outputs": [],
   "source": [
    "interpolator = PLI(mesh)\n",
    "feature_builder = GeologicalFeatureInterpolator(interpolator, name='stratigraphy')\n",
    "feature_builder.add_point([0,0,0],0)\n",
    "feature_builder.add_point([0,0,1],-0.5)\n",
    "feature_builder.add_strike_and_dip([0,0,0],90,0)\n",
    "solver = 'lu'\n",
    "feature = feature_builder.build(solver=solver)"
   ]
  },
  {
   "cell_type": "code",
   "execution_count": null,
   "metadata": {
    "ExecuteTime": {
     "end_time": "2019-09-13T04:07:04.003771Z",
     "start_time": "2019-09-13T04:06:19.621Z"
    }
   },
   "outputs": [],
   "source": [
    "faulted_feature = FaultedGeologicalFeature(feature, fault)"
   ]
  },
  {
   "cell_type": "code",
   "execution_count": null,
   "metadata": {
    "ExecuteTime": {
     "end_time": "2019-09-13T04:07:04.004828Z",
     "start_time": "2019-09-13T04:06:19.625Z"
    }
   },
   "outputs": [],
   "source": [
    "viewer = LavaVuModelViewer()\n",
    "viewer.plot_isosurface(faulted_feature,isovalue=0)\n",
    "mask = fault_frame.features[0].support.get_node_values() > 0\n",
    "mask[mesh.elements] = np.any(mask[mesh.elements] == True, axis=1)[:, None]\n",
    "viewer.plot_points(mesh.nodes[mask], \"nodes\", col=\"red\")\n",
    "viewer.plot_isosurface(fault_frame.features[0], isovalue=0, colour='blue')\n",
    "viewer.interactive()"
   ]
  },
  {
   "cell_type": "code",
   "execution_count": null,
   "metadata": {},
   "outputs": [],
   "source": []
  }
 ],
 "metadata": {
  "kernelspec": {
   "display_name": "Python 3",
   "language": "python",
   "name": "python3"
  },
  "language_info": {
   "codemirror_mode": {
    "name": "ipython",
    "version": 3
   },
   "file_extension": ".py",
   "mimetype": "text/x-python",
   "name": "python",
   "nbconvert_exporter": "python",
   "pygments_lexer": "ipython3",
   "version": "3.6.8"
  },
  "varInspector": {
   "cols": {
    "lenName": 16,
    "lenType": 16,
    "lenVar": 40
   },
   "kernels_config": {
    "python": {
     "delete_cmd_postfix": "",
     "delete_cmd_prefix": "del ",
     "library": "var_list.py",
     "varRefreshCmd": "print(var_dic_list())"
    },
    "r": {
     "delete_cmd_postfix": ") ",
     "delete_cmd_prefix": "rm(",
     "library": "var_list.r",
     "varRefreshCmd": "cat(var_dic_list()) "
    }
   },
   "types_to_exclude": [
    "module",
    "function",
    "builtin_function_or_method",
    "instance",
    "_Feature"
   ],
   "window_display": false
  }
 },
 "nbformat": 4,
 "nbformat_minor": 2
}
