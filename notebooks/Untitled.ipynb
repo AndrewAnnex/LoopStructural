{
 "cells": [
  {
   "cell_type": "code",
   "execution_count": 1,
   "metadata": {
    "ExecuteTime": {
     "end_time": "2019-10-30T04:45:18.282934Z",
     "start_time": "2019-10-30T04:45:17.424348Z"
    }
   },
   "outputs": [],
   "source": [
    "#import the Forward Modelling Engine modules - LoopStructural\n",
    "from LoopStructural import GeologicalModel\n",
    "from LoopStructural.visualisation.model_visualisation import LavaVuModelViewer\n",
    "# from LoopStructural.visualisation.rotation_angle_plotter import RotationAnglePlotter\n",
    "# import other libraries\n",
    "import geopandas\n",
    "import numpy as np\n",
    "from scipy.interpolate import Rbf\n",
    "import matplotlib.pyplot as plt\n",
    "import pandas as pd"
   ]
  },
  {
   "cell_type": "code",
   "execution_count": 2,
   "metadata": {
    "ExecuteTime": {
     "end_time": "2019-10-30T04:45:18.755091Z",
     "start_time": "2019-10-30T04:45:18.692535Z"
    }
   },
   "outputs": [],
   "source": [
    "boundary_points = np.zeros((2,3))\n",
    "boundary_points[0,0] = 0\n",
    "boundary_points[0,1] = 0\n",
    "boundary_points[0,2] = 5000\n",
    "boundary_points[1,0] = 10000\n",
    "boundary_points[1,1] = 7000\n",
    "boundary_points[1,2] = 10000\n",
    "data = pd.read_pickle('onefolddata.pkl')\n",
    "d = data[np.logical_or(data['random']<0.5,data['type']=='s1')]\n"
   ]
  },
  {
   "cell_type": "code",
   "execution_count": 3,
   "metadata": {
    "ExecuteTime": {
     "end_time": "2019-10-30T04:45:19.793421Z",
     "start_time": "2019-10-30T04:45:19.534147Z"
    }
   },
   "outputs": [],
   "source": [
    "folded_model = GeologicalModel(boundary_points[0,:],boundary_points[1,:])\n",
    "folded_model.set_model_data(d)\n",
    "fold_frame = folded_model.create_and_add_fold_frame('s1')\n",
    "folded_foliation = folded_model.create_and_add_folded_foliation('s0',\n",
    "                                                   fold_frame,\n",
    "                                                   fold_axis=[-6.51626577e-06, -5.00013645e-01, -8.66017526e-01],\n",
    "                                                   limb_wl=8000)"
   ]
  },
  {
   "cell_type": "code",
   "execution_count": null,
   "metadata": {},
   "outputs": [],
   "source": []
  }
 ],
 "metadata": {
  "kernelspec": {
   "display_name": "LoopStructural",
   "language": "python",
   "name": "loopstructural"
  },
  "language_info": {
   "codemirror_mode": {
    "name": "ipython",
    "version": 3
   },
   "file_extension": ".py",
   "mimetype": "text/x-python",
   "name": "python",
   "nbconvert_exporter": "python",
   "pygments_lexer": "ipython3",
   "version": "3.6.8"
  },
  "varInspector": {
   "cols": {
    "lenName": 16,
    "lenType": 16,
    "lenVar": 40
   },
   "kernels_config": {
    "python": {
     "delete_cmd_postfix": "",
     "delete_cmd_prefix": "del ",
     "library": "var_list.py",
     "varRefreshCmd": "print(var_dic_list())"
    },
    "r": {
     "delete_cmd_postfix": ") ",
     "delete_cmd_prefix": "rm(",
     "library": "var_list.r",
     "varRefreshCmd": "cat(var_dic_list()) "
    }
   },
   "types_to_exclude": [
    "module",
    "function",
    "builtin_function_or_method",
    "instance",
    "_Feature"
   ],
   "window_display": false
  }
 },
 "nbformat": 4,
 "nbformat_minor": 2
}
