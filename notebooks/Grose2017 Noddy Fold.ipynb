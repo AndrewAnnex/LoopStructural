{
 "cells": [
  {
   "cell_type": "code",
   "execution_count": 1,
   "metadata": {
    "ExecuteTime": {
     "end_time": "2019-05-23T23:20:44.977422Z",
     "start_time": "2019-05-23T23:20:42.727974Z"
    }
   },
   "outputs": [],
   "source": [
    "import numpy as np\n",
    "#import matplotlib.pyplot as plt\n",
    "import matplotlib.pyplot as plt\n",
    "import scipy.sparse.linalg as sla\n",
    "import numpy.linalg as la\n",
    "import sys, os\n",
    "import pickle\n",
    "#import shapefile\n",
    "import geopandas\n",
    "import vista\n",
    "#import rbf as RBF\n",
    "import warnings"
   ]
  },
  {
   "cell_type": "code",
   "execution_count": 2,
   "metadata": {
    "ExecuteTime": {
     "end_time": "2019-05-23T23:20:46.188621Z",
     "start_time": "2019-05-23T23:20:44.982234Z"
    }
   },
   "outputs": [],
   "source": [
    "from FME import *"
   ]
  },
  {
   "cell_type": "code",
   "execution_count": 3,
   "metadata": {
    "ExecuteTime": {
     "end_time": "2019-05-23T23:20:46.952613Z",
     "start_time": "2019-05-23T23:20:46.818551Z"
    }
   },
   "outputs": [],
   "source": [
    "points = geopandas.read_file('data.gpkg',layer='points')\n",
    "orientations = geopandas.read_file('data.gpkg',layer='orientations')\n",
    "model_area = geopandas.read_file('data.gpkg',layer='bounding_box')"
   ]
  },
  {
   "cell_type": "code",
   "execution_count": 4,
   "metadata": {
    "ExecuteTime": {
     "end_time": "2019-05-23T23:20:47.523930Z",
     "start_time": "2019-05-23T23:20:47.512710Z"
    }
   },
   "outputs": [],
   "source": [
    "geom = model_area['geometry']#.shapes()\n",
    "coords = np.array(geom[0].exterior.coords)#[0]\n",
    "minz = -(np.max(coords[:,0])-np.min(coords[:,0]))/2."
   ]
  },
  {
   "cell_type": "code",
   "execution_count": 5,
   "metadata": {
    "ExecuteTime": {
     "end_time": "2019-05-23T23:20:50.812526Z",
     "start_time": "2019-05-23T23:20:48.162136Z"
    }
   },
   "outputs": [],
   "source": [
    "boundary_points = np.zeros((2,3))\n",
    "boundary_points[0,0] = np.min(coords[:,0])\n",
    "boundary_points[0,1] = np.min(coords[:,1])\n",
    "boundary_points[0,2] = minz\n",
    "boundary_points[1,0] = np.max(coords[:,0])\n",
    "boundary_points[1,1] = np.max(coords[:,1])\n",
    "boundary_points[1,2] = -minz*0.1\n",
    "mesh = TetMesh('NoddySingleFold',)\n",
    "mesh.setup_mesh(boundary_points,nstep=1,n_tetra=50000,)\n",
    "regionmanager = RegionManager(mesh)\n",
    "cg = mesh.get_constant_gradient(region=mesh.regions['everywhere'],shape='square')\n",
    "mesh.save()"
   ]
  },
  {
   "cell_type": "code",
   "execution_count": 6,
   "metadata": {
    "ExecuteTime": {
     "end_time": "2019-05-23T23:20:51.214787Z",
     "start_time": "2019-05-23T23:20:50.815237Z"
    }
   },
   "outputs": [
    {
     "data": {
      "text/plain": [
       "Text(0.5, 1.0, 'Bedding and S0 observations')"
      ]
     },
     "execution_count": 6,
     "metadata": {},
     "output_type": "execute_result"
    },
    {
     "data": {
      "image/png": "[encoded data removed]",
      "text/plain": [
       "<Figure size 1080x1080 with 1 Axes>"
      ]
     },
     "metadata": {
      "needs_background": "light"
     },
     "output_type": "display_data"
    }
   ],
   "source": [
    "def strike_symbol(strike):\n",
    "    R = np.zeros((2,2))\n",
    "    R[0,0] = np.cos(np.deg2rad(-strike))\n",
    "    R[0,1] = -np.sin(np.deg2rad(-strike))\n",
    "    R[1,0] = np.sin(np.deg2rad(-strike))\n",
    "    R[1,1] = np.cos(np.deg2rad(-strike)) \n",
    "    R = np.zeros((2,2))\n",
    "    R[0,0] = np.cos(np.deg2rad(-strike))\n",
    "    R[0,1] = -np.sin(np.deg2rad(-strike))\n",
    "    R[1,0] = np.sin(np.deg2rad(-strike))\n",
    "    R[1,1] = np.cos(np.deg2rad(-strike))\n",
    "    \n",
    "    vec = np.array([0,1])\n",
    "    rotated = R@vec\n",
    "    vec2 = np.array([-0.5,0])\n",
    "    r2 = R@vec2\n",
    "    return rotated,r2\n",
    "def plot_strike(x,y,strike,scale=100,colour='black'):\n",
    "    rotated, r2 = strike_symbol(-strike)\n",
    "    rotated*=scale\n",
    "    r2*=scale\n",
    "    plt.plot([x,x+rotated[0]],[y,y+rotated[1]],colour)\n",
    "    plt.plot([x-rotated[0],x],[y-rotated[1],y],colour)\n",
    "    plt.plot([x,x+r2[0]],[y,y+r2[1]],'k-')\n",
    "\n",
    "\n",
    "plt.figure(figsize=(15,15))\n",
    "for i,o in orientations.iterrows():\n",
    "    if o['type'] == 's1' and o['itype'] =='gx':#print(o)\n",
    "        plot_strike(o['geometry'].xy[0][0],o['geometry'].xy[1][0],o['strike'],colour='red')\n",
    "    if o['type'] == 's0':\n",
    "        plot_strike(o['geometry'].xy[0][0],o['geometry'].xy[1][0],o['strike'],colour='black')\n",
    "plt.gca().get_yaxis().set_visible(False)#axis('equal')\n",
    "plt.gca().get_xaxis().set_visible(False)#axis('equal')\n",
    "plt.axis('equal')\n",
    "plt.title('Bedding and S0 observations')"
   ]
  },
  {
   "cell_type": "code",
   "execution_count": 7,
   "metadata": {
    "ExecuteTime": {
     "end_time": "2019-05-23T23:21:06.535528Z",
     "start_time": "2019-05-23T23:20:52.145226Z"
    }
   },
   "outputs": [
    {
     "name": "stdout",
     "output_type": "stream",
     "text": [
      "Setting up interpolator with 1 value control points \n",
      "        7 gradient control points and 0 tangent control points and \n",
      "        constant gradient regularization with a weight of 0.100000\n",
      "Setting up interpolator with 1 value control points \n",
      "        7 gradient control points and 0 tangent control points and \n",
      "        constant gradient regularization with a weight of 0.000000\n"
     ]
    }
   ],
   "source": [
    "fold_f1 = FoldFrame(mesh=mesh,region='everywhere',shape='square',name='Fold_f1')\n",
    "for i, r in orientations.iterrows():\n",
    "    if r['type'] == 's1':\n",
    "        xy = r['geometry'].xy\n",
    "        z = 0\n",
    "        if 'z' in r:\n",
    "            z = r['z']\n",
    "        fold_f1.add_strike_and_dip([xy[0][0],xy[1][0],z],r['strike'],r['dip'],itype=r['itype'])\n",
    "for i, r in points.iterrows():\n",
    "    if r['type'] == 's1':\n",
    "        xy = r['geometry'].xy\n",
    "        z = 0\n",
    "        if 'z' in r:\n",
    "            z = r['z']\n",
    "        fold_f1.add_point([xy[0][0],xy[1][0],z],r['value'],itype=r['itype'])\n",
    "\n",
    "fold_f1.buildFrame(solver='chol')"
   ]
  },
  {
   "cell_type": "code",
   "execution_count": null,
   "metadata": {},
   "outputs": [],
   "source": [
    "def semivariogram(self,lags,tol,distance,covariance):\n",
    "        variance = np.zeros(len(lags))\n",
    "        npairs = np.zeros(len(lags))\n",
    "        self.min_ = np.zeros(len(lags))\n",
    "        self.max_ = np.zeros(len(lags))\n",
    "        for i in range(len(lags)):\n",
    "            ma = np.ma.array(data = covariance, mask =inside(distance,\n",
    "                lags[i]-tol/2.,lags[i]+tol/2.))\n",
    "            if len(ma[~ma.mask])>0:\n",
    "                variance[i] = np.mean(ma[~ma.mask])     \n",
    "                self.min_[i] = np.percentile(ma[~ma.mask],25)\n",
    "                self.max_[i] = np.percentile(ma[~ma.mask],75)\n",
    "            else:\n",
    "                variance[i] = np.nan\n",
    "                self.min_[i] = np.nan\n",
    "                self.max_[i] = np.nan\n",
    "            npairs[i] = ma.count()\n",
    "        return variance,npairs\n",
    "    def find_wavelengths(self,step=0,nlags=0):\n",
    "\n",
    "        if step==0:\n",
    "            minxx = np.min(self.xdata)\n",
    "            maxx = np.max(self.xdata)\n",
    "            sorted_x = np.sort(self.xdata)\n",
    "            av_dist = 0.\n",
    "            c = 0\n",
    "            dist = 0\n",
    "            for i in range(len(self.xdata)):\n",
    "                if i ==0:\n",
    "                    dist += sorted_x[i+1]-sorted_x[i]\n",
    "                    c+=1\n",
    "                if i == len(self.xdata)-1:\n",
    "                    dist += sorted_x[i]-sorted_x[i-1]\n",
    "                    c+=1\n",
    "                else:\n",
    "                    dist += sorted_x[i]-sorted_x[i-1]\n",
    "                    dist += sorted_x[i+1]-sorted_x[i]\n",
    "                    c+=2\n",
    "\n",
    "            step = dist /c #abs((float((maxx - minxx)) / float(len(self.xdata))))\n",
    "            step*=1.2\n",
    "        if nlags == 0:\n",
    "            distance = np.abs(np.min(self.xdata)-np.max(self.xdata))\n",
    "            nlags = (distance / step)\n",
    "        self.h, self.var, self.npairs = self.calc_semivariogram(step,nlags,step)\n",
    "\n",
    "        self.px, self.py = self.find_peaks_and_troughs(self.h,self.var)\n",
    "        \n",
    "        self.averagex = []\n",
    "        self.averagey = []\n",
    "        for i in range(len(self.px)-1):\n",
    "            self.averagex.append((self.px[i]+self.px[i+1])/2.)\n",
    "            self.averagey.append((self.py[i]+self.py[i+1])/2.)\n",
    "            i+=1 #iterate twice\n",
    "        #find the extrema of the average curve\n",
    "        self.px2, self.py2 = self.find_peaks_and_troughs(self.averagex,self.averagey)\n",
    "        self.wl1 = 0.\n",
    "        wl1py = 0.\n",
    "        for i in range(len(self.px)):\n",
    "            if i > 0 and i < len(self.px)-1:\n",
    "                if self.py[i] > 10:\n",
    "                    \n",
    "                    if self.py[i-1] < self.py[i]*.7:\n",
    "                        if self.py[i+1] < self.py[i]*.7:\n",
    "                            self.wl1 = self.px[i]\n",
    "                            if self.wl1 > 0.:\n",
    "                                wl1py = self.py[i]\n",
    "                                break\n",
    "        self.wl2 = 0.\n",
    "        for i in range(len(self.px2)):\n",
    "            if i > 0 and i < len(self.px2)-1:\n",
    "                if self.py2[i-1] < self.py2[i]*.90:\n",
    "                    if self.py2[i+1] < self.py2[i]*.90:\n",
    "                        self.wl2 = self.px2[i]\n",
    "                        if self.wl2 > 0. and self.wl2 > self.wl1*2 and wl1py < self.py2[i]:\n",
    "                            \n",
    "                            break\n",
    "        if self.wl1 == 0.0 and self.wl2 == 0.0:\n",
    "            return 0.0, 2*(maxx-minxx)\n",
    "        return self.wl1*2., self.wl2*2.\n",
    "    def find_peaks_and_troughs(self,x,y):\n",
    "        if len(x) != len(y):\n",
    "            return False\n",
    "        pairsx = []\n",
    "        pairsy = []\n",
    "        for i in range(0,len(x)):\n",
    "            if i < 1:\n",
    "                pairsx.append(x[i])\n",
    "                pairsy.append(y[i])\n",
    "\n",
    "                continue\n",
    "            if i > len(x)-2:\n",
    "                pairsx.append(x[i])\n",
    "                pairsy.append(y[i])\n",
    "                continue\n",
    "            left_grad = (y[i-1]-y[i]) / (x[i-1]-x[i])\n",
    "            right_grad = (y[i]-y[i+1]) / (x[i]-x[i+1])\n",
    "            if np.sign(left_grad) != np.sign(right_grad):\n",
    "                pairsx.append(x[i])\n",
    "                pairsy.append(y[i])\n",
    "        return pairsx,pairsy"
   ]
  },
  {
   "cell_type": "code",
   "execution_count": 56,
   "metadata": {
    "ExecuteTime": {
     "end_time": "2019-05-24T00:25:41.399088Z",
     "start_time": "2019-05-24T00:25:41.387447Z"
    }
   },
   "outputs": [],
   "source": [
    "from scipy.spatial.distance import pdist,squareform\n",
    "dist = squareform(pdist(np.array([s1gy]).T))\n",
    "max_dist = np.max(dist)\n",
    "dist[dist==0] = 9999\n",
    "step = np.mean(np.min(dist,axis=1))/2.\n",
    "#print(steps,max_dist)\n",
    "steps = np.arange(0,max_dist,step)\n",
    "\n",
    "\n",
    "steps2 = np.arange(step,max_dist+step,step)\n",
    "steps=np.vstack([[steps],[steps2]])"
   ]
  },
  {
   "cell_type": "code",
   "execution_count": 58,
   "metadata": {
    "ExecuteTime": {
     "end_time": "2019-05-24T00:25:55.132353Z",
     "start_time": "2019-05-24T00:25:55.120324Z"
    }
   },
   "outputs": [
    {
     "ename": "ValueError",
     "evalue": "operands could not be broadcast together with shapes (7,7) (20,) ",
     "output_type": "error",
     "traceback": [
      "\u001b[0;31m---------------------------------------------------------------------------\u001b[0m",
      "\u001b[0;31mValueError\u001b[0m                                Traceback (most recent call last)",
      "\u001b[0;32m<ipython-input-58-22204e394324>\u001b[0m in \u001b[0;36m<module>\u001b[0;34m\u001b[0m\n\u001b[1;32m      1\u001b[0m \u001b[0;31m#print(steps)\u001b[0m\u001b[0;34m\u001b[0m\u001b[0;34m\u001b[0m\u001b[0;34m\u001b[0m\u001b[0m\n\u001b[1;32m      2\u001b[0m \u001b[0;34m\u001b[0m\u001b[0m\n\u001b[0;32m----> 3\u001b[0;31m \u001b[0mdist\u001b[0m\u001b[0;34m[\u001b[0m\u001b[0mnp\u001b[0m\u001b[0;34m.\u001b[0m\u001b[0mlogical_and\u001b[0m\u001b[0;34m(\u001b[0m\u001b[0mdist\u001b[0m\u001b[0;34m>\u001b[0m\u001b[0msteps\u001b[0m\u001b[0;34m[\u001b[0m\u001b[0;36m0\u001b[0m\u001b[0;34m,\u001b[0m\u001b[0;34m:\u001b[0m\u001b[0;34m]\u001b[0m\u001b[0;34m,\u001b[0m\u001b[0mdist\u001b[0m\u001b[0;34m<\u001b[0m\u001b[0msteps\u001b[0m\u001b[0;34m[\u001b[0m\u001b[0;36m1\u001b[0m\u001b[0;34m,\u001b[0m\u001b[0;34m:\u001b[0m\u001b[0;34m]\u001b[0m\u001b[0;34m)\u001b[0m\u001b[0;34m]\u001b[0m\u001b[0;34m\u001b[0m\u001b[0;34m\u001b[0m\u001b[0m\n\u001b[0m",
      "\u001b[0;31mValueError\u001b[0m: operands could not be broadcast together with shapes (7,7) (20,) "
     ]
    }
   ],
   "source": [
    "#print(steps)\n",
    "\n",
    "dist[np.logical_and(dist>steps[0,:],dist<steps[1,:])]"
   ]
  },
  {
   "cell_type": "code",
   "execution_count": 14,
   "metadata": {
    "ExecuteTime": {
     "end_time": "2019-05-23T23:23:16.479482Z",
     "start_time": "2019-05-23T23:23:16.157703Z"
    }
   },
   "outputs": [
    {
     "ename": "MaskError",
     "evalue": "Mask and data not compatible: data size is 49, mask size is 7.",
     "output_type": "error",
     "traceback": [
      "\u001b[0;31m---------------------------------------------------------------------------\u001b[0m",
      "\u001b[0;31mMaskError\u001b[0m                                 Traceback (most recent call last)",
      "\u001b[0;32m<ipython-input-14-cd36c4737b8e>\u001b[0m in \u001b[0;36m<module>\u001b[0;34m\u001b[0m\n\u001b[1;32m     26\u001b[0m \u001b[0msvario\u001b[0m\u001b[0;34m.\u001b[0m\u001b[0msetup\u001b[0m\u001b[0;34m(\u001b[0m\u001b[0;34m)\u001b[0m\u001b[0;34m\u001b[0m\u001b[0;34m\u001b[0m\u001b[0m\n\u001b[1;32m     27\u001b[0m \u001b[0;31m#guess = [.04000]\u001b[0m\u001b[0;34m\u001b[0m\u001b[0;34m\u001b[0m\u001b[0;34m\u001b[0m\u001b[0m\n\u001b[0;32m---> 28\u001b[0;31m \u001b[0mguess\u001b[0m \u001b[0;34m=\u001b[0m \u001b[0msvario\u001b[0m\u001b[0;34m.\u001b[0m\u001b[0mfind_wavelengths\u001b[0m\u001b[0;34m(\u001b[0m\u001b[0;34m)\u001b[0m\u001b[0;34m\u001b[0m\u001b[0;34m\u001b[0m\u001b[0m\n\u001b[0m\u001b[1;32m     29\u001b[0m \u001b[0max\u001b[0m\u001b[0;34m[\u001b[0m\u001b[0;36m1\u001b[0m\u001b[0;34m]\u001b[0m\u001b[0;34m.\u001b[0m\u001b[0mplot\u001b[0m\u001b[0;34m(\u001b[0m\u001b[0msvario\u001b[0m\u001b[0;34m.\u001b[0m\u001b[0mh\u001b[0m\u001b[0;34m,\u001b[0m\u001b[0msvario\u001b[0m\u001b[0;34m.\u001b[0m\u001b[0mvar\u001b[0m\u001b[0;34m,\u001b[0m\u001b[0;34m'bo'\u001b[0m\u001b[0;34m)\u001b[0m\u001b[0;34m\u001b[0m\u001b[0;34m\u001b[0m\u001b[0m\n\u001b[1;32m     30\u001b[0m \u001b[0;31m#ax[1].axvline(guess[0])\u001b[0m\u001b[0;34m\u001b[0m\u001b[0;34m\u001b[0m\u001b[0;34m\u001b[0m\u001b[0m\n",
      "\u001b[0;32m~/.local/lib/python3.6/site-packages/FME-0.0.0-py3.6-linux-x86_64.egg/FME/svariogram.py\u001b[0m in \u001b[0;36mfind_wavelengths\u001b[0;34m(self, step, nlags)\u001b[0m\n\u001b[1;32m     76\u001b[0m             \u001b[0mdistance\u001b[0m \u001b[0;34m=\u001b[0m \u001b[0mnp\u001b[0m\u001b[0;34m.\u001b[0m\u001b[0mabs\u001b[0m\u001b[0;34m(\u001b[0m\u001b[0mnp\u001b[0m\u001b[0;34m.\u001b[0m\u001b[0mmin\u001b[0m\u001b[0;34m(\u001b[0m\u001b[0mself\u001b[0m\u001b[0;34m.\u001b[0m\u001b[0mxdata\u001b[0m\u001b[0;34m)\u001b[0m\u001b[0;34m-\u001b[0m\u001b[0mnp\u001b[0m\u001b[0;34m.\u001b[0m\u001b[0mmax\u001b[0m\u001b[0;34m(\u001b[0m\u001b[0mself\u001b[0m\u001b[0;34m.\u001b[0m\u001b[0mxdata\u001b[0m\u001b[0;34m)\u001b[0m\u001b[0;34m)\u001b[0m\u001b[0;34m\u001b[0m\u001b[0;34m\u001b[0m\u001b[0m\n\u001b[1;32m     77\u001b[0m             \u001b[0mnlags\u001b[0m \u001b[0;34m=\u001b[0m \u001b[0;34m(\u001b[0m\u001b[0mdistance\u001b[0m \u001b[0;34m/\u001b[0m \u001b[0mstep\u001b[0m\u001b[0;34m)\u001b[0m\u001b[0;34m\u001b[0m\u001b[0;34m\u001b[0m\u001b[0m\n\u001b[0;32m---> 78\u001b[0;31m         \u001b[0mself\u001b[0m\u001b[0;34m.\u001b[0m\u001b[0mh\u001b[0m\u001b[0;34m,\u001b[0m \u001b[0mself\u001b[0m\u001b[0;34m.\u001b[0m\u001b[0mvar\u001b[0m\u001b[0;34m,\u001b[0m \u001b[0mself\u001b[0m\u001b[0;34m.\u001b[0m\u001b[0mnpairs\u001b[0m \u001b[0;34m=\u001b[0m \u001b[0mself\u001b[0m\u001b[0;34m.\u001b[0m\u001b[0mcalc_semivariogram\u001b[0m\u001b[0;34m(\u001b[0m\u001b[0mstep\u001b[0m\u001b[0;34m,\u001b[0m\u001b[0mnlags\u001b[0m\u001b[0;34m,\u001b[0m\u001b[0mstep\u001b[0m\u001b[0;34m)\u001b[0m\u001b[0;34m\u001b[0m\u001b[0;34m\u001b[0m\u001b[0m\n\u001b[0m\u001b[1;32m     79\u001b[0m \u001b[0;34m\u001b[0m\u001b[0m\n\u001b[1;32m     80\u001b[0m         \u001b[0mself\u001b[0m\u001b[0;34m.\u001b[0m\u001b[0mpx\u001b[0m\u001b[0;34m,\u001b[0m \u001b[0mself\u001b[0m\u001b[0;34m.\u001b[0m\u001b[0mpy\u001b[0m \u001b[0;34m=\u001b[0m \u001b[0mself\u001b[0m\u001b[0;34m.\u001b[0m\u001b[0mfind_peaks_and_troughs\u001b[0m\u001b[0;34m(\u001b[0m\u001b[0mself\u001b[0m\u001b[0;34m.\u001b[0m\u001b[0mh\u001b[0m\u001b[0;34m,\u001b[0m\u001b[0mself\u001b[0m\u001b[0;34m.\u001b[0m\u001b[0mvar\u001b[0m\u001b[0;34m)\u001b[0m\u001b[0;34m\u001b[0m\u001b[0;34m\u001b[0m\u001b[0m\n",
      "\u001b[0;32m~/.local/lib/python3.6/site-packages/FME-0.0.0-py3.6-linux-x86_64.egg/FME/svariogram.py\u001b[0m in \u001b[0;36mcalc_semivariogram\u001b[0;34m(self, step, nlags, tol)\u001b[0m\n\u001b[1;32m     31\u001b[0m     \u001b[0;32mdef\u001b[0m \u001b[0mcalc_semivariogram\u001b[0m\u001b[0;34m(\u001b[0m\u001b[0mself\u001b[0m\u001b[0;34m,\u001b[0m \u001b[0mstep\u001b[0m\u001b[0;34m,\u001b[0m \u001b[0mnlags\u001b[0m\u001b[0;34m,\u001b[0m \u001b[0mtol\u001b[0m\u001b[0;34m)\u001b[0m\u001b[0;34m:\u001b[0m\u001b[0;34m\u001b[0m\u001b[0;34m\u001b[0m\u001b[0m\n\u001b[1;32m     32\u001b[0m         \u001b[0mself\u001b[0m\u001b[0;34m.\u001b[0m\u001b[0mlags\u001b[0m \u001b[0;34m=\u001b[0m \u001b[0mnp\u001b[0m\u001b[0;34m.\u001b[0m\u001b[0marange\u001b[0m\u001b[0;34m(\u001b[0m\u001b[0mstep\u001b[0m\u001b[0;34m/\u001b[0m\u001b[0;36m2.\u001b[0m\u001b[0;34m,\u001b[0m\u001b[0mnlags\u001b[0m\u001b[0;34m*\u001b[0m\u001b[0mstep\u001b[0m\u001b[0;34m,\u001b[0m\u001b[0mstep\u001b[0m\u001b[0;34m)\u001b[0m\u001b[0;34m\u001b[0m\u001b[0;34m\u001b[0m\u001b[0m\n\u001b[0;32m---> 33\u001b[0;31m         \u001b[0mself\u001b[0m\u001b[0;34m.\u001b[0m\u001b[0mvariance\u001b[0m\u001b[0;34m,\u001b[0m\u001b[0mself\u001b[0m\u001b[0;34m.\u001b[0m\u001b[0mnpairs\u001b[0m \u001b[0;34m=\u001b[0m \u001b[0mself\u001b[0m\u001b[0;34m.\u001b[0m\u001b[0msemivariogram\u001b[0m\u001b[0;34m(\u001b[0m\u001b[0mself\u001b[0m\u001b[0;34m.\u001b[0m\u001b[0mlags\u001b[0m\u001b[0;34m*\u001b[0m\u001b[0;36m1.1\u001b[0m\u001b[0;34m,\u001b[0m\u001b[0mstep\u001b[0m\u001b[0;34m,\u001b[0m\u001b[0mself\u001b[0m\u001b[0;34m.\u001b[0m\u001b[0mdistance_m\u001b[0m\u001b[0;34m,\u001b[0m\u001b[0mself\u001b[0m\u001b[0;34m.\u001b[0m\u001b[0mcovariance_m\u001b[0m\u001b[0;34m)\u001b[0m\u001b[0;34m\u001b[0m\u001b[0;34m\u001b[0m\u001b[0m\n\u001b[0m\u001b[1;32m     34\u001b[0m         \u001b[0;32mreturn\u001b[0m \u001b[0mself\u001b[0m\u001b[0;34m.\u001b[0m\u001b[0mlags\u001b[0m\u001b[0;34m,\u001b[0m \u001b[0mself\u001b[0m\u001b[0;34m.\u001b[0m\u001b[0mvariance\u001b[0m\u001b[0;34m,\u001b[0m \u001b[0mself\u001b[0m\u001b[0;34m.\u001b[0m\u001b[0mnpairs\u001b[0m\u001b[0;34m\u001b[0m\u001b[0;34m\u001b[0m\u001b[0m\n\u001b[1;32m     35\u001b[0m     \u001b[0;32mdef\u001b[0m \u001b[0msemivariogram\u001b[0m\u001b[0;34m(\u001b[0m\u001b[0mself\u001b[0m\u001b[0;34m,\u001b[0m\u001b[0mlags\u001b[0m\u001b[0;34m,\u001b[0m\u001b[0mtol\u001b[0m\u001b[0;34m,\u001b[0m\u001b[0mdistance\u001b[0m\u001b[0;34m,\u001b[0m\u001b[0mcovariance\u001b[0m\u001b[0;34m)\u001b[0m\u001b[0;34m:\u001b[0m\u001b[0;34m\u001b[0m\u001b[0;34m\u001b[0m\u001b[0m\n",
      "\u001b[0;32m~/.local/lib/python3.6/site-packages/FME-0.0.0-py3.6-linux-x86_64.egg/FME/svariogram.py\u001b[0m in \u001b[0;36msemivariogram\u001b[0;34m(self, lags, tol, distance, covariance)\u001b[0m\n\u001b[1;32m     39\u001b[0m         \u001b[0mself\u001b[0m\u001b[0;34m.\u001b[0m\u001b[0mmax_\u001b[0m \u001b[0;34m=\u001b[0m \u001b[0mnp\u001b[0m\u001b[0;34m.\u001b[0m\u001b[0mzeros\u001b[0m\u001b[0;34m(\u001b[0m\u001b[0mlen\u001b[0m\u001b[0;34m(\u001b[0m\u001b[0mlags\u001b[0m\u001b[0;34m)\u001b[0m\u001b[0;34m)\u001b[0m\u001b[0;34m\u001b[0m\u001b[0;34m\u001b[0m\u001b[0m\n\u001b[1;32m     40\u001b[0m         \u001b[0;32mfor\u001b[0m \u001b[0mi\u001b[0m \u001b[0;32min\u001b[0m \u001b[0mrange\u001b[0m\u001b[0;34m(\u001b[0m\u001b[0mlen\u001b[0m\u001b[0;34m(\u001b[0m\u001b[0mlags\u001b[0m\u001b[0;34m)\u001b[0m\u001b[0;34m)\u001b[0m\u001b[0;34m:\u001b[0m\u001b[0;34m\u001b[0m\u001b[0;34m\u001b[0m\u001b[0m\n\u001b[0;32m---> 41\u001b[0;31m             \u001b[0mma\u001b[0m \u001b[0;34m=\u001b[0m \u001b[0mnp\u001b[0m\u001b[0;34m.\u001b[0m\u001b[0mma\u001b[0m\u001b[0;34m.\u001b[0m\u001b[0marray\u001b[0m\u001b[0;34m(\u001b[0m\u001b[0mdata\u001b[0m \u001b[0;34m=\u001b[0m \u001b[0mcovariance\u001b[0m\u001b[0;34m,\u001b[0m \u001b[0mmask\u001b[0m \u001b[0;34m=\u001b[0m\u001b[0minside\u001b[0m\u001b[0;34m(\u001b[0m\u001b[0mdistance\u001b[0m\u001b[0;34m,\u001b[0m\u001b[0mlags\u001b[0m\u001b[0;34m[\u001b[0m\u001b[0mi\u001b[0m\u001b[0;34m]\u001b[0m\u001b[0;34m-\u001b[0m\u001b[0mtol\u001b[0m\u001b[0;34m/\u001b[0m\u001b[0;36m2.\u001b[0m\u001b[0;34m,\u001b[0m\u001b[0mlags\u001b[0m\u001b[0;34m[\u001b[0m\u001b[0mi\u001b[0m\u001b[0;34m]\u001b[0m\u001b[0;34m+\u001b[0m\u001b[0mtol\u001b[0m\u001b[0;34m/\u001b[0m\u001b[0;36m2.\u001b[0m\u001b[0;34m)\u001b[0m\u001b[0;34m)\u001b[0m\u001b[0;34m\u001b[0m\u001b[0;34m\u001b[0m\u001b[0m\n\u001b[0m\u001b[1;32m     42\u001b[0m             \u001b[0;32mif\u001b[0m \u001b[0mlen\u001b[0m\u001b[0;34m(\u001b[0m\u001b[0mma\u001b[0m\u001b[0;34m[\u001b[0m\u001b[0;34m~\u001b[0m\u001b[0mma\u001b[0m\u001b[0;34m.\u001b[0m\u001b[0mmask\u001b[0m\u001b[0;34m]\u001b[0m\u001b[0;34m)\u001b[0m\u001b[0;34m>\u001b[0m\u001b[0;36m0\u001b[0m\u001b[0;34m:\u001b[0m\u001b[0;34m\u001b[0m\u001b[0;34m\u001b[0m\u001b[0m\n\u001b[1;32m     43\u001b[0m                 \u001b[0mvariance\u001b[0m\u001b[0;34m[\u001b[0m\u001b[0mi\u001b[0m\u001b[0;34m]\u001b[0m \u001b[0;34m=\u001b[0m \u001b[0mnp\u001b[0m\u001b[0;34m.\u001b[0m\u001b[0mmean\u001b[0m\u001b[0;34m(\u001b[0m\u001b[0mma\u001b[0m\u001b[0;34m[\u001b[0m\u001b[0;34m~\u001b[0m\u001b[0mma\u001b[0m\u001b[0;34m.\u001b[0m\u001b[0mmask\u001b[0m\u001b[0;34m]\u001b[0m\u001b[0;34m)\u001b[0m\u001b[0;34m\u001b[0m\u001b[0;34m\u001b[0m\u001b[0m\n",
      "\u001b[0;32m~/.local/lib/python3.6/site-packages/numpy/ma/core.py\u001b[0m in \u001b[0;36marray\u001b[0;34m(data, dtype, copy, order, mask, fill_value, keep_mask, hard_mask, shrink, subok, ndmin)\u001b[0m\n\u001b[1;32m   6375\u001b[0m                        \u001b[0msubok\u001b[0m\u001b[0;34m=\u001b[0m\u001b[0msubok\u001b[0m\u001b[0;34m,\u001b[0m \u001b[0mkeep_mask\u001b[0m\u001b[0;34m=\u001b[0m\u001b[0mkeep_mask\u001b[0m\u001b[0;34m,\u001b[0m\u001b[0;34m\u001b[0m\u001b[0;34m\u001b[0m\u001b[0m\n\u001b[1;32m   6376\u001b[0m                        \u001b[0mhard_mask\u001b[0m\u001b[0;34m=\u001b[0m\u001b[0mhard_mask\u001b[0m\u001b[0;34m,\u001b[0m \u001b[0mfill_value\u001b[0m\u001b[0;34m=\u001b[0m\u001b[0mfill_value\u001b[0m\u001b[0;34m,\u001b[0m\u001b[0;34m\u001b[0m\u001b[0;34m\u001b[0m\u001b[0m\n\u001b[0;32m-> 6377\u001b[0;31m                        ndmin=ndmin, shrink=shrink, order=order)\n\u001b[0m\u001b[1;32m   6378\u001b[0m \u001b[0marray\u001b[0m\u001b[0;34m.\u001b[0m\u001b[0m__doc__\u001b[0m \u001b[0;34m=\u001b[0m \u001b[0mmasked_array\u001b[0m\u001b[0;34m.\u001b[0m\u001b[0m__doc__\u001b[0m\u001b[0;34m\u001b[0m\u001b[0;34m\u001b[0m\u001b[0m\n\u001b[1;32m   6379\u001b[0m \u001b[0;34m\u001b[0m\u001b[0m\n",
      "\u001b[0;32m~/.local/lib/python3.6/site-packages/numpy/ma/core.py\u001b[0m in \u001b[0;36m__new__\u001b[0;34m(cls, data, mask, dtype, copy, subok, ndmin, fill_value, keep_mask, hard_mask, shrink, order, **options)\u001b[0m\n\u001b[1;32m   2863\u001b[0m                     \u001b[0mmsg\u001b[0m \u001b[0;34m=\u001b[0m \u001b[0;34m\"Mask and data not compatible: data size is %i, \"\u001b[0m \u001b[0;34m+\u001b[0m\u001b[0;31m \u001b[0m\u001b[0;31m\\\u001b[0m\u001b[0;34m\u001b[0m\u001b[0;34m\u001b[0m\u001b[0m\n\u001b[1;32m   2864\u001b[0m                           \u001b[0;34m\"mask size is %i.\"\u001b[0m\u001b[0;34m\u001b[0m\u001b[0;34m\u001b[0m\u001b[0m\n\u001b[0;32m-> 2865\u001b[0;31m                     \u001b[0;32mraise\u001b[0m \u001b[0mMaskError\u001b[0m\u001b[0;34m(\u001b[0m\u001b[0mmsg\u001b[0m \u001b[0;34m%\u001b[0m \u001b[0;34m(\u001b[0m\u001b[0mnd\u001b[0m\u001b[0;34m,\u001b[0m \u001b[0mnm\u001b[0m\u001b[0;34m)\u001b[0m\u001b[0;34m)\u001b[0m\u001b[0;34m\u001b[0m\u001b[0;34m\u001b[0m\u001b[0m\n\u001b[0m\u001b[1;32m   2866\u001b[0m                 \u001b[0mcopy\u001b[0m \u001b[0;34m=\u001b[0m \u001b[0;32mTrue\u001b[0m\u001b[0;34m\u001b[0m\u001b[0;34m\u001b[0m\u001b[0m\n\u001b[1;32m   2867\u001b[0m             \u001b[0;31m# Set the mask to the new value\u001b[0m\u001b[0;34m\u001b[0m\u001b[0;34m\u001b[0m\u001b[0;34m\u001b[0m\u001b[0m\n",
      "\u001b[0;31mMaskError\u001b[0m: Mask and data not compatible: data size is 49, mask size is 7."
     ]
    },
    {
     "data": {
      "image/png": "[encoded data removed]",
      "text/plain": [
       "<Figure size 1080x360 with 2 Axes>"
      ]
     },
     "metadata": {
      "needs_background": "light"
     },
     "output_type": "display_data"
    }
   ],
   "source": [
    "#from helper import strike_dip_vector\n",
    "nans = np.zeros(len(orientations))\n",
    "nans[:] = np.nan\n",
    "orientations['x'] = nans\n",
    "orientations['y'] = nans\n",
    "orientations['z'] = nans\n",
    "for i,r in orientations.iterrows():\n",
    "    orientations.at[i,'x'] = r['geometry'].xy[0][0]\n",
    "    orientations.at[i,'y'] = r['geometry'].xy[1][0]\n",
    "    orientations.at[i,'z'] = 0.0\n",
    "s0 = orientations[orientations['type'] == 's0']\n",
    "xyz = s0.loc[:,['x','y','z']].as_matrix()\n",
    "s0g = strike_dip_vector(s0.loc[:,'strike'],s0.loc[:,'dip'])\n",
    "s0g /= np.linalg.norm(s0g,axis=1)[:,None]\n",
    "l1 = fold_f1.calculate_intersection_lineation(np.hstack([xyz,s0g]))\n",
    "far = fold_f1.calculate_fold_axis_rotation(np.hstack([xyz,l1]))                                        \n",
    "s1 = fold_f1.get_gx(xyz,grad=False)\n",
    "s1gy = fold_f1.get_gy(xyz,grad=False)\n",
    "\n",
    "##quick figure\n",
    "fig, ax = plt.subplots(1,2,figsize=(15,5))\n",
    "ax[0].plot(s1gy,far,'bo')\n",
    "ax[0].set_ylim(-90,90)\n",
    "#ax[0].ylim(-90,90)\n",
    "svario = s_variogram(s1gy,far)\n",
    "svario.setup()\n",
    "#guess = [.04000]\n",
    "guess = svario.find_wavelengths()\n",
    "ax[1].plot(svario.h,svario.var,'bo')\n",
    "#ax[1].axvline(guess[0])"
   ]
  },
  {
   "cell_type": "code",
   "execution_count": 10,
   "metadata": {
    "ExecuteTime": {
     "end_time": "2019-05-23T23:22:13.807988Z",
     "start_time": "2019-05-23T23:22:13.645052Z"
    }
   },
   "outputs": [
    {
     "data": {
      "image/png": "[encoded data removed]",
      "text/plain": [
       "<Figure size 432x288 with 1 Axes>"
      ]
     },
     "metadata": {
      "needs_background": "light"
     },
     "output_type": "display_data"
    }
   ],
   "source": [
    "from scipy.interpolate import Rbf\n",
    "far_tan = np.tan(np.deg2rad(far))\n",
    "rbf_fold_axis = Rbf(s1gy,np.zeros(s1gy.shape),np.zeros(s1gy.shape),far_tan,function='gaussian',epsilon=guess[0],smooth=.1)\n",
    "xi = np.linspace(-3000,2000,1000)\n",
    "plt.plot(xi,np.rad2deg(np.arctan(rbf_fold_axis(xi,np.zeros(1000),np.zeros(1000)))))\n",
    "plt.plot(s1gy,far,'bo')\n",
    "plt.ylim(-90,90)\n",
    "def fold_axis_rotation(x):\n",
    "    return np.rad2deg(np.arctan(rbf_fold_axis(x,np.zeros(x.shape),np.zeros(x.shape))))"
   ]
  },
  {
   "cell_type": "code",
   "execution_count": 12,
   "metadata": {
    "ExecuteTime": {
     "end_time": "2019-05-09T01:07:02.530924Z",
     "start_time": "2019-05-09T01:07:02.211489Z"
    }
   },
   "outputs": [
    {
     "data": {
      "image/png": "[encoded data removed]",
      "text/plain": [
       "<Figure size 1080x360 with 2 Axes>"
      ]
     },
     "metadata": {
      "needs_background": "light"
     },
     "output_type": "display_data"
    }
   ],
   "source": [
    "fold = FoldEvent(fold_f1,fold_axis_rotation,None)\n",
    "axis = fold.get_fold_axis_orientation(xyz)\n",
    "axis/=np.linalg.norm(axis,axis=1)[:,None]\n",
    "flr = fold_f1.calculate_fold_limb_rotation(np.hstack([xyz,s0g]),axis=axis)\n",
    "##quick figure\n",
    "fig, ax = plt.subplots(1,2,figsize=(15,5))\n",
    "ax[0].plot(s1,flr,'bo')\n",
    "ax[0].set_ylim(-90,90)\n",
    "#ax[0].ylim(-90,90)\n",
    "svario = s_variogram(s1,flr)\n",
    "svario.setup()\n",
    "guess = svario.find_wavelengths()\n",
    "ax[1].plot(svario.h,svario.var,'bo')\n",
    "#ax[1].axvline(guess[1])\n",
    "guess = np.array(guess)\n",
    "guess[0] = 2500"
   ]
  },
  {
   "cell_type": "code",
   "execution_count": 13,
   "metadata": {
    "ExecuteTime": {
     "end_time": "2019-05-09T01:07:03.481988Z",
     "start_time": "2019-05-09T01:07:03.320683Z"
    }
   },
   "outputs": [
    {
     "data": {
      "image/png": "[encoded data removed]",
      "text/plain": [
       "<Figure size 432x288 with 1 Axes>"
      ]
     },
     "metadata": {
      "needs_background": "light"
     },
     "output_type": "display_data"
    }
   ],
   "source": [
    "flr_tan = np.tan(np.deg2rad(flr))\n",
    "rbf_fold_limb = Rbf(s1,np.zeros(s1.shape),np.zeros(s1.shape),flr_tan,function='gaussian',epsilon=guess[0],smooth=.05)\n",
    "xi = np.linspace(0,10000,1000)\n",
    "plt.plot(xi,np.rad2deg(np.arctan(rbf_fold_limb(xi,np.zeros(1000),np.zeros(1000)))))\n",
    "plt.plot(s1,flr,'bo')\n",
    "plt.ylim(-90,90)\n",
    "def fold_limb_rotation(x):\n",
    "    return np.rad2deg(np.arctan(rbf_fold_limb(x,np.zeros(x.shape),np.zeros(x.shape))))"
   ]
  },
  {
   "cell_type": "code",
   "execution_count": 14,
   "metadata": {
    "ExecuteTime": {
     "end_time": "2019-05-09T01:07:07.917912Z",
     "start_time": "2019-05-09T01:07:04.230185Z"
    }
   },
   "outputs": [],
   "source": [
    "#update the fold event to have a real fold_limb_rotation function\n",
    "fold.fold_limb_rotation = fold_limb_rotation\n",
    "const = DSIFoldConstraint(fold,mesh,shape='square') \n",
    "const.use_deformed_orientation_cnstrt(50.) \n",
    "const.use_fold_axis_cnstrt(3.) \n",
    "const.use_regularisation_cnstrt(10.) \n",
    "const.use_normalisation_cnstrt()\n",
    "\n",
    "A, B, row, col = const.get_constraints()\n",
    "deformed_orientation, fold_axis, dgz = fold.get_deformed_orientation(mesh.barycentre)\n",
    "mesh.property_gradients['fold'] = deformed_orientation \n",
    "mesh.property_gradients['axis'] = fold_axis \n",
    "mesh.update_property('foldrot',fold_limb_rotation(mesh.properties[fold_f1.interpolators['gx'].propertyname]))"
   ]
  },
  {
   "cell_type": "code",
   "execution_count": 15,
   "metadata": {
    "ExecuteTime": {
     "end_time": "2019-05-09T01:07:13.019304Z",
     "start_time": "2019-05-09T01:07:07.919706Z"
    }
   },
   "outputs": [
    {
     "name": "stdout",
     "output_type": "stream",
     "text": [
      "Setting up interpolator with 1 value control points \n",
      "        0 gradient control points and 0 tangent control points and \n",
      "        constant gradient regularization with a weight of 0.000000\n"
     ]
    }
   ],
   "source": [
    "stratigraphy = DSI(mesh,region='everywhere',shape='square',solver='chol')\n",
    "stratigraphy.add_point([70.1,0.1,1.1],0.)\n",
    "stratigraphy.setup_interpolator(cg=False,cgw=0.)\n",
    "stratigraphy.A.extend(A)\n",
    "stratigraphy.row.extend(row)\n",
    "stratigraphy.col.extend(col)\n",
    "stratigraphy.B+=B\n",
    "stratigraphy.solve_system(solver='chol',clear=True)\n",
    "mesh.update_property('strati',stratigraphy.c)"
   ]
  },
  {
   "cell_type": "markdown",
   "metadata": {},
   "source": [
    "### Plot resulting model"
   ]
  },
  {
   "cell_type": "code",
   "execution_count": 22,
   "metadata": {
    "ExecuteTime": {
     "end_time": "2019-05-09T01:45:43.997332Z",
     "start_time": "2019-05-09T01:45:43.745509Z"
    }
   },
   "outputs": [
    {
     "data": {
      "image/png": "[encoded data removed]",
      "text/plain": [
       "<PIL.Image.Image image mode=RGB size=1024x768 at 0x7FB60C693DD8>"
      ]
     },
     "metadata": {},
     "output_type": "display_data"
    }
   ],
   "source": [
    "plot_mesh(mesh,'strati',strati)"
   ]
  }
 ],
 "metadata": {
  "kernelspec": {
   "display_name": "Python 3",
   "language": "python",
   "name": "python3"
  },
  "language_info": {
   "codemirror_mode": {
    "name": "ipython",
    "version": 3
   },
   "file_extension": ".py",
   "mimetype": "text/x-python",
   "name": "python",
   "nbconvert_exporter": "python",
   "pygments_lexer": "ipython3",
   "version": "3.6.7"
  },
  "varInspector": {
   "cols": {
    "lenName": 16,
    "lenType": 16,
    "lenVar": 40
   },
   "kernels_config": {
    "python": {
     "delete_cmd_postfix": "",
     "delete_cmd_prefix": "del ",
     "library": "var_list.py",
     "varRefreshCmd": "print(var_dic_list())"
    },
    "r": {
     "delete_cmd_postfix": ") ",
     "delete_cmd_prefix": "rm(",
     "library": "var_list.r",
     "varRefreshCmd": "cat(var_dic_list()) "
    }
   },
   "types_to_exclude": [
    "module",
    "function",
    "builtin_function_or_method",
    "instance",
    "_Feature"
   ],
   "window_display": false
  }
 },
 "nbformat": 4,
 "nbformat_minor": 2
}
