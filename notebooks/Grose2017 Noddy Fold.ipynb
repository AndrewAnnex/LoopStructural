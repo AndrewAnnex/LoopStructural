{
 "cells": [
  {
   "cell_type": "code",
   "execution_count": 2,
   "metadata": {
    "ExecuteTime": {
     "end_time": "2019-05-09T01:06:00.536382Z",
     "start_time": "2019-05-09T01:05:59.673096Z"
    }
   },
   "outputs": [],
   "source": [
    "import numpy as np\n",
    "#import matplotlib.pyplot as plt\n",
    "import matplotlib.pyplot as plt\n",
    "import scipy.sparse.linalg as sla\n",
    "import numpy.linalg as la\n",
    "import sys, os\n",
    "import pickle\n",
    "#import shapefile\n",
    "import geopandas\n",
    "import vista\n",
    "#import rbf as RBF\n",
    "import warnings"
   ]
  },
  {
   "cell_type": "code",
   "execution_count": 3,
   "metadata": {
    "ExecuteTime": {
     "end_time": "2019-05-09T01:45:33.340068Z",
     "start_time": "2019-05-09T01:45:33.333728Z"
    }
   },
   "outputs": [],
   "source": [
    "from FME import *\n",
    "strati = plt.cm.get_cmap('viridis',5)\n",
    "scalarfield = plt.cm.get_cmap('viridis')\n",
    "def plot_mesh(mesh,propertyname,cmap):\n",
    "    vmesh = vista.read(mesh.path+mesh.name+'.vtk')\n",
    "    p = vista.Plotter(notebook=True)\n",
    "    p.set_background('white')\n",
    "    p.add_mesh(\n",
    "        vmesh,\n",
    "        cmap=cmap,\n",
    "        show_scalar_bar=False,\n",
    "        scalars=mesh.properties[propertyname],\n",
    "        interpolate_before_map=True\n",
    "    )\n",
    "    p.show()"
   ]
  },
  {
   "cell_type": "code",
   "execution_count": 4,
   "metadata": {
    "ExecuteTime": {
     "end_time": "2019-05-09T01:06:01.043209Z",
     "start_time": "2019-05-09T01:06:01.017881Z"
    }
   },
   "outputs": [],
   "source": [
    "points = geopandas.read_file('data.gpkg',layer='points')\n",
    "orientations = geopandas.read_file('data.gpkg',layer='orientations')\n",
    "model_area = geopandas.read_file('data.gpkg',layer='bounding_box')"
   ]
  },
  {
   "cell_type": "code",
   "execution_count": 5,
   "metadata": {
    "ExecuteTime": {
     "end_time": "2019-05-09T01:06:01.049536Z",
     "start_time": "2019-05-09T01:06:01.045202Z"
    }
   },
   "outputs": [],
   "source": [
    "geom = model_area['geometry']#.shapes()\n",
    "coords = np.array(geom[0].exterior.coords)#[0]\n",
    "minz = -(np.max(coords[:,0])-np.min(coords[:,0]))/2."
   ]
  },
  {
   "cell_type": "code",
   "execution_count": 6,
   "metadata": {
    "ExecuteTime": {
     "end_time": "2019-05-09T01:06:02.296362Z",
     "start_time": "2019-05-09T01:06:01.051225Z"
    }
   },
   "outputs": [],
   "source": [
    "boundary_points = np.zeros((2,3))\n",
    "boundary_points[0,0] = np.min(coords[:,0])\n",
    "boundary_points[0,1] = np.min(coords[:,1])\n",
    "boundary_points[0,2] = minz\n",
    "boundary_points[1,0] = np.max(coords[:,0])\n",
    "boundary_points[1,1] = np.max(coords[:,1])\n",
    "boundary_points[1,2] = -minz*0.1\n",
    "mesh = TetMesh('NoddySingleFold',)\n",
    "mesh.setup_mesh(boundary_points,nstep=1,n_tetra=50000,)\n",
    "regionmanager = RegionManager(mesh)\n",
    "cg = mesh.get_constant_gradient(region=mesh.regions['everywhere'],shape='square')\n",
    "mesh.save()"
   ]
  },
  {
   "cell_type": "code",
   "execution_count": 7,
   "metadata": {
    "ExecuteTime": {
     "end_time": "2019-05-09T01:06:02.695933Z",
     "start_time": "2019-05-09T01:06:02.298162Z"
    }
   },
   "outputs": [
    {
     "data": {
      "text/plain": [
       "Text(0.5, 1.0, 'Bedding and S0 observations')"
      ]
     },
     "execution_count": 7,
     "metadata": {},
     "output_type": "execute_result"
    },
    {
     "data": {
      "image/png": "[encoded data removed]",
      "text/plain": [
       "<Figure size 1080x1080 with 1 Axes>"
      ]
     },
     "metadata": {
      "needs_background": "light"
     },
     "output_type": "display_data"
    }
   ],
   "source": [
    "def strike_symbol(strike):\n",
    "    R = np.zeros((2,2))\n",
    "    R[0,0] = np.cos(np.deg2rad(-strike))\n",
    "    R[0,1] = -np.sin(np.deg2rad(-strike))\n",
    "    R[1,0] = np.sin(np.deg2rad(-strike))\n",
    "    R[1,1] = np.cos(np.deg2rad(-strike)) \n",
    "    R = np.zeros((2,2))\n",
    "    R[0,0] = np.cos(np.deg2rad(-strike))\n",
    "    R[0,1] = -np.sin(np.deg2rad(-strike))\n",
    "    R[1,0] = np.sin(np.deg2rad(-strike))\n",
    "    R[1,1] = np.cos(np.deg2rad(-strike))\n",
    "    \n",
    "    vec = np.array([0,1])\n",
    "    rotated = R@vec\n",
    "    vec2 = np.array([-0.5,0])\n",
    "    r2 = R@vec2\n",
    "    return rotated,r2\n",
    "def plot_strike(x,y,strike,scale=100,colour='black'):\n",
    "    rotated, r2 = strike_symbol(-strike)\n",
    "    rotated*=scale\n",
    "    r2*=scale\n",
    "    plt.plot([x,x+rotated[0]],[y,y+rotated[1]],colour)\n",
    "    plt.plot([x-rotated[0],x],[y-rotated[1],y],colour)\n",
    "    plt.plot([x,x+r2[0]],[y,y+r2[1]],'k-')\n",
    "\n",
    "\n",
    "plt.figure(figsize=(15,15))\n",
    "for i,o in orientations.iterrows():\n",
    "    if o['type'] == 's1' and o['itype'] =='gx':#print(o)\n",
    "        plot_strike(o['geometry'].xy[0][0],o['geometry'].xy[1][0],o['strike'],colour='red')\n",
    "    if o['type'] == 's0':\n",
    "        plot_strike(o['geometry'].xy[0][0],o['geometry'].xy[1][0],o['strike'],colour='black')\n",
    "plt.gca().get_yaxis().set_visible(False)#axis('equal')\n",
    "plt.gca().get_xaxis().set_visible(False)#axis('equal')\n",
    "plt.axis('equal')\n",
    "plt.title('Bedding and S0 observations')"
   ]
  },
  {
   "cell_type": "code",
   "execution_count": 8,
   "metadata": {
    "ExecuteTime": {
     "end_time": "2019-05-09T01:06:16.750935Z",
     "start_time": "2019-05-09T01:06:02.698111Z"
    }
   },
   "outputs": [
    {
     "name": "stdout",
     "output_type": "stream",
     "text": [
      "Setting up interpolator with 1 value control points \n",
      "        7 gradient control points and 0 tangent control points and \n",
      "        constant gradient regularization with a weight of 0.100000\n",
      "Setting up interpolator with 1 value control points \n",
      "        7 gradient control points and 0 tangent control points and \n",
      "        constant gradient regularization with a weight of 0.100000\n"
     ]
    }
   ],
   "source": [
    "fold_f1 = FoldFrame(mesh=mesh,region='everywhere',shape='square',name='Fold_f1')\n",
    "for i, r in orientations.iterrows():\n",
    "    if r['type'] == 's1':\n",
    "        xy = r['geometry'].xy\n",
    "        z = 0\n",
    "        if 'z' in r:\n",
    "            z = r['z']\n",
    "        fold_f1.add_strike_and_dip([xy[0][0],xy[1][0],z],r['strike'],r['dip'],itype=r['itype'])\n",
    "for i, r in points.iterrows():\n",
    "    if r['type'] == 's1':\n",
    "        xy = r['geometry'].xy\n",
    "        z = 0\n",
    "        if 'z' in r:\n",
    "            z = r['z']\n",
    "        fold_f1.add_point([xy[0][0],xy[1][0],z],r['value'],itype=r['itype'])\n",
    "\n",
    "fold_f1.buildFrame(solver='chol')"
   ]
  },
  {
   "cell_type": "code",
   "execution_count": 15,
   "metadata": {
    "ExecuteTime": {
     "end_time": "2019-05-09T01:06:59.561591Z",
     "start_time": "2019-05-09T01:06:59.160177Z"
    }
   },
   "outputs": [
    {
     "data": {
      "image/png": "[encoded data removed]",
      "text/plain": [
       "<Figure size 1080x360 with 2 Axes>"
      ]
     },
     "metadata": {
      "needs_background": "light"
     },
     "output_type": "display_data"
    }
   ],
   "source": [
    "#from helper import strike_dip_vector\n",
    "nans = np.zeros(len(orientations))\n",
    "nans[:] = np.nan\n",
    "orientations['x'] = nans\n",
    "orientations['y'] = nans\n",
    "orientations['z'] = nans\n",
    "for i,r in orientations.iterrows():\n",
    "    orientations.at[i,'x'] = r['geometry'].xy[0][0]\n",
    "    orientations.at[i,'y'] = r['geometry'].xy[1][0]\n",
    "    orientations.at[i,'z'] = 0.0\n",
    "s0 = orientations[orientations['type'] == 's0']\n",
    "xyz = s0.loc[:,['x','y','z']].as_matrix()\n",
    "s0g = strike_dip_vector(s0.loc[:,'strike'],s0.loc[:,'dip'])\n",
    "s0g /= np.linalg.norm(s0g,axis=1)[:,None]\n",
    "l1 = fold_f1.calculate_intersection_lineation(np.hstack([xyz,s0g]))\n",
    "far = fold_f1.calculate_fold_axis_rotation(np.hstack([xyz,l1]))                                        \n",
    "s1 = fold_f1.get_gx(xyz,grad=False)\n",
    "s1gy = fold_f1.get_gy(xyz,grad=False)\n",
    "\n",
    "##quick figure\n",
    "fig, ax = plt.subplots(1,2,figsize=(15,5))\n",
    "ax[0].plot(s1gy,far,'bo')\n",
    "ax[0].set_ylim(-90,90)\n",
    "#ax[0].ylim(-90,90)\n",
    "svario = s_variogram(s1gy,far)\n",
    "svario.setup()\n",
    "guess = [.04000]\n",
    "#guess = svario.find_wavelengths()\n",
    "#ax[1].plot(svario.h,svario.var,'bo')\n",
    "#ax[1].axvline(guess[0])"
   ]
  },
  {
   "cell_type": "code",
   "execution_count": 16,
   "metadata": {
    "ExecuteTime": {
     "end_time": "2019-05-09T01:07:01.641778Z",
     "start_time": "2019-05-09T01:07:01.470261Z"
    }
   },
   "outputs": [
    {
     "data": {
      "image/png": "[encoded data removed]",
      "text/plain": [
       "<Figure size 432x288 with 1 Axes>"
      ]
     },
     "metadata": {
      "needs_background": "light"
     },
     "output_type": "display_data"
    }
   ],
   "source": [
    "from scipy.interpolate import Rbf\n",
    "far_tan = np.tan(np.deg2rad(far))\n",
    "rbf_fold_axis = Rbf(s1gy,np.zeros(s1gy.shape),np.zeros(s1gy.shape),far_tan,function='gaussian',epsilon=guess[0],smooth=.1)\n",
    "xi = np.linspace(-3000,2000,1000)\n",
    "plt.plot(xi,np.rad2deg(np.arctan(rbf_fold_axis(xi,np.zeros(1000),np.zeros(1000)))))\n",
    "plt.plot(s1gy,far,'bo')\n",
    "plt.ylim(-90,90)\n",
    "def fold_axis_rotation(x):\n",
    "    return np.rad2deg(np.arctan(rbf_fold_axis(x,np.zeros(x.shape),np.zeros(x.shape))))"
   ]
  },
  {
   "cell_type": "code",
   "execution_count": 12,
   "metadata": {
    "ExecuteTime": {
     "end_time": "2019-05-09T01:07:02.530924Z",
     "start_time": "2019-05-09T01:07:02.211489Z"
    }
   },
   "outputs": [
    {
     "data": {
      "image/png": "[encoded data removed]",
      "text/plain": [
       "<Figure size 1080x360 with 2 Axes>"
      ]
     },
     "metadata": {
      "needs_background": "light"
     },
     "output_type": "display_data"
    }
   ],
   "source": [
    "fold = FoldEvent(fold_f1,fold_axis_rotation,None)\n",
    "axis = fold.get_fold_axis_orientation(xyz)\n",
    "axis/=np.linalg.norm(axis,axis=1)[:,None]\n",
    "flr = fold_f1.calculate_fold_limb_rotation(np.hstack([xyz,s0g]),axis=axis)\n",
    "##quick figure\n",
    "fig, ax = plt.subplots(1,2,figsize=(15,5))\n",
    "ax[0].plot(s1,flr,'bo')\n",
    "ax[0].set_ylim(-90,90)\n",
    "#ax[0].ylim(-90,90)\n",
    "svario = s_variogram(s1,flr)\n",
    "svario.setup()\n",
    "guess = svario.find_wavelengths()\n",
    "ax[1].plot(svario.h,svario.var,'bo')\n",
    "#ax[1].axvline(guess[1])\n",
    "guess = np.array(guess)\n",
    "guess[0] = 2500"
   ]
  },
  {
   "cell_type": "code",
   "execution_count": 13,
   "metadata": {
    "ExecuteTime": {
     "end_time": "2019-05-09T01:07:03.481988Z",
     "start_time": "2019-05-09T01:07:03.320683Z"
    }
   },
   "outputs": [
    {
     "data": {
      "image/png": "[encoded data removed]",
      "text/plain": [
       "<Figure size 432x288 with 1 Axes>"
      ]
     },
     "metadata": {
      "needs_background": "light"
     },
     "output_type": "display_data"
    }
   ],
   "source": [
    "flr_tan = np.tan(np.deg2rad(flr))\n",
    "rbf_fold_limb = Rbf(s1,np.zeros(s1.shape),np.zeros(s1.shape),flr_tan,function='gaussian',epsilon=guess[0],smooth=.05)\n",
    "xi = np.linspace(0,10000,1000)\n",
    "plt.plot(xi,np.rad2deg(np.arctan(rbf_fold_limb(xi,np.zeros(1000),np.zeros(1000)))))\n",
    "plt.plot(s1,flr,'bo')\n",
    "plt.ylim(-90,90)\n",
    "def fold_limb_rotation(x):\n",
    "    return np.rad2deg(np.arctan(rbf_fold_limb(x,np.zeros(x.shape),np.zeros(x.shape))))"
   ]
  },
  {
   "cell_type": "code",
   "execution_count": 14,
   "metadata": {
    "ExecuteTime": {
     "end_time": "2019-05-09T01:07:07.917912Z",
     "start_time": "2019-05-09T01:07:04.230185Z"
    }
   },
   "outputs": [],
   "source": [
    "#update the fold event to have a real fold_limb_rotation function\n",
    "fold.fold_limb_rotation = fold_limb_rotation\n",
    "const = DSIFoldConstraint(fold,mesh,shape='square') \n",
    "const.use_deformed_orientation_cnstrt(50.) \n",
    "const.use_fold_axis_cnstrt(3.) \n",
    "const.use_regularisation_cnstrt(10.) \n",
    "const.use_normalisation_cnstrt()\n",
    "\n",
    "A, B, row, col = const.get_constraints()\n",
    "deformed_orientation, fold_axis, dgz = fold.get_deformed_orientation(mesh.barycentre)\n",
    "mesh.property_gradients['fold'] = deformed_orientation \n",
    "mesh.property_gradients['axis'] = fold_axis \n",
    "mesh.update_property('foldrot',fold_limb_rotation(mesh.properties[fold_f1.interpolators['gx'].propertyname]))"
   ]
  },
  {
   "cell_type": "code",
   "execution_count": 15,
   "metadata": {
    "ExecuteTime": {
     "end_time": "2019-05-09T01:07:13.019304Z",
     "start_time": "2019-05-09T01:07:07.919706Z"
    }
   },
   "outputs": [
    {
     "name": "stdout",
     "output_type": "stream",
     "text": [
      "Setting up interpolator with 1 value control points \n",
      "        0 gradient control points and 0 tangent control points and \n",
      "        constant gradient regularization with a weight of 0.000000\n"
     ]
    }
   ],
   "source": [
    "stratigraphy = DSI(mesh,region='everywhere',shape='square',solver='chol')\n",
    "stratigraphy.add_point([70.1,0.1,1.1],0.)\n",
    "stratigraphy.setup_interpolator(cg=False,cgw=0.)\n",
    "stratigraphy.A.extend(A)\n",
    "stratigraphy.row.extend(row)\n",
    "stratigraphy.col.extend(col)\n",
    "stratigraphy.B+=B\n",
    "stratigraphy.solve_system(solver='chol',clear=True)\n",
    "mesh.update_property('strati',stratigraphy.c)"
   ]
  },
  {
   "cell_type": "markdown",
   "metadata": {},
   "source": [
    "### Plot resulting model"
   ]
  },
  {
   "cell_type": "code",
   "execution_count": 22,
   "metadata": {
    "ExecuteTime": {
     "end_time": "2019-05-09T01:45:43.997332Z",
     "start_time": "2019-05-09T01:45:43.745509Z"
    }
   },
   "outputs": [
    {
     "data": {
      "image/png": "[encoded data removed]",
      "text/plain": [
       "<PIL.Image.Image image mode=RGB size=1024x768 at 0x7FB60C693DD8>"
      ]
     },
     "metadata": {},
     "output_type": "display_data"
    }
   ],
   "source": [
    "plot_mesh(mesh,'strati',strati)"
   ]
  }
 ],
 "metadata": {
  "kernelspec": {
   "display_name": "Python 3",
   "language": "python",
   "name": "python3"
  },
  "language_info": {
   "codemirror_mode": {
    "name": "ipython",
    "version": 3
   },
   "file_extension": ".py",
   "mimetype": "text/x-python",
   "name": "python",
   "nbconvert_exporter": "python",
   "pygments_lexer": "ipython3",
   "version": "3.6.7"
  }
 },
 "nbformat": 4,
 "nbformat_minor": 2
}
