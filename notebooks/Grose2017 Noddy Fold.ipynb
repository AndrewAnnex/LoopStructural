{
 "cells": [
  {
   "cell_type": "code",
   "execution_count": 1,
   "metadata": {
    "ExecuteTime": {
     "end_time": "2019-05-08T06:58:23.476058Z",
     "start_time": "2019-05-08T06:58:22.970081Z"
    }
   },
   "outputs": [],
   "source": [
    "import numpy as np\n",
    "#import matplotlib.pyplot as plt\n",
    "import matplotlib.pyplot as plt\n",
    "import scipy.sparse.linalg as sla\n",
    "import numpy.linalg as la\n",
    "import sys, os\n",
    "import pickle\n",
    "#import shapefile\n",
    "import geopandas\n",
    "#import rbf as RBF\n",
    "import warnings"
   ]
  },
  {
   "cell_type": "code",
   "execution_count": 2,
   "metadata": {
    "ExecuteTime": {
     "end_time": "2019-05-08T06:58:24.281622Z",
     "start_time": "2019-05-08T06:58:23.683283Z"
    }
   },
   "outputs": [],
   "source": [
    "from FME import *"
   ]
  },
  {
   "cell_type": "code",
   "execution_count": 3,
   "metadata": {
    "ExecuteTime": {
     "end_time": "2019-05-08T06:58:24.694812Z",
     "start_time": "2019-05-08T06:58:24.663246Z"
    }
   },
   "outputs": [],
   "source": [
    "points = geopandas.read_file('data.gpkg',layer='points')\n",
    "orientations = geopandas.read_file('data.gpkg',layer='orientations')\n",
    "model_area = geopandas.read_file('data.gpkg',layer='bounding_box')"
   ]
  },
  {
   "cell_type": "code",
   "execution_count": 4,
   "metadata": {
    "ExecuteTime": {
     "end_time": "2019-05-08T06:58:25.256874Z",
     "start_time": "2019-05-08T06:58:25.251688Z"
    }
   },
   "outputs": [],
   "source": [
    "geom = model_area['geometry']#.shapes()\n",
    "coords = np.array(geom[0].exterior.coords)#[0]\n",
    "# print(geom['geometry'])\n",
    "# coords = np.array(geom[0].points)\n",
    "minz = -(np.max(coords[:,0])-np.min(coords[:,0]))/2."
   ]
  },
  {
   "cell_type": "code",
   "execution_count": 5,
   "metadata": {
    "ExecuteTime": {
     "end_time": "2019-05-08T06:58:27.042736Z",
     "start_time": "2019-05-08T06:58:25.818238Z"
    }
   },
   "outputs": [],
   "source": [
    "boundary_points = np.zeros((2,3))\n",
    "boundary_points[0,0] = np.min(coords[:,0])\n",
    "boundary_points[0,1] = np.min(coords[:,1])\n",
    "boundary_points[0,2] = minz\n",
    "boundary_points[1,0] = np.max(coords[:,0])\n",
    "boundary_points[1,1] = np.max(coords[:,1])\n",
    "boundary_points[1,2] = -minz*0.1\n",
    "mesh = TetMesh('NoddySingleFold',)\n",
    "mesh.setup_mesh(boundary_points,nstep=1,n_tetra=50000,)\n",
    "regionmanager = RegionManager(mesh)\n",
    "cg = mesh.get_constant_gradient(region=mesh.regions['everywhere'],shape='square')\n",
    "mesh.save()"
   ]
  },
  {
   "cell_type": "code",
   "execution_count": 6,
   "metadata": {
    "ExecuteTime": {
     "end_time": "2019-05-08T06:58:42.624753Z",
     "start_time": "2019-05-08T06:58:27.577557Z"
    }
   },
   "outputs": [
    {
     "name": "stdout",
     "output_type": "stream",
     "text": [
      "Setting up interpolator with 1 value control points \n",
      "        7 gradient control points and 0 tangent control points and \n",
      "        constant gradient regularization with a weight of 0.100000\n"
     ]
    },
    {
     "name": "stderr",
     "output_type": "stream",
     "text": [
      "/home/lgrose/.local/lib/python3.6/site-packages/FME-0.0.0-py3.6-linux-x86_64.egg/FME/dsi_interpolator.py:354: CholmodTypeConversionWarning: array contains 32 bit integers; but 64 bit integers are needed; slowing down due to converting\n",
      "  factor = cholesky(self.AA.tocsc(),use_long=True)\n"
     ]
    },
    {
     "name": "stdout",
     "output_type": "stream",
     "text": [
      "Setting up interpolator with 1 value control points \n",
      "        7 gradient control points and 0 tangent control points and \n",
      "        constant gradient regularization with a weight of 0.100000\n"
     ]
    }
   ],
   "source": [
    "fold_f1 = FoldFrame(mesh=mesh,region='everywhere',shape='square',name='Fold_f1')\n",
    "for i, r in orientations.iterrows():\n",
    "    if r['type'] == 's1':\n",
    "        xy = r['geometry'].xy\n",
    "        z = 0\n",
    "        if 'z' in r:\n",
    "            z = r['z']\n",
    "        fold_f1.add_strike_and_dip([xy[0][0],xy[1][0],z],r['strike'],r['dip'],itype=r['itype'])\n",
    "for i, r in points.iterrows():\n",
    "    if r['type'] == 's1':\n",
    "        xy = r['geometry'].xy\n",
    "        z = 0\n",
    "        if 'z' in r:\n",
    "            z = r['z']\n",
    "        fold_f1.add_point([xy[0][0],xy[1][0],z],r['value'],itype=r['itype'])\n",
    "\n",
    "fold_f1.buildFrame(solver='chol')"
   ]
  },
  {
   "cell_type": "code",
   "execution_count": 7,
   "metadata": {
    "ExecuteTime": {
     "end_time": "2019-05-08T06:58:43.832711Z",
     "start_time": "2019-05-08T06:58:42.626788Z"
    }
   },
   "outputs": [
    {
     "name": "stderr",
     "output_type": "stream",
     "text": [
      "/home/lgrose/.local/lib/python3.6/site-packages/ipykernel_launcher.py:9: FutureWarning: set_value is deprecated and will be removed in a future release. Please use .at[] or .iat[] accessors instead\n",
      "  if __name__ == '__main__':\n",
      "/home/lgrose/.local/lib/python3.6/site-packages/pandas/core/indexing.py:362: SettingWithCopyWarning: \n",
      "A value is trying to be set on a copy of a slice from a DataFrame.\n",
      "Try using .loc[row_indexer,col_indexer] = value instead\n",
      "\n",
      "See the caveats in the documentation: http://pandas.pydata.org/pandas-docs/stable/indexing.html#indexing-view-versus-copy\n",
      "  self.obj[key] = _infer_fill_value(value)\n",
      "/home/lgrose/.local/lib/python3.6/site-packages/pandas/core/indexing.py:543: SettingWithCopyWarning: \n",
      "A value is trying to be set on a copy of a slice from a DataFrame.\n",
      "Try using .loc[row_indexer,col_indexer] = value instead\n",
      "\n",
      "See the caveats in the documentation: http://pandas.pydata.org/pandas-docs/stable/indexing.html#indexing-view-versus-copy\n",
      "  self.obj[item] = s\n",
      "/home/lgrose/.local/lib/python3.6/site-packages/ipykernel_launcher.py:10: FutureWarning: set_value is deprecated and will be removed in a future release. Please use .at[] or .iat[] accessors instead\n",
      "  # Remove the CWD from sys.path while we load stuff.\n",
      "/home/lgrose/.local/lib/python3.6/site-packages/ipykernel_launcher.py:11: FutureWarning: set_value is deprecated and will be removed in a future release. Please use .at[] or .iat[] accessors instead\n",
      "  # This is added back by InteractiveShellApp.init_path()\n",
      "/home/lgrose/.local/lib/python3.6/site-packages/ipykernel_launcher.py:12: FutureWarning: Method .as_matrix will be removed in a future version. Use .values instead.\n",
      "  if sys.path[0] == '':\n"
     ]
    },
    {
     "data": {
      "text/plain": [
       "<matplotlib.lines.Line2D at 0x7fc824468588>"
      ]
     },
     "execution_count": 7,
     "metadata": {},
     "output_type": "execute_result"
    },
    {
     "data": {
      "image/png": "[encoded data removed]",
      "text/plain": [
       "<Figure size 1080x360 with 2 Axes>"
      ]
     },
     "metadata": {
      "needs_background": "light"
     },
     "output_type": "display_data"
    }
   ],
   "source": [
    "#from helper import strike_dip_vector\n",
    "s0 = orientations[orientations['type'] == 's0']\n",
    "nans = np.zeros(len(orientations))\n",
    "nans[:] = np.nan\n",
    "orientations['x'] = nans\n",
    "orientations['y'] = nans\n",
    "orientations['z'] = nans\n",
    "for i,r in s0.iterrows():\n",
    "    s0.set_value(i,'x',r['geometry'].xy[0][0])\n",
    "    s0.set_value(i,'y',r['geometry'].xy[1][0])\n",
    "    s0.set_value(i,'z',0)\n",
    "xyz = s0.loc[:,['x','y','z']].as_matrix()\n",
    "s0g = strike_dip_vector(s0.loc[:,'strike'],s0.loc[:,'dip'])\n",
    "s0g /= np.linalg.norm(s0g,axis=1)[:,None]\n",
    "l1 = fold_f1.calculate_intersection_lineation(np.hstack([xyz,s0g]))\n",
    "far = fold_f1.calculate_fold_axis_rotation(np.hstack([xyz,l1]))                                        \n",
    "s1 = fold_f1.get_gx(xyz,grad=False)\n",
    "s1gy = fold_f1.get_gy(xyz,grad=False)\n",
    "\n",
    "##quick figure\n",
    "fig, ax = plt.subplots(1,2,figsize=(15,5))\n",
    "ax[0].plot(s1gy,far,'bo')\n",
    "ax[0].set_ylim(-90,90)\n",
    "#ax[0].ylim(-90,90)\n",
    "svario = s_variogram(s1gy,far)\n",
    "svario.setup()\n",
    "guess = svario.find_wavelengths()\n",
    "ax[1].plot(svario.h,svario.var,'bo')\n",
    "ax[1].axvline(guess[0])"
   ]
  },
  {
   "cell_type": "code",
   "execution_count": 8,
   "metadata": {
    "ExecuteTime": {
     "end_time": "2019-05-08T06:58:53.550667Z",
     "start_time": "2019-05-08T06:58:53.368567Z"
    }
   },
   "outputs": [
    {
     "data": {
      "image/png": "[encoded data removed]",
      "text/plain": [
       "<Figure size 432x288 with 1 Axes>"
      ]
     },
     "metadata": {
      "needs_background": "light"
     },
     "output_type": "display_data"
    }
   ],
   "source": [
    "from scipy.interpolate import Rbf\n",
    "far_tan = np.tan(np.deg2rad(far))\n",
    "rbf_fold_axis = Rbf(s1gy,np.zeros(s1gy.shape),np.zeros(s1gy.shape),far_tan,function='gaussian',epsilon=guess[0],smooth=.1)\n",
    "xi = np.linspace(-3000,2000,1000)\n",
    "plt.plot(xi,np.rad2deg(np.arctan(rbf_fold_axis(xi,np.zeros(1000),np.zeros(1000)))))\n",
    "plt.plot(s1gy,far,'bo')\n",
    "plt.ylim(-90,90)\n",
    "def fold_axis_rotation(x):\n",
    "    return np.rad2deg(np.arctan(rbf_fold_axis(x,np.zeros(x.shape),np.zeros(x.shape))))"
   ]
  },
  {
   "cell_type": "code",
   "execution_count": 9,
   "metadata": {
    "ExecuteTime": {
     "end_time": "2019-05-08T06:58:59.489113Z",
     "start_time": "2019-05-08T06:58:59.167717Z"
    }
   },
   "outputs": [
    {
     "data": {
      "image/png": "[encoded data removed]",
      "text/plain": [
       "<Figure size 1080x360 with 2 Axes>"
      ]
     },
     "metadata": {
      "needs_background": "light"
     },
     "output_type": "display_data"
    }
   ],
   "source": [
    "fold = FoldEvent(fold_f1,fold_axis_rotation,None)\n",
    "axis = fold.get_fold_axis_orientation(xyz)\n",
    "axis/=np.linalg.norm(axis,axis=1)[:,None]\n",
    "flr = fold_f1.calculate_fold_limb_rotation(np.hstack([xyz,s0g]),axis=axis)\n",
    "##quick figure\n",
    "fig, ax = plt.subplots(1,2,figsize=(15,5))\n",
    "ax[0].plot(s1,flr,'bo')\n",
    "ax[0].set_ylim(-90,90)\n",
    "#ax[0].ylim(-90,90)\n",
    "svario = s_variogram(s1,flr)\n",
    "svario.setup()\n",
    "guess = svario.find_wavelengths()\n",
    "ax[1].plot(svario.h,svario.var,'bo')\n",
    "#ax[1].axvline(guess[1])\n",
    "guess = np.array(guess)\n",
    "guess[0] = 2500"
   ]
  },
  {
   "cell_type": "code",
   "execution_count": 10,
   "metadata": {
    "ExecuteTime": {
     "end_time": "2019-05-08T06:59:05.360431Z",
     "start_time": "2019-05-08T06:59:05.191974Z"
    }
   },
   "outputs": [
    {
     "data": {
      "image/png": "[encoded data removed]",
      "text/plain": [
       "<Figure size 432x288 with 1 Axes>"
      ]
     },
     "metadata": {
      "needs_background": "light"
     },
     "output_type": "display_data"
    }
   ],
   "source": [
    "flr_tan = np.tan(np.deg2rad(flr))\n",
    "rbf_fold_limb = Rbf(s1,np.zeros(s1.shape),np.zeros(s1.shape),flr_tan,function='gaussian',epsilon=guess[0],smooth=.05)\n",
    "xi = np.linspace(0,10000,1000)\n",
    "plt.plot(xi,np.rad2deg(np.arctan(rbf_fold_limb(xi,np.zeros(1000),np.zeros(1000)))))\n",
    "plt.plot(s1,flr,'bo')\n",
    "plt.ylim(-90,90)\n",
    "def fold_limb_rotation(x):\n",
    "    return np.rad2deg(np.arctan(rbf_fold_limb(x,np.zeros(x.shape),np.zeros(x.shape))))"
   ]
  },
  {
   "cell_type": "code",
   "execution_count": 11,
   "metadata": {
    "ExecuteTime": {
     "end_time": "2019-05-08T06:59:16.457917Z",
     "start_time": "2019-05-08T06:59:12.696918Z"
    }
   },
   "outputs": [],
   "source": [
    "#update the fold event to have a real fold_limb_rotation function\n",
    "fold.fold_limb_rotation = fold_limb_rotation\n",
    "const = DSIFoldConstraint(fold,mesh,shape='square') \n",
    "const.use_deformed_orientation_cnstrt(50.) \n",
    "const.use_fold_axis_cnstrt(3.) \n",
    "const.use_regularisation_cnstrt(10.) \n",
    "const.use_normalisation_cnstrt()\n",
    "\n",
    "A, B, row, col = const.get_constraints()\n",
    "deformed_orientation, fold_axis, dgz = fold.get_deformed_orientation(mesh.barycentre)\n",
    "mesh.property_gradients['fold'] = deformed_orientation \n",
    "mesh.property_gradients['axis'] = fold_axis \n",
    "mesh.update_property('foldrot',fold_limb_rotation(mesh.properties[fold_f1.interpolators['gx'].propertyname]))"
   ]
  },
  {
   "cell_type": "code",
   "execution_count": null,
   "metadata": {
    "ExecuteTime": {
     "start_time": "2019-05-08T06:59:21.551Z"
    }
   },
   "outputs": [
    {
     "name": "stdout",
     "output_type": "stream",
     "text": [
      "Setting up interpolator with 1 value control points \n",
      "        0 gradient control points and 0 tangent control points and \n",
      "        constant gradient regularization with a weight of 0.000000\n"
     ]
    }
   ],
   "source": [
    "stratigraphy = DSI(mesh,region='everywhere',shape='square',solver='chol')\n",
    "stratigraphy.add_point([70.1,0.1,1.1],0.)\n",
    "stratigraphy.setup_interpolator(cg=False,cgw=0.)\n",
    "stratigraphy.A.extend(A)\n",
    "stratigraphy.row.extend(row)\n",
    "stratigraphy.col.extend(col)\n",
    "stratigraphy.B+=B\n",
    "stratigraphy.solve_system(solver='chol',clear=True)\n",
    "mesh.update_property('strati',stratigraphy.c)"
   ]
  },
  {
   "cell_type": "code",
   "execution_count": null,
   "metadata": {},
   "outputs": [],
   "source": []
  }
 ],
 "metadata": {
  "kernelspec": {
   "display_name": "Python 3",
   "language": "python",
   "name": "python3"
  },
  "language_info": {
   "codemirror_mode": {
    "name": "ipython",
    "version": 3
   },
   "file_extension": ".py",
   "mimetype": "text/x-python",
   "name": "python",
   "nbconvert_exporter": "python",
   "pygments_lexer": "ipython3",
   "version": "3.6.7"
  }
 },
 "nbformat": 4,
 "nbformat_minor": 2
}
