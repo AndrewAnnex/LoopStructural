{
 "cells": [
  {
   "cell_type": "markdown",
   "metadata": {
    "heading_collapsed": true
   },
   "source": [
    "## Imports"
   ]
  },
  {
   "cell_type": "code",
   "execution_count": 17,
   "metadata": {
    "ExecuteTime": {
     "end_time": "2019-11-05T05:20:48.726964Z",
     "start_time": "2019-11-05T05:20:48.718869Z"
    },
    "hidden": true
   },
   "outputs": [],
   "source": [
    "#import the Forward Modelling Engine modules - LoopStructural\n",
    "from LoopStructural import GeologicalModel\n",
    "from LoopStructural.datasets import load_noddy_single_fold\n",
    "from LoopStructural.visualisation.model_visualisation import LavaVuModelViewer\n",
    "# from LoopStructural.visualisation.rotation_angle_plotter import RotationAnglePlotter\n",
    "# import other libraries\n",
    "import pandas as pd\n",
    "import numpy as np\n",
    "from scipy.interpolate import Rbf\n",
    "import matplotlib.pyplot as plt"
   ]
  },
  {
   "cell_type": "code",
   "execution_count": 3,
   "metadata": {
    "ExecuteTime": {
     "end_time": "2019-11-05T05:10:18.636293Z",
     "start_time": "2019-11-05T05:10:18.634160Z"
    },
    "hidden": true
   },
   "outputs": [],
   "source": [
    "from __future__ import print_function\n",
    "from ipywidgets import interact, interactive, fixed, interact_manual\n",
    "import ipywidgets as widgets"
   ]
  },
  {
   "cell_type": "markdown",
   "metadata": {
    "heading_collapsed": true
   },
   "source": [
    "## Structural geology of folds "
   ]
  },
  {
   "cell_type": "markdown",
   "metadata": {
    "hidden": true
   },
   "source": [
    "Folds are one of the most common features found in deformed rocks and are defined by the location of higher curvature. \n",
    "The geometry of the folded surface can be characterised by three geometrical elements: \n",
    "\n",
    "1. the fold hinge is the point of maximum curvature along folded surface\n",
    "2. the axial surface is a surfaces that passes through all curvature points in all folded foliations\n",
    "3. the fold axis is the intersection of the folded foliation and the axial surface\n",
    "\n",
    "Modelling folded surfaces using standard implicit algorithms is challenging because the implicit modelling methods are generally trying to minimise the resulting curvature of the surface. \n",
    "To model folded surfaces the geologist will need to characterise the geometry of the folded surface in high detail.\n",
    "\n",
    "<img src=\"images/folded_surface.png\" alt=\"Folded outcrop\" style=\"width: 400px;\"/>"
   ]
  },
  {
   "cell_type": "markdown",
   "metadata": {},
   "source": [
    "## Modelling folded surfaces without structural geology\n",
    "In the following section we will attempt to model a synthetic fold shape that is defined by a sinusoidal folded surface.\n",
    "For simplicity we will consider the fold as cylindrical and therefore only consider the fold in a 2D plane. \n",
    "The data set has been sampled from a model generated using Noddy and represents a fold with a wavelength of ~10km and amplitude of ~2km.\n",
    "\n",
    "<img src=\"images/noddy.png\" alt=\"Noddy Model\" style=\"width: 400px;\"/>\n",
    "\n",
    "The orientation of the structure has been sampled within the model volume (10km,7km,5km) at 500m intervals. \n",
    "\n",
    "\n",
    "**The aim of this exercise is to investigate how standard implicit modelling techniques are fundamentally limited when trying to model folded surfaces.**\n",
    "\n",
    "1. Load data from sample datasets\n",
    "2.  Visualise data\n",
    "3. Look at varying degrees of sampling e.g. 200 points, 100 points, 10 points. \n",
    "2. Look at using data points ONLY from a map surface\n"
   ]
  },
  {
   "cell_type": "markdown",
   "metadata": {},
   "source": [
    "### Modelling folded surfaces using loop structural"
   ]
  },
  {
   "cell_type": "code",
   "execution_count": 5,
   "metadata": {
    "ExecuteTime": {
     "end_time": "2019-11-05T05:10:25.692144Z",
     "start_time": "2019-11-05T05:10:25.674159Z"
    }
   },
   "outputs": [
    {
     "data": {
      "text/html": [
       "<div>\n",
       "<style scoped>\n",
       "    .dataframe tbody tr th:only-of-type {\n",
       "        vertical-align: middle;\n",
       "    }\n",
       "\n",
       "    .dataframe tbody tr th {\n",
       "        vertical-align: top;\n",
       "    }\n",
       "\n",
       "    .dataframe thead th {\n",
       "        text-align: right;\n",
       "    }\n",
       "</style>\n",
       "<table border=\"1\" class=\"dataframe\">\n",
       "  <thead>\n",
       "    <tr style=\"text-align: right;\">\n",
       "      <th></th>\n",
       "      <th>X</th>\n",
       "      <th>Y</th>\n",
       "      <th>Z</th>\n",
       "      <th>dip</th>\n",
       "      <th>strike</th>\n",
       "      <th>type</th>\n",
       "      <th>coord</th>\n",
       "      <th>random</th>\n",
       "    </tr>\n",
       "  </thead>\n",
       "  <tbody>\n",
       "    <tr>\n",
       "      <td>972</td>\n",
       "      <td>500.0</td>\n",
       "      <td>500.0</td>\n",
       "      <td>5500.0</td>\n",
       "      <td>69.965373</td>\n",
       "      <td>399.166448</td>\n",
       "      <td>s0</td>\n",
       "      <td>NaN</td>\n",
       "      <td>0.126657</td>\n",
       "    </tr>\n",
       "    <tr>\n",
       "      <td>976</td>\n",
       "      <td>500.0</td>\n",
       "      <td>500.0</td>\n",
       "      <td>6000.0</td>\n",
       "      <td>69.965373</td>\n",
       "      <td>399.166448</td>\n",
       "      <td>s0</td>\n",
       "      <td>NaN</td>\n",
       "      <td>0.376144</td>\n",
       "    </tr>\n",
       "    <tr>\n",
       "      <td>980</td>\n",
       "      <td>500.0</td>\n",
       "      <td>500.0</td>\n",
       "      <td>6500.0</td>\n",
       "      <td>69.965373</td>\n",
       "      <td>399.166448</td>\n",
       "      <td>s0</td>\n",
       "      <td>NaN</td>\n",
       "      <td>0.731684</td>\n",
       "    </tr>\n",
       "    <tr>\n",
       "      <td>984</td>\n",
       "      <td>500.0</td>\n",
       "      <td>500.0</td>\n",
       "      <td>7000.0</td>\n",
       "      <td>69.965373</td>\n",
       "      <td>399.166448</td>\n",
       "      <td>s0</td>\n",
       "      <td>NaN</td>\n",
       "      <td>0.479522</td>\n",
       "    </tr>\n",
       "    <tr>\n",
       "      <td>988</td>\n",
       "      <td>500.0</td>\n",
       "      <td>500.0</td>\n",
       "      <td>7500.0</td>\n",
       "      <td>69.965373</td>\n",
       "      <td>399.166448</td>\n",
       "      <td>s0</td>\n",
       "      <td>NaN</td>\n",
       "      <td>0.465607</td>\n",
       "    </tr>\n",
       "  </tbody>\n",
       "</table>\n",
       "</div>"
      ],
      "text/plain": [
       "         X      Y       Z        dip      strike type  coord    random\n",
       "972  500.0  500.0  5500.0  69.965373  399.166448   s0    NaN  0.126657\n",
       "976  500.0  500.0  6000.0  69.965373  399.166448   s0    NaN  0.376144\n",
       "980  500.0  500.0  6500.0  69.965373  399.166448   s0    NaN  0.731684\n",
       "984  500.0  500.0  7000.0  69.965373  399.166448   s0    NaN  0.479522\n",
       "988  500.0  500.0  7500.0  69.965373  399.166448   s0    NaN  0.465607"
      ]
     },
     "execution_count": 5,
     "metadata": {},
     "output_type": "execute_result"
    }
   ],
   "source": [
    "# load the sample data\n",
    "data, boundary_points = load_noddy_single_fold()\n",
    "data.head()\n"
   ]
  },
  {
   "cell_type": "markdown",
   "metadata": {},
   "source": [
    "The input dataset was generated using Noddy by sampling the orientation of a structure on a regular grid. We have loaded it into a pandas DataFrame, this is basically an excel spreadsheet for python.\n",
    "Above are the first 5 rows of the dataset and as we can see it is regularly sampled with data points being sampled regularly along the $z$, $y$ and $x$ axes. In order to avoid artefacts due to the sampling errors we will shuffle the data. We can do this using the `random` column in the DataFrame (ensuring everyone has the same data)."
   ]
  },
  {
   "cell_type": "code",
   "execution_count": 7,
   "metadata": {
    "ExecuteTime": {
     "end_time": "2019-11-05T05:12:44.554921Z",
     "start_time": "2019-11-05T05:12:44.538700Z"
    }
   },
   "outputs": [
    {
     "data": {
      "text/html": [
       "<div>\n",
       "<style scoped>\n",
       "    .dataframe tbody tr th:only-of-type {\n",
       "        vertical-align: middle;\n",
       "    }\n",
       "\n",
       "    .dataframe tbody tr th {\n",
       "        vertical-align: top;\n",
       "    }\n",
       "\n",
       "    .dataframe thead th {\n",
       "        text-align: right;\n",
       "    }\n",
       "</style>\n",
       "<table border=\"1\" class=\"dataframe\">\n",
       "  <thead>\n",
       "    <tr style=\"text-align: right;\">\n",
       "      <th></th>\n",
       "      <th>X</th>\n",
       "      <th>Y</th>\n",
       "      <th>Z</th>\n",
       "      <th>dip</th>\n",
       "      <th>strike</th>\n",
       "      <th>type</th>\n",
       "      <th>coord</th>\n",
       "      <th>random</th>\n",
       "    </tr>\n",
       "  </thead>\n",
       "  <tbody>\n",
       "    <tr>\n",
       "      <td>11272</td>\n",
       "      <td>2000.0</td>\n",
       "      <td>6000.0</td>\n",
       "      <td>6000.0</td>\n",
       "      <td>70.370847</td>\n",
       "      <td>398.150099</td>\n",
       "      <td>s0</td>\n",
       "      <td>NaN</td>\n",
       "      <td>0.000340</td>\n",
       "    </tr>\n",
       "    <tr>\n",
       "      <td>1120</td>\n",
       "      <td>2000.0</td>\n",
       "      <td>500.0</td>\n",
       "      <td>7500.0</td>\n",
       "      <td>70.370847</td>\n",
       "      <td>398.150099</td>\n",
       "      <td>s0</td>\n",
       "      <td>NaN</td>\n",
       "      <td>0.003175</td>\n",
       "    </tr>\n",
       "    <tr>\n",
       "      <td>11356</td>\n",
       "      <td>3000.0</td>\n",
       "      <td>6000.0</td>\n",
       "      <td>5500.0</td>\n",
       "      <td>64.030744</td>\n",
       "      <td>417.522113</td>\n",
       "      <td>s0</td>\n",
       "      <td>NaN</td>\n",
       "      <td>0.004159</td>\n",
       "    </tr>\n",
       "    <tr>\n",
       "      <td>7724</td>\n",
       "      <td>3500.0</td>\n",
       "      <td>4000.0</td>\n",
       "      <td>8000.0</td>\n",
       "      <td>64.030744</td>\n",
       "      <td>417.522113</td>\n",
       "      <td>s0</td>\n",
       "      <td>NaN</td>\n",
       "      <td>0.004213</td>\n",
       "    </tr>\n",
       "    <tr>\n",
       "      <td>5608</td>\n",
       "      <td>500.0</td>\n",
       "      <td>3000.0</td>\n",
       "      <td>7500.0</td>\n",
       "      <td>69.965373</td>\n",
       "      <td>399.166448</td>\n",
       "      <td>s0</td>\n",
       "      <td>NaN</td>\n",
       "      <td>0.005269</td>\n",
       "    </tr>\n",
       "  </tbody>\n",
       "</table>\n",
       "</div>"
      ],
      "text/plain": [
       "            X       Y       Z        dip      strike type  coord    random\n",
       "11272  2000.0  6000.0  6000.0  70.370847  398.150099   s0    NaN  0.000340\n",
       "1120   2000.0   500.0  7500.0  70.370847  398.150099   s0    NaN  0.003175\n",
       "11356  3000.0  6000.0  5500.0  64.030744  417.522113   s0    NaN  0.004159\n",
       "7724   3500.0  4000.0  8000.0  64.030744  417.522113   s0    NaN  0.004213\n",
       "5608    500.0  3000.0  7500.0  69.965373  399.166448   s0    NaN  0.005269"
      ]
     },
     "execution_count": 7,
     "metadata": {},
     "output_type": "execute_result"
    }
   ],
   "source": [
    "data = data.sort_values('random') # sort the data by a random int then we can select N random points \n",
    "data.head()"
   ]
  },
  {
   "cell_type": "markdown",
   "metadata": {},
   "source": [
    "The data points are now randomly ordered and can now be subsampled by choosing the first N samples from the dataframe\n",
    "```Python\n",
    "data[:100]\n",
    "```\n",
    "returns the first 100 data points from the array"
   ]
  },
  {
   "cell_type": "markdown",
   "metadata": {},
   "source": [
    "### Testing data density\n",
    "* Use the toggle bar to change the amount of data used by the interpolation algorithm. \n",
    "* How does the shape of the fold change as we remove data points?\n",
    "* Now what happens if we only consider data from the map view?\n",
    "\n",
    "**HINT** you can view the strike and dip data by unchecking the scalar field box. \n",
    "\n",
    "**The black arrows are the normal vector to the folded surface**\n"
   ]
  },
  {
   "cell_type": "code",
   "execution_count": 15,
   "metadata": {
    "ExecuteTime": {
     "end_time": "2019-11-05T05:16:42.450540Z",
     "start_time": "2019-11-05T05:16:42.423706Z"
    },
    "scrolled": false
   },
   "outputs": [
    {
     "data": {
      "application/vnd.jupyter.widget-view+json": {
       "model_id": "a4b04fdfe7ea48d88cc4f547dc1d63e7",
       "version_major": 2,
       "version_minor": 0
      },
      "text/plain": [
       "interactive(children=(IntSlider(value=91, description='npoints', max=200, min=1, step=10), Button(description=…"
      ]
     },
     "metadata": {},
     "output_type": "display_data"
    }
   ],
   "source": [
    "@interact_manual(npoints=(1,200,10))\n",
    "def run(npoints):\n",
    "    model = GeologicalModel(boundary_points[0,:],boundary_points[1,:])\n",
    "    model.set_model_data(data[:npoints])\n",
    "    stratigraphy = model.create_and_add_conformable_foliation(\"s0\",interpolatortype=\"PLI\",nelements=100000,buffer=0.3,cgw=0.1)#.2)\n",
    "    viewer = LavaVuModelViewer(background=\"white\")\n",
    "    # viewer.add_scalar_field(model.bounding_box,(38,55,30),\n",
    "    #                       'box',\n",
    "    #                      paint_with=stratigraphy,\n",
    "    #                      cmap='prism')\n",
    "    viewer.add_data(stratigraphy)\n",
    "    viewer.add_isosurface(stratigraphy,\n",
    "                         voxet=model.voxet())\n",
    "    viewer.interactive()"
   ]
  },
  {
   "cell_type": "markdown",
   "metadata": {},
   "source": [
    "### Modelling folds using structural geology\n",
    "\n",
    "The following section will describe how the fold axis, fold axial surface and fold vergence can be used to help constrain the shape of the folded surface.\n",
    "To do this we need to build a fold frame which is curvilinear coordinate system based around the fold axis and the fold axial surface. \n",
    "\n",
    "There are three coordinates to the fold frame:\n",
    "* coordinate 0 is the axial surface of the fold and is parallel to the axial foliation\n",
    "* coordinate 1 is the fold axis direction field and is orthogonal to the axial foliation\n",
    "* coordinate 2 is orthogonal to both the fold axis direction field and axial foliation and is roughly parallel to the extension direction of the fold \n",
    "\n",
    "<img src=\"images/fold_frame.png\" alt=\"Fold Frame\" style=\"width: 400px;\"/>\n",
    "\n",
    "Three direction vectors are defined by the normalised gradient of these fields:\n",
    "* $e_0$ - red\n",
    "* $e_1$ - green\n",
    "* $e_2$ - blue\n",
    "\n",
    "The orientation of the folded foliation can be defined by rotating $e_1$ around $e_0$ by the fold axis rotation angle $\\alpha_P$ to give the orientation of the fold axis. The orientation of the folded foliation can then be defined by rotating the plane defined by the fold axis and $e_0$ around the fold axis by the fold limb rotation angle $\\alpha_L$. \n",
    "\n",
    "<img src=\"images/fold_constraints.png\" alt=\"Fold constraints\" style=\"width: 400px;\"/>\n",
    "\n",
    "### Calculating the fold rotation angles\n",
    "<img src=\"./images/fold_rotation_angles.png\" alt=\"Fold rotation angles\" style=\"width: 400px;\"/>"
   ]
  },
  {
   "cell_type": "code",
   "execution_count": 25,
   "metadata": {
    "ExecuteTime": {
     "end_time": "2019-11-05T05:29:51.388259Z",
     "start_time": "2019-11-05T05:29:46.858467Z"
    },
    "scrolled": false
   },
   "outputs": [
    {
     "data": {
      "application/vnd.jupyter.widget-view+json": {
       "model_id": "bfbd8fbac59142c1bae3895c7551d423",
       "version_major": 2,
       "version_minor": 0
      },
      "text/plain": [
       "interactive(children=(IntSlider(value=93, description='npoints', max=200, min=3, step=10), Output()), _dom_cla…"
      ]
     },
     "metadata": {},
     "output_type": "display_data"
    }
   ],
   "source": [
    "@interact(npoints=(3,200,10))\n",
    "def run(npoints):\n",
    "    mdata = pd.concat([data[:npoints],data[data['type']=='s1']])\n",
    "    model = GeologicalModel(boundary_points[0,:],boundary_points[1,:])\n",
    "    model.set_model_data(mdata)\n",
    "    fold_frame = model.create_and_add_fold_frame('s1',nelements=10000)\n",
    "    stratigraphy = model.create_and_add_folded_foliation('s0',\n",
    "                                                   fold_frame,\n",
    "                                                    nelements=10000,\n",
    "                                                   fold_axis=[-6.51626577e-06, -5.00013645e-01, -8.66017526e-01],\n",
    "                                                   limb_wl=1)\n",
    "    viewer = LavaVuModelViewer(background=\"white\")\n",
    "    # viewer.add_scalar_field(model.bounding_box,(38,55,30),\n",
    "    #                       'box',\n",
    "    #                      paint_with=stratigraphy,\n",
    "    #                      cmap='prism')\n",
    "#     viewer.add_isosurface(fold_frame[0],colour='red')\n",
    "#     viewer.add_isosurface(fold_frame[1],colour='green')\n",
    "#     viewer.add_isosurface(fold_frame[1],colour='blue')\n",
    "\n",
    "\n",
    "    viewer.add_data(stratigraphy)\n",
    "    viewer.add_isosurface(stratigraphy,\n",
    "                         voxet=model.voxet())\n",
    "    viewer.interactive()"
   ]
  },
  {
   "cell_type": "markdown",
   "metadata": {},
   "source": [
    "### Evaluation\n",
    "Do you think that a typical structural map and cross section has enough data to be able to constrain the geometry of folds in 3D?\n",
    "\n"
   ]
  }
 ],
 "metadata": {
  "kernelspec": {
   "display_name": "Python 3",
   "language": "python",
   "name": "python3"
  },
  "language_info": {
   "codemirror_mode": {
    "name": "ipython",
    "version": 3
   },
   "file_extension": ".py",
   "mimetype": "text/x-python",
   "name": "python",
   "nbconvert_exporter": "python",
   "pygments_lexer": "ipython3",
   "version": "3.6.8"
  },
  "varInspector": {
   "cols": {
    "lenName": 16,
    "lenType": 16,
    "lenVar": 40
   },
   "kernels_config": {
    "python": {
     "delete_cmd_postfix": "",
     "delete_cmd_prefix": "del ",
     "library": "var_list.py",
     "varRefreshCmd": "print(var_dic_list())"
    },
    "r": {
     "delete_cmd_postfix": ") ",
     "delete_cmd_prefix": "rm(",
     "library": "var_list.r",
     "varRefreshCmd": "cat(var_dic_list()) "
    }
   },
   "types_to_exclude": [
    "module",
    "function",
    "builtin_function_or_method",
    "instance",
    "_Feature"
   ],
   "window_display": false
  }
 },
 "nbformat": 4,
 "nbformat_minor": 4
}
