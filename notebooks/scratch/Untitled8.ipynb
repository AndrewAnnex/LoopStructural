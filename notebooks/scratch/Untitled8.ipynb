{
 "cells": [
  {
   "cell_type": "code",
   "execution_count": 1,
   "metadata": {},
   "outputs": [],
   "source": [
    "from LoopStructural.supports.structured_tetra import TetMesh\n",
    "from LoopStructural.cython.dsi_helper import tetra_neighbours\n",
    "import numpy as np"
   ]
  },
  {
   "cell_type": "code",
   "execution_count": 8,
   "metadata": {},
   "outputs": [
    {
     "data": {
      "text/plain": [
       "array([[0., 0., 0.],\n",
       "       [1., 0., 0.],\n",
       "       [0., 1., 0.],\n",
       "       [1., 1., 0.],\n",
       "       [0., 0., 1.],\n",
       "       [1., 0., 1.],\n",
       "       [0., 1., 1.],\n",
       "       [1., 1., 1.]])"
      ]
     },
     "execution_count": 8,
     "metadata": {},
     "output_type": "execute_result"
    }
   ],
   "source": [
    "mesh = TetMesh(nsteps=[2,2,2])\n",
    "mesh.nodes"
   ]
  },
  {
   "cell_type": "code",
   "execution_count": 2,
   "metadata": {},
   "outputs": [
    {
     "name": "stdout",
     "output_type": "stream",
     "text": [
      "[[ 4  3  2  1]\n",
      " [ 0 -1 -1 -1]\n",
      " [ 0 -1 -1 -1]\n",
      " [ 0 -1 -1 -1]\n",
      " [ 8  0 -1 -1]\n",
      " [ 9  8  7  6]\n",
      " [ 5 -1 -1 -1]\n",
      " [ 5 -1 -1 -1]\n",
      " [ 5 -1 -1 -1]\n",
      " [ 5  3 -1 -1]]\n",
      "[[ 4  3  2  1]\n",
      " [ 9  0 -1 -1]\n",
      " [ 0 -1 -1 -1]\n",
      " [ 0 -1 -1 -1]\n",
      " [ 6  0 -1 -1]\n",
      " [ 9  8  7  6]\n",
      " [ 5  4 -1 -1]\n",
      " [ 5 -1 -1 -1]\n",
      " [ 5 -1 -1 -1]\n",
      " [ 5  1 -1 -1]]\n",
      "4 4 0 [0] [0] [0] [ 8  0 -1 -1] [ 6  0 -1 -1]\n",
      "9 4 1 [1] [0] [0] [ 5  3 -1 -1] [ 5  1 -1 -1]\n"
     ]
    }
   ],
   "source": [
    "mesh = TetMesh(nsteps=[3,2,2])\n",
    "neighbours = np.sort(mesh.get_neighbours())[:,::-1]\n",
    "elements = mesh.get_elements()\n",
    "neighbours2 = np.zeros((elements.shape[0],4)).astype('int64')\n",
    "neighbours2[:] = -1\n",
    "tetra_neighbours(elements,neighbours2)\n",
    "neighbours2 = np.sort(neighbours2)[:,::-1]\n",
    "print(neighbours)\n",
    "print(neighbours2)\n",
    "for i in range(neighbours2.shape[0]):\n",
    "    for j in range(4):\n",
    "        if neighbours[i,j] not in neighbours2[i,:]:\n",
    "            print(i,i % 5, (i // 5) % 2, mesh.global_index_to_cell_index(i//5)[0],\\\n",
    "                  mesh.global_index_to_cell_index(i//5)[1],\\\n",
    "                  mesh.global_index_to_cell_index(i//5)[2],neighbours[i,:],neighbours2[i,:])"
   ]
  },
  {
   "cell_type": "code",
   "execution_count": 3,
   "metadata": {},
   "outputs": [
    {
     "name": "stdout",
     "output_type": "stream",
     "text": [
      "1 1 0 [0] [0] [0] [ 9  0 -1 -1] [ 8  0 -1 -1]\n",
      "3 3 0 [0] [0] [0] [ 7  0 -1 -1] [ 6  0 -1 -1]\n",
      "4 4 0 [0] [0] [0] [ 6  0 -1 -1] [ 0 -1 -1 -1]\n",
      "6 1 1 [0] [1] [0] [ 5  4 -1 -1] [ 5  3 -1 -1]\n",
      "8 3 1 [0] [1] [0] [ 5  2 -1 -1] [ 5  1 -1 -1]\n",
      "9 4 1 [0] [1] [0] [ 5  1 -1 -1] [ 5 -1 -1 -1]\n"
     ]
    }
   ],
   "source": [
    "mesh = TetMesh(nsteps=[2,3,2])\n",
    "neighbours = np.sort(mesh.get_neighbours())[:,::-1]\n",
    "elements = mesh.get_elements()\n",
    "neighbours2 = np.zeros((elements.shape[0],4)).astype('int64')\n",
    "neighbours2[:] = -1\n",
    "tetra_neighbours(elements,neighbours2)\n",
    "neighbours2 = np.sort(neighbours2)[:,::-1]\n",
    "for i in range(neighbours2.shape[0]):\n",
    "    for j in range(4):\n",
    "        if neighbours[i,j] not in neighbours2[i,:]:\n",
    "            print(i,i % 5, (i // 5) % 2, mesh.global_index_to_cell_index(i//5)[0],\\\n",
    "                  mesh.global_index_to_cell_index(i//5)[1],\\\n",
    "                  mesh.global_index_to_cell_index(i//5)[2],neighbours[i,:],neighbours2[i,:])"
   ]
  },
  {
   "cell_type": "code",
   "execution_count": 6,
   "metadata": {},
   "outputs": [
    {
     "name": "stdout",
     "output_type": "stream",
     "text": [
      "1 1 0 [0] [0] [0] [ 8  0 -1 -1] [ 0 -1 -1 -1]\n",
      "6 1 1 [0] [0] [1] [ 5  3 -1 -1] [ 5 -1 -1 -1]\n"
     ]
    }
   ],
   "source": [
    "mesh = TetMesh(nsteps=[2,2,3])\n",
    "neighbours = np.sort(mesh.get_neighbours())[:,::-1]\n",
    "elements = mesh.get_elements()\n",
    "neighbours2 = np.zeros((elements.shape[0],4)).astype('int64')\n",
    "neighbours2[:] = -1\n",
    "tetra_neighbours(elements,neighbours2)\n",
    "neighbours2 = np.sort(neighbours2)[:,::-1]\n",
    "\n",
    "for i in range(neighbours2.shape[0]):\n",
    "    for j in range(4):\n",
    "        if neighbours[i,j] not in neighbours2[i,:]:\n",
    "            print(i,i % 5, (i // 5) % 2, mesh.global_index_to_cell_index(i//5)[0],\\\n",
    "                  mesh.global_index_to_cell_index(i//5)[1],\\\n",
    "                  mesh.global_index_to_cell_index(i//5)[2],neighbours[i,:],neighbours2[i,:])"
   ]
  },
  {
   "cell_type": "code",
   "execution_count": null,
   "metadata": {
    "scrolled": false
   },
   "outputs": [],
   "source": []
  },
  {
   "cell_type": "code",
   "execution_count": 5,
   "metadata": {},
   "outputs": [
    {
     "name": "stdout",
     "output_type": "stream",
     "text": [
      "(array([1], dtype=int32), array([0], dtype=int32), array([1], dtype=int32)) 4\n"
     ]
    }
   ],
   "source": [
    "ic = 24 // 5\n",
    "it = 24 % 5\n",
    "print(mesh.global_index_to_cell_index(ic),it)"
   ]
  },
  {
   "cell_type": "code",
   "execution_count": null,
   "metadata": {},
   "outputs": [],
   "source": []
  }
 ],
 "metadata": {
  "kernelspec": {
   "display_name": "loop",
   "language": "python",
   "name": "loop"
  },
  "language_info": {
   "codemirror_mode": {
    "name": "ipython",
    "version": 3
   },
   "file_extension": ".py",
   "mimetype": "text/x-python",
   "name": "python",
   "nbconvert_exporter": "python",
   "pygments_lexer": "ipython3",
   "version": "3.7.4"
  }
 },
 "nbformat": 4,
 "nbformat_minor": 2
}
