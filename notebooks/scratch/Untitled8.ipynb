{
 "cells": [
  {
   "cell_type": "code",
   "execution_count": 1,
   "metadata": {},
   "outputs": [
    {
     "name": "stderr",
     "output_type": "stream",
     "text": [
      "/home/lgrose/anaconda3/envs/loop/lib/python3.8/site-packages/sklearn/utils/deprecation.py:144: FutureWarning: The sklearn.decomposition.pca module is  deprecated in version 0.22 and will be removed in version 0.24. The corresponding classes / functions should instead be imported from sklearn.decomposition. Anything that cannot be imported from sklearn.decomposition is now part of the private API.\n",
      "  warnings.warn(message, FutureWarning)\n"
     ]
    }
   ],
   "source": [
    "from LoopStructural.supports.structured_tetra import TetMesh\n",
    "from LoopStructural.cython.dsi_helper import tetra_neighbours\n",
    "import numpy as np"
   ]
  },
  {
   "cell_type": "code",
   "execution_count": 2,
   "metadata": {},
   "outputs": [
    {
     "data": {
      "text/plain": [
       "array([[0., 0., 0.],\n",
       "       [1., 0., 0.],\n",
       "       [0., 1., 0.],\n",
       "       [1., 1., 0.],\n",
       "       [0., 0., 1.],\n",
       "       [1., 0., 1.],\n",
       "       [0., 1., 1.],\n",
       "       [1., 1., 1.]])"
      ]
     },
     "execution_count": 2,
     "metadata": {},
     "output_type": "execute_result"
    }
   ],
   "source": [
    "mesh = TetMesh(nsteps=[2,2,2])\n",
    "mesh.nodes"
   ]
  },
  {
   "cell_type": "code",
   "execution_count": 3,
   "metadata": {},
   "outputs": [
    {
     "name": "stdout",
     "output_type": "stream",
     "text": [
      "[[ 4  3  2  1]\n",
      " [13  7  0 -1]\n",
      " [14  0 -1 -1]\n",
      " [ 0 -1 -1 -1]\n",
      " [ 9  0 -1 -1]\n",
      " [ 9  8  7  6]\n",
      " [19  5 -1 -1]\n",
      " [18  5  1 -1]\n",
      " [ 5 -1 -1 -1]\n",
      " [ 5  4 -1 -1]\n",
      " [14 13 12 11]\n",
      " [17 10 -1 -1]\n",
      " [10 -1 -1 -1]\n",
      " [18 10  1 -1]\n",
      " [10  2 -1 -1]\n",
      " [19 18 17 16]\n",
      " [15 -1 -1 -1]\n",
      " [15 11 -1 -1]\n",
      " [15 13  7 -1]\n",
      " [15  6 -1 -1]]\n",
      "[[ 4  3  2  1]\n",
      " [13  7  0 -1]\n",
      " [14  0 -1 -1]\n",
      " [ 0 -1 -1 -1]\n",
      " [ 9  0 -1 -1]\n",
      " [ 9  8  7  6]\n",
      " [19  5 -1 -1]\n",
      " [18  5  1 -1]\n",
      " [ 5 -1 -1 -1]\n",
      " [ 5  4 -1 -1]\n",
      " [14 13 12 11]\n",
      " [17 10 -1 -1]\n",
      " [10 -1 -1 -1]\n",
      " [18 10  1 -1]\n",
      " [10  2 -1 -1]\n",
      " [19 18 17 16]\n",
      " [15 -1 -1 -1]\n",
      " [15 11 -1 -1]\n",
      " [15 13  7 -1]\n",
      " [15  6 -1 -1]]\n"
     ]
    }
   ],
   "source": [
    "mesh = TetMesh(nsteps=[2,3,3])\n",
    "neighbours = np.sort(mesh.get_neighbours())[:,::-1]\n",
    "elements = mesh.get_elements()\n",
    "neighbours2 = np.zeros((elements.shape[0],4)).astype('int64')\n",
    "neighbours2[:] = -1\n",
    "tetra_neighbours(elements,neighbours2)\n",
    "neighbours2 = np.sort(neighbours2)[:,::-1]\n",
    "print(neighbours)\n",
    "print(neighbours2)\n",
    "for i in range(neighbours2.shape[0]):\n",
    "    for j in range(4):\n",
    "        if neighbours[i,j] not in neighbours2[i,:]:\n",
    "            print(i,i % 5, (i // 5) % 2, mesh.global_index_to_cell_index(i//5)[0],\\\n",
    "                  mesh.global_index_to_cell_index(i//5)[1],\\\n",
    "                  mesh.global_index_to_cell_index(i//5)[2],neighbours[i,:],neighbours2[i,:])"
   ]
  },
  {
   "cell_type": "code",
   "execution_count": 4,
   "metadata": {},
   "outputs": [],
   "source": [
    "mesh = TetMesh(nsteps=[2,3,2])\n",
    "neighbours = np.sort(mesh.get_neighbours())[:,::-1]\n",
    "elements = mesh.get_elements()\n",
    "neighbours2 = np.zeros((elements.shape[0],4)).astype('int64')\n",
    "neighbours2[:] = -1\n",
    "tetra_neighbours(elements,neighbours2)\n",
    "neighbours2 = np.sort(neighbours2)[:,::-1]\n",
    "for i in range(neighbours2.shape[0]):\n",
    "    for j in range(4):\n",
    "        if neighbours[i,j] not in neighbours2[i,:]:\n",
    "            print(i,i % 5, (i // 5) % 2, mesh.global_index_to_cell_index(i//5)[0],\\\n",
    "                  mesh.global_index_to_cell_index(i//5)[1],\\\n",
    "                  mesh.global_index_to_cell_index(i//5)[2],neighbours[i,:],neighbours2[i,:])"
   ]
  },
  {
   "cell_type": "code",
   "execution_count": 5,
   "metadata": {},
   "outputs": [],
   "source": [
    "mesh = TetMesh(nsteps=[2,2,3])\n",
    "neighbours = np.sort(mesh.get_neighbours())[:,::-1]\n",
    "elements = mesh.get_elements()\n",
    "neighbours2 = np.zeros((elements.shape[0],4)).astype('int64')\n",
    "neighbours2[:] = -1\n",
    "tetra_neighbours(elements,neighbours2)\n",
    "neighbours2 = np.sort(neighbours2)[:,::-1]\n",
    "\n",
    "for i in range(neighbours2.shape[0]):\n",
    "    for j in range(4):\n",
    "        if neighbours[i,j] not in neighbours2[i,:]:\n",
    "            print(i,i % 5, (i // 5) % 2, mesh.global_index_to_cell_index(i//5)[0],\\\n",
    "                  mesh.global_index_to_cell_index(i//5)[1],\\\n",
    "                  mesh.global_index_to_cell_index(i//5)[2],neighbours[i,:],neighbours2[i,:])"
   ]
  },
  {
   "cell_type": "code",
   "execution_count": 11,
   "metadata": {
    "scrolled": false
   },
   "outputs": [],
   "source": [
    "mesh = TetMesh(nsteps=[30,30,30])\n"
   ]
  },
  {
   "cell_type": "code",
   "execution_count": 12,
   "metadata": {},
   "outputs": [
    {
     "name": "stdout",
     "output_type": "stream",
     "text": [
      "(array([4]), array([0]), array([0])) 4\n"
     ]
    }
   ],
   "source": [
    "ic = 24 // 5\n",
    "it = 24 % 5\n",
    "print(mesh.global_index_to_cell_index(ic),it)"
   ]
  },
  {
   "cell_type": "code",
   "execution_count": 13,
   "metadata": {},
   "outputs": [],
   "source": [
    "\n",
    "# get cell corners\n",
    "xi, yi, zi = mesh.cell_corner_indexes(c_xi, c_yi, c_zi)\n",
    "even_mask = (c_xi + c_yi + c_zi) % 2 == 0\n",
    "gi = xi + yi * mesh.nsteps[0] + zi * mesh.nsteps[0] * mesh.nsteps[1]\n",
    "tetras = np.zeros((c_xi.shape[0], 5, 4)).astype('int64')\n",
    "tetras[even_mask, :, :] = gi[even_mask, :][:, mesh.tetra_mask_even]\n",
    "tetras[~even_mask, :, :] = gi[~even_mask, :][:, mesh.tetra_mask]\n",
    "tetras = tetras.reshape((tetras.shape[0]*tetras.shape[1],tetras.shape[2]))"
   ]
  },
  {
   "cell_type": "code",
   "execution_count": 14,
   "metadata": {},
   "outputs": [
    {
     "data": {
      "text/plain": [
       "array([[  931,     1,    30,   900],\n",
       "       [  930,    30,   900,   931],\n",
       "       [  901,     1,   900,   931],\n",
       "       ...,\n",
       "       [26969, 26069, 26968, 26999],\n",
       "       [26068, 26069, 26098, 26968],\n",
       "       [26099, 26069, 26098, 26999]])"
      ]
     },
     "execution_count": 14,
     "metadata": {},
     "output_type": "execute_result"
    }
   ],
   "source": [
    "tetras"
   ]
  },
  {
   "cell_type": "code",
   "execution_count": 15,
   "metadata": {},
   "outputs": [],
   "source": [
    "elements = mesh.get_elements()"
   ]
  },
  {
   "cell_type": "code",
   "execution_count": 16,
   "metadata": {},
   "outputs": [
    {
     "name": "stdout",
     "output_type": "stream",
     "text": [
      "[[0 0 0 0]\n",
      " [0 0 0 0]\n",
      " [0 0 0 0]\n",
      " ...\n",
      " [0 0 0 0]\n",
      " [0 0 0 0]\n",
      " [0 0 0 0]]\n"
     ]
    }
   ],
   "source": [
    "print(tetras-elements)"
   ]
  },
  {
   "cell_type": "code",
   "execution_count": null,
   "metadata": {},
   "outputs": [],
   "source": []
  }
 ],
 "metadata": {
  "kernelspec": {
   "display_name": "Python 3",
   "language": "python",
   "name": "python3"
  },
  "language_info": {
   "codemirror_mode": {
    "name": "ipython",
    "version": 3
   },
   "file_extension": ".py",
   "mimetype": "text/x-python",
   "name": "python",
   "nbconvert_exporter": "python",
   "pygments_lexer": "ipython3",
   "version": "3.8.1"
  }
 },
 "nbformat": 4,
 "nbformat_minor": 2
}
