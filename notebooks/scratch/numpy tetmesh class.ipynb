{
 "cells": [
  {
   "cell_type": "code",
   "execution_count": 2,
   "metadata": {
    "ExecuteTime": {
     "end_time": "2020-01-09T04:36:53.051912Z",
     "start_time": "2020-01-09T04:36:52.878942Z"
    }
   },
   "outputs": [],
   "source": [
    "import numpy as np\n",
    "import matplotlib.pyplot as plt"
   ]
  },
  {
   "cell_type": "code",
   "execution_count": 91,
   "metadata": {
    "ExecuteTime": {
     "end_time": "2020-01-09T05:05:57.904045Z",
     "start_time": "2020-01-09T05:05:57.868627Z"
    },
    "code_folding": [
     51,
     77,
     88,
     92,
     115,
     123,
     132,
     140
    ]
   },
   "outputs": [],
   "source": [
    "class TetMesh:\n",
    "    def __init__(self,origin,nsteps,step_vector):\n",
    "        self.origin = np.array(origin) \n",
    "        self.step_vector = np.array(step_vector)     \n",
    "        self.nsteps = np.array(nsteps)\n",
    "        self.nsteps_cells = self.nsteps - 1\n",
    "        self.n_cell_x = self.nsteps[0] - 1\n",
    "        self.n_cell_y = self.nsteps[1] - 1\n",
    "        self.n_cell_z = self.nsteps[2] - 1\n",
    "        \n",
    "    def get_tetra(self,pos):\n",
    "        pos = np.array(pos)\n",
    "        # find which cell the points are in\n",
    "        gi, inside = self.position_to_cell_corners(pos)\n",
    "        # now determine the tetra from the corners\n",
    "        tetra = np.dstack([gi[:,[0,4,5,3]],\n",
    "                        gi[:,[4,6,7,5]],\n",
    "                        gi[:,[0,1,6,4]],\n",
    "                        gi[:,[0,6,5,4]],\n",
    "                        gi[:,[0,6,5,2]]\n",
    "                          ])\n",
    "        xi,yi,zi = self.global_index_to_node_index(tetra)\n",
    "        apoints = self.node_indexes_to_position(xi,yi,zi)\n",
    "        cc = []\n",
    "#         points = points.swapaxes(0,3)\n",
    "#         points = points.swapaxes(0,1)\n",
    "        for ii in range(apoints.shape[1]):\n",
    "            points = apoints[:,ii,:,:].T\n",
    "            vap = pos[ii,None,None,:] - points[None,:, 0,:]\n",
    "            vbp = pos[ii,None,None,:] - points[None,:, 1, :]\n",
    "            #         # vcp = p - points[:, 2, :]\n",
    "            #         # vdp = p - points[:, 3, :]\n",
    "            vab = points[None,:,  1, :] - points[None, :, 0, :]\n",
    "            vac = points[None,:,  2, :] - points[None, :, 0, :]\n",
    "            vad = points[None,:,  3, :] - points[None, :, 0, :]\n",
    "            vbc = points[None,:,  2, :] - points[None, :, 1, :]\n",
    "            vbd = points[None,:,  3, :] - points[None, :, 1, :]\n",
    "\n",
    "            va = np.einsum('ikj, ikj->ik', vbp, np.cross(vbd, vbc, axisa=2, axisb=2)) / 6.\n",
    "            vb = np.einsum('ikj, ikj->ik', vap, np.cross(vac, vad, axisa=2, axisb=2)) / 6.\n",
    "            vc = np.einsum('ikj, ikj->ik', vap, np.cross(vad, vab, axisa=2, axisb=2)) / 6.\n",
    "            vd = np.einsum('ikj, ikj->ik', vap, np.cross(vab, vac, axisa=2, axisb=2)) / 6.\n",
    "\n",
    "            v = np.einsum('ikj, ikj->ik', vab, np.cross(vac, vad, axisa=2, axisb=2)) / 6.\n",
    "            c = np.zeros((va.shape[0],va.shape[1],4))\n",
    "\n",
    "            #print(va.shape)\n",
    "            c[:,:,0] = va / v\n",
    "            c[:,:,1]= vb / v\n",
    "            c[:,:,2] = vc / v\n",
    "            c[:,:,3] = vd / v\n",
    "            cc.append(c)\n",
    "        return cc\n",
    "    def calc_bary_centre(self,points,position):\n",
    "\n",
    "        npts = len(e)\n",
    "        vap = position - points[:, 0, :]\n",
    "        vbp = position - points[:, 1, :]\n",
    "        # vcp = p - points[:, 2, :]\n",
    "        # vdp = p - points[:, 3, :]\n",
    "        vab = points[:, 1, :] - points[:, 0, :]\n",
    "        vac = points[:, 2, :] - points[:, 0, :]\n",
    "        vad = points[:, 3, :] - points[:, 0, :]\n",
    "        vbc = points[:, 2, :] - points[:, 1, :]\n",
    "        vbd = points[:, 3, :] - points[:, 1, :]\n",
    "        vbp * np.cross(vbd, vbc, axisa=1, axisb=1)\n",
    "        va = np.sum(vbp * np.cross(vbd, vbc, axisa=1, axisb=1), axis=1) / 6.\n",
    "        vb = np.sum(vap * np.cross(vac, vad, axisa=1, axisb=1), axis=1) / 6.\n",
    "        vc = np.sum(vap * np.cross(vad, vab, axisa=1, axisb=1), axis=1) / 6.\n",
    "        vd = np.sum(vap * np.cross(vab, vac, axisa=1, axisb=1), axis=1) / 6.\n",
    "        v = np.sum(vab * np.cross(vac, vad, axisa=1, axisb=1), axis=1) / 6.\n",
    "        c = np.zeros((4, npts))\n",
    "        c[0, :] = va / v\n",
    "        c[1, :] = vb / v\n",
    "        c[2, :] = vc / v\n",
    "        c[3, :] = vd / v\n",
    "        return c\n",
    "    \n",
    "    \n",
    "    def inside(self, pos):\n",
    "\n",
    "        # check whether point is inside box\n",
    "        inside = np.ones(pos.shape[0]).astype(bool)\n",
    "        for i in range(3):\n",
    "            inside *= pos[:, i] > self.origin[None, i]\n",
    "            inside *= pos[:, i] < self.origin[None, i] + \\\n",
    "                      self.step_vector[None, i] * self.nsteps_cells[None, i]\n",
    "        return inside    \n",
    "    def global_indicies(self,indexes):\n",
    "        indexes = np.array(indexes).swapaxes(0, 2)\n",
    "        return indexes[:, :, 0] + self.nsteps[None, None, 0] * indexes[:, :,\n",
    "                                                               1] + \\\n",
    "               self.nsteps[None, None, 0] * self.nsteps[\n",
    "                   None, None, 1] * indexes[:, :, 2]\n",
    "    def cell_corner_indexes(self, x_cell_index, y_cell_index, z_cell_index):\n",
    "        \"\"\"\n",
    "        Returns the indexes of the corners of a cell given its location xi,\n",
    "        yi, zi\n",
    "\n",
    "        Parameters\n",
    "        ----------\n",
    "        x_cell_index\n",
    "        y_cell_index\n",
    "        z_cell_index\n",
    "\n",
    "        Returns\n",
    "        -------\n",
    "\n",
    "        \"\"\"\n",
    "        xcorner = np.array([0, 1, 0, 0, 1, 0, 1, 1])\n",
    "        ycorner = np.array([0, 0, 1, 0, 0, 1, 1, 1])\n",
    "        zcorner = np.array([0, 0, 0, 1, 1, 1, 0, 1])\n",
    "        xcorners = x_cell_index[:, None] + xcorner[None, :]\n",
    "        ycorners = y_cell_index[:, None] + ycorner[None, :]\n",
    "        zcorners = z_cell_index[:, None] + zcorner[None, :]\n",
    "        return xcorners, ycorners, zcorners\n",
    "    \n",
    "    def position_to_cell_corners(self,pos):\n",
    "        inside = self.inside(pos)\n",
    "        ix, iy, iz = self.position_to_cell_index(pos)\n",
    "        cornersx, cornersy, cornersz = self.cell_corner_indexes(ix, iy, iz)\n",
    "        globalidx = self.global_indicies(\n",
    "            np.dstack([cornersx, cornersy, cornersz]).T)\n",
    "        return globalidx, inside\n",
    "    \n",
    "    def position_to_cell_index(self,pos):\n",
    "        ix = pos[:, 0] - self.origin[None, 0]\n",
    "        iy = pos[:, 1] - self.origin[None, 1]\n",
    "        iz = pos[:, 2] - self.origin[None, 2]\n",
    "        ix = ix // self.step_vector[None, 0]\n",
    "        iy = iy // self.step_vector[None, 1]\n",
    "        iz = iz // self.step_vector[None, 2]\n",
    "        return ix.astype(int), iy.astype(int), iz.astype(int)\n",
    "    \n",
    "    def node_indexes_to_position(self, xindex, yindex, zindex):\n",
    "\n",
    "        x = self.origin[0] + self.step_vector[0] * xindex\n",
    "        y = self.origin[1] + self.step_vector[1] * yindex\n",
    "        z = self.origin[2] + self.step_vector[2] * zindex\n",
    "\n",
    "        return np.array([x, y, z])\n",
    "    \n",
    "    def global_index_to_node_index(self, global_index):\n",
    "        \"\"\"\n",
    "        Convert from global indexes to xi,yi,zi\n",
    "\n",
    "        Parameters\n",
    "        ----------\n",
    "        global_index\n",
    "\n",
    "        Returns\n",
    "        -------\n",
    "\n",
    "        \"\"\"\n",
    "        # determine the ijk indices for the global index.\n",
    "        # remainder when dividing by nx = i\n",
    "        # remained when dividing modulus of nx by ny is j\n",
    "\n",
    "        x_index = global_index % self.nsteps[0, None]\n",
    "        y_index = global_index // self.nsteps[0, None] % \\\n",
    "                  self.nsteps_cells[1, None]\n",
    "        z_index = global_index // self.nsteps[0, None] // \\\n",
    "                  self.nsteps[1, None]\n",
    "        return x_index, y_index, z_index"
   ]
  },
  {
   "cell_type": "code",
   "execution_count": 95,
   "metadata": {
    "ExecuteTime": {
     "end_time": "2020-01-09T05:09:13.615175Z",
     "start_time": "2020-01-09T05:09:13.605792Z"
    },
    "scrolled": false
   },
   "outputs": [],
   "source": [
    "mesh = TetMesh([0,0,0],[10,10,10],[1.,1.,1.])\n",
    "c = mesh.get_tetra([[.125,.125,.9],\n",
    "                    [.9, .9, .9],\n",
    "                    [.9, .9, .125],\n",
    "                    [.5, .5, .75],\n",
    "                    [.125, .9, .125],\n",
    "                    [.125, .9, .125]\n",
    "                   ])"
   ]
  },
  {
   "cell_type": "code",
   "execution_count": 96,
   "metadata": {
    "ExecuteTime": {
     "end_time": "2020-01-09T05:09:16.863891Z",
     "start_time": "2020-01-09T05:09:16.855050Z"
    }
   },
   "outputs": [
    {
     "data": {
      "text/plain": [
       "array([[[ 0.1  ,  0.125, -0.775,  1.55 ],\n",
       "        [ 1.775,  0.1  , -1.75 ,  0.875],\n",
       "        [ 0.875,  0.   , -0.775,  0.9  ],\n",
       "        [ 0.875, -0.775,  0.   ,  0.9  ],\n",
       "        [ 1.775,  0.125,  0.9  , -1.8  ]]])"
      ]
     },
     "execution_count": 96,
     "metadata": {},
     "output_type": "execute_result"
    }
   ],
   "source": [
    "c[0]"
   ]
  },
  {
   "cell_type": "code",
   "execution_count": null,
   "metadata": {},
   "outputs": [],
   "source": []
  }
 ],
 "metadata": {
  "kernelspec": {
   "display_name": "Python 3",
   "language": "python",
   "name": "python3"
  },
  "language_info": {
   "codemirror_mode": {
    "name": "ipython",
    "version": 3
   },
   "file_extension": ".py",
   "mimetype": "text/x-python",
   "name": "python",
   "nbconvert_exporter": "python",
   "pygments_lexer": "ipython3",
   "version": "3.6.9"
  },
  "varInspector": {
   "cols": {
    "lenName": 16,
    "lenType": 16,
    "lenVar": 40
   },
   "kernels_config": {
    "python": {
     "delete_cmd_postfix": "",
     "delete_cmd_prefix": "del ",
     "library": "var_list.py",
     "varRefreshCmd": "print(var_dic_list())"
    },
    "r": {
     "delete_cmd_postfix": ") ",
     "delete_cmd_prefix": "rm(",
     "library": "var_list.r",
     "varRefreshCmd": "cat(var_dic_list()) "
    }
   },
   "types_to_exclude": [
    "module",
    "function",
    "builtin_function_or_method",
    "instance",
    "_Feature"
   ],
   "window_display": false
  }
 },
 "nbformat": 4,
 "nbformat_minor": 2
}
