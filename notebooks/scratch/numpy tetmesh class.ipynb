{
 "cells": [
  {
   "cell_type": "code",
   "execution_count": 2,
   "metadata": {
    "ExecuteTime": {
     "end_time": "2020-01-22T21:30:18.755513Z",
     "start_time": "2020-01-22T21:30:18.371162Z"
    }
   },
   "outputs": [],
   "source": [
    "import numpy as np\n",
    "import matplotlib.pyplot as plt\n",
    "# %load_ext snakeviz\n",
    "%load_ext cython"
   ]
  },
  {
   "cell_type": "code",
   "execution_count": 3,
   "metadata": {
    "ExecuteTime": {
     "end_time": "2020-01-22T21:30:22.200946Z",
     "start_time": "2020-01-22T21:30:18.849218Z"
    }
   },
   "outputs": [],
   "source": [
    "%%cython\n",
    "def build_faces(long [:,:] tetras, long [:,:] faces, long [:,:] face_tetra):\n",
    "    cdef int i, j, k, l, n\n",
    "    cdef int fc = 0\n",
    "    cdef int ntetra = tetras.shape[0]\n",
    "    for i in range(ntetra):\n",
    "        for j in range(i+1,ntetra):\n",
    "            n = 0\n",
    "            for k in range(4):\n",
    "                for l in range(4):\n",
    "                    if tetras[i,k] == tetras[j,l]:\n",
    "                        faces[fc,n] = tetras[i,k]\n",
    "                        face_tetra[fc,0] = i\n",
    "                        face_tetra[fc,1] = j\n",
    "                        n+=1\n",
    "\n",
    "            if n==3:\n",
    "                fc+=1\n",
    "                continue\n",
    "    return fc\n",
    "\n",
    "def build_neighbours(long [:,:] tetras, long [:,:] neighbours):\n",
    "    cdef int i, j, k, l, n, nn\n",
    "    cdef int ntetra = tetras.shape[0]\n",
    "    for i in range(ntetra):\n",
    "        nn = 0\n",
    "        for j in range(ntetra):\n",
    "            if j == i:\n",
    "                continue\n",
    "            n = 0\n",
    "            for k in range(4):\n",
    "                for l in range(4):\n",
    "                    if tetras[i,k] == tetras[j,l]:\n",
    "                        n+=1\n",
    "            if n==3:\n",
    "                neighbours[i,nn] = j\n",
    "#                 print('n==3',i,nn,j)\n",
    "                nn+=1\n",
    "            if nn == 4:\n",
    "#                 print('nn==3',i,j,n,nn)\n",
    "                break\n",
    "            if n == 2:\n",
    "                continue\n",
    "\n",
    "            \n",
    "    return"
   ]
  },
  {
   "cell_type": "code",
   "execution_count": 4,
   "metadata": {
    "ExecuteTime": {
     "end_time": "2020-01-22T21:30:22.329541Z",
     "start_time": "2020-01-22T21:30:22.217292Z"
    },
    "code_folding": [
     74,
     100,
     109,
     143,
     151,
     191,
     213
    ]
   },
   "outputs": [],
   "source": [
    "class TetMesh:\n",
    "    def __init__(self,origin,nsteps,step_vector):\n",
    "        self.origin = np.array(origin) \n",
    "        self.step_vector = np.array(step_vector)     \n",
    "        self.nsteps = np.array(nsteps)\n",
    "        self.nsteps_cells = self.nsteps - 1\n",
    "        self.n_cell_x = self.nsteps[0] - 1\n",
    "        self.n_cell_y = self.nsteps[1] - 1\n",
    "        self.n_cell_z = self.nsteps[2] - 1\n",
    "        self.n_cells = self.n_cell_x*self.n_cell_y*self.n_cell_z\n",
    "        self.tetra_mask = np.array([\n",
    "                      [0,6,5,4],\n",
    "                      [0,4,5,3],\n",
    "                      [4,6,7,5],\n",
    "                      [0,1,6,4],\n",
    "                      [0,6,5,2]])\n",
    "        self.tetra_mask_even = np.array([\n",
    "                        [1,2,3,7],\n",
    "                        [1,6,7,2],\n",
    "                        [0,1,2,3],\n",
    "                        [3,7,5,2],\n",
    "                        [1,7,3,4]   ])\n",
    "        \n",
    "        \n",
    "        self.ntetra = self.n_cells*5\n",
    "    def get_tetra(self,pos):\n",
    "        pos = np.array(pos)\n",
    "        # initialise array for tetrahedron vertices\n",
    "        points = np.zeros((5, 4, pos.shape[0], 3))\n",
    "        points[:] = np.nan\n",
    "        \n",
    "        # get cell indexes\n",
    "        c_xi, c_yi, c_zi = self.position_to_cell_index(pos)\n",
    "\n",
    "        # determine if using +ve or -ve mask\n",
    "        even_mask = (c_xi + c_yi+c_zi) % 2 == 0\n",
    "        # get cell corners\n",
    "        xi,yi,zi = self.cell_corner_indexes(c_xi,c_yi,c_zi)#global_index_to_node_index(gi)\n",
    "        # convert to node locations\n",
    "        nodes = self.node_indexes_to_position(xi,yi,zi).T\n",
    "        \n",
    "        points[:,:,even_mask,:]=nodes[:,even_mask,:][self.tetra_mask_even,:,:]\n",
    "        points[:,:,~even_mask,:]=nodes[:,~even_mask,:][self.tetra_mask,:,:]\n",
    "        # changing order to points, tetra, nodes, coord\n",
    "        points = points.swapaxes(0,2)\n",
    "        points = points.swapaxes(1,2)\n",
    "\n",
    "        # use scalar triple product to calculate barycentric coords\n",
    "        vap = pos[:,None,:] - points[:,:, 0,:]\n",
    "        vbp = pos[:,None,:] - points[:,:, 1, :]\n",
    "        #         # vcp = p - points[:, 2, :]\n",
    "        #         # vdp = p - points[:, 3, :]\n",
    "        vab = points[:,:,  1, :] - points[ :,:, 0, :]\n",
    "        vac = points[:,:,  2, :] - points[ :,:, 0, :]\n",
    "        vad = points[:,:,  3, :] - points[ :,:, 0, :]\n",
    "        vbc = points[:,:,  2, :] - points[:, :, 1, :]\n",
    "        vbd = points[:,:,  3, :] - points[:, :, 1, :]\n",
    "        va = np.einsum('ikj, ikj->ik', vbp, np.cross(vbd, vbc, axisa=2, axisb=2)) / 6.\n",
    "        vb = np.einsum('ikj, ikj->ik', vap, np.cross(vac, vad, axisa=2, axisb=2)) / 6.\n",
    "        vc = np.einsum('ikj, ikj->ik', vap, np.cross(vad, vab, axisa=2, axisb=2)) / 6.\n",
    "        vd = np.einsum('ikj, ikj->ik', vap, np.cross(vab, vac, axisa=2, axisb=2)) / 6.\n",
    "        v = np.einsum('ikj, ikj->ik', vab, np.cross(vac, vad, axisa=2, axisb=2)) / 6.\n",
    "        \n",
    "        c = np.zeros((va.shape[0],va.shape[1],4))\n",
    "            #print(va.shape)\n",
    "        c[:,:,0] = va / v\n",
    "        c[:,:,1] = vb / v\n",
    "        c[:,:,2] = vc / v\n",
    "        c[:,:,3] = vd / v\n",
    "        \n",
    "        # if all coords are +ve then point is inside cell\n",
    "        mask = np.all(c > 0,axis=2)\n",
    "        return points[mask,:,:], c[mask]\n",
    "\n",
    "    def calc_bary_centre(self,points,position):\n",
    "\n",
    "        npts = len(e)\n",
    "        vap = position - points[:, 0, :]\n",
    "        vbp = position - points[:, 1, :]\n",
    "        # vcp = p - points[:, 2, :]\n",
    "        # vdp = p - points[:, 3, :]\n",
    "        vab = points[:, 1, :] - points[:, 0, :]\n",
    "        vac = points[:, 2, :] - points[:, 0, :]\n",
    "        vad = points[:, 3, :] - points[:, 0, :]\n",
    "        vbc = points[:, 2, :] - points[:, 1, :]\n",
    "        vbd = points[:, 3, :] - points[:, 1, :]\n",
    "        vbp * np.cross(vbd, vbc, axisa=1, axisb=1)\n",
    "        va = np.sum(vbp * np.cross(vbd, vbc, axisa=1, axisb=1), axis=1) / 6.\n",
    "        vb = np.sum(vap * np.cross(vac, vad, axisa=1, axisb=1), axis=1) / 6.\n",
    "        vc = np.sum(vap * np.cross(vad, vab, axisa=1, axisb=1), axis=1) / 6.\n",
    "        vd = np.sum(vap * np.cross(vab, vac, axisa=1, axisb=1), axis=1) / 6.\n",
    "        v = np.sum(vab * np.cross(vac, vad, axisa=1, axisb=1), axis=1) / 6.\n",
    "        c = np.zeros((4, npts))\n",
    "        c[0, :] = va / v\n",
    "        c[1, :] = vb / v\n",
    "        c[2, :] = vc / v\n",
    "        c[3, :] = vd / v\n",
    "        return c\n",
    "    \n",
    "    \n",
    "    def inside(self, pos):\n",
    "\n",
    "        # check whether point is inside box\n",
    "        inside = np.ones(pos.shape[0]).astype(bool)\n",
    "        for i in range(3):\n",
    "            inside *= pos[:, i] > self.origin[None, i]\n",
    "            inside *= pos[:, i] < self.origin[None, i] + \\\n",
    "                      self.step_vector[None, i] * self.nsteps_cells[None, i]\n",
    "        return inside    \n",
    "    def global_node_indicies(self,indexes):\n",
    "        indexes = np.array(indexes).swapaxes(0, 2)\n",
    "        return indexes[:, :, 0] + self.nsteps[None, None, 0] \\\n",
    "                * indexes[:, :,1] + self.nsteps[None, None, 0] * \\\n",
    "                self.nsteps[None, None, 1] * indexes[:, :, 2]\n",
    "    \n",
    "    def global_cell_indicies(self,indexes):\n",
    "        indexes = np.array(indexes).swapaxes(0, 2)\n",
    "        return indexes[:, :, 0] + self.nsteps_cells[None, None, 0] \\\n",
    "                * indexes[:, :,1] + self.nsteps_cells[None, None, 0] * \\\n",
    "                self.nsteps_cells[None, None, 1] * indexes[:, :, 2]\n",
    "    def cell_corner_indexes(self, x_cell_index, y_cell_index, z_cell_index):\n",
    "        \"\"\"\n",
    "        Returns the indexes of the corners of a cell given its location xi,\n",
    "        yi, zi\n",
    "\n",
    "        Parameters\n",
    "        ----------\n",
    "        x_cell_index\n",
    "        y_cell_index\n",
    "        z_cell_index\n",
    "\n",
    "        Returns\n",
    "        -------\n",
    "\n",
    "        \"\"\"\n",
    "        x_cell_index = np.array(x_cell_index)\n",
    "        y_cell_index = np.array(y_cell_index)\n",
    "        z_cell_index = np.array(z_cell_index)\n",
    "        \n",
    "        xcorner = np.array([0, 1, 0, 0, 1, 0, 1, 1])\n",
    "        ycorner = np.array([0, 0, 1, 0, 0, 1, 1, 1])\n",
    "        zcorner = np.array([0, 0, 0, 1, 1, 1, 0, 1])\n",
    "        xcorners = x_cell_index[:, None] + xcorner[None, :]\n",
    "        ycorners = y_cell_index[:, None] + ycorner[None, :]\n",
    "        zcorners = z_cell_index[:, None] + zcorner[None, :]\n",
    "        return xcorners, ycorners, zcorners\n",
    "    \n",
    "    def position_to_cell_corners(self,pos):\n",
    "        inside = self.inside(pos)\n",
    "        ix, iy, iz = self.position_to_cell_index(pos)\n",
    "        cornersx, cornersy, cornersz = self.cell_corner_indexes(ix, iy, iz)\n",
    "        globalidx = self.global_cell_indicies(\n",
    "            np.dstack([cornersx, cornersy, cornersz]).T)\n",
    "        return globalidx, inside\n",
    "    \n",
    "    def position_to_cell_index(self,pos):\n",
    "        ix = pos[:, 0] - self.origin[None, 0]\n",
    "        iy = pos[:, 1] - self.origin[None, 1]\n",
    "        iz = pos[:, 2] - self.origin[None, 2]\n",
    "        ix = ix // self.step_vector[None, 0]\n",
    "        iy = iy // self.step_vector[None, 1]\n",
    "        iz = iz // self.step_vector[None, 2]\n",
    "        return ix.astype(int), iy.astype(int), iz.astype(int)\n",
    "    \n",
    "    def node_indexes_to_position(self, xindex, yindex, zindex):\n",
    "\n",
    "        x = self.origin[0] + self.step_vector[0] * xindex\n",
    "        y = self.origin[1] + self.step_vector[1] * yindex\n",
    "        z = self.origin[2] + self.step_vector[2] * zindex\n",
    "\n",
    "        return np.array([x, y, z])\n",
    "    \n",
    "    def global_index_to_node_index(self, global_index):\n",
    "        \"\"\"\n",
    "        Convert from global indexes to xi,yi,zi\n",
    "\n",
    "        Parameters\n",
    "        ----------\n",
    "        global_index\n",
    "\n",
    "        Returns\n",
    "        -------\n",
    "\n",
    "        \"\"\"\n",
    "        # determine the ijk indices for the global index.\n",
    "        # remainder when dividing by nx = i\n",
    "        # remained when dividing modulus of nx by ny is j\n",
    "        print('this')\n",
    "        x_index = global_index % self.nsteps[0, None]\n",
    "        y_index = global_index // self.nsteps[0, None] % \\\n",
    "                  self.nsteps[1, None]\n",
    "        z_index = global_index // self.nsteps[0, None] // \\\n",
    "                  self.nsteps[1, None]\n",
    "        return x_index, y_index, z_index\n",
    "    \n",
    "    def global_index_to_cell_index(self, global_index):\n",
    "        \"\"\"\n",
    "        Convert from global indexes to xi,yi,zi\n",
    "\n",
    "        Parameters\n",
    "        ----------\n",
    "        global_index\n",
    "\n",
    "        Returns\n",
    "        -------\n",
    "\n",
    "        \"\"\"\n",
    "        # determine the ijk indices for the global index.\n",
    "        # remainder when dividing by nx = i\n",
    "        # remained when dividing modulus of nx by ny is j\n",
    "\n",
    "        x_index = global_index % self.nsteps_cells[0, None]\n",
    "        y_index = global_index // self.nsteps_cells[0, None] % \\\n",
    "                  self.nsteps_cells[1, None]\n",
    "        z_index = global_index // self.nsteps_cells[0, None] // \\\n",
    "                  self.nsteps_cells[1, None]\n",
    "        return x_index, y_index, z_index\n",
    "    def get_neighbour(self,tetra):\n",
    "        # find out which cell the tetra is in\n",
    "        cell = tetra // 5\n",
    "#         cell_x, cell_y, cell_z = self.global_index_to_node_index([cell])\n",
    "#         print(cell_x,cell_y,cell_z)\n",
    "#         local_index = tetra % 5\n",
    "#         if local_index = \n",
    "#         neighbours = np.zeros(4)\n",
    "    def faces(self):\n",
    "        # there are 5 tetra for every cube \n",
    "        ntetra = self.n_cells * 5\n",
    "        \n",
    "        faces = np.zeros((ntetra,3))\n",
    "        \n",
    "        cell_xi,cell_yi,cell_zi = self.global_index_to_node_index(np.arange(0,self.n_cells)) \n",
    "        corners_xi, corners_yi,corners_zi = self.cell_corner_indexes(cell_xi,cell_yi,cell_zi)\n",
    "        corners = np.dstack([corners_xi,corners_yi,corners_zi])\n",
    "#         corners = corners.reshape((corners.shape[0]*corners.shape[1],3))\n",
    "        corners = np.array(corners).swapaxes(0, 2)\n",
    "\n",
    "        global_index = self.global_indicies(corners)\n",
    "        tetras = global_index[:,self.tetra_mask]\n",
    "        \n",
    "        tetras = tetras.reshape((ntetra,4))\n",
    "#         for i in range(ntetra):\n",
    "            \n",
    "        #print(global_index.shape)\n",
    "#         print(corners.shape)\n",
    "#         print(ntetra)\n",
    "#         print(corners[:,self.tetra_mask,:].shape)\n",
    "        faces = np.zeros((ntetra*4,3)).astype(int)\n",
    "        face_tetra = np.zeros((ntetra*4,2)).astype(int)\n",
    "        fc = build_faces(tetras,faces,face_tetra)\n",
    "        return faces[0:fc,:], face_tetra[0:fc,:]\n",
    "    \n",
    "    def neighbours(self):\n",
    "        # for each cell\n",
    "        neighbours = np.zeros((self.ntetra,4)).astype(int)\n",
    "        neighbours[:] = -1\n",
    "        \n",
    "        for i in range(self.n_cells):\n",
    "            # get corners\n",
    "            cell_xi,cell_yi,cell_zi = self.global_index_to_cell_index([i]) \n",
    "            corners_xi, corners_yi,corners_zi = self.cell_corner_indexes(cell_xi,cell_yi,cell_zi)\n",
    "            corners = np.dstack([corners_xi,corners_yi,corners_zi])\n",
    "            corners = np.array(corners).swapaxes(0, 2)\n",
    "            global_index = self.global_node_indicies(corners)\n",
    "            if cell_xi % 2 == 0:\n",
    "                tetras = global_index[:,self.tetra_mask_even]\n",
    "            else:\n",
    "                tetras = global_index[:,self.tetra_mask]\n",
    "\n",
    "#             [0,4,5,3],\n",
    "#               [4,6,7,5],\n",
    "#               [0,1,6,4],\n",
    "#               [0,6,5,4],\n",
    "#               [0,6,5,2]]\n",
    "            for j in range(5):\n",
    "                # first tetra in mask is the centre one so its neighbours are the other ones\n",
    "                if j == 0:\n",
    "                    neighbours[i*5+j,:] = i*5+np.arange(1,5)\n",
    "                    continue\n",
    "                # add he centre cell to all others\n",
    "                neighbours[i*5+j,0] = i*5\n",
    "                if j == 1:\n",
    "                    pass\n",
    "                if j == 2:\n",
    "                    pass\n",
    "                if j == 3:\n",
    "                    pass\n",
    "                if j == 4:\n",
    "                    pass\n",
    "        return neighbours\n",
    "\n",
    "    def tetra(self,i):\n",
    "        ic = i // 5\n",
    "        it = i % 5\n",
    "        cell_xi,cell_yi,cell_zi = self.global_index_to_cell_index([ic]) \n",
    "        corners_xi, corners_yi,corners_zi = self.cell_corner_indexes(cell_xi,cell_yi,cell_zi)\n",
    "        corners = np.dstack([corners_xi,corners_yi,corners_zi])\n",
    "        tetra  = corners[:,self.tetra_mask[it],:]\n",
    "        print(tetra)\n",
    "        print(corners.shape)\n",
    "        print(ic,it)\n",
    "#             print(global_index)\n",
    "#             ntetra = self.n_cells * 5\n",
    "        \n",
    "       \n",
    "#         cell_xi,cell_yi,cell_zi = self.global_index_to_cell_index(np.arange(0,self.n_cells)) \n",
    "#         corners_xi, corners_yi,corners_zi = self.cell_corner_indexes(cell_xi,cell_yi,cell_zi)\n",
    "#         corners = np.dstack([corners_xi,corners_yi,corners_zi])\n",
    "# #         corners = corners.reshape((corners.shape[0]*corners.shape[1],3))\n",
    "#         corners = np.array(corners).swapaxes(0, 2)\n",
    "\n",
    "#         global_index = self.global_node_indicies(corners)\n",
    "#         print(global_index.shape)\n",
    "#         print(np.unique(global_index).shape)\n",
    "#         tetras = global_index[:,self.tetra_mask]\n",
    "        \n",
    "#         tetras = tetras.reshape((ntetra,4))\n",
    "# #         for i in range(ntetra):\n",
    "#         neighbours = np.zeros((ntetra,4)).astype(int)\n",
    "#         neighbours[:,:] = -1\n",
    "#         #print(global_index.shape)\n",
    "# #         print(corners.shape)\n",
    "# #         print(ntetra)\n",
    "# #         print(corners[:,self.tetra_mask,:].shape)\n",
    "#         #build_neighbours(tetras,neighbours)\n",
    "#         for i in range(tetra.shape[0]):\n",
    "#             nn = 0\n",
    "#             for j in range(tetra.shape[0]):\n",
    "#                 print(i,j)\n",
    "#                 if j == i:\n",
    "#                     continue\n",
    "#                 n = 0\n",
    "#                 print(tetra[i,:],tetra[j,:])\n",
    "#                 for k in range(4):\n",
    "#                     for l in range(4):\n",
    "#                         if tetra[i,k] == tetra[j,l]:\n",
    "#                             n+=1\n",
    "#                 print(n)\n",
    "#                 if n==3:\n",
    "#                     neighbours[i,nn] = j\n",
    "#             #                 print('n==3',i,nn,j)\n",
    "#                     nn+=1\n",
    "#                 if nn == 4:\n",
    "#             #                 print('nn==3',i,j,n,nn)\n",
    "#                     break\n",
    "#                 if n == 2:\n",
    "#                     continue\n",
    "#         return neighbours\n"
   ]
  },
  {
   "cell_type": "code",
   "execution_count": 5,
   "metadata": {
    "ExecuteTime": {
     "end_time": "2020-01-22T21:30:22.348707Z",
     "start_time": "2020-01-22T21:30:22.338718Z"
    },
    "scrolled": false
   },
   "outputs": [
    {
     "name": "stdout",
     "output_type": "stream",
     "text": [
      "[0.05 0.05 0.05]\n"
     ]
    }
   ],
   "source": [
    "import time\n",
    "# nn = []\n",
    "# elapsed = []\n",
    "# for n in range(10,30,5):\n",
    "n = 20\n",
    "step = np.ones(3)\n",
    "step/=n\n",
    "mesh = TetMesh([0,0,0],[n,n,n],step)\n",
    "print(mesh.step_vector)\n",
    "c = mesh.get_tetra([\n",
    "#     [.125,.125,.9],\n",
    "#                         [.9, .9, .9],\n",
    "#                         [.9, .9, .125],\n",
    "                        [.51, .51, .79],\n",
    "#                         [.125, .9, .125],\n",
    "#                         [.125, .9, .125]\n",
    "                       ])\n",
    "# mesh.neighbours()"
   ]
  },
  {
   "cell_type": "code",
   "execution_count": 13,
   "metadata": {
    "ExecuteTime": {
     "end_time": "2020-01-22T21:42:30.221647Z",
     "start_time": "2020-01-22T21:42:30.216082Z"
    }
   },
   "outputs": [
    {
     "data": {
      "text/plain": [
       "34295"
      ]
     },
     "execution_count": 13,
     "metadata": {},
     "output_type": "execute_result"
    }
   ],
   "source": [
    "mesh.ntetra"
   ]
  },
  {
   "cell_type": "code",
   "execution_count": 6,
   "metadata": {
    "ExecuteTime": {
     "end_time": "2020-01-22T21:30:22.953967Z",
     "start_time": "2020-01-22T21:30:22.945147Z"
    },
    "scrolled": false
   },
   "outputs": [],
   "source": [
    "points = np.random.random((1000,3))\n",
    "c = mesh.get_tetra(points)"
   ]
  },
  {
   "cell_type": "code",
   "execution_count": 7,
   "metadata": {
    "ExecuteTime": {
     "end_time": "2020-01-22T21:30:23.409994Z",
     "start_time": "2020-01-22T21:30:23.383460Z"
    }
   },
   "outputs": [],
   "source": [
    "# for each cell\n",
    "neighbours = np.zeros((mesh.ntetra,4)).astype(int)\n",
    "neighbours[:] = -1\n",
    "cell_gi = np.arange(0,mesh.n_cells)\n",
    "cell_xi, cell_yi, cell_zi =  mesh.global_index_to_cell_index(cell_gi) \n",
    "corners_xi, corners_yi,corners_zi = mesh.cell_corner_indexes(cell_xi,cell_yi,cell_zi)\n",
    "corners = np.dstack([corners_xi,corners_yi,corners_zi])\n",
    "corners = np.array(corners).swapaxes(0, 2)\n",
    "global_index = mesh.global_node_indicies(corners)\n",
    "\n",
    "tetras = np.zeros((mesh.n_cells,5,4,)).astype(int)\n",
    "mask = (cell_xi + cell_yi + cell_zi) % 2 == 0\n",
    "tetras[mask,:,:] = global_index[mask,:][:,mesh.tetra_mask_even]\n",
    "tetras[~mask,:,:] = global_index[~mask,:][:,mesh.tetra_mask]\n",
    "\n",
    "tetras = tetras.reshape(mesh.n_cells*5,4)"
   ]
  },
  {
   "cell_type": "code",
   "execution_count": 9,
   "metadata": {
    "ExecuteTime": {
     "end_time": "2020-01-22T21:30:49.751702Z",
     "start_time": "2020-01-22T21:30:34.281188Z"
    },
    "scrolled": false
   },
   "outputs": [],
   "source": [
    "neighbours2 = np.zeros((tetras.shape[0],4)).astype(int)\n",
    "neighbours2[:] = -1\n",
    "xi,yi,zi = mesh.global_index_to_cell_index(np.arange(0,mesh.n_cells))\n",
    "indexes = np.vstack([xi,yi,zi])\n",
    "neighbour_mask = np.array([[-1,1,0,0,0,0],\n",
    "                           [0, 0,-1, 1,0, 0],\n",
    "                           [0,0,0,0,-1,1]])\n",
    "\n",
    "neighbours = indexes[:, None, :] + neighbour_mask[:, :, None]\n",
    "# for i in range(xi.shape[0]):\n",
    "    \n",
    "#     print(xi[i])\n",
    "neighbours = neighbours.T\n",
    "for i in range(neighbours.shape[0]):\n",
    "    cells = neighbours[i,:]#np.vstack([neighbours[i,:],[xi[i],yi[i],zi[i]]])\n",
    "    mask = ~np.any(cells < 0,axis=1)\n",
    "    mask = np.logical_and(mask,cells[:,0]<mesh.n_cell_x)\n",
    "    mask = np.logical_and(mask,cells[:,1]<mesh.n_cell_y)\n",
    "    mask = np.logical_and(mask,cells[:,2]<mesh.n_cell_z)\n",
    "#     continue\n",
    "    # get the possible neighbour tetras\n",
    "    corners_xi, corners_yi,corners_zi = mesh.cell_corner_indexes(\n",
    "        cells[mask,0],cells[mask,1],cells[mask,2])\n",
    "    corners = np.dstack([corners_xi,corners_yi,corners_zi])\n",
    "    corners = np.array(corners).swapaxes(0, 2)\n",
    "    \n",
    "    global_index = mesh.global_node_indicies(corners)\n",
    "    tetras = np.zeros((global_index.shape[0],5,4,)).astype(int)\n",
    "    mask2 = (cells[mask,0] + cells[mask,1] + cells[mask,2]) % 2 == 0\n",
    "    tetras[mask2,:,:] = global_index[mask2,:][:,mesh.tetra_mask_even]\n",
    "    tetras[~mask2,:,:] = global_index[~mask2,:][:,mesh.tetra_mask]\n",
    "    \n",
    "    \n",
    "    corners_xi, corners_yi,corners_zi = mesh.cell_corner_indexes(\n",
    "        [xi[i]],[yi[i]],[zi[i]])\n",
    "    corners = np.dstack([corners_xi,corners_yi,corners_zi])\n",
    "    corners = np.array(corners).swapaxes(0, 2)\n",
    "    \n",
    "    global_index = mesh.global_node_indicies(corners)\n",
    "    tetra = np.zeros((5,4,)).astype(int)\n",
    "    mask2 = (xi[i] + yi[i] + zi[i]) % 2 == 0\n",
    "    if mask2:\n",
    "        tetra[:,:] = global_index[:,mesh.tetra_mask_even]\n",
    "    else:\n",
    "        tetra[:,:] = global_index[:,mesh.tetra_mask]\n",
    "#     print(mask2)\n",
    "#     tetra[mask2,:,:] = global_index[mask2,:][:,mesh.tetra_mask_even]\n",
    "#     tetra[~mask2,:,:] = global_index[~mask2,:][:,mesh.tetra_mask]\n",
    "    n = 0\n",
    "    # loop over all tetra inside the voxet\n",
    "    for ii in range(5):\n",
    "        t = tetra[ii,:]\n",
    "        nn = 0\n",
    "        # check for neighbours first in the voxet this tetra comes from\n",
    "        for j in range(5):           \n",
    "            neighbour = tetra[j,:]\n",
    "            if np.sum(t - neighbour)==0:\n",
    "                continue\n",
    "            n = 0\n",
    "            for k in range(4):\n",
    "                for l in range(4):\n",
    "                    if t[k] == neighbour[l]:\n",
    "                        n+=1\n",
    "            if n == 3:\n",
    "                neighbours2[i*5+ii,nn] = i*5+j\n",
    "                nn+=1\n",
    "        # and then in the neighbouring cells that share a face\n",
    "        for nc in range(tetras.shape[0]):\n",
    "            for nt in range(tetras.shape[1]):\n",
    "                n = 0\n",
    "                neighbour = tetras[nc,nt,:]\n",
    "                if np.sum(t - neighbour)==0:\n",
    "                    continue\n",
    "                for k in range(4):\n",
    "                    for l in range(4):\n",
    "                        if t[k] == neighbour[l]:\n",
    "                            n+=1\n",
    "                if n == 3:\n",
    "                    ci = cells[nc][0]+cells[nc,1]*mesh.n_cell_x+cells[nc,2]*mesh.n_cell_x*mesh.n_cell_z\n",
    "                    neighbours2[i*5+ii,nn] = ci*5+nt\n",
    "                    nn+=1"
   ]
  },
  {
   "cell_type": "code",
   "execution_count": 12,
   "metadata": {
    "ExecuteTime": {
     "end_time": "2020-01-22T21:32:27.251459Z",
     "start_time": "2020-01-22T21:32:27.047711Z"
    }
   },
   "outputs": [
    {
     "name": "stdout",
     "output_type": "stream",
     "text": [
      "[[    1     2     3     4]\n",
      " [    0    -1     8    -1]\n",
      " [    0    -1    -1    -1]\n",
      " ...\n",
      " [34290 34288 34299 34196]\n",
      " [34290 34287    -1    -1]\n",
      " [34290 34297    -1    -1]]\n"
     ]
    },
    {
     "data": {
      "text/plain": [
       "(array([4.0000e+00, 0.0000e+00, 0.0000e+00, 2.1700e+02, 0.0000e+00,\n",
       "        0.0000e+00, 3.8880e+03, 0.0000e+00, 0.0000e+00, 3.0186e+04]),\n",
       " array([1. , 1.3, 1.6, 1.9, 2.2, 2.5, 2.8, 3.1, 3.4, 3.7, 4. ]),\n",
       " <a list of 10 Patch objects>)"
      ]
     },
     "execution_count": 12,
     "metadata": {},
     "output_type": "execute_result"
    },
    {
     "data": {
      "image/png": "[encoded data removed]",
      "text/plain": [
       "<Figure size 432x288 with 1 Axes>"
      ]
     },
     "metadata": {
      "needs_background": "light"
     },
     "output_type": "display_data"
    }
   ],
   "source": [
    "print(neighbours2)\n",
    "\n",
    "plt.hist(np.sum(neighbours2!=-1,axis=1))"
   ]
  },
  {
   "cell_type": "code",
   "execution_count": 6,
   "metadata": {
    "ExecuteTime": {
     "end_time": "2020-01-14T02:00:49.161555Z",
     "start_time": "2020-01-14T02:00:49.142450Z"
    }
   },
   "outputs": [
    {
     "data": {
      "text/plain": [
       "5"
      ]
     },
     "execution_count": 6,
     "metadata": {},
     "output_type": "execute_result"
    }
   ],
   "source": [
    "    \n",
    "for i in range(self.n_cells):\n",
    "    # get corners\n",
    "    cell_xi,cell_yi,cell_zi = self.global_index_to_cell_index([i]) \n",
    "    \n",
    "    if cell_xi % 2 == 0:\n",
    "        tetras = global_index[:,self.tetra_mask_even]\n",
    "    else:\n",
    "        tetras = global_index[:,self.tetra_mask]\n",
    "\n",
    "#             [0,4,5,3],\n",
    "#               [4,6,7,5],\n",
    "#               [0,1,6,4],\n",
    "#               [0,6,5,4],\n",
    "#               [0,6,5,2]]\n",
    "    for j in range(5):\n",
    "        # first tetra in mask is the centre one so its neighbours are the other ones\n",
    "        if j == 0:\n",
    "            neighbours[i*5+j,:] = i*5+np.arange(1,5)\n",
    "            continue\n",
    "        # add he centre cell to all others\n",
    "        neighbours[i*5+j,0] = i*5\n",
    "        if j == 1:\n",
    "            pass\n",
    "        if j == 2:\n",
    "            pass\n",
    "        if j == 3:\n",
    "            pass\n",
    "        if j == 4:\n",
    "            pass\n",
    "return neighbours"
   ]
  },
  {
   "cell_type": "code",
   "execution_count": 7,
   "metadata": {
    "ExecuteTime": {
     "end_time": "2020-01-14T02:00:49.179005Z",
     "start_time": "2020-01-14T02:00:49.163145Z"
    }
   },
   "outputs": [
    {
     "ename": "NameError",
     "evalue": "name 'c' is not defined",
     "output_type": "error",
     "traceback": [
      "\u001b[0;31m---------------------------------------------------------------------------\u001b[0m",
      "\u001b[0;31mNameError\u001b[0m                                 Traceback (most recent call last)",
      "\u001b[0;32m<ipython-input-7-2b66fd261ee5>\u001b[0m in \u001b[0;36m<module>\u001b[0;34m\u001b[0m\n\u001b[0;32m----> 1\u001b[0;31m \u001b[0mc\u001b[0m\u001b[0;34m\u001b[0m\u001b[0;34m\u001b[0m\u001b[0m\n\u001b[0m",
      "\u001b[0;31mNameError\u001b[0m: name 'c' is not defined"
     ]
    }
   ],
   "source": [
    "c"
   ]
  },
  {
   "cell_type": "code",
   "execution_count": null,
   "metadata": {
    "ExecuteTime": {
     "end_time": "2020-01-14T02:00:49.183483Z",
     "start_time": "2020-01-14T01:59:32.460Z"
    }
   },
   "outputs": [],
   "source": [
    "points = np.random.random((1000000,3))"
   ]
  },
  {
   "cell_type": "code",
   "execution_count": null,
   "metadata": {
    "ExecuteTime": {
     "end_time": "2020-01-14T02:00:49.184448Z",
     "start_time": "2020-01-14T01:59:32.461Z"
    }
   },
   "outputs": [],
   "source": [
    "#%%snakeviz\n",
    "c = mesh.get_tetra(points)"
   ]
  },
  {
   "cell_type": "code",
   "execution_count": null,
   "metadata": {
    "ExecuteTime": {
     "end_time": "2020-01-14T02:00:49.185857Z",
     "start_time": "2020-01-14T01:59:32.463Z"
    }
   },
   "outputs": [],
   "source": [
    "print(c[1][100])"
   ]
  },
  {
   "cell_type": "code",
   "execution_count": null,
   "metadata": {
    "ExecuteTime": {
     "end_time": "2020-01-14T02:00:49.187042Z",
     "start_time": "2020-01-14T01:59:32.464Z"
    }
   },
   "outputs": [],
   "source": [
    "from LoopStructural.supports import TetMesh"
   ]
  },
  {
   "cell_type": "code",
   "execution_count": null,
   "metadata": {
    "ExecuteTime": {
     "end_time": "2020-01-14T02:00:49.188264Z",
     "start_time": "2020-01-14T01:59:32.465Z"
    }
   },
   "outputs": [],
   "source": [
    "boundary_points = np.array([[0,0,0],[1,1,1]])\n",
    "tmesh = TetMesh()\n",
    "tmesh.setup_mesh(boundary_points,n_tetra = 200000)"
   ]
  },
  {
   "cell_type": "code",
   "execution_count": null,
   "metadata": {
    "ExecuteTime": {
     "end_time": "2020-01-14T02:00:49.189447Z",
     "start_time": "2020-01-14T01:59:32.466Z"
    }
   },
   "outputs": [],
   "source": [
    "tmesh.elements_for_array(points)"
   ]
  },
  {
   "cell_type": "code",
   "execution_count": 92,
   "metadata": {
    "ExecuteTime": {
     "end_time": "2020-01-15T03:22:45.994325Z",
     "start_time": "2020-01-15T03:22:45.977211Z"
    }
   },
   "outputs": [],
   "source": [
    "corners = np.array([[0, 1, 0, 0, 1, 0, 1, 1],\n",
    "                    [0, 0, 1, 0, 0, 1, 1, 1],\n",
    "                    [0, 0, 0, 1, 1, 1, 0, 1]])\n",
    "ni = 3\n",
    "nj = 3\n",
    "nk = 3\n",
    "def gi(i,j,k):\n",
    "    return i+j*(ni+i)+k*(ni+1)*(nj+1)\n",
    "i = np.arange(0,ni).astype(int)\n",
    "j = np.arange(0,nj).astype(int)\n",
    "k = np.arange(0,nk).astype(int)\n",
    "ii,jj, kk = np.meshgrid(i,j,k,indexing='ij')\n",
    "iii = ii[:,:,:,None]+corners[None,None,None,0,:]\n",
    "jjj = jj[:,:,:,None]+corners[None,None,None,1,:]\n",
    "kkk = kk[:,:,:,None]+corners[None,None,None,2,:]\n",
    "corner_gi = gi(iii,jjj,kkk)\n",
    "corner_gi_flat = gi(iii,jjj,kkk)\n",
    "corner_gi = corner_gi.reshape(ni*nj*nk,8)\n",
    "\n",
    "\n",
    "tetra = np.vstack([corner_gi[:,[4,6,7,5]],\n",
    "                    corner_gi[:,[0,1,6,4]],\n",
    "                    corner_gi[:,[0,6,5,4]],\n",
    "                    corner_gi[:,[0,6,5,2]],\n",
    "                    corner_gi[:,[0,4,5,3]],\n",
    "                    ])"
   ]
  },
  {
   "cell_type": "code",
   "execution_count": 112,
   "metadata": {
    "ExecuteTime": {
     "end_time": "2020-01-15T04:05:45.562952Z",
     "start_time": "2020-01-15T04:05:45.558012Z"
    }
   },
   "outputs": [],
   "source": [
    "neighbours = np.zeros((tetra.shape[0],5)).astype(int)\n",
    "neighbours[:] = -1"
   ]
  },
  {
   "cell_type": "code",
   "execution_count": 113,
   "metadata": {
    "ExecuteTime": {
     "end_time": "2020-01-15T04:05:48.022907Z",
     "start_time": "2020-01-15T04:05:48.015483Z"
    }
   },
   "outputs": [],
   "source": [
    "build_neighbours(tetra,neighbours)"
   ]
  },
  {
   "cell_type": "code",
   "execution_count": 116,
   "metadata": {
    "ExecuteTime": {
     "end_time": "2020-01-15T04:06:59.202400Z",
     "start_time": "2020-01-15T04:06:59.194064Z"
    }
   },
   "outputs": [
    {
     "data": {
      "text/plain": [
       "0"
      ]
     },
     "execution_count": 116,
     "metadata": {},
     "output_type": "execute_result"
    }
   ],
   "source": [
    "60%5"
   ]
  },
  {
   "cell_type": "code",
   "execution_count": 114,
   "metadata": {
    "ExecuteTime": {
     "end_time": "2020-01-15T04:06:00.014454Z",
     "start_time": "2020-01-15T04:05:59.999164Z"
    },
    "scrolled": false
   },
   "outputs": [
    {
     "name": "stdout",
     "output_type": "stream",
     "text": [
      "[[ 54  -1  -1  -1   0]\n",
      " [ 24  55  -1  -1   1]\n",
      " [ 25  56  -1  -1   2]\n",
      " [ 57 114  -1  -1   3]\n",
      " [ 58 115  -1  -1   4]\n",
      " [ 59 116  -1  -1   5]\n",
      " [ 33  34  87  88   6]\n",
      " [ 34  35  88  89   7]\n",
      " [ 35  89 125  -1   8]\n",
      " [ 63  -1  -1  -1   9]\n",
      " [ 64  -1  -1  -1  10]\n",
      " [ 65  -1  -1  -1  11]\n",
      " [ 66 129  -1  -1  12]\n",
      " [ 67 130  -1  -1  13]\n",
      " [ 68 131  -1  -1  14]\n",
      " [ 69  -1  -1  -1  15]\n",
      " [ 70  -1  -1  -1  16]\n",
      " [ 71  -1  -1  -1  17]\n",
      " [ 72  -1  -1  -1  18]\n",
      " [ 73  -1  -1  -1  19]\n",
      " [ 74  -1  -1  -1  20]\n",
      " [ 75  -1  -1  -1  21]\n",
      " [ 76  -1  -1  -1  22]\n",
      " [ 77  -1  -1  -1  23]\n",
      " [  1  78  -1  -1  24]\n",
      " [  2  79  -1  -1  25]\n",
      " [ 80  -1  -1  -1  26]\n",
      " [ 54  -1  -1  -1  27]\n",
      " [ 55 105  -1  -1  28]\n",
      " [ 56 106  -1  -1  29]\n",
      " [ 57  -1  -1  -1  30]\n",
      " [ 58  -1  -1  -1  31]\n",
      " [ 59  -1  -1  -1  32]\n",
      " [  6 114  -1  -1  33]\n",
      " [  6   7 114 115  34]\n",
      " [  7   8 115 116  35]\n",
      " [ 63  -1  -1  -1  36]\n",
      " [ 64  -1  -1  -1  37]\n",
      " [ 65  -1  -1  -1  38]\n",
      " [ 66  -1  -1  -1  39]\n",
      " [ 67  -1  -1  -1  40]\n",
      " [ 68  -1  -1  -1  41]\n",
      " [ 69  -1  -1  -1  42]\n",
      " [ 70  -1  -1  -1  43]\n",
      " [ 71  -1  -1  -1  44]\n",
      " [ 72  -1  -1  -1  45]\n",
      " [ 73  -1  -1  -1  46]\n",
      " [ 74  -1  -1  -1  47]\n",
      " [ 75  -1  -1  -1  48]\n",
      " [ 76  -1  -1  -1  49]\n",
      " [ 77  -1  -1  -1  50]\n",
      " [ 78  -1  -1  -1  51]\n",
      " [ 79  -1  -1  -1  52]\n",
      " [ 80  -1  -1  -1  53]\n",
      " [  0  27  81 108  54]\n",
      " [  1  28  82 109  55]\n",
      " [  2  29  83 110  56]\n",
      " [  3  30  84 111  57]\n",
      " [  4  31  85 112  58]\n",
      " [  5  32  86 113  59]\n",
      " [ -1  -1  -1  -1  60]\n",
      " [ -1  -1  -1  -1  61]\n",
      " [ -1  -1  -1  -1  62]\n",
      " [  9  36  90 117  63]\n",
      " [ 10  37  91 118  64]\n",
      " [ 11  38  92 119  65]\n",
      " [ 12  39  93 120  66]\n",
      " [ 13  40  94 121  67]\n",
      " [ 14  41  95 122  68]\n",
      " [ 15  42  96 123  69]\n",
      " [ 16  43  97 124  70]\n",
      " [ 17  44  98 125  71]\n",
      " [ 18  45  99 126  72]\n",
      " [ 19  46 100 127  73]\n",
      " [ 20  47 101 128  74]\n",
      " [ 21  48 102 129  75]\n",
      " [ 22  49 103 130  76]\n",
      " [ 23  50 104 131  77]\n",
      " [ 24  51 105 132  78]\n",
      " [ 25  52 106 133  79]\n",
      " [ 26  53 107 134  80]\n",
      " [ 54  -1  -1  -1  81]\n",
      " [ 55  -1  -1  -1  82]\n",
      " [ 56  -1  -1  -1  83]\n",
      " [ 57  -1  -1  -1  84]\n",
      " [ 58 114  -1  -1  85]\n",
      " [ 59 115  -1  -1  86]\n",
      " [  6 114  -1  -1  87]\n",
      " [  6   7 114 115  88]\n",
      " [  7   8 115 116  89]\n",
      " [ 63  -1  -1  -1  90]\n",
      " [ 64  -1  -1  -1  91]\n",
      " [ 65  -1  -1  -1  92]\n",
      " [ 66  -1  -1  -1  93]\n",
      " [ 67  -1  -1  -1  94]\n",
      " [ 68  -1  -1  -1  95]\n",
      " [ 69  -1  -1  -1  96]\n",
      " [  6  70  -1  -1  97]\n",
      " [  7  71  -1  -1  98]\n",
      " [ 72  -1  -1  -1  99]\n",
      " [ 73  -1  -1  -1 100]\n",
      " [ 74  -1  -1  -1 101]\n",
      " [ 75  -1  -1  -1 102]\n",
      " [ 76  -1  -1  -1 103]\n",
      " [ 77  -1  -1  -1 104]\n",
      " [ 28  78  -1  -1 105]\n",
      " [ 29  79  -1  -1 106]\n",
      " [ 80  -1  -1  -1 107]\n",
      " [ 54  -1  -1  -1 108]\n",
      " [ 55  -1  -1  -1 109]\n",
      " [ 56  -1  -1  -1 110]\n",
      " [ 57  -1  -1  -1 111]\n",
      " [ 58  -1  -1  -1 112]\n",
      " [ 59  -1  -1  -1 113]\n",
      " [  3  33  34  85 114]\n",
      " [  4  34  35  86 115]\n",
      " [  5  35  89  -1 116]\n",
      " [ 63  -1  -1  -1 117]\n",
      " [ 64  -1  -1  -1 118]\n",
      " [ 65  -1  -1  -1 119]\n",
      " [ 66  -1  -1  -1 120]\n",
      " [ 67  -1  -1  -1 121]\n",
      " [ 68  -1  -1  -1 122]\n",
      " [  6  69  -1  -1 123]\n",
      " [  7  70  -1  -1 124]\n",
      " [  8  71  -1  -1 125]\n",
      " [ 72  -1  -1  -1 126]\n",
      " [ 73  -1  -1  -1 127]\n",
      " [ 74  -1  -1  -1 128]\n",
      " [ 12  75  -1  -1 129]\n",
      " [ 13  76  -1  -1 130]\n",
      " [ 14  77  -1  -1 131]\n",
      " [ 78  -1  -1  -1 132]\n",
      " [ 79  -1  -1  -1 133]\n",
      " [ 80  -1  -1  -1 134]]\n"
     ]
    }
   ],
   "source": [
    "neighbours[:,4] = np.arange(0,tetra.shape[0])\n",
    "print(neighbours)"
   ]
  },
  {
   "cell_type": "code",
   "execution_count": 1,
   "metadata": {
    "ExecuteTime": {
     "end_time": "2020-01-22T22:11:47.768568Z",
     "start_time": "2020-01-22T22:11:47.764551Z"
    }
   },
   "outputs": [],
   "source": [
    "from LoopStructural.supports.structured_tetra import TetMesh"
   ]
  },
  {
   "cell_type": "code",
   "execution_count": 4,
   "metadata": {
    "ExecuteTime": {
     "end_time": "2020-01-22T22:13:06.987128Z",
     "start_time": "2020-01-22T22:13:06.980151Z"
    }
   },
   "outputs": [],
   "source": [
    "origin = np.zeros(3)\n",
    "steps = np.ones(3)\n",
    "step_vector = np.zeros(3)\n",
    "steps[:] = 10\n",
    "step_vector /= 10\n",
    "mesh = TetMesh(origin,steps,step_vector)"
   ]
  },
  {
   "cell_type": "code",
   "execution_count": 6,
   "metadata": {
    "ExecuteTime": {
     "end_time": "2020-01-22T22:16:13.062520Z",
     "start_time": "2020-01-22T22:16:13.028664Z"
    }
   },
   "outputs": [],
   "source": [
    "from LoopStructural.interpolators.piecewiselinear_interpolator import PiecewiseLinearInterpolator as PLI\n",
    "# from LoopStructural.supports.tet_mesh import TetMesh\n",
    "from LoopStructural.modelling.features.geological_feature_builder import GeologicalFeatureInterpolator\n",
    "from LoopStructural.visualisation.model_visualisation import LavaVuModelViewer"
   ]
  },
  {
   "cell_type": "code",
   "execution_count": 7,
   "metadata": {
    "ExecuteTime": {
     "end_time": "2020-01-22T22:16:23.989011Z",
     "start_time": "2020-01-22T22:16:23.978733Z"
    }
   },
   "outputs": [],
   "source": [
    "import numpy as np\n",
    "import lavavu\n",
    "import matplotlib.pyplot as plt\n",
    "import pandas as pd\n",
    "import glob\n",
    "%matplotlib inline"
   ]
  },
  {
   "cell_type": "code",
   "execution_count": 10,
   "metadata": {
    "ExecuteTime": {
     "end_time": "2020-01-22T22:17:59.788317Z",
     "start_time": "2020-01-22T22:17:59.767898Z"
    }
   },
   "outputs": [
    {
     "ename": "AttributeError",
     "evalue": "'TetMesh' object has no attribute 'n_nodes'",
     "output_type": "error",
     "traceback": [
      "\u001b[0;31m---------------------------------------------------------------------------\u001b[0m",
      "\u001b[0;31mAttributeError\u001b[0m                            Traceback (most recent call last)",
      "\u001b[0;32m<ipython-input-10-3e3a3d42dbe9>\u001b[0m in \u001b[0;36m<module>\u001b[0;34m\u001b[0m\n\u001b[1;32m     13\u001b[0m \u001b[0;34m\u001b[0m\u001b[0m\n\u001b[1;32m     14\u001b[0m \u001b[0;31m# link mesh to the interpolator\u001b[0m\u001b[0;34m\u001b[0m\u001b[0;34m\u001b[0m\u001b[0;34m\u001b[0m\u001b[0m\n\u001b[0;32m---> 15\u001b[0;31m \u001b[0minterpolator\u001b[0m \u001b[0;34m=\u001b[0m \u001b[0mPLI\u001b[0m\u001b[0;34m(\u001b[0m\u001b[0mmesh\u001b[0m\u001b[0;34m)\u001b[0m\u001b[0;34m\u001b[0m\u001b[0;34m\u001b[0m\u001b[0m\n\u001b[0m",
      "\u001b[0;32m~/python_venv/LoopStructural/lib/python3.6/site-packages/LoopStructural-0.0.0-py3.6-linux-x86_64.egg/LoopStructural/interpolators/piecewiselinear_interpolator.py\u001b[0m in \u001b[0;36m__init__\u001b[0;34m(self, mesh)\u001b[0m\n\u001b[1;32m     25\u001b[0m \u001b[0;34m\u001b[0m\u001b[0m\n\u001b[1;32m     26\u001b[0m         \u001b[0mself\u001b[0m\u001b[0;34m.\u001b[0m\u001b[0mshape\u001b[0m \u001b[0;34m=\u001b[0m \u001b[0;34m'rectangular'\u001b[0m\u001b[0;34m\u001b[0m\u001b[0;34m\u001b[0m\u001b[0m\n\u001b[0;32m---> 27\u001b[0;31m         \u001b[0mDiscreteInterpolator\u001b[0m\u001b[0;34m.\u001b[0m\u001b[0m__init__\u001b[0m\u001b[0;34m(\u001b[0m\u001b[0mself\u001b[0m\u001b[0;34m,\u001b[0m \u001b[0mmesh\u001b[0m\u001b[0;34m)\u001b[0m\u001b[0;34m\u001b[0m\u001b[0;34m\u001b[0m\u001b[0m\n\u001b[0m\u001b[1;32m     28\u001b[0m         \u001b[0;31m# whether to assemble a rectangular matrix or a square matrix\u001b[0m\u001b[0;34m\u001b[0m\u001b[0;34m\u001b[0m\u001b[0;34m\u001b[0m\u001b[0m\n\u001b[1;32m     29\u001b[0m         \u001b[0mself\u001b[0m\u001b[0;34m.\u001b[0m\u001b[0minterpolator_type\u001b[0m \u001b[0;34m=\u001b[0m \u001b[0;34m'PLI'\u001b[0m\u001b[0;34m\u001b[0m\u001b[0;34m\u001b[0m\u001b[0m\n",
      "\u001b[0;32m~/python_venv/LoopStructural/lib/python3.6/site-packages/LoopStructural-0.0.0-py3.6-linux-x86_64.egg/LoopStructural/interpolators/discete_interpolator.py\u001b[0m in \u001b[0;36m__init__\u001b[0;34m(self, support)\u001b[0m\n\u001b[1;32m     29\u001b[0m         \u001b[0mself\u001b[0m\u001b[0;34m.\u001b[0m\u001b[0msupport\u001b[0m \u001b[0;34m=\u001b[0m \u001b[0msupport\u001b[0m\u001b[0;34m\u001b[0m\u001b[0;34m\u001b[0m\u001b[0m\n\u001b[1;32m     30\u001b[0m         \u001b[0mself\u001b[0m\u001b[0;34m.\u001b[0m\u001b[0mregion_function\u001b[0m \u001b[0;34m=\u001b[0m \u001b[0;32mNone\u001b[0m\u001b[0;34m\u001b[0m\u001b[0;34m\u001b[0m\u001b[0m\n\u001b[0;32m---> 31\u001b[0;31m         \u001b[0mself\u001b[0m\u001b[0;34m.\u001b[0m\u001b[0mregion\u001b[0m \u001b[0;34m=\u001b[0m \u001b[0mnp\u001b[0m\u001b[0;34m.\u001b[0m\u001b[0marange\u001b[0m\u001b[0;34m(\u001b[0m\u001b[0;36m0\u001b[0m\u001b[0;34m,\u001b[0m \u001b[0msupport\u001b[0m\u001b[0;34m.\u001b[0m\u001b[0mn_nodes\u001b[0m\u001b[0;34m)\u001b[0m\u001b[0;34m\u001b[0m\u001b[0;34m\u001b[0m\u001b[0m\n\u001b[0m\u001b[1;32m     32\u001b[0m         \u001b[0mself\u001b[0m\u001b[0;34m.\u001b[0m\u001b[0mregion_map\u001b[0m \u001b[0;34m=\u001b[0m \u001b[0mnp\u001b[0m\u001b[0;34m.\u001b[0m\u001b[0mzeros\u001b[0m\u001b[0;34m(\u001b[0m\u001b[0msupport\u001b[0m\u001b[0;34m.\u001b[0m\u001b[0mn_nodes\u001b[0m\u001b[0;34m)\u001b[0m\u001b[0;34m.\u001b[0m\u001b[0mastype\u001b[0m\u001b[0;34m(\u001b[0m\u001b[0mint\u001b[0m\u001b[0;34m)\u001b[0m\u001b[0;34m\u001b[0m\u001b[0;34m\u001b[0m\u001b[0m\n\u001b[1;32m     33\u001b[0m         \u001b[0;31m# self.region_map[self.region] = np.array(range(0,\u001b[0m\u001b[0;34m\u001b[0m\u001b[0;34m\u001b[0m\u001b[0;34m\u001b[0m\u001b[0m\n",
      "\u001b[0;31mAttributeError\u001b[0m: 'TetMesh' object has no attribute 'n_nodes'"
     ]
    }
   ],
   "source": [
    "boundary_points = np.zeros((2,3))\n",
    "boundary_points[0,0] = 548800\n",
    "boundary_points[0,1] = 7816600\n",
    "boundary_points[0,2] = -11010\n",
    "boundary_points[1,0] = 552500\n",
    "boundary_points[1,1] = 7822000\n",
    "boundary_points[1,2] = -8400\n",
    "steps[:] = 30\n",
    "step_vector = boundary_points[1,:] - boundary_points[0,:]\n",
    "# build the mesh\n",
    "mesh = TetMesh(boundary_points[0,:],steps,step_vector)\n",
    "# mesh.setup_mesh(boundary_points, n_tetra=50000,)\n",
    "\n",
    "# link mesh to the interpolator \n",
    "interpolator = PLI(mesh)"
   ]
  },
  {
   "cell_type": "code",
   "execution_count": null,
   "metadata": {},
   "outputs": [],
   "source": []
  }
 ],
 "metadata": {
  "kernelspec": {
   "display_name": "LoopStructural",
   "language": "python",
   "name": "loopstructural"
  },
  "language_info": {
   "codemirror_mode": {
    "name": "ipython",
    "version": 3
   },
   "file_extension": ".py",
   "mimetype": "text/x-python",
   "name": "python",
   "nbconvert_exporter": "python",
   "pygments_lexer": "ipython3",
   "version": "3.6.9"
  },
  "varInspector": {
   "cols": {
    "lenName": 16,
    "lenType": 16,
    "lenVar": 40
   },
   "kernels_config": {
    "python": {
     "delete_cmd_postfix": "",
     "delete_cmd_prefix": "del ",
     "library": "var_list.py",
     "varRefreshCmd": "print(var_dic_list())"
    },
    "r": {
     "delete_cmd_postfix": ") ",
     "delete_cmd_prefix": "rm(",
     "library": "var_list.r",
     "varRefreshCmd": "cat(var_dic_list()) "
    }
   },
   "types_to_exclude": [
    "module",
    "function",
    "builtin_function_or_method",
    "instance",
    "_Feature"
   ],
   "window_display": false
  }
 },
 "nbformat": 4,
 "nbformat_minor": 2
}
