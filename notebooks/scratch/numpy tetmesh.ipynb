{
 "cells": [
  {
   "cell_type": "code",
   "execution_count": 1,
   "metadata": {},
   "outputs": [
    {
     "ename": "SyntaxError",
     "evalue": "unexpected EOF while parsing (<ipython-input-1-deb1f478f1fa>, line 7)",
     "output_type": "error",
     "traceback": [
      "\u001b[1;36m  File \u001b[1;32m\"<ipython-input-1-deb1f478f1fa>\"\u001b[1;36m, line \u001b[1;32m7\u001b[0m\n\u001b[1;33m    \u001b[0m\n\u001b[1;37m    ^\u001b[0m\n\u001b[1;31mSyntaxError\u001b[0m\u001b[1;31m:\u001b[0m unexpected EOF while parsing\n"
     ]
    }
   ],
   "source": [
    "corners = np.array([[0, 1, 0, 0, 1, 0, 1, 1],\n",
    "                    [0, 0, 1, 0, 0, 1, 1, 1],\n",
    "                    [0, 0, 0, 1, 1, 1, 0, 1]])\n",
    "for i in range(ni):\n",
    "    for j in range(nj):\n",
    "        for k in range(nk):\n",
    "            "
   ]
  },
  {
   "cell_type": "code",
   "execution_count": 1,
   "metadata": {
    "ExecuteTime": {
     "end_time": "2020-01-07T05:06:17.854177Z",
     "start_time": "2020-01-07T05:06:17.823496Z"
    },
    "code_folding": [
     99
    ]
   },
   "outputs": [],
   "source": [
    "class TetMesh:\n",
    "    def __init__(self,origin,nsteps,step_vector):\n",
    "        self.origin = np.array(origin) \n",
    "        self.step_vector = np.array(step_vector)     \n",
    "        self.nsteps = np.array(nsteps)\n",
    "        self.nsteps_cells = self.nsteps - 1\n",
    "        self.n_cell_x = self.nsteps[0] - 1\n",
    "        self.n_cell_y = self.nsteps[1] - 1\n",
    "        self.n_cell_z = self.nsteps[2] - 1\n",
    "        \n",
    "    def get_tetra(self,pos):\n",
    "        pos = np.array(pos)\n",
    "        # find which cell the points are in\n",
    "        gi, inside = self.position_to_cell_corners(pos)\n",
    "        # now determine the tetra from the corners\n",
    "        tetra = np.dstack([gi[:,[0,6,1,4]],\n",
    "                        gi[:,[2,4,6,7]],\n",
    "                        gi[:,[0,4,6,2]],\n",
    "                        gi[:,[3,5,7,2]],\n",
    "                        gi[:,[0,4,3,2]],\n",
    "                        gi[:,[3,7,2,4]]])\n",
    "        # find the x,y,z coordinates of the tetra nodes\n",
    "        xi,yi,zi = self.global_index_to_node_index(tetra)\n",
    "        points = self.node_indexes_to_position(xi,yi,zi)\n",
    "        points = points.swapaxes(0,1)\n",
    "        c = np.zeros((points.shape[0],points.shape[2],points.shape[3]))\n",
    "        vap = pos[:,:,None] - points[:, :,0,:]\n",
    "        vbp = pos[:,:,None] - points[:, :,1, :]\n",
    "#         # vcp = p - points[:, 2, :]\n",
    "#         # vdp = p - points[:, 3, :]\n",
    "\n",
    "        vab = points[:, :, 1, :] - points[:, :, 0, :]\n",
    "        vac = points[:, :, 2, :] - points[:, :, 0, :]\n",
    "        vad = points[:, :, 3, :] - points[:, :, 0, :]\n",
    "        vbc = points[:, :, 2, :] - points[:, :, 1, :]\n",
    "        vbd = points[:, :, 3, :] - points[:, :, 1, :]\n",
    "#         vbp * np.cross(vbd, vbc, axisa=1, axisb=1)\n",
    "        va = np.einsum('ijk, ikj->ik', vbp, np.cross(vbd, vbc, axisa=1, axisb=1)) / 6.\n",
    "        vb = np.einsum('ijk, ikj->ik', vap, np.cross(vac, vad, axisa=1, axisb=1)) / 6.\n",
    "        vc = np.einsum('ijk, ikj->ik', vap, np.cross(vad, vab, axisa=1, axisb=1)) / 6.\n",
    "        vd = np.einsum('ijk, ikj->ik', vap, np.cross(vab, vac, axisa=1, axisb=1)) / 6.\n",
    "        \n",
    "        v = np.einsum('ijk, ikj->ik', vab, np.cross(vac, vad, axisa=1, axisb=1)) / 6.\n",
    "\n",
    "        c[:,0,:] = va / v\n",
    "        c[:,1,:] = vb / v\n",
    "        c[:,2,:] = vc / v\n",
    "        c[:,3,:] = vd / v\n",
    "        return c\n",
    "#         va = np.sum(vbp * np.cross(vbd, vbc, axisa=1, axisb=1), axis=1) / 6.\n",
    "#         vb = np.sum(vap * np.cross(vac, vad, axisa=1, axisb=1), axis=1) / 6.\n",
    "#         vc = np.sum(vap * np.cross(vad, vab, axisa=1, axisb=1), axis=1) / 6.\n",
    "#         vd = np.sum(vap * np.cross(vab, vac, axisa=1, axisb=1), axis=1) / 6.\n",
    "#         v = np.sum(vab * np.cross(vac, vad, axisa=1, axisb=1), axis=1) / 6.\n",
    "#         c = np.zeros((4, npts))\n",
    "#         print(pos.shape)\n",
    "#         vap = pos[] - points[]\n",
    "#         print('nodes',points.shape)\n",
    "#         print(tetra, gi,inside)\n",
    "    \n",
    "    def calc_bary_centre(self,points,position):\n",
    "\n",
    "        npts = len(e)\n",
    "        vap = p - points[:, 0, :]\n",
    "        vbp = p - points[:, 1, :]\n",
    "        # vcp = p - points[:, 2, :]\n",
    "        # vdp = p - points[:, 3, :]\n",
    "        vab = points[:, 1, :] - points[:, 0, :]\n",
    "        vac = points[:, 2, :] - points[:, 0, :]\n",
    "        vad = points[:, 3, :] - points[:, 0, :]\n",
    "        vbc = points[:, 2, :] - points[:, 1, :]\n",
    "        vbd = points[:, 3, :] - points[:, 1, :]\n",
    "        vbp * np.cross(vbd, vbc, axisa=1, axisb=1)\n",
    "        va = np.sum(vbp * np.cross(vbd, vbc, axisa=1, axisb=1), axis=1) / 6.\n",
    "        vb = np.sum(vap * np.cross(vac, vad, axisa=1, axisb=1), axis=1) / 6.\n",
    "        vc = np.sum(vap * np.cross(vad, vab, axisa=1, axisb=1), axis=1) / 6.\n",
    "        vd = np.sum(vap * np.cross(vab, vac, axisa=1, axisb=1), axis=1) / 6.\n",
    "        v = np.sum(vab * np.cross(vac, vad, axisa=1, axisb=1), axis=1) / 6.\n",
    "        c = np.zeros((4, npts))\n",
    "        c[0, :] = va / v\n",
    "        c[1, :] = vb / v\n",
    "        c[2, :] = vc / v\n",
    "        c[3, :] = vd / v\n",
    "        return c\n",
    "    \n",
    "    \n",
    "    def inside(self, pos):\n",
    "\n",
    "        # check whether point is inside box\n",
    "        inside = np.ones(pos.shape[0]).astype(bool)\n",
    "        for i in range(3):\n",
    "            inside *= pos[:, i] > self.origin[None, i]\n",
    "            inside *= pos[:, i] < self.origin[None, i] + \\\n",
    "                      self.step_vector[None, i] * self.nsteps_cells[None, i]\n",
    "        return inside    \n",
    "    def global_indicies(self,indexes):\n",
    "        indexes = np.array(indexes).swapaxes(0, 2)\n",
    "        return indexes[:, :, 0] + self.nsteps[None, None, 0] * indexes[:, :,\n",
    "                                                               1] + \\\n",
    "               self.nsteps[None, None, 0] * self.nsteps[\n",
    "                   None, None, 1] * indexes[:, :, 2]\n",
    "    def cell_corner_indexes(self, x_cell_index, y_cell_index, z_cell_index):\n",
    "        \"\"\"\n",
    "        Returns the indexes of the corners of a cell given its location xi,\n",
    "        yi, zi\n",
    "\n",
    "        Parameters\n",
    "        ----------\n",
    "        x_cell_index\n",
    "        y_cell_index\n",
    "        z_cell_index\n",
    "\n",
    "        Returns\n",
    "        -------\n",
    "\n",
    "        \"\"\"\n",
    "        xcorner = np.array([0, 1, 0, 0, 1, 0, 1, 1])\n",
    "        ycorner = np.array([0, 0, 1, 0, 0, 1, 1, 1])\n",
    "        zcorner = np.array([0, 0, 0, 1, 1, 1, 0, 1])\n",
    "        xcorners = x_cell_index[:, None] + xcorner[None, :]\n",
    "        ycorners = y_cell_index[:, None] + ycorner[None, :]\n",
    "        zcorners = z_cell_index[:, None] + zcorner[None, :]\n",
    "        return xcorners, ycorners, zcorners\n",
    "    \n",
    "    def position_to_cell_corners(self,pos):\n",
    "        inside = self.inside(pos)\n",
    "        ix, iy, iz = self.position_to_cell_index(pos)\n",
    "        cornersx, cornersy, cornersz = self.cell_corner_indexes(ix, iy, iz)\n",
    "        globalidx = self.global_indicies(\n",
    "            np.dstack([cornersx, cornersy, cornersz]).T)\n",
    "        return globalidx, inside\n",
    "    \n",
    "    def position_to_cell_index(self,pos):\n",
    "        ix = pos[:, 0] - self.origin[None, 0]\n",
    "        iy = pos[:, 1] - self.origin[None, 1]\n",
    "        iz = pos[:, 2] - self.origin[None, 2]\n",
    "        ix = ix // self.step_vector[None, 0]\n",
    "        iy = iy // self.step_vector[None, 1]\n",
    "        iz = iz // self.step_vector[None, 2]\n",
    "        return ix.astype(int), iy.astype(int), iz.astype(int)\n",
    "    \n",
    "    def node_indexes_to_position(self, xindex, yindex, zindex):\n",
    "\n",
    "        x = self.origin[0] + self.step_vector[0] * xindex\n",
    "        y = self.origin[1] + self.step_vector[1] * yindex\n",
    "        z = self.origin[2] + self.step_vector[2] * zindex\n",
    "\n",
    "        return np.array([x, y, z])\n",
    "    \n",
    "    def global_index_to_node_index(self, global_index):\n",
    "        \"\"\"\n",
    "        Convert from global indexes to xi,yi,zi\n",
    "\n",
    "        Parameters\n",
    "        ----------\n",
    "        global_index\n",
    "\n",
    "        Returns\n",
    "        -------\n",
    "\n",
    "        \"\"\"\n",
    "        # determine the ijk indices for the global index.\n",
    "        # remainder when dividing by nx = i\n",
    "        # remained when dividing modulus of nx by ny is j\n",
    "\n",
    "        x_index = global_index % self.nsteps[0, None]\n",
    "        y_index = global_index // self.nsteps[0, None] % \\\n",
    "                  self.nsteps_cells[1, None]\n",
    "        z_index = global_index // self.nsteps[0, None] // \\\n",
    "                  self.nsteps[1, None]\n",
    "        return x_index, y_index, z_index"
   ]
  },
  {
   "cell_type": "code",
   "execution_count": 4,
   "metadata": {
    "ExecuteTime": {
     "end_time": "2020-01-07T05:08:55.539990Z",
     "start_time": "2020-01-07T05:08:55.534694Z"
    }
   },
   "outputs": [
    {
     "ename": "NameError",
     "evalue": "name 'np' is not defined",
     "output_type": "error",
     "traceback": [
      "\u001b[1;31m---------------------------------------------------------------------------\u001b[0m",
      "\u001b[1;31mNameError\u001b[0m                                 Traceback (most recent call last)",
      "\u001b[1;32m<ipython-input-4-c16bbdaf24c5>\u001b[0m in \u001b[0;36m<module>\u001b[1;34m\u001b[0m\n\u001b[1;32m----> 1\u001b[1;33m \u001b[0mmesh\u001b[0m \u001b[1;33m=\u001b[0m \u001b[0mTetMesh\u001b[0m\u001b[1;33m(\u001b[0m\u001b[1;33m[\u001b[0m\u001b[1;36m0\u001b[0m\u001b[1;33m,\u001b[0m\u001b[1;36m0\u001b[0m\u001b[1;33m,\u001b[0m\u001b[1;36m0\u001b[0m\u001b[1;33m]\u001b[0m\u001b[1;33m,\u001b[0m\u001b[1;33m[\u001b[0m\u001b[1;36m10\u001b[0m\u001b[1;33m,\u001b[0m\u001b[1;36m10\u001b[0m\u001b[1;33m,\u001b[0m\u001b[1;36m10\u001b[0m\u001b[1;33m]\u001b[0m\u001b[1;33m,\u001b[0m\u001b[1;33m[\u001b[0m\u001b[1;36m1.1\u001b[0m\u001b[1;33m,\u001b[0m\u001b[1;36m1.1\u001b[0m\u001b[1;33m,\u001b[0m\u001b[1;36m1.1\u001b[0m\u001b[1;33m]\u001b[0m\u001b[1;33m)\u001b[0m\u001b[1;33m\u001b[0m\u001b[1;33m\u001b[0m\u001b[0m\n\u001b[0m\u001b[0;32m      2\u001b[0m \u001b[0mc\u001b[0m \u001b[1;33m=\u001b[0m \u001b[0mmesh\u001b[0m\u001b[1;33m.\u001b[0m\u001b[0mget_tetra\u001b[0m\u001b[1;33m(\u001b[0m\u001b[1;33m[\u001b[0m\u001b[1;33m[\u001b[0m\u001b[1;36m.52\u001b[0m\u001b[1;33m,\u001b[0m\u001b[1;36m.52\u001b[0m\u001b[1;33m,\u001b[0m\u001b[1;36m.52\u001b[0m\u001b[1;33m]\u001b[0m\u001b[1;33m,\u001b[0m\u001b[1;33m[\u001b[0m\u001b[1;36m1.15\u001b[0m\u001b[1;33m,\u001b[0m\u001b[1;36m1.15\u001b[0m\u001b[1;33m,\u001b[0m\u001b[1;36m1.15\u001b[0m\u001b[1;33m]\u001b[0m \u001b[1;33m]\u001b[0m\u001b[1;33m)\u001b[0m\u001b[1;33m\u001b[0m\u001b[1;33m\u001b[0m\u001b[0m\n",
      "\u001b[1;32m<ipython-input-3-1edc98150c9c>\u001b[0m in \u001b[0;36m__init__\u001b[1;34m(self, origin, nsteps, step_vector)\u001b[0m\n\u001b[0;32m      1\u001b[0m \u001b[1;32mclass\u001b[0m \u001b[0mTetMesh\u001b[0m\u001b[1;33m:\u001b[0m\u001b[1;33m\u001b[0m\u001b[1;33m\u001b[0m\u001b[0m\n\u001b[0;32m      2\u001b[0m     \u001b[1;32mdef\u001b[0m \u001b[0m__init__\u001b[0m\u001b[1;33m(\u001b[0m\u001b[0mself\u001b[0m\u001b[1;33m,\u001b[0m\u001b[0morigin\u001b[0m\u001b[1;33m,\u001b[0m\u001b[0mnsteps\u001b[0m\u001b[1;33m,\u001b[0m\u001b[0mstep_vector\u001b[0m\u001b[1;33m)\u001b[0m\u001b[1;33m:\u001b[0m\u001b[1;33m\u001b[0m\u001b[1;33m\u001b[0m\u001b[0m\n\u001b[1;32m----> 3\u001b[1;33m         \u001b[0mself\u001b[0m\u001b[1;33m.\u001b[0m\u001b[0morigin\u001b[0m \u001b[1;33m=\u001b[0m \u001b[0mnp\u001b[0m\u001b[1;33m.\u001b[0m\u001b[0marray\u001b[0m\u001b[1;33m(\u001b[0m\u001b[0morigin\u001b[0m\u001b[1;33m)\u001b[0m\u001b[1;33m\u001b[0m\u001b[1;33m\u001b[0m\u001b[0m\n\u001b[0m\u001b[0;32m      4\u001b[0m         \u001b[0mself\u001b[0m\u001b[1;33m.\u001b[0m\u001b[0mstep_vector\u001b[0m \u001b[1;33m=\u001b[0m \u001b[0mnp\u001b[0m\u001b[1;33m.\u001b[0m\u001b[0marray\u001b[0m\u001b[1;33m(\u001b[0m\u001b[0mstep_vector\u001b[0m\u001b[1;33m)\u001b[0m\u001b[1;33m\u001b[0m\u001b[1;33m\u001b[0m\u001b[0m\n\u001b[0;32m      5\u001b[0m         \u001b[0mself\u001b[0m\u001b[1;33m.\u001b[0m\u001b[0mnsteps\u001b[0m \u001b[1;33m=\u001b[0m \u001b[0mnp\u001b[0m\u001b[1;33m.\u001b[0m\u001b[0marray\u001b[0m\u001b[1;33m(\u001b[0m\u001b[0mnsteps\u001b[0m\u001b[1;33m)\u001b[0m\u001b[1;33m\u001b[0m\u001b[1;33m\u001b[0m\u001b[0m\n",
      "\u001b[1;31mNameError\u001b[0m: name 'np' is not defined"
     ]
    }
   ],
   "source": [
    "mesh = TetMesh([0,0,0],[10,10,10],[1.1,1.1,1.1])\n",
    "c = mesh.get_tetra([[.52,.52,.52],[1.15,1.15,1.15] ])"
   ]
  },
  {
   "cell_type": "code",
   "execution_count": 5,
   "metadata": {
    "ExecuteTime": {
     "end_time": "2020-01-07T05:09:05.538249Z",
     "start_time": "2020-01-07T05:09:05.528642Z"
    }
   },
   "outputs": [
    {
     "ename": "NameError",
     "evalue": "name 'np' is not defined",
     "output_type": "error",
     "traceback": [
      "\u001b[1;31m---------------------------------------------------------------------------\u001b[0m",
      "\u001b[1;31mNameError\u001b[0m                                 Traceback (most recent call last)",
      "\u001b[1;32m<ipython-input-5-423bbf40c3b0>\u001b[0m in \u001b[0;36m<module>\u001b[1;34m\u001b[0m\n\u001b[1;32m----> 1\u001b[1;33m \u001b[0mmask\u001b[0m \u001b[1;33m=\u001b[0m \u001b[0mnp\u001b[0m\u001b[1;33m.\u001b[0m\u001b[0mall\u001b[0m\u001b[1;33m(\u001b[0m\u001b[0mc\u001b[0m \u001b[1;33m>=\u001b[0m \u001b[1;36m0\u001b[0m\u001b[1;33m,\u001b[0m \u001b[0maxis\u001b[0m\u001b[1;33m=\u001b[0m\u001b[1;36m1\u001b[0m\u001b[1;33m)\u001b[0m\u001b[1;33m\u001b[0m\u001b[1;33m\u001b[0m\u001b[0m\n\u001b[0m\u001b[0;32m      2\u001b[0m \u001b[0mprint\u001b[0m\u001b[1;33m(\u001b[0m\u001b[0mc\u001b[0m\u001b[1;33m[\u001b[0m\u001b[1;36m1\u001b[0m\u001b[1;33m]\u001b[0m\u001b[1;33m,\u001b[0m\u001b[0mmask\u001b[0m\u001b[1;33m[\u001b[0m\u001b[1;36m1\u001b[0m\u001b[1;33m]\u001b[0m\u001b[1;33m)\u001b[0m\u001b[1;33m\u001b[0m\u001b[1;33m\u001b[0m\u001b[0m\n",
      "\u001b[1;31mNameError\u001b[0m: name 'np' is not defined"
     ]
    }
   ],
   "source": [
    "mask = np.all(c >= 0, axis=1)\n",
    "print(c[1],mask[1])"
   ]
  },
  {
   "cell_type": "code",
   "execution_count": 6,
   "metadata": {
    "ExecuteTime": {
     "end_time": "2020-01-06T22:22:55.353289Z",
     "start_time": "2020-01-06T22:22:55.344254Z"
    }
   },
   "outputs": [
    {
     "ename": "NameError",
     "evalue": "name 'np' is not defined",
     "output_type": "error",
     "traceback": [
      "\u001b[1;31m---------------------------------------------------------------------------\u001b[0m",
      "\u001b[1;31mNameError\u001b[0m                                 Traceback (most recent call last)",
      "\u001b[1;32m<ipython-input-6-4aa2b17118f1>\u001b[0m in \u001b[0;36m<module>\u001b[1;34m\u001b[0m\n\u001b[1;32m----> 1\u001b[1;33m corners = np.array([[0, 1, 0, 0, 1, 0, 1, 1],\n\u001b[0m\u001b[0;32m      2\u001b[0m                     \u001b[1;33m[\u001b[0m\u001b[1;36m0\u001b[0m\u001b[1;33m,\u001b[0m \u001b[1;36m0\u001b[0m\u001b[1;33m,\u001b[0m \u001b[1;36m1\u001b[0m\u001b[1;33m,\u001b[0m \u001b[1;36m0\u001b[0m\u001b[1;33m,\u001b[0m \u001b[1;36m0\u001b[0m\u001b[1;33m,\u001b[0m \u001b[1;36m1\u001b[0m\u001b[1;33m,\u001b[0m \u001b[1;36m1\u001b[0m\u001b[1;33m,\u001b[0m \u001b[1;36m1\u001b[0m\u001b[1;33m]\u001b[0m\u001b[1;33m,\u001b[0m\u001b[1;33m\u001b[0m\u001b[1;33m\u001b[0m\u001b[0m\n\u001b[0;32m      3\u001b[0m                     [0, 0, 0, 1, 1, 1, 0, 1]])\n\u001b[0;32m      4\u001b[0m \u001b[1;33m\u001b[0m\u001b[0m\n\u001b[0;32m      5\u001b[0m \u001b[1;33m\u001b[0m\u001b[0m\n",
      "\u001b[1;31mNameError\u001b[0m: name 'np' is not defined"
     ]
    }
   ],
   "source": [
    "corners = np.array([[0, 1, 0, 0, 1, 0, 1, 1],\n",
    "                    [0, 0, 1, 0, 0, 1, 1, 1],\n",
    "                    [0, 0, 0, 1, 1, 1, 0, 1]])\n",
    "\n",
    "\n",
    "def create_mesh(ni,nj,nk):\n",
    "    def gi(i,j,k):\n",
    "        return i+j*(ni+i)+k*(ni+1)*(nj+1)\n",
    "    i = np.arange(0,ni)\n",
    "    j = np.arange(0,nj)\n",
    "    k = np.arange(0,nk)\n",
    "    ii,jj, kk = np.meshgrid(i,j,k,indexing='ij')\n",
    "    iii = ii[:,:,:,None]+corners[None,None,None,0,:]\n",
    "    jjj = jj[:,:,:,None]+corners[None,None,None,1,:]\n",
    "    kkk = kk[:,:,:,None]+corners[None,None,None,2,:]\n",
    "    corner_gi = gi(iii,jjj,kkk)\n",
    "    corner_gi_flat = gi(iii,jjj,kkk)\n",
    "    corner_gi = corner_gi.reshape(ni*nj*nk,8)\n",
    "    tetra = np.vstack([corner_gi[:,[0,6,1,4]],\n",
    "                        corner_gi[:,[2,4,6,7]],\n",
    "                        corner_gi[:,[0,4,6,2]],\n",
    "                        corner_gi[:,[3,5,7,2]],\n",
    "                        corner_gi[:,[0,4,3,2]],\n",
    "                        corner_gi[:,[3,7,2,4]]])\n",
    "#     faces = np.vstack([corner_gi[:,[0,1,4]],\n",
    "#                        corner_gi[:,[0,4,6]],\n",
    "#                        corner_gi[:,[4,6,7]],\n",
    "#                        corner_gi[:,[0,6,1]],\n",
    "#                        corner_gi[:,[2,4,7]],\n",
    "#                        corner_gi[:,[2,7,6]],\n",
    "#                        corner_gi[:,[3,4,0]],\n",
    "#                        corner_gi[:,[3,7,5]],\n",
    "#                        corner_gi[:,[5,7,2]],\n",
    "#                        corner_gi[:,[0,4,2]],\n",
    "#                        corner_gi[:,[2,4,6]],\n",
    "#                        corner_gi[:,[3,2,7]],\n",
    "#                        corner_gi[:,[1,4,6]],\n",
    "#                        corner_gi[:,[0,3,2]],\n",
    "#                        corner_gi[:,[2,3,4]],\n",
    "#                        corner_gi[:,[0,2,6]],\n",
    "#                        corner_gi[:,[0,2,4]]\n",
    "#                             ])\n",
    "    \n",
    "#     unique_faces = {}\n",
    "#     for i, f in enumerate(faces):\n",
    "#     #     for \n",
    "#         unique_faces[tuple(np.sort(f.tolist()))] = i\n",
    "#     n = 0\n",
    "#     # convert this back to numpy\n",
    "#     faces_np = np.zeros(faces.shape).astype(int)\n",
    "#     for f in unique_faces:\n",
    "#         faces_np[n,:] = faces[unique_faces[f],:]\n",
    "#         unique_faces[f] = n\n",
    "#         n+=1\n",
    "#     faces_np = faces_np[:n,:]\n",
    "    \n",
    "#     faces_tetra = {}\n",
    "#     for i, t in enumerate(tetra):\n",
    "#         for idc in [[0,1,2],[1,2,3],[0,2,3],[3,2,1]]:\n",
    "#             key = tuple(np.sort(t[idc]))\n",
    "\n",
    "#             if key in faces_tetra:\n",
    "#                 faces_tetra[key].add(i)\n",
    "#             else:\n",
    "#                 faces_tetra[key] = set([i])\n",
    "                \n",
    "#     faces_tetra_np = np.zeros((faces.shape[0],2)).astype(int)\n",
    "#     faces_tetra_np[:,:] = -1\n",
    "#     n = 0\n",
    "# #     for face in faces_tetra:\n",
    "# #         for i in range(len(faces_tetra[face])):\n",
    "# #             print(faces_tetra[face])\n",
    "# #             faces_tetra_np[unique_faces[face],i] = list(faces_tetra[face])[i]\n",
    "# #         n+=1\n",
    "        \n",
    "    return tetra"
   ]
  },
  {
   "cell_type": "code",
   "execution_count": 7,
   "metadata": {
    "ExecuteTime": {
     "end_time": "2020-01-06T22:22:56.354490Z",
     "start_time": "2020-01-06T22:22:55.813714Z"
    },
    "scrolled": false
   },
   "outputs": [
    {
     "ename": "NameError",
     "evalue": "name 'create_mesh' is not defined",
     "output_type": "error",
     "traceback": [
      "\u001b[1;31m---------------------------------------------------------------------------\u001b[0m",
      "\u001b[1;31mNameError\u001b[0m                                 Traceback (most recent call last)",
      "\u001b[1;32m<ipython-input-7-6db45bb191e6>\u001b[0m in \u001b[0;36m<module>\u001b[1;34m\u001b[0m\n\u001b[1;32m----> 1\u001b[1;33m \u001b[0mcreate_mesh\u001b[0m\u001b[1;33m(\u001b[0m\u001b[1;36m100\u001b[0m\u001b[1;33m,\u001b[0m\u001b[1;36m100\u001b[0m\u001b[1;33m,\u001b[0m\u001b[1;36m100\u001b[0m\u001b[1;33m)\u001b[0m\u001b[1;33m\u001b[0m\u001b[1;33m\u001b[0m\u001b[0m\n\u001b[0m",
      "\u001b[1;31mNameError\u001b[0m: name 'create_mesh' is not defined"
     ]
    }
   ],
   "source": [
    "create_mesh(100,100,100)"
   ]
  },
  {
   "cell_type": "code",
   "execution_count": 8,
   "metadata": {
    "ExecuteTime": {
     "end_time": "2019-11-26T03:49:28.441982Z",
     "start_time": "2019-11-26T03:49:28.422647Z"
    }
   },
   "outputs": [],
   "source": [
    "def build_mesh(ni,nj,nk):\n",
    "    i = np.arange(0,ni)\n",
    "    j = np.arange(0,nj)\n",
    "    k = np.arange(0,nk)\n",
    "    ii,jj, kk = np.meshgrid(i,j,k,indexing='ij')\n",
    "    iii = ii[:,:,:,None]+corners[None,None,None,0,:]\n",
    "    jjj = jj[:,:,:,None]+corners[None,None,None,1,:]\n",
    "    kkk = kk[:,:,:,None]+corners[None,None,None,2,:]\n",
    "    def gi(i,j,k):\n",
    "        return i+j*(ni+1)+k*(nj+1)*(ni+1)\n",
    "    corner_gi = gi(iii,jjj,kkk)\n",
    "    corner_gi= corner_gi.reshape(ni*nj*nk,8)\n",
    "    tetra = np.vstack([corner_gi[:,[0,6,1,4]],\n",
    "                            corner_gi[:,[2,4,6,7]],\n",
    "                            corner_gi[:,[0,4,6,2]],\n",
    "                            corner_gi[:,[3,5,7,2]],\n",
    "                            corner_gi[:,[0,4,3,2]],\n",
    "                            corner_gi[:,[3,7,2,4]]])\n",
    "    faces = np.vstack([corner_gi[:,[0,1,4]],\n",
    "                       corner_gi[:,[0,4,6]],\n",
    "                       corner_gi[:,[4,6,7]],\n",
    "                       corner_gi[:,[0,6,1]],\n",
    "                       corner_gi[:,[2,4,7]],\n",
    "                       corner_gi[:,[2,7,6]],\n",
    "                       corner_gi[:,[3,4,0]],\n",
    "                       corner_gi[:,[3,7,5]],\n",
    "                       corner_gi[:,[5,7,2]],\n",
    "                       corner_gi[:,[0,4,2]],\n",
    "                       corner_gi[:,[2,4,6]],\n",
    "                       corner_gi[:,[3,2,7]],\n",
    "                       corner_gi[:,[1,4,6]],\n",
    "                       corner_gi[:,[0,3,2]],\n",
    "                       corner_gi[:,[2,3,4]],\n",
    "                       corner_gi[:,[0,2,6]],\n",
    "                       corner_gi[:,[0,2,4]]\n",
    "\n",
    "                            ])\n",
    "\n",
    "#     # find the unique faces within the list of faces\n",
    "#     # use a tuple as a hash for a dictionary where the tuple\n",
    "#     # is a sorted list of the elements in the face and store\n",
    "#     # the original location in the faces array\n",
    "#     unique_faces = {}\n",
    "#     for i, f in enumerate(faces):\n",
    "#     #     for \n",
    "#         unique_faces[tuple(set(f.tolist()))] = i\n",
    "#     n = 0\n",
    "#     # convert this back to numpy\n",
    "#     faces_np = np.zeros(faces.shape).astype(int)\n",
    "#     for f in unique_faces:\n",
    "#         faces_np[n,:] = faces[unique_faces[f],:]\n",
    "#         unique_faces[f] = n\n",
    "#         n+=1\n",
    "#     faces_np = faces_np[:n,:]\n",
    "#     # find which faces belong to which tetra using the same approach as before\n",
    "#     faces_tetra = {}\n",
    "#     for i, t in enumerate(tetra):\n",
    "#         for idc in [[0,1,2],[1,2,3],[0,2,3],[3,2,1]]:\n",
    "#             key = tuple(set(t[idc]))\n",
    "\n",
    "#             if key in faces_tetra:\n",
    "#                 faces_tetra[key].add(i)\n",
    "#             else:\n",
    "#                 faces_tetra[key] = set([i])\n",
    "#     faces_tetra_np = np.zeros((faces.shape[0],2)).astype(int)\n",
    "#     faces_tetra_np[:,:] = -1\n",
    "#     n = 0\n",
    "#     for face in faces_tetra:\n",
    "#         for i in range(len(faces_tetra[face])):\n",
    "#             faces_tetra_np[unique_faces[face],i] = list(faces_tetra[face])[i]\n",
    "#         n+=1"
   ]
  },
  {
   "cell_type": "code",
   "execution_count": 9,
   "metadata": {
    "ExecuteTime": {
     "end_time": "2020-01-09T03:13:38.881907Z",
     "start_time": "2020-01-09T03:13:38.753617Z"
    }
   },
   "outputs": [
    {
     "ename": "NameError",
     "evalue": "name 'nodes' is not defined",
     "output_type": "error",
     "traceback": [
      "\u001b[1;31m---------------------------------------------------------------------------\u001b[0m",
      "\u001b[1;31mNameError\u001b[0m                                 Traceback (most recent call last)",
      "\u001b[1;32m<ipython-input-9-3a70e82ab567>\u001b[0m in \u001b[0;36m<module>\u001b[1;34m\u001b[0m\n\u001b[0;32m      4\u001b[0m \u001b[0mfig\u001b[0m \u001b[1;33m=\u001b[0m \u001b[0mplt\u001b[0m\u001b[1;33m.\u001b[0m\u001b[0mfigure\u001b[0m\u001b[1;33m(\u001b[0m\u001b[1;33m)\u001b[0m\u001b[1;33m\u001b[0m\u001b[1;33m\u001b[0m\u001b[0m\n\u001b[0;32m      5\u001b[0m \u001b[0max\u001b[0m \u001b[1;33m=\u001b[0m \u001b[0mfig\u001b[0m\u001b[1;33m.\u001b[0m\u001b[0madd_subplot\u001b[0m\u001b[1;33m(\u001b[0m\u001b[1;36m111\u001b[0m\u001b[1;33m,\u001b[0m \u001b[0mprojection\u001b[0m\u001b[1;33m=\u001b[0m\u001b[1;34m'3d'\u001b[0m\u001b[1;33m)\u001b[0m\u001b[1;33m\u001b[0m\u001b[1;33m\u001b[0m\u001b[0m\n\u001b[1;32m----> 6\u001b[1;33m \u001b[0max\u001b[0m\u001b[1;33m.\u001b[0m\u001b[0madd_collection\u001b[0m\u001b[1;33m(\u001b[0m\u001b[0mPoly3DCollection\u001b[0m\u001b[1;33m(\u001b[0m\u001b[0mnodes\u001b[0m\u001b[1;33m[\u001b[0m\u001b[0mtriangle\u001b[0m\u001b[1;33m]\u001b[0m\u001b[1;33m)\u001b[0m\u001b[1;33m)\u001b[0m\u001b[1;33m\u001b[0m\u001b[1;33m\u001b[0m\u001b[0m\n\u001b[0m\u001b[0;32m      7\u001b[0m \u001b[1;33m\u001b[0m\u001b[0m\n\u001b[0;32m      8\u001b[0m \u001b[0mplt\u001b[0m\u001b[1;33m.\u001b[0m\u001b[0mshow\u001b[0m\u001b[1;33m(\u001b[0m\u001b[1;33m)\u001b[0m\u001b[1;33m\u001b[0m\u001b[1;33m\u001b[0m\u001b[0m\n",
      "\u001b[1;31mNameError\u001b[0m: name 'nodes' is not defined"
     ]
    }
   ],
   "source": [
    "from mpl_toolkits.mplot3d.art3d import Poly3DCollection\n",
    "import matplotlib.pyplot as plt\n",
    "\n",
    "fig = plt.figure()\n",
    "ax = fig.add_subplot(111, projection='3d')\n",
    "ax.add_collection(Poly3DCollection(nodes[triangle]))\n",
    "\n",
    "plt.show()"
   ]
  },
  {
   "cell_type": "code",
   "execution_count": null,
   "metadata": {
    "ExecuteTime": {
     "end_time": "2019-11-26T03:49:29.069613Z",
     "start_time": "2019-11-26T03:49:29.061888Z"
    }
   },
   "outputs": [],
   "source": [
    "%load_ext snakeviz"
   ]
  },
  {
   "cell_type": "code",
   "execution_count": null,
   "metadata": {
    "ExecuteTime": {
     "end_time": "2019-11-26T03:49:34.988181Z",
     "start_time": "2019-11-26T03:49:29.614455Z"
    }
   },
   "outputs": [],
   "source": [
    "%%timeit\n",
    "build_mesh(100,100,100)\n"
   ]
  },
  {
   "cell_type": "code",
   "execution_count": null,
   "metadata": {
    "ExecuteTime": {
     "end_time": "2019-10-10T05:08:12.757896Z",
     "start_time": "2019-10-10T05:08:12.753288Z"
    }
   },
   "outputs": [],
   "source": [
    "internal_face_mask = ~np.any(faces_tetra_np[:n,:] == -1, axis=1)"
   ]
  },
  {
   "cell_type": "code",
   "execution_count": 10,
   "metadata": {},
   "outputs": [
    {
     "ename": "SyntaxError",
     "evalue": "invalid syntax (<ipython-input-10-4fd31a823218>, line 1)",
     "output_type": "error",
     "traceback": [
      "\u001b[1;36m  File \u001b[1;32m\"<ipython-input-10-4fd31a823218>\"\u001b[1;36m, line \u001b[1;32m1\u001b[0m\n\u001b[1;33m    def cg(double [:,:,:] EG, long long [:,:] neighbours, long long [:,:] elements,double [:,:] nodes, long long [:] region):\u001b[0m\n\u001b[1;37m                  ^\u001b[0m\n\u001b[1;31mSyntaxError\u001b[0m\u001b[1;31m:\u001b[0m invalid syntax\n"
     ]
    }
   ],
   "source": [
    " \n",
    "def cg(double [:,:,:] EG, long long [:,:] neighbours, long long [:,:] elements,double [:,:] nodes, long long [:] region):\n",
    "    cdef int Nc, Na, i,Ns, j, ne, ncons, e, n, neigh\n",
    "    Nc = 5 #numer of constraints shared nodes + independent\n",
    "    Na = 4 #number of nodes\n",
    "    Ns = Na -1\n",
    "    ne = len(neighbours)\n",
    "    ncons = 0\n",
    "    cdef int [:] flag = np.zeros(ne,dtype=np.int32)\n",
    "    cdef double [:,:] c = np.zeros((len(neighbours)*4,Nc))\n",
    "    cdef long long [:,:] idc = np.zeros((ne*4,5),dtype=np.int64)\n",
    "    cdef long long [3] common\n",
    "    cdef double [:] norm = np.zeros((3))\n",
    "    cdef double [:,:] shared_pts = np.zeros((3,3))\n",
    "    cdef double [:] v1 = np.zeros(3)\n",
    "    cdef double [:] v2 = np.zeros(3)\n",
    "    cdef double [:,:] e1\n",
    "    cdef double [:,:] e2\n",
    "    cdef double area = 0\n",
    "    cdef long long [:] idl  = np.zeros(4,dtype=np.int64)\n",
    "    cdef long long [:] idr = np.zeros(4,dtype=np.int64)\n",
    "    for e in range(ne):\n",
    "        idl = elements[e,:]\n",
    "        e1 = EG[e,:,:]\n",
    "        flag[e] = 1\n",
    "        # if not in region then skip this tetra\n",
    "        if region[idl[0]] == 0 or region[idl[1]] == 0 or region[idl[2]] == 0 or region[idl[3]] == 0:\n",
    "            continue\n",
    "        for n in range(4):\n",
    "\n",
    "            neigh = neighbours[e,n]\n",
    "            idr = elements[neigh,:]\n",
    "\n",
    "            if flag[neigh]== 1:\n",
    "                continue\n",
    "            if neigh == -1:\n",
    "                continue\n",
    "            # if not in region then skip this tetra\n",
    "            if region[idr[0]] == 0 or region[idr[1]] == 0 or region[idr[2]] == 0 or region[idr[3]] == 0:\n",
    "                continue\n",
    "            e2 = EG[neigh,:,:]\n",
    "\n",
    "\n",
    "            \n",
    "            for i in range(Nc):\n",
    "                idc[ncons,i] = -1\n",
    "\n",
    "            i = 0\n",
    "            for itr_right in range(Na):\n",
    "                for itr_left in range(Na):\n",
    "                    if idl[itr_left] == idr[itr_right]:\n",
    "                        common[i] = idl[itr_left]\n",
    "                        i+=1\n",
    "            for j in range(3):\n",
    "                for k in range(3):\n",
    "                    shared_pts[j][k] = nodes[common[j]][k]#common\n",
    "            for i in range(3):\n",
    "                v1[i] = shared_pts[0,i] - shared_pts[1,i]\n",
    "                v2[i] = shared_pts[2,i]-shared_pts[1,i]\n",
    "            norm[0] = v2[2]*v1[1] - v1[2]*v2[1]\n",
    "            norm[1] = v1[2]*v2[0] - v1[0]*v2[2]\n",
    "            norm[2] = v1[0]*v2[1] - v1[1]*v2[0]\n",
    "\n",
    "            # we want to weight the cg by the area of the shared face\n",
    "            # area of triangle is half area of parallelogram\n",
    "            # https://math.stackexchange.com/questions/128991/how-to-calculate-the-area-of-a-3d-triangle\n",
    "\n",
    "            area = 0.5*np.linalg.norm(norm)\n",
    "            for itr_left in range(Na):\n",
    "                idc[ncons,itr_left] = idl[itr_left]\n",
    "                for i in range(3):\n",
    "                    c[ncons,itr_left] += norm[i]*e1[i][itr_left]*area\n",
    "            next_available_position = Na\n",
    "            for itr_right in range(Na):\n",
    "                common_index = -1\n",
    "                for itr_left in range(Na):\n",
    "                    if idc[ncons,itr_left] == idr[itr_right]:\n",
    "                        common_index = itr_left\n",
    "\n",
    "                position_to_write = 0\n",
    "                if common_index != -1:\n",
    "                    position_to_write = common_index\n",
    "                else:\n",
    "                    position_to_write = 4#next_available_position\n",
    "                    next_available_position+=1\n",
    "                idc[ncons,position_to_write] = idr[itr_right]\n",
    "                for i in range(3):\n",
    "                    c[ncons,position_to_write] -= norm[i]*e2[i][itr_right]*area\n",
    "            ncons+=1\n",
    "    return idc, c, ncons"
   ]
  },
  {
   "cell_type": "code",
   "execution_count": 11,
   "metadata": {},
   "outputs": [],
   "source": [
    "def numpy_cg(faces,faces_tetra,nodes,tetras,grad):\n",
    "    shared_pts = nodes[faces]#common\n",
    "    v1 = shared_pts[0,:] - shared_pts[1,:]\n",
    "    v2 = shared_pts[2,:] - shared_pts[1,:]\n",
    "    norm = np.cross(v1,v2,axisa=1,axisb=1)\n",
    "    # we want to weight the cg by the area of the shared face\n",
    "    # area of triangle is half area of parallelogram\n",
    "    # https://math.stackexchange.com/questions/128991/how-to-calculate-the-area-of-a-3d-triangle\n",
    "    area = 0.5*np.linalg.norm(norm)\n",
    "    e1 = grad[faces_tetra[:,0]]\n",
    "    e2 = grad[faces_tetra[:,1]]\n",
    "    \n",
    "    c \n",
    "    for itr_left in range(Na):\n",
    "        idc[ncons,itr_left] = idl[itr_left]\n",
    "        for i in range(3):\n",
    "            c[ncons,itr_left] += norm[i]*e1[i][itr_left]*area\n",
    "    next_available_position = Na\n",
    "    for itr_right in range(Na):\n",
    "        common_index = -1\n",
    "        for itr_left in range(Na):\n",
    "            if idc[ncons,itr_left] == idr[itr_right]:\n",
    "                common_index = itr_left\n",
    "\n",
    "        position_to_write = 0\n",
    "        if common_index != -1:\n",
    "            position_to_write = common_index\n",
    "        else:\n",
    "            position_to_write = 4#next_available_position\n",
    "            next_available_position+=1\n",
    "        idc[ncons,position_to_write] = idr[itr_right]\n",
    "        for i in range(3):\n",
    "            c[ncons,position_to_write] -= norm[i]*e2[i][itr_right]*area"
   ]
  },
  {
   "cell_type": "code",
   "execution_count": 12,
   "metadata": {
    "ExecuteTime": {
     "end_time": "2019-10-10T05:01:04.559300Z",
     "start_time": "2019-10-10T05:01:04.496377Z"
    }
   },
   "outputs": [
    {
     "ename": "NameError",
     "evalue": "name 'faces_tetra' is not defined",
     "output_type": "error",
     "traceback": [
      "\u001b[1;31m---------------------------------------------------------------------------\u001b[0m",
      "\u001b[1;31mNameError\u001b[0m                                 Traceback (most recent call last)",
      "\u001b[1;32m<ipython-input-12-6ae248fb22d8>\u001b[0m in \u001b[0;36m<module>\u001b[1;34m\u001b[0m\n\u001b[0;32m      1\u001b[0m \u001b[1;31m# loop over faces to tetra relations\u001b[0m\u001b[1;33m\u001b[0m\u001b[1;33m\u001b[0m\u001b[1;33m\u001b[0m\u001b[0m\n\u001b[1;32m----> 2\u001b[1;33m \u001b[1;32mfor\u001b[0m \u001b[0mface\u001b[0m \u001b[1;32min\u001b[0m \u001b[0mfaces_tetra\u001b[0m\u001b[1;33m:\u001b[0m\u001b[1;33m\u001b[0m\u001b[1;33m\u001b[0m\u001b[0m\n\u001b[0m\u001b[0;32m      3\u001b[0m     \u001b[1;31m# loop over tetra global index in faces\u001b[0m\u001b[1;33m\u001b[0m\u001b[1;33m\u001b[0m\u001b[1;33m\u001b[0m\u001b[0m\n\u001b[0;32m      4\u001b[0m     \u001b[1;32mfor\u001b[0m \u001b[0mi\u001b[0m \u001b[1;32min\u001b[0m \u001b[0mrange\u001b[0m\u001b[1;33m(\u001b[0m\u001b[0mlen\u001b[0m\u001b[1;33m(\u001b[0m\u001b[0mfaces_tetra\u001b[0m\u001b[1;33m[\u001b[0m\u001b[0mface\u001b[0m\u001b[1;33m]\u001b[0m\u001b[1;33m)\u001b[0m\u001b[1;33m)\u001b[0m\u001b[1;33m:\u001b[0m\u001b[1;33m\u001b[0m\u001b[1;33m\u001b[0m\u001b[0m\n\u001b[0;32m      5\u001b[0m \u001b[1;31m#         print(list(faces_tetra[face])[i],unique_faces[face])\u001b[0m\u001b[1;33m\u001b[0m\u001b[1;33m\u001b[0m\u001b[1;33m\u001b[0m\u001b[0m\n",
      "\u001b[1;31mNameError\u001b[0m: name 'faces_tetra' is not defined"
     ]
    }
   ],
   "source": [
    "# loop over faces to tetra relations\n",
    "for face in faces_tetra:\n",
    "    # loop over tetra global index in faces\n",
    "    for i in range(len(faces_tetra[face])):\n",
    "#         print(list(faces_tetra[face])[i],unique_faces[face])\n",
    "        i_ = 0\n",
    "        while tetra_faces[list(faces_tetra[face])[i],i_] >  -1:\n",
    "            i_+=1\n",
    "        tetra_faces[list(faces_tetra[face])[i],i_] = unique_faces[face]\n",
    "        \n"
   ]
  },
  {
   "cell_type": "code",
   "execution_count": 13,
   "metadata": {},
   "outputs": [
    {
     "ename": "NameError",
     "evalue": "name 'np' is not defined",
     "output_type": "error",
     "traceback": [
      "\u001b[1;31m---------------------------------------------------------------------------\u001b[0m",
      "\u001b[1;31mNameError\u001b[0m                                 Traceback (most recent call last)",
      "\u001b[1;32m<ipython-input-13-705d24dc674e>\u001b[0m in \u001b[0;36m<module>\u001b[1;34m\u001b[0m\n\u001b[1;32m----> 1\u001b[1;33m \u001b[0mtetra1\u001b[0m \u001b[1;33m=\u001b[0m \u001b[0mnp\u001b[0m\u001b[1;33m.\u001b[0m\u001b[0marray\u001b[0m\u001b[1;33m(\u001b[0m\u001b[1;33m[\u001b[0m\u001b[1;36m0\u001b[0m\u001b[1;33m,\u001b[0m\u001b[1;36m1\u001b[0m\u001b[1;33m,\u001b[0m\u001b[1;36m2\u001b[0m\u001b[1;33m,\u001b[0m\u001b[1;36m3\u001b[0m\u001b[1;33m]\u001b[0m\u001b[1;33m)\u001b[0m\u001b[1;33m.\u001b[0m\u001b[0mastype\u001b[0m\u001b[1;33m(\u001b[0m\u001b[0mint\u001b[0m\u001b[1;33m)\u001b[0m\u001b[1;33m\u001b[0m\u001b[1;33m\u001b[0m\u001b[0m\n\u001b[0m\u001b[0;32m      2\u001b[0m \u001b[0mtetra2\u001b[0m \u001b[1;33m=\u001b[0m \u001b[0mnp\u001b[0m\u001b[1;33m.\u001b[0m\u001b[0marray\u001b[0m\u001b[1;33m(\u001b[0m\u001b[1;33m[\u001b[0m\u001b[1;36m4\u001b[0m\u001b[1;33m,\u001b[0m\u001b[1;36m1\u001b[0m\u001b[1;33m,\u001b[0m\u001b[1;36m2\u001b[0m\u001b[1;33m,\u001b[0m\u001b[1;36m3\u001b[0m\u001b[1;33m]\u001b[0m\u001b[1;33m)\u001b[0m\u001b[1;33m.\u001b[0m\u001b[0mastype\u001b[0m\u001b[1;33m(\u001b[0m\u001b[0mint\u001b[0m\u001b[1;33m)\u001b[0m\u001b[1;33m\u001b[0m\u001b[1;33m\u001b[0m\u001b[0m\n\u001b[0;32m      3\u001b[0m \u001b[0mface\u001b[0m \u001b[1;33m=\u001b[0m \u001b[0mnp\u001b[0m\u001b[1;33m.\u001b[0m\u001b[0marray\u001b[0m\u001b[1;33m(\u001b[0m\u001b[1;33m[\u001b[0m\u001b[1;36m1\u001b[0m\u001b[1;33m,\u001b[0m\u001b[1;36m2\u001b[0m\u001b[1;33m,\u001b[0m\u001b[1;36m3\u001b[0m\u001b[1;33m]\u001b[0m\u001b[1;33m)\u001b[0m\u001b[1;33m.\u001b[0m\u001b[0mastype\u001b[0m\u001b[1;33m(\u001b[0m\u001b[0mint\u001b[0m\u001b[1;33m)\u001b[0m\u001b[1;33m\u001b[0m\u001b[1;33m\u001b[0m\u001b[0m\n\u001b[0;32m      4\u001b[0m \u001b[1;33m\u001b[0m\u001b[0m\n",
      "\u001b[1;31mNameError\u001b[0m: name 'np' is not defined"
     ]
    }
   ],
   "source": [
    "tetra1 = np.array([0,1,2,3]).astype(int)\n",
    "tetra2 = np.array([4,1,2,3]).astype(int)\n",
    "face = np.array([1,2,3]).astype(int)\n",
    "\n"
   ]
  },
  {
   "cell_type": "code",
   "execution_count": 14,
   "metadata": {
    "ExecuteTime": {
     "end_time": "2019-10-10T05:01:32.091636Z",
     "start_time": "2019-10-10T05:01:32.083230Z"
    }
   },
   "outputs": [
    {
     "ename": "NameError",
     "evalue": "name 'tetra_faces' is not defined",
     "output_type": "error",
     "traceback": [
      "\u001b[1;31m---------------------------------------------------------------------------\u001b[0m",
      "\u001b[1;31mNameError\u001b[0m                                 Traceback (most recent call last)",
      "\u001b[1;32m<ipython-input-14-5ab3847dd566>\u001b[0m in \u001b[0;36m<module>\u001b[1;34m\u001b[0m\n\u001b[1;32m----> 1\u001b[1;33m \u001b[0mprint\u001b[0m\u001b[1;33m(\u001b[0m\u001b[0mtetra_faces\u001b[0m\u001b[1;33m.\u001b[0m\u001b[0mshape\u001b[0m\u001b[1;33m)\u001b[0m\u001b[1;33m\u001b[0m\u001b[1;33m\u001b[0m\u001b[0m\n\u001b[0m\u001b[0;32m      2\u001b[0m \u001b[0mtetra_faces\u001b[0m\u001b[1;33m[\u001b[0m\u001b[0mnp\u001b[0m\u001b[1;33m.\u001b[0m\u001b[0many\u001b[0m\u001b[1;33m(\u001b[0m\u001b[0mtetra_faces\u001b[0m \u001b[1;33m==\u001b[0m \u001b[1;33m-\u001b[0m\u001b[1;36m1\u001b[0m\u001b[1;33m,\u001b[0m \u001b[0maxis\u001b[0m\u001b[1;33m=\u001b[0m\u001b[1;36m1\u001b[0m\u001b[1;33m)\u001b[0m\u001b[1;33m]\u001b[0m\u001b[1;33m.\u001b[0m\u001b[0mshape\u001b[0m\u001b[1;33m\u001b[0m\u001b[1;33m\u001b[0m\u001b[0m\n",
      "\u001b[1;31mNameError\u001b[0m: name 'tetra_faces' is not defined"
     ]
    }
   ],
   "source": [
    "print(tetra_faces.shape)\n",
    "tetra_faces[np.any(tetra_faces == -1, axis=1)].shape"
   ]
  },
  {
   "cell_type": "code",
   "execution_count": 15,
   "metadata": {
    "ExecuteTime": {
     "end_time": "2019-10-10T04:55:48.494409Z",
     "start_time": "2019-10-10T04:55:48.294122Z"
    }
   },
   "outputs": [
    {
     "ename": "NameError",
     "evalue": "name 'xx' is not defined",
     "output_type": "error",
     "traceback": [
      "\u001b[1;31m---------------------------------------------------------------------------\u001b[0m",
      "\u001b[1;31mNameError\u001b[0m                                 Traceback (most recent call last)",
      "\u001b[1;32m<ipython-input-15-fda21bc7d62f>\u001b[0m in \u001b[0;36m<module>\u001b[1;34m\u001b[0m\n\u001b[1;32m----> 1\u001b[1;33m \u001b[0mplt\u001b[0m\u001b[1;33m.\u001b[0m\u001b[0mtriplot\u001b[0m\u001b[1;33m(\u001b[0m\u001b[0mxx\u001b[0m\u001b[1;33m.\u001b[0m\u001b[0mflatten\u001b[0m\u001b[1;33m(\u001b[0m\u001b[1;33m)\u001b[0m\u001b[1;33m,\u001b[0m\u001b[0myy\u001b[0m\u001b[1;33m.\u001b[0m\u001b[0mflatten\u001b[0m\u001b[1;33m(\u001b[0m\u001b[1;33m)\u001b[0m\u001b[1;33m,\u001b[0m\u001b[0mtri\u001b[0m\u001b[1;33m)\u001b[0m\u001b[1;33m\u001b[0m\u001b[1;33m\u001b[0m\u001b[0m\n\u001b[0m",
      "\u001b[1;31mNameError\u001b[0m: name 'xx' is not defined"
     ]
    }
   ],
   "source": [
    "plt.triplot(xx.flatten(),yy.flatten(),tri)"
   ]
  },
  {
   "cell_type": "code",
   "execution_count": 16,
   "metadata": {
    "ExecuteTime": {
     "end_time": "2019-09-25T06:07:19.791183Z",
     "start_time": "2019-09-25T06:07:19.779173Z"
    }
   },
   "outputs": [],
   "source": [
    "def create_surface(bounding_box,nstep):\n",
    "    x = np.linspace(bounding_box[0,0],bounding_box[1,0],nstep[0])#\n",
    "    y = np.linspace(bounding_box[0,1],bounding_box[1,1],nstep[1])\n",
    "    xx, yy = np.meshgrid(x,y,indexing='xy')\n",
    "    def gi(i,j):\n",
    "        return i+j*nstep[0]\n",
    "    corners = np.array([[0,1,0,1],[0,0,1,1]])\n",
    "    i = np.arange(0, nstep[0]-1)\n",
    "\n",
    "    j = np.arange(0, nstep[1]-1)\n",
    "    ii,jj = np.meshgrid(i,j,indexing='ij')\n",
    "    corner_gi = gi(ii[:,:,None]+corners[None,None,0,:,],jj[:,:,None]+corners[None,None,1,:,])\n",
    "    corner_gi = corner_gi.reshape((nstep[0]-1)*(nstep[1]-1),4)\n",
    "    tri = np.vstack([corner_gi[:,:3],corner_gi[:,1:]])\n",
    "    return tri, xx.flatten(),yy.flatten()"
   ]
  },
  {
   "cell_type": "code",
   "execution_count": 17,
   "metadata": {
    "ExecuteTime": {
     "end_time": "2019-09-25T06:07:58.020653Z",
     "start_time": "2019-09-25T06:07:57.813223Z"
    }
   },
   "outputs": [
    {
     "ename": "NameError",
     "evalue": "name 'np' is not defined",
     "output_type": "error",
     "traceback": [
      "\u001b[1;31m---------------------------------------------------------------------------\u001b[0m",
      "\u001b[1;31mNameError\u001b[0m                                 Traceback (most recent call last)",
      "\u001b[1;32m<ipython-input-17-14f31ba1aa51>\u001b[0m in \u001b[0;36m<module>\u001b[1;34m\u001b[0m\n\u001b[1;32m----> 1\u001b[1;33m \u001b[0mtri\u001b[0m\u001b[1;33m,\u001b[0m \u001b[0mxx\u001b[0m\u001b[1;33m,\u001b[0m \u001b[0myy\u001b[0m \u001b[1;33m=\u001b[0m \u001b[0mcreate_surface\u001b[0m\u001b[1;33m(\u001b[0m\u001b[0mnp\u001b[0m\u001b[1;33m.\u001b[0m\u001b[0marray\u001b[0m\u001b[1;33m(\u001b[0m\u001b[1;33m[\u001b[0m\u001b[1;33m[\u001b[0m\u001b[1;36m0\u001b[0m\u001b[1;33m,\u001b[0m\u001b[1;36m0\u001b[0m\u001b[1;33m]\u001b[0m\u001b[1;33m,\u001b[0m\u001b[1;33m[\u001b[0m\u001b[1;36m1\u001b[0m\u001b[1;33m,\u001b[0m\u001b[1;36m1\u001b[0m\u001b[1;33m]\u001b[0m\u001b[1;33m]\u001b[0m\u001b[1;33m)\u001b[0m\u001b[1;33m,\u001b[0m\u001b[1;33m(\u001b[0m\u001b[1;36m3\u001b[0m\u001b[1;33m,\u001b[0m\u001b[1;36m4\u001b[0m\u001b[1;33m)\u001b[0m\u001b[1;33m)\u001b[0m\u001b[1;33m\u001b[0m\u001b[1;33m\u001b[0m\u001b[0m\n\u001b[0m\u001b[0;32m      2\u001b[0m \u001b[0mplt\u001b[0m\u001b[1;33m.\u001b[0m\u001b[0mtriplot\u001b[0m\u001b[1;33m(\u001b[0m\u001b[0mxx\u001b[0m\u001b[1;33m,\u001b[0m\u001b[0myy\u001b[0m\u001b[1;33m,\u001b[0m\u001b[0mtri\u001b[0m\u001b[1;33m)\u001b[0m\u001b[1;33m\u001b[0m\u001b[1;33m\u001b[0m\u001b[0m\n\u001b[0;32m      3\u001b[0m \u001b[0mprint\u001b[0m\u001b[1;33m(\u001b[0m\u001b[0mtri\u001b[0m\u001b[1;33m,\u001b[0m \u001b[0mnp\u001b[0m\u001b[1;33m.\u001b[0m\u001b[0marray\u001b[0m\u001b[1;33m(\u001b[0m\u001b[1;33m[\u001b[0m\u001b[0mxx\u001b[0m\u001b[1;33m,\u001b[0m\u001b[0myy\u001b[0m\u001b[1;33m]\u001b[0m\u001b[1;33m)\u001b[0m\u001b[1;33m.\u001b[0m\u001b[0mT\u001b[0m\u001b[1;33m)\u001b[0m\u001b[1;33m\u001b[0m\u001b[1;33m\u001b[0m\u001b[0m\n",
      "\u001b[1;31mNameError\u001b[0m: name 'np' is not defined"
     ]
    }
   ],
   "source": [
    "tri, xx, yy = create_surface(np.array([[0,0],[1,1]]),(3,4))\n",
    "plt.triplot(xx,yy,tri)\n",
    "print(tri, np.array([xx,yy]).T)"
   ]
  },
  {
   "cell_type": "code",
   "execution_count": 18,
   "metadata": {
    "ExecuteTime": {
     "end_time": "2019-09-22T08:09:03.314280Z",
     "start_time": "2019-09-22T08:09:03.292267Z"
    }
   },
   "outputs": [],
   "source": [
    "def create_surface(bounding_box,nstep):\n",
    "    x = np.linspace(bounding_box[0,0],bounding_box[1,0],nstep[0])#\n",
    "    y = np.linspace(bounding_box[0,1],bounding_box[1,1],nstep[1])\n",
    "    xx, yy = np.meshgrid(x,y,indexing='xy')\n",
    "    def gi(i,j):\n",
    "        return i+j*nstep[0]\n",
    "    corners = np.array([[0,1,0,1],[0,0,1,1]])\n",
    "    i = np.arange(0, nstep[0]-1)\n",
    "\n",
    "    j = np.arange(0, nstep[1]-1)\n",
    "    ii,jj = np.meshgrid(i,j,indexing='ij')\n",
    "    corner_gi = gi(ii[:,:,None]+corners[None,None,0,:,],jj[:,:,None]+corners[None,None,1,:,])\n",
    "    corner_gi = corner_gi.reshape((nstep[0]-1)*(nstep[1]-1),4)\n",
    "    tri = np.vstack([corner_gi[:,:3],corner_gi[:,1:]])\n",
    "    return tri, xx.flatten(),yy.flatten()\n",
    "def create_box(bounding_box,nsteps):\n",
    "    #top and bottom\n",
    "    nsteps = np.array(nsteps)\n",
    "    tri, xx, yy = create_surface(bounding_box[0:2,:],nsteps[0:2])\n",
    "        \n",
    "    print(xx.shape, yy.shape)\n",
    "\n",
    "\n",
    "    zz = np.zeros(xx.shape)\n",
    "    zz[:] = bounding_box[1,2]\n",
    "    tri = np.vstack([tri,tri+np.max(tri)+1])\n",
    "    xx = np.hstack([xx,xx])\n",
    "    yy = np.hstack([yy,yy])\n",
    "    \n",
    "    z = np.zeros(zz.shape)\n",
    "    z[:] = bounding_box[0,2]\n",
    "    zz = np.hstack([zz,z])\n",
    "    # y faces\n",
    "    bb = np.copy(bounding_box[:,[0,2]])\n",
    "#     bb[1,1] = bounding_box[1,0]\n",
    "#     bb[0,1] = bounding_box[0,0]\n",
    "#     bb[1,0] = bounding_box[1,1]\n",
    "#     bb[0,0] = bounding_box[0,1]\n",
    "    t, x, z = create_surface(bb,nsteps[[0,2]])\n",
    "    tri = np.vstack([tri,t+np.max(tri)+1])\n",
    "    y = np.zeros(x.shape)\n",
    "    y[:] = boundary_points[0,1]\n",
    "    xx = np.hstack([xx,x])\n",
    "    zz = np.hstack([zz,z])\n",
    "    yy = np.hstack([yy,y])\n",
    "    \n",
    "    tri = np.vstack([tri,t+np.max(tri)+1])\n",
    "    y[:] = boundary_points[1,1]\n",
    "    xx = np.hstack([xx,x])\n",
    "    zz = np.hstack([zz,z])\n",
    "    yy = np.hstack([yy,y])\n",
    "\n",
    "    # x faces\n",
    "    t, y, z = create_surface(bounding_box[:,[1,2]],nsteps[[1,2]])\n",
    "    tri = np.vstack([tri,t+np.max(tri)+1])\n",
    "    x = np.zeros(y.shape)\n",
    "    x[:] = boundary_points[0,0]\n",
    "    xx = np.hstack([xx,x])\n",
    "    zz = np.hstack([zz,z])\n",
    "    yy = np.hstack([yy,y])\n",
    "    \n",
    "    tri = np.vstack([tri,t+np.max(tri)+1])\n",
    "    x[:] = boundary_points[1,0]\n",
    "    xx = np.hstack([xx,x])\n",
    "    zz = np.hstack([zz,z])\n",
    "    yy = np.hstack([yy,y])\n",
    "    \n",
    "    return tri, xx, yy, zz"
   ]
  },
  {
   "cell_type": "code",
   "execution_count": 19,
   "metadata": {
    "ExecuteTime": {
     "end_time": "2019-09-22T08:09:04.042699Z",
     "start_time": "2019-09-22T08:09:04.033681Z"
    },
    "scrolled": false
   },
   "outputs": [
    {
     "ename": "NameError",
     "evalue": "name 'np' is not defined",
     "output_type": "error",
     "traceback": [
      "\u001b[1;31m---------------------------------------------------------------------------\u001b[0m",
      "\u001b[1;31mNameError\u001b[0m                                 Traceback (most recent call last)",
      "\u001b[1;32m<ipython-input-19-a1aea679d327>\u001b[0m in \u001b[0;36m<module>\u001b[1;34m\u001b[0m\n\u001b[0;32m      1\u001b[0m \u001b[0morigin\u001b[0m \u001b[1;33m=\u001b[0m \u001b[1;33m(\u001b[0m\u001b[1;36m0\u001b[0m\u001b[1;33m,\u001b[0m\u001b[1;36m0\u001b[0m\u001b[1;33m,\u001b[0m\u001b[1;36m0\u001b[0m\u001b[1;33m)\u001b[0m\u001b[1;33m\u001b[0m\u001b[1;33m\u001b[0m\u001b[0m\n\u001b[0;32m      2\u001b[0m \u001b[0mmaximum\u001b[0m \u001b[1;33m=\u001b[0m \u001b[1;33m(\u001b[0m\u001b[1;36m10000\u001b[0m\u001b[1;33m,\u001b[0m\u001b[1;36m10000\u001b[0m\u001b[1;33m,\u001b[0m\u001b[1;36m5000\u001b[0m\u001b[1;33m)\u001b[0m\u001b[1;33m\u001b[0m\u001b[1;33m\u001b[0m\u001b[0m\n\u001b[1;32m----> 3\u001b[1;33m \u001b[0mboundary_points\u001b[0m \u001b[1;33m=\u001b[0m \u001b[0mnp\u001b[0m\u001b[1;33m.\u001b[0m\u001b[0mzeros\u001b[0m\u001b[1;33m(\u001b[0m\u001b[1;33m(\u001b[0m\u001b[1;36m2\u001b[0m\u001b[1;33m,\u001b[0m\u001b[1;36m3\u001b[0m\u001b[1;33m)\u001b[0m\u001b[1;33m)\u001b[0m\u001b[1;33m\u001b[0m\u001b[1;33m\u001b[0m\u001b[0m\n\u001b[0m\u001b[0;32m      4\u001b[0m \u001b[0mboundary_points\u001b[0m\u001b[1;33m[\u001b[0m\u001b[1;36m0\u001b[0m\u001b[1;33m,\u001b[0m\u001b[1;36m0\u001b[0m\u001b[1;33m]\u001b[0m \u001b[1;33m=\u001b[0m \u001b[0morigin\u001b[0m\u001b[1;33m[\u001b[0m\u001b[1;36m0\u001b[0m\u001b[1;33m]\u001b[0m\u001b[1;33m\u001b[0m\u001b[1;33m\u001b[0m\u001b[0m\n\u001b[0;32m      5\u001b[0m \u001b[0mboundary_points\u001b[0m\u001b[1;33m[\u001b[0m\u001b[1;36m0\u001b[0m\u001b[1;33m,\u001b[0m\u001b[1;36m1\u001b[0m\u001b[1;33m]\u001b[0m \u001b[1;33m=\u001b[0m \u001b[0morigin\u001b[0m\u001b[1;33m[\u001b[0m\u001b[1;36m1\u001b[0m\u001b[1;33m]\u001b[0m\u001b[1;33m\u001b[0m\u001b[1;33m\u001b[0m\u001b[0m\n",
      "\u001b[1;31mNameError\u001b[0m: name 'np' is not defined"
     ]
    }
   ],
   "source": [
    "origin = (0,0,0)\n",
    "maximum = (10000,10000,5000)\n",
    "boundary_points = np.zeros((2,3))\n",
    "boundary_points[0,0] = origin[0] \n",
    "boundary_points[0,1] = origin[1] \n",
    "boundary_points[0,2] = origin[2]\n",
    "boundary_points[1,0] = maximum[0]\n",
    "boundary_points[1,1] = maximum[1]\n",
    "boundary_points[1,2] = maximum[2]\n",
    "tri, xx, yy, zz = create_box(boundary_points,(10,10,5))\n",
    "n = 0\n",
    "# for i in range(len(xx)):\n",
    "#     if (xx[i],yy[i],zz[i]) in points:\n",
    "#         tri[tri==i] = points[xx[i],yy[i],zz[i]]\n",
    "#     points[(xx[i],yy[i],zz[i])] = n\n",
    "#     tri[tri==i] = n\n",
    "#     n+=1\n",
    "\n",
    "# points_np = np.zeros((n,3))\n",
    "# for k in points.keys():\n",
    "#     points_np[points[k],:] = np.array(k)\n",
    "# pointsp\n",
    "# points[i,:]\n",
    "points = np.zeros((len(xx),3))#\n",
    "points[:,0] = xx\n",
    "points[:,1] = yy\n",
    "points[:,2] = zz#np.array(xx,yy,zz).T\n"
   ]
  },
  {
   "cell_type": "code",
   "execution_count": 20,
   "metadata": {
    "ExecuteTime": {
     "end_time": "2019-09-22T08:09:04.355407Z",
     "start_time": "2019-09-22T08:09:04.352108Z"
    }
   },
   "outputs": [],
   "source": [
    "import lavavu"
   ]
  },
  {
   "cell_type": "code",
   "execution_count": 21,
   "metadata": {
    "ExecuteTime": {
     "end_time": "2019-09-22T08:09:04.861935Z",
     "start_time": "2019-09-22T08:09:04.856663Z"
    }
   },
   "outputs": [],
   "source": [
    "import ipywidgets as widgets\n",
    "from ipywidgets import interact, interact_manual"
   ]
  },
  {
   "cell_type": "code",
   "execution_count": 22,
   "metadata": {
    "ExecuteTime": {
     "end_time": "2019-09-22T08:09:05.157626Z",
     "start_time": "2019-09-22T08:09:05.102336Z"
    }
   },
   "outputs": [
    {
     "ename": "NameError",
     "evalue": "name 'points' is not defined",
     "output_type": "error",
     "traceback": [
      "\u001b[1;31m---------------------------------------------------------------------------\u001b[0m",
      "\u001b[1;31mNameError\u001b[0m                                 Traceback (most recent call last)",
      "\u001b[1;32m<ipython-input-22-270527eec137>\u001b[0m in \u001b[0;36m<module>\u001b[1;34m\u001b[0m\n\u001b[0;32m      2\u001b[0m \u001b[1;33m\u001b[0m\u001b[0m\n\u001b[0;32m      3\u001b[0m \u001b[0msurf\u001b[0m \u001b[1;33m=\u001b[0m \u001b[0mlv\u001b[0m\u001b[1;33m.\u001b[0m\u001b[0mtriangles\u001b[0m\u001b[1;33m(\u001b[0m\u001b[1;34m'test'\u001b[0m\u001b[1;33m)\u001b[0m\u001b[1;33m\u001b[0m\u001b[1;33m\u001b[0m\u001b[0m\n\u001b[1;32m----> 4\u001b[1;33m \u001b[0msurf\u001b[0m\u001b[1;33m.\u001b[0m\u001b[0mvertices\u001b[0m\u001b[1;33m(\u001b[0m\u001b[0mpoints\u001b[0m\u001b[1;33m)\u001b[0m\u001b[1;33m\u001b[0m\u001b[1;33m\u001b[0m\u001b[0m\n\u001b[0m\u001b[0;32m      5\u001b[0m \u001b[0msurf\u001b[0m\u001b[1;33m.\u001b[0m\u001b[0mindices\u001b[0m\u001b[1;33m(\u001b[0m\u001b[0mtri\u001b[0m\u001b[1;33m)\u001b[0m\u001b[1;33m\u001b[0m\u001b[1;33m\u001b[0m\u001b[0m\n\u001b[0;32m      6\u001b[0m \u001b[1;31m# surf['colour'] = 'blue'\u001b[0m\u001b[1;33m\u001b[0m\u001b[1;33m\u001b[0m\u001b[1;33m\u001b[0m\u001b[0m\n",
      "\u001b[1;31mNameError\u001b[0m: name 'points' is not defined"
     ]
    }
   ],
   "source": [
    "lv = lavavu.Viewer()\n",
    "\n",
    "surf = lv.triangles('test')\n",
    "surf.vertices(points)\n",
    "surf.indices(tri)\n",
    "# surf['colour'] = 'blue'\n",
    "surf.values(points[:,0],'num')\n",
    "surf['colourby'] = 'num'\n",
    "cmap = 'jet'\n",
    "surf.colourmap(cmap)\n",
    "print(points.shape[0])\n",
    "cpoints = lv.points('points',size=10)\n",
    "cpoints.vertices(points)\n",
    "lv.control.Panel()\n",
    "lv.control.show()\n",
    "\n",
    "#lv.interactive()"
   ]
  },
  {
   "cell_type": "code",
   "execution_count": null,
   "metadata": {
    "ExecuteTime": {
     "end_time": "2019-09-22T08:03:14.578583Z",
     "start_time": "2019-09-22T08:03:14.570498Z"
    }
   },
   "outputs": [],
   "source": [
    "interact(plot_triangles,ntri)"
   ]
  },
  {
   "cell_type": "code",
   "execution_count": null,
   "metadata": {
    "ExecuteTime": {
     "end_time": "2019-09-22T07:38:52.787442Z",
     "start_time": "2019-09-22T07:38:52.777086Z"
    }
   },
   "outputs": [],
   "source": [
    "bounding_box = np.array([[0,0],[3,1]])\n",
    "tri, x, y = create_surface(bounding_box,(20,10))\n",
    "z = np.zeros(x.shape)\n",
    "\n",
    "points = np.zeros((x.shape[0],3))\n",
    "points[x<=1,0] = x[x<=1]\n",
    "points[x<=1,1] = y[x<=1]\n",
    "points[x<=1,2] = z[x<=1]\n",
    "\n",
    "mask = np.logical_and(x>1, x<2)\n",
    "\n",
    "points[mask,0] = np.max(x[x<=1])#1#z[x>1]\n",
    "points[mask,1] = y[mask]\n",
    "points[mask,2] = x[mask]-np.max(x[x<=1])\n",
    "mask = x>2\n",
    "points[x>2,0] = x[x>2]-np.max(points[mask,0])-np.max(x[x<=1])\n",
    "points[x>2,1] = y[x>2]\n",
    "points[x>2,2] = z[x>2] + np.max(points[mask,2] )"
   ]
  },
  {
   "cell_type": "code",
   "execution_count": null,
   "metadata": {
    "ExecuteTime": {
     "end_time": "2019-09-22T07:38:52.795671Z",
     "start_time": "2019-09-22T07:38:52.791937Z"
    }
   },
   "outputs": [],
   "source": [
    "boundary_points[0:2,:]"
   ]
  },
  {
   "cell_type": "code",
   "execution_count": null,
   "metadata": {
    "ExecuteTime": {
     "end_time": "2019-09-22T07:38:52.805920Z",
     "start_time": "2019-09-22T07:38:52.796917Z"
    }
   },
   "outputs": [],
   "source": [
    "boundary_points[0:1,:]"
   ]
  },
  {
   "cell_type": "code",
   "execution_count": null,
   "metadata": {
    "ExecuteTime": {
     "end_time": "2019-09-22T07:38:52.818199Z",
     "start_time": "2019-09-22T07:38:52.808098Z"
    }
   },
   "outputs": [],
   "source": [
    "boundary_points[1,[0,2]]"
   ]
  },
  {
   "cell_type": "code",
   "execution_count": null,
   "metadata": {},
   "outputs": [],
   "source": []
  }
 ],
 "metadata": {
  "kernelspec": {
   "display_name": "Python 3",
   "language": "python",
   "name": "python3"
  },
  "language_info": {
   "codemirror_mode": {
    "name": "ipython",
    "version": 3
   },
   "file_extension": ".py",
   "mimetype": "text/x-python",
   "name": "python",
   "nbconvert_exporter": "python",
   "pygments_lexer": "ipython3",
   "version": "3.8.1"
  },
  "pycharm": {
   "stem_cell": {
    "cell_type": "raw",
    "metadata": {
     "collapsed": false
    },
    "source": []
   }
  },
  "varInspector": {
   "cols": {
    "lenName": 16,
    "lenType": 16,
    "lenVar": 40
   },
   "kernels_config": {
    "python": {
     "delete_cmd_postfix": "",
     "delete_cmd_prefix": "del ",
     "library": "var_list.py",
     "varRefreshCmd": "print(var_dic_list())"
    },
    "r": {
     "delete_cmd_postfix": ") ",
     "delete_cmd_prefix": "rm(",
     "library": "var_list.r",
     "varRefreshCmd": "cat(var_dic_list()) "
    }
   },
   "types_to_exclude": [
    "module",
    "function",
    "builtin_function_or_method",
    "instance",
    "_Feature"
   ],
   "window_display": false
  }
 },
 "nbformat": 4,
 "nbformat_minor": 2
}
