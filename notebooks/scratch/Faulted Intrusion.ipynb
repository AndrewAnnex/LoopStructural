{
 "cells": [
  {
   "cell_type": "code",
   "execution_count": 1,
   "metadata": {
    "ExecuteTime": {
     "end_time": "2020-01-06T23:21:02.625640Z",
     "start_time": "2020-01-06T23:21:01.524807Z"
    }
   },
   "outputs": [],
   "source": [
    "from LoopStructural import GeologicalModel\n",
    "from LoopStructural.visualisation import LavaVuModelViewer\n",
    "from LoopStructural.datasets import load_intrusion\n",
    "import pandas as pd \n",
    "import numpy as np"
   ]
  },
  {
   "cell_type": "code",
   "execution_count": 2,
   "metadata": {
    "ExecuteTime": {
     "end_time": "2020-01-06T23:21:02.636123Z",
     "start_time": "2020-01-06T23:21:02.627784Z"
    }
   },
   "outputs": [],
   "source": [
    "data, bb = load_intrusion()\n",
    "newdata = data[np.logical_and(data['type']=='fault',data['coord']==0.0)]\n",
    "newdata.to_pickle('newdata.pkl')\n",
    "np.savetxt('bb.txt',bb)"
   ]
  },
  {
   "cell_type": "markdown",
   "metadata": {},
   "source": [
    "### Modelling faults using structural frames\n",
    "Standard implicit modelling techniques either treat faults as domain boundaries or use a step function in the implicit function to capture the displacement in the faulted surface.\n",
    "\n",
    "Adding faults into the implicit function using step functions is limited because this does not capture the kinematics of the fault. It effectively defines the fault displacement by adding a value to the scalar field on the hanging wall of the fault. \n",
    "\n",
    "LoopStructural applies structural frames to the fault geometry to capture the geometry and kinematics of the fault. A fault frame consisting of the fault surface, fault slip direction and fault extent are built from observations. The geometry of the deformed surface is then interpolated by first restoring the observations by combining the fault frame and an expected displacement model. "
   ]
  },
  {
   "cell_type": "code",
   "execution_count": 3,
   "metadata": {
    "ExecuteTime": {
     "end_time": "2020-01-06T23:21:07.940028Z",
     "start_time": "2020-01-06T23:21:02.638487Z"
    }
   },
   "outputs": [
    {
     "name": "stdout",
     "output_type": "stream",
     "text": [
      "n tetra 5040\n",
      "(5040, 3) (5040, 3, 4)\n",
      "(5040, 3) (5040, 3, 4)\n",
      "(5040, 3) (5040, 3, 4)\n",
      "n tetra 3025\n"
     ]
    },
    {
     "ename": "IndexError",
     "evalue": "index 967 is out of bounds for axis 0 with size 864",
     "output_type": "error",
     "traceback": [
      "\u001b[1;31m---------------------------------------------------------------------------\u001b[0m",
      "\u001b[1;31mIndexError\u001b[0m                                Traceback (most recent call last)",
      "\u001b[1;32m<ipython-input-3-b4b22eccd7cb>\u001b[0m in \u001b[0;36m<module>\u001b[1;34m\u001b[0m\n\u001b[0;32m      6\u001b[0m                                         \u001b[0mnelements\u001b[0m\u001b[1;33m=\u001b[0m\u001b[1;36m5000\u001b[0m\u001b[1;33m,\u001b[0m\u001b[1;33m\u001b[0m\u001b[1;33m\u001b[0m\u001b[0m\n\u001b[0;32m      7\u001b[0m                                         \u001b[0minterpolatortype\u001b[0m\u001b[1;33m=\u001b[0m\u001b[1;34m'PLI'\u001b[0m\u001b[1;33m,\u001b[0m\u001b[1;33m\u001b[0m\u001b[1;33m\u001b[0m\u001b[0m\n\u001b[1;32m----> 8\u001b[1;33m                                         \u001b[0mregularisation\u001b[0m\u001b[1;33m=\u001b[0m\u001b[1;36m0.3\u001b[0m\u001b[1;33m\u001b[0m\u001b[1;33m\u001b[0m\u001b[0m\n\u001b[0m\u001b[0;32m      9\u001b[0m                                        )\n",
      "\u001b[1;32mc:\\users\\lgrose\\.conda\\envs\\loop\\lib\\site-packages\\LoopStructural\\modelling\\core\\geological_model.py\u001b[0m in \u001b[0;36mcreate_and_add_foliation\u001b[1;34m(self, series_surface_data, **kwargs)\u001b[0m\n\u001b[0;32m    334\u001b[0m \u001b[1;33m\u001b[0m\u001b[0m\n\u001b[0;32m    335\u001b[0m         \u001b[1;31m# build feature\u001b[0m\u001b[1;33m\u001b[0m\u001b[1;33m\u001b[0m\u001b[1;33m\u001b[0m\u001b[0m\n\u001b[1;32m--> 336\u001b[1;33m         \u001b[0mseries_feature\u001b[0m \u001b[1;33m=\u001b[0m \u001b[0mseries_builder\u001b[0m\u001b[1;33m.\u001b[0m\u001b[0mbuild\u001b[0m\u001b[1;33m(\u001b[0m\u001b[1;33m**\u001b[0m\u001b[0mkwargs\u001b[0m\u001b[1;33m)\u001b[0m\u001b[1;33m\u001b[0m\u001b[1;33m\u001b[0m\u001b[0m\n\u001b[0m\u001b[0;32m    337\u001b[0m         \u001b[0mseries_feature\u001b[0m\u001b[1;33m.\u001b[0m\u001b[0mtype\u001b[0m \u001b[1;33m=\u001b[0m \u001b[1;34m'series'\u001b[0m\u001b[1;33m\u001b[0m\u001b[1;33m\u001b[0m\u001b[0m\n\u001b[0;32m    338\u001b[0m         \u001b[1;31m# see if any unconformities are above this feature if so add region\u001b[0m\u001b[1;33m\u001b[0m\u001b[1;33m\u001b[0m\u001b[1;33m\u001b[0m\u001b[0m\n",
      "\u001b[1;32mc:\\users\\lgrose\\.conda\\envs\\loop\\lib\\site-packages\\LoopStructural\\modelling\\features\\geological_feature_builder.py\u001b[0m in \u001b[0;36mbuild\u001b[1;34m(self, fold, fold_weights, data_region, **kwargs)\u001b[0m\n\u001b[0;32m    419\u001b[0m                 \u001b[0mkwargs\u001b[0m\u001b[1;33m[\u001b[0m\u001b[1;34m'cgw'\u001b[0m\u001b[1;33m]\u001b[0m \u001b[1;33m=\u001b[0m \u001b[1;36m0.\u001b[0m\u001b[1;33m\u001b[0m\u001b[1;33m\u001b[0m\u001b[0m\n\u001b[0;32m    420\u001b[0m \u001b[1;33m\u001b[0m\u001b[0m\n\u001b[1;32m--> 421\u001b[1;33m         \u001b[0mself\u001b[0m\u001b[1;33m.\u001b[0m\u001b[0minterpolator\u001b[0m\u001b[1;33m.\u001b[0m\u001b[0msetup_interpolator\u001b[0m\u001b[1;33m(\u001b[0m\u001b[1;33m**\u001b[0m\u001b[0mkwargs\u001b[0m\u001b[1;33m)\u001b[0m\u001b[1;33m\u001b[0m\u001b[1;33m\u001b[0m\u001b[0m\n\u001b[0m\u001b[0;32m    422\u001b[0m         \u001b[0mself\u001b[0m\u001b[1;33m.\u001b[0m\u001b[0minterpolator\u001b[0m\u001b[1;33m.\u001b[0m\u001b[0msolve_system\u001b[0m\u001b[1;33m(\u001b[0m\u001b[1;33m**\u001b[0m\u001b[0mkwargs\u001b[0m\u001b[1;33m)\u001b[0m\u001b[1;33m\u001b[0m\u001b[1;33m\u001b[0m\u001b[0m\n\u001b[0;32m    423\u001b[0m         return GeologicalFeature(self.name,\n",
      "\u001b[1;32mc:\\users\\lgrose\\.conda\\envs\\loop\\lib\\site-packages\\LoopStructural\\interpolators\\geological_interpolator.py\u001b[0m in \u001b[0;36msetup_interpolator\u001b[1;34m(self, **kwargs)\u001b[0m\n\u001b[0;32m    243\u001b[0m         \u001b[0mRuns\u001b[0m \u001b[0mall\u001b[0m \u001b[0mof\u001b[0m \u001b[0mthe\u001b[0m \u001b[0mrequired\u001b[0m \u001b[0msetting\u001b[0m \u001b[0mup\u001b[0m \u001b[0mstuff\u001b[0m\u001b[1;33m\u001b[0m\u001b[1;33m\u001b[0m\u001b[0m\n\u001b[0;32m    244\u001b[0m         \"\"\"\n\u001b[1;32m--> 245\u001b[1;33m         \u001b[0mself\u001b[0m\u001b[1;33m.\u001b[0m\u001b[0m_setup_interpolator\u001b[0m\u001b[1;33m(\u001b[0m\u001b[1;33m**\u001b[0m\u001b[0mkwargs\u001b[0m\u001b[1;33m)\u001b[0m\u001b[1;33m\u001b[0m\u001b[1;33m\u001b[0m\u001b[0m\n\u001b[0m\u001b[0;32m    246\u001b[0m \u001b[1;33m\u001b[0m\u001b[0m\n\u001b[0;32m    247\u001b[0m     \u001b[1;32mdef\u001b[0m \u001b[0msolve_system\u001b[0m\u001b[1;33m(\u001b[0m\u001b[0mself\u001b[0m\u001b[1;33m,\u001b[0m \u001b[1;33m**\u001b[0m\u001b[0mkwargs\u001b[0m\u001b[1;33m)\u001b[0m\u001b[1;33m:\u001b[0m\u001b[1;33m\u001b[0m\u001b[1;33m\u001b[0m\u001b[0m\n",
      "\u001b[1;32mc:\\users\\lgrose\\.conda\\envs\\loop\\lib\\site-packages\\LoopStructural\\interpolators\\piecewiselinear_interpolator.py\u001b[0m in \u001b[0;36m_setup_interpolator\u001b[1;34m(self, **kwargs)\u001b[0m\n\u001b[0;32m     77\u001b[0m         \u001b[0mself\u001b[0m\u001b[1;33m.\u001b[0m\u001b[0madd_gradient_ctr_pts\u001b[0m\u001b[1;33m(\u001b[0m\u001b[0mself\u001b[0m\u001b[1;33m.\u001b[0m\u001b[0minterpolation_weights\u001b[0m\u001b[1;33m[\u001b[0m\u001b[1;34m'gpw'\u001b[0m\u001b[1;33m]\u001b[0m\u001b[1;33m)\u001b[0m\u001b[1;33m\u001b[0m\u001b[1;33m\u001b[0m\u001b[0m\n\u001b[0;32m     78\u001b[0m         \u001b[0mself\u001b[0m\u001b[1;33m.\u001b[0m\u001b[0madd_norm_ctr_pts\u001b[0m\u001b[1;33m(\u001b[0m\u001b[0mself\u001b[0m\u001b[1;33m.\u001b[0m\u001b[0minterpolation_weights\u001b[0m\u001b[1;33m[\u001b[0m\u001b[1;34m'npw'\u001b[0m\u001b[1;33m]\u001b[0m\u001b[1;33m)\u001b[0m\u001b[1;33m\u001b[0m\u001b[1;33m\u001b[0m\u001b[0m\n\u001b[1;32m---> 79\u001b[1;33m         \u001b[0mself\u001b[0m\u001b[1;33m.\u001b[0m\u001b[0madd_ctr_pts\u001b[0m\u001b[1;33m(\u001b[0m\u001b[0mself\u001b[0m\u001b[1;33m.\u001b[0m\u001b[0minterpolation_weights\u001b[0m\u001b[1;33m[\u001b[0m\u001b[1;34m'cpw'\u001b[0m\u001b[1;33m]\u001b[0m\u001b[1;33m)\u001b[0m\u001b[1;33m\u001b[0m\u001b[1;33m\u001b[0m\u001b[0m\n\u001b[0m\u001b[0;32m     80\u001b[0m         \u001b[0mself\u001b[0m\u001b[1;33m.\u001b[0m\u001b[0madd_tangent_ctr_pts\u001b[0m\u001b[1;33m(\u001b[0m\u001b[0mself\u001b[0m\u001b[1;33m.\u001b[0m\u001b[0minterpolation_weights\u001b[0m\u001b[1;33m[\u001b[0m\u001b[1;34m'tpw'\u001b[0m\u001b[1;33m]\u001b[0m\u001b[1;33m)\u001b[0m\u001b[1;33m\u001b[0m\u001b[1;33m\u001b[0m\u001b[0m\n\u001b[0;32m     81\u001b[0m \u001b[1;33m\u001b[0m\u001b[0m\n",
      "\u001b[1;32mc:\\users\\lgrose\\.conda\\envs\\loop\\lib\\site-packages\\LoopStructural\\interpolators\\piecewiselinear_interpolator.py\u001b[0m in \u001b[0;36madd_ctr_pts\u001b[1;34m(self, w)\u001b[0m\n\u001b[0;32m    255\u001b[0m             \u001b[0mgi\u001b[0m\u001b[1;33m[\u001b[0m\u001b[1;33m:\u001b[0m\u001b[1;33m]\u001b[0m \u001b[1;33m=\u001b[0m \u001b[1;33m-\u001b[0m\u001b[1;36m1\u001b[0m\u001b[1;33m\u001b[0m\u001b[1;33m\u001b[0m\u001b[0m\n\u001b[0;32m    256\u001b[0m             \u001b[0mgi\u001b[0m\u001b[1;33m[\u001b[0m\u001b[0mself\u001b[0m\u001b[1;33m.\u001b[0m\u001b[0mregion\u001b[0m\u001b[1;33m]\u001b[0m \u001b[1;33m=\u001b[0m \u001b[0mnp\u001b[0m\u001b[1;33m.\u001b[0m\u001b[0marange\u001b[0m\u001b[1;33m(\u001b[0m\u001b[1;36m0\u001b[0m\u001b[1;33m,\u001b[0m \u001b[0mself\u001b[0m\u001b[1;33m.\u001b[0m\u001b[0mnx\u001b[0m\u001b[1;33m)\u001b[0m\u001b[1;33m\u001b[0m\u001b[1;33m\u001b[0m\u001b[0m\n\u001b[1;32m--> 257\u001b[1;33m             \u001b[0midc\u001b[0m \u001b[1;33m=\u001b[0m \u001b[0mgi\u001b[0m\u001b[1;33m[\u001b[0m\u001b[0midc\u001b[0m\u001b[1;33m]\u001b[0m\u001b[1;33m\u001b[0m\u001b[1;33m\u001b[0m\u001b[0m\n\u001b[0m\u001b[0;32m    258\u001b[0m             \u001b[0moutside\u001b[0m \u001b[1;33m=\u001b[0m \u001b[1;33m~\u001b[0m\u001b[0mnp\u001b[0m\u001b[1;33m.\u001b[0m\u001b[0many\u001b[0m\u001b[1;33m(\u001b[0m\u001b[0midc\u001b[0m \u001b[1;33m==\u001b[0m \u001b[1;33m-\u001b[0m\u001b[1;36m1\u001b[0m\u001b[1;33m,\u001b[0m \u001b[0maxis\u001b[0m\u001b[1;33m=\u001b[0m\u001b[1;36m1\u001b[0m\u001b[1;33m)\u001b[0m\u001b[1;33m\u001b[0m\u001b[1;33m\u001b[0m\u001b[0m\n\u001b[0;32m    259\u001b[0m             self.add_constraints_to_least_squares(A[outside,:] * w,\n",
      "\u001b[1;31mIndexError\u001b[0m: index 967 is out of bounds for axis 0 with size 864"
     ]
    }
   ],
   "source": [
    "model = GeologicalModel(bb[0,:],bb[1,:])\n",
    "model.set_model_data(data)\n",
    "\n",
    "fault = model.create_and_add_fault('fault',-500,nelements=5000,steps=4,interpolatortype='PLI',buffer=0.2)\n",
    "strati = model.create_and_add_foliation('strati',\n",
    "                                        nelements=5000,\n",
    "                                        interpolatortype='PLI',\n",
    "                                        regularisation=0.3\n",
    "                                       )"
   ]
  },
  {
   "cell_type": "code",
   "execution_count": null,
   "metadata": {
    "ExecuteTime": {
     "end_time": "2020-01-06T23:21:07.944231Z",
     "start_time": "2020-01-06T23:21:07.941763Z"
    }
   },
   "outputs": [],
   "source": [
    "rotation = [-85.33049774169922, -73.83744049072266, -6.1772356033325195]"
   ]
  },
  {
   "cell_type": "markdown",
   "metadata": {},
   "source": [
    "### Points before faulting with fault surface"
   ]
  },
  {
   "cell_type": "code",
   "execution_count": null,
   "metadata": {
    "ExecuteTime": {
     "end_time": "2020-01-06T23:21:08.551474Z",
     "start_time": "2020-01-06T23:21:07.946089Z"
    },
    "scrolled": false
   },
   "outputs": [],
   "source": [
    "viewer = LavaVuModelViewer(model)\n",
    "viewer.add_isosurface(fault['feature'],\n",
    "                      isovalue=0,\n",
    "                      colour='black'\n",
    "#                       slices=[0,1]#nslices=10\n",
    "                      \n",
    "                     )\n",
    "# viewer.add_isosurface(model.features[1],\n",
    "#                      voxet=model.voxet(),\n",
    "#                      isovalue=0)\n",
    "# # viewer.add_data(model.features[0][0])\n",
    "viewer.add_data(strati['feature'])\n",
    "# viewer.add_points(model.data[model.data['type']=='strati'][['X','Y','Z']],name='prefault',pointsize=5,colour='blue')\n",
    "viewer.lv['border'] = 0\n",
    "# viewer.lv.rotatey(-75)\n",
    "# viewer.lv.rotatey(-100)\n",
    "# viewer.lv.rotatex(-15)\n",
    "# viewer.lv.rotatez(-90)\n",
    "\n",
    "viewer.lv.rotate(rotation)\n",
    "viewer.lv.display()\n",
    "viewer.lv.image('intrusion_data_and_fault.png')\n",
    "# viewer.interactive()"
   ]
  },
  {
   "cell_type": "markdown",
   "metadata": {},
   "source": [
    "### Create different model and add faults, show displacement vector on hangingwall points"
   ]
  },
  {
   "cell_type": "code",
   "execution_count": null,
   "metadata": {
    "ExecuteTime": {
     "end_time": "2020-01-06T23:22:44.403851Z",
     "start_time": "2020-01-06T23:22:37.010879Z"
    }
   },
   "outputs": [],
   "source": [
    "model = GeologicalModel(bb[0,:],bb[1,:])\n",
    "model.set_model_data(data)\n",
    "fault = model.create_and_add_fault('fault',-500,nelements=5000,steps=4,interpolatortype='FDI')\n",
    "strati = model.create_and_add_foliation('strati',\n",
    "                                        nelements=5000,\n",
    "                                        interpolatortype='FDI',\n",
    "                                        regularisation=0.3\n",
    "                                       )\n"
   ]
  },
  {
   "cell_type": "code",
   "execution_count": null,
   "metadata": {
    "ExecuteTime": {
     "end_time": "2020-01-06T23:22:46.247829Z",
     "start_time": "2020-01-06T23:22:45.746433Z"
    }
   },
   "outputs": [],
   "source": [
    "pts = model.data[['X','Y','Z']]\n",
    "mask = fault['feature'].evaluate(pts.to_numpy())\n",
    "viewer = LavaVuModelViewer(model)\n",
    "viewer.add_isosurface(fault['feature'],\n",
    "                      isovalue=0,\n",
    "                      colour='black'\n",
    "#                       slices=[0,1]#nslices=10\n",
    "                      \n",
    "                     )\n",
    "# print(mask)\n",
    "viewer.add_vector_field(fault['feature'][1],locations=pts.to_numpy()[mask,:],colour='red')\n",
    "viewer.lv.rotate(rotation)\n",
    "viewer.lv['border'] = 0\n",
    "viewer.lv.image('intrusion_data_vectors.png')\n",
    "viewer.lv.display()"
   ]
  },
  {
   "cell_type": "markdown",
   "metadata": {},
   "source": [
    "### Unfaulted points"
   ]
  },
  {
   "cell_type": "code",
   "execution_count": null,
   "metadata": {
    "ExecuteTime": {
     "end_time": "2020-01-06T23:22:49.160331Z",
     "start_time": "2020-01-06T23:22:48.618743Z"
    }
   },
   "outputs": [],
   "source": [
    "viewer = LavaVuModelViewer(model)\n",
    "viewer.add_isosurface(fault['feature'],\n",
    "                     voxet=model.voxet(),\n",
    "                      isovalue=0,\n",
    "                      colour='black'\n",
    "#                       slices=[0,1]#nslices=10\n",
    "                      \n",
    "                     )\n",
    "# viewer.add_isosurface(model.features[1],\n",
    "#                      voxet=model.voxet(),\n",
    "#                      isovalue=0)\n",
    "# viewer.add_data(model.features[0][0])\n",
    "viewer.add_data(strati['feature'])\n",
    "viewer.add_points(model.data[model.data['type']=='strati'][['X','Y','Z']],name='prefault',pointsize=5,colour='blue')\n",
    "viewer.lv['border'] = 0\n",
    "viewer.lv.rotate(rotation)\n",
    "# viewer.lv.rotate([-30.713947296142578, -86.09600067138672, -123.54869842529297])\n",
    "viewer.lv.display()\n",
    "viewer.lv.image('data_unfaulted.png')"
   ]
  },
  {
   "cell_type": "code",
   "execution_count": null,
   "metadata": {
    "ExecuteTime": {
     "end_time": "2020-01-06T23:21:16.894321Z",
     "start_time": "2020-01-06T23:21:15.077221Z"
    }
   },
   "outputs": [],
   "source": [
    "viewer = LavaVuModelViewer(model)\n",
    "viewer.nsteps = (100,100,100)\n",
    "viewer.add_isosurface(fault['feature'],\n",
    "#                      voxet=model.voxet(),\n",
    "                      isovalue=0,\n",
    "                      colour='black'\n",
    "#                       slices=[0,1]#nslices=10\n",
    "                      \n",
    "                     )\n",
    "strati['feature'].faults = []\n",
    "viewer.add_isosurface(strati['feature'],\n",
    "#                      voxet=model.voxet(),\n",
    "                     isovalue=0)\n",
    "# viewer.add_data(model.features[0][0])\n",
    "# viewer.add_data(model.features[-1])\n",
    "# viewer.add_points(model.data[model.data['type']=='strati'][['X','Y','Z']],name='prefault',pointsize=5,colour='blue')\n",
    "viewer.lv['border'] = 0\n",
    "viewer.lv.rotate(rotation)\n",
    "# viewer.lv.rotate([-30.713947296142578, -86.09600067138672, -123.54869842529297])\n",
    "viewer.lv.display()"
   ]
  },
  {
   "cell_type": "code",
   "execution_count": null,
   "metadata": {
    "ExecuteTime": {
     "end_time": "2020-01-06T23:21:17.336506Z",
     "start_time": "2020-01-06T23:21:16.896185Z"
    }
   },
   "outputs": [],
   "source": [
    "viewer = LavaVuModelViewer(model)\n",
    "# viewer.add_isosurface(fault['feature'],\n",
    "#                       isovalue=0,\n",
    "#                       colour='black'\n",
    "# #                       slices=[0,1]#nslices=10\n",
    "                      \n",
    "#                      )\n",
    "viewer.add_isosurface(strati['feature'],\n",
    "                     isovalue=0)\n",
    "# viewer.add_data(model.features[0][0])\n",
    "# viewer.add_data(model.features[-1])\n",
    "# viewer.add_points(model.data[model.data['type']=='strati'][['X','Y','Z']],name='prefault',pointsize=5,colour='blue')\n",
    "viewer.lv['border'] = 0\n",
    "viewer.lv.rotate(rotation)\n",
    "# viewer.lv.rotate([-30.713947296142578, -86.09600067138672, -123.54869842529297])\n",
    "viewer.lv.display()"
   ]
  },
  {
   "cell_type": "code",
   "execution_count": null,
   "metadata": {},
   "outputs": [],
   "source": []
  }
 ],
 "metadata": {
  "kernelspec": {
   "display_name": "loop",
   "language": "python",
   "name": "loop"
  },
  "language_info": {
   "codemirror_mode": {
    "name": "ipython",
    "version": 3
   },
   "file_extension": ".py",
   "mimetype": "text/x-python",
   "name": "python",
   "nbconvert_exporter": "python",
   "pygments_lexer": "ipython3",
   "version": "3.7.4"
  },
  "varInspector": {
   "cols": {
    "lenName": 16,
    "lenType": 16,
    "lenVar": 40
   },
   "kernels_config": {
    "python": {
     "delete_cmd_postfix": "",
     "delete_cmd_prefix": "del ",
     "library": "var_list.py",
     "varRefreshCmd": "print(var_dic_list())"
    },
    "r": {
     "delete_cmd_postfix": ") ",
     "delete_cmd_prefix": "rm(",
     "library": "var_list.r",
     "varRefreshCmd": "cat(var_dic_list()) "
    }
   },
   "types_to_exclude": [
    "module",
    "function",
    "builtin_function_or_method",
    "instance",
    "_Feature"
   ],
   "window_display": false
  }
 },
 "nbformat": 4,
 "nbformat_minor": 2
}
