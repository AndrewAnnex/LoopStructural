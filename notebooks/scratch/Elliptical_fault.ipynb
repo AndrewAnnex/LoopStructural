{
 "cells": [
  {
   "cell_type": "code",
   "execution_count": 1,
   "metadata": {
    "ExecuteTime": {
     "end_time": "2019-11-29T04:43:53.787471Z",
     "start_time": "2019-11-29T04:43:52.854594Z"
    }
   },
   "outputs": [],
   "source": [
    "from LoopStructural import GeologicalModel\n",
    "from LoopStructural.visualisation import LavaVuModelViewer\n",
    "\n",
    "from LoopStructural.modelling.fault.fault_function import CubicFunction, FaultDisplacement, Ones, Composite\n",
    "from LoopStructural.modelling.fault.fault_function_feature import FaultDisplacementFeature\n",
    "\n",
    "from LoopStructural.datasets import value_headers, strike_dip_headers\n",
    "import pandas as pd\n",
    "import numpy as np\n",
    "import matplotlib.pyplot as plt\n",
    "%matplotlib inline"
   ]
  },
  {
   "cell_type": "code",
   "execution_count": 3,
   "metadata": {
    "ExecuteTime": {
     "end_time": "2019-11-29T04:44:02.922641Z",
     "start_time": "2019-11-29T04:44:02.903043Z"
    }
   },
   "outputs": [],
   "source": [
    "import os\n",
    "output='eliptical'\n",
    "if not os.path.exists(output):\n",
    "    os.mkdir(output)\n",
    "bb = np.array([[0,0,0],\n",
    "               [10,10,10]])\n",
    "fault_value_data = pd.DataFrame([[5,5,9,0,0],\n",
    "                                 [5,5,5,0,1],\n",
    "#                                  [7,7,7,1,1],\n",
    "                                 [5,0,5,0,2],\n",
    "                                 [5,10,5,1,2],\n",
    "                                ],\n",
    "                                columns=value_headers()+['coord'])\n",
    "fault_value_data['type'] = 'fault'\n",
    "fault_strike_data = pd.DataFrame([[5,5,5,0,45,0],\n",
    "                                  [5,5,5,180,45,1],\n",
    "                                 [5,5,5,90,90,2]],\n",
    "                                columns=strike_dip_headers()+['coord'])\n",
    "fault_strike_data['type'] = 'fault'\n",
    "strati_data = pd.DataFrame([[5,5,5,0]],columns=value_headers())\n",
    "strati_data['type'] = 'strati'\n",
    "strati_strike = pd.DataFrame([[5,5,5,0,0]],columns=strike_dip_headers())\n",
    "strati_strike['type'] = 'strati'"
   ]
  },
  {
   "cell_type": "code",
   "execution_count": 4,
   "metadata": {
    "ExecuteTime": {
     "end_time": "2019-11-29T04:44:03.512881Z",
     "start_time": "2019-11-29T04:44:03.497390Z"
    }
   },
   "outputs": [],
   "source": [
    "data = pd.concat([fault_strike_data,fault_value_data,strati_strike,strati_data],sort=False)"
   ]
  },
  {
   "cell_type": "code",
   "execution_count": 5,
   "metadata": {
    "ExecuteTime": {
     "end_time": "2019-11-29T04:44:03.871446Z",
     "start_time": "2019-11-29T04:44:03.865358Z"
    }
   },
   "outputs": [],
   "source": [
    "rotation = [76.60582733154297, -13.266486167907715, -176.5645294189453]"
   ]
  },
  {
   "cell_type": "markdown",
   "metadata": {},
   "source": [
    "### Set up the model"
   ]
  },
  {
   "cell_type": "code",
   "execution_count": 6,
   "metadata": {
    "ExecuteTime": {
     "end_time": "2019-11-29T04:44:35.886718Z",
     "start_time": "2019-11-29T04:44:04.833661Z"
    }
   },
   "outputs": [],
   "source": [
    "model = GeologicalModel(bb[0,:],bb[1,:])\n",
    "model.set_model_data(data)\n",
    "\n",
    "hw = CubicFunction()\n",
    "hw.add_cstr(0,1)\n",
    "hw.add_grad(0,0)\n",
    "hw.add_cstr(1,0)\n",
    "# hw.add_cstr(1,1)\n",
    "\n",
    "hw.add_grad(1,0)\n",
    "hw.add_max(1)\n",
    "fw =CubicFunction()\n",
    "fw.add_cstr(0,-1)\n",
    "fw.add_grad(0,0)\n",
    "fw.add_cstr(-1,0)\n",
    "fw.add_grad(-1,0)\n",
    "fw.add_min(-1)\n",
    "gyf = CubicFunction()\n",
    "gyf.add_cstr(-1,0)\n",
    "gyf.add_cstr(1,0)\n",
    "gyf.add_cstr(-0.2,1)\n",
    "gyf.add_cstr(0.2,1)\n",
    "gyf.add_grad(0,0)\n",
    "gyf.add_min(-1)\n",
    "gyf.add_max(1)\n",
    "gzf = CubicFunction()\n",
    "gzf.add_cstr(-1,0)\n",
    "gzf.add_cstr(1,0)\n",
    "gzf.add_cstr(-0.2,1)\n",
    "gzf.add_cstr(0.2,1)\n",
    "gzf.add_grad(0,0)\n",
    "gzf.add_min(-1)\n",
    "gzf.add_max(1)\n",
    "gxf = Composite(hw,fw)\n",
    "\n",
    "\n",
    "fault_displacement = FaultDisplacement(gx=gxf,gy=gyf,gz=gzf,\n",
    "                                      gxmin=-1,gxmax=1,\n",
    "                                      gzmin=.5,gzmax=1.5,\n",
    "                                       gymin=0,gymax=1.5)\n",
    "\n",
    "fault = model.create_and_add_fault('fault',\n",
    "                                   1,\n",
    "                                   nelements=5000,\n",
    "                                   interpolatortype='FDI',\n",
    "                                   solver='lu',\n",
    "                                   damp=True,\n",
    "                                   faultfunction=fault_displacement,buffer=0.2)\n",
    "strati = model.create_and_add_foliation('strati',\n",
    "                                        nelements=5000,\n",
    "                                        interpolatortype='FDI',\n",
    "                                        solver='lu',\n",
    "                                        damp=True,buffer=0.5)\n",
    "f1_displacement_feature = FaultDisplacementFeature(fault['feature'].faultframe,fault_displacement)\n"
   ]
  },
  {
   "cell_type": "markdown",
   "metadata": {},
   "source": [
    "### Fault displacement figure"
   ]
  },
  {
   "cell_type": "code",
   "execution_count": null,
   "metadata": {
    "ExecuteTime": {
     "end_time": "2019-11-29T04:43:53.940423Z",
     "start_time": "2019-11-29T04:43:50.483Z"
    }
   },
   "outputs": [],
   "source": [
    "fregion = lambda pos : f1_displacement_feature.evaluate_value(pos) > 0.01\n"
   ]
  },
  {
   "cell_type": "code",
   "execution_count": null,
   "metadata": {
    "ExecuteTime": {
     "end_time": "2019-11-29T04:43:53.941288Z",
     "start_time": "2019-11-29T04:43:50.485Z"
    }
   },
   "outputs": [],
   "source": [
    "viewer = LavaVuModelViewer(model)\n",
    "\n",
    "# f1_displacement_feature = FaultDisplacementFeature(fault['feature'].faultframe,fault_displacement)\n",
    "viewer.add_scalar_field(f1_displacement_feature,cmap='viridis',vmin=-1,xmax=1)\n",
    "# viewer.lv.rotatey(90)\n",
    "viewer.lv.rotate(rotation)\n",
    "viewer.lv.display()\n",
    "viewer.lv.image(output+'/fault_displacement.png')"
   ]
  },
  {
   "cell_type": "markdown",
   "metadata": {},
   "source": [
    "### Faulted stratigraphy figure"
   ]
  },
  {
   "cell_type": "code",
   "execution_count": null,
   "metadata": {
    "ExecuteTime": {
     "end_time": "2019-11-29T04:43:53.942248Z",
     "start_time": "2019-11-29T04:43:50.488Z"
    }
   },
   "outputs": [],
   "source": [
    "viewer = LavaVuModelViewer(model)\n",
    "viewer.add_isosurface(fault['feature'],isovalue=0)\n",
    "for i in range(3):\n",
    "    viewer.add_data(fault['feature'][i])\n",
    "# viewer.add_isosurface(fault['feature'][1],nslices=5)\n",
    "# # viewer.add_isosurface(fault['feature'][2],nslices=5)\n",
    "viewer.add_isosurface(strati['feature'],\n",
    "                     nslices=5)\n",
    "viewer.add_scalar_field(strati['feature'],cmap='tab20')\n",
    "# viewer.add_scalar_field(f1_displacement_feature,cmap='rainbow')\n",
    "viewer.lv.rotate(rotation)\n",
    "viewer.lv.display()\n",
    "viewer.lv.image(output+'/stratigraphy.png')\n",
    "# viewer.interactive()"
   ]
  },
  {
   "cell_type": "markdown",
   "metadata": {},
   "source": [
    "### Surfaces"
   ]
  },
  {
   "cell_type": "code",
   "execution_count": null,
   "metadata": {},
   "outputs": [],
   "source": []
  },
  {
   "cell_type": "code",
   "execution_count": null,
   "metadata": {
    "ExecuteTime": {
     "end_time": "2019-11-29T04:43:53.943152Z",
     "start_time": "2019-11-29T04:43:50.492Z"
    }
   },
   "outputs": [],
   "source": [
    "fregion = lambda pos : f1_displacement_feature.evaluate_on_surface(pos) > 0.2\n",
    "viewer = LavaVuModelViewer(model)\n",
    "viewer.add_section(None,axis='y',value=model.bounding_box[0,1],colour=white)\n",
    "viewer.add_isosurface(fault['feature'],\n",
    "                      isovalue=0,\n",
    "                     region=fregion\n",
    "                     )\n",
    "# for i in range(3):\n",
    "#     viewer.add_data(fault['feature'][i])\n",
    "# viewer.add_isosurface(fault['feature'][1],nslices=5)\n",
    "# # viewer.add_isosurface(fault['feature'][2],nslices=5)\n",
    "viewer.add_isosurface(strati['feature'],\n",
    "                      slices=[4,3,2,1],\n",
    "#                      nslices=5,\n",
    "                     paint_with=strati['feature'],\n",
    "                      cmap='tab20'\n",
    "                     )\n",
    "# viewer.add_scalar_field(strati['feature'],cmap='tab20')\n",
    "# viewer.add_scalar_field(f1_displacement_feature,cmap='rainbow')\n",
    "viewer.lv.rotate(rotation)\n",
    "viewer.lv.display()\n",
    "viewer.lv.image(output+'/surfaces.png')\n",
    "# viewer.interactive()"
   ]
  },
  {
   "cell_type": "code",
   "execution_count": null,
   "metadata": {
    "ExecuteTime": {
     "end_time": "2019-11-29T04:43:53.944025Z",
     "start_time": "2019-11-29T04:43:50.494Z"
    }
   },
   "outputs": [],
   "source": [
    "viewer.lv['xyzrotate']"
   ]
  },
  {
   "cell_type": "markdown",
   "metadata": {},
   "source": [
    "### Fault frame 0"
   ]
  },
  {
   "cell_type": "code",
   "execution_count": null,
   "metadata": {
    "ExecuteTime": {
     "end_time": "2019-11-29T04:43:53.944832Z",
     "start_time": "2019-11-29T04:43:50.497Z"
    }
   },
   "outputs": [],
   "source": [
    "viewer = LavaVuModelViewer(model)\n",
    "# viewer.add_isosurface(fault['feature'],isovalue=0)\n",
    "# for i in range(3):\n",
    "#     viewer.add_data(fault['feature'][i])\n",
    "# viewer.add_isosurface(fault['feature'][1],nslices=5)\n",
    "# # viewer.add_isosurface(fault['feature'][2],nslices=5)\n",
    "# viewer.add_isosurface(strati['feature'],\n",
    "#                      nslices=5)\n",
    "viewer.add_scalar_field(fault['feature'][0],cmap='viridis',vmin=-1,vmax=1)\n",
    "# viewer.add_scalar_field(f1_displacement_feature,cmap='rainbow')\n",
    "viewer.lv.rotate(rotation)\n",
    "viewer.lv.display()\n",
    "viewer.lv.image('f1_0.png')"
   ]
  },
  {
   "cell_type": "markdown",
   "metadata": {},
   "source": [
    "### Fault frame 1"
   ]
  },
  {
   "cell_type": "code",
   "execution_count": null,
   "metadata": {
    "ExecuteTime": {
     "end_time": "2019-11-29T04:43:53.945762Z",
     "start_time": "2019-11-29T04:43:50.500Z"
    }
   },
   "outputs": [],
   "source": [
    "viewer = LavaVuModelViewer(model)\n",
    "# viewer.add_isosurface(fault['feature'],isovalue=0)\n",
    "# for i in range(3):\n",
    "#     viewer.add_data(fault['feature'][i])\n",
    "# viewer.add_isosurface(fault['feature'][1],nslices=5)\n",
    "# # viewer.add_isosurface(fault['feature'][2],nslices=5)\n",
    "# viewer.add_isosurface(strati['feature'],\n",
    "#                      nslices=5)\n",
    "viewer.add_scalar_field(fault['feature'][1],cmap='viridis',vmin=0,vmax=1.5)\n",
    "# viewer.add_scalar_field(f1_displacement_feature,cmap='rainbow')\n",
    "viewer.lv.rotate(rotation)\n",
    "viewer.lv.display()\n",
    "viewer.lv.image('f1_1.png')"
   ]
  },
  {
   "cell_type": "markdown",
   "metadata": {},
   "source": [
    "### Fault frame 2"
   ]
  },
  {
   "cell_type": "code",
   "execution_count": null,
   "metadata": {
    "ExecuteTime": {
     "end_time": "2019-11-29T04:43:53.946552Z",
     "start_time": "2019-11-29T04:43:50.503Z"
    }
   },
   "outputs": [],
   "source": [
    "viewer = LavaVuModelViewer(model)\n",
    "# viewer.add_isosurface(fault['feature'],isovalue=0)\n",
    "# for i in range(3):\n",
    "#     viewer.add_data(fault['feature'][i])\n",
    "# viewer.add_isosurface(fault['feature'][1],nslices=5)\n",
    "# # viewer.add_isosurface(fault['feature'][2],nslices=5)\n",
    "# viewer.add_isosurface(strati['feature'],\n",
    "#                      nslices=5)\n",
    "viewer.add_scalar_field(fault['feature'][2],cmap='viridis',vmin=.5,vmax=1.5)\n",
    "# viewer.add_scalar_field(f1_displacement_feature,cmap='rainbow')\n",
    "viewer.lv.rotate(rotation)\n",
    "viewer.lv.display()\n",
    "viewer.lv.image('f1_2.png')"
   ]
  },
  {
   "cell_type": "code",
   "execution_count": null,
   "metadata": {
    "ExecuteTime": {
     "end_time": "2019-11-29T04:43:53.947485Z",
     "start_time": "2019-11-29T04:43:50.506Z"
    }
   },
   "outputs": [],
   "source": [
    "x = np.linspace(-1,1,100)\n",
    "# plt.plot(x,gxf(x))"
   ]
  },
  {
   "cell_type": "code",
   "execution_count": null,
   "metadata": {
    "ExecuteTime": {
     "end_time": "2019-11-29T04:43:53.948402Z",
     "start_time": "2019-11-29T04:43:50.510Z"
    }
   },
   "outputs": [],
   "source": [
    "plt.imshow(plt.imread('f1_0.png')[75:705, 200:810,:])\n"
   ]
  },
  {
   "cell_type": "code",
   "execution_count": null,
   "metadata": {
    "ExecuteTime": {
     "end_time": "2019-11-29T04:43:53.949217Z",
     "start_time": "2019-11-29T04:43:50.512Z"
    }
   },
   "outputs": [],
   "source": [
    "fig, ax = plt.subplots(2,3,figsize=(20,10))\n",
    "ax[0,0].imshow(plt.imread('f1_0.png')[75:705, 200:810,:])\n",
    "ax[0,0].set_title('A.')\n",
    "ax[0,1].imshow(plt.imread('f1_1.png')[75:705, 200:810,:])\n",
    "ax[0,1].set_title('B.')\n",
    "ax[0,2].imshow(plt.imread('f1_2.png')[75:705, 200:810,:])\n",
    "\n",
    "ax[0,2].set_title('C. ')\n",
    "ax[1,0].plot(x,gxf(x),'k-')#(plt.imread('4.png')[200:565, 178:844,:])\n",
    "ax[1,0].set_title('D. Fault throw profile')\n",
    "ax[1,1].plot(x,gyf(x),'k-')#imshow(plt.imread('3.png')[200:565, 178:844,:])\n",
    "ax[1,1].set_title('E. Fault depth profile')\n",
    "ax[1,2].plot(x,gzf(x),'k-')#imshow(plt.imread('4.png')[200:565, 178:844,:])\n",
    "ax[1,2].set_title('F. Fault extent profile')\n",
    "\n",
    "for i in range(1):\n",
    "    for j in range(3):\n",
    "        ax[i,j].axis('off')\n",
    "plt.tight_layout()"
   ]
  },
  {
   "cell_type": "code",
   "execution_count": null,
   "metadata": {
    "ExecuteTime": {
     "end_time": "2019-11-29T04:43:53.950005Z",
     "start_time": "2019-11-29T04:43:50.513Z"
    }
   },
   "outputs": [],
   "source": [
    "fig, ax = plt.subplots(1,3,figsize=(20,5))\n",
    "ax[0].imshow(plt.imread('fault_displacement.png')[75:705, 200:810,:])\n",
    "ax[0].set_title('A.')\n",
    "ax[1].imshow(plt.imread('stratigraphy.png')[75:705, 200:810,:])\n",
    "ax[1].set_title('B.')\n",
    "ax[2].imshow(plt.imread('surfaces.png')[75:705, 200:810,:])\n",
    "ax[2].set_title('C.')\n",
    "for i in range(1):\n",
    "    for j in range(3):\n",
    "        ax[j].axis('off')"
   ]
  },
  {
   "cell_type": "code",
   "execution_count": null,
   "metadata": {},
   "outputs": [],
   "source": []
  }
 ],
 "metadata": {
  "kernelspec": {
   "display_name": "LoopStructural",
   "language": "python",
   "name": "loopstructural"
  },
  "language_info": {
   "codemirror_mode": {
    "name": "ipython",
    "version": 3
   },
   "file_extension": ".py",
   "mimetype": "text/x-python",
   "name": "python",
   "nbconvert_exporter": "python",
   "pygments_lexer": "ipython3",
   "version": "3.6.8"
  },
  "varInspector": {
   "cols": {
    "lenName": 16,
    "lenType": 16,
    "lenVar": 40
   },
   "kernels_config": {
    "python": {
     "delete_cmd_postfix": "",
     "delete_cmd_prefix": "del ",
     "library": "var_list.py",
     "varRefreshCmd": "print(var_dic_list())"
    },
    "r": {
     "delete_cmd_postfix": ") ",
     "delete_cmd_prefix": "rm(",
     "library": "var_list.r",
     "varRefreshCmd": "cat(var_dic_list()) "
    }
   },
   "types_to_exclude": [
    "module",
    "function",
    "builtin_function_or_method",
    "instance",
    "_Feature"
   ],
   "window_display": false
  }
 },
 "nbformat": 4,
 "nbformat_minor": 2
}
