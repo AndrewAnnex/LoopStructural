{
 "cells": [
  {
   "cell_type": "code",
   "execution_count": 10,
   "metadata": {
    "ExecuteTime": {
     "end_time": "2019-12-11T05:18:30.674888Z",
     "start_time": "2019-12-11T05:18:30.668539Z"
    }
   },
   "outputs": [
    {
     "data": {
      "text/plain": [
       "'/home/lgrose/python_venv/LoopStructural'"
      ]
     },
     "execution_count": 10,
     "metadata": {},
     "output_type": "execute_result"
    }
   ],
   "source": [
    "import os\n",
    "os.environ['VIRTUAL_ENV']"
   ]
  },
  {
   "cell_type": "code",
   "execution_count": 1,
   "metadata": {
    "ExecuteTime": {
     "end_time": "2019-12-11T03:52:06.911430Z",
     "start_time": "2019-12-11T03:52:06.113515Z"
    }
   },
   "outputs": [],
   "source": [
    "from LoopStructural import GeologicalModel\n",
    "from LoopStructural.visualisation import LavaVuModelViewer\n",
    "from LoopStructural.datasets import load_intrusion\n",
    "import pandas as pd \n",
    "import numpy as np\n",
    "import matplotlib.pyplot as plt\n",
    "import os\n",
    "%matplotlib inline"
   ]
  },
  {
   "cell_type": "code",
   "execution_count": 2,
   "metadata": {
    "ExecuteTime": {
     "end_time": "2019-12-11T03:52:07.305783Z",
     "start_time": "2019-12-11T03:52:07.299091Z"
    }
   },
   "outputs": [],
   "source": [
    "data, bb = load_intrusion()\n",
    "output='intrusion'\n",
    "if not os.path.exists(output):\n",
    "    os.mkdir(output)"
   ]
  },
  {
   "cell_type": "code",
   "execution_count": 3,
   "metadata": {
    "ExecuteTime": {
     "end_time": "2019-12-11T03:52:07.803327Z",
     "start_time": "2019-12-11T03:52:07.800353Z"
    }
   },
   "outputs": [],
   "source": [
    "rotation = [-73.24819946289062, -86.82220458984375, -13.912878036499023]"
   ]
  },
  {
   "cell_type": "code",
   "execution_count": 4,
   "metadata": {
    "ExecuteTime": {
     "end_time": "2019-12-11T03:52:08.455765Z",
     "start_time": "2019-12-11T03:52:08.427599Z"
    }
   },
   "outputs": [
    {
     "data": {
      "text/html": [
       "<div>\n",
       "<style scoped>\n",
       "    .dataframe tbody tr th:only-of-type {\n",
       "        vertical-align: middle;\n",
       "    }\n",
       "\n",
       "    .dataframe tbody tr th {\n",
       "        vertical-align: top;\n",
       "    }\n",
       "\n",
       "    .dataframe thead th {\n",
       "        text-align: right;\n",
       "    }\n",
       "</style>\n",
       "<table border=\"1\" class=\"dataframe\">\n",
       "  <thead>\n",
       "    <tr style=\"text-align: right;\">\n",
       "      <th></th>\n",
       "      <th>X</th>\n",
       "      <th>Y</th>\n",
       "      <th>Z</th>\n",
       "      <th>val</th>\n",
       "      <th>coord</th>\n",
       "      <th>type</th>\n",
       "      <th>nx</th>\n",
       "      <th>ny</th>\n",
       "      <th>nz</th>\n",
       "    </tr>\n",
       "  </thead>\n",
       "  <tbody>\n",
       "    <tr>\n",
       "      <td>0</td>\n",
       "      <td>0.000000</td>\n",
       "      <td>5500.000000</td>\n",
       "      <td>0.000000</td>\n",
       "      <td>0.0</td>\n",
       "      <td>0.0</td>\n",
       "      <td>fault</td>\n",
       "      <td>NaN</td>\n",
       "      <td>NaN</td>\n",
       "      <td>NaN</td>\n",
       "    </tr>\n",
       "    <tr>\n",
       "      <td>1</td>\n",
       "      <td>300.000000</td>\n",
       "      <td>5500.000000</td>\n",
       "      <td>0.000000</td>\n",
       "      <td>0.0</td>\n",
       "      <td>0.0</td>\n",
       "      <td>fault</td>\n",
       "      <td>NaN</td>\n",
       "      <td>NaN</td>\n",
       "      <td>NaN</td>\n",
       "    </tr>\n",
       "    <tr>\n",
       "      <td>2</td>\n",
       "      <td>600.000000</td>\n",
       "      <td>5500.000000</td>\n",
       "      <td>0.000000</td>\n",
       "      <td>0.0</td>\n",
       "      <td>0.0</td>\n",
       "      <td>fault</td>\n",
       "      <td>NaN</td>\n",
       "      <td>NaN</td>\n",
       "      <td>NaN</td>\n",
       "    </tr>\n",
       "    <tr>\n",
       "      <td>3</td>\n",
       "      <td>900.000000</td>\n",
       "      <td>5500.000000</td>\n",
       "      <td>0.000000</td>\n",
       "      <td>0.0</td>\n",
       "      <td>0.0</td>\n",
       "      <td>fault</td>\n",
       "      <td>NaN</td>\n",
       "      <td>NaN</td>\n",
       "      <td>NaN</td>\n",
       "    </tr>\n",
       "    <tr>\n",
       "      <td>4</td>\n",
       "      <td>1200.000000</td>\n",
       "      <td>5500.000000</td>\n",
       "      <td>0.000000</td>\n",
       "      <td>0.0</td>\n",
       "      <td>0.0</td>\n",
       "      <td>fault</td>\n",
       "      <td>NaN</td>\n",
       "      <td>NaN</td>\n",
       "      <td>NaN</td>\n",
       "    </tr>\n",
       "    <tr>\n",
       "      <td>...</td>\n",
       "      <td>...</td>\n",
       "      <td>...</td>\n",
       "      <td>...</td>\n",
       "      <td>...</td>\n",
       "      <td>...</td>\n",
       "      <td>...</td>\n",
       "      <td>...</td>\n",
       "      <td>...</td>\n",
       "      <td>...</td>\n",
       "    </tr>\n",
       "    <tr>\n",
       "      <td>987</td>\n",
       "      <td>4209.794885</td>\n",
       "      <td>2831.492241</td>\n",
       "      <td>-1629.988269</td>\n",
       "      <td>1.0</td>\n",
       "      <td>NaN</td>\n",
       "      <td>strati</td>\n",
       "      <td>NaN</td>\n",
       "      <td>NaN</td>\n",
       "      <td>NaN</td>\n",
       "    </tr>\n",
       "    <tr>\n",
       "      <td>988</td>\n",
       "      <td>4103.159130</td>\n",
       "      <td>5336.113606</td>\n",
       "      <td>-2356.985888</td>\n",
       "      <td>1.0</td>\n",
       "      <td>NaN</td>\n",
       "      <td>strati</td>\n",
       "      <td>NaN</td>\n",
       "      <td>NaN</td>\n",
       "      <td>NaN</td>\n",
       "    </tr>\n",
       "    <tr>\n",
       "      <td>989</td>\n",
       "      <td>4362.443998</td>\n",
       "      <td>7090.036640</td>\n",
       "      <td>-1745.452837</td>\n",
       "      <td>1.0</td>\n",
       "      <td>NaN</td>\n",
       "      <td>strati</td>\n",
       "      <td>NaN</td>\n",
       "      <td>NaN</td>\n",
       "      <td>NaN</td>\n",
       "    </tr>\n",
       "    <tr>\n",
       "      <td>990</td>\n",
       "      <td>5070.215531</td>\n",
       "      <td>5630.951854</td>\n",
       "      <td>-2366.861446</td>\n",
       "      <td>1.0</td>\n",
       "      <td>NaN</td>\n",
       "      <td>strati</td>\n",
       "      <td>NaN</td>\n",
       "      <td>NaN</td>\n",
       "      <td>NaN</td>\n",
       "    </tr>\n",
       "    <tr>\n",
       "      <td>991</td>\n",
       "      <td>4147.775731</td>\n",
       "      <td>6573.935487</td>\n",
       "      <td>-834.271933</td>\n",
       "      <td>1.0</td>\n",
       "      <td>NaN</td>\n",
       "      <td>strati</td>\n",
       "      <td>NaN</td>\n",
       "      <td>NaN</td>\n",
       "      <td>NaN</td>\n",
       "    </tr>\n",
       "  </tbody>\n",
       "</table>\n",
       "<p>1016 rows × 9 columns</p>\n",
       "</div>"
      ],
      "text/plain": [
       "               X            Y            Z  val  coord    type  nx  ny  nz\n",
       "0       0.000000  5500.000000     0.000000  0.0    0.0   fault NaN NaN NaN\n",
       "1     300.000000  5500.000000     0.000000  0.0    0.0   fault NaN NaN NaN\n",
       "2     600.000000  5500.000000     0.000000  0.0    0.0   fault NaN NaN NaN\n",
       "3     900.000000  5500.000000     0.000000  0.0    0.0   fault NaN NaN NaN\n",
       "4    1200.000000  5500.000000     0.000000  0.0    0.0   fault NaN NaN NaN\n",
       "..           ...          ...          ...  ...    ...     ...  ..  ..  ..\n",
       "987  4209.794885  2831.492241 -1629.988269  1.0    NaN  strati NaN NaN NaN\n",
       "988  4103.159130  5336.113606 -2356.985888  1.0    NaN  strati NaN NaN NaN\n",
       "989  4362.443998  7090.036640 -1745.452837  1.0    NaN  strati NaN NaN NaN\n",
       "990  5070.215531  5630.951854 -2366.861446  1.0    NaN  strati NaN NaN NaN\n",
       "991  4147.775731  6573.935487  -834.271933  1.0    NaN  strati NaN NaN NaN\n",
       "\n",
       "[1016 rows x 9 columns]"
      ]
     },
     "execution_count": 4,
     "metadata": {},
     "output_type": "execute_result"
    }
   ],
   "source": [
    "data"
   ]
  },
  {
   "cell_type": "code",
   "execution_count": 5,
   "metadata": {
    "ExecuteTime": {
     "end_time": "2019-12-11T03:55:58.941981Z",
     "start_time": "2019-12-11T03:52:09.048108Z"
    }
   },
   "outputs": [],
   "source": [
    "model = GeologicalModel(bb[0,:],bb[1,:])\n",
    "model.set_model_data(data)\n",
    "fault = model.create_and_add_fault('fault',\n",
    "                                   500,\n",
    "                                   nelements=10000,\n",
    "                                   steps=4,\n",
    "                                   interpolatortype='FDI',\n",
    "                                   solver='cg',\n",
    "                                   atol=-1e8\n",
    "                                  )"
   ]
  },
  {
   "cell_type": "markdown",
   "metadata": {},
   "source": [
    "### Data and fault surface"
   ]
  },
  {
   "cell_type": "code",
   "execution_count": 6,
   "metadata": {
    "ExecuteTime": {
     "end_time": "2019-12-10T23:49:50.493808Z",
     "start_time": "2019-12-10T23:49:48.696185Z"
    }
   },
   "outputs": [
    {
     "data": {
      "text/html": [
       "<img src='data:image/png;base64,iVBORw0KGgoAAAANSUhEUgAABAAAAAMACAIAAAA12IJaAAAgAElEQVR4nOzdeXBU55n3/bv3Ta1u7fsCQgsIkDACbDCLjYkB4wXHdpzYHtuZciaTpRLXpCqZzPu8mTz15K2pqUziqUllX2xnmZh4AYMNOIAhrAYjCQRIICEkNdpb6n3vPuf94x76IdhODAkx9vl+yuWSWket0y2Xdf/Oua7r1qmqKgAAAABog/6DPgEAAAAAfzsEAAAAAEBDCAAAAACAhhAAAAAAAA0hAAAAAAAaQgAAAAAANIQAAAAAAGgIAQAAAADQEAIAAAAAoCEEAAAAAEBDCAAAAACAhhAAAAAAAA0hAAAAAAAaQgAAAAAANIQAAAAAAGgIAQAAAADQEAIAAAAAoCEEAAAAAEBDCAAAAACAhhAAAAAAAA0hAAAAAAAaQgAAAAAANIQAAAAAAGgIAQAAAADQEAIAAAAAoCEEAAAAAEBDCAAAAACAhhAAAAAAAA0hAAAAAAAaQgAAAAAANIQAAAAAAGgIAQAAAADQEAIAAAAAoCEEAAAAAEBDCAAAAACAhhAAAAAAAA0hAAAAAAAaQgAAAAAANIQAAAAAAGgIAQAAAADQEAIAAAAAoCEEAAAAAEBDCAAAAACAhhAAAAAAAA0hAAAAAAAaQgAAAAAANIQAAAAAAGgIAQAAAADQEAIAAAAAoCEEAAAAAEBDCAAAAACAhhAAAAAAAA0hAAAAAAAaQgAAAAAANIQAAAAAAGgIAQAAAADQEAIAAAAAoCEEAAAAAEBDCAAAAACAhhAAAAAAAA0hAAAAAAAaQgAAAAAANIQAAAAAAGgIAQAAAADQEAIAAAAAoCEEAAAAAEBDCAAAAACAhhAAAAAAAA0hAAAAAAAaQgAAAAAANIQAAAAAAGgIAQAAAADQEAIAAAAAoCEEAAAAAEBDCAAAAACAhhAAAAAAAA0hAAAAAAAaQgAAAAAANIQAAAAAAGgIAQAAAADQEAIAAAAAoCEEAAAAAEBDCAAAAACAhhAAAAAAAA0hAAAAAAAaQgAAAAAANIQAAAAAAGgIAQAAAADQEAIAAAAAoCEEAAAAAEBDCAAAAACAhhAAAAAAAA0hAAAAAAAaQgAAAAAANIQAAAAAAGgIAQAAAADQEAIAAAAAoCEEAAAAAEBDCAAAAACAhhAAAAAAAA0hAAAAAAAaQgAAAAAANIQAAAAAAGgIAQAAAADQEAIAAAAAoCEEAAAAAEBDCAAAAACAhhAAAAAAAA0hAAAAAAAaQgAAAAAANIQAAAAAAGgIAQAAAADQEAIAAAAAoCEEAAAAAEBDCAAAAACAhhAAAAAAAA0hAAAAAAAaQgAAAAAANIQAAAAAAGgIAQAAAADQEAIAAAAAoCEEAAAAAEBDCAAAAACAhhAAAAAAAA0hAAAAAAAaQgAAAAAANIQAAAAAAGgIAQAAAADQEAIAAAAAoCEEAAAAAEBDCAAAAACAhhAAAAAAAA0hAAAAAAAaQgAAAAAANIQAAAAAAGgIAQAAAADQEAIAAAAAoCEEAAAAAEBDCAAAAACAhhAAAAAAAA0hAAAAAAAaQgAAAAAANIQAAAAAAGgIAQAAAADQEAIAAAAAoCEEAAAAAEBDCAAAAACAhhAAAAAAAA0hAAAAAAAaQgAAAAAANIQAAAAAAGgIAQAAAADQEAIAAAAAoCEEAAAAAEBDCAAAAACAhhAAAAAAAA0hAAAAAAAaQgAAAAAANIQAAAAAAGgIAQAAAADQEAIAAAAAoCEEAAAAAEBDCAAAAACAhhAAAAAAAA0hAAAAAAAaQgAAAAAANIQAAAAAAGgIAQAAAADQEAIAAAAAoCEEAAAAAEBDCAAAAACAhhAAAAAAAA0hAAAAAAAaQgAAAAAANIQAAAAAAGgIAQAAAADQEAIAAAAAoCEEAAAAAEBDCAAAAACAhhAAAAAAAA0hAAAAAAAaQgAAAAAANIQAAAAAAGgIAQAAAADQEAIAAAAAoCEEAAAAAEBDCAAAAACAhhAAAAAAAA0hAAAAAAAaQgAAAAAANIQAAAAAAGgIAQAAAADQEAIAAAAAoCEEAAAAAEBDCAAAAACAhhAAAAAAAA0hAAAAAAAaQgAAAAAANIQAAAAAAGgIAQAAAADQEAIAAAAAoCEEAAAAAEBDCAAAAACAhhAAAAAAAA0hAAAAAAAaQgAAAAAANIQAAAAAAGgIAQAAAADQEAIAAAAAoCEEAAAAAEBDCAAAAACAhhAAAAAAAA0hAAAAAAAaQgAAAAAANIQAAAAAAGgIAQAAAADQEAIAAAAAoCEEAAAAAEBDCAAAAACAhhAAAAAAAA0hAAAAAAAaQgAAAAAANIQAAAAAAGgIAQAAAADQEAIAAAAAoCEEAAAAAEBDCAAAAACAhhAAAAAAAA0hAAAAAAAaQgAAAAAANIQAAAAAAGgIAQAAAADQEAIAAAAAoCEEAAAAAEBDCAAAAACAhhAAAAAAAA0hAAAAAAAaQgAAAAAANIQAAAAAAGgIAQAAAADQEAIAAAAAoCEEAAAAAEBDCAAAAACAhhAAAAAAAA0hAAAAAAAaQgAAAAAANIQAAAAAAGgIAQAAAADQEAIAAAAAoCEEAAAAAEBDCAAAAACAhhAAAAAAAA0hAAAAAAAaQgAAAAAANIQAAAAAAGgIAQAAAADQEAIAAAAAoCEEAAAAAEBDCAAAAACAhhAAAAAAAA0hAAAAAAAaQgAAAAAANIQAAAAAAGgIAQAAAADQEAIAAAAAoCEEAAAAAEBDCAAAAACAhhAAAADv6c1nnundu/eDPgsAwF+TTlXVD/ocAAA3oiPPPvurJ5+UH9evXFm/apX85wM9KQDAX4oAAAB4Fxc7O/9twYJ3/RJhAAA+1AgAAIArxfz+f29tnRocvPwvxLv+tSAMAMCHDgEAAHClH91336ktW/SXGsUUIYQQ6jsywBWfEgYA4EOBAAAA+CO7n3lm09NPy491QuiFMAhhEEInhLgUA94ZBrLk4/UrV1a2ts5atap+1Sq72/03OG0AwPtEAAAA/F+ezs5vXVb6f/lfCJ0Qhkt54IowIN47DwghKlpa6letIgwAwA2CAAAA+B9Rv/9bra3Tg4PZR96rB0B36bbAn7gz8M56obKWln/p7LweZw4AeP+MH/QJAABuFM898cTlq39xaXGf/fjyxX1aiPSlx7NhILu5jPKOMiGLy/XZzZuv05kDAN4/AgAAQAghdj/zzMktW/70MbrLPvizYcBw6auqECkh/u7ZZwtqa6/DiQMArg4lQAAA4ens/P/eY+r/+/GuZT+Xh4HlX/rS/c8885ecIQDgr4UAAABaF/X7/5/a2lgg8H4O1v3xp+/6J+TytmC9EPNXrvzHvXv/ghMEAPw1UQIEAFr3w/vuu7bV/zsfUS97UP67wuV6gtJ/ALiREAAAQNO2/eu/9u7b936OfOfq/88eUyDEI5s32xj9CQA3Ev2fPwQA8BF1bu/e1775zev05BYh7v3GN2awKzAA3GDoAQAAjfpLSv/fz/G3r1z5cUr/AeDGwx0AANCov6T0/8+qd7nuovQfAG5IBAAA0KK/bun/FQqEeHDzZiul/wBwQyIAAIDmXNfSf6sQ937jGxWU/gPAjYoeAADQlqmBgW+1tlL6DwCaxR0AANCW61r631JTQ+k/ANzgCAAAoCGbvvzliydOvJ8jr2H1XyzERkr/AeCGRwAAAK3o3Lz5zf/8z+v05HYh7v/ud4taW6/T8wMA/lroAQAATbiupf96Idbee+8Gin8A4MPA+EGfAADgb+G6lv7Pq6lZ/eyz2U9VVQ0Gg+FwOCcnJycnx+PxDA8P22y2nJycZDJZWFhYXFys13MLGgA+GAQAAPjou66l/6VCbNy82Xap9F9V1RMnTrzxxhtjY2MlJSWVlZWdnZ29vb3BYDAajaqqWlZW9qlPfeqee+6xWq1X/9MAAH8pAgAAfMRd19L/XCE+9m//1heN7vrNbyorK9va2iKRyLZt23bs2DE6OlpUVORyuSYmJi5cuJBMJtPptKqqNpstGo3W1tYuXrz4Op0VAOBPIAAAwEfZ1MDA80888T4PvtrL/wYhipqaekpK3vje9/r7+ysrKx955JGGhobBwcHBwcHR0dFoNFpSUiKv/WcyGUVRhBDhcPjcuXO9vb1XBIBQKHTs2LHR0dHa2tqFCxdyfwAArhMCAAB8ZEX9/uta+m83GvdWVpYcONDR0dHf3z85OTlnzpzGxka32+12u+PxuN1u1+l0brfbaDROT08HAoF0Oi2EiEajExMTqqrqdP/zY1Op1NatW1966SUZAB599NF169ZlvwoA+CsiAADAR9bvrmfpf6FOt62wsKmoqLCwMDc31+l02mw2k8mUn59fUVFRXV1ttVqDweDk5KRer6+pqVm2bNmbb745PDycyWSsVquqqul02mQyyWfz+/0dHR3t7e1jY2M+n6+5uXnJkiVTU1PRaLSwsDAej585c2Z0dLS0tLStra2iouLqzxcA8D8IAADw0XT42WePPPfc+znyGlb/eUJ0FBcH7PZAIFBQUDBnzhyDwWAwGLxe749+9KPu7u6hoaFgMBgIBMLhsE6ns1gsTz31VHl5+ZYtW/x+f1NTU3V1tcFg8Pl80Wg0Ly/PZDLZbDabzWa1Wm02mxDi1Vdf3bNnz8jISDKZlHcMMplMaWnphg0bPv3pTwsh/H5/SUlJaWkpNwoA4KoQAADgI8jT2fm7L3/5Oj25WQilqqpDUaZHR4PB4MWLF/Py8vR6vd/vP3DgQCgUmpiYCIfDQghVVWXdfygUmp6e/sQnPuF0OicnJ2fPnr1q1arOzs5XXnllfHx8zpw5Dz300O233+7z+fr6+hwOh8/n2717d2dnZzgcVhRFVVW5a43X641EIqdPnzYajYqizJo16+GHH25pablOrxQAPpIIAADwURP1+59/4onrV/pv0utf1uni8XgqlfL7/cFgsLCwUKfTTU1N6fV6VVXj8Xh2l0mDwWCxWKqqqiorK+fOnetyuaanp6urqy0Wy+uvv75ly5bx8fHe3t7y8vL7779fUZSXX3754sWLhw4dOnv2bCAQkPkhK5PJXLx4cWpqKpPJqKo6MDBQVlbW1NRksViu/nUAgEYRAADgo+a6lv4XCPEzRZkcGSktLc3LywsEAjqdzmq1RiKRVColhJAX7OXBer2+qKho1apVt9566/Llyw8cOPD73/9+enq6rq5uxYoVfr/f7/cHAoGpqanJycl0On3x4sXBwcGurq5gMBiPx//oVHU6vV5vMBhk8NDr9YqixGKxWCx2RUgAAPxpBAAA+Ei5rqX/+UJsF2JUCJFOO53OL33pS4ODg5FIJBgMHjt2LBAIJBKJ7OpfCGG1WtesWfPNb36zrKxsZGTkd7/73Z49e7xeb3l5eSKRKCwsLCsrUxQlnU6fOHHi6NGjk5OTk5OT4+PjiURC3kyQ9f1Go7GkpKSgoEBRlPHxcdlGnJ+fP3/+/NbW1uzAUEVR4vG4Xq+3WCw0BgDAeyEAAMBHx3Ut/bcJ0SfE8Uuf5ufnP/bYY+l0emRk5MyZM6dPn5ZlOdnjHQ5Hc3PzP/zDP8yYMWNoaOjXv/717t27+/r6UqlUJBJ58cUXm5qaZAWR3+/ft29fbm5uTU2N0+k0mUyJRCKTyVz+VLfffvt9993X3d19+vRpvV4vK3+ampoWLlyoquqZM2cOHjzY2dkZj8erqqrWrl27aNEio5G/cQDwLvifIwB8RFz30n+D4VVFEaoqhMjNzX3ooYdMJtOhQ4f2798/NDQ0MTFxeSmOyWRqamr65Cc/uXDhwlgstn379n379skZoEKIWCzm8XgmJiYmJibS6bSiKB6PZ3R0dP369efPn+/u7pY9xFmpVOrtt99OJpMPPvjg2rVrTSbTjBkzcnJyFEXxer1vv/32r3/967179/p8PiFEfn7+uXPnvva1r7W0tKiq6vP5AoFAbm5uNBrt6ekxmUzNzc1FRUVX/wYAwEcEAQAAPiKee+KJ61f6X2Y0di5aVD09HYvFiouLH3300ccff/z8+fPbt2/fv3//2NhY4LLgodPpcnNzFy9evGrVKqvVOjo62tfX19fXJ0f6CCFUVU0mk4lEIpVKyZsGsmJn4cKFDoejv79/amoq2wOg0+lisVh3d3dfX9/g4OCmTZsqKyuFEIqivP3227///e+3b9/e1dUVCoXkU42NjXV0dHR0dMydO/fkyZNbtmwZGBhIJBJ+vz8cDrvd7lWrVj355JP5+flX/zYAwEcBAQAAPgp2P/PMyS1b3s+R19b4e7isbN7y5Q+3tTkcjgULFiiKcvTo0cOHD3d2dg4MDExPT5vNZr1eLy/wm83mxsbGhx9+eO7cufLTeDwej8d1Op1Op8uWCZlMpuy36PX6ZDI5MjKycOHCz3/+85FI5NChQ/JbZL+vzAydnZ3f//73v/rVr7pcruHh4R07drzyyit9fX3RaPTy6qNYLNbV1bVnz56DBw9u3bpVHiB/kN1uN5lMy5cvX7x48dW/EwDwUUAAAIAPPU9n54tPP32dntwuxJDLFaiqWrBgwYMPPiiEuHjx4qZNm44dO+bxeCYnJ3U6ndPptNvt4XBYtgHk5eU9+uijy5YtMxgMQgin0+l2uy0Wi1zK6/V6vV5vtVrNZnMsFovH44qiKIoSDocvXLgwe/bsNWvW5Ofnf+UrXzl69Ggmk3E4HMFgUK7vY7HYb3/727Kyss997nOjo6Nnz56VXcjZ1b/RaMzJydHpdPv37z9z5kwikRgdHQ0Gg9mXE41GJycnM5lMOp3W6/XRaNRoNGbbiAFACwgAAPDhFvX7f3jffe/z4Gu4/N/Q0FDwxBN3VFbeeeedQghVVTs6Og4fPnzs2LFgMGi1Wq1Wa1lZ2cyZM7u7u/v7+xVFmTFjxrx580KhkNvt9vv9J06c8Pl8DofDZDKpqmoymQwGQzKZ1Ov1DofDYDCkUimXy5WbmysX4rIcyOl0OhyOZDKZl5eXTqezXQEXL1588cUX16xZEwgEYrHY/31pOp3D4aioqCgpKfF6vWfOnMnJyamurs7Ly5O7CGePTKVSx44dO3TokMfjmZqaysvLW7NmzZ133mk2m6/+7QGADx8CAAB8uD33xBPTg4Pv58hrWP3Pcrke2rkzp7LSYDAoijI0NDQyMtLV1eX1emVJfSaTMZlMdrtdTvOU62yPx/Od73xn5syZDz300JkzZw4cONDT05NOpwsLC41GYyaTiUajgUAgGo0WFxcXFxe7XK6SkpJFixbV1tYODg6Oj49v3ry5p6dHbgQmo4LBYJBPnslkJiYmvv3tb4+Pj3s8HpvNlk6nU6mU1Wptbm5et26dTqd79dVXLRaL1Wptamqqqan5zW9+MzAwINsPbDabwWD47//+797eXnnrwG63d3R0KIpy7733Xv07BAAfPgQAAPgQu66l/24h7n32WXdtrRBCFv2//vrrsuI/Ho8XFxdbLJZIJBKJRBRFycnJ8fv9mUxGbgm8Y8eOgoKC3t5enU539uzZyclJs9lcUlJSU1OTTqeHhoZSqVQqlVIUpaqqav369TNmzCgvL9+/f/+pU6dOnz59+vTpkZGRdDothEgkEkIIg8Fgs9lMJpPJZIpGo5s3bw6FQnq9vqCgoLGx0WAwFBUVtbS0TExMnD17NhqN1tfXz5s37+67716zZs3q1av/5V/+pbe312q1VldXK4py8uTJaDQqX2YikTh9+vQLL7xQWVlZX1+fm5t79W8VAHyYEAAA4MMkk8l4PB6fz1dSUpIeG7t+pf9WIVoefnjGPffIT6enp9988809e/YMDg5aLJbi4uKmpqbh4eHu7m5VVVVVlUN1ZGG9TqeTu4OdOnVKp9N5vd5QKJSXl1dcXLx27VqHw7F37145+jMQCITD4VtuuWX+/PmvvPLK9u3bOzo6JiYmotGoXP1f/sLz8vJaW1vlEj8UCsnHI5HInXfeuXLlSrvdPj4+/uMf//jIkSNWq/W22277zGc+09raajKZVq1a9frrr3d3d5tMps7Ozl/+8pdXbB4ciUSOHDny7//+70uXLn3kkUcKCwuv07sKADcCAgAAfGgoirJ///6XXnrJ4/GUFBVFt251vL9L+9dw+d9sMu3Kybnl4sXq6mohRDAYHB8fHx8fHxsby8nJqa2tveWWW3p7ewcGBlKplN1uLygoqKqqamhomDFjxqlTp2SHwPT0tMlkMhqNTqczNze3tLS0qalp/vz5+fn54XB4cnLS5/NlMplgMDg5OXnw4MH29vbBwcFUKvUuL0Gns9lsBQUFFy9ejEQi2ccTiUQkElm1apXJZDp8+LCcMqQoitlsrqysNJlM8jCXy3XzzTcLIYxG4+nTpy9evDg4OCgzhvyW0dHR3//+9z6fb86cOWvWrLn6NwwAPjQIAADwoREIBHbv3r19+/aRkRF9JpOfTC4QouzPre+vYfVfLMSPTaYFIyM+n08GgJycnMLCwsLCwkgk4nA4SktLFy1aNG/evKmpqZ6eHrPZfP78eZvNVltbK4Qwm82KosRiMZ1Ol5+fb7FYVFVNp9Mmk2nOnDn5+flr16612+16vX54eLitra2ysnLPnj0dHR1er1cW+ss+YJPJZLVa7Xa72WzOy8uTyeHymT9CCKPRGIlEAoFAYWFhVVVVQUFBfn6+qqrBYPDMmTPFxcVyElHW3Llz169fPzAwEAgE/H6/TqeTISEejyeTyf7+/uHh4at/wwDgw4QAAAAfGul0OhgM+ny+WCymE0IVYkgItxD29/6Wa1j9u4R4s7i4tq5u0aJFcvUvhCgsLFyxYkUkEhkYGMjJyVm8eHFra6vL5dLpdM8999xbb711/vx5k8nU19dnNBpjsZjs3zWbzQUFBfF4XG7slS27NxgMK1asKCsrm5iYyMnJGRgYeOutt8bGxmRmMJvNBoPBZDIVFBS0trauW7duwYIF0Wi0sLDwyJEjR44ckS0EQgidTud2u7Pb+l68eFGn0ymKEgqFPB7P/v37Z86cabFYbDaby+XS6/XysHA4LO8SyDPJzc1NpVLxeFweILPH5e95MpmUvQdX/14CwI2IAAAAHxput3v27NmunBz/9LQihCJEXIjEnwwAV8sihL+qqnHt2o9//OMLFizIy8uTj+v1+mXLllVUVIyMjDgcjlmzZrlcLiFEZWVlJBLxer2xWCyRSCSTyVQqZTKZ0um0XMrn5OTILl5VVUOhUHYZbTAYmpqaYrHYT3/601OnToVCoWg0KpfaTqczu19YWVnZxo0b5YX/ZDJ50003LVu2LBQKjY2NyeGhbW1tc+bMcTgcQgi/3x8MBsPhcCgUmp6ePn78eE9PTyQSKS8vv/vuu1evXi3HiY6Ojg4NDQWDwXQ6rShKKpWy2WyRSMRoNFZVVRUWFqqqOjY21tXV1dfXd+HCBb1eX1dXt3LlyoaGhiviAQB8GBEAAOBDw2QyfWzVqh986UtOIZJC5AjhEMLy3sdf7VpVJ0Rjc7PhS19avXr1zJkzr/iq0WicNWvWrFmzso+oqpqbm5tdrJtMJpvNZrVajUZjMpnMZDJWqzWdTsvL7fKK/uVPmMlk9u3b98YbbwwPDxcWFspGAofDUVxc7PV6ZSmO3COsvb1969atwWBw8eLFjz/+eFVVVWdnZzqddrvdTqczFArt3LmzoaGhsLCwqKjI7XarqppKpTo7O4PBYDwet9lsQ0ND58+fP3/+fDKZNBqNcqBQJpMxGo0ul2vWrFmBQMBsNldXV4+Oju7bt+/QoUOvvvrq6dOn5fEVFRWDg4Nf+MIXysrKrvJNBYAbDgEAAD5MNn/2s43JpFWIiBA2IaqEsL3Hkddwpbre5Xp8/36r2335dW5FUaanp2U1/+WPB4PBEydODA0NyUW/EKK8vLylpWVoaGh0dFSv16dSqXQ6HQqFjEZjSUlJcXFxZWXl0NCQ3+8vLS212Wx6vd7pdMp9gsvLy2trayORiGw2OHv2bCwWc7lc+fn58Xj85ZdffuWVV4LB4ODg4D//8z9/8YtfnJycvHjx4sGDB7u7u8+dO2c0GhsbG2fOnBkOhxOJhKIowWAwkUjImw/JZPLAgQPt7e2RSMRgMLS2tjY0NEQikYmJCZfLtW7dulWrVnk8nt7e3p6enueff95isYyMjJw7d052CcvegJdffnnOnDkPP/zwFU0FAPChQwAAgBtCKpXq6enx+Xx1dXUVFRXvesy2f/3X3n378oXIESIphEkIy3ss9K9h9Z8nxL3//d+2SzU/Qoh0Ot3f379t27b9+/e73e4nn3xyxYoV8kvRaHTnzp179+4dHBwcGBhIp9NyCb5hw4af//znk5OTer1eXoa3WCyNjY0zZszIz89PpVLPPvus3W5vaWm544478vPz77rrrmg0OjExcdNNNxUUFIyPjzudzrq6umPHjr311lu5ubn33nuv2Wz2+Xw+n0/2P4RCIYPBUFpaOj09PTIy0tnZ6fF4jEbj+Ph4e3v7hQsXfD5fMpnMVvlnT1h2D+t0umAwuGLFittuu218fLy8vPz2228vKSkJhUL/9V//1d/fPzg46Ha7E4nE5ZsHZzKZwcHBV199deHChU1NTVf/7gLADYQAAAAfPFVV9+7d+9Of/nR8fHzRokVf+tKXKisrrzim+803X/7mNw1CGIWw/FUrf4QQFiGWfe5z1R/7WPaRTCZz6NCh1157bcuWLXL2v9VqXbRokc1mE0JcuHDh6NGjR48eHRoaikQiiURCp9Ol02mbzeZ0Ou12u6qqRqNRVVW32z1z5sxly5ZduHDh8OHDo6OjDodjfHzcbrevXbu2tLT0H//xH9PptMVikf27Op1Op9PNmDHjzjvvlP0AqVSqra1NVu23tbVla5C8Xu/EJXJekMVikZ3EsiTJYDBkY0A2DOh0ulAo1N7evnLlyrvvvru4uNjpdKqqarVanU6nw+FwOBwulysSiYTD4cv3IkgkEu3t7du3b08mkzqdrlV25oUAACAASURBVLa21ul0Xv07DQAfPAIAAHzwUqmUXE+PjY2pqtrb23tFAPBcuPBP9903LoRViAoh8q9plf9edEIsW7ly7X/9V3ZOjhBifHx8//79Bw8eHBkZSaVSBoPB6/Umk0kZAPx+/9TU1MTExNTUlBBCbv7l9XpLS0sfffTR8vLysbExvV6fTCaLiormz58vhDh//nxPT49crOt0unnz5kUiEZfLZTQajcb/+WOUPQGDweBwOMxms+wkfvDBB+vr60OhUHNzc/adybmMTqczGAwWi8VkMun1ejmASM4DDQQC6XRatiLIZ56ent60adOBAwdmz57tdrtl7VBzc/Mdd9zh9XqHhoaqqqr8fv+uXbsGBwfj8bj8RkVRJicnt2zZcvjw4UgkMmfOnCeffFK2BVMUBODDhQAAAB88g8FQXFxcXFysKEpxcXHeZXU4QohUKvX/PvjgqWAwKIRFiKQQ9kt3APTveKprCAYNLteGzZsvX/0LIXw+3+jo6MTERHacf01NTTKZlF/Nzc212+3ZT+VJRqPRoaGhRx55ZMOGDXKT4MnJSb/fryhKR0fH0NBQKBRKp9OZTGZiYuJdd/uS4vH4tm3bOjo66urq7r//ftnpu3z58isOmzFjRktLi8/nS6fTXq83Go2WlJS0trb29PQkk0m3293c3BwKhd5+++1wOGyxWPR6vcVicTgc4XDY5/NFo9ELFy6YzWan01lTU9PW1vbYY489/fTTwWDQ7XanUqnly5cfOXJk586dvb298mzj8XhfX19nZ2cymTxx4kR/f//SpUtdLldjY+PixYstlj9xVwYAbiAEAAD4m4rFYsPDwzqdrqKiwmq1Dg4O9vT0uFyu1atXK4oyPj4u51pe/i1b/8//6Tp+PChESIikEAEhRoVIC6EK4RKi8LL/lV/D6r9IiI9v3mx1uy9/UFVVu92ee4nRaKyrq6uqqjKbzfKA2trahoYGu90uhNDpdA6Hw263V1dXl5eXy8n6ubm5M2fOfPPNN8+fP3/u3Dm56a/BYDAYDHq9XtYFydmd73T69Olf/OIX7e3tdXV1xcXFGzZsyJ5VKBQKBAJGozE/Pz8vL2/dunVms3lwcNDj8cRisZaWlttvv33x4sXxeHzGjBl1dXXPPvusrPsvKyubPXv23Llzc3Nz9+7d293dPTU1JdsJpqenx8fHR0dHDQbD17/+9ZqaGvnjHnzwwbvvvtvhcHz729+WAcBgMKRSqUgkkk6nx8bGdu/efejQIUVR3G73I4888k//9E/v9YoA4IZCAACA68vn842Njdnt9oqKikgk8rvf/e7IkSM6nW7ZsmUOh+M//uM/5CCdDRs2/K//9b+cTqese8l+e+fmzdv/9/+2CmEVIimEVQhFCI8QYSEUIVxCpISoFEJ3Tat/qxAPfPe7latWZR+Zmprq6uqampqSzbhyKwCTyTR79uwFCxZkq96dTufGjRs7OzsPHDig0+mqq6sLCgpmzZpVUVGhKIq8meDz+bq6ujo6OuRIH4fDUVRUVFBQUFhYeM8996xcuTJb+SPX6NlziEajcpZ/KBQKh8PywUwmc+rUqbfeemtkZMRsNjc0NCxfvryiouKee+45efLkyMhIJpOpqqp68MEHrVaryWRyOBzRaLSnp8fv9ycSiQULFnzqU5+qr683mUw333zzL3/5yzfffFN+l6qqkUhkZGSkvb29r6+vtbVV/kRZfRSNRrMbD+fn55eUlMgAkMlkgsFgIBAQQkxOTv74xz9etGjRunXrrv6XAAB/awQAAPgrSKVSclZmbm7uhQsXxsfHc3NznU7n9PT0rl275DX+tWvX5uTk7NixQwaA8fHxCxcunD17NpVK6XS6TZs2ySqUy592amDg+SeeMApRIURSiKAQJiFUIXxCTAuhCpESIkeIIiGsV3/OeiFW33vvvC9/OfvI9PT0yy+/fPDgwampqcLCwgULFqxfv35qakoGgJaWFrmyV1VVVdWqqqpvfetb27dvf/vttwOBQDAYHBgY2LZtm16vb2xsFELI3bikWCwmxwTdeuutd999d2Njo+wlCAQC58+fn5ycdDgcM2fOLC0t1ev1c+fOXb9+fUlJSV1d3S233CLPbXBwcOfOnbKN2Gw2nz9/Pp1O33PPPW63+7HHHsvNzU2n02vXri0rK8tmiZycnMcee6ylpSWVSjU3N2dH+K9atUqn04XD4b179/r9fpkBUqlULBabnp7+o7dIr4/H47LE32Qytba2Lly40OPxyFSQDQaqqk5OTr7xxht33nnnFZVUAHADIgAAwF8qHA6/9tprx44d0+l0OTk5Fy9eHBwcjMVi+fn5yWRycHBwYmLC6XSm0+m2trZAIBAIBHQ63djY2Pj4uJwzo6pqMBjs7u6+4lr4D++7LxYICCHyhLAJERdCJ8SQEF4h0kIoQqQvfXANl//n1dSsfvbZyx/p7u4+cuTIkSNHvF5vYWGh0WhctGjR+vXrdTqd7NxNp9ODg4P9/f3xeLy4uLiuri4vLy8YDHZ0dExPT7tcrmQyWVFRUVtba7FYbDZbtknXaDQ6nc6ioqJ58+bNnTtXXvufmprauXNne3v75OSk3W6fPXv2mjVrmpqa8vLy5KR/t9st9xtWVfXcuXNnzpzp7u6WdwDS6XRFRcWSJUtkJ0BjY6OqqjJUXC4vL2/lypVXPGgwGOT9h0Ag0NHREQwGVVXNyckpKyuTtzgURTlz5szp06cdDsf8+fMbGhpkZ/DHP/7xYDCYl5c3NTWVyWSyO6DJM4xEItFoNCcn5+p/FQDwN0UAAICrEI/HfT6foih5eXk2m00u1tvb2zdv3nzs2DFZOh8KhSYmJvR6vcFgMBqNiURC1rQcP3586dKlc+bMCQaDOp2uubk5EolMT09n5813d3c/++yzK1asmDlzpk6n2/TlL188cUJ+SSeETQibEKoQzkv7AChC5AiRI4T56l9IiRAb31H67/f7fZcYjUafzxcIBLK9rbKXd8+ePb29vTIAzJ071+fzTU5OTk5OTk9PJxKJyclJ2TdssViKioqam5uHh4eNRqM8vrm5efbs2XL1L59N7s/l9XrtdvvU1JTdbi8vL3e5XHa7PVuLL4TIZDLRy6TT6XA4LIv45QFyJ7I/TaYsnU7ndDoNBsOSJUs+8YlP6HS68+fPZzKZ0tLSOXPmOJ3OZDJ59uzZH/3oR52dnTk5OUuWLFm5cmV3d3d9fX1jY+OuXbusVqvc5cBkMskNB4QQJpOpsLDQZDJd/a8CAP7WCAAA8L6Ew+GXXnrp5Zdf9nq9Vqu1rq5u48aNt912m9VqHRsbGxkZGRkZ0el0BQUFqVRKVvVkMhk5lVKv12cyGVltsnbt2vLy8ry8vMWLF5eWlv7whz8MBAKqqiaTyV27dh09erStre0LX/hCnt//5n/+5ztPQydEqRAJIRxCKEK4hagU4mpXnQ4h7vvud4svFbtnFRcXl5SUlJSUGAyGoqKikpKSoqKi7Fe9Xu/hw4cPHTqUDQDRaNTlcsnZ+YlEIicnx+Fw5OTkyHWwxWJZsWKFbCCWxy9atKiurk4+WzweHxoa8ng8Q0NDMgA4HA6PxyPvJFxxYtkpSUVFRel02mAwRKPRt956q7CwsKCgYGRkZGJioqGhoa6u7r0qcBRF2bNnz7Zt24xG43333bds2TKLxXLXXXedOnVqYmJC1im99tprvb29t9xyi8Fg6Ojo6OzsdDgckUjEarVOTEwoivKHP/zBbrcXFRUVFxenUqlEIiGbAYQQJpNJVdUjR47o9fra2lq73S7bOa7yNwMAfwsEAAD48xRFee65577zne94PB5Z+9HR0TE8PKyqaltbW2FhYVVVlZx873a75dzMZDIp507K/aQymUwkEnn++eerq6tzcnJqa2t9Pt/4+LjccyqZTMqr2pFI5NChQ3aDwfj738tSEkWIqBApIcxC2ITQC2ETYpYQUSFUIWx/ckewd2UQYuW997ZcVvqfNXv2bFkb4/V6i4qKbr311uyut+l0+uTJk0eOHJFFOMlkMplMyrTQ2NiYTCblwn3u3LnNzc1yOpAQIj8//84771yyZEk0Gs3Ly3M6nZcXOMk9v+QeApd754npdLrZs2cvWrQonU6PjIz4fL7+/v7R0VGj0agoyokTJ0ZGRlpbW7/61a/W19e/66uempp66aWXtm7dKncHmzdvnsvlunjxYm9v74ULF+RS3mQydXd3X7x48ZZbbrHZbDabzWq1yv7gixcver3e2tram266qba21mazqap6+vTpWCwm/3swGAzHjh3r7OwMBoO5ublz5sxpaWlZvXr1e23qDAAfIAIAAPwZ6XT63LlzW7duHR4ezk6v9/v9J0+e/MlPfrJv377y8vJbbrmluro6EolMTk4ODAw4HA6DweB0Oo1GYzKZjMfj8lva29vb29tdLpdsCz558qTcXevyUnK/3//Gtm3VqVSLECYhRoQYFyIhhFWIMiFKhZCbAecKIf5Kpf9ZDodj7dq1s2fP9vl8+fn5s2bNkkv5dDp99OjRHTt2dHd3T09Pp1Ip2aug1+tramrq6+trampkAGhpaVmwYMHli3hVVQ8ePHj8+PHGxsaNGzdmB2Vardaamprq6mp5+V9OEZXThN713PLz8xsaGk6ePFldXV1fXx+NRmOxmKIohw8f7uzslBuTzZ8/v7a2NluHE4vF5F5jJpNJUZTsdmDZTcHi8Xg0GpW/U6PRKJsckslkQ0ODnPhpMpny8vI8Hk8oFHI6nSMjI+Fw2O/35+Xl3XbbbbW1tZs2bZJ9w6qq9vX1eb3eRCJhMBiOHj3a3NycTCY/9alPZeMQANwgCAAA8KekUqmdO3du27atu7s7W6wvhJAr+xMnTpw+fbqmpuaee+753Oc+d/To0V/96lcDAwN+v1+v10ciEafTmUgkEomEyWSKx+PZpadsFB4eHpYFLfIquKqqiqIomUxQVUeEyBMiTwiPEONCxIWwCZESwi5EdpOwa1j9lwlx7+bNtj8u/b/8lb799tuzZs269957sxM/5dkeOHCgq6trbGwsHo8bjUaLxVJQUFBdXe12u8vLy5uamlRVtVgsTqfziiKcnp6en/3sZ8eOHWtsbKysrFy4cOH+/fsDgcDSpUtbW1u9Xq/D4ZAZYPbs2bfeeut7NdFOTEy88MILu3fvdjqdDzzwwJNPPnnmzBmdTtfb25tOp/V6fTQaPXXqVHd39/z588Ph8Jtvvvn6668nk8m2trZPfvKThYWFGzZsUFXVaDTeddddubm5QgjZdux0OiORSF5eXjQatVqtra2t9fX1+/btGxkZUVVVr9fPmTOnvr7eYDCMj48fOXIkGAw2Nzd3d3ePj4/LXmd5tyeZTKZSKRkzEonEmTNnTpw48bGPfay0tFS2UF/9rwsArgsCAAC8CznY0ev1ygk/u3fvnp6eNplMcrFus9nKy8tVVR0dHQ0Gg4qiDAwMGAwGi8WSSCTi8XgikdDpdPF4XK6JzWaz7ASQtf5ms1lV1Uwmk06nFUWRS0OTyWS326PhcDQaTQsREyIghE6IoBBBIRJCpIVwCBG6FACuYTnpFuL+X/yi5B2l/9LZs2d/+tOfHj16dNasWUVFRXfeeWf2SyMjIwMDA319fXL6jd1ud7vdM2bMKCkp2bZt229+85vbbrvt05/+tNVqVRTlikFGyWRSXq2PxWLhcPgHP/jB888/n06nN27c+PWvf339+vVNTU2y/be2tra4uPi9FspTU1Pnz58/f/682+32er1f+9rXIpHIli1bent7xaXJpF6v9+zZs42NjS+++OIzzzxz/vx5VVX7+/sbGhpWr169YcOGJUuWyDKtZDJpNBoLCwu/+MUvPvDAAw6HIzc3NxaLhUKh/Pz873//+zt27JicnFRVdWpqqrS09Omnnw4EAj//+c9lF7LH4zl79qz81ct7BYqi5ObmJhIJufOxuNS4vH379kQiUVVVtWrVqis2eAaADwoBAADexcmTJ1944YWBgQGj0Tg8POzz+VKpVGVlZUNDw80337xgwQJVVbds2bJ//36dTudyudxut+wMbmpqmp6elqPiTSbTzJkzm5qaZF9sTk7OqVOnjh075vf7c3Nzc3JyzGazrGPJZDKZTCaZTOpTKYsQOiHsQtiEMAqhF8IghOHSB9c8ZN4oxO2PP978xBPvdYBc/kqRSOTyL2UymXA47PV6ZbWM2Wyurq5etmxZOp3ev3//2NhYMplsbGzMZDKxWKyoqGj27Nn5+fnye2fPnv3xj3+8pqamsbFRr9f/5je/OXv2rBCip6cnFAqVl5fPnz///Zx/aWnpvHnzJicnXS7XvHnzcnJyZGt1JpORZf16vT6VSiWTyWAw2N7efuHChXA4bDAYwuFwIpEQQsjO5v7+/oMHD8pfwdy5c2fNmjVz5szx8fGBgYFYLJZOp8+ePfvqq6/Krl8hRDAYPHPmjJx5evz48dHRUbmtgbwZIqv/CwoKCgoKZs6cKVs+ksmkrCbq6+vzeDzj4+OyPOwTn/gEY4IA3AgIAAA0SlEUuUbPjrnMisfje/bs2blz58DAgBw+U19fH4/H58+f/5nPfGbZsmXyGFkMMzU1VVNTs3LlSpfL5XQ6H3rooerq6qGhofb29lAo5HK5Zs2aJbe+SqVSP/nJT7q6ulKpVCQSGR0djcVi2ep/WfzjFMIlhFOIXCGqhRBCTAuRvtQDkC+ErN25hsv/i1palj3zzJ84oLGxcd26dcXFxbNmzVq8ePHlXyorK8vLy5MVUHq9vqCgYMGCBUuWLPF4PHKvg3Q6vWvXLjkAtKioqK2tbf369YWFhUIIh8Px1FNPPfTQQ06n85VXXolEIvJieUNDgzzgfcrPz//85z9/6623Op3OhQsX6vV6q9VaWVlZWVnp9XqdTmdBQUFlZWVFRYXT6ayoqKiqqhodHZXF+gsWLJBPIns5Tp486ff7XS5XX1/f2rVr+/v7f/vb3/b19YVCIVnI5PF45OpfCCH3CBseHnY6nQsWLBgfH+/v7/d6vWNjY+l02mw219bWNjQ05OfnyxsLPT098rui0Wh7e7usTYpEImfOnAmHw9wEAHAjIAAA0KKhoaFf/OIXx44dk7MgN27cePnKTFGUSCQSiUTC4bDb7W5qapo/f76qqnPnzm1ra5PHWK3W9evXFxQU+P3+5ubmWbNmySKfxYsXz58/f9euXUNDQxcuXBgcHLxw4cLo6OhXvvKV6urqFStWtLe3R6PR8fHxbD+xZBDCKkSJEHVCFAlhvrTp7wwhHJcCQKkQjmta/de5XB979tl3Lf2XotHojh07AoHA/PnzDQbDa6+9tnbt2uwk/urq6vnz5+fm5kajUYvF0tDQsGTJEjnwJ5VK9ff3BwKB7u7uc+fORaNROSKzrKxs9erVsh9AzsgXQjQ1Nd18880ul6upqenTn/701U7JrKiouHyojtFoXLx48eTkpNPpDAQChYWFixYtamlpsVqtDz/8sKwUmjt37ooVK+QvNx6Pt7e3Hz9+/MSJEzIAyHKsjo6OnTt3hkIhueiX9xOyP0VuBvyNb3zDbDbrdLqJiQmfzyebOgoKChYvXvz4448bjca8vDyDwTA9PW02m5PJpLj0X5HRaDSZTE6n0+12MxUUwA2CAABAQ1KpVDweT6VS3/ve955//vmpqSmdTnf8+HGfz/fZz3728gE1ra2tx48f1+l01dXVt9122/333y93w5UHyHLzn//857t37xZC3HbbbZ/5zGdMJtPJkyfT6XRzc/PZs2d7enpGRkbS6XQwGHzjjTcaGhqeeuqpefPmNTQ0vPHGG1es/s16fYmilApRLkSxEIZLj+uEKBDCJURGCKMQhmta/ecLceczz7xX6b/09ttv//CHP+zp6bHb7el0Wm7L9ZWvfEWuWc1m87p16w4ePHj48OGSkpJHHnlk7dq1brdbCPF3f/d3vb29zz333MjIyPDwsKyikbsiJJPJ7P5cqqpOT08nk8nly5cvWLBg6dKl7zWv86qUlZXdf//9LS0twWCwoKCgrq5O9i7X1NQ89dRTqqoaDNn3UkSj0clL/H5/MpmcnJycmpqKRCKyGUMelslksn3MBoPB5XJNT0+PjIwoiiKrjOQQJLnolxmgsrJSp9MlEomxsbGOjo6enh6ZAWRhUkVFxc0331xVVdXf3z9jxgy2CgbwgSMAANCK4eHhN954w+PxGAyGP/zhD1NTU+l0WggxMjJy4MCBu+66KzvzXq/XV1VVTU1N+Xw+OQ9eruTkVyORyL59+zZt2rRz506fz6fT6QYHB0tKSpLJ5IsvvpjJZObMmTMwMDA2NibbYZPJZCAQ8Hg8kUjEZDKNj4/HYrErzs2tKIuEkFXz71ziG/+C/1lbhFj++ONz37v0P/uiQqFQMBiUdfzRaFRW/GcvWpeXl3/rW986e/asHPyffTdkLjK+gyzQzzYEDw8P79q1q6ury+/322y2VCoVDAYbGhpKSkpsNtu1vjghhMjPz8/2G0iqqobD4WwHdrar2Gw22y9JJpPyg7KysoqKiv7+/u7ubtkqYDKZXC6XPFiOBurt7ZULevmqZVRIpVI+n+/8+fMej6eqqkoIYbFY7r33XpPJ9L3vfa+vry8cDhuNxqqqqiVLluTl5W3dunXbtm233nrrI488ImcQAcAHhQAAQBPi8fjWrVtfeuklj8eTl5cnx3TKL8kRnDIMSKqqvvzyy6dOnfL7/aFQ6Pvf/35HR4fb7d6wYUNdXd2BAwd+8Ytf7Nu3b2pqSq4FJycnOzo6YrFYR0dHKpWSTaKBQEBuBGaz2WbMmFFRUWG32xVFKSgosNlsgUAg++MsQswQwirEgBAxIWxClAiR825J4Bou/9/U0rLivUv/Zal6KBSqqqpau3ZtfX29zWYLh8Nms3nNmjVXDLAvKysrKyt755MUFhbW1dXV1dWl0+loNFpQUGC324eHh3fu3FleXj579myr1frWW2/JQaJyar7T6Txw4MBNN900b9685cuXl5SUXP0re3epVKqjo6O9vd3n87nd7tbW1oULF8oYIyeN9vb2plIpWQI0Z86cuXPnLlq0yG63b9q06fTp04qiVFdX19bWlpeX19bWptPprVu3Dg4Oymk/2YE/2XfP5/N1dXW1tLTI20dGo/Huu++eP39+b2+vvL3gdrsdDsevfvWrQ4cOCSESicRNN920ZMmSv9brBYBrQAAAoAnBYLCvr09ery0tLZX1J3LQe21t7dKlSysrK7MHy3qVaDSqqmoikWhvb+/q6nK5XKOjo/fcc8+uXbuOHDni9XplpbjBYJB9An6/v6amJpVKFRYWTk1NWa1WOSuzsrLSarUajUa5Y4DT6SwpKZGTMQ0GgzmZrFCUKiEuCDF6KQBEhagX4ooL49ew+p/lcq1579J/RVF6e3uPHTs2MjKi1+sbGhruvvvu5uZmv98vhCgtLX2fo+udTufy5cvT6XRFRUUgEAgGg/F4vLOzs6urq7y8fPHixa2trQMDAwMDA4ODg9PT03Je6vj4uNfrnZiY0Ol0a9euDQaDU1NTBoOhpKQkLy/vmqfmnz59etu2bbKsy+12ezweo9HY1tYmty1buHBhKpUqLy+XAWD+/PltbW12u/3++++3Wq0vvvhiJBK59dZbH3jgAZvNlpeXNzk5GQgE5LxXh8NRXl7e09MzNDQkN3vW6/Ver3fHjh3l5eUbNmyQ56zT6Wpra2tra8WlaqJ9+/bJlnEhhBwRe20vDQD+WggAADTBarUWFBTk5+dHIpHCwsKlS5euXLmyo6MjGo02NTUtX77cfdkqWa/XV1ZWWiyWZDKpKIrP58tkMl6v94UXXjh69OjExET2+r3JZKqoqHjggQceeuiheDxeWVmZTqeLi4v37t1bXl6ek5Mzb968cDh87ty57du3d3d3FxcXDwwMqKpaUFCQl5dXmE5bT54sFMInxJQQXiHiQliFMAtR8scB4BqWwwVCfOyZZ0rfu/Tf4/Hs3LnzrbfekjvdFhYW3n777WfOnLFaratWrbq8ev7Pqq2t3bhxY1dX17Fjx86ePdvb2zs8PJzJZCoqKhRFMZvNcl6n3CRLjj2V3QJWq7WiokKn0/X394+MjBiNxrq6upUrVzY2Nl5DBkgmk6dPnz516tSpU6dkADAajfX19XPnztXr9UePHvV4PA0NDY888kgsFpMVPkajUQhhs9m8Xu+FCxempqacTuddd93V0NAghHA4HE8++eTSpUvD4XB+fn51dXVHR8cPfvCDs2fP+v3+RCLh9XrPnDnT2dl5xx13vLOWSb6H9fX1bW1tMhdVVla+610UAPhbIgAA+OhQFKW7u/vAgQOKosiBMNm2XafTuWbNmkgk4vF4ysrK1q1bd8stt9xxxx3pdDoSiSQSiVQqdfmM9sLCQpfLFQwGhRBy/GU6nR4fHx8bG8vJyTEYDHIAfFVV1d///d9/+ctfltUyjz32WCqV0uv1NTU1P/vZz86fP79///5QKOTxeBKJxMjIiKw+GhoaymQyNpPJPzDQKIRZCOXSP5nLPv5L2IW45U+W/mcymZ6enq6urq6uLjkC32w29/X1mUwmq9U6ODj49NNPv/+pNTqdzuv1vvjii8eOHUskEqFQaHh4WG4KVl5eHggEiouLy8rKxsfH5S65ctODWCwWifz/7J13dBvnlfYvMDPolSCISrB3gkVsomiJpHqxJVmRo9hZ95zsfmsncZKTzfZks84fX5qTrJM4J66Jm1wlS7JkFUokRZEqlNkb2EEARO+DMgPg++P9hMOVZFmS5di7Z37HxweEBoPBEIfn3vd97vOEFxcXHQ7H9PS0xWIhCAI1SEqlUqFQ3OqnRr/NNARBoAc0TV+4cOE3v/nN/Px8TU3ND3/4w4qKipUvjMfjVqsVbUrYbDYUADcxMcFms0tLSzds2JA+Uq1Wi8XiQ4cOffDBB2jMhYcK4wAAIABJREFUw+VyIYFTe3s7aieuQqvVbtiwYW5uzmw2+/3+jo4OmUymVCpv9dMxMDAw3CmYBoCBgeF/CalUqqen5+mnnx4dHWWxWA0NDd/73vfy8/MjkYhYLKZpuri4+Fvf+pbb7ZbL5SqVisVi+f3+0dHRQ4cOeTye1atX79ixY2Zmxu12GwyGkpISrVa7vLyctuvBMIzH4xEEoVKphEKhy+XCMKypqWndunU0TY+MjFAUZbVazWYzeruJiYn+/n4A4HA4fr8f6c45HE4sFqNpmqYo+/Q0J5lEfpMiAClAGIALwAOQAqx0irmN5f/q6urtL798gwMSiYTP5/P7/X6/H3nzJ5NJlGJLEASK/rXb7VqtNj8//2YW4y9cuHDq1Knp6Wm5XI4cMxEAwOfzS0pKfD4fjuMjIyMulyscDicSCalUKpfL0dQEagBwHEcqfKvVehsNAIfDyboCQRAymQw95vF4JpNpcnJyfn6ez+cvLi5e1QAg36ehoSGXy1VTU5Odnf3qq68eOHAAw7C9e/c++OCD6cqey+W2t7fPzc2dOnUK2QEFg8H+/v6XXnopJycH7RsAQDwe9/l8AoFAJBJRFDU9PW2325ECjaZpg8GwdevW25Y5MTAwMHxGmAaAgYHhfwnhcPjw4cOXL192u90AkEqlXnnlFR6PZ7fbo9GoXC4vLS3dt29feXk5XOkW3nvvvb6+voWFhXg8bjabp6ampqamLBaLXC7ftGlTS0uLxWJBcwIYhmVlZRmNxrKysrKyMi6XOzU1hcTleXl5L7zwwrlz55xOJxK3iMViuVzu8XiQWzyfz+fxeDRNq9VqhUIhFotTqZRrdpafTEoBUAiZCCAHgHNFAqRZ0QDcnvT/ngMHbnwMhmHiK4hEolgsJhQKi4qKZDKZXC6vrKz8r//6r/7+/tLS0h/84AdlZWWf+qaZmZlZWVl+vx/lIvP5/GQyqdVqs7Oz9Xp9RUWFWCwuLCwsKCgYHx93u93xeFwsFpeWlgoEgqmpqXg8jupplOZ7lU3qTYLj+KpVq5aWlnAcTw8B19fXEwRRUlJSVlbG5/PLysqQQH8lbDZ7x44dGo3G6/WWlZUJhcK+vr6+vj60ybNz586V3UgikfB6vcgVFF2w0+k8d+7cmTNnioqKWCyWx+P5y1/+Mjg4mJ2d/fWvf12j0TiuQBCEw+Gw2+2JROK62wUMDAwMfwWYvz4MDAz/S6AoiiRJVEQiV5/x8XEk2kHzmhMTE3K5/Bvf+AaO436//8CBA++9957L5UIGL3Nzc7OzsxaLJRqN8vl8t9u9bt26u+666+OPPw4EAgKBID8/v6qqqrGxsb29fXl5ORAI8Pn82tramZmZkydP9vb2xuNxHMcpihKLxVVVVbm5uZmZmTweLzMzM5lMBgIBiqK4XG4ikSDicVEkkgWgBUCqIxaAEkAGQAPgAMSVuv/2XP83/u53smtq3KvAMKykpKS8vBzFFSOtzvr169euXSuXy2dnZ19++eX+/v5wODw1NXUzDcBdd9317W9/e2Zmhs1me71eFKaLhoArKiowDMvLy0NRaENDQ2NjYz6fTyQSlZaWoqxcrVabSqUIgtBoNFqt9rYVMtnZ2bt379bpdG63W6VS1dTUoPHulpYWHo9nNptLS0tLSkqufaFAILjrrrvQ42AwiDKGMQzT6XQrxf2JRKKzs3NkZCQej8tksnA4HI1GE4lEKBRCSiqPx/Pyyy+/+uqrS0tLWVlZIpHoySefzMrK4vP5QqEQwzAcxzMzM29pxIKBgYHhzsI0AAwMDP9LEIvFDQ0N58+fn5mZ4XA4paWlUql0ZmYmGo1iGJZIJJDcBa28JhKJWCwWi8XYbLZKpZLJZNFodGlpCTn/hMPh2dlZFovF5XJxHBcKhQKBIBgMnj17FsnEJyYmzp49y+PxPB5PRUUFmnBFKhqaphOJBJfLveeee4qLi0UikUKhmJ+fP3HixOXLl2dmZnxer3t2lg8QAfAC8AGQ0J4FwLnyGK48c6sIAObF4i6vt+omDs7Nzd20aZNUKrVarRiGGQyG5ubmgoIC1D6VlpaGw+GSkpJr18uvi1AovPfee1OpVDQaNZlMZrM5kUhotdqSkhIUzgUAGIZJJJI1a9YYjcZIJMLlciUSSTgcRpsnSAJUUFCwevXq256UDYfD09PTy8vLkUhEIpGkLTs5HE5zc3Nzc/PNnEQsFj/yyCOoAbjKDtXlcp0+fXpgYMDlcqH9E6ShUiqVMpksGAweO3bszJkzVqsVNQMTExPJZDIjIwPHcS6XCwCpKzASIAYGhi8KpgFgYGD4H4/f7798+bLD4ZDL5Y899tjc3JxcLt+4cWN/fz9N02azORqNCoXCsrKytCW8TCbbsGGD3+9Hvux+v//YsWPhcBg5eyJ3fKRLAQCKolAWGLKDXFxcjEaj4+PjXC63qKhow4YNa9euxTDM6XSiTkAsFpeVlTU0NKQXznEcP3369PLy8tTUVDgYZANEASiAOAAbIPu2av3rkgJ4OxYTjYzczMEYhhmNxpycHJ/Px2KxMjIyhEIhqkpzcnK+//3vX7hwobS0tLKy8uYvgMVi8fn8qqoqJLK/7jo3m82WSqVSqRT9KJFI1q9f73K54vF4QUHBhg0bSkpKbk8eQ1HU2bNnjx07NjExEYvFtFqty+X6yle+chs5A0ithD7Ryuej0ajP50MBETiOq1SqoqIiDoeTn5/f1tbmdrtHR0dtNhvqLXk8HvIXWl5eTiaT6AtGkuT09DRJkkwkMAMDwxcF0wAwMDD8TwXpLiiK+uCDDw4fPuxwOABAqVQ2Nzfv27cvJyenoKAgPz/fbrej4d3s7Ozs7GxkdKNWq+++++7q6mqappVK5RtvvEHTdLrUwzCMz+ejGdZ0tG0kEkFeMcFgUKVSabVaoVCYnZ1dWFj4t3/7txs3bkSGNlarVSQSrV69GkUNpEH9QzwSQSvSMYAkAAEgA1BdmQRYyW20BGocf0kkMmRmtrW13eRLWCzWylo8TSwW6+vr6+7unpub02q1er0+Go0i186btAa6JYnL+Pj4hx9+ODs7GwqFdu7ciVbKbwOPxzM4ODg4OIgaAKfTKRKJKisrby9o7Lor9HK5vLCwMDc3Fyl/fD5fXl7exo0bt2zZkp2dPTw8jG5UKpXCcTwrK0smk8Xj8VgsRpIk6iej0Siyl729z8jAwMDw2WEaAAYGhv+R+P3+EydOICn56dOnTSZTNBrFcZwgCLPZLBKJvvnNbxIEwWazQ6FQIpFYtWoVh8N57bXXpqeneTxeXV3d9u3b8/LyACCVShmNRoPBsLS0hFKfJBJJVVVVTk5OJBKx2+1er5ckyUAg4PV6KYoKBAL5+fn33HMPknYMDg7W19ejbFeKosLhMIfDQf1D+molEklBQYEkleLSNLL4TAGkrvh+hgACAASAcMVIwK0iA2h/5plciUSn061du/Yz3t65ubn333+/u7s7OzvbYDCUlpZOTU1Fo1GlUllTU5Ofn5/OUb4jzM/Pz8zMzM7OZmRk2O12tPR+G6BfEyIWi4lEIhRMdgf1NhKJZOfOnU6n0+VyLS0t2Ww2iURSV1cHAD6fLyMjQ6/X63Q6iqJwHM/NzdXr9VKp1GQyLSws0DTNZrNRBAFKDmZgYGD4QmAaAAYGhv95JJPJzs7Ot956a2xszOv1IvUIep6iKJfLZbVaQ6FQV1fX+++/bzKZeDze8PAwn8/v6+ubmZnh8/kOhyMrK2v9+vVomb+hoeH++++PRqNzc3NsNrusrOyBBx7YsmXLRx999Morr8zPzyNTGjabnUwmuVyuTCaTSCTvv/++0+ksLCx8/PHH9+3bx2azkfXktRfM5XILFYrExYs6ADdAFCAJwAEQAgQALgNEADgAaoACAMmt3xAewNbvfGftk09+1sL/CigNgM/nc7lck8mE/JFQA2CxWO6+++7brtGvS2VlZX19fUZGRn19/U2OHFwXLpebLv1FIlFGRoZCoVAoFJ+9+vd4PLOzs0KhMC8vD02SsFisVCpF03QkEjl//rzFYpFIJGhwPJFIzM/P4zheWlra3Nx8+fLlzs5Ov9+PTKK8Xm80GqUoipkDZmBg+KJgGgAGBob/ecRisekrINk9ep7NZmdkZGRkZIyPjz/33HMOh2NgYAAt+aPDJiYm3G43h8PJyMhAjuwo/IvL5X71q1/V6XQXL15MJBKlpaXt7e1SqTQajVosFpvNJhKJkC4lrZk5fPjw4OAgTdPBYHBoaGjXrl0rR0WvgvT5Xr/vvnwAFYADwAMQBcAAYgB2gDBAAgADCAGwAMr/+yjwzZCt1ar+z/9BxpS3fVdXkpub++ijj5aUlPD5fFTgogYgKyuLxWIZDAaDwbAyN+0zUlVV9W//9m92uz0/P1+r1d72ecbGxvr7+202m1AoLCwszM/Pr6+vv67nzy3hdrufe+65c+fOSaXSlpaWpaWls2fPejwe1O+JxeKZmZn+/n6hUOjz+Z588smHHnoIDTRTFHXy5MmTJ08iTyR0NoqiQqEQTdOf8aoYGBgYbhumAWBgYPiyE4vFkOdmemgSwzCRSIQ8WJCZDxJXINPJpaWl8+fPj46OisViVGmh3FmPxxMKhZAWPxaLhUKhCxcuiMVimUy2uLiI43htbW1jY2MikRAIBGh1tqyszGg0YhiWTCbRii+KqdJoNG63G8MwNputVCrz8vLSsnV05FVLzs/t3h3x+5HiXwIQAiABfADjAEEA5HiP6kEnAHmLDYAGw95Rqy/+x3/8wz/8Q01NzWe82wgcx7dt27Zhw4bJyck///nPLpfL7XZHIhE2m+1yuVwuVywWw3H8ZlbW0Ro5APD5/E8a7WWz2UVFRVdNTdwGc3NzTqczFAqpVKp169atXr161apVGRkZVx2GJnGj0SiPxxMIBJ/6KSYnJ7u6us6dOycQCNxuN47j09PTXq8XmUTNzc2RJBmJRPh8vtls9vl8q1evRkMCv/rVr958802LxYImTFCgREZGRlFREY/H+4wfloGBgeG2YRoABgaGLzU2m+3gwYPT09NKpXLbtm1Go5HFYnE4nJaWFrPZrFQqo9Go2+0OhUJCoXDbtm0ajeYPf/jD8vIyl8uVSqUCgUCn06lUKr1enzb54fP5BEEMDAwgK0+SJH0+H5fL3bZt2yOPPJL2rASAurq6733vezMzM6FQaHx8fGJiIhwOq1SqioqKyspKtVodi8W2bt26Z88eDMN8Pt/4+LjD4RCJRCUlJTqdDlWWh3/8Y1NnZ/qcbAAJAAawBBC+Uv0jkgAUQOJW7o8MYLis7PLYmDcSmZycvFMNAAAgF1Q+ny8QCAQCAZpqQI9TqdTQ0BC653l5eWq1+ro7D6lUamZmZmRkxOl0slgsvV5vNBpVKtVtOPwgCx0ul3vjEWSj0VhXV6dUKlevXv3444/rdLprL4yiqKGhoY8//hglhdXW1lZXV994N4PP51MUhcY/5ubmdDod+nRouhc5wKJ5caFQmE4wiMViLpfL6XSSJKlQKORyOXKkzcrKmpmZ6e3trampWfllY2BgYPirwTQADAwMX1Li8fjAwMBf/vKXnp4el8ulUqni8bjBYEAi+7Kysm9+85sLCwscDkckEtntdi6Xq1Ao3n33XeTPSFFUMBjkcrl5eXllZWVouhfVr4WFhVlZWUNDQ+jlyWTS4/FgGEaSZGtrK/KvROA4XldXV1dXR1HU8PDwgQMHxsbGYrHYxMREdXX1j370I4PBgFKiPB7PkSNHzp8/73A4OBxOUVHRzp07a2pqTJ2dR/7jP679dKEryp+V4ABCAP61R38CXIANTz2V4HCqOzvz8vKKi4tv71bfALVaXVxcbDabWSxWJBJRKpUajcZisUxNTbndboFAUFpaumHDhrKyMpfLZTKZFApFUVERisg9fPjw73//e4fDIZFIUAuh1+sbGhrKy8tLSkpuoJi6Coqi3n///a6uLr1e//DDD98gIqChoeHf//3fHQ5HUVERKtOvZXR09ODBgx9//LHP55PJZGazGcOwmpqaG+wDFBYW6vV6Ho8XCoUAICMjIz8/H6m/ViYWy2SyxsbG9AyDSCRqaGiYmZkJBALl5eWFhYXHjh0bGxsbHx8fGxvbv3//448//o1vfONaCyYGBgaGzxumAWBgYPhygfQ5LBarp6fn9ddfP336tN1uj0QiFEVZLJZgMIgaADabjWw90avKy8tTqdTBgwd7e3tdLhdN0yiTSyKRqNVqt9s9ODhos9lYLFZubm57e3sgEBgaGvJ4PEiXQtN0PB43mUz9/f0rG4A0BEGIRKJEIuF0OpeXl+fm5jwej1QqRbOwqVRqeHj43LlzaBgUAC5fvjw7O/vwAw98sG/ff/t0ABGAIIALgALAAFgAKQAWAA4gB8i96QaABXBXa+uGZ56pWF6+++67s7KyPruE5lrEYnFrayvS/U9MTCDrG5/PhxoAoVDocrn4fD6fz3/hhRc6Ozv1ev1TTz3V1NTk9Xr//Oc/d3d3UxTF4XA4HA7ak5mamqqrq2tpaWlra7tJGczCwsKbb76JTp6Tk3P//fd/0pEYhpWXl5eXl3/SAbFYbGRkZHh4eHh42Ov1yuVyHMeLiorKy8tv4D0qFApbWlpGRkYsFkt2dva2bducTuehQ4dMJpPf70dqfi6Xm5mZWVhYGAwGBQIBh8PBMGz37t2FhYUoT81kMr311ltOpzMWiwFAOBx+++23m5qa0vHDDAwMDH81mAaAgYHhy0IqlTKZTO+9997k5KRSqQyFQv39/RaLJZlM8vl8pVJpMBgkEsknWTrSNG21WpeWlpDvJ1wx7bHb7Xa73Ww2kySJytBAIDA/P8/j8TQaDZvNpigqHo9HIhEWixUIBD5plHZxcXFhYWFhYcFmswkEAolEMj8/Hw6HpVIpTdPLy8vLy8tLS0sul4vFYoXDYZqm548f1/r9yBWIAiABAgAOgBBADCByxf4/AYADyAAqbyUUrEgq3XHgAACo1Wq1Wn179/xmyM7O3rVr19DQ0KVLl4aGhgQCATLrRA0An89fXFwcGRm5dOnSpUuXlpeXBwcHm5qakslkJBJBvjfhcJgkSYIggsFgIBBAFpk5OTnpoLQbw2Kx2Cv4LJ+FpunQCnAcDwaDKE3iBg0Am83etm1bIBAwm82VlZV79+5NpVJyubyrq2t6enp+fj4UCrHZbJIkX3zxxaNHj5aXl+/bty8zM5PP5zc0NKCT9Pb2BoPB9OxvIpGYnZ3t6uqqq6tDm0gMDAwMfzWYBoCBgeHLwuDg4NNPP93d3U2SJJ/PV6lU0WiUxWLxeDy9Xr9p06bGxsauri6SJPPy8qqqqtLrx6lUKpFI4Diu0+nUajXKk0J1PEVRNpvN7XajUxEE4ff7u7u7XS6XXC4XiUQoolUikej1+qKiohs43LPZ7FgsRlEUm81G478YhqFWBGW+crlcNP6LZkwt8/MJihIDyADCAEsAbgA3AAlAAbAACAAugBSAABADaAE0ADdZ3ioAvnrgAO96lqM3QyqVOnr06EcffWQ0Gh988MFPDd4SiUQajYbL5aJmCane0Ug0IiMjo7Cw0Gq16nS6/Px8AECemAsLCxaLJRwOIxemeDxO07TlCqWlpTczRpyTk/P1r3/dYDDo9fobZ5whX070q7nuARwOR6lUKpXKzMxMHMdlMhn68VPvgMFg+Na3vkWSpFgsRgMDX/va14xG4/j4+OHDh/v6+txut9PpREkRZWVlGo1mz549K8+g0+l0Ot3CwkJ6FiUUCvX09Gzbtq22tvZTbwIDAwPDHQT78Y9//EVfAwMDAwPMzMz86Ec/OnHihNfrTc9WoiXkzMzMzZs3NzQ0dHV1ffTRR5cuXZqfn+fz+Xl5eWw2e25u7vXXXz9+/Ljf76+pqeFwOCgHKu3GgzRFyLUmKytLq9Wi6AClUhkIBFwuVzQaFYvF1dXVbDbb7/cjmfu1V2gymd555x2n04ne2mg0trS0lJaWomVpFotlt9utVitJkqg+xhIJCYACQAhgBlgEsAMEAGIAcQAKAAeQAugA9AAaAMVNV/9cgPt+9KOSRx657bvd3d193333dXV1HT9+XKFQNDY2fupLRCIRGgLW6/VZWVloFT8zMzM/P7+2tratra26urqkpGT79u3Nzc04jrPZbKFQSFFUKpWKRqPIBBPl48rlcoPBUFFRkZ+fv7IBoGkapbld1RWw2ezS0tK1a9euWbNGIvnEmASfz9ff33/hwoXp6WmapuVyOWoDUK+CzolhGJLys9lshUJRUFBQX1/f3t6emZn5qXcAx3E+n59uLXg8nsFgyM7ONpvNdrudzWYLBAJk8SkWi+vq6qqrq6+6gR6PJ90koLtBUZTBYKivr79TOWUMDAwMNwPTADAwMHzxuN3u3/72tx988IHX60WLoywWK5lMkiRJUVQikaBpur+/v6+vz2QyWSyWSCTC4/EkEklHR8ePf/zjd999t6+v7+OPP87MzHzggQeqq6vtdrvH40EzmlwuVyQSSaXSrKysurq6HTt28Pl8mUxWUVGBVm1ZLFZWVhaXy0UnWVxcbG1tTVuOpjlz5syxY8dcLpdCoVi/fv2WLVvWrVuXFm/IZDKpVBqLxcLhMKRSSb9fCqAA0AKwACwADgA/AAWQAgAAFgAfIAMgF0ANwLtp5Q8LoLW1dePLL3+WG/7mm29++OGHaL1cKpXu3bv3qgNSqdTo6Ohbb7310UcfORwOrVYrFArLy8tbW1vXrFmD9lJQ9V9TU7Nu3brc3FyFQlFeXm4wGJDJD4vFkslkyBsHnRPHcYFAkJmZiar/5ubmtGEOADgcjpdeeunQoUMkSRYUFFy1hI+sn26QnOX3+48ePXrs2LG+vr7x8XFkA6XX6+fn5/fv33/+/HmxWIzeTiaTabValUqFqv/W1tbc3Nzbrr8FAoFIJEITKVVVVRqNRqlU1tfX79q1a2VTQZLkT3/60zfffBOF1tE0jexo2Ww2uhW34YzEwMDAcNswf3EYGBi+eEZHRwcHB5FRD3qGxWIh//5UKhUOhwcGBpDUBC3l+ny+np6enp6eubk5q9WaXmY+ceLErl27KioqWltbnU4nah6QLojNZkciEWRbuWXLFjSp+frrrxMEwWKx2tvbT548GQwGk8lkd3f3888///DDD0skEofDgXwbRSKRXq8vLCzkcDj19fWPP/54eXn5SktKHMdXrVql1+urq6uffeIJ7pW53ug1lT0GgAHwAeQAcoCr+4xPoyonB0n/Pwt1dXUSicTv9/N4vPXr11/1r8lk8ve///3Pf/5zu92Oko/r6up+97vfVVRUoD5n586dxcXFHo8HWSoZDIbrFtB8Pr+trS03N7e2trarq8tkMoXDYZFIVFZW1tTUlJeXt/LgEydOvPLKKxaLZXp6uqSkpLS09JY+0eTk5Pnz58+fP2+1WgmC8Hq9UqlUr9f/5S9/eeedd2iaXlxc/Od//me5XM5isXJycrKzs2maRjsVt3r3EOFw+OzZswMDAxKJZMOGDdnZ2VKplCRJu92uUqmumso4fPjwn/70J6/XCwDIIgk9j5qi27sABgYGhtuGaQAYGBi+eNAALioi0f8TiQRS/7PZ7EQiEYvFUOnP4/HEYjGXy52fn3e73SRJpqcqUYcAADwer6mpyWq1SiSSZDJZXFwsk8kGBweXl5cnJyc/+OCDzZs3YxhmsViUSuUTTzxRW1ubkZHR29uLhoYjkUhPTw9BEARBLC0tYRhWVla2devWdevWAYDVaq2rq0NxBFd9ChaLpVKpoLdX7PUGAMIAboAwgAwAAxADJABoABxAAJABkAGgAbilOKgsgD2fQfqfpr29/ZVXXuno6GhoaNj3332KAKCjo+Ppp592OByoTqUo6ty5c9///vffeecdJARCGvr0tPTy8rLT6czOzpbL5VedisvlFhcXEwQxOztrsVhisRifz9dqtfX19VdZAEVXsNJb82ZIJpMOh8PhcKCBb4IgpFKp3W632WxWq9Vms9E0bbPZQqFQ+grZbPaNIwVWkkql3G43ai2ys7NFIlE0Gn3llVdefPFFi8XC4/Gam5t/+MMfGgwGqVR6Xf3Y9PR0WvoPAARB0DSNRESVlZWfOoHAwMDAcGdhGgAGBoYvnoKCArVajSTjqI5ns9kymWzNmjUVFRWdnZ2Dg4PxeByJOvLy8miaHh8fDwaDyB8GRVbl5eW1t7cjk1Cj0SgSiaamphKJhFAoPHXq1NzcnMlkQqprr9fLZrOXl5d5PF5lZWVJSQmyBx0dHUWujhaL5dSpU8jbB8OwxcVFHo+3d+/eLVu2oAtGcwVsNvuqAKmBAweO/td/+QH8VwQ/GIALQAbAA9AAsAAEAEqADADuLf4J5gPseeYZ5Z2I+sIwbOfOnTt37rzuv77xxhsulytdrQIARVEXL17s7+9vbW1Fz7BYLCTImZ6e/uUvfzk1NbVmzZrvfve718buBoPBzs7OixcvTk9PkyQZi8UWFxenp6cVCsXKJqq+vr6xsXFxcbGqqiojI+OTvJ6uC+oMeTweMiQlCAI9UCqVTU1NZrOZpunGxsaViqNbYmpq6oMPPpicnORwOLW1tbt37/b5fEePHp2YmCBJEn0Dz507V1FR8UlKnrq6uqysLKvVymazVSoVGkTJzMy855572tramAEABgaGvzJMA8DAwPDFk5+fX1RUJBAIPB4PqqolEkljY+PTTz9dUVHx/PPP/+xnP/P5fLm5uffee297e3tHR4fP5yNJksViSaVSlUql0+m2bt163333oQqMzWYXFBQUFBSYzeZnnnnmo48+8ng8yMAnFAotLi76/X6bzcbj8Wiazs3NNRqNYrE4MzMT1XPxeNzj8fh8PovFgsZG5+bmgsGgQqFIpVIul+vy5csWi4XL5ZaUlBiNRrSC656f//Mjj8QASIDwlZwvDIACoAFUAEpQpSFyAAAgAElEQVQAFQAfQHDTiv80bID1u3ZVPfXU53D7/xvJZHJhYQHtpawkGo0uLS1de/zo6GhPT8/U1FQqlbr33nuvbQDsdvvMzMz09PT09HQ0GkXL8DMzMzU1NelNAIfDMTIyIpFIlEolSZLHjh3btGmTwWBIJpOBQIAkSS6XK5PJPmkGgMViFRYWlpWVIeUPQRBFRUWlpaU6nW7fvn1GozGRSJSXl984dsDr9S4tLcnlcq1Wm9YFpVKpubm5F1988fTp01arlc/nu91urVar1+vR7hOyQqIoKhqNrmyZrqKtre273/3ua6+9xmKx6urqMjMzlUplYWHhXXfdJRQKb3BVDAwMDJ8HTAPAwMDwxcNms6uqqoqKipBXj16vX7du3d69eysrKymK8vl8ABCPxwUCwbp165qbmwmCiEajaGE+Ly8vEok4HI6lpaX5+fmqqqqVZx4cHOzs7JyenkYifqlUmpGRgTLFAoFAPB4PBoMoXMxgMCBVOk3TyO8SAAiCwDAM5VghG9CLFy/u379/eHg4HA5nZmZWVlaGw+G1a9ey2ezndu+O+P0sAPYKP58kQBwAAAIAMgABAP/Wq38AqMrJWf/ZBn9vEjabjSpglKWQhsvlXlfcotfrCwoKEolEQUFBVlbWtQegkDWKopCFaJp0uUzT9MWLF7u6ugYHBz0ej1gs9vl8IpFIJpONjY1dvnzZ4/GIRKLKysrVq1dfO5yNMBgMW7dulUgkSKhTXFy8du1aVFunnfhvgMvlevbZZ8+fP5+VlfXggw+2tbWhMOmPP/744MGDx44dW1hYQMHSGo3GZrNVVlZqtVqRSITipQsLC1etWnXVdhAAhMNhs9mMus3R0VE00DI2NlZXV7dp0yb0tfnUa2NgYGC44zANAAMDw5eC5uZms9lcUlKiUCg2btxYVVUllUrD4XAgEEAW/mgxuL+/X6fT1dbW6vV6p9MpkUguXLjwxz/+cWxsLCsriyCIgoKClUuqcrk8KysLiS5Wr16t0+mkUun4+DgKC+PxeCqVSqVS5efnt7W1pVIpFO8VjUZRsIBGo8nMzKyoqKioqBCJRH19fa+++uqpU6ccDgdqSCKRiEajMRqNJ3/yk6XBQQAQAEgBAgBRgChAAiAFkASgAWiA5G1V/2qA3QcO8D+z9P8mue+++44ePepyudLPYBhWXV1dX19/7cE1NTX/8i//srCwUFlZqdPprj1ALpdrNBq1Wo1+lchlVa1WpyX4JEkuXAE1AGKxeGFhoa+v7+zZs+kGYHFxEQDa29uvuw+A7HSkUuns7CyO48XFxbck+Jmamurs7Ozr6yMIwmQyff/731+/fv3rr7/+7rvvLi0tORwOkiTRXpBMJlMoFBMTE263m6ZpDMMyMzMfe+yx5ubmq87pdrsPHjyIlEJ+vz8SiYTDYYqilpaWWCxWSUlJQ0MDMwHMwMDwhcA0AAwMDH8NkslkKBRKpVJisXjlqmcsFgsEAiKRSKFQPPbYYz6fTyAQiMXiZDI5MDDQ3d2NJn01Gg1N0x6P54UXXvjoo4+2bdu2e/fuqqqqZDJ54sQJj8fj8XgIgvB4PLFYbGUDUFdX98QTT0xMTJSXl69evRqt6J84cYLFYi0tLfF4PKPRuHr1aqFQ2NDQoFAoQqEQGhuNx+NSqdRgMKxZs6alpaWlpYUkyYGBgcHBQZvNhoztE4mE0+n0+Xx9b755+je/Qe/IAdACJAGSAF6AGEAKgAPAA+ABXL1EfBOIAe555pmsOyH9T4NMk9DmxrX/um3btqeeeurZZ5/1eDzJZJLD4ZSXl//iF7+4rgc/hmH19fXX7Q0QSqWyoaEhEAjIZLJIJILMWGtqatJ1/MpAsXS+WDwen5iYGB0dHR0dRQ0Acu+pra1VKBTX/UQTExNdXV0LCwssFmtiYqKtra2goOAG8vpUKuVwOGZnZwGAJEmJRIJhGEmSo6Ojx44dA4B33nnnwoULyWSSpulkMok2kZqamioqKt54442hoaFAIAAAbrd7cXHxqrX8VCp14cKFw4cPnzlzBtlboSYWAGKxmM/ni0Qi6fl1BgYGhr8yTAPAwMDwuUNR1JkzZ3p6epLJZFNT08aNG/+/aN7tfuONN0ZHR3Nych544AGDwaBSqdBLzGbzgQMHurq6XC6XTCajaZqiKLvdbrFYpqamFhYWIpHI3//934vFYqPRWF1dTRBEVlZWdXX1VUUqj8e7++67t2/fvrI+27x5c05OjtVq5XK5BEE4nU6BQIBMbEQiUSKR8Pl8sVhMLBbn5uZu3769sbERwzCHw+H3+5FHDRpT5nK5YrGYoKhDP/xh+uQsAAlAIYAYwAIQAKABCIAMACXAzfrOXAEDWLtrV+0dlf4nk8nOzs6jR48SBLF79+66urqrilccx//xH/8RWaP6/f7S0tKdO3emfzW3CoZhjY2NUqnUZDJFo9GsrKzKysqVZxMIBAaDwWAweL1ekUgkFosNBoNarQ6Hw6ErAAASa8Viseu+i8PhOHny5JkzZ+bn51ksVn5+Pk3TCoXiWmMiRCqV6unpeemll9D0Qm5uLhoCcTqdHA7HZrOdO3fO6/Umk0m08M/lcrVabUtLy+rVq0OhEPpCpgN9+/r6FhcX8/Pz0ZMEQZAkOTIyMjs7i7xl0Tuiu4HCELKzs5nlfwYGhi8KpgFgYGD4fEmlUuPj43/+85/Pnj0LANPT0yqVCi0Y9/b2vvPOO6gBUCqVjz76aLoSXVhYmJqampycdLvdGRkZSA6EVkzj8ThqA3w+H4pcffLJJycnJ7Oyspqamq5rw3JVgcvn82tqampqakZGRn79619PTU0ZjcY9e/ZcunTp4sWLGIbJ5fJYLJaRkYEEQmitWiAQoCDh5eXlUCjE4XBUKpWxrGzu1Vc5odDKdWaUAKAGEAD4AaIAHAA5gOLW9T9VOTkb7rT03+VyvfbaawcOHKAo6vTp0//5n/+5fv36tPsqClnDcXzNmjVr1qy5I+/I4XCMRmNZWVkymbzWep8giIaGBrTM7/V6xWJxZWXl2rVrBwYGMjIy0FSxWCxWKBQKheKTRmaXlpampqZQc8hisRKJhMFgsNlsn9QALC0t/elPf+ro6HC5XMlkcmhoiMvlJhIJDocjFAo9Hs/g4CCXy62oqBAIBFKplMvl5ubmRqPRn/70p5FIRKlUZmdnB4NBtJFCUdT8/LzL5RodHSVJUqlUut3ujo4Oh8PBZrMxDEOj7Vwul8vlZmdnb9iwYc2aNUz4FwMDwxcF89eHgYHhc8Rms3V1dR0+fPjgwYPBYBAAfD5fTk4OsvLs7e21WCyhUIgkSZIkV5qo4DielkxgGCaVSpE5TywWQ8lcaAQTLcSuWrXqBhKUGzA8PHzhwoWpqalwOOx0OgcGBsLhcG5ubl1dXSKRyMnJaWpqSuvahUJhU1OTw+EQi8Uul0sgEFRVVSW7uz1LSyvL+iSAH8ANEAPgAEgAdAAEAHbr1X++VLrzc5D+o6yDcDgci8XGxsZOnjy5Zs0aPp9PkuT+/fsvX75cUVHxwAMPXFfw81m4qt5NpVImk6m7u1skErW1taEENzQDUFhYiGJ0ke4f9QYVFRW1tbVisfi6J6dWwGKx0INAIIB6gGv9fyYmJiYmJlwuVzQaBYB4PI58+lEDMDs7S1FUXl5ea2vrrl270ExIMBj8+c9/Pjw8nEgk1Gp1Y2OjQqEYHx9PpVKhUOj111/3+/0Wi8XtdqMLQOo1NpudkZGRn5+fnZ0tFAqR2Oyee+65rpCJgYGB4a8D0wAwMDB8XoRCobfeeuvQoUP9/f2o+gcAv99/5MgRnU5nt9s//PDDQCCQnZ29du3alpaWlaLw7OxsFA2GzN3R1O/4+LjNZpNKpfX19XfffXckEnn77betVmtpaemOHTs+qTREGm4Mw64dHk37Oep0OjabjdQaBQUFSDJkMBjSFp8AwGKxKisrRSLRqlWrYrGYVqsNXLz4Xnf3ytXsFIAXYPFKA0AAyAEMAKpbr/7lANt+/WvVHZX+I5RK5Z49e6ampmZnZ5VKpUKhQKX56Ojoa6+9hhqAsrKytOX/58TU1NQTTzxx+fJloVD46KOP/tM//ROy6yFJcnZ2dmhoCACMRqNOp/P7/WKxuLy8vLKy8pNsc9RqtV6v1+v1KEJOr9fjOP7SSy+RJFlXV/fwww9ftRWAdFwre06k9sEwjKbpUCgUj8dJksRxvKCgADWBH374odfrRf5FaPdp3bp1qVRqcXHR5XJ1dXWFw2E0GcxisVKpFLJRwjBMJpN961vfamhoiEQiyGaUWftnYGD4YmH+BjEwMHxeuN3u0dHRsbExv9+ffjKVSlksljNnzkxPT4+PjwOAWq3+yle+UlNTg/51cXGxq6trbm5ueXk5FotFIhEMw4xG4wMPPGCz2fh8vkwm4/F4BEG8+OKLr7zyitVqLSsrk0gk27dvv+oC0HsNDQ25XC6JRGI0GvPy8lZWkE1NTd/5znemp6fLy8sTiYRUKk0mk/v27Vu/fn0qlbq2YcAwrKCgID8/P5VKWYaG9v/rv151AA3gAnACuAHiAARAAkBwJQjs5iEA2h5+uOKRR27lRTcLhmH33ntvbm7u6dOnRSLR3XffjfwrUapampUvSaVSqK7FMOxOpVYNDg4ODw97vd5gMDg0NOTz+fh8figUOn369IULF2w2G4ZhaBNm69atAoGAy+WityZJ0uVyURSFTF3Rpep0urVr1yYSCdQ6qlSqCxcuDA4ORiKRmZkZo9G4YcOGle9eUFBQVFRkNpvdbncikUCdALoDXC6Xw+Gg0N/s7Oz0TkhOTo5er7fb7bFYTCqV6nQ6hULB5XIDgYDX60U1/Up70/StEwqFWVlZxcXFd+S+MTAwMHx2mAaAgYHh84LH40mlUqlUimZn09lSHA7H4/EgBxUUqYuyWkOh0JkzZ55//vmBgYFYLIaU3Eg/zWazBwYGjh8/LpFIvvKVr7BYLLvdPjExYbVarVYrcn+/NjvWYrG8//77ly5dQg3A5OTkrl27SktLV17hli1bUL5vMpmsqalJJBKZmZk3dmdnsVgRv//PjzwSudLYpAAogAQABRABiABEAWIANAAfIAIQv8UGoL66+q5f//pWXnFrsNnsurq62tpatM2CnqyoqHjooYcqKyuR2CZ9sNfrRXsvbDY7Ozu7rKzsjmRXocFfkiTFYnFVVZVMJkulUmNjYz09PRcuXLBarRiGoeixnJycdL7Y0tJSd3f39PR0PB5XqVR1dXX19fUEQRAE0dLSotVqzWYzm81eWlo6dOgQSpDw+XzXRnTl5+d//etfB4D+/n6Hw4FsYWmaRmqfvLy80tLSsrKyjRs3ppMHioqKHnvsMS6X63K5jEbjunXrent7TSYTGhlHu1XX5ifgOJ6Xl5eTk/PZ7xgDAwPDnYJpABgYGD4vMjMzt2zZQtP00tLSwsKC2WyORqNSqbSsrEwsFnu9XovFgnQXVqu1s7Pz+PHjJ06cmJiYQMuoBEGglX6v13vx4sVz5851dHRIJJKZmZlkMmm321OplF6vl0gkZWVlJSUlV1X/iURicHDw4sWLqAGQSqUURen1+ry8vLSqZyUo6RaVjwaDobi4+LqHId5+6ink+g8AFIALwANAAbABSADsyn/4lQe3lPZUIJVufvnlv4Lr/7Wz0Q888MCePXu4XG5698Pj8Rw/fvzixYsLCwuxWCw/P3/jxo0bNmy4roMN0r3cpL6lrq7uZz/7WU9Pj8Fg2LFjB5/PpygqHQiA+g0k5jGbzYWFhQAQCAROnz7d0dExMzMTj8ezsrLQeIDRaASASCRCURSGYVwul8fjZWRk8Hg8DodTW1u7sp9BEASxefPm0tLSoaGh3/72t729vWjEHPUAlZWVjzzySFFRkVwuT3+v0PVEo9FoNOr1ek0mU39/v9PppGmaw+FIJBI0IO7xeNL7ACwWSy6Xb9mypaCg4JZ+NQwMDAyfK0wDwMDA8HmBYVh7e3tZWVkoFJLJZEtLSx9//HEoFFKpVD6fjyRJh8NBUVRmZiZJkkePHj127Nj8/Hza5xH1BvF4PBAIWK1WHMej0SiO4xMTEzabzW635+TktLS0NDQ0lJaWNjU1XfXuNE27XC632+1yuZBiBD2ORqPXVvaRSKSjo6OnpwcZuufm5ra2tq5bt+66Nvm9L7/c98or//8iARwAZgAvAAVAABAAHADZlRkA6S3qfzIAtnw+0v+bgc1mr6zsk8nk8PDw+fPne3t7p6amYrHY4OBgMpk0GAzV1dXpw1KpVCqV8nq9Bw4csNvtra2tzc3Nn5pxSxBEe3t7e3t7IpFwuVxOpxPlPyQSCTS2wWazQ6FQIBBA3posFstisYyPj09MTKAdALfbLRKJJiYmeDzehx9+ODIy4nA47HZ7NBpF0x3BYDAejxsMhk+6gIKCAqVS+fbbb6+82nA47Pf7CwsL09sOiLNnz/7qV7+anJxEjcqlS5dQugVFUXw+H8dxNCZOkqTZbEZREkKhcO3atTt37rxueBkDAwPDFwXTADAwMHyOYBiWdtFRqVQ1NTUURREEsbi4iDK/KIoqLS3NzMw8e/YsCthKv5bNZsvlchTdheZxlUqlQCCIx+OourJYLGaz+e/+7u9WrVqF9gQcDgdBEHq9XiQS4TgulUolEolEIqEoCj2QSqXXrelnZmZ6e3vPnTuHdgBsNhtBEHl5edcu3JoHBt5e4cofA3ADuK80AFwAGYAIQAZAX3H/VN/0n1o+QNHWrdqdO2/pJqdSqfSeyWcsNGmaRkv46DwURVksFovFgn5fKKJrfHzcYrFUVlaiY7xe75EjR2w2WzgcPnz4sMPhMJlMubm5V6UCh8Phubk5l8vF5XINBoNGo0E1dyKROHTo0OHDhwmC2Lt3r0aj0Wq1SDaGNDl2u31xcTEajSKfovAVkG9POBx2uVx//OMf3377bY/Hg25FIpGYnJzMy8tLJpPLy8udnZ1r167dvn07TdPBYBCNlacvDLm+CgSCaDSKlu1Rr7i4uLjSqIem6cOHD8/OzkYiEfQjcvgBAOTvmUwmTSYTSZK7d+/etGnTiRMnTCaTRqP52te+ptFoPssvhYGBgeGOwzQADAwMnyPIITEWi8lkMlRWoqoxNzf3oYceampqoiiqoKBgcnKyt7eXx+MhK8a0ipqmaS6XS9P00NAQQRBf+9rXGhsbJyYmHA6H1+sNBAKzs7N9fX01NTWDg4PHjx+fm5vj8XhVVVV33303CpxC67VIAlRTU1NVVXWtI2QqlbJarRaLBf0fWbZbrdbl5eWrGgDS51sp/QcACiB25T/qyjMiAAMAGwAHENxK+q9UIjkA8PFPfvLkk08i0cunEgwGh4eH5+fnaZpWq9VVVVUqleo25nTj8bjJZJqeng6HwxkZGWVlZdnZ2el/Tc/+4jiOquf0W5w8efLZZ5+12WyZmZlut9vv9/v9/qviunw+X0dHx+XLlx0OB5fLLSwsbG1traqqYrPZLpfr8OHDhw4dIghCIBB8+9vfLikpGRgYcDqdJElGIpGxsbFf/OIXs7Oz//qv/yqTyRQKBQoHiMfj6DGfz5+fn7fb7SsHcKPRqNVqlclkcGWDIhQKvf/++/39/VlZWffdd19RURE6ks/nt7a2Dg8Pj46OIhsooVB4VV41AITDYYfDsTK7F31RWSyWQCCQyWSJRGJ5eRnHcZ/PV1xcXFNTEw6HBQLBymaDgYGB4UsC0wAwMDDcYSiK8vl8BEFIJJL+/v4jR474/f5Vq1Zt375dJpOhBoDFYul0OolEEgwGkZFLZWVlMBh0uVw+n89iscRiMZqmkRA8mUzOzs5OT08HAoGampqmpqaHHnrI4/GYTCaUEebxeE6dOnXixAnUADgcjoyMjHvuuSc/P3/nzp06nc7tdkskkurqaqPReG1xzGKxCILAr8Bms9OPrzpypfQfgV+R/aAqHz3gAkgAPnGA4BMw8PlnCwvPdHfnLC42NDTcTANAkuTp06fPnj2LGgCpVNrf3//Vr3712o2LaDSKFukFAoFGo0FVaSKRiMfjLBYLx/H+/v6Ojo6pqSmSJOVyeVVV1ebNmwsLC/V6vU6ny83NBQCKonQ6XVVVFXJNRWf2eDwej8fr9ebl5RmNRoqiNmzYsHL5P5lMfvzxx93d3ekGADn8aDQalUqF2q30/VcoFCUlJUqlEonBKIpKJBIOh+P5559vaGjYunVrdXU1Uv4gS82SkpLVq1ebzea+vr7l5eWVA7g4jpeXlyuVyvLycpFI9Pvf//6NN95A6/qpVOoHP/gB2gtis9mbN29eWlpCwh6UINba2nrV/Wez2UqlEr3vypFiFosllUrr6uooipqamkLuQCKRiMPhXNtqMjAwMHxJYBoABgaGO0kwGDxw4EB/f79QKFyzZk1PT8/Bgwd9Pt+5c+c6OzvXrFmzc+dOlPE0Pz//0ksvzc/P19bWPvTQQ3v37jUYDD6fLxQKHTlyZGxsjCRJJAJBZ/Z6vT09Pf39/du3b9+0aVMwGBwZGcnNzd20aZPH4zFfgcfjyeVys9kci8UEAkFZWVl+fn40GkUF2Sctjefk5BQUFCDlD5oByM/P1+v1K4859etfp6X/abgAcoAQAFyRAMkB5ADXkRndEAVA0//9v+OXLmV5vUqlEt2iT2Vubu7SpUuXLl2an5+PRCLxeBzH8cHBwd/97ncr5Ster/fMmTNDQ0N+v18ikVRVVbW1tZEkOTQ05HA40ADryMhIb2/vzMwMSZIZGRnRaFShUOj1+srKSlSvGwwGNB7d3NxcUFDg9Xr9fj+O4w0NDdu2bbPZbO3t7ffee28ymVQqlchXFBGJRObn5+fm5ubm5pxOJ4fDoWlar9fbbDaVSqVQKO677z6BQIDj+J49e4RCIZfLzczMFAqFaIkdVduRSMTpdPL5/La2NqFQ2N3dPTk5mUgkAoGA3W6/9957u7u7kaEnelMMw8Ri8fr16++///5Lly699tprnZ2dc3NzFEUFg8EjR47s2LGjuroafR8EAoFAIMAwLJFIEASh0WgqKipWOh2hWLHq6ur+/n6kI0KDCsg2VCKRbN261efzBYNBZGk1PDy8atWqO+WXysDAwHDHYRoABgaGO8mlS5feffddlO60vLyMLNuR17vJZBoaGsJxfMeOHYuLi6dOnTpw4MDCwsLi4mJtbW1ra2tRURFFUTiONzU1vfDCC+fPn7dYLOmSLplMBoNBq9UKABKJ5MEHH4xEIlwulyCISCSCajhUPqK81bQansvl3sDPB2EwGNrb2zkcjtlsZrFYeXl5a9euXSndNg8MvPPd7177QgxADQAAIoA4ABdAAZB1i7FfAoD13/lO6xNPCC9dqq+vNxgMa9euvZkXLq8gLWE/efJkd3f37t270TE0TZ8/f/7UqVPpBsDpdAaDQZIkBwYG0NREKpVaWlqyWq1OpzMej0ciEYVCYbVaHQ6HWq3evHmzwWBI24AWFhaOj4/39/fb7XYOh1NQUPD444/LZDKVSnXd+4wmelEvR1FULBYzmUypVGrnzp0AwGaz29vbGxoaWCyWUChksVhKpVKtVqvVapQPHQ6HAaCioqKtrQ0ApFJpQUHBqVOnZmdn3W73xMTE4uJie3s7mn9ACVwAgOO4VqstKSmZn59/8cUX+/r6XC4XMqKlKMpkMu3fv7+goACFx8ViMfQV9fl8PB4vHo+nc+tSqZTZbO7p6UFfxYaGBo1GYzKZnE6n0+mMRqNsNjszMzM3N7ejowNNocTjca1WW1paekfMUhkYGBg+D5gGgIGB4Y5B03Rvb+/g4KDNZpNIJCRJ5ufnu1yukZERp9OZSCSGh4c/+OCD0dHRwcHBYDDo9/vj8fjy8rLFYkmlUqiaN5vNBEHs2rWLw+EcPnw4HSKGCsT0wjaGYWmDdrVavWrVKqT84XK51dXVNTU1n1r0rwStZBsMBrvdzmaz1Wq1UqlMq1xIn++5K/X0tXAB9ABKABqAAODdouknANRUV7f/+tcA0NjY2NjYeEuXjV0h7UCfSCRWzlKj1gvh9/ulUimPx4vFYvF4fHR01OFwoIXqSCSCbDTT0vbp6emf//znCoVi3759q1evTgeBjY6OHj9+PN0AoA2WnTt34jg+NzcXi8UMBsNKKyE+n6/RaNRqtUajCYVCyJlncXFxbm4OHcBisVamOBsMBhSaq1AoaJoWiUQ5OTn3338/CtJKpVLDw8Nnz56dnJwMh8M4jodCIbfbjfqENBwOByl/Dh48ODg46Ha70zEUABAIBPr6+kZHR4uLi1GuHEoRDoVC6LFWq0VHer3eQ4cOnT592mKxiESi8vLy3bt3azSaiYmJt956a3x8XCQSNTY2ikSi0dFRq9UaDAbRBDOyALr5XyUDAwPDXxOmAWBgYLhjdHR0vPPOOzabDQAIgigqKnr44YeLiop+8pOfoPIrFotdunRpcnJyZmYGyTyEQqHH4+nq6lq/fr1MJtu/f//+/fvtdrtMJsvKyiosLBwZGUETpWixGY2NKhSKWCyGXERlMhmyWs/IyJifn+dyuUajsaKi4lYvHsMwrVabrvxW8sojj3gWFm70WgBU8N6G5qNQKr37wIFbfx0AQHZ2dm5uLkrLCoVCqFlqampa2UUkk8n4fycSiaAF7+XlZdQAoElrVOJzuVyRSCSTyUwm0+joqEAg4HA4RUVFSDEfj8fHx8fHxsbGxsZQAxCNRpVKZW1trdVqffXVV0Oh0KZNmx599NH08CuO4zU1NTabDcdxiqImJiZomhYIBFlZWVd9HJQ3TBBEa2urQqGYm5ujaVqj0VRVVaU1USgr2m63RyIRpMPxer1msxldXtp9XywW83i8I0eOnD592uVyXRXOhaZKfvnLXxoMhu3bt7e2tra3t4dCocLCQh6P19jYmP7+LC4ujoyMDA8PowaAIIj6+vrm5ubm5uacnJyzZ8+iLEPrEt0AACAASURBVLn5+fmFhYV4PM7j8cRicVFRUbo7ZWBgYPgSwjQADAwMdwaPx/OHP/xhYmICpaLiOF5bW1tQUDAyMpK2Z0mlUj6fTygUZmRkIP23z+fz+/1LS0s2m+2555579tlnkd0kh8MpLi6ur6+PRCLT09M0TeM4vrCw8Jvf/GZwcHDLli0LCwujo6PI8b2lpaW2tnb9+vUURaGJ3nA4HI1GkaTks3yoUCh04Je/PH7wIAEgAuDcsMS/jXeSA+x6+WVZbu7tXZ7BYGhpaUmlUjqdjqIoNpudk5Ozd+/evLy89DFo6letVjscDj6fL5VK1Wq1TCZD9yqts2exWKj4FgqFWq22rKzMZDIBQDKZXLl2jhTwwWAwEAgEg0GCINCPTqfzzJkzHR0doVAIx/Groq90Ot2OHTtyc3MrKiree+89r9e7devW9evXpw9IpVJOp3NsbMzhcPB4vMLCwtra2urqapIkORyOQCBYmcYlFAo5HE76mWQy6fP5kD0RGhkXCoWlpaUkSfb19S0uLiKxfnpyFwn33W730aNHuVzu3NxcdnZ2cXHxQw89NDk5OT4+HgqFTp8+XVNTo9VqkWbpqg4qmUxyudzNmzffddddKB2so6MjHA7HYjGxWJyfn9/W1rZyCoKBgYHhywbTADAwMNwB4vE4Uloj8QmyRlEqlclk0u/3r3RNwXG8ublZp9Pp9Xrk/eL1emtqakKh0Lvvvut2u9FhsVjM6XTm5OQIBAK73e7z+eLx+MLCwtLSkt1ut1gs0Wh0YmIiEonw+fyzZ88++uijW7ZsQcvAFy5ceOutt1Kp1N69e5ubm2/7Q7lcrvdfe+0PP/4xivSSA+gAxJ9w8G1U/3yATd/5TsEni4s+FQzDqqqqOByOxWLp7++fmZmhKGpluQwAfD6/vr4eVf9oBsBoNGZmZg4MDMzOzrpcrvQGCxqWUKlUKpVKKBQiH/3s7Gwkx0JnIwhCKpVKpVKZTBaLxTgcDvoxIyMDbcUQBCGTydDyfzwet9vtwWCQz+er1eqWlpaxsTE0mzE7O3v48OE9e/agQtnhcBw5cuTSpUsOhyOZTEql0qKiIplMhnoS1A+4XC6SJJVKZSKREIlEUqkUNRs8Ho8kyXg8LpVKDQZDKpXSaDSVlZUDAwNzc3N+v5/H40mlUpqmUe2OxsFRvU6S5Ojo6Pz8fHFxMUVRly9fPnny5OLiolQq3bBhw9/8zd9oNJr8/Pz5+XkOhyMSifLy8vLy8tDdQJo0AKBpOjMzU61Wh8NhrVa7Zs2aazc3GBgYGL5UMA0AAwPDHaC/v//9999HSUwAIBKJmpuby8vLkaNOXl4eyuJF6Vrf+MY3amtrkSCkvLw8FAqVl5cjI8v0CVksFo/Hy87O5nA4YrEY5a2icdLl5eWJiYloNGoymcLhMIZhU1NToVAoNze3vLw8Eom89957+/fvT6VSbDa7qqrq9qTYNE33dHX96f+xd+fBUd/n/cA/e9+XtCvtSlqttLrRDQLEfWMwNshObHxRYyeZJE4bO5N/Ok07duY3aaadTkw6bepkxjU4iesYH0ps8AkI2RgMQicC3fexWkl73+fvj6dsVMC2JLOArfdrMhkQ313trjSez/P5vj/P8/OfT16d6etnjHf1JgCHMf6iFv1zVVVWbj50aNEPp3FXzc3NU1NTXq+3sbHx8uXLHR0dWVlZ3/3ud6leos8/Pz//vvvuKyoqogJg2bJlSqVSLpfPzMw4nU6bzSaVSjMzMyUSCR3DCIfDn376qVAozM7O3rZt29w8lUAgWLZsWV9fXzAY1Ol0dAagrKzMbDY/8MADAoHA4/Fs3bpVr9e73e7Gxsb29nabzUbp+Wg0+tJLL3V2dsZisa6urqGhodTU1G3btsXj8fPnz3/88cft7e0TExPhcFgkEp0+fVoikQgEgtTU1MzMzLfeestqtdINAYfDYbfbdTpdXl6eTCbz+XyDg4N+v5+ON1itVrfbPTo66vF4/H4/h8MRCoU0EMDpdPr9/sTpkXA4zOPxqC7q6ekZGRl56623PvnkE6/XKxAIJicnzWZzXV3dzp07BQIBRYCWL19eU1NzzW0lPp+/Y8cOp9M5MDCQkZFxzz33oPc/ANzhUAAAwFcViUQ6OjoSY5LEYvHy5cv//u//PiUlhTFWVVX13e9+VyaTjY6OZmZmfv/736+pqaEW+zweL5FWD4fDq1evnpycdLvdXC5XoVBQlv33v/89dY+hI7l8Pl+tVkulUoqAk2AwOD4+Pjk5uWzZMsZYNBoNh8NUKjidzsUVAG63+/V/+ZdJu93FWJAxPmM8xmYYCzMWY4zLmJox3dX2/4uoBApUqnvnEf2nmicxQG2ugYGBd999l3bNI5HI2NhYMBikuE40Gj169Ojrr78uEAgee+yxvXv3mkwmo9EYjUbpuDBjjHr7FBQUjI2Npaenp6Sk0ByGoaGh0dFRi8UiEAjsdntaWlplZeXcoxEFBQW7du3S6XTUQSgvL6+2tpYGLf/4xz+ORqM0FrepqenEiRNtbW02m02hUIyMjIRCIToLHo/Hg8Hg2NjY+fPn16xZMzg4+OKLL7a2tjqdTpfLRREdxhi9ZYFA0NHRQfv3jDGlUun1eqPR6PLly7/97W9nZGR0dXWdOXPG6/WWlJRYrdZLly75fD5qbUSnmePxuM1mi0QigUCA4kAGg0GhUNANARoQdubMmdHR0QsXLrhcLvoA+/v7jx8/vmnTppqamtzcXJvNJhaL9Xr9DQ+XG43GH/zgB06nUy6XI/0PAHc+FAAA8FXFYrF4PK5UKvl8PuXR6+rqzGYz/atSqdy/f/+6deu8Xq9er7/hnFqfz2e321evXh2NRgcHBzkcTk1NzQ9/+MOMjAyJRCKXy5VKJXX51Ol0q1at0mq1dDjYbrdTM9CKigoaVhUIBFQqlcFg8Hq9Ho/n+PHj+/bt0+l013zHxGnRz3tTHz3//MD583HGYozFGIszFmbMxpiTsQhjXMZUjIUZMzJ27cJ8HtSM3fc50f94PD4zMzMyMhIIBDgcDg08VigUJSUlOTk5iTIgEol0dna2t7d3dHRMTU0JBAKFQlFUVLRhw4adO3e6XK7GxsbGxkY+n5+dnb19+3aZTMblcudOt5XL5TU1NTTBis/nU6b/k08+mZ6ettls09PTlPaxWq1Op3NuAcDn8ysqKsxms9vtpnqMz+fTIF7q3dnR0TE5Ofn+++9/9tlno6OjbrdboVBQbof6/dPWO5/P9/v9Lpfr2LFjZ8+etdlslKeno8DxeJyOH9Cp5Vgsxufz5XK5QqEQiURcLrekpKSsrKy/v9/tdtOphl27drW1tV2+fHlkZCRRC3E4HAqhJX7iYrE4FotNTU35fL54PD40NGSxWPR6PZfL9Xg8ibcZCoXGxsZaWlqqqqoUCsX1v0LXkEgk2PgHgK8LFAAA8FVRLKS6uprW0zU1NXQ4MnGBUCjUaDRarVatVl+/5vZ4PEePHv344499Pp/RaHzggQeKiopMJpNYLI7H47t27fJ4PFNTUyaTqbKyUq1Wm81mLpf7wQcfpKWl+f1+gUCQk5NDc38ZYy0tLd3d3bSy7Onp0Wg0OTk527ZtS3zfaDQ6OjpKg2ap0dDcHpSkp6Hhg//3/ySM0f94V+8AhBgLMeZnjMtYmDEJY1rGFrrfK2LsvmefzamrY4y5XK6Ojo65USXa179y5crMzAx1oxeJRCqVqrS0dPfu3aWlpRwOJxaLjYyMnD9/vre312q12u12oVCYkpKyYsWKb33rWyaTye/3U0cjaoefSPBfj85Mh8NhiUSiVCoNBoNMJqOhCnQgWCqVXr/nTW126HOLx+ONjY2vvvqq1+utqakRi8WXLl0aHBy8ePGi3W6n9v98Pj8YDMpksrS0NGq3z+VyQ6HQxYsXh4eHOzo6XC5XJBKRSCQKhYIO3dKKn0oCqjD1en1RUZFKpbLb7T6fLxaLnThxoru7e2hoKB6P5+Tk9Pb23n333aOjo0ePHp2enqaXmlj6J34V8/PzXS6XzWZL3C3xer2jo6MZGRlKpZJuH8XjcT6f73A4XnzxRYPBkJube/fdd18/XxkA4GsKBQAAfFUcDmfVqlWRSKS8vJzH41VXV1dUVCT+NRAIvP3229Qwcffu3Rs3bpxbGzDGurq6Tpw48fHHH/v9/rKyssrKyvz8fNrqpmc2m81er1er1SbCFfF4/IEHHqitraUkemZmJp0lnZycfPfddy9evDg6Our3+4PBoMVimZqaorOkjLFYLNba2nry5ElKsaenp9fU1OzYsYMy4oS6/vMZ013N/YcY4zMWZ8zHWIixIGPcq38IL/SzYmzdpk0rn3uOMRYKhX7/+9+//vrrPB7v0UcfffTRR/1+/8cff9zQ0HD58mU6UBGPx3k8nkajoU/AZDLJ5fKurq7jx4+fP3+eEvNCoVAmk8nlco1GQ29EIpE88cQT2dnZFE//go40Ho+no6NjcHAwFotlZGRotdply5bZ7XaVSkWNXEtLS/V6/Q0fa7PZJiYmJBLJu+++e/z4cY/H09vbq9frh4aGJiYm7HY73VtQKpU6nc5gMGRmZoZCIQ6HMz4+brPZ7HZ7V1fXqVOnaJXP4/HS09Pz8vJsNhtt+dN3oTO+YrE4NzdXqVTOzs6OjIw4HI6BgQGaFmy1Whlj4XA4MzNz3bp1+/bta25u9nq9tME/d/XP4XAyMjIefPDBF198cW5rI8YYl8tNT083m81TU1P0y8PlcoeGhnp6erhcbkFBQTQa/d73vofW/gDwzYACAABuApFItHnzZmq5IxKJ5m7z9/T0vPHGG1QABAKB4uLiaxaUXq+X8id+v5/6S1JUnf6VRsNeE8DgcDgajUaj0cz9os/na2houHTpEvV9p7A75VgSzzY9PX3mzJkzZ84kCgC6D7Bhw4ZEWfJCXZ3f6WSMqRjLYUx19RBwkLFJxvxXI0BCxoQL/29owZyu/y6Xq6WlpbW1lcvlpqWliUQiGlA1MDAwOjpKB17pDEAgEEhJSZmcnLRarQMDA/X19efOnevv73c4HNRwiRp3lpSUZGVlMcai0ahYLN6wYYNUKk100L+e3+8/depUY2Pj4OBgNBrNzMysra1ds2aNSqUaHx+nAmD9+vVzp3olWCyW//iP/2hubjYajZFIhBbxgUBgcnJydHSU9viFQqFSqSwqKsrKylq2bFltba3D4cjKympra2tubp6ZmaHZvVVVVT09PXa7neavqVSqtLS0tLS0/v7+iYkJeqpYLEbnep1Op8PhoIMENKOAGk9RI6BwOLx27dr9+/cLhcLJyUmbzeZyuej4OIV/MjIy3G733OPmjDEul5uampqfn3/gwAG1Wv3RRx/19fW1t7d3d3dTFcHj8UZGRtxuNwoAAPhmQAEAADcHLbCu/7rH43E4HA6HQywWOxwOv99/zQXUhd1qtfr9/sLCwsLCwsX1ULdYLJSc8Xq9kUiE2gdRR8jE4n5qamrkqlAoRKv/0dFRGuHEGHvnued6T5/+33fEmJIxOWNxxjiM+RgLMxZlTMwYjzEVY6lX53/Nk4axh+rrxVfvNigUisLCwoKCAq/Xa7PZ/vKXv7hcLurMQxF52hdnjAmFQqFQGAwG33///YsXL7a0tFgsFtpiVyqVqamppaWlO3bsWL9+vUqlCgQCn376aVNT0+zsrFKprKqq2rhx4/UxJ8bY8PDwhQsXLly4QHcAJiYm+Hy+2Wx+8MEHXS4X3Xm4Jj4UDAbj8bhYLL58+fKpU6daWlrMZnNVVZVerxeLxUKhkMfjCQQCOpNgMBjKy8vXrVuXkpJC9Uk4HC4uLs7IyJDJZA6HIzs7e8uWLXl5eW63+4033hgaGuru7o7H49R7VKfTdXV1DQ8PB4NBWvHzeDyqiDgcDofDCYfDdMyXx+PF43G5XJ6eni6VSg8cOKBUKoeHh6VSaUtLy/nz56enp+mVU2iKzpTTTQCBQECHE+x2ezAYpCO//f39v/vd7wYHB+k8sVKppNaoC/yVBAC4Q6EAAIDkys3NXb58ud/vF4vFK1asSE9Pp6/HYrHJycn+/v5AILBy5UoaZVVWVrZ27drFTe+itu40dCwej0skkqysrBUrViSGZM1tpBP/v+iLPQ0Nx37+82ueNhFXkjGWzZiYMd/VAkC/kBPAFP1P37SJpm7F43GRSPTEE08YjcaGhobBwcGmpiba9RcKhQaDIRKJ0PxakUik0WjMZrPf73/jjTfa2tq8Xi8l46npfkFBQUVFhVqt9ng8sVjs0qVL7733HhUAKpVqampKIpFs3ryZYvdtbW2Tk5NUaM3MzFivikajfD6f/iwWi69vZROPx9va2t57771IJLJt2zalUpmSkqLRaKLRaFdX1+zsrN/v9/l81FFUp9OlpKRUVlbu3bt39erV9KYYNVc9c+bDDz/kcDh33XVXXV2d0WgcHBw8fvw4TQimn4XT6aQzA/39/TTemF4Aj8ej8ySBQCAUCtFGPnX7oaEEBoMhFAr9+c9/fvvtt/1+f3V19Q9+8IPi4uLXX3+9t7eXHuV0Ouk8NK3s6YMdHh6ORCKnT59et25dWloaTZW2WCy9vb0ymWzr1q179uy5YREFAPB1hAIAAJKov7//yJEj/f39NTU1O3fuXLlypVQqjUQily9fPn36dHNzM02TNZlMGzduXL9+vVwup936cDg8NDTk9XqNRmNqaup8vpdKpaIQvFarjUQier2+qqrKYDCcPn3aYrFIpdJly5alpqYajUaj0RgMBmn7n/4qFAop+v8Fz89hTMWYjLEoY5wvmwp8/WPXb9qU9uSTr7zyCh1c9vl8ubm5GzdurK2tvXz5cktLy9TUlN/v12q1Op0uJyfHZDL5fD7qialSqXJzc3t6erq6uuhsAI/HUygUarWaAjYXL158++23TSbTk08+OTEx0dPT09PTQwWARCLp6elZtWqVXC5vbGx84YUXRkZGKisrf/rTnwrnoAlZQqGQy+X29fWNjY3x+fzc3Fyj0Ug/Ebvd/sorr/zlL3+hlqN79uzR6/U0YNhisVBrTj6fn5qampOTU1hYSCeYu7u7+Xz+ihUrqACYmJg4efLkyZMnZTJZfn6+VqvlcrmnTp26cuVKOPzX8xShUKi/v5/H4yXmyiWqJpoMMDMz4/f7E5VbLBYLBoNDQ0Pt7e0ymezjjz9ubGz0er09PT2Tk5Mmkyk1NXVwcJBdbatKT0WJoLy8PEpAuVyu5ubmN954Y/fu3UajkXqnjo+P6/X6srKyuadEAAC+7lAAAEBSRKPRvr6+n/3sZydOnAiFQnl5eXfddRdNBmhpafnDH/5w8uRJCmOIRCKz2SwSiUpLS5VKJT32+PHj9fX1Tqdz+fLlTz75ZEZGxhc37oxGo9Q2h8fjpaSkyGQyypwMDAy0t7dTAVBeXn7PPfesWbMmEAikpaUlDgFXVlZyudxE9P+L8a/2/l+QApVqw8sv//bIkWPHjs3OzlKTGTpaWlVVJbmKMUYjeHft2rVt2zaRSNTd3W2xWDIzM7OzsycmJuj+BmOMx+OlpaWVlpZu3LjR4/F8+umnnZ2dFouloqKC6p9wOBwOhwOBAP0hFotFo9GOjo62traRkREOh9Pb21tTU1NQUDA5Ocnn8+kMgNFonJqaOn/+/NDQEJ/PLyoqotXw8PCw2+2empqanp4Oh8OdnZ1ut5sablKknl5VKBRyu93RaNRgMDgcjsuXL1+6dKmhoSE3N5dKr5KSEpoYQK1dE0e9r/+x0tKfnjbxo+dwOFqttqCgIBQK2e32xMXxeNzv9589e/Yf//Efa2pqqAdoJBKZmpo6c+aMxWKZnp6mUopiP3T2IBwOT05OarVag8EQDAanpqYGBwdfe+01j8fzne98R6VSrV27duE/agCArwEUAABw88Xj8dOnT7/88ssnT550OByMsZGRkebm5u3bt4fD4YsXL164cKG/v5+WsxwORyqVUqjdZDIxxmZmZmifmE58VldX+3y+06dPCwSCLVu2GI3G678jdc+ks6Q0lIAa5x87duz8+fNUAAQCgczMzAceeECr1Q4MDIRCobS0tIKCApVKNTf6/8UWEU7SMvbt+npfLNbd3d3d3U2DZum99/X1bd68uaioaGhoKBaL+f3+tLS0kpKSlStXZmVlHTt27KWXXrJYLCaTafv27TMzM9Sdk95gQUHBvn37VCpVS0tLPB6nWx8Gg8FgMFADUC6XGwgEZmZmJBIJHYk2Go3Z2dmMsezsbIPBkJ6evmXLFj6fPzg4GIlEPB7PlStXGhoaaPgAJYIYY16vt62tTS6XSySSlStXejweqVTa2dnZ09MTCATmttlhjIXD4enp6fb29sHBwd7eXkryNDY2xmIxlUr1yCOPPPjgg2lpaRRMunjxIlVrSqXS4/FQXcTn80OhEMWf5qI2QcuXL9+0aVNGRsbcydOMsVAoNDU1NTMzE4vFysrKTCbTwMCAx+MZHx8PBAI+n4/OAFClQScHaFqc3W5ftWqVWq0+derU+Ph4KBQymUxTU1MqlWrhP2oAgK8HFAAAcHPQcoqGNLnd7j//+c/vv/9+IsAdDoep8Q6Hw6GprnSCk3rFKBQKlUo195Dl3IC+3W7/3e9+99577wkEgtHR0Z/85CfX9KWJRqNNTU0fffRRV1cXLU91Oh2Px3O73barAoHA7Ozs7OxsOBw2m825ubnxeJzCLa319ddH/29oEat/MWOrnn7al5GhEIko2EMVER23zc3NlUgkarU6Ho9nZWVlZmZmZWWtWrWquLi4t7f30KFD586dC4VCV65cGRsbE4lEiZHA9DlPTEx89tln1IuzuLh448aNO3fu5PF4TU1NtPfPGBsaGrpw4UJqaur69et37tzJ4XBGR0fLy8srKiq4XC51+bRarYODgy+//PLHH3/scDhoAhd1F21paRkdHe3s7FSpVPv27fvJT35itVrPnTvX09NDS+pr3i+N8bJYLA6Hg7r702o+Fos5nc5z587t379fp9OdO3fuzJkzhw8f1uv14+PjPp+P3pdSqRQKhdQY6ppnpleVkpJCnVtzc3P/8z//c2pqKnEOOHEbobq6miaI0b0Ot9vt9XppkDD9ttDnLxAIpFKpUqk0Go0qlaq9vd3hcMhkMplM9gWTEwAAvgFQAADATdDX13fixAmbzVZUVER71a2trXa7PRaLUe4iGAx+/PHHx48fv++++5YtW6bVaiUSidfrpYB7UVHRihUrqIUlYyw1NXXz5s0Oh8PpdObl5U1NTTU2Nvb29orF4qGhIVriM8Y8Hs/AwIDL5ZJKpcePH29paXE6nZFIhDazXS6XSqWi1TYFTqhzKHX7ScROZoeGXj54MEkfC5exVJPpyPi44Lnnli9fzuVyzWazwWAoLi6ORCJms3njxo3vv//+v/7rv3Z1dcnl8vz8/EceeUSr1bpcrg8++CCxxe5yubq6utLT06PRKPXD8Xg8LS0tY2Nj0WjUZrNJpdLCwkKDwSAUClUqVW1trVQqtdlsjLFgMNjU1MQYi8Vie/bsuf/++2Ox2Nwuq1qtVqvVBoNBr9frcDhooczhcGhiGr0ACt+r1ery8vLe3t6mpiaJRCIQCILBIGOMy+Xy+Xz6FlKpVK1Wq1SqSCRitVrpbAB1ZRWLxVwu94UXXnjrrbcsFkskEuHxeNT2JxEiCgaDSqUyFovRA+d+mLFYbHZ29qOPPvL7/Rs3bvz2t789PDx87Ngxp9MpEono5G5KSsratWsrKiouXLggEomoBarb7b6mUOFyuSKRyGAwFBQUrF69esuWLdR/iQ6cbN68ee7kYwCAbx4UAADwVTkcjtdee+348eNUAPB4PMqZUPN1WmtGo1GLxXL27Nndu3evXr26qqrqypUrPp+Pz+drNBqZTOb3+ycnJ3NzczkcDp/Pv+eee4qLi0dHR9va2lpbW202m0QiUalU6enps7OzbW1tgUBgcHCwr6+Pdm07OjoofS4SidRqdUpKSmIkbSAQUKlUy5YtW7FixfLlyylqnzDP6D9b1PZ/hlz+lkLReewYl8v99NNPpVIpl8vVaDR5eXm0/G1oaHj99dfb2trsdrtYLL548SKNoKL8DI3NovV3OBym6Qc0uTYQCHg8Hq/XyxijEkij0VitVqfTSYO3aF+fWgmNjIzIZDKj0bh69eqsrKy53ZASsrOzq6qqOjs7JyYm6M5MLBZzu92xWIyesKCggMPh/OhHP+rr6+NwODKZLDMzkwJXGo1Gr9dTWaJQKMrKykpKSiwWSzgcHhkZcblcoVBIIpGYzeasrKxTp05NTEwkpvDS/n1igU7j2+Zu5zPGqMtnLBYLh8NjY2MfffQR/eZUV1f7/f6enp5oNFpUVERDDNLT03/5y1++/fbbMzMzXC5XrVaLRCKpVOr1eqkcpeY/RUVFW7du3bRpU0FBAZ0wSUtLm5ycVCqV+fn5uAMAAN9sKAAA4KuamZnp6+vr6+uz2Ww8Hq+vr6+goECv16ekpFC+3263ezweClcwxmQy2bZt23p7eynTQiv1/v7+np6ep556iu4DCIVCOsLb1NTU0dExOzsrEAgyMjIikcjLL79M38vpdDqdTo/HQ6O+NBpNJBKhlvNlZWV6vb6pqWlqaioQCOj1+tra2m9961vFxcVzV5avPfPMWFvbfN7jIlb/esZaKyq6Ozpo9AGt5qm8cTgcFEnyer1Op5PW8YyxYDA4OjpqMpmcTqfb7ebz+bQypn39wsJCvV4/NjbW1dVltVp5PJ5IJGKMCQQCDocTCoVCoRCXyx0ZGXn11VfpdDVtrjudzvHx8dnZWRprdcOD1KmpqU899VQ8Hv/9738/PT1NW/LxeDwQCESj0ezsbJlM9sEHH7S0tNDYr9zc3E2bNoVCIaFQWFVVZTKZ+vv7LRaLQqGorKzcsGHD9PR0WlraJ598MjY25vF41Gp1RUVFYWHhWwbHRwAAIABJREFUhQsX5r4AOpvLGKMlPr3fa2ZFS6VSiURCxQa16+nq6nK5XBKJZHp6ml5tJBKRSCQVFRXj4+MNDQ3j4+NUf0YikYyMDKPRyOPxQqGQWq3OzMzMycnZvn17bW1tIujP4XBycnJycnIW/nMGAPj6QQEAAF+VXC6nGAmXy9XpdHTEdnp6WigU6vX6++67b2Jioq+vLzs7e9u2bbQBX1tb63Q6ly1bZrFYmpubr1y5QqVCX19fIgg0MjLy3//9359++ikNCaYGQdRynqYHxONxn88XDoedTmdWVlZtbW1RUZFOp0tPT1+2bJlCoThz5kxKSko4HF62bNmePXvKysrmvuzW+vpTv/71fN7gIlb/MsbG8/MvTEwkoue05c/n82mgr9PpTERc6DQC3d+gFTDdxEhPT6ckjEqlKikpqaurEwgEb7zxRjwel8lk6enp2dnZfX19FHCnOwYGg2F2dra+vj7xEVGYx2KxNDY25ufn9/b2lpeXG43G68sAp9PZ0dExMzOTaL5J9wrC4bDb7R4eHh4cHKRzBdFo1O/379q1q6ysTKPR6HS6aDTa2dk5OjoqEony8vI4HE5WVpbZbG5ra5PJZAqFIjU1lcYCjI2NWa1WaoXE5XKlUqlKpVKr1RMTE06nk+Yb0EwxavMvEomysrK0Wm1iLJdKpaLhA06nkw6TxONxi8UiEAiqq6uppxO9OyoqRCLR9u3bt2zZIpFI6NcjNTUVe/wAsJShAACAryotLe2ee+7h8Xg2m624uHjNmjV//OMfqQYwGo01NTVVVVUTExNqtTqx7lQoFPfdd9/WrVtfffXVTz75JBKJUIh87unejo6OK1euTE9P8/l8mUymVqvlcnk0GnU4HLOzszQGi5Ik1H0yPT39hz/8oVarFQgEQqEwGo3W1dXJ5fJQKLRu3brS0tK5rzmp0X8eY+rc3A9lsokrVxKnIGgzPhaL0U42rW4Jn8+XSCSUfacjs2azubq62u1209raYDAYjcZPP/10YGCgv79/fHycy+WaTKbc3Ny2trZgMEhlRnd39wsvvKBUKkdHR/1+P22BU0Xh9/t7e3t/85vfqFSq8vLyH/zgB9XV1XNfcywWO3ny5IULF+aOaqZjsuFw2HNV4p/EYnFfX19zc7NUKi0tLfX5fDR8wOl0qlSq6urqQCDw+uuv9/f3R6NRygXNzs4ODQ0ZDAadTuf3+6lIqK6u3r59e1ZW1qFDhz7++GO3283hcNLS0jgcztTUFIfDycjIKC4unpmZ4XA4dGA3JydnbGzs0qVLHo+Hyhv6paJKoKysbPv27dPT03a7ncvlpqenl5eXr1+/fs+ePTfMPgEALEEoAADgq+JyuevXry8pKfH7/SkpKZTCV6vVoVBIq9VSglyn013zKB6PF4lEhoaG6IymWCxOTU3Nz89PXKDRaLKysmgwrdFozMzMXLZsGZ0nTrSX8fl8gUCAmtyHw2GXy5VIcfD5/J07d9bU1MRisdTUVCowEpIa/dfLZLbdu9WdnWq1OhKJ0Iukf6JKINHYnv5AL95ut9NMXNrvT09Pz8nJMRqNWq3WbrefO3fu4sWLdK6alrzd3d0TExNWq3VufxubzRaLxegzmbvHT3dLenp6+Hz++Pi4SCQqKChIjPuliQFUUyWa5XO5XIVCIRaLr5m6xRiTSCQajeZPf/qT1WoVCoVpaWkSicRms1HuXyQS0VCC2dlZut5mszU1Ncnl8snJya6urqGhIQrxKxSKv/mbv9myZYvD4Vi2bNnly5fD4bBWq62qqlKr1T09PQKBoKioyGKxdHR0TE1NUavT7du3X7582el0CoVCeuU0g4w6gcZisfvvv7+tra2trY0xlpaWtmnTprvuugurfwCABBQAAHATUPgn8de9e/d6vd7Ozs7c3FyFQkG74Nc/KhAIuFwuymkolcq8vDyB4K9TtlasWPG3f/u3TU1NPB5Pr9drNJry8vJIJCKXyw0GQzwen56eHhoampycjEajlOu45oAvj8e7vvBgSY7+Gxh7RSg09vdXVVVlZmb6/f4rV66Mjo5S/p5dbUCUuC3AGKMzvk6ns7u7WyQSmUym9vb2kydP2u12msU7MDBA2SdK+TPG6E7I3BwRh8OhpA0tiOlbcLlc6hpE0Rq68zAzM3PlypWJiYnCwkLG2NjY2MmTJ6mhUHl5OR1RCIVCMpmstLTUbrdPT0/PXf3TWWSfzzc0NOT3+3k83uzsrEwm83q9NLrY4/G43e65k30ZY36/v6+vz+l0jo2NJdryRKNRiUQSDodHR0dp8HB6enpeXt7DDz+cm5vb0dERDAZ1Ot0777wjukomkxkMhrGxMaVSKZFITCYTl8ttamqieuPSpUstLS10jJg6FMnlcpPJlCh1AACAoQAAgGSgnEZHR0dra2sgEDhw4MA1gRPGWCwWUygURUVFPT09KSkpZrO5pKRkbgRILBbv27dvz549NLOJx+PRDCydTjc6Osrlcqenp0+cOHHp0qVQKJSTk1NdXZ2Zmfmlry2p0X8VYyc4nC6nc6qpyWQyfe973wsEAkNDQ6dPnz5z5gxtz4vFYoVCoVAohoaGEsd/aWkeCoUCgcD4+LjVaqWW/FarNRAIOBwOWlJT8UA79PT/CWq1ura2Nh6PNzc3czgckUgkFovj8TiNxaX7LZQ74vF4QqGQai2Xy/WnP/3p2LFjFovFYDCkpaXl5+fTYW6tVltRUTE9PT0xMXFNLoiOdycqCvp6YkoxVXRUe8x9hTQz2O/30xADjUZDvyT19fU0WMDv96vVapoM4HQ6P/zwQ6vVmpWVpVarV61apdfr6Q/T09PNzc3j4+NisZhe8NjY2MjICN1FsdvthYWFOTk5k5OT8Xg8Nzc3caoEAAAICgAAuJloCTs7O/vZZ5+dP3/eZrPNzMzk5+eXlZXN3d0fGxv77LPP7HZ7SkrKt771LZ/PZzabt27dGovFqM1/4mKK7sztW0/Dbul76XQ6KgCys7NXrVp1zYCw6422tiYv+s9nbEYs/iQcjkWjTqezra2toKBgcnKSUkCJfD+Hw9m0adPq1at/9atfJQoADocjkUiys7OLiooyMjJ6e3t9Ph+dcGWMCYVCPp9PkaHrR+TSw9PT0zMzM2kaQzQalUqlqampiVahKpVKLBZ7vd54PJ6Zmblx48aMjIzp6ekjR4787ne/Gx0dDYVCFotFp9PRrQOz2bxjx47Vq1f7fL6Wlha3200b6kKh0Gg0Pvjgg0NDQ3a7fXZ2ll4PvTUul0ttnbRaLY0DS9wH4PP5NHaXElnZ2dl5eXk2m+3f/u3fpqamaAwwY8ztdtNnpVAoLly4MD09nZ2dfc899zz00EM2m02j0ZSWlr711lsDAwPDw8MymYyGmuXn59vtdsZYfn6+2WwuLi7ev3+/yWSKx+OrV69etmxZkn7iAABfUygAAOCmGRoaevfddycnJyUSyezsbOQqSqEkLpuZmfnTn/7U0NBgt9uzs7PvvvvuAwcOyOVyp9P529/+tqurq7S09OGHH1ar1Z/3jSKRyOXLl8fHx7Ozs/fv38/hcIRC4Q1TRnP5HI6XDx5MXvRfq1QeUSjik5P0V5vNduLECdrmt9lsiQiQz+c7e/bs3r17DQaD3W6ndbNGoykqKtq4cWNVVdXo6Ojo6Ci1Pa2oqNi0aVNvb++5c+cYY9dP3k2w2WzvvPPO9PQ0rchpUEBiFENOTk55eXlra2s0Gl27du2jjz46MTHxxhtv/OEPfxgaGqJ7C4FAYGZmxufz0Znd9evXV1dXv/baazKZLLGsX7Vq1RNPPLF169aOjg4Oh3Pp0iWHwzE5OUnfi8vlisXisrIymrfQ2NjY0dHh9/vpGDePx3M6nTweLy0tbd26dX6//7333qO7Iol3QcMEnE4nZaJIIBCoqqqi4iQWi1GnKa1WK5PJ6CXl5OQUFBQwxlauXFlaWioQCLZt20b3Q+Ry+Q3bngIALGUoAADg5rDb7f/+7/9+/Phxp9OZnp5uNpuXL1/udruLiopqamrmdl0cHBxsaWlpaWmhLeSsrKytW7dKJJIzZ868+uqrVADk5eXt3Lnzht8oEAicOHHiyJEjo6OjxcXFP/rRj2pqaubzCo8mM/qfKRY3l5ZOX7pEa26BQBCJRHp6eiYmJsLhcCLuT2ZmZiwWy2OPPXbkyBGLxSIUCsvKyg4cOHDvvfcODQ29+eabw8PDdFtj9+7ddXV1586dO3HixNjYWGKtPHd4FmMsHo/TojlxAR0I5vP5sVhMJpNxOJy+vj7qqzM7O/v66693dnaePXuWVv/0ELFYrFQq4/E4zVxTKpUUvqIXz+fzMzIy7r777g0bNojF4pqamrS0tM8+++zs2bNHjx6lBkEcDiczM/OJJ56ora2lH67FYpmamlIqlXq9nj4WPp+fnZ1tMBjeffddp9N5TZCJbj7U1tby+Xy3261Wq7OzswsKClQqFa3juVzuhg0bLBZLTk6OTCbbunVrYWFhaWlpbW0tY0wikdBlHA4HuX8AgM+DAgAAbo6mpqZTp05Rq3i3220wGJ544gmxWEyRjLlXUkY8weVyffjhh7Spb7PZqKnlNUdIE6xW6/vvv//KK69cuHCBpmW1t7fPpwA4e/jwuSNH5vNGFrH6T2Gs+JlnLo+MCHt6aM0djUZDoRCfz5dKpcFgkA7mJq6nLf8DBw643e6//OUvs7OzTqfTYrHw+fxoNBoMBmloQGZmZklJiUQiWbt27f79+10u1/DwMLVMFYvFsVjM6XRSBP+Gm9z0T1wul8/nT09POxwOOnJ96dIlt9vd1dVFQ39p7K5cLq+trc3NzaVhXlu2bKGerRUVFZWVlTMzMy6Xy263f/TRR0Kh8L777pNKpSaTKTMzs7y8fGRk5PTp016vVy6X19TU3H///ampqVarleY8pKamKpVKlUoVj8czMjLS0tKqq6tramree++9xMtODOhdtWrVwYMH16xZEwgEMjMzKQK0Y8cOGnlGMjMzv/Od7yQGTVzfQBYAAL4YCgAAuAni8fjY2JjL5aJe7KFQyOl0rly5Mjc39/qLTSZTRUWFzWaz2WwikejSpUtNTU2BQEAul0ul0hUrVuzYseOGa/pIJNLQ0PDOO+90dnZSH0m/3z82NjYzM5OSkuJ2u3k8Hu12X/PA0dbWo888M583sojVv5CxjY8/vvZnP3MdPTo1NUUdKrlcrlKpTEtLE4vFgUBgcHBwcnKSqhoOh1NeXn7XXXfR5rrH47FYLBwOZ2Jiwuv1ms3mNWvW0NjgtWvX0gfo8/lUKtWKFSuKiopycnKEQuHk5GRHR0dXVxfVFbS5LpfLPR4PhfUZYzweT61WazQaxhh15qF2q1KpVCgUUqsfKlEyMzOXL19+4MCBsrKyiYkJqVRqNpvFYjFjrKysbPfu3X19fZcuXbJYLBcvXlSpVJmZmW63u6+vT6fTVVZWPvXUU3w+v6mpic4PDAwMpKSk6HS6vXv3pqSkjI+PU7Mmt9tNc4IfeeQRoVBYUVFx+fJlq9UqEAgKCgq++93vbt++PT8/P9Gw1Wg0hkIhsVh8TQtXxhidol74zwoAABhDAQAAN4tGo5FKpYneL9SVP/Gv1L+fEiBpaWkPPvig0Wjs7Oxsbm5ub2+fmZmJRqMCgUCr1ZaUlJSXl6emps598mAwaLFYXC5XT09Pf3//zMxMJBKRSCQul+vtt9+mOcGXL18WiURbtmyh/enEYxcU/V+EFZWVGw4dksjl+/fvz8zMfOONN3p6eqLRKM1EUygUNKzqzTffbGlpYYytXLny6aefzsnJCYfD2dnZdFY1IyPDZDIpFAqpVPrkk0+uWbOGw+GUlJTQ1Nv333//6NGjAwMDer1+8+bNDz300EsvvdTS0jI3WSQUCisrK6VSaWtrK7Xxyc3NrampycvL6+rqamtrc7vdjDGj0Xj33XdHo9Fz587xeLx4PJ6VlXXgwIGDBw/qdDq67TD33fF4PIPBkJ6eToO3nE7n+Pj4Cy+8cOHCBbvdLpVKi4qK1q9fLxaLQ6GQ3W5/7733/H7/r371q6ysrMLCwuzs7OHh4d/85jd9fX0TExNGo3F2dpbGHt97771+v7+/v1+lUu3cufPhhx++ZhdfKBRiXi8AQDKgAACAm4BWq0ajcXh4mOazCoXCkZGRyspKxpjD4fjoo496e3t1Ot2OHTuys7MVCsWqVatmZ2epTRBtjQeDQavVyuFwPvjgg8LCwry8vIGBgdnZWaVSeeHChbNnz4bDYTpRSoWEWCz2eDyXL192OBzRaNRut/N4vI6Ojng8/uijjyZeWFKj/3kq1Y7DhyVqNWNMKpXSUNvm5uZQKFRSUrJ8+XKBQEC9O/ft22e1WmOxWEpKCp1MFQqFe/bsYYwNDw9nZGTs3r2bVsBarXbDhg2JbxEIBHp7e3t7ewcHBz0eT29v7+TkpM1mczgcifliVAYUFxfX1tbSTRWJRLJly5Yf//jHGRkZb731lsVi8fl8crl869atpaWlH374Ie3WM8b8fv/IyAhldW44LUun02VnZxuNRpr5xRj77LPPhoeH4/E4Bf3pIAGNJAsEAu3t7Z2dndR8k3qecjicyBx0TGLdunV6vX5sbEytVhcXFyPDAwBwy6AAAICbw2g01tbWDg4OjoyMSCQSrVZL27exWOzEiRMvv/xyd3e3VCrt7OzcuXPnBx980NXV1dfXZ7Va54bjw+Gww+GgNjgjIyNvvvnm5OSkSCSanp7u6enhcrn5+fkSiUShUITDYZlMlpKSwhjzeDyzs7N+v5+Oxr733nuZmZkej0cmk3k7Os4eOTKflf0iVv+pjO08dEhfVZX4CpfLXbZsWVFREZ2anXuxSCQyGo3XPENmZubBgwd9Pp9EIpkbc59LKBRqtVqdTud2u+kPNKCX6gpa+nO5XLVanZ6ebrVaJyYmpqenVSoVZYHi8bjb7fb7/TRLISUlZWxsrL293eVy0ULcYrG8/fbbdrv9Rz/60bp1664PUGVmZu7atUsoFE5NTel0Or/ff/HixcSdh0AgYLFYpFJp4vQtVWh//ZRSU5cvXz42NmYwGLKyspYvX06pJD6fX1RUVFRUtPAPHgAAvhIUAABwc0gkkm3btk1PT1+5ckUsFq9ataq0tJQxFgwG+/r6uru7+/r6BAIBNcgfHh4eGxujzWA6AMoYo4aVarVaJBJ5PJ6mpqbTp09PTExoNBrqIEkrS9pO9ng8BoNh165dOp3ulVdemZmZYVdH6vb19f3P//yPw+HghsOT77+fwdjn9hO9ahGrfyljax9/vPxGUwVuuI/+eb406CIQCHbu3Ol2uwcHB/V6/Z49e4xG4+rVqxsaGmZnZ+l+S2pqam1t7aZNmy5evOj1er1er1Ao9Pl8wWDQbrfT3F+LxcLj8axWq1Qq9fv9kUiEpgqEw+HJyclz587V1NTU1NRQ9P+at7N27drCwkKn06lUKkdGRhobG2dmZuigAp/P12g0BoPB5XI5HA6ZTLZ+/fry8vLEw0Ui0d69e/V6/eTkZFZW1qpVq+aWBwAAcOuhAACAm4PD4axatUoul3d3d4vF4qqqKkqTCwSCtLQ0iUTC5/NDodDU1JRQKKTxtNQCUiKRVFdXp6enBwIBOj08NTX14YcfOhyOREcgLpdLzWRKSkq8Xu/ly5djsZhQKCwpKSksLDx27JhUKo3H41wuV6FQRKPRixcvWiyWwPS0KhzmMyZPwn/s9AZD1S9/ebOf9cby8vJ++MMfOp1OmUymVqs5HM7WrVtHRkai0ejw8LBEIqmqqvr+97+/bt26YDBYXl4uFAo1Gk15eblerw+FQsKrRCKRXC4vLi4eHBwMhUJWq9Xtdl8zpeGGuFxuWloa5X80Gs0TTzyhUCisViuXy01JScnOzl6zZk1aWlpXV5dWq92xY4dOp5v7cLVavXPnTir2kvgxAQDA/KAAAICbRiAQVFZWVlRUsDmNKfl8/vbt2+nMKG0/G41GrVbb3t4+NjbGGCsvL//nf/7nioqKqampd9555+jRo11dXVartaCgoLy8PCUlxev1BoNBDoej0WiWL1/u8XjGxsa8Xm9FRQWfzz9y5MjMzIxEIpFKpWq1WqfTCYXCjo4Oy+QkLx4XMOZjLPKF/7FbxPZ/GpfbsXLlxMQEzSS+Ba7peyMUCh966CGVStXR0SESiTZs2LB27Voej7dx40ahUNjT06PRaNatW0dniNevXz87Ozs+Pp6VlbVhw4Y1a9ZoNJqKiorm5ubOzs7Z2Vm6Y7N69erPiyHNJRQKH3vssaqqqpmZGY1GI5FIxGJxdna2VCrdu3cv+5yepIwxrP4BAO4QnC/d+AEA+IpisdilS5deeuml7u5uiUSyefPmffv2Xb58ubGxMRQK7d69e8uWLbQ6fPvtt//lX/6lublZrVbv27dv586d7e3tJ06cuHTpks/ny8zMzM3N1Wq1gUDAbDY/8sgjLS0t//Vf/3XlyhU6dZCVlUX9NEdHRnw+H5+xVMbyGStk7PNCNovr+t9sNGbt2vXTn/709kbYI5GIy+Xi8/l00Hbu16m7P/01FAr19PRYrdb09PSCggKhUBiPx+nI9dmzZ7u7u1NSUtavX08zdG/TWwEAgFsHdwAAILk8Hs/p06c7OzsVCgU1+C8vL6cJrxs3bozH44nzo4yxkpKSlStX0pysdevW3XvvvWazua2tjaLqIyMjY2NjPB5PLpfH43GaPCWTyYRCIQ2+tdlsjDGf15toj8MYkzP2eavaxUX/WVmZaf36bdu25eTkLPwJbiY+n0/HoK//+ty/0qThuV/hcDi0bZ+dnR2Pxz9vzx4AAL6RUAAAQBLF4/FPPvnk1Vdf7ezsFAgEK1eu3LJli1r9v4dyr+/8mJeX93d/93ddXV0qlaqqqorP52dkZMhkMj6fH4/HabQtYywYDHZ1dQ0MDOzYsWNkZEQoFA4NDVmtVq/Xy+PxEpdFGeMwJlzUQv/zVFZWLv/jHyUSSVZW1jejSz1W/wAASw0KAABIomAw2N3d3dXV1dXVJRAIlEplb29vZWXl5y06ORyO2Ww2m82MsXA4PDU15XA40tLSBALB3Lwitb+UyWRZWVlPPfVUYWHh0aNHm5qaJicn/T7f3CcMMeZjzMpYkDEhY2rGEiH3RSx781Wqe+vr1bd74x8AAOCrQAEAAEnE5XLFYrFEIpFIJAKBQCAQTE5ONjY2pqen5+XlfUHi3OPxvPnmmxcuXODz+V6vNyMjw263h8NhKgN4PF5iKJVCodi6davL5ZLL5Wc+/HB4aMjPWOzq80QYG2KMy1iEMTFjaYyZGJMsavWvZqzu8GGs/gEA4OuO99xzz93u1wAA31g8Ho/P5zscDhqDJZPJxsbGzpw5Q61CTSbT53WGOX/+/IsvvnjixInh4WGNRlNSUsLlcp1OJ8V7eDyeXq8vKysrLS2lGiM/P18aCHT/938LGQswFmEszhg9tZcxB2NuxgKMxRmTMKZceAEgZmzP009XP/PMV/s8AAAAbj/cAQCA5KqoqJBKpb29vdPT0w0NDWfPnp2ZmcnKytJoNFVVVVqtNh6PWyyWwcFBxpjZbE5PT+dwOE6n0263066/TCZ7+OGH77rrrn/6p3+6dOkSja8SCARerzcajdLULW4k8snPfmZiTMeYgLEJxtyMhRmLMBZlLH71fz7GfIzFGFvApC7GGGPLKys3HTqUhI8HAADgVkMBAADJxeVyCwsLCwsLOzs7T58+7fF43G63x+PxeDzBYJAx1t/f/9prr7W3t3M4nMrKyv379+fm5qakpEQiEZp7ZTAY8vPzw+GwWCym2WF8Pl+n05nN5kSI6IW6OtvwMGNMylghY3LGxhibZczNWIwxDmMcxriMCRZ1JrhQpfp2Q8NN/VQAAABuGxQAAHCLUBP6gYEBtVqdlZWVn5+vVqsjkcjZs2cbGxupAHA4HCaTSafT/fGPf+zt7XW5XH6//+TJk0qlcuvWrUqlksfjxeNxiURSWFhYW1tLh4nfee653tOnE99IwVg+Y0LGYowFGYteXfqrGdMylnI1GjRPasYeqq8XX+1cBAAA8HWHAgAAbpHU1NT7779frVZTBGjHjh0ymSwQCDgcDkr7UAHgcDgGBwfPnz9vt9sjkUg4HG5tbQ2FQsFg0GQypaamejyegoKC1atX02TcnoaGYz//+TXfi8dYGmMuxmKMeRljjMkZy2LMwJhyIa9ZxNj9zz6r37z55nwEAAAAdwAUAABwi3A4nOLi4pycnGAwKJVKKb0jFAppHJXD4eBwOPRnpVIpl8vpfHA8Hg8EAr29vX/84x8FAgGXy83MzNy4cePatWsZYz6H44W6uht+OyljuYzJGQsyJmJMx5h8gdF/DmPrN22qQacEAAD4ZkEBAAC3lFgsFovFib9yudz169c7HI7s7Gw6A7BmzRqVSrV58+aurq6ZmRlq++P1evv7+zkcDo/H43K5UqlUo9Ewxl6oq/M7nTf8RhzGlIzJr7YDWlDshxSoVHvq6xf3NgEAAO5YKAAA4DZLTU3dv3//1q1bORyOTqcTiUShUCg9PZ16/0cikXg8npgCFolEHA5Hd3f3yMjI4NGjc6P/N0Tr/kV0/U9h7EFE/wEA4JsIBQAA3H5isdhoNCb+GolE3G53NBql1T99kcvlJqaA8Xi8KydOnLgu+n9Di1j9ixire/bZDET/AQDgmwgFAADccUQiUU5OTk5OjtVqpeFfYrFYKpXy+XzGWHZ2dpHZ/ME//MNCe/nPE4exdYj+AwDANxcKAAC44/B4vM2bN/t8vqysrL6+PsZYdnZ2YWEhj8dzOBx6vb79l7/ker3zeapFbP9Xmkz3IPoPAADfXJzE7XUAgDtKMBh0OBw+ny8QCEgkEoPBEIvF/H7/O//wD2d/+9v5PMMiVv9pjP1tS4u2qmrhDwUAAPh6wB0AALhDiUSi9PT0a77Y/f5GJuUKAAAZu0lEQVT7yVv9Sxj71vPPY/UPAADfbLgDAABfG7NDQ7+oqvq8vp/XWGgBwGVs97596PsJAADfeItojQ0AcHt8Qdf/ayxi+7/CZNp6+PDCHwcAAPA1gwIAAL4eXnvmmbG2tvlcuYjVv56xuvp6Cbr+AwDAEoACAAC+Blrr60/9+tfzuXIRq385Y3uffz4N0X8AAFgacAYAAO50SY3+8xi7a98+9P0EAIClA3cAAOBOl9Tof7nJtA3RfwAAWEpQAADAHe3IwYPJi/6bVap9iP4DAMASgwIAAO5cZw8fPnfkyHyuXMTqX8PY7kOH0hH9BwCAJQYFAADcoUZbW48+80ySnlzA2ObHHy89eDBJzw8AAHDHQgEAAHcin8Px8sGDyYv+11RWrj90aOGPAwAA+NpDAQAAd6Kjyez6n6dS7Th8GNF/AABYmlAAAMAdJ6nR/xTG7jp0SI/oPwAALFUoAADgzpLU6L+YsfWPP16G6D8AACxhKAAA4A6S7Oh/dWXlJkT/AQBgaUMBAAB3kKRG//MR/QcAAEABAAB3jhOHDiUv+p/K2E5E/wEAABjjxOPx2/0aAADYaGvrP1dXz/PihRYAUsbufvrprQj/AAAAoAAAgDuBz+H4RVWVbXh4PhcvYvt/bWXlY62tC38cAADANxAiQABw+x05eDB5q/98leqe+vqFPw4AAOCbCQUAANxmJw4dav/zn+dz5SJW/xrG9h4+rM7JWfhDAQAAvplQAADA7TTa2vr6T34ynysXsfqXMLbj6afz6+oW/lAAAIBvLJwBAIDbJtnR/zWVlQcQ/QcAAPi/cAcAAG6bpEb/C1SqexH9BwAAuA4KAAC4PZIa/VcxVofoPwAAwI2gAACA26CnoSF50X8RY/c/+2wuov8AAAA3gjMAAHCr+RyOf8zJ8Tud87l4oQUAh7EtmzZ9u6Fh4a8LAABgScAdAAC41V6oq0vS6p+h6z8AAMCXQQEAALfUO88913v69HyuXMTqX83Yw/X1YrV64Q8FAABYKlAAAMCt09PQcOznP5/PlYuL/t/37LP6zZsX/lAAAIAlBGcAAOAWQfQfAADgToA7AABwiyQ1+l+A6D8AAMD8oAAAgFshqdF/LWMPIPoPAAAwPygAACDpkhr9FzO299lnMxH9BwAAmB+cAQCA5JodGvpFVVWSwj9cxnbv27cH4R8AAIB5wx0AAEiupEb/y02mbYcPL/xxAAAASxcKAABIoteeeWasrW0+Vy5i9Z/O2P2I/gMAACwQCgAASJbW+vpTv/71fK5cxOpfyth9zz+vq6pa+EMBAACWNJwBAICkQPQfAADgzoQ7AACQFEmN/leYTFsR/QcAAFgUFAAAcPMlNfpvYKyuvl6C6D8AAMCioAAAgJssqdF/FWN7nn8+DdF/AACAxcIZAAC4mUZbW5/fvDlJ4R8+Y/sefxx9PwEAAL4K3AEAgJvG53C8fPBg8qL/Kysr1x46tPDHAQAAwF+hAACAm+ZoMqP/ZpVq5+HDiP4DAAB8RSgAAODmOHv48LkjR+Zz5SJW/ymM7Tp0KB3RfwAAgK8MBQAA3ASjra1Hn3kmSU8uZGzj44+XHTyYpOcHAABYUlAAAMBXlezo//LKyg2I/gMAANwkKAAA4KtC9B8AAOBrBAUAAHwlyY7+33XokB7RfwAAgJsHBQAALF5So/9SxtY9/ng5ov8AAAA3FQoAAFikZEf/KysrNyP6DwAAcLOhAACARTpy8GDyov/5KtW99fWI/gMAANx0KAAAYDFOHDrU/uc/z+fKRaz+Uxnbe/iwOidn4Q8FAACAL4ECAAAWbLS19fWf/CRJTy5lbOvTT+fX1SXp+QEAAJY4Tjwev92vAQC+TnwOxy+qqmzDw/O5eBHb/2sqKw+0ti78cQAAADAvuAMAAAtz5ODB5K3+Kfq/8McBAADAfKEAAIAFSGr0X8NYHaL/AAAASYYCAADmK6nRfzFjO59+2ozoPwAAQJLhDAAAzEuyo/9rKysfQ/QfAAAg+XAHAADm5YW6uuSt/gtVqm83NCz8cQAAALBgKAAA4Mu989xzvadPz+fKRaz+1Yw9VF8vxswvAACAWwIFAAB8iZ6GhmM//3mSnlzE2H3PPqvfvDlJzw8AAADXwBkAAPgiPofjH3Ny/E7nfC5e6PY/h7EtmzYh/AMAAHAr4Q4AAHyRF+rqkrT6Z4wVqFT3oOs/AADArYUCAAA+V1Kj/xrGHkT0HwAA4JZDAQAAN5bs6H/ds89mIPoPAABwy+EMAADcAKL/AAAA31S4AwAAN5DU6H8hov8AAAC3DwoAALjWa888k7zofxpjjzY0IPoPAABwu6AAAID/o7W+/tSvf52kJ5cw9q3nn9dWVSXp+QEAAOBL4QwAAPzV7NDQL6qqkhT+4TK2e9++PQj/AAAA3Fa4AwAAf5XU6H+FybTt8OGFPw4AAABuJhQAAPC/XnvmmbG2tvlcuYjVv56xOnT9BwAAuAOgAAAAxpIc/Zcztvf559MQ/QcAALgD4AwAACQ3+s9j7K59+9D3EwAA4A6BOwAAkNzofzmi/wAAAHcSFAAAS92RgweTF/3PYGxffb0E0X8AAIA7BgoAgCXt7OHD544cSdKTqxm776WX0hH9BwAAuJOgAABYukZbW48+88w8L17o9r+AsS2PP1568OACHwcAAADJhQIAYInyORwvHzyYvOh/TWXl+kOHFv44AAAASC4UAABL1NFkdv3PU6l2HD6M6D8AAMAdCAUAwFKU1Oh/CmN3HTqkR/QfAADgjoQCAGDJSWr0X8TYhscfL0P0HwAA4E6FAgBgaUl29H95ZeVGRP8BAADuYCgAAJaWpEb/8xH9BwAAuOOhAABYQpIa/U9lbAei/wAAAHc8Tjwev92vAQBuhdHW1n+urp7nxQvd/pcydvfTT29F+AcAAOCOhwIAYEnwORy/qKqyDQ/P5+JFhH/WVlY+1tq68McBAADArYYIEMCScOTgweSt/vNVqnvq6xf+OAAAALgNcAcAYEmYHRrqaWig/31xJbDQAiCFsYNvvZVfV/dVXh4AAADcMigAAJacLygGFrr6lzB279NPb0b0HwAA4OsDBQDAkpYoBnq/7M7ADa2prDyA6D8AAMDXCgoAAPhfVAz0ziMmRPJVqidbW9U5Ocl/aQAAAHDToAAAgBv40mJAzdj33norF9F/AACArxsUAADwJa4vBkSM3f/00xsQ/QcAAPgaQgEAAAtAxQAbGlrz3HO3+7UAAADAYqAAAAAAAABYQjAIDAAAAABgCUEBAAAAAACwhKAAAAAAAABYQlAAAAAAAAAsISgAAAAAAACWEBQAAAAAAABLCAoAAAAAAIAlBAUAAAAAAMASggIAAAAAAGAJQQEAAAAAALCEoAAAAAAAAFhCUAAAAAAAACwhKAAAAAAAAJYQFAAAAAAAAEsICgAAAAAAgCUEBQAAAAAAwBKCAgAAAAAAYAlBAQAAAAAAsISgAAAAAAAAWEJQAAAAAAAALCEoAAAAAAAAlhAUAAAAAAAASwgKAAAAAACAJQQFAAAAAADAEoICAAAAAABgCUEBAAAAAACwhKAAAAAAAABYQlAAAAAAAAAsISgAAAAAAP5/e/cTI+d913H8s7bXXv/LTtKWplGbnahNlSJUTyhCQirascQFJOTNAQFSkR2JVq2E5KFciorqMVyQEHRyAImqQuNKoB6AblBPLWqePbVIQGYplNJW9BmaENok7kwSx/ba6+UwWddNS5OQZp/s/l4v+TDe2d35zp6e9zy/3/NAQQQAAAAURAAAAEBBBAAAABREAAAAQEEEAAAAFEQAAABAQQQAAAAURAAAAEBBBAAAABREAAAAQEEEAAAAFEQAAABAQQQAAAAURAAAAEBBBAAAABREAAAAQEEEAAAAFEQAAABAQQQAAAAURAAAAEBBBAAAABREAAAAQEEEAAAAFEQAAABAQQQAAAAURAAAAEBBBAAAABREAAAAQEEEAAAAFEQAAABAQQQAAAAURAAAAEBBBAAAABREAAAAQEEEAAAAFEQAAABAQQQAAAAURAAAAEBBBAAAABREAAAAQEEEAAAAFEQAAABAQQQAAAAURAAAAEBBBAAAABREAAAAQEEEAAAAFEQAAABAQQQAAAAURAAAAEBBBAAAABREAAAAQEEKCoC63mx6BAAAaFgpATCZXO92vzKZXG16EAAAaFIpATAYXByPFweDf2t6EAAAaNLc1tZW0zPshHa7Ho8PLi7+y2j0s+32HU2PAwAAzSjiDMBw+MR4PJ8cnE5v6/e/1PQ4AADQmCICYDD4dnIgSXL7hQtPVdU3Gh4IAAAasvcDoKq+s76+bzsA5pO39vv/2PBMAADQkL0fAIPBfyVHk7lkLplPbltb2xgONQAAACXa45uA6/rZe+55NFlKjidJLieTZLy09Nho9L5W60jD8wEAwM7a42cA+v0vJ8e31/8k2Z8cSG4bj48MBl9scjIAAGjCXj4DMJlcabfXptO3Jbcnh5K55HrybDJN/jv52je/edolQQEAKMpePgMwGHx5Oj2cHEj2JXNJkrnkQHIwOZa8udf7XMMjAgDAztrLATAcPpEcvmX9z8z+ZD45srzcbrXumEwuNzMcAAA0Yc8uAZpMLlfVdDTaSg6324fa7QO93nPJ1nB4vNOZb3o6AABoxp4NgB/U7f5PXW/U9d1NDwIAAI3Zy0uAXqTTOTYeX216CgAAaFJBAdBq7U8ONz0FAAA0qaAASG4kB5ueAQAAmlRUAFxNbP8FAKBoRQXAlWS+qv6z6TEAAKAxBQVAt/uGZH+y0PQgAADQmIICILmR7LMNAACAkhUVANeTfT9wY2AAAChIUQFwLclkstH0GAAA0JiCAqDVSrI1Gj3d9CAAANCYggKg07kj2UqOND0IAAA0pqAASJJsJoeangEAABpTWgBccy8wAABKVloAXK3rZ5ueAQAAGlNWACwt7a/rq01PAQAAjSkrANrtozYBAwBQsrICINl0J2AAAEpWWgBs2AQMAEDJSguAK6PRU03PAAAAjSkrADqdI9NpWW8ZAABudaDpAXbC3Nzc9//3e4+Xl5erqtrheQAAoClFBMDy8vLsQV1vjsdby8sHktR1PR6PG50LAAB2WhEBcPMz/n7/6fPn91dVq67rTqeTZGVlpcnJAABgZ5W2IP5SMl9V31xZWZlOp6dPn+71ek2PBAAAO2dua2ur6Rl2TlVdPXly68SJX1lf/+yJEyeqqmq1Wk0PBQAAO6eIJUC32Ew+vb7+2cXFxeFw6OgfAIDSlLUEaDL51+TDSQaDwWwPAAAAFKWgJUCTyaTT6YzH49OnPzAc/nnT4wAAQAMKOgNw5syZ8XicnGi3f7vpWQAAoBmlBEC/33/44YcXFxeTv06OND0OAAA0o4gAqKrq/PnzSVZXV5O7koNNTwQAAM3Y+wFQ1/Xsbl/nzp3rdrvJhgAAAKBYe/8yoMPhcDqdLi4uJun3+8nzVbW/3z908xv6/X5TswEAwA7b+1cB6vf7s/U//5c9/xcAAICb9n4A1HVd1/XN//Z6V5NnB4M33vxKt9vd+akAAKARez8AXqTbvZRcqqqfaHoQAABowN7fBPwDribzTc8AAADNKDAAroxGTzU9AwAANKO4AOh23zCdFveuAQBgpsBD4RvJ4aZnAACAZhQYANftAQAAoFgFBoBNwAAAlKu4AGi1biTzVVU3PQgAADTgQNMD7LROZzHZSg41PQgAADSguDMAyWayLznY9BgAANCAAgPgejKX7G96DAAAaECBAbCRZDK51vQYAADQgOICoN1eSLZGo4tNDwIAAA0oMACOJTeSI00PAgAADSguAJIkmzYBAwBQpjIDYMO9wAAAKFOZAXBlNHqy6RleldETo6ZHAABgVyoxAE6cODqZ7O433vtir/2n7eFoOLk8aXoWAAB2k919HPz/02rNJ4ebnuLVuSvjt44f/MqD7b9q977Qqyd10wMBALA7lBgADW4CHg6H/X5/dXX1RzxbVdVL/6I7krck7UzfPn1o46F7PnfPyudXqsdexg8CAFC2ua2traZn2Gnd7tPJvqq6fedfenV19YEHHlhcXByNRu12+9anRqPR/fffv7i4WNd1q9X60b+n+3h37fJakmwl15PryUZyKUuXlvr39VfevNI68hK/AQCAMpV5BuDS2tpjjbzwysrKqVOnptNpv99/0VO9Xi/JYDB4yaP/JFlIjibHkmNJK3ljcldyb8bvHj8492C7bvfGvfpa/eN/AwAA7HIHmh6gAd3um9fWrjf16oPBoKqqCxcunDlzptvtzr64urq6tra29DNL7V9uV9Oq+laVo8nh5GCqx6oce+Hx2mNrLzw+lBxK5rZ/6ezBVnIjOZjptWkOpTXnJAAAAC9WYgAkm8nCa/oC9cW6vlTnUDKf+pm6vlznaHIo9fN1/XydM8lDWfmdlemnpjmWLCS/lSTjvxyfPH4yc8k7kxvJZnI1S3cvtQ+3s5lcyen26fZCO5sZbgzHGSfbB/3b35xJlq8tD981bB9tv6ZvEACAXarMALj+SjcBV3WV+eRQciCj74wm+yazj+FHT44m+yc5khzK6OJomunsQD/zyR3JgWRfcmz7MP1akpx404nOH3bqL9Tjfx4vf3G5+77u6h+srj++fvZjZ1fuXsm15Go6xzqthVaSHL1liCPfe1hv1ReuXHjhuP96cjl5JkvPLA3eMVh528qr/wMBALBXlbgJuN9/8vz5g4888WjmM9mcjJ4c5WiykMynevyW9TbfWsvx5EhyMJlP5pP924ttZh+6b2Tx+mLneCebyUZyOd07utlMriWX0729+8LR+dV039h90QxVVZ08eXK2G7jT6bRardFo9LJW/8/ewnP988+en71onsvidLH3pl7/3f0f418JAIA9qcQzAEuTv/jQ8Y+cbCX7krmktX1AfyVLS0uzNTa5mtP3vLDeJhtpbbQ6C51cT66ldaPVub2TfP+9BA4ni7c8vu2Wp47/kBm63e7Zs2cfeuihTqcznU5XV1df/tF/klxLJsml5GJO33Z68N5B65AV/wAAvLTiAuCx0Wj9oY+859SpR+Z6uZZspD3fbh9rJ9+3xuaHP/6x3jyg3+8Ph8PpdHrq1Kmbu4FfrueTJ7K8b7n/U/3uXa/wZwEAKFhZS4Cen0z+qNO5Opn8Xl0feUWfuL82ut3u2traI4888koDYPTd0eip0Zl7z7wmYwEAsHeVdQbgb3u96Xj8oUceeT0c/b8ands7LyxDAgCAV6KgG4F9aTj8pwsXfv7s2Xtf6XobAADYK0oJgKfr+u96vbtOnHhgMGh6FgAAaEwpAfDJlZXL0+mvD4dNDwIAAE3aU3sAJpPJaDRK0m632+32za//Ta/37fX1Ux//+Dcmk29U1YuebVCn00nyyi4ACgAAr8JeuwrQ7Lo6i4uLdV3PDqy/XlV/dvLk25eXn+p2z58/f+tTAABQmr0WAHVdz26tderUqdXV1ecnk99vt/clv1FVP9ftTqfTz3zmMysrK02PCQAAzdhrewDa7fZgMEjy8MMPr66ufnJlZWM6/bXh8EO93qwKHP0DAFCyvXMG4NJo9GxVPT8aLbTbZ4bDz4/HB5PfTH7h7Nm5bveBBx6w+AcAAPbCJuBLo9FXV1aujcdzyVyyL/nd5IvJc8lXl5Y+2uv9ZKeTZDgcOvoHAKBwu34J0OODwaP33391PL71i8eTfpLkC+PxL62sTKfT06dPW/wDAAC7ewnQpKrWT57cn8wl+7c//p/b/vfhZC1JsrS0NBqNfPwPAAC7+wzA13u9JDcLZnbcP3uwlbxn++vtdtvRPwAAZFcHwHer6tn19a1bAmBm1gBfSz6RJDmWrK2tzS4NBAAAhdvdAfCio/9bP/7vJ88l708+kCTp9/uzmwQDAEDJdnEAbEwmN5IbySwDbh79J/lE8rXkncn7k19N7k2m0+mZM2canBYAAF4PdnEAzLdaW8msAWZmewD+Y3vxz8e2zw/8yalTSdbX1/v9fhOTAgDA68UuDoDbu93ZZ/83ts8AzCXPbF8AdPbB/+zZ93S7586dS3L+/HkLgQAAKNnuvgzo37da16fTfcnh5HCS5I+TTyd3Jp9KjiVbyaGlpROj0YFWq9PprK+vuyQoAAAl28VnAJL89Opqks1kI7mW/EPy6STJR5Mj26uD2oPBgVYryXA4TDIejy0EAgCgWPt39dHw4XZ7K7m4tnYj2UweTd6R/GLy3u2dwXefO/eWD35w9s133nlnp9O57777FhYWOp3OwsJCs8MDAMDO291LgGYuVtW/93rPra/v2z6jMZccXlp613DY6nabnQ0AAF5X9kIAzFysqst1faWu51utN62sHG63m54IAABed/ZOAAAAAC9pd28CBgAAXhEBAAAABREAAABQEAEAAAAFEQAAAFAQAQAAAAURAAAAUBABAAAABREAAABQEAEAAAAFEQAAAFAQAQAAAAURAAAAUBABAAAABREAAABQEAEAAAAFEQAAAFAQAQAAAAURAAAAUBABAAAABREAAABQEAEAAAAFEQAAAFAQAQAAAAURAAAAUBABAAAABREAAABQEAEAAAAFEQAAAFAQAQAAAAURAAAAUBABAAAABREAAABQEAEAAAAFEQAAAFAQAQAAAAURAAAAUBABAAAABREAAABQEAEAAAAFEQAAAFAQAQAAAAURAAAAUBABAAAABREAAABQEAEAAAAFEQAAAFAQAQAAAAURAAAAUBABAAAABREAAABQEAEAAAAFEQAAAFAQAQAAAAURAAAAUBABAAAABflfdUEUcbnp2OIAAAAASUVORK5CYII='>"
      ],
      "text/plain": [
       "<IPython.core.display.HTML object>"
      ]
     },
     "metadata": {},
     "output_type": "display_data"
    }
   ],
   "source": [
    "viewer = LavaVuModelViewer(model)\n",
    "viewer.add_section(None,axis='x',value=model.bounding_box[0,1],colour='white')\n",
    "\n",
    "viewer.add_isosurface(fault['feature'],\n",
    "                     voxet=model.voxet(),\n",
    "                      isovalue=0\n",
    "#                       slices=[0,1]#nslices=10\n",
    "                     )\n",
    "xyz = model.data[model.data['type']=='strati'][['X','Y','Z']].to_numpy()\n",
    "xyz = xyz[fault['feature'].evaluate(xyz),:]\n",
    "# viewer.add_vector_field(fault['feature'], locations=xyz)\n",
    "viewer.add_points(model.data[model.data['type']=='strati'][['X','Y','Z']],name='prefault',pointsize=6)\n",
    "# viewer.interactive()\n",
    "viewer.lv.rotate(rotation)\n",
    "viewer.lv['xmin'] = -1\n",
    "viewer.lv['ymin'] = -1\n",
    "viewer.lv['zmin'] = -1\n",
    "viewer.lv['xmax'] = 1\n",
    "viewer.lv['ymax'] = 1\n",
    "viewer.lv['zmax'] = 1\n",
    "viewer.lv['border'] = 0\n",
    "viewer.lv.image('0.png')\n",
    "\n",
    "# viewer.add_points(,name='prefault',pointsize=6)\n",
    "viewer.lv.display()"
   ]
  },
  {
   "cell_type": "markdown",
   "metadata": {},
   "source": [
    "### fault surface and displacement vectors"
   ]
  },
  {
   "cell_type": "code",
   "execution_count": 9,
   "metadata": {
    "ExecuteTime": {
     "end_time": "2019-12-11T03:51:54.183750Z",
     "start_time": "2019-12-11T03:51:52.886069Z"
    },
    "scrolled": false
   },
   "outputs": [
    {
     "ename": "AttributeError",
     "evalue": "'Future' object has no attribute 'shape'",
     "output_type": "error",
     "traceback": [
      "\u001b[0;31m---------------------------------------------------------------------------\u001b[0m",
      "\u001b[0;31mAttributeError\u001b[0m                            Traceback (most recent call last)",
      "\u001b[0;32m<ipython-input-9-c1920db205eb>\u001b[0m in \u001b[0;36m<module>\u001b[0;34m\u001b[0m\n\u001b[1;32m     11\u001b[0m \u001b[0mviewer\u001b[0m\u001b[0;34m.\u001b[0m\u001b[0madd_vector_field\u001b[0m\u001b[0;34m(\u001b[0m\u001b[0mfault\u001b[0m\u001b[0;34m[\u001b[0m\u001b[0;34m'feature'\u001b[0m\u001b[0;34m]\u001b[0m\u001b[0;34m,\u001b[0m \u001b[0mlocations\u001b[0m\u001b[0;34m=\u001b[0m\u001b[0mxyz\u001b[0m\u001b[0;34m)\u001b[0m\u001b[0;34m\u001b[0m\u001b[0;34m\u001b[0m\u001b[0m\n\u001b[1;32m     12\u001b[0m \u001b[0mxyz\u001b[0m \u001b[0;34m=\u001b[0m \u001b[0mmodel\u001b[0m\u001b[0;34m.\u001b[0m\u001b[0mdata\u001b[0m\u001b[0;34m[\u001b[0m\u001b[0mmodel\u001b[0m\u001b[0;34m.\u001b[0m\u001b[0mdata\u001b[0m\u001b[0;34m[\u001b[0m\u001b[0;34m'type'\u001b[0m\u001b[0;34m]\u001b[0m\u001b[0;34m==\u001b[0m\u001b[0;34m'strati'\u001b[0m\u001b[0;34m]\u001b[0m\u001b[0;34m[\u001b[0m\u001b[0;34m[\u001b[0m\u001b[0;34m'X'\u001b[0m\u001b[0;34m,\u001b[0m\u001b[0;34m'Y'\u001b[0m\u001b[0;34m,\u001b[0m\u001b[0;34m'Z'\u001b[0m\u001b[0;34m]\u001b[0m\u001b[0;34m]\u001b[0m\u001b[0;34m.\u001b[0m\u001b[0mto_numpy\u001b[0m\u001b[0;34m(\u001b[0m\u001b[0;34m)\u001b[0m\u001b[0;34m\u001b[0m\u001b[0;34m\u001b[0m\u001b[0m\n\u001b[0;32m---> 13\u001b[0;31m \u001b[0mxyz\u001b[0m \u001b[0;34m=\u001b[0m \u001b[0mfault\u001b[0m\u001b[0;34m[\u001b[0m\u001b[0;34m'feature'\u001b[0m\u001b[0;34m]\u001b[0m\u001b[0;34m.\u001b[0m\u001b[0mapply_to_points\u001b[0m\u001b[0;34m(\u001b[0m\u001b[0mxyz\u001b[0m\u001b[0;34m)\u001b[0m\u001b[0;34m\u001b[0m\u001b[0;34m\u001b[0m\u001b[0m\n\u001b[0m\u001b[1;32m     14\u001b[0m \u001b[0mviewer\u001b[0m\u001b[0;34m.\u001b[0m\u001b[0madd_points\u001b[0m\u001b[0;34m(\u001b[0m\u001b[0mxyz\u001b[0m\u001b[0;34m[\u001b[0m\u001b[0mfault\u001b[0m\u001b[0;34m[\u001b[0m\u001b[0;34m'feature'\u001b[0m\u001b[0;34m]\u001b[0m\u001b[0;34m.\u001b[0m\u001b[0mevaluate\u001b[0m\u001b[0;34m(\u001b[0m\u001b[0mxyz\u001b[0m\u001b[0;34m)\u001b[0m\u001b[0;34m]\u001b[0m\u001b[0;34m,\u001b[0m\u001b[0mname\u001b[0m\u001b[0;34m=\u001b[0m\u001b[0;34m'faulted'\u001b[0m\u001b[0;34m,\u001b[0m\u001b[0mpointsize\u001b[0m\u001b[0;34m=\u001b[0m\u001b[0;36m6\u001b[0m\u001b[0;34m)\u001b[0m\u001b[0;34m\u001b[0m\u001b[0;34m\u001b[0m\u001b[0m\n\u001b[1;32m     15\u001b[0m \u001b[0mviewer\u001b[0m\u001b[0;34m.\u001b[0m\u001b[0madd_points\u001b[0m\u001b[0;34m(\u001b[0m\u001b[0mxyz\u001b[0m\u001b[0;34m[\u001b[0m\u001b[0;34m~\u001b[0m\u001b[0mfault\u001b[0m\u001b[0;34m[\u001b[0m\u001b[0;34m'feature'\u001b[0m\u001b[0;34m]\u001b[0m\u001b[0;34m.\u001b[0m\u001b[0mevaluate\u001b[0m\u001b[0;34m(\u001b[0m\u001b[0mxyz\u001b[0m\u001b[0;34m)\u001b[0m\u001b[0;34m]\u001b[0m\u001b[0;34m,\u001b[0m\u001b[0mname\u001b[0m\u001b[0;34m=\u001b[0m\u001b[0;34m'nfaulted'\u001b[0m\u001b[0;34m,\u001b[0m\u001b[0mpointsize\u001b[0m\u001b[0;34m=\u001b[0m\u001b[0;36m6\u001b[0m\u001b[0;34m,\u001b[0m\u001b[0mcolour\u001b[0m\u001b[0;34m=\u001b[0m\u001b[0;34m'grey'\u001b[0m\u001b[0;34m)\u001b[0m\u001b[0;34m\u001b[0m\u001b[0;34m\u001b[0m\u001b[0m\n",
      "\u001b[0;32m~/python_venv/LoopStructural/lib/python3.6/site-packages/LoopStructural-0.0.0-py3.6-linux-x86_64.egg/LoopStructural/modelling/fault/fault_segment.py\u001b[0m in \u001b[0;36mapply_to_points\u001b[0;34m(self, points)\u001b[0m\n\u001b[1;32m    188\u001b[0m             \u001b[0;31m# hanging wall should be > 0\u001b[0m\u001b[0;34m\u001b[0m\u001b[0;34m\u001b[0m\u001b[0;34m\u001b[0m\u001b[0m\n\u001b[1;32m    189\u001b[0m \u001b[0;34m\u001b[0m\u001b[0m\n\u001b[0;32m--> 190\u001b[0;31m             \u001b[0md\u001b[0m \u001b[0;34m=\u001b[0m \u001b[0mnp\u001b[0m\u001b[0;34m.\u001b[0m\u001b[0mzeros\u001b[0m\u001b[0;34m(\u001b[0m\u001b[0mgx\u001b[0m\u001b[0;34m.\u001b[0m\u001b[0mshape\u001b[0m\u001b[0;34m)\u001b[0m\u001b[0;34m\u001b[0m\u001b[0;34m\u001b[0m\u001b[0m\n\u001b[0m\u001b[1;32m    191\u001b[0m             \u001b[0md\u001b[0m\u001b[0;34m[\u001b[0m\u001b[0mnp\u001b[0m\u001b[0;34m.\u001b[0m\u001b[0misnan\u001b[0m\u001b[0;34m(\u001b[0m\u001b[0mgx\u001b[0m\u001b[0;34m)\u001b[0m\u001b[0;34m]\u001b[0m \u001b[0;34m=\u001b[0m \u001b[0;36m0\u001b[0m\u001b[0;34m\u001b[0m\u001b[0;34m\u001b[0m\u001b[0m\n\u001b[1;32m    192\u001b[0m             \u001b[0;31m# d[~np.isnan(gx)][gx[~np.isnan(gx)]>0] = 1\u001b[0m\u001b[0;34m\u001b[0m\u001b[0;34m\u001b[0m\u001b[0;34m\u001b[0m\u001b[0m\n",
      "\u001b[0;31mAttributeError\u001b[0m: 'Future' object has no attribute 'shape'"
     ]
    }
   ],
   "source": [
    "viewer = LavaVuModelViewer(model)\n",
    "viewer.add_section(None,axis='x',value=model.bounding_box[0,1],colour='white')\n",
    "\n",
    "viewer.add_isosurface(fault['feature'],\n",
    "                     voxet=model.voxet(),\n",
    "                      isovalue=0\n",
    "#                       slices=[0,1]#nslices=10\n",
    "                     )\n",
    "xyz = model.data[model.data['type']=='strati'][['X','Y','Z']].to_numpy()\n",
    "xyz = xyz[fault['feature'].evaluate(xyz),:]\n",
    "viewer.add_vector_field(fault['feature'], locations=xyz)\n",
    "xyz = model.data[model.data['type']=='strati'][['X','Y','Z']].to_numpy()\n",
    "xyz = fault['feature'].apply_to_points(xyz)\n",
    "viewer.add_points(xyz[fault['feature'].evaluate(xyz)],name='faulted',pointsize=6)\n",
    "viewer.add_points(xyz[~fault['feature'].evaluate(xyz)],name='nfaulted',pointsize=6,colour='grey')\n",
    "\n",
    "# viewer.add_points(model.data[model.data['type']=='strati'][['X','Y','Z']],name='prefault')\n",
    "viewer.lv.rotate(rotation)\n",
    "viewer.lv['xmin'] = -1\n",
    "viewer.lv['ymin'] = -1\n",
    "viewer.lv['zmin'] = -1\n",
    "viewer.lv['xmax'] = 1\n",
    "viewer.lv['ymax'] = 1\n",
    "viewer.lv['zmax'] = 1\n",
    "viewer.lv['border'] = 0\n",
    "# viewer.add_points(,name='prefault',pointsize=6)\n",
    "viewer.lv.display()\n",
    "viewer.lv.image('1.png')\n",
    "# viewer.interactive()"
   ]
  },
  {
   "cell_type": "markdown",
   "metadata": {},
   "source": [
    "### Faulted points"
   ]
  },
  {
   "cell_type": "code",
   "execution_count": null,
   "metadata": {
    "ExecuteTime": {
     "end_time": "2019-12-10T23:49:51.891024Z",
     "start_time": "2019-12-10T23:46:17.597Z"
    }
   },
   "outputs": [],
   "source": [
    "model = GeologicalModel(bb[0,:],bb[1,:])\n",
    "model.set_model_data(data)\n",
    "\n",
    "fault = model.create_and_add_fault('fault',\n",
    "                                   500,\n",
    "                                   nelements=2000,\n",
    "                                   steps=4,\n",
    "                                   interpolatortype='PLI')\n",
    "viewer = LavaVuModelViewer(model)\n",
    "viewer.add_section(None,axis='x',value=model.bounding_box[0,1],colour='white')\n",
    "\n",
    "viewer.add_isosurface(fault['feature'],\n",
    "                     voxet=model.voxet(),\n",
    "                      isovalue=0\n",
    "#                       slices=[0,1]#nslices=10\n",
    "                     )\n",
    "xyz = model.data[model.data['type']=='strati'][['X','Y','Z']].to_numpy()\n",
    "xyz = fault['feature'].apply_to_points(xyz)\n",
    "viewer.add_points(xyz[fault['feature'].evaluate(xyz)],name='faulted',pointsize=6)\n",
    "viewer.add_points(xyz[~fault['feature'].evaluate(xyz)],name='nfaulted',pointsize=6,colour='grey')\n",
    "viewer.lv.rotate(rotation)\n",
    "viewer.lv['xmin'] = -1\n",
    "viewer.lv['ymin'] = -1\n",
    "viewer.lv['zmin'] = -1\n",
    "viewer.lv['xmax'] = 1\n",
    "viewer.lv['ymax'] = 1\n",
    "viewer.lv['zmax'] = 1\n",
    "viewer.lv['border'] = 0\n",
    "# viewer.add_points(,name='prefault',pointsize=6)\n",
    "viewer.lv.image('2.png')\n",
    "\n",
    "viewer.lv.display()\n",
    "# viewer.interactive()"
   ]
  },
  {
   "cell_type": "markdown",
   "metadata": {},
   "source": [
    "### Interpolated surface with fault"
   ]
  },
  {
   "cell_type": "code",
   "execution_count": null,
   "metadata": {
    "ExecuteTime": {
     "end_time": "2019-12-10T23:49:51.891791Z",
     "start_time": "2019-12-10T23:46:17.599Z"
    }
   },
   "outputs": [],
   "source": [
    "model = GeologicalModel(bb[0,:],bb[1,:])\n",
    "model.set_model_data(data)\n",
    "fault = model.create_and_add_fault('fault',\n",
    "                                   500,\n",
    "                                   nelements=2000,\n",
    "                                   steps=4,\n",
    "                                   interpolatortype='PLI')\n",
    "strati = model.create_and_add_foliation('strati',nelements=30000,interpolatortype='PLI',cgw=0.1)"
   ]
  },
  {
   "cell_type": "code",
   "execution_count": null,
   "metadata": {
    "ExecuteTime": {
     "end_time": "2019-12-10T23:49:51.892560Z",
     "start_time": "2019-12-10T23:46:17.601Z"
    }
   },
   "outputs": [],
   "source": [
    "viewer = LavaVuModelViewer(model)\n",
    "# strati['feature'].faults = []\n",
    "viewer.add_section(None,axis='x',value=model.bounding_box[0,1],colour='white')\n",
    "\n",
    "viewer.add_isosurface(strati['feature'],\n",
    "                     voxet=model.voxet(),\n",
    "                     isovalue=0,\n",
    "                     colour='blue')\n",
    "# viewer.add_data(model.features[0][0])\n",
    "# viewer.add_data(strati['feature'])\n",
    "viewer.add_isosurface(fault['feature'],\n",
    "                     voxet=model.voxet(),\n",
    "                      isovalue=0\n",
    "#                       slices=[0,1]#nslices=10\n",
    "                     )\n",
    "xyz = model.data[model.data['type']=='strati'][['X','Y','Z']].to_numpy()\n",
    "viewer.add_points(xyz[fault['feature'].evaluate(xyz)],name='faulted',pointsize=6)\n",
    "viewer.add_points(xyz[~fault['feature'].evaluate(xyz)],name='nfaulted',pointsize=6,colour='grey')\n",
    "viewer.lv.rotate(rotation)\n",
    "viewer.lv['xmin'] = -1\n",
    "viewer.lv['ymin'] = -1\n",
    "viewer.lv['zmin'] = -1\n",
    "viewer.lv['xmax'] = 1\n",
    "viewer.lv['ymax'] = 1\n",
    "viewer.lv['zmax'] = 1\n",
    "viewer.lv['border'] = 0\n",
    "viewer.lv.image('3.png')\n",
    "\n",
    "# viewer.add_points(,name='prefault',pointsize=6)\n",
    "viewer.lv.display()"
   ]
  },
  {
   "cell_type": "code",
   "execution_count": null,
   "metadata": {
    "ExecuteTime": {
     "end_time": "2019-12-10T23:49:51.893238Z",
     "start_time": "2019-12-10T23:46:17.603Z"
    }
   },
   "outputs": [],
   "source": [
    "# rotation"
   ]
  },
  {
   "cell_type": "code",
   "execution_count": null,
   "metadata": {
    "ExecuteTime": {
     "end_time": "2019-12-10T23:49:51.894057Z",
     "start_time": "2019-12-10T23:46:17.605Z"
    }
   },
   "outputs": [],
   "source": [
    "viewer = LavaVuModelViewer(model)\n",
    "strati['feature'].faults = []\n",
    "viewer.add_section(None,axis='x',value=model.bounding_box[0,1],colour='white')\n",
    "\n",
    "viewer.add_isosurface(strati['feature'],\n",
    "                     voxet=model.voxet(),\n",
    "                     isovalue=0,\n",
    "                     colour='blue')\n",
    "# viewer.add_data(model.features[0][0])\n",
    "# viewer.add_data(strati['feature'])\n",
    "xyz = model.data[model.data['type']=='strati'][['X','Y','Z']].to_numpy()\n",
    "xyz = fault['feature'].apply_to_points(xyz)\n",
    "viewer.add_points(xyz[fault['feature'].evaluate(xyz)],name='faulted',pointsize=6)\n",
    "viewer.add_points(xyz[~fault['feature'].evaluate(xyz)],name='nfaulted',pointsize=6,colour='grey')\n",
    "\n",
    "viewer.add_isosurface(fault['feature'],\n",
    "                     voxet=model.voxet(),\n",
    "                      isovalue=0\n",
    "#                       slices=[0,1]#nslices=10\n",
    "                     )\n",
    "# viewer.add_points(model.data[model.data['type']=='strati'][['X','Y','Z']],name='prefault')\n",
    "# viewer.interactive()\n",
    "viewer.lv.rotate(rotation)\n",
    "viewer.lv['xmin'] = -1\n",
    "viewer.lv['ymin'] = -1\n",
    "viewer.lv['zmin'] = -1\n",
    "viewer.lv['xmax'] = 1\n",
    "viewer.lv['ymax'] = 1\n",
    "viewer.lv['zmax'] = 1\n",
    "viewer.lv['border'] = 0\n",
    "# viewer.add_points(,name='prefault',pointsize=6)\n",
    "viewer.lv.display()\n",
    "viewer.lv.image('4.png')"
   ]
  },
  {
   "cell_type": "markdown",
   "metadata": {},
   "source": [
    "### Model nodes"
   ]
  },
  {
   "cell_type": "code",
   "execution_count": null,
   "metadata": {
    "ExecuteTime": {
     "end_time": "2019-12-10T23:49:51.894770Z",
     "start_time": "2019-12-10T23:46:17.609Z"
    }
   },
   "outputs": [],
   "source": [
    "viewer = LavaVuModelViewer(model)\n",
    "viewer.add_isosurface(fault['feature'],\n",
    "                      isovalue=0,\n",
    "                     )\n",
    "viewer.add_section(None,axis='x',value=model.bounding_box[0,1],colour='white')\n",
    "nodes = model.regular_grid()#fault2['feature'][0].get_interpolator().support.nodes\n",
    "p1 = viewer.lv.points('nodes2',pointsize=2,colour='grey')\n",
    "p1.vertices(nodes[~fault['feature'].evaluate(nodes),:])\n",
    "nodes = model.regular_grid()#fault2['feature'][0].get_interpolator().support.nodes\n",
    "p1 = viewer.lv.points('nodes',pointsize=2,colour='grey')\n",
    "p1.vertices(fault['feature'].apply_to_points(nodes[fault['feature'].evaluate(nodes),:]))\n",
    "viewer.add_isosurface(strati['feature'],\n",
    "                     voxet=model.voxet(),\n",
    "                     isovalue=0,\n",
    "                     colour='blue')\n",
    "# nodes  = nodes[~np.logical_or(~fault['feature'].evaluate(nodes),\n",
    "#                                 ~fault2['feature'].evaluate(nodes)),:]\n",
    "# p = viewer.lv.points('nodes',pointsize=6,colour='black')\n",
    "# p.vertices(nodes)\n",
    "# nodes = fault1['feature'].apply_to_points(nodes)\n",
    "# p = viewer.lv.points('nodes_faulted',pointsize=3,colour='blue')\n",
    "# p.vertices(nodes)\n",
    "# nodes = fault2['feature'].apply_to_points(nodes)\n",
    "# p = viewer.lv.points('nodes_faulted2',pointsize=3,colour='blue')\n",
    "# p.vertices(nodes)\n",
    "\n",
    "# viewer.add_vector_field(fault1['feature'][1])#,model.regular_grid((25,25,12)))\n",
    "viewer.lv.rotate(rotation)\n",
    "viewer.lv['xmin'] = -1\n",
    "viewer.lv['ymin'] = -1\n",
    "viewer.lv['zmin'] = -1\n",
    "viewer.lv['xmax'] = 1\n",
    "viewer.lv['ymax'] = 1\n",
    "viewer.lv['zmax'] = 1\n",
    "viewer.lv['border'] = 0\n",
    "viewer.lv.image('5.png')\n",
    "viewer.lv.display()"
   ]
  },
  {
   "cell_type": "code",
   "execution_count": null,
   "metadata": {
    "ExecuteTime": {
     "end_time": "2019-12-10T23:49:51.895417Z",
     "start_time": "2019-12-10T23:46:17.610Z"
    }
   },
   "outputs": [],
   "source": [
    "fig, ax = plt.subplots(2,3,figsize=(20,10))\n",
    "ax[0,0].imshow(plt.imread('0.png')[240:530, 330:644,:])\n",
    "ax[0,0].set_title('A.')\n",
    "ax[0,1].imshow(plt.imread('1.png')[240:530, 330:644,:])\n",
    "ax[0,1].set_title('B.')\n",
    "ax[0,2].imshow(plt.imread('2.png')[240:530, 330:644,:])\n",
    "ax[0,2].set_title('C.')\n",
    "ax[1,0].imshow(plt.imread('4.png')[240:530, 330:644,:])\n",
    "ax[1,0].set_title('D.')\n",
    "ax[1,1].imshow(plt.imread('5.png')[240:530, 330:644,:])\n",
    "ax[1,1].set_title('E.')\n",
    "ax[1,2].imshow(plt.imread('3.png')[240:530, 330:644,:])\n",
    "ax[1,2].set_title('F.')\n",
    "\n",
    "for i in range(2):\n",
    "    for j in range(3):\n",
    "        ax[i,j].axis('off')\n",
    "plt.tight_layout()\n",
    "# plt."
   ]
  },
  {
   "cell_type": "code",
   "execution_count": null,
   "metadata": {
    "ExecuteTime": {
     "end_time": "2019-12-10T23:49:51.896254Z",
     "start_time": "2019-12-10T23:46:17.612Z"
    }
   },
   "outputs": [],
   "source": [
    "plt.imshow(plt.imread('4.png')[240:530, 330:644,:])\n"
   ]
  },
  {
   "cell_type": "code",
   "execution_count": null,
   "metadata": {},
   "outputs": [],
   "source": []
  }
 ],
 "metadata": {
  "kernelspec": {
   "display_name": "LoopStructural",
   "language": "python",
   "name": "loopstructural"
  },
  "language_info": {
   "codemirror_mode": {
    "name": "ipython",
    "version": 3
   },
   "file_extension": ".py",
   "mimetype": "text/x-python",
   "name": "python",
   "nbconvert_exporter": "python",
   "pygments_lexer": "ipython3",
   "version": "3.6.8"
  },
  "varInspector": {
   "cols": {
    "lenName": 16,
    "lenType": 16,
    "lenVar": 40
   },
   "kernels_config": {
    "python": {
     "delete_cmd_postfix": "",
     "delete_cmd_prefix": "del ",
     "library": "var_list.py",
     "varRefreshCmd": "print(var_dic_list())"
    },
    "r": {
     "delete_cmd_postfix": ") ",
     "delete_cmd_prefix": "rm(",
     "library": "var_list.r",
     "varRefreshCmd": "cat(var_dic_list()) "
    }
   },
   "types_to_exclude": [
    "module",
    "function",
    "builtin_function_or_method",
    "instance",
    "_Feature"
   ],
   "window_display": false
  }
 },
 "nbformat": 4,
 "nbformat_minor": 2
}
