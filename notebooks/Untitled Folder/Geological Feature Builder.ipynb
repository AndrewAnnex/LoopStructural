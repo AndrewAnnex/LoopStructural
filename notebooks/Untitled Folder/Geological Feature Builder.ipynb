{
 "cells": [
  {
   "cell_type": "markdown",
   "metadata": {},
   "source": [
    "### Import the required components of FME"
   ]
  },
  {
   "cell_type": "code",
   "execution_count": 1,
   "metadata": {
    "ExecuteTime": {
     "end_time": "2019-07-31T11:32:11.159103Z",
     "start_time": "2019-07-31T11:32:10.498452Z"
    }
   },
   "outputs": [],
   "source": [
    "from FME.interpolators.piecewiselinear_interpolator import PiecewiseLinearInterpolator as PLI\n",
    "from FME.supports.tet_mesh import TetMesh\n",
    "from FME.modelling.geological_feature import GeologicalFeature, GeologicalFeatureBuilder\n",
    "from FME.visualisation.model_visualisation import LavaVuModelViewer\n",
    "import numpy as np"
   ]
  },
  {
   "cell_type": "markdown",
   "metadata": {},
   "source": [
    "### Define the bounding box and build a tetrahedral mesh"
   ]
  },
  {
   "cell_type": "code",
   "execution_count": 2,
   "metadata": {
    "ExecuteTime": {
     "end_time": "2019-07-31T11:32:22.807034Z",
     "start_time": "2019-07-31T11:32:22.637276Z"
    }
   },
   "outputs": [],
   "source": [
    "boundary_points = np.zeros((2,3))\n",
    "\n",
    "boundary_points[0,0] = -1\n",
    "boundary_points[0,1] = -1\n",
    "boundary_points[0,2] = -1\n",
    "boundary_points[1,0] = 1\n",
    "boundary_points[1,1] = 1\n",
    "boundary_points[1,2] = 1\n",
    "mesh = TetMesh()\n",
    "mesh.setup_mesh(boundary_points, nstep=1, n_tetra=10000,)"
   ]
  },
  {
   "cell_type": "markdown",
   "metadata": {},
   "source": [
    "### Build the geological feature\n",
    " * A geological feature is an object in a geological model such as a fault, stratigraphic surface, unconformity, foliation, fold axis, fold vergence\n",
    " * The geological feature is something that can be queried globally throughout the model domain and should return the feature value or gradient or \n",
    " * The geological feature builder builds an association between an interpolation object and the support that the interpolation is performed on "
   ]
  },
  {
   "cell_type": "code",
   "execution_count": 3,
   "metadata": {
    "ExecuteTime": {
     "end_time": "2019-07-31T11:32:34.343593Z",
     "start_time": "2019-07-31T11:32:30.118008Z"
    }
   },
   "outputs": [
    {
     "name": "stdout",
     "output_type": "stream",
     "text": [
      "\u001b[33m╭──────────────────────────────────────────╮\u001b[0m\n",
      "\u001b[33m│                                          │\u001b[0m\n",
      "\u001b[33m│\u001b[0m      Update available \u001b[38;5;241m2.3.4\u001b[0m → \u001b[32m3.0.4\u001b[0m      \u001b[33m│\u001b[0m\n",
      "\u001b[33m│\u001b[0m   Run \u001b[36mpip3 install -U meshio\u001b[0m to update   \u001b[33m│\u001b[0m\n",
      "\u001b[33m│                                          │\u001b[0m\n",
      "\u001b[33m╰──────────────────────────────────────────╯\u001b[0m\n"
     ]
    }
   ],
   "source": [
    "interpolator = PLI(mesh)\n",
    "feature_builder = GeologicalFeatureBuilder(interpolator,name='stratigraphy')\n",
    "\n",
    "feature_builder.add_point([1,1,1],0)\n",
    "feature_builder.add_point([-0.5,0,0],1)\n",
    "feature_builder.add_point([-1,0,0],.8)\n",
    "\n",
    "feature_builder.add_strike_and_dip([0,0,0],90,40)\n",
    "feature = feature_builder.build(solver='chol')"
   ]
  },
  {
   "cell_type": "code",
   "execution_count": 4,
   "metadata": {
    "ExecuteTime": {
     "end_time": "2019-07-31T11:32:41.747991Z",
     "start_time": "2019-07-31T11:32:41.518923Z"
    }
   },
   "outputs": [
    {
     "name": "stdout",
     "output_type": "stream",
     "text": [
      "Creating isosurface for 0.000000\n"
     ]
    }
   ],
   "source": [
    "viewer = LavaVuModelViewer()\n",
    "viewer.plot_isosurface(feature,isovalue=0)\n",
    "\n",
    "viewer.lv.interactive()"
   ]
  },
  {
   "cell_type": "code",
   "execution_count": null,
   "metadata": {},
   "outputs": [],
   "source": []
  }
 ],
 "metadata": {
  "kernelspec": {
   "display_name": "Python 3",
   "language": "python",
   "name": "python3"
  },
  "language_info": {
   "codemirror_mode": {
    "name": "ipython",
    "version": 3
   },
   "file_extension": ".py",
   "mimetype": "text/x-python",
   "name": "python",
   "nbconvert_exporter": "python",
   "pygments_lexer": "ipython3",
   "version": "3.6.7"
  }
 },
 "nbformat": 4,
 "nbformat_minor": 2
}
