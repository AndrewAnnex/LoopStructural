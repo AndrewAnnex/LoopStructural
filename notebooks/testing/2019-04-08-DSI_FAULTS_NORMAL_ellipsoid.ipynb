{
 "cells": [
  {
   "cell_type": "markdown",
   "metadata": {},
   "source": [
    "### Import and initialize things"
   ]
  },
  {
   "cell_type": "code",
   "execution_count": 9,
   "metadata": {
    "ExecuteTime": {
     "end_time": "2019-05-29T23:29:39.058773Z",
     "start_time": "2019-05-29T23:29:39.048176Z"
    },
    "init_cell": true
   },
   "outputs": [
    {
     "name": "stdout",
     "output_type": "stream",
     "text": [
      "The snakeviz extension is already loaded. To reload it, use:\n",
      "  %reload_ext snakeviz\n",
      "The cython extension is already loaded. To reload it, use:\n",
      "  %reload_ext cython\n"
     ]
    }
   ],
   "source": [
    "import numpy as np\n",
    "#import matplotlib.pyplot as plt\n",
    "import matplotlib.pyplot as plt\n",
    "import scipy.sparse.linalg as sla\n",
    "import numpy.linalg as la\n",
    "import sys, os\n",
    "import pickle\n",
    "import shapefile\n",
    "#import rbf as RBF\n",
    "import warnings\n",
    "warnings.filterwarnings('ignore')\n",
    "#%matplotlib inline\n",
    "sys.path.insert(0, os.environ['FaultSRC']) #add src folder to path for notebook\n",
    "%load_ext snakeviz\n",
    "%load_ext cython"
   ]
  },
  {
   "cell_type": "code",
   "execution_count": 10,
   "metadata": {
    "ExecuteTime": {
     "end_time": "2019-05-29T23:29:39.284217Z",
     "start_time": "2019-05-29T23:29:39.060825Z"
    },
    "init_cell": true,
    "scrolled": true
   },
   "outputs": [],
   "source": [
    "#import the required additional libraries here\n",
    "from tet_mesh import TetMesh\n",
    "from dsi_interpolator import DSI\n",
    "from fold_event import FoldEvent\n",
    "#from ffold_event import FoldEvent\n",
    "from structural_frame import StructuralFrame\n",
    "from fold_rotation import FoldRotationAngle\n",
    "from geological_points import *\n",
    "from surfe_wrapper import *\n",
    "from dsi_fold_constraint import DSIFoldConstraint\n",
    "from fault_segment import FaultSegment"
   ]
  },
  {
   "cell_type": "code",
   "execution_count": 11,
   "metadata": {
    "ExecuteTime": {
     "end_time": "2019-05-29T23:29:39.312383Z",
     "start_time": "2019-05-29T23:29:39.287059Z"
    },
    "code_folding": [],
    "init_cell": true
   },
   "outputs": [],
   "source": [
    "def rotation(axis,angle):\n",
    "    c = np.cos(np.deg2rad(angle))\n",
    "    s = np.sin((np.deg2rad(angle)))\n",
    "    C = 1.0 - c\n",
    "    x = axis[0]\n",
    "    y = axis[1]\n",
    "    z = axis[2]\n",
    "    xs = x*s\n",
    "    ys = y*s\n",
    "    zs = z*s\n",
    "    xC = x*C\n",
    "    yC = y*C\n",
    "    zC = z*C\n",
    "    xyC = x*yC\n",
    "    yzC = y*zC\n",
    "    zxC = z*xC\n",
    "    rotation_mat = np.zeros((3,3))\n",
    "    rotation_mat[0][0] = x*xC+c\n",
    "    rotation_mat[0][1] = xyC-zs\n",
    "    rotation_mat[0][2] = zxC+ys\n",
    "    \n",
    "    rotation_mat[1][0] = xyC+zs\n",
    "    rotation_mat[1][1] = y*yC+c\n",
    "    rotation_mat[1][2] = yzC-xs\n",
    "\n",
    "    rotation_mat[2][0] = zxC -ys\n",
    "    rotation_mat[2][1] = yzC+xs\n",
    "    rotation_mat[2][2] = z*zC+c\n",
    "    return rotation_mat\n",
    "    for i in range(3):\n",
    "        for j in range(3):\n",
    "            rv[i]+=rotation_mat[i][j]*vector[i]\n",
    "        n+=rv[i]*rv[i]\n",
    "    n = sqrt(n)\n",
    "    for i in range(3):\n",
    "        rv[i]/=n\n",
    "    return rv\n",
    "def mg2coords(X, Y, Z):\n",
    "        return np.vstack([X.ravel(), Y.ravel(), Z.ravel()]).T\n",
    "def section2d(azi,dip,distance,origin=np.ones(3),scalev=np.ones(3),res=100):\n",
    "    #create a unit square section\n",
    "    xvalues = np.linspace(-1,1,res)\n",
    "    yvalues = np.linspace(-1,1,res)\n",
    "    zvalues = np.array([0.])\n",
    "    \n",
    "    X,Y,Z =  np.meshgrid(xvalues, yvalues, zvalues)\n",
    "    \n",
    "    #apply the dip rotation around y axis\n",
    "    rot = rotation(np.array([0.,1.,0.]),dip)\n",
    "    #apply the azi rotation around z\n",
    "    rot2 = rotation(np.array([0.,0.,1.]),azi)\n",
    "    scale = np.zeros((4,4))\n",
    "    for i in range(3):\n",
    "        scale[i,i] = scalev[i]\n",
    "    xyz = mg2coords(X,Y,Z)\n",
    "    xyz2=np.einsum('ij,kj->ki',rot,xyz)\n",
    "    xyz3=np.einsum('ij,kj->ki',rot2,xyz2)\n",
    "    xyz3 = np.c_[xyz3,np.ones(xyz3.shape[0])]\n",
    "    xyz4=np.einsum('ij,kj->ki',scale,xyz3)\n",
    "    xyz4=xyz4[:,:3]\n",
    "    norm= np.zeros(3)\n",
    "    norm[0] = np.cos(np.deg2rad(azi))*np.sin(np.deg2rad(dip))\n",
    "    norm[1] = -np.sin(np.deg2rad(azi))*np.sin(np.deg2rad(dip))\n",
    "    norm[2] = np.cos(np.deg2rad(dip))\n",
    "    \n",
    "    norm*=distance\n",
    "    \n",
    "    xyz4+=norm\n",
    "    \n",
    "\n",
    "    return xyz4\n",
    "#print(xx.shape)\n",
    "\n",
    "#plt.plot(xx[:,:,0], yy[:,:,0], marker='.', color='k', linestyle='none')"
   ]
  },
  {
   "cell_type": "code",
   "execution_count": 12,
   "metadata": {
    "ExecuteTime": {
     "end_time": "2019-05-29T23:29:39.742174Z",
     "start_time": "2019-05-29T23:29:39.313787Z"
    },
    "init_cell": true
   },
   "outputs": [],
   "source": [
    "def add_value(A,B,x,y,i,r,s=1.0):\n",
    "    A[r][4*i+0] = s*x**3\n",
    "    A[r][4*i+1] = s*x**2\n",
    "    A[r][4*i+2] = s*x\n",
    "    A[r][4*i+3] = s*1.0\n",
    "    B[r] = y\n",
    "def add_dx(A,B,x,y,i,r,s=1.0):\n",
    "    A[r][4*i+0] = s*3*x**2\n",
    "    A[r][4*i+1] = s*2*x\n",
    "    A[r][4*i+2] = s*1.0\n",
    "    A[r][4*i+3] = s*0.0\n",
    "    B[r] = y\n",
    "def add_ddx(A,B,x,y,i,r,s=1.0):\n",
    "    A[r][4*i+0] = s*6*x\n",
    "    A[r][4*i+1] = s*2\n",
    "    A[r][4*i+2] = 0.0\n",
    "    A[r][4*i+3] = 0.0\n",
    "    B[r] = y\n",
    "def func(w,x):\n",
    "    return w[0]*x**3+w[1]*x**2+w[2]*x+w[3]\n",
    "\n",
    "def get_weights2(z):\n",
    "    A = np.zeros((8,8))\n",
    "    B = np.zeros(8)\n",
    "    #set control points, 0 and 1\n",
    "    add_value(A,B,x=-1,y=0,i=0,r=0)\n",
    "    #add_value(A,B,x=1,y=0,i=0,r=1)\n",
    "    add_value(A,B,x=-.5,y=1,i=0,r=1)\n",
    "    #set gradient at edges\n",
    "    add_dx(A,B,x=-0.5,y=.5,i=0,r=2)\n",
    "    add_dx(A,B,x=0,y=0,i=0,r=3)\n",
    "    #add_value(A,B,x=-0.8,y=0.8,i=0,r=2)\n",
    "\n",
    "    w1 = np.linalg.lstsq(A,B)[0]\n",
    "    return w1\n",
    "def get_weights3(z):\n",
    "    A = np.zeros((8,8))\n",
    "    B = np.zeros(8)\n",
    "    #set control points, 0 and 1\n",
    "    add_value(A,B,x=-1,y=1,i=0,r=0)\n",
    "    add_value(A,B,x=0,y=0,i=0,r=1)\n",
    "    #add_value(A,B,x=-.5,y=1,i=0,r=1)\n",
    "    #set gradient at edges\n",
    "    add_dx(A,B,x=-1,y=0,i=0,r=2)\n",
    "    add_dx(A,B,x=0,y=-1,i=0,r=3)\n",
    "    #add_value(A,B,x=-0.8,y=0.8,i=0,r=2)\n",
    "\n",
    "    w1 = np.linalg.lstsq(A,B)[0]\n",
    "    return w1\n",
    "def get_weights(z):\n",
    "    A = np.zeros((8,8))\n",
    "    B = np.zeros(8)\n",
    "    add_value(A,B,x=-1,y=0,i=0,r=0)\n",
    "    add_dx(A,B,x=-1,y=0,i=0,r=1)\n",
    "    add_value(A,B,x=0,y=1,i=0,r=2)\n",
    "    add_dx(A,B,x=0,y=0,i=0,r=3)\n",
    "    add_value(A,B,x=-z,y=0,i=0,r=4)\n",
    "    add_value(A,B,x=-z,y=0,i=1,r=4,s=-1.0)\n",
    "    add_dx(A,B,x=-z,y=0,i=0,r=5)\n",
    "    add_dx(A,B,x=-z,y=0,i=1,r=5,s=-1.0)\n",
    "    #add_dx(A,B,x=0,y=-z,i=1,r=7,s=1.0)\n",
    "    #add_ddx(A,B,x=0,y=0,i=1,r=6,s=1.0)\n",
    "    #add_ddx(A,B,x=0,y=0,i=0,r=7,s=1.0)\n",
    "    #add_ddx(A,B,x=0,y=0,i=1,r=6,s=1.0)\n",
    "    add_value(A,B,x=0,y=0,i=1,r=6,s=1.0)\n",
    "    #add_ddx(A,B,x=-1,y=0,i=0,r=7,s=1.0)\n",
    "    #add_value(A,B,x=-1,y=0,i=0,r=7,s=1.0)\n",
    "    add_dx(A,B,x=0,y=-1,i=1,r=7)\n",
    "\n",
    "    w1 = np.linalg.lstsq(A,B)[0]\n",
    "    return w1\n",
    "def p5(x):\n",
    "    y = np.copy(x)\n",
    "    y[:] = 0\n",
    "    y[x>0] = 1\n",
    "    return y\n",
    "def p4(x):\n",
    "    w1 = get_weights3(0.)\n",
    "    x2 = np.copy(x)\n",
    "    \n",
    "    x2[x>0] = -x2[x>0]\n",
    "    y = func(w1[:4],x2)\n",
    "    y[x>0] = -y[x>0]\n",
    "    return y\n",
    "def p1(x):\n",
    "    w1 = get_weights2(0.)\n",
    "    x2 = np.copy(x)\n",
    "    \n",
    "    x2[x>0] = -x2[x>0]\n",
    "    y = func(w1[:4],x2)\n",
    "    y[x2>-0.5] = 1.\n",
    "    return y\n",
    "def p0(x):\n",
    "    w1 = get_weights(0)\n",
    "    w2 = get_weights(0)\n",
    "    x2 = np.copy(x)\n",
    "    x2[x>0] = -x2[x>0]#if x>0:\n",
    "    y = np.zeros(x.shape)\n",
    "    y[np.logical_and(x>=-1,x<=0)] = func(w1[:4],x[np.logical_and(x>=-1,x<=0)])\n",
    "    #y[np.logical_and(x>=-z,x<=0)] = 1#func(w1[4:],x[np.logical_and(x>=-z,x<=0)])\n",
    "    y[np.logical_and(x>=0,x<=1)] = -func(w1[:4],-x[np.logical_and(x>=0,x<=1)])\n",
    "\n",
    "    #yplt.plot(-x[np.logical_and(x<=1,x>=z)],-func(w2[:4],x[np.logical_and(x<=1,x>=z)]))\n",
    "    #plt.plot(-x[np.logical_and(x<=z,x>=0)],-func(w2[4:],x[np.logical_and(x<=z,x>=0)]))\n",
    "    return y\n",
    "def p2(x):\n",
    "    return np.ones(x.shape)\n",
    "def fault_func2(p0,p1,p2,g0,g1,g2):\n",
    "    return p0(g0)*p1(g1)*p2(g2)\n",
    "def normalz(gx):\n",
    "    gxn = np.zeros(gx.shape)\n",
    "    gxn = (2./(np.max(gx[~np.isnan(gx)])-np.min(gx[~np.isnan(gx)])))\n",
    "    gxn*=(gx-((np.min(gx[~np.isnan(gx)])+np.max(gx[~np.isnan(gx)]))/2.))\n",
    "    gxn[np.isnan(gx)] = np.nan\n",
    "    return gxn\n",
    "\n",
    "def savePoints(filename,points,data):\n",
    "    from pyevtk.hl import gridToVTK, pointsToVTK\n",
    "    pointsToVTK('../data/'+filename,points[0,:],points[1,:],points[2,:],data)"
   ]
  },
  {
   "cell_type": "code",
   "execution_count": 13,
   "metadata": {
    "ExecuteTime": {
     "end_time": "2019-05-29T23:29:39.929575Z",
     "start_time": "2019-05-29T23:29:39.745502Z"
    }
   },
   "outputs": [
    {
     "data": {
      "text/plain": [
       "[<matplotlib.lines.Line2D at 0x7ff8ddccc0f0>]"
      ]
     },
     "execution_count": 13,
     "metadata": {},
     "output_type": "execute_result"
    },
    {
     "data": {
      "image/png": "[encoded data removed]",
      "text/plain": [
       "<Figure size 432x288 with 1 Axes>"
      ]
     },
     "metadata": {
      "needs_background": "light"
     },
     "output_type": "display_data"
    }
   ],
   "source": [
    "x = np.linspace(-1,1,100)\n",
    "plt.plot(x,p2(x))"
   ]
  },
  {
   "cell_type": "markdown",
   "metadata": {},
   "source": [
    "### Region manager"
   ]
  },
  {
   "cell_type": "code",
   "execution_count": 14,
   "metadata": {
    "ExecuteTime": {
     "end_time": "2019-05-29T23:29:39.956674Z",
     "start_time": "2019-05-29T23:29:39.932339Z"
    },
    "init_cell": true
   },
   "outputs": [],
   "source": [
    "class RegionManager:\n",
    "    def __init__(self,mesh):\n",
    "        self.mesh = mesh\n",
    "    def create_region_from_cuboid(self,corners,name):\n",
    "        u = corners[0,:] - corners[1,:]\n",
    "        v = corners[0,:] - corners[2,:]\n",
    "        w = corners[0,:] - corners[3,:]\n",
    "        \n",
    "        ux = np.einsum('ij,j->i',mesh.nodes,u)\n",
    "        vx = np.einsum('ij,j->i',mesh.nodes,v)\n",
    "        wx = np.einsum('ij,j->i',mesh.nodes,w)\n",
    "        vp1 = np.dot(v,corners[0,:])\n",
    "        up1 = np.dot(u,corners[0,:])\n",
    "\n",
    "        up2 = np.dot(u,corners[1,:])\n",
    "        vp4 = np.dot(v,corners[2,:])\n",
    "        wp1 = np.dot(w,corners[0,:])\n",
    "        wp5 = np.dot(w,corners[3,:])\n",
    "        logic = np.logical_and(ux<up1,ux>up2)#(condition = []\n",
    "        logic = np.logical_and(logic,vx<vp1)\n",
    "        logic = np.logical_and(logic,vx>vp4)\n",
    "        logic = np.logical_and(logic,wx<wp1)\n",
    "        logic = np.logical_and(logic,wx>wp5)\n",
    "        region = np.zeros(mesh.n_nodes).astype(bool)\n",
    "        region[logic] = 1\n",
    "        self.mesh.regions[name] = region\n",
    "    def create_region_from_boundary_box(self,boundarybox,name):\n",
    "        corners = np.zeros((4,3))\n",
    "        corners[0,:] = np.array([boundary_points[0,0],boundary_points[0,1],boundary_points[0,2]])\n",
    "        corners[1,:] = np.array([boundary_points[0,0],boundary_points[1,1],boundary_points[0,2]])\n",
    "        corners[2,:] = np.array([boundary_points[1,0],boundary_points[0,1],boundary_points[0,2]])\n",
    "        corners[3,:] = np.array([boundary_points[0,0],boundary_points[0,1],boundary_points[1,2]])\n",
    "        self.create_region_from_cuboid(corners,name)\n",
    "\n",
    "    def create_region_from_property_value(self,propertyname,propertyvalue,region_name,sign=1):\n",
    "        region = np.zeros(mesh.n_nodes).astype(bool)\n",
    "        region[mesh.properties[propertyname]*sign>propertyvalue*sign] = 1\n",
    "        self.mesh.regions[region_name] = region\n",
    "    def create_properties_for_regions(self):\n",
    "        for region in self.mesh.regions.keys():\n",
    "            self.mesh.properties['REGION_%s'%region] = self.mesh.regions[region].astype(float)\n",
    "        "
   ]
  },
  {
   "cell_type": "markdown",
   "metadata": {},
   "source": [
    "### Build mesh for support and model\n"
   ]
  },
  {
   "cell_type": "code",
   "execution_count": 15,
   "metadata": {
    "ExecuteTime": {
     "end_time": "2019-05-29T23:29:57.391753Z",
     "start_time": "2019-05-29T23:29:39.959184Z"
    },
    "init_cell": true
   },
   "outputs": [],
   "source": [
    "#First mesh is for the interpolation support and should be larger than the model area\n",
    "boundary_points = np.zeros((2,3))\n",
    "boundary_points[0,0] = -20\n",
    "boundary_points[0,1] = -20\n",
    "boundary_points[0,2] = -20\n",
    "boundary_points[1,0] = 20\n",
    "boundary_points[1,1] = 20\n",
    "boundary_points[1,2] = 20\n",
    "mesh = TetMesh('NormalFaults',)\n",
    "mesh.setup_mesh(boundary_points,nstep=1,maxvol=.5,)\n",
    "regionmanager = RegionManager(mesh)\n",
    "regionmanager.create_region_from_boundary_box(boundary_points*.6,'r1')\n",
    "regionmanager.create_properties_for_regions()\n",
    "cg = mesh.get_constant_gradient(region=mesh.regions['everywhere'],shape='square')\n",
    "# # second mesh is for the model area and the points can be moved around. No interpolation \\\n",
    "# # is performed on this mesh its just here because paraview can contour mesh objects not voxets\n",
    "# boundary_points2 = np.zeros((2,3))\n",
    "# boundary_points2=boundary_points*0.6\n",
    "# mesh2 = TetMesh('Flower3DModel')\n",
    "# mesh2.setup_mesh(boundary_points2,maxvol=0.5)\n",
    "\n",
    "pickle.dump(mesh,open(os.environ['FaultDATA']+'/40x40x40x05mesh.pkl','wb'))\n",
    "\n",
    "# boundary_points2 = np.zeros((2,3))\n",
    "# boundary_points2=boundary_points*0.8\n",
    "# mesh3 = TetMesh('Flower3DSupport2')\n",
    "# mesh3.setup_mesh(boundary_points2,maxvol=0.01)\n",
    "#First mesh is for the interpolation support and should be larger than the model area\n"
   ]
  },
  {
   "cell_type": "code",
   "execution_count": 16,
   "metadata": {
    "ExecuteTime": {
     "end_time": "2019-05-29T23:29:57.404384Z",
     "start_time": "2019-05-29T23:29:57.394296Z"
    }
   },
   "outputs": [
    {
     "name": "stdout",
     "output_type": "stream",
     "text": [
      "250350\n"
     ]
    }
   ],
   "source": [
    "print(mesh.n_elements)"
   ]
  },
  {
   "cell_type": "markdown",
   "metadata": {},
   "source": [
    "### Load the mesh object from a pickled file"
   ]
  },
  {
   "cell_type": "code",
   "execution_count": 17,
   "metadata": {
    "ExecuteTime": {
     "end_time": "2019-05-29T23:30:01.299045Z",
     "start_time": "2019-05-29T23:29:57.408755Z"
    }
   },
   "outputs": [],
   "source": [
    "mesh = pickle.load(open(os.environ['FaultDATA']+'/40x40x40x1mesh.pkl','rb'))"
   ]
  },
  {
   "cell_type": "markdown",
   "metadata": {
    "heading_collapsed": true
   },
   "source": [
    "### FaultEvent"
   ]
  },
  {
   "cell_type": "code",
   "execution_count": 45,
   "metadata": {
    "ExecuteTime": {
     "end_time": "2019-02-28T04:45:52.078289Z",
     "start_time": "2019-02-28T04:45:52.073616Z"
    },
    "hidden": true
   },
   "outputs": [],
   "source": [
    "import networkx as nx\n",
    "class FaultEvent:\n",
    "    def __init__(self,mesh):\n",
    "        self.mesh = mesh\n",
    "        self.segment_graph = nx.DiGraph()\n",
    "    def addSegment(self,fault_segment):\n",
    "        self.segment_graph.add_node(fault_segment)\n",
    "        return fault_segment\n",
    "    def addOverlap(self,fault_segmenta,fault_segmentb,region):\n",
    "        \"\"\"\n",
    "        Define where the segments of faults geometries overlap using a region \n",
    "        on the mesh\n",
    "        \"\"\"\n",
    "        self.segment_graph.add_edge(fault_segmenta,fault_segmentb)\n",
    "        self.segment_graph.edges[fault_segmenta,fault_segmentb]['region']=region\n",
    "    def drawFaultTopology(self):\n",
    "        nx.draw_networkx(self.segment_graph)\n",
    "        "
   ]
  },
  {
   "cell_type": "markdown",
   "metadata": {},
   "source": [
    "### Fault"
   ]
  },
  {
   "cell_type": "code",
   "execution_count": 7,
   "metadata": {
    "ExecuteTime": {
     "end_time": "2019-04-08T11:15:58.826884Z",
     "start_time": "2019-04-08T11:15:54.244Z"
    },
    "init_cell": true
   },
   "outputs": [],
   "source": [
    "def boolean_fault_function(gx,gy,gz,gx0,gy0,gz0,gxl,gyl,gzl):\n",
    "    gxn = gx - gx0\n",
    "    #gxn[gxn>gxl/2.] = np.nan\n",
    "    #gxn[gxn<-gxl/2.] = np.nan\n",
    "    gxn = normalz(gxn)\n",
    "\n",
    "    gyn = gy - gy0\n",
    "    gyn[gyn>gyl/2.] = np.nan\n",
    "    gyn[gyn<-gyl/2.] = np.nan\n",
    "    gyn = normalz(gyn)\n",
    "    \n",
    "    gzn = gz - gz0\n",
    "    gzn[gzn>gzl/2.] = np.nan\n",
    "    gzn[gzn<-gzl/2.] = np.nan\n",
    "    gzn = normalz(gzn)\n",
    "    ff2 = p5(gx)#fault_func2(p5,p2,p2,gxn,gyn,gzn)\n",
    "    return gxn,gyn,gzn, ff2"
   ]
  },
  {
   "cell_type": "code",
   "execution_count": 8,
   "metadata": {
    "ExecuteTime": {
     "end_time": "2019-04-08T11:15:58.827935Z",
     "start_time": "2019-04-08T11:15:54.247Z"
    },
    "init_cell": true
   },
   "outputs": [
    {
     "name": "stdout",
     "output_type": "stream",
     "text": [
      "Setting up interpolator with 4 value control points \n",
      "        4 gradient control points and 0 tangent control points and \n",
      "        constant gradient regularization with a weight of 0.100000\n"
     ]
    }
   ],
   "source": [
    "#%%snakeviz\n",
    "stratigraphy = DSI(mesh,region='everywhere',shape='square',solver='chol')\n",
    "# for i in range(-15,15):\n",
    "#     for j in range(-10,10):\n",
    "#         stratigraphy.add_point([i,j,3*np.sin(j/5)],0.)\n",
    "#         stratigraphy.add_point([i,j,3*np.sin(j/5)+1],1.)\n",
    "stratigraphy.add_strike_dip_and_value([2.1,0.1,1.1],90.,0.,0.)\n",
    "stratigraphy.add_strike_dip_and_value([6.1,0.1,1.1],90.,0.,0.)\n",
    "stratigraphy.add_strike_dip_and_value([-6.1,0.1,1.1],90.,0.,0.)\n",
    "stratigraphy.add_strike_dip_and_value([0.1,0.1,1.1],90.,0.,0.)\n",
    "\n",
    "stratigraphy.setup_interpolator(cg=.1)\n",
    "stratigraphy.solve_system(solver='chol',clear=True)\n",
    "mesh.update_property('strati',stratigraphy.c)\n"
   ]
  },
  {
   "cell_type": "code",
   "execution_count": 28,
   "metadata": {
    "ExecuteTime": {
     "end_time": "2019-04-08T01:57:17.186758Z",
     "start_time": "2019-04-08T01:55:05.547537Z"
    }
   },
   "outputs": [
    {
     "name": "stdout",
     "output_type": "stream",
     "text": [
      "Setting up interpolator with 17 value control points \n",
      "        1 gradient control points and 0 tangent control points and \n",
      "        constant gradient regularization\n",
      "Setting up interpolator with 2 value control points \n",
      "        0 gradient control points and 0 tangent control points and \n",
      "        constant gradient regularization\n",
      "Setting up interpolator with 2 value control points \n",
      "        0 gradient control points and 0 tangent control points and \n",
      "        constant gradient regularization\n"
     ]
    }
   ],
   "source": [
    "# #%%snakeviz\n",
    "shp = shapefile.Reader('/home/lgrose/lachlan.grose@monash.edu/GIS/modeling/fault_trace.shp')\n",
    "geom = shp.shapes()\n",
    "fault = FaultSegment(mesh=mesh,name='FaultSegment1',shape='square')\n",
    "for f in geom:\n",
    "    for p in f.points:\n",
    "        fault.add_point([p[0],p[1],10],0,itype='gx')\n",
    "#         fault.add_point([p[0],p[1],12],2,itype='gx')\n",
    "\n",
    "fault.add_strike_and_dip([0,15,10],180.,85.,itype='gx')\n",
    "# fault.add_strike_and_dip([15,15,10],90.,85.,itype='gx')\n",
    "# fault.add_strike_and_dip([-15,-15,10],0.,85.,itype='gx')\n",
    "fault.add_point([f.points[0][0],f.points[0][1],10],0,itype='gz')\n",
    "fault.add_point([f.points[-1][0],f.points[-1][1],10],1,itype='gz')\n",
    "fault.add_point([15,15,10],0,itype='gy')\n",
    "fault.add_point([15,-15,-10],1,itype='gy')\n",
    "\n",
    "\n",
    "flag = mesh.nodes[mesh.elements][:,:,2]<-10#depth\n",
    "flag = np.logical_and(flag, mesh.nodes[mesh.elements][:,:,0]<-15)\n",
    "flag = np.logical_and(flag, mesh.nodes[mesh.elements][:,:,1]>-10)\n",
    "flag = np.all(flag,axis=1)\n",
    "mesh.property_gradients['flag'] = flag.astype(float)\n",
    "fault.interpolators['gx'].add_elements_gradient_orthogonal_constraint(np.arange(0,mesh.n_elements)[flag],np.array([0.,1.,0.])[None,:],w=.1,B=0.)\n",
    "fault.interpolators['gx'].add_elements_gradient_orthogonal_constraint(np.arange(0,mesh.n_elements)[flag],np.array([1.,0.,0.])[None,:],w=.1)\n",
    "\n",
    "fault.buildFaultFrame(solver='chol',gxxgy=0.1,gxxgz=1,gyxgz=0.05,gycg=5,gzcg=0.1,shape='square')\n",
    "\n",
    "\n",
    "\n",
    "fault.interpolators['gx'].export_data_to_vtk('../data/f1gx_data')\n",
    "fault.interpolators['gy'].export_data_to_vtk('../data/f1gy_data')\n",
    "fault.interpolators['gz'].export_data_to_vtk('../data/f1gz_data')\n",
    "\n"
   ]
  },
  {
   "cell_type": "code",
   "execution_count": 38,
   "metadata": {
    "ExecuteTime": {
     "end_time": "2019-04-08T02:02:00.322451Z",
     "start_time": "2019-04-08T02:01:59.665269Z"
    }
   },
   "outputs": [
    {
     "data": {
      "text/plain": [
       "[<matplotlib.lines.Line2D at 0x7fed507d8f98>]"
      ]
     },
     "execution_count": 38,
     "metadata": {},
     "output_type": "execute_result"
    },
    {
     "data": {
      "image/png": "[encoded data removed]",
      "text/plain": [
       "<Figure size 2160x720 with 3 Axes>"
      ]
     },
     "metadata": {
      "needs_background": "light"
     },
     "output_type": "display_data"
    }
   ],
   "source": [
    "x = np.linspace(-1,1,100)\n",
    "fig,ax = plt.subplots(1,3,figsize=(30,10))\n",
    "ax[0].plot(x,p0(x))\n",
    "ax[1].plot(x,p1(x))\n",
    "ax[2].plot(x,p2(x))\n"
   ]
  },
  {
   "cell_type": "code",
   "execution_count": 41,
   "metadata": {
    "ExecuteTime": {
     "end_time": "2019-04-08T02:04:06.705612Z",
     "start_time": "2019-04-08T02:04:06.696744Z"
    }
   },
   "outputs": [],
   "source": [
    "def fault_func(p0,p1,p2,g0,g1,g2):\n",
    "    g0[np.isnan(g0)] = 0.\n",
    "    g1[np.isnan(g1)] = 0.\n",
    "    g2[np.isnan(g2)] = 0.\n",
    "\n",
    "    r = np.sqrt(g1*g1+g2*g2)\n",
    "    return p0(g0)*((p1(r)*g1*g1+p2(r)*g2*g2)/(g1*g1+g2*g2))\n",
    "def build_fault_function(gx,gy,gz,gx0,gy0,gz0,gxl,gyl,gzl):\n",
    "    gxn = gx - gx0\n",
    "    gxn[gxn>gxl/2.] = np.nan\n",
    "    gxn[gxn<-gxl/2.] = np.nan\n",
    "    gxn = normalz(gxn)\n",
    "\n",
    "    gyn = gy - gy0\n",
    "    gyn[gyn>gyl/2.] = np.nan\n",
    "    gyn[gyn<-gyl/2.] = np.nan\n",
    "    gyn = normalz(gyn)\n",
    "    \n",
    "    gzn = gz - gz0\n",
    "    gzn[gzn>gzl/2.] = np.nan\n",
    "    gzn[gzn<-gzl/2.] = np.nan\n",
    "    gzn = normalz(gzn)\n",
    "    ff2 = fault_func2(p0,p1,p2,gxn,gyn,gzn)\n",
    "    ff2[np.isnan(ff2)] = 0\n",
    "    return gxn,gyn,gzn, ff2"
   ]
  },
  {
   "cell_type": "code",
   "execution_count": 42,
   "metadata": {
    "ExecuteTime": {
     "end_time": "2019-04-08T02:04:16.042091Z",
     "start_time": "2019-04-08T02:04:07.814136Z"
    }
   },
   "outputs": [],
   "source": [
    "fault.buildFaultDisplacementField(faultfunction=build_fault_function,dm=-10)\n",
    "newpoints = np.array(mesh.nodes[mesh.regions['r1']],copy=True, order='C')\n",
    "newpoints  = fault.applyFault(newpoints,region='r1')\n",
    "np.savetxt('fault1movedpoints.txt',newpoints,delimiter=',')\n",
    "\n",
    "interp = np.zeros(mesh.properties['strati'].shape)\n",
    "interp[:] = np.nan\n",
    "interp[mesh.regions['r1']] = mesh.eval_interpolant(newpoints,'strati',k=50)\n",
    "mesh.update_property('strati_int',interp)"
   ]
  },
  {
   "cell_type": "markdown",
   "metadata": {
    "heading_collapsed": true
   },
   "source": [
    "### Testing solving methods"
   ]
  },
  {
   "cell_type": "code",
   "execution_count": 19,
   "metadata": {
    "ExecuteTime": {
     "end_time": "2019-04-08T01:18:27.399899Z",
     "start_time": "2019-04-08T01:18:27.397357Z"
    },
    "hidden": true
   },
   "outputs": [],
   "source": [
    "from sksparse.cholmod import * "
   ]
  },
  {
   "cell_type": "code",
   "execution_count": 28,
   "metadata": {
    "ExecuteTime": {
     "end_time": "2019-04-08T00:55:49.868241Z",
     "start_time": "2019-04-08T00:55:48.682919Z"
    },
    "hidden": true
   },
   "outputs": [],
   "source": [
    "factor = analyze(fault.interpolators['gx'].AA,mode='simplicial')"
   ]
  },
  {
   "cell_type": "code",
   "execution_count": 29,
   "metadata": {
    "ExecuteTime": {
     "end_time": "2019-04-08T00:56:18.631320Z",
     "start_time": "2019-04-08T00:55:51.104055Z"
    },
    "hidden": true
   },
   "outputs": [
    {
     "name": "stdout",
     "output_type": "stream",
     "text": [
      " \n",
      "*** Profile stats marshalled to file '/tmp/tmpz77zu7kz'. \n"
     ]
    }
   ],
   "source": [
    "%%snakeviz\n",
    "factor.cholesky_inplace(fault.interpolators['gy'].AA.tocsc())"
   ]
  },
  {
   "cell_type": "code",
   "execution_count": 22,
   "metadata": {
    "ExecuteTime": {
     "end_time": "2019-04-08T01:20:10.335939Z",
     "start_time": "2019-04-08T01:19:47.334390Z"
    },
    "hidden": true
   },
   "outputs": [],
   "source": [
    "factor2  = cholesky(fault.interpolators['gx'].AA)"
   ]
  },
  {
   "cell_type": "code",
   "execution_count": 30,
   "metadata": {
    "ExecuteTime": {
     "end_time": "2019-04-08T01:00:48.547896Z",
     "start_time": "2019-04-08T01:00:17.842368Z"
    },
    "hidden": true
   },
   "outputs": [],
   "source": [
    "factor2.cholesky_inplace(fault.interpolators['gx'].AA)"
   ]
  },
  {
   "cell_type": "code",
   "execution_count": 20,
   "metadata": {
    "ExecuteTime": {
     "end_time": "2019-04-08T01:18:28.302146Z",
     "start_time": "2019-04-08T01:18:27.403787Z"
    },
    "hidden": true
   },
   "outputs": [],
   "source": [
    "from scipy.sparse.csgraph import reverse_cuthill_mckee\n",
    "from scipy.sparse import coo_matrix\n",
    "def permute_sparse_matrix(M, order):\n",
    "    permuted_row = order[M.row]\n",
    "    permuted_col = order[M.col]\n",
    "    new_M = coo_matrix((M.data, (permuted_row, permuted_col)), shape=M.shape)\n",
    "    return new_M\n",
    "order = reverse_cuthill_mckee(fault.interpolators['gx'].AA.tocsr())\n",
    "permuted = permute_sparse_matrix(fault.interpolators['gx'].AA,order)\n"
   ]
  },
  {
   "cell_type": "code",
   "execution_count": 23,
   "metadata": {
    "ExecuteTime": {
     "end_time": "2019-04-08T01:21:11.693413Z",
     "start_time": "2019-04-08T01:20:39.513861Z"
    },
    "hidden": true
   },
   "outputs": [],
   "source": [
    "factor = cholesky(permuted)\n"
   ]
  },
  {
   "cell_type": "code",
   "execution_count": 24,
   "metadata": {
    "ExecuteTime": {
     "end_time": "2019-04-08T01:21:11.699752Z",
     "start_time": "2019-04-08T01:21:11.695734Z"
    },
    "hidden": true
   },
   "outputs": [
    {
     "ename": "SyntaxError",
     "evalue": "invalid syntax (<ipython-input-24-06458543d8c1>, line 2)",
     "output_type": "error",
     "traceback": [
      "\u001b[0;36m  File \u001b[0;32m\"<ipython-input-24-06458543d8c1>\"\u001b[0;36m, line \u001b[0;32m2\u001b[0m\n\u001b[0;31m    c = factor(fault.interpolators['gx'].B[])\u001b[0m\n\u001b[0m                                           ^\u001b[0m\n\u001b[0;31mSyntaxError\u001b[0m\u001b[0;31m:\u001b[0m invalid syntax\n"
     ]
    }
   ],
   "source": [
    "#factor._common._use_long=True\n",
    "c = factor(fault.interpolators['gx'].B[])"
   ]
  },
  {
   "cell_type": "code",
   "execution_count": 14,
   "metadata": {
    "ExecuteTime": {
     "end_time": "2019-04-08T01:17:14.374646Z",
     "start_time": "2019-04-08T01:17:12.576373Z"
    },
    "hidden": true
   },
   "outputs": [],
   "source": [
    "factor.cholesky_inplace(permuted)"
   ]
  },
  {
   "cell_type": "code",
   "execution_count": null,
   "metadata": {
    "hidden": true
   },
   "outputs": [],
   "source": []
  }
 ],
 "metadata": {
  "celltoolbar": "Initialization Cell",
  "hide_input": false,
  "kernelspec": {
   "display_name": "Python 3",
   "language": "python",
   "name": "python3"
  },
  "language_info": {
   "codemirror_mode": {
    "name": "ipython",
    "version": 3
   },
   "file_extension": ".py",
   "mimetype": "text/x-python",
   "name": "python",
   "nbconvert_exporter": "python",
   "pygments_lexer": "ipython3",
   "version": "3.7.3"
  },
  "varInspector": {
   "cols": {
    "lenName": 16,
    "lenType": 16,
    "lenVar": 40
   },
   "kernels_config": {
    "python": {
     "delete_cmd_postfix": "",
     "delete_cmd_prefix": "del ",
     "library": "var_list.py",
     "varRefreshCmd": "print(var_dic_list())"
    },
    "r": {
     "delete_cmd_postfix": ") ",
     "delete_cmd_prefix": "rm(",
     "library": "var_list.r",
     "varRefreshCmd": "cat(var_dic_list()) "
    }
   },
   "types_to_exclude": [
    "module",
    "function",
    "builtin_function_or_method",
    "instance",
    "_Feature"
   ],
   "window_display": false
  }
 },
 "nbformat": 4,
 "nbformat_minor": 2
}
