{
 "cells": [
  {
   "cell_type": "markdown",
   "metadata": {},
   "source": [
    "# Quickstart: Modelling a surface using geological observations\n",
    "This tutorial will demonstrate how to create an implicit surface representation of surfaces from a combination of orientation and location observations. \n",
    "\n",
    "Implicit surface representation involves finding an unknown function where $f(x,y,z)$ matches observations of the surface geometry. We generate a scalar field where the scalar value is the distance away from a reference horizon. The reference horizon is arbritary and can either be:\n",
    "\n",
    " * a single geological surface where the scalar field would represent the signed distance away from this surface. (above the surface positive and below negative)\n",
    " * Where multiple conformable horizons are observed the same scalar field can be used to represent these surfaces and the thickness of the layers is used to determine the relative scalar value for each surface\n",
    "\n",
    "\n",
    "This tutorial will demonstrate both of these approaches for modelling a number of horizons picked from seismic data sets."
   ]
  },
  {
   "cell_type": "code",
   "execution_count": 1,
   "metadata": {
    "ExecuteTime": {
     "end_time": "2019-09-16T05:02:22.103068Z",
     "start_time": "2019-09-16T05:02:21.659034Z"
    }
   },
   "outputs": [
    {
     "ename": "SyntaxError",
     "evalue": "invalid syntax (model_visualisation.py, line 135)",
     "output_type": "error",
     "traceback": [
      "Traceback \u001b[0;36m(most recent call last)\u001b[0m:\n",
      "  File \u001b[1;32m\"/home/lgrose/fme/lib/python3.6/site-packages/IPython/core/interactiveshell.py\"\u001b[0m, line \u001b[1;32m3296\u001b[0m, in \u001b[1;35mrun_code\u001b[0m\n    exec(code_obj, self.user_global_ns, self.user_ns)\n",
      "\u001b[0;36m  File \u001b[0;32m\"<ipython-input-1-eb822230254b>\"\u001b[0;36m, line \u001b[0;32m4\u001b[0;36m, in \u001b[0;35m<module>\u001b[0;36m\u001b[0m\n\u001b[0;31m    from FME.visualisation.model_visualisation import LavaVuModelViewer\u001b[0m\n",
      "\u001b[0;36m  File \u001b[0;32m\"/home/lgrose/fme/lib/python3.6/site-packages/FME-0.0.0-py3.6-linux-x86_64.egg/FME/visualisation/model_visualisation.py\"\u001b[0;36m, line \u001b[0;32m135\u001b[0m\n\u001b[0;31m    cmap = lavavu.matplotlib_colourmap('tab20'))\u001b[0m\n\u001b[0m                                               ^\u001b[0m\n\u001b[0;31mSyntaxError\u001b[0m\u001b[0;31m:\u001b[0m invalid syntax\n"
     ]
    }
   ],
   "source": [
    "from FME.interpolators.piecewiselinear_interpolator import PiecewiseLinearInterpolator as PLI\n",
    "from FME.supports.tet_mesh import TetMesh\n",
    "from FME.modelling.features.geological_feature import GeologicalFeatureInterpolator\n",
    "from FME.visualisation.model_visualisation import LavaVuModelViewer\n",
    "\n",
    "import numpy as np\n",
    "import lavavu\n",
    "import matplotlib.pyplot as plt\n",
    "import pandas as pd\n",
    "import glob\n",
    "%matplotlib inline"
   ]
  },
  {
   "cell_type": "markdown",
   "metadata": {},
   "source": [
    "### Importing data\n",
    "There are numerous ways to import data into python for FME. For this example there are three types of files: \n",
    "\n",
    "* `Dips.csv` which are the orientation observations X,Y,Z,XOrient,YOrient,ZOrient\n",
    "* `_Points.csv` which are point observations of the contacts X,Y,Z,Strati\n",
    "* `_Section.csv` which are section interpetations of the contacts X,Y,Z,Strati\n",
    "\n",
    "The files can be imported into pandas dataframes. Three dataframes are created one for each of the observations types. "
   ]
  },
  {
   "cell_type": "code",
   "execution_count": null,
   "metadata": {
    "ExecuteTime": {
     "end_time": "2019-09-16T05:02:22.108750Z",
     "start_time": "2019-09-16T05:02:21.697Z"
    }
   },
   "outputs": [],
   "source": [
    "dips = pd.read_csv('data/Dips.csv',delimiter=';')\n",
    "\n",
    "\n",
    "# import all of the csv into the same dataframe use glob to find all files matching pattern\n",
    "dfs = []\n",
    "for f in glob.glob('data/*Points.csv'):\n",
    "    dfs.append(pd.read_csv(f,delimiter=';'))\n",
    "points = pd.concat(dfs,axis=0,ignore_index=True)\n",
    "\n",
    "dfs = []\n",
    "for f in glob.glob('data/*Section.csv'):\n",
    "    dfs.append(pd.read_csv(f,delimiter=';'))\n",
    "sections = pd.concat(dfs,axis=0,ignore_index=True)\n"
   ]
  },
  {
   "cell_type": "markdown",
   "metadata": {
    "ExecuteTime": {
     "end_time": "2019-08-29T05:12:14.163319Z",
     "start_time": "2019-08-29T05:12:14.149529Z"
    }
   },
   "source": [
    "### Setting up the interpolator\n",
    "In this example we use a discrete interpolator where the implicit function is approximated using a tetrahedral mesh. The mesh needs to be built that is the same size or larger than the area of interest. \n",
    "We build the mesh by specifying the extent of the boundary box and the number of tetrahedron. \n",
    "\n",
    "An interpolator can be linked to this mesh.  "
   ]
  },
  {
   "cell_type": "code",
   "execution_count": null,
   "metadata": {
    "ExecuteTime": {
     "end_time": "2019-09-16T05:02:22.109760Z",
     "start_time": "2019-09-16T05:02:21.699Z"
    }
   },
   "outputs": [],
   "source": [
    "boundary_points = np.zeros((2,3))\n",
    "boundary_points[0,0] = 548800\n",
    "boundary_points[0,1] = 7816600\n",
    "boundary_points[0,2] = -11010\n",
    "boundary_points[1,0] = 552500\n",
    "boundary_points[1,1] = 7822000\n",
    "boundary_points[1,2] = -8400\n",
    "\n",
    "# build the mesh\n",
    "mesh = TetMesh()\n",
    "mesh.setup_mesh(boundary_points, n_tetra=20000,)\n",
    "\n",
    "# link mesh to the interpolator \n",
    "interpolator = PLI(mesh)"
   ]
  },
  {
   "cell_type": "markdown",
   "metadata": {},
   "source": [
    "### Geological Features\n",
    "\n",
    "A geological feature is any object that can be represented by a scalar field. This includes fold structural observations, stratigraphic groups of conformable layers, fault surfaces, unconformities etc.\n",
    "\n",
    "In the next section the GeologicalFeatureInterpolator is used to build a geological feature. The abstraction of the geological feature away from the raw data or interpolator allows for easy exchange of interpolators and addition of geological structures such as faults and folds to an existing feature.\n",
    "\n",
    "A data point can be added by calling the `add_point(position,value)` function or `add_planar_constraint(position, vector)`  "
   ]
  },
  {
   "cell_type": "code",
   "execution_count": null,
   "metadata": {
    "ExecuteTime": {
     "end_time": "2019-09-16T05:02:22.110678Z",
     "start_time": "2019-09-16T05:02:21.702Z"
    }
   },
   "outputs": [],
   "source": [
    "stratigraphy_builder = GeologicalFeatureInterpolator(\n",
    "    interpolator=interpolator,\n",
    "    name='stratigraphy')\n",
    "solver = 'lu'\n",
    "for i, r in points.iterrows():\n",
    "    stratigraphy_builder.add_point([r['X'],r['Y'],r['Z']],r['Strati'])#xy[0][0],xy[1][0],z],r['value'],itype=r['itype'])\n",
    "for i, r in sections.iterrows():\n",
    "    stratigraphy_builder.add_point([r['X'],r['Y'],r['Z']],r['Strati'])#xy[0][0],xy[1][0],z],r['value'],itype=r['itype'])\n",
    "for i, r in dips.iterrows():\n",
    "    stratigraphy_builder.add_planar_constraint([r['X'],r['Y'],r['Z']],[r['OrientX'],r['OrientY'],r['OrientZ']])\n",
    "\n",
    "    \n"
   ]
  },
  {
   "cell_type": "markdown",
   "metadata": {},
   "source": [
    "### Run the interpolation algorithm\n",
    "The interpolation algorithm can be run by calling the build function for the stratigraphy_builder.\n",
    "\n",
    "The default options can be used or arguments can be passed to the interpolator such as the algorithm to use for solving the least squares problem or the weighting of different elements.\n",
    "\n",
    "In most cases the default options will be acceptable, however in some cases it may be beneficial to weight the values of the regularisation terms to be higher.\n",
    "\n",
    "The default weights for DSI are `cgw=0.1`(the constant gradient regularisation), `cpw=1.0` (value control points) and `gpw=1.0` for the gradient control points.  \n",
    "\n",
    "#### Choice of solver\n",
    "It is worthwhile noting that the choice of solver can impact the resulting solution and in some cases particular solvers will be unable to actually solve the system.\n",
    "For more information on the choice of solver read the tutorial on discrete implicit modelling. The default solver is the iterative conjugate gradient method implemented in scipy sparse. Other possible choices are `lu` which calls the lower upper decomposition method from scipy sparse. "
   ]
  },
  {
   "cell_type": "code",
   "execution_count": null,
   "metadata": {
    "ExecuteTime": {
     "end_time": "2019-09-16T05:02:22.111610Z",
     "start_time": "2019-09-16T05:02:21.704Z"
    }
   },
   "outputs": [],
   "source": [
    "stratigraphy = stratigraphy_builder.build()"
   ]
  },
  {
   "cell_type": "markdown",
   "metadata": {},
   "source": [
    "### Visualising results\n",
    "The LavaVuModelViewer is an FME class that provides easy 3D plotting options for plotting data points and resulting implicit functions. \n",
    "\n",
    "The implicit function can be visualised by looking at isosurfaces of the scalar field.\n",
    "\n",
    "```Python\n",
    "viewer = LavaVuModelViewer()\n",
    "viewer.plot_isosurface(feature,**kwargs)\n",
    "```\n",
    "Where optional kwargs can be:\n",
    "\n",
    "* `nslices` specifying the number of regularly spaced isosurfaces\n",
    "* `slices` a numpy array or list of isovalues to slice\n",
    "* `isovalue` an isovalue to slice\n",
    "* `paint_with` the geological feature to colour the surface with \n",
    "* `cmap` colour map for the colouring\n",
    "* `normals` to plot the normal vectors to the surface\n",
    "* `name` to give the surface\n",
    "* `colour` the colour of the surface\n",
    "* other kwargs for passing directly to lavavu\n",
    "\n",
    "Alternatively the scalarfields can be displayed on a rectangular cuboid.\n",
    "```Python\n",
    "viewer.plot_model_box(boundary_points,dimensions,**kwargs)\n",
    "```\n",
    "Where `boundary_points` is a numpy array `[[minx,miny,minz],[maxx,maxy,maxz]]` and `dimensions` corresponds to the number of samples along each axis.\n",
    "\n",
    "Other possible kwargs are:\n",
    "\n",
    "* `paint_with` the geological feature to colour the box with \n",
    "* `colour` a single colour to colour the surfaces with\n",
    "* `cmap` colour map for the property\n",
    "\n",
    "\n",
    "**Currently this is implemented by creating 6 surfaces for the cuboid, however this means that lavavu throws warnings. The warnings do not seem to impact the results.**\n",
    "\n",
    "The input data for the model can be visualised by calling either:\n",
    "```Python\n",
    "viewer.plot_data(feature,**kwargs)\n",
    "```\n",
    "Where both the point and vector data linked to the feature are added to the plot or by calling.\n",
    "```Python\n",
    "viewer.plot_vector_data(position,vector,name,**kwargs)\n",
    "```\n",
    "Where `position` is an array or x,y,z coordinates and vector is a similarly sized array of `vectors`. These can be extracted from a geological feature by calling.\n",
    "`feature.support.interpolator.get_gradient_control()` which returns a Nx6 matrix of position and vectors.\n",
    "\n",
    "The value data can be plotted by calling.\n",
    "```Python\n",
    "viewer.plot_value_data(position,value,name,**kwargs)\n",
    "```\n",
    "Where `position` is an array or x,y,z coordinates and value is a similarly sized vector of values. These can be extracted from a geological feature by calling.\n",
    "`feature.support.interpolator.get_control_points()` which returns a Nx4 matrix of position and values.\n",
    "\n",
    "Other possible options for plotting are to \n",
    "* plot point locations.\n",
    "```Python\n",
    "viewer.plot_points(position, name, **kwargs)\n",
    "```\n",
    "* plot a vector field using the gradient of a geological feature\n",
    "```Python\n",
    "viewer.plot_vector_field(feature, locations, **kwargs)\n",
    "```\n",
    "Where `locations` are an array of points to evaluate the gradient at, for example the barycentric coordinates. It is recommended to visualise the vectorfield at a lower resolution than the mesh otherwise it can be difficult to see the vectors. You can use numpy stepping along the array:\n",
    "`locations = mesh.barycentre[::20,:]` which will sample every 20th sample in the numpy array.\n"
   ]
  },
  {
   "cell_type": "code",
   "execution_count": null,
   "metadata": {
    "ExecuteTime": {
     "end_time": "2019-09-16T05:02:22.112510Z",
     "start_time": "2019-09-16T05:02:21.708Z"
    }
   },
   "outputs": [],
   "source": [
    "viewer = LavaVuModelViewer(background=\"white\")\n",
    "\n",
    "# determine the number of unique surfaces in the model from the input data and then calculate isosurfaces for this\n",
    "unique = np.unique(stratigraphy_builder.interpolator.get_control_points()[:,3])\n",
    "viewer.plot_isosurface(stratigraphy, \n",
    "                       slices=unique,  \n",
    "                       colour='blue')\n",
    "viewer.plot_value_data(stratigraphy.support.interpolator.get_control_points()[:,:3],\n",
    "                       stratigraphy.support.interpolator.get_control_points()[:,3],\n",
    "                       'val')\n",
    "\n",
    "# add additional surfaces by defining the isovalues manuall\n",
    "viewer.plot_isosurface(stratigraphy,\n",
    "                       slices=[30,125,300], \n",
    "                       colour='red')\n",
    "viewer.plot_vector_data(\n",
    "    stratigraphy.support.interpolator.get_gradient_control()[:,:3],\n",
    "    stratigraphy.support.interpolator.get_gradient_control()[:,3:],\n",
    "    'grad')\n",
    "viewer.plot_model_box(boundary_points,(38,55,30),\n",
    "                      'box',\n",
    "                     paint_with=stratigraphy,\n",
    "                     cmap='prism')\n",
    "viewer.interactive()"
   ]
  },
  {
   "cell_type": "markdown",
   "metadata": {},
   "source": [
    "### A static image of the model"
   ]
  },
  {
   "cell_type": "code",
   "execution_count": null,
   "metadata": {
    "ExecuteTime": {
     "end_time": "2019-09-16T05:02:22.113563Z",
     "start_time": "2019-09-16T05:02:21.710Z"
    }
   },
   "outputs": [],
   "source": [
    "viewer.lv.display()"
   ]
  },
  {
   "cell_type": "code",
   "execution_count": null,
   "metadata": {
    "ExecuteTime": {
     "end_time": "2019-09-16T05:02:22.114448Z",
     "start_time": "2019-09-16T05:02:21.713Z"
    }
   },
   "outputs": [],
   "source": [
    "viewer.lv.image(\"~/dev/python/FME/notebooks/images/Claudius_PLI_loop.png\")"
   ]
  },
  {
   "cell_type": "code",
   "execution_count": null,
   "metadata": {},
   "outputs": [],
   "source": []
  },
  {
   "cell_type": "code",
   "execution_count": null,
   "metadata": {},
   "outputs": [],
   "source": []
  }
 ],
 "metadata": {
  "kernelspec": {
   "display_name": "Python 3",
   "language": "python",
   "name": "python3"
  },
  "language_info": {
   "codemirror_mode": {
    "name": "ipython",
    "version": 3
   },
   "file_extension": ".py",
   "mimetype": "text/x-python",
   "name": "python",
   "nbconvert_exporter": "python",
   "pygments_lexer": "ipython3",
   "version": "3.6.8"
  },
  "varInspector": {
   "cols": {
    "lenName": 16,
    "lenType": 16,
    "lenVar": 40
   },
   "kernels_config": {
    "python": {
     "delete_cmd_postfix": "",
     "delete_cmd_prefix": "del ",
     "library": "var_list.py",
     "varRefreshCmd": "print(var_dic_list())"
    },
    "r": {
     "delete_cmd_postfix": ") ",
     "delete_cmd_prefix": "rm(",
     "library": "var_list.r",
     "varRefreshCmd": "cat(var_dic_list()) "
    }
   },
   "types_to_exclude": [
    "module",
    "function",
    "builtin_function_or_method",
    "instance",
    "_Feature"
   ],
   "window_display": false
  }
 },
 "nbformat": 4,
 "nbformat_minor": 2
}
